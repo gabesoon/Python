{
 "cells": [
  {
   "cell_type": "markdown",
   "metadata": {},
   "source": [
    "# 일원 분산 분석(ANOVA)\n",
    "---\n",
    "\n",
    "- 목적 : 셋 이상의 그룹간 차이가 존재하는지 확인하기 위한 가설 검정"
   ]
  },
  {
   "cell_type": "markdown",
   "metadata": {},
   "source": [
    "# 영 가설과 대립 가설\n",
    "---\n",
    "\n",
    "## 영 가설\n",
    "- $H_0 : \\mu_a$ = $\\mu_c$\n",
    "- $\\mu_a$:  그룹 A의 표본 평균, $\\mu_b$:  그룹 B의 표본 평균,$\\mu_c$:  그룹 C의 표본 평균\n",
    "- 즉, 모든 그룹의 평균이 같다.\n",
    "\n",
    "\n",
    "## 대립 가설\n",
    "- $H_1 : $ 최소한 한 개 그룹은 차이가 있다. "
   ]
  },
  {
   "cell_type": "markdown",
   "metadata": {},
   "source": [
    "# 일원 분산 분석을 사용해야 하는 이유\n",
    "---\n",
    "- 얼핏 보면 그룹간 조합을 나누어 독립 표본 t-검정을 여러번 분석하면 분석이 가능할 것으로 생각된다.\n",
    "    - e.g)\n",
    "    - $\\mu_a$ and $\\mu_b$ 사이 독립 표본 t-검정 확인 후,\n",
    "    - $\\mu_b$ and $\\mu_c$ 사이 독립 표본 t-검정 확인 후,\n",
    "    - $\\mu_c$ and $\\mu_a$ 사이 독립 표본 t-검정 확인하는 방식\n",
    "    \n",
    "    \n",
    "    \n",
    "- 이 경우 \"3개의 조합 중 어느 하나의 독립 표본 t-검정에 대한 영 가설이라도 기각되면, 일원 분산분석에서 세운 영 가설도 기각할 수 있을 것이다!\" 라고 생각하기 쉽다.\n",
    "---\n",
    "\n",
    "- 하지만 실제로는 3개 이상의 그룹이 있을때 이를 각각 독립 표본 t-검정을 수행할 경우, pvalue가 높아도 신뢰도 문제가 생길 수 있어 일원 분산 분석이 필요하다.<br><br>\n",
    "    - 만약 각 가설의 p-value가 0.95 (신뢰구간 0.05)인 그룹이 $k$개 있다고 하면, 해당 그룹의 모든 독립 표본 t-검정의 영 가설이 참이될 확률은 $(0.95)^k$ 가 된다.\n",
    "    - 즉, $k$가 많으면 많을 수록 그 확률은 점점 떨어지게 된다.\n",
    "    - 위의 조건에서 $k$=3  이면, 0.857이고, $k$=15이면 0.463으로 확률이 급감한다."
   ]
  },
  {
   "cell_type": "markdown",
   "metadata": {},
   "source": [
    "# 일원분산분석의 선행 조건\n",
    "---\n",
    "\n",
    "- 독립성 : 모든 그룹은 서로 독립적이어야 한다.\n",
    "\n",
    "- 정규성 : 각 그룹의 데이터는 정규분포를 따라야 한다.\n",
    "    - 그렇지 않은 경우 비모수적 검정 방법인 Kruskal-Wallis H Test를 수행하여 검정 한다.\n",
    "    \n",
    "- 등분산성 : 각 그룹의 데이터에 대한 분산이 같아야 한다.\n",
    "    - 독립표본 t-검정의 경우 통계량을 수정하였지만, ANOVA에서는 다른 검정 방식을 사용한다.\n",
    "    - 그렇지 않을 경우 비모수적 방법인 Kruskal-Wallis H Test를 수행해야 한다."
   ]
  },
  {
   "cell_type": "markdown",
   "metadata": {},
   "source": [
    "# 일원분산분석의 통계량\n",
    "---\n",
    "\n",
    "- 일반적으로 F통계량이라고 부른다.\n",
    "![image](https://user-images.githubusercontent.com/74717033/134610680-dcb01ac6-c9c4-424c-b9de-7db14421cea0.png)\n",
    "---\n",
    "\n",
    "![image](https://user-images.githubusercontent.com/74717033/134610413-8c6001d3-c34e-48d2-997b-98deec56aec2.png)\n",
    "\n",
    "- 특정 집단과 전체 집단의 차이\n",
    "- $G :$그룹 개수, $n_g:$ 그룹 $g$에 속한 샘플 수, $\\bar{x}:$모든 샘플의 평균, $\\bar{x}_g:$ 그룹 $g$에 속한 샘플의 평균\n",
    "- If, 특정 그룹의 평균($\\bar{x}_g$와 전체 그룹의 평균($\\bar{x}$) 간의 차이가 클 수록 집단 간 분산이 커진다. (=해당 $\\bar{x}_g$는 다른 그룹과 다르다.는 의미)\n",
    "---\n",
    "![image](https://user-images.githubusercontent.com/74717033/134610536-91a84c1c-8a26-4c24-9496-5704314954ef.png)\n",
    "\n",
    "- 각 집단 내의 분산의 합\n",
    "- $n$: 샘플 개수, $s_g$ : 그룹 $g$에 속한 샘플의 표준 편차\n",
    "\n",
    "---\n",
    "\n",
    "- 집단 간 분산이 크면 클수록 F통계량이 커진다.\n",
    "- 집단 내 분산이 작으면 작을 수록 F통계량이 커진다. \n",
    "    - F통계량이 커진다. = pvalue가 작아진다. = 영 가설(모든 그룹의 평균이 같다.)을 기각할 가능성이 커진다."
   ]
  },
  {
   "cell_type": "markdown",
   "metadata": {},
   "source": [
    "# 사후 분석 (Tukey HSD test)\n",
    "---\n",
    "\n",
    "- Tukey HSD (honestly significant difference) test는 일원분산분석에서 두 그룹 A와 B간의 차이가 유의한지 파악하는 방법이다.\n",
    "- 즉, 일원분산분석(ANOVA) 을 하여 그룹간 차이가 존재 한다면(영 가설 기각 = 대립 가설 채택), 그 차이가 유의한지를 파악하기 위한 것.\n",
    "    - 추가로, 3개 이상의 그룹이기 때문에 어떤 그룹 때문에 영 가설이 기각되었는지는 ANOVA로는 알수가 없다. 이를 확인하기 위해 하는 테스트 이기도 하다.\n",
    "    ---\n",
    "    \n",
    "![image](https://user-images.githubusercontent.com/74717033/134612168-dc547e11-331d-40d2-861c-46138367c339.png)\n",
    "\n",
    "- $\\mu_a$: 그룹 A의 평균, $\\mu_a$: 그룹 A의 평균, $SE$: 그룹 A와 B의 표준오차\n",
    "- $max(\\mu_a, \\mu_b)$ : 두 그룹의 평균 중 큰 값, $min(\\mu_a, \\mu_b)$ : 두 그룹의 평균 중 작은 값\n",
    "- Tukey HSD 결과가 유의수준보다 크면 두 그룹의 차이가 유의하다고 간주.\n",
    "    - 즉, 두 그룹의 차이가 존재 하기 때문에 일원분산분석의 영 가설이 기각된 것이다. 라고 판단\n",
    "---"
   ]
  },
  {
   "cell_type": "markdown",
   "metadata": {},
   "source": [
    "![image](https://user-images.githubusercontent.com/74717033/134611744-b5107458-512a-4575-afcb-ca1d0e41559a.png)"
   ]
  },
  {
   "cell_type": "markdown",
   "metadata": {},
   "source": [
    "# 일원분산 분석 코드\n",
    "---\n",
    "\n",
    "- 정규성 검정(KS test)\n",
    "    -scipy.stats.kstest(x, 'norm')\n",
    "    - pvalue가 특정 수치 미만이면 정규성을 띈다고 판단.\n",
    "    \n",
    "- 일원분산분석\n",
    "    - scipy.stats.f_oneway(sample1, sample2, sample3...)\n",
    "    - pvalue가 특정 수치 미만이면 최소한 하나의 그룹은 다른 그룹의 평균과 다르다고 판단.\n",
    "    - 즉, 3그룹이 어떤 실험이었다면, 3개중 하나의 설험은 효과가 존재 한다.\n",
    "\n",
    "- 사후 분석 \n",
    "    - statsmodels.stats.multicomp.pairwise_tukeyhsd(Data,Group)\n",
    "    - 각 그룹에 대한 데이터는 한번에 입력\n",
    "    - Group에는 group명을 각각 입력\n",
    "    - 각 그룹간 사후 분석 결과를 DataFrame으로 출력해준다. (그룹 pair별 독립 표본 분석한 형태로 출력된다.)\n",
    "    - 여기서 reject 컬럼의 bool값을 보고 판단.\n",
    "    - reject 컬럼이 True이면 두 그룹간 차이가 유의하다고 판단."
   ]
  },
  {
   "cell_type": "code",
   "execution_count": 1,
   "metadata": {
    "ExecuteTime": {
     "end_time": "2021-09-24T03:29:31.090001Z",
     "start_time": "2021-09-24T03:29:30.446711Z"
    }
   },
   "outputs": [],
   "source": [
    "# 기초 전처리\n",
    "import pandas as pd\n",
    "import numpy as np\n",
    "\n",
    "\n",
    "# 컬럼 전체 확인 가능하도록 출력 범위 설정\n",
    "pd.set_option('display.max_columns', 500)\n",
    "pd.set_option('display.width', 10000)\n",
    "\n",
    "# 불필요한 경고 표시 생략\n",
    "import warnings\n",
    "warnings.filterwarnings(action = 'ignore')\n",
    "\n",
    "# pandas 결과값의 표현 범위 소수점 2자리수로 변경\n",
    "pd.options.display.float_format = '{:.2f}'.format\n",
    "\n",
    "# 파일 로드위한 directory 확인 및 현재 경로로 설정\n",
    "import os\n",
    "a = os.getcwd()\n",
    "os.chdir(a)"
   ]
  },
  {
   "cell_type": "code",
   "execution_count": 2,
   "metadata": {
    "ExecuteTime": {
     "end_time": "2021-09-24T03:29:31.119963Z",
     "start_time": "2021-09-24T03:29:31.091995Z"
    }
   },
   "outputs": [
    {
     "data": {
      "text/html": [
       "<div>\n",
       "<style scoped>\n",
       "    .dataframe tbody tr th:only-of-type {\n",
       "        vertical-align: middle;\n",
       "    }\n",
       "\n",
       "    .dataframe tbody tr th {\n",
       "        vertical-align: top;\n",
       "    }\n",
       "\n",
       "    .dataframe thead th {\n",
       "        text-align: right;\n",
       "    }\n",
       "</style>\n",
       "<table border=\"1\" class=\"dataframe\">\n",
       "  <thead>\n",
       "    <tr style=\"text-align: right;\">\n",
       "      <th></th>\n",
       "      <th>일자</th>\n",
       "      <th>지점A</th>\n",
       "      <th>지점B</th>\n",
       "      <th>지점C</th>\n",
       "    </tr>\n",
       "  </thead>\n",
       "  <tbody>\n",
       "    <tr>\n",
       "      <th>0</th>\n",
       "      <td>1</td>\n",
       "      <td>124</td>\n",
       "      <td>118</td>\n",
       "      <td>216</td>\n",
       "    </tr>\n",
       "    <tr>\n",
       "      <th>1</th>\n",
       "      <td>2</td>\n",
       "      <td>147</td>\n",
       "      <td>141</td>\n",
       "      <td>214</td>\n",
       "    </tr>\n",
       "    <tr>\n",
       "      <th>2</th>\n",
       "      <td>3</td>\n",
       "      <td>129</td>\n",
       "      <td>130</td>\n",
       "      <td>212</td>\n",
       "    </tr>\n",
       "    <tr>\n",
       "      <th>3</th>\n",
       "      <td>4</td>\n",
       "      <td>123</td>\n",
       "      <td>127</td>\n",
       "      <td>179</td>\n",
       "    </tr>\n",
       "    <tr>\n",
       "      <th>4</th>\n",
       "      <td>5</td>\n",
       "      <td>147</td>\n",
       "      <td>107</td>\n",
       "      <td>222</td>\n",
       "    </tr>\n",
       "  </tbody>\n",
       "</table>\n",
       "</div>"
      ],
      "text/plain": [
       "   일자  지점A  지점B  지점C\n",
       "0   1  124  118  216\n",
       "1   2  147  141  214\n",
       "2   3  129  130  212\n",
       "3   4  123  127  179\n",
       "4   5  147  107  222"
      ]
     },
     "execution_count": 2,
     "metadata": {},
     "output_type": "execute_result"
    }
   ],
   "source": [
    "# 데이터 불러오기 및 확인\n",
    "df = pd.read_csv(\"지점별_일별판매량.csv\", encoding= \"cp949\")\n",
    "df.head()"
   ]
  },
  {
   "cell_type": "markdown",
   "metadata": {},
   "source": [
    "- 독립 표본 검정에서 정리했던 type2 의 자료 형태"
   ]
  },
  {
   "cell_type": "code",
   "execution_count": 3,
   "metadata": {
    "ExecuteTime": {
     "end_time": "2021-09-24T03:29:31.134880Z",
     "start_time": "2021-09-24T03:29:31.122912Z"
    }
   },
   "outputs": [],
   "source": [
    "# 데이터 분할 (결측이 포함되어 있을 수 있으므로 dropna를 사용)\n",
    "A = df['지점A'].dropna().values # Series() to nd.array()\n",
    "B = df['지점B'].dropna().values\n",
    "C = df['지점C'].dropna().values"
   ]
  },
  {
   "cell_type": "code",
   "execution_count": 4,
   "metadata": {
    "ExecuteTime": {
     "end_time": "2021-09-24T03:29:31.658532Z",
     "start_time": "2021-09-24T03:29:31.136876Z"
    }
   },
   "outputs": [
    {
     "data": {
      "text/plain": [
       "([<matplotlib.axis.XTick at 0x1a1e01e1220>,\n",
       "  <matplotlib.axis.XTick at 0x1a1e01e1a00>,\n",
       "  <matplotlib.axis.XTick at 0x1a1e021abe0>],\n",
       " [Text(1, 0, '지점 A'), Text(2, 0, '지점 B'), Text(3, 0, '지점 C')])"
      ]
     },
     "execution_count": 4,
     "metadata": {},
     "output_type": "execute_result"
    },
    {
     "data": {
      "image/png": "[encoded data removed]",
      "text/plain": [
       "<Figure size 720x720 with 1 Axes>"
      ]
     },
     "metadata": {
      "needs_background": "light"
     },
     "output_type": "display_data"
    }
   ],
   "source": [
    "# 박스플롯으로 그룹별 데이터 분포 시각화\n",
    "%matplotlib inline\n",
    "from matplotlib import pyplot as plt\n",
    "plt.rcParams[\"font.family\"] = 'Malgun Gothic'\n",
    "plt.rcParams[\"font.size\"] = 20\n",
    "plt.rcParams[\"figure.figsize\"] = (10, 10)\n",
    "plt.boxplot([A, B, C]) # 2차원 배열로 입력\n",
    "plt.xticks([1, 2, 3], ['지점 A', '지점 B', '지점 C']) # 2차원 배열 입력시 명칭 지정이 되지 않으므로 지정"
   ]
  },
  {
   "cell_type": "markdown",
   "metadata": {},
   "source": [
    "- 지점 C가 지점 A,B에 비해 평균에 차이가 확실하다.\n",
    "- 사실, 이런 경우는 ANOVA 검정 할 필요도 없이 차이가 명확하다.\n",
    "- 실제로 ANOVA 검정을 할때는 그룹간 차이가 있는지 시각화를 해도 확인이 어렵기 때문에 하는 경우가 많을 것."
   ]
  },
  {
   "cell_type": "markdown",
   "metadata": {},
   "source": [
    "# KS test (정규성 검정)"
   ]
  },
  {
   "cell_type": "code",
   "execution_count": 5,
   "metadata": {
    "ExecuteTime": {
     "end_time": "2021-09-24T03:29:32.123499Z",
     "start_time": "2021-09-24T03:29:31.660526Z"
    }
   },
   "outputs": [
    {
     "name": "stdout",
     "output_type": "stream",
     "text": [
      "KstestResult(statistic=1.0, pvalue=0.0)\n",
      "KstestResult(statistic=1.0, pvalue=0.0)\n",
      "KstestResult(statistic=1.0, pvalue=0.0)\n"
     ]
    }
   ],
   "source": [
    "from scipy.stats import *\n",
    "print(kstest(A, 'norm'))\n",
    "print(kstest(B, 'norm'))\n",
    "print(kstest(C, 'norm'))"
   ]
  },
  {
   "cell_type": "markdown",
   "metadata": {},
   "source": [
    "- 각 그룹의 pvalue 모두 정규 분포를 따르고 있다.\n",
    "- 일원분산분석을 사용하여 검정 할 수 있다."
   ]
  },
  {
   "cell_type": "markdown",
   "metadata": {},
   "source": [
    "# 일원분산 분석"
   ]
  },
  {
   "cell_type": "code",
   "execution_count": 6,
   "metadata": {
    "ExecuteTime": {
     "end_time": "2021-09-24T03:29:32.138492Z",
     "start_time": "2021-09-24T03:29:32.125493Z"
    }
   },
   "outputs": [
    {
     "name": "stdout",
     "output_type": "stream",
     "text": [
      "F_onewayResult(statistic=178.43825416847133, pvalue=1.6337420285664805e-31)\n"
     ]
    }
   ],
   "source": [
    "# 일원분산분석 수행: p-value가 거의 0에 수렴 => A, B, C의 평균은 유의한 차이가 존재\n",
    "print(f_oneway(A, B, C))"
   ]
  },
  {
   "cell_type": "markdown",
   "metadata": {},
   "source": [
    "- pvalue가 거의 0에 수렴한다. = 3 그룹에는 차이가 존재한다. = 영 가설 기각\n",
    "- 단, 어느 그룹에서 차이가 발생하는지는 알 수 없다.\n",
    "- 이를 확인하기 위해 사후 분석을 수행 해야 한다."
   ]
  },
  {
   "cell_type": "markdown",
   "metadata": {},
   "source": [
    "# 사후 분석"
   ]
  },
  {
   "cell_type": "code",
   "execution_count": 7,
   "metadata": {
    "ExecuteTime": {
     "end_time": "2021-09-24T03:29:32.183404Z",
     "start_time": "2021-09-24T03:29:32.140487Z"
    }
   },
   "outputs": [
    {
     "name": "stdout",
     "output_type": "stream",
     "text": [
      "Multiple Comparison of Means - Tukey HSD, FWER=0.05 \n",
      "====================================================\n",
      "group1 group2 meandiff p-adj  lower    upper  reject\n",
      "----------------------------------------------------\n",
      "     A      B     -1.4   0.9 -10.5745  7.7745  False\n",
      "     A      C  62.2333 0.001  53.0589 71.4078   True\n",
      "     B      C  63.6333 0.001  54.4589 72.8078   True\n",
      "----------------------------------------------------\n"
     ]
    }
   ],
   "source": [
    "from statsmodels.stats.multicomp import pairwise_tukeyhsd\n",
    "Group = ['A'] * len(A) + ['B'] * len(B) + ['C'] * len(C)\n",
    "\n",
    "# nd.array() to list() -> 데이터를 이어 붙이기 편함\n",
    "# 혹은 np.hstack()을 활용해서 이어 붙여도 된다.\n",
    "Data = A.tolist() + B.tolist() + C.tolist()\n",
    "\n",
    "print(pairwise_tukeyhsd(Data, Group))"
   ]
  },
  {
   "cell_type": "markdown",
   "metadata": {},
   "source": [
    "- A <-> B는 유의한 차이가 존재하지 않는다. = 두 그룹이 비슷하다.(reject : False)\n",
    "- A <-> C는 유의한 차이가 있다. (reject : True)\n",
    "- B <-> C도 유의한 차이가 있다. (reject : True)\n",
    "\n",
    "- 즉, A & B는 한 그룹이고(두 그룹이 비슷), C 는 별도의 그룹이다."
   ]
  },
  {
   "cell_type": "markdown",
   "metadata": {},
   "source": [
    "---\n",
    "\n",
    "- 위 결과를 바탕으로 meandiff에 차이가 발생하므로, 이를 기반으로 거리 행렬값을 구한 뒤에 각 그룹에 대한 군집화를 수행할 수 도 있다."
   ]
  }
 ],
 "metadata": {
  "kernelspec": {
   "display_name": "Python 3 (ipykernel)",
   "language": "python",
   "name": "python3"
  },
  "language_info": {
   "codemirror_mode": {
    "name": "ipython",
    "version": 3
   },
   "file_extension": ".py",
   "mimetype": "text/x-python",
   "name": "python",
   "nbconvert_exporter": "python",
   "pygments_lexer": "ipython3",
   "version": "3.8.5"
  },
  "toc": {
   "base_numbering": 1,
   "nav_menu": {},
   "number_sections": true,
   "sideBar": true,
   "skip_h1_title": false,
   "title_cell": "Table of Contents",
   "title_sidebar": "Contents",
   "toc_cell": false,
   "toc_position": {},
   "toc_section_display": true,
   "toc_window_display": false
  },
  "varInspector": {
   "cols": {
    "lenName": 16,
    "lenType": 16,
    "lenVar": 40
   },
   "kernels_config": {
    "python": {
     "delete_cmd_postfix": "",
     "delete_cmd_prefix": "del ",
     "library": "var_list.py",
     "varRefreshCmd": "print(var_dic_list())"
    },
    "r": {
     "delete_cmd_postfix": ") ",
     "delete_cmd_prefix": "rm(",
     "library": "var_list.r",
     "varRefreshCmd": "cat(var_dic_list()) "
    }
   },
   "types_to_exclude": [
    "module",
    "function",
    "builtin_function_or_method",
    "instance",
    "_Feature"
   ],
   "window_display": false
  }
 },
 "nbformat": 4,
 "nbformat_minor": 2
}
