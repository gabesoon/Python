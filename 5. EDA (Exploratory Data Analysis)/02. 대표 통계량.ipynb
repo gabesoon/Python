{
 "cells": [
  {
   "cell_type": "code",
   "execution_count": 1,
   "metadata": {
    "ExecuteTime": {
     "end_time": "2021-09-16T15:05:09.461656Z",
     "start_time": "2021-09-16T15:05:08.304766Z"
    }
   },
   "outputs": [],
   "source": [
    "import numpy as np\n",
    "from scipy.stats import *\n",
    "import pandas as pd"
   ]
  },
  {
   "cell_type": "markdown",
   "metadata": {},
   "source": [
    "# 산술 평균 계산\n",
    "---\n",
    "\n",
    "![image](https://user-images.githubusercontent.com/74717033/133614667-a554cda7-1b11-4464-a2b1-9b0e77ca5676.png)\n",
    "\n",
    "---\n",
    "- 모든 관측치의 값을 더한뒤에 관측치의 개수로 나눈 것.\n",
    "- 가장 널리 사용되는 평균으로 **연속형 변수** 에 사용한다.\n",
    "- 이진 변수에 대한 산술 평균은 **1의 비율**과 같다.\n",
    "    - e.g)\n",
    "    - 1,0의 값을 갖는 이진변수 100개의 관측치가 있다.\n",
    "    - 이때, 값이 1인 관측치가 60개라면, 값이 0인 관측치는 당연히 40개이다.\n",
    "    - 이 경우, 이진변수(1,0)에 대한 산술평균은 0.6 이고, 이는 1의 비율과 같다.\n",
    "\n",
    "- 다른 관측치에 비해 *매우 크거나 작은 값*(=이상치) 에 크게 영향을 받는다."
   ]
  },
  {
   "cell_type": "markdown",
   "metadata": {},
   "source": [
    "## 산술평균 구현 코드"
   ]
  },
  {
   "cell_type": "markdown",
   "metadata": {},
   "source": [
    "- numpy.mean(x)\n",
    "- numpy.array(x).mean()\n",
    "- Series(x).mean()"
   ]
  },
  {
   "cell_type": "code",
   "execution_count": 2,
   "metadata": {
    "ExecuteTime": {
     "end_time": "2021-09-16T15:05:09.476617Z",
     "start_time": "2021-09-16T15:05:09.464674Z"
    }
   },
   "outputs": [
    {
     "name": "stdout",
     "output_type": "stream",
     "text": [
      "3.0\n",
      "3.0\n",
      "3.0\n"
     ]
    }
   ],
   "source": [
    "x = [1, 2, 3, 4, 5]\n",
    "\n",
    "print(np.mean(x))\n",
    "\n",
    "# ndarray형태로 바꾼뒤 평균 구하기\n",
    "print(np.array(x).mean())\n",
    "\n",
    "# series형태로 바꾼뒤 평균 구하기\n",
    "print(pd.Series(x).mean())"
   ]
  },
  {
   "cell_type": "code",
   "execution_count": 3,
   "metadata": {
    "ExecuteTime": {
     "end_time": "2021-09-16T15:05:09.491577Z",
     "start_time": "2021-09-16T15:05:09.481604Z"
    }
   },
   "outputs": [
    {
     "name": "stdout",
     "output_type": "stream",
     "text": [
      "0.4\n"
     ]
    }
   ],
   "source": [
    "# 이진 변수에 대한 평균\n",
    "x = [1, 0, 0, 0, 1]\n",
    "print(np.mean(x))"
   ]
  },
  {
   "cell_type": "markdown",
   "metadata": {},
   "source": [
    "- 5개의 관측치 중 1의 개수는 2개 이므로 1의 비율은 2/5 = 0.4이다."
   ]
  },
  {
   "cell_type": "markdown",
   "metadata": {},
   "source": [
    "# 조화 평균\n",
    "---\n",
    "![image](https://user-images.githubusercontent.com/74717033/133614723-e67776dd-3869-4bc4-9a58-1c70c95e18d2.png)\n",
    "\n",
    "---\n",
    "\n",
    "- 비율 및 변화율등에 대한 평균을 계산할 때 사용\n",
    "- 데이터 역수의 합에 대한 평균을 구한 것\n",
    "- f1 score의 재현율, 정밀도의 평균을 구할때 많이 사용"
   ]
  },
  {
   "cell_type": "markdown",
   "metadata": {},
   "source": [
    "## 조화평균 구현코드"
   ]
  },
  {
   "cell_type": "markdown",
   "metadata": {},
   "source": [
    "- len(x) / numpy.sum(1/x)\n",
    "- scipy.stats.hmean(x)"
   ]
  },
  {
   "cell_type": "code",
   "execution_count": 4,
   "metadata": {
    "ExecuteTime": {
     "end_time": "2021-09-16T15:05:09.506537Z",
     "start_time": "2021-09-16T15:05:09.494569Z"
    }
   },
   "outputs": [
    {
     "name": "stdout",
     "output_type": "stream",
     "text": [
      "0.21897810218978103\n",
      "0.21897810218978103\n"
     ]
    }
   ],
   "source": [
    "x = np.array([0.1, 0.2, 0.3, 0.4, 0.5])\n",
    "print(len(x) / np.sum(1/x))\n",
    "print(hmean(x))"
   ]
  },
  {
   "cell_type": "markdown",
   "metadata": {},
   "source": [
    "# 절사 평균\n",
    "---\n",
    "![image](https://user-images.githubusercontent.com/74717033/133614925-5f5b6959-0ab4-4fe5-aa42-9d4ac208f85d.png)\n",
    "\n",
    "---\n",
    "\n",
    "- 데이터에서 a ~ 1 - a 범위에 속하는 데이터에 대해서만 평균을 낸 것\n",
    "    - e.g)\n",
    "    - 데이터가 100개가 있을때 1 ~ 100등까지 순서를 매긴다.\n",
    "    - 1 ~ 10등, 90 ~ 100등의 수는 평균을 구할때 제외하고 평균을 구한다.\n",
    "    - 위의 값들이 너무 크거나 작아서(이상치) 평균값에 영향을 많이 끼칠 수 있기 때문에 제외하는 것.\n",
    "- 절사평균을 통해 조금더 안정적인 대표값을 구할 수 있다는 장점이 있다.\n",
    "- 반면에 a(알파)값을 어떻게 선정하는 것이 가장 안정적인 대표값을 구할 수 있는 것인가에 대한 문제가 남아있다."
   ]
  },
  {
   "cell_type": "markdown",
   "metadata": {},
   "source": [
    "## 절사평균 구현 코드"
   ]
  },
  {
   "cell_type": "markdown",
   "metadata": {},
   "source": [
    "- scipy.stats.trim_mean(x, proportitiontocut)\n",
    "\n",
    "proportiontocut : 절단할 비율 (a, 알파값)"
   ]
  },
  {
   "cell_type": "markdown",
   "metadata": {},
   "source": [
    "## 왜 절사평균이 필요할까?"
   ]
  },
  {
   "cell_type": "code",
   "execution_count": 5,
   "metadata": {
    "ExecuteTime": {
     "end_time": "2021-09-16T15:05:09.522494Z",
     "start_time": "2021-09-16T15:05:09.513518Z"
    }
   },
   "outputs": [
    {
     "name": "stdout",
     "output_type": "stream",
     "text": [
      "1948076.7413029529\n"
     ]
    }
   ],
   "source": [
    "# 평균이 2백만원이고 표준편차가 50만원인 정규 분포를 따르는 소득을 갖는 100명 생성\n",
    "np.random.seed(42)\n",
    "income = np.random.normal(2000000, 500000, 100)\n",
    "print(np.mean(income))"
   ]
  },
  {
   "cell_type": "code",
   "execution_count": 6,
   "metadata": {
    "ExecuteTime": {
     "end_time": "2021-09-16T15:05:09.554408Z",
     "start_time": "2021-09-16T15:05:09.528478Z"
    }
   },
   "outputs": [
    {
     "name": "stdout",
     "output_type": "stream",
     "text": [
      "11829778.951785102\n"
     ]
    }
   ],
   "source": [
    "income = np.append(income, 10**9) # 갑자기, 소득이 10억원인 사람의 등장 (=이상치)\n",
    "print(np.mean(income)) # 100명의 소득이 약 200만원에 가까운데, 한 명 때문에 대표값인 평균이 약 1200만원에 달함"
   ]
  },
  {
   "cell_type": "markdown",
   "metadata": {},
   "source": [
    "- 위와 같이 이상치로 인해 전체적인 평균값이 왜곡되는 현상이 발생하기 때문"
   ]
  },
  {
   "cell_type": "markdown",
   "metadata": {},
   "source": [
    "## 절사 평균 계산"
   ]
  },
  {
   "cell_type": "code",
   "execution_count": 7,
   "metadata": {
    "ExecuteTime": {
     "end_time": "2021-09-16T15:05:09.584329Z",
     "start_time": "2021-09-16T15:05:09.565380Z"
    }
   },
   "outputs": [
    {
     "data": {
      "text/plain": [
       "1963340.8417787259"
      ]
     },
     "execution_count": 7,
     "metadata": {},
     "output_type": "execute_result"
    }
   ],
   "source": [
    "trim_mean(income, 0.2) \n",
    "# proportiontocut은 0.2 -> 앞뒤 20%씩 자르고, [20% ~ 80%] 사이의 값에 대한 평균만 구하는 것"
   ]
  },
  {
   "cell_type": "markdown",
   "metadata": {},
   "source": [
    "# 최빈값\n",
    "---\n",
    "\n",
    "- 한 변수가 **가장 많이 취한 값**을 의미한다.\n",
    "    - 하나의 범주형 변수인 컬럼에서 가장 많이 나온 값(최빈값)\n",
    "- 범주형 변수에 대해서만 적용된다."
   ]
  },
  {
   "cell_type": "markdown",
   "metadata": {},
   "source": [
    "## 최빈값 구현 코드\n",
    "---"
   ]
  },
  {
   "cell_type": "markdown",
   "metadata": {},
   "source": [
    "- scipy.stats.mode(x)\n",
    "- Series.value_counts().index[0]\n",
    "    - 단 Series를 이용한 방법은 최빈값이 2개 이상 나올시 사용불가.\n",
    "    - 때문에 실제로는 scipy의 mode함수를 사용하는것이 더 안전하다."
   ]
  },
  {
   "cell_type": "code",
   "execution_count": 8,
   "metadata": {
    "ExecuteTime": {
     "end_time": "2021-09-16T15:05:09.599290Z",
     "start_time": "2021-09-16T15:05:09.587321Z"
    }
   },
   "outputs": [
    {
     "data": {
      "text/plain": [
       "array(['C', 'A', 'C', 'C', 'A', 'A', 'C', 'B', 'C', 'C'], dtype='<U1')"
      ]
     },
     "execution_count": 8,
     "metadata": {},
     "output_type": "execute_result"
    }
   ],
   "source": [
    "# A, B, C중 한개의 값만 1000번 뽑기\n",
    "np.random.seed(42)\n",
    "x = np.random.choice(['A', 'B', 'C'], 1000) \n",
    "\n",
    "# 맨 앞의 10개만 확인\n",
    "x[:10]"
   ]
  },
  {
   "cell_type": "code",
   "execution_count": 9,
   "metadata": {
    "ExecuteTime": {
     "end_time": "2021-09-16T15:05:09.614249Z",
     "start_time": "2021-09-16T15:05:09.602282Z"
    }
   },
   "outputs": [
    {
     "data": {
      "text/plain": [
       "ModeResult(mode=array(['A'], dtype='<U1'), count=array([355]))"
      ]
     },
     "execution_count": 9,
     "metadata": {},
     "output_type": "execute_result"
    }
   ],
   "source": [
    "mode(x) # [0]: 최빈값, [1]: 빈도"
   ]
  },
  {
   "cell_type": "markdown",
   "metadata": {},
   "source": [
    "즉, 최빈값은 A이고, 그 횟수는 355회이다."
   ]
  },
  {
   "cell_type": "code",
   "execution_count": 10,
   "metadata": {
    "ExecuteTime": {
     "end_time": "2021-09-16T15:05:09.629210Z",
     "start_time": "2021-09-16T15:05:09.616244Z"
    }
   },
   "outputs": [
    {
     "data": {
      "text/plain": [
       "'A'"
      ]
     },
     "execution_count": 10,
     "metadata": {},
     "output_type": "execute_result"
    }
   ],
   "source": [
    "pd.Series(x).value_counts().index[0] # 맨 앞에 있는 것이 최빈 값"
   ]
  }
 ],
 "metadata": {
  "kernelspec": {
   "display_name": "Python 3 (ipykernel)",
   "language": "python",
   "name": "python3"
  },
  "language_info": {
   "codemirror_mode": {
    "name": "ipython",
    "version": 3
   },
   "file_extension": ".py",
   "mimetype": "text/x-python",
   "name": "python",
   "nbconvert_exporter": "python",
   "pygments_lexer": "ipython3",
   "version": "3.8.5"
  },
  "toc": {
   "base_numbering": 1,
   "nav_menu": {},
   "number_sections": true,
   "sideBar": true,
   "skip_h1_title": false,
   "title_cell": "Table of Contents",
   "title_sidebar": "Contents",
   "toc_cell": false,
   "toc_position": {},
   "toc_section_display": true,
   "toc_window_display": true
  },
  "varInspector": {
   "cols": {
    "lenName": 16,
    "lenType": 16,
    "lenVar": 40
   },
   "kernels_config": {
    "python": {
     "delete_cmd_postfix": "",
     "delete_cmd_prefix": "del ",
     "library": "var_list.py",
     "varRefreshCmd": "print(var_dic_list())"
    },
    "r": {
     "delete_cmd_postfix": ") ",
     "delete_cmd_prefix": "rm(",
     "library": "var_list.r",
     "varRefreshCmd": "cat(var_dic_list()) "
    }
   },
   "types_to_exclude": [
    "module",
    "function",
    "builtin_function_or_method",
    "instance",
    "_Feature"
   ],
   "window_display": false
  }
 },
 "nbformat": 4,
 "nbformat_minor": 2
}
