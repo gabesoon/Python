{
 "cells": [
  {
   "attachments": {},
   "cell_type": "markdown",
   "metadata": {},
   "source": [
    "# EDA(탐색적 데이터 분석)이란? (통계 분석 & 시각화)\n",
    "![image](https://user-images.githubusercontent.com/74717033/133603101-1ba668fc-eefb-4679-91c3-da14b1edc2d2.png)"
   ]
  },
  {
   "cell_type": "markdown",
   "metadata": {},
   "source": [
    "이 과정을 통해 얻은 인사이트를 통해 ML의 전처리에 활용하거나 모델 선정에 활용할 수 있다.\n",
    "\n",
    "또한, Insight 자체로도 새로운 결론을 내거나 새로운 데이터를 검색 추가 하는데 사용할 수 도 있다."
   ]
  },
  {
   "cell_type": "markdown",
   "metadata": {},
   "source": [
    "# 탐색적 데이터 분석의 필요성"
   ]
  },
  {
   "cell_type": "markdown",
   "metadata": {},
   "source": [
    "1. 데이터를 여러 각도에서 살표보면서 데이터의 '전체적인 양상'과 '보이지 않던 현상'을 더 잘 이해할 수 있다.\n",
    "\n",
    "2. 문제정의 단계에서 발견하지 못한 패턴을 발견, 이를 바탕으로 데이터 전처리 및 모델에 대한 '가설' 을 '추가하거나 수정' 할 수 있다.\n",
    "\n",
    "즉, 본격적인 데이터 분석에 앞서 구체적인 분석 계획을 수립하는데 도움이 된다.\n",
    "\n",
    "---\n",
    "대부분의 데이터 분석의 핵심은 결국 '가설 검정' , 이를 이용한 결과 도출이 핵심. \n",
    "\n",
    "여기서 중요한 것은 '어떤 가설을 수립하는가' 이다. 그러므로 EDA를 잘 하는 것이 좋은 데이터 분석의 시작점이다."
   ]
  },
  {
   "cell_type": "markdown",
   "metadata": {},
   "source": [
    "# 탐색적 데이터 분석은 가설 수립 및 검정 의 반복이다."
   ]
  },
  {
   "attachments": {},
   "cell_type": "markdown",
   "metadata": {},
   "source": [
    "![image](https://user-images.githubusercontent.com/74717033/133603135-eab96883-444b-4257-bf68-afa62ed18859.png)"
   ]
  },
  {
   "cell_type": "markdown",
   "metadata": {},
   "source": [
    "가설 검정은 실질적으로 통계분석을 통한 `통계적 가설검정` 과 단순히 `데이터를 확인`하는 과정 2가지를 통해 대부분 검증을 하게 된다.\n",
    "\n",
    "이를 바탕으로 Insight를 발견하고 그것을 기반으로 분석계획을 구체화 하는 것이 EDA의 핵심"
   ]
  },
  {
   "cell_type": "markdown",
   "metadata": {},
   "source": [
    "## 실제 EDA 예시\n",
    "\n",
    "어떤 보험사에서 고객의 이탈이 크게 늘고 있는 상황. 이탈할 고객들을 미리 식별하는 모델을 만들고, 이탈할 것이라 예상되는 고객을 관리하여 이탈률을 줄이는 것이 데이터 분석의 목적\n",
    "\n",
    "**가장 먼저 선행되어야 할 것은 `고객의 이탈원인을 파악` 하는 것이고, `파악된 원인을 모델의 특징`으로서 사용해야 한다.**"
   ]
  },
  {
   "attachments": {},
   "cell_type": "markdown",
   "metadata": {},
   "source": [
    "![image](https://user-images.githubusercontent.com/74717033/133603155-8648ef24-d50d-441e-a4a8-b5e1bc8090a0.png)\n",
    "\n",
    "위의 가설은 순전히 보험사의 '도메인 지식' 을 활용해서 설정한 가설이다."
   ]
  },
  {
   "cell_type": "markdown",
   "metadata": {},
   "source": [
    "# 탐색적 데이터 분석에서 주로 다룰 내용 top4"
   ]
  },
  {
   "attachments": {},
   "cell_type": "markdown",
   "metadata": {},
   "source": [
    "![image](https://user-images.githubusercontent.com/74717033/133603188-6039f4c8-2ee4-432d-bf83-2828aeab64eb.png)"
   ]
  },
  {
   "cell_type": "markdown",
   "metadata": {},
   "source": [
    "## 1. 분석 목적 및 변수 확인\n",
    "---\n",
    "이 부분이 굉장히 지루하고 정답이 없는 작업이라 대부분 건너뛰게 된다.\n",
    "\n",
    "하지만 정확한 이해 없이 데이터를 분석한다면, 코드를 알아서 시각화는 이쁘게 할 수 있더라도 좋은 결과를 얻는 것은 무리이다.\n",
    "\n",
    "'가장 먼저 해야 하면서 가장 중요한 작업'"
   ]
  },
  {
   "cell_type": "markdown",
   "metadata": {},
   "source": [
    "## 2. 데이터 전체적으로 살펴보기\n",
    "----\n",
    "특별한 통계분석없이 전체적으로 그냥 살펴보는 것 - 모든 값들을 랜덤하게 샘플링해서 확인"
   ]
  },
  {
   "cell_type": "markdown",
   "metadata": {},
   "source": [
    "## 3. 개별 속성값 확인\n",
    "---\n",
    "통계량을 내고, 시각화하고, 적합성 검정을 하는 것은 중요한데, 이걸 하는 이유가 무엇인지를 알고하는 것이 중요!\n",
    "\n",
    "만들어낸 결과치를 가지고 '다음에 무엇을 할 것인가?' 를 파악해내서 다음 단계로 연결시키는 것 포인트\n",
    "\n",
    "e.g) 결과를 가지고 얻은 Insight를 바탕으로 가설을 세워서 검증시도."
   ]
  }
 ],
 "metadata": {
  "kernelspec": {
   "display_name": "Python 3",
   "language": "python",
   "name": "python3"
  },
  "language_info": {
   "codemirror_mode": {
    "name": "ipython",
    "version": 3
   },
   "file_extension": ".py",
   "mimetype": "text/x-python",
   "name": "python",
   "nbconvert_exporter": "python",
   "pygments_lexer": "ipython3",
   "version": "3.8.5"
  },
  "toc": {
   "base_numbering": 1,
   "nav_menu": {},
   "number_sections": true,
   "sideBar": true,
   "skip_h1_title": false,
   "title_cell": "Table of Contents",
   "title_sidebar": "Contents",
   "toc_cell": false,
   "toc_position": {},
   "toc_section_display": true,
   "toc_window_display": false
  },
  "varInspector": {
   "cols": {
    "lenName": 16,
    "lenType": 16,
    "lenVar": 40
   },
   "kernels_config": {
    "python": {
     "delete_cmd_postfix": "",
     "delete_cmd_prefix": "del ",
     "library": "var_list.py",
     "varRefreshCmd": "print(var_dic_list())"
    },
    "r": {
     "delete_cmd_postfix": ") ",
     "delete_cmd_prefix": "rm(",
     "library": "var_list.r",
     "varRefreshCmd": "cat(var_dic_list()) "
    }
   },
   "types_to_exclude": [
    "module",
    "function",
    "builtin_function_or_method",
    "instance",
    "_Feature"
   ],
   "window_display": false
  }
 },
 "nbformat": 4,
 "nbformat_minor": 4
}
