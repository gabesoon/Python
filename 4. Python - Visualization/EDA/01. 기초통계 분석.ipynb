{
 "cells": [
  {
   "cell_type": "markdown",
   "metadata": {},
   "source": [
    "# 사전 지식: 확률 변수"
   ]
  },
  {
   "cell_type": "markdown",
   "metadata": {},
   "source": [
    "---\n",
    "\n",
    "- 변수 (variable) : 특정 조건에 따라 변하는 값\n",
    "- 확률 변수 (random variable) : 특정 값(or 범위)을 **확률에 따라 취하는** 변수\n",
    "    - e.g) 주사위를 던졌을때 나오는 결과를 나타내는 변수 X\n",
    "\n",
    "![image](https://user-images.githubusercontent.com/74717033/133619659-8b6cf3a1-ad0a-46ef-ba7d-3c9c59d5f131.png)\n",
    "\n",
    "- 상태공간 : 확률 변수가 가질 수 있는 값의 범위 (집합)을 의미\n",
    "    - 상태공간의 크기에 따라 변수의 형태를 정의한다.\n",
    "    - **상태 공간의 크기가 무한 : 연속 확률 변수**\n",
    "    - **상태 공간의 크기가 유한 : 이산 확률 변수**\n",
    "- 일반적으로 변수가 float형이면 연속변수, string이면 이산변수 라고 무조건적으로 판단하는 것은 옳지 않다.\n",
    "\n",
    "- 실제 데이터를 다룰때는 도메인 지식이 없다면 해당 변수가 무한인지 유한인지 파악하기 어렵다.\n",
    "- 이 경우, 현재 dataset이 가진 unique()값을 구해서 \n",
    "    - 해당 값이 많으면 연속확률 변수일 가능성이 크다.\n",
    "    - 해당 값이 적으면 이산확률 변수일 가능성이 크다.\n",
    "    - 정도로만 가정하고 분석을 하는 것이 옳다.\n",
    "\n",
    "- 일반적으로 데이터 분석에 사용되는 관측된 데이터는 특별한 경우를 제외하고는 모두 **확률변수** 이다."
   ]
  },
  {
   "cell_type": "markdown",
   "metadata": {},
   "source": [
    "## 확률 분포\n",
    "---\n",
    "\n",
    "- 확률 분포(probability distribution) : 확률 변수가 특정한 값을 취할 확률을 나타내는 함수\n",
    "\n",
    "![image](https://user-images.githubusercontent.com/74717033/133622437-c889dba4-52b9-4547-983d-294d82a9b8cc.png)\n",
    "\n"
   ]
  },
  {
   "cell_type": "markdown",
   "metadata": {},
   "source": [
    "### 이산 확률 분포\n",
    "---\n",
    "\n",
    "- 이산형 변수에 대한 확률 분포\n",
    "- 대체로, Pr = f(x) 이다.\n",
    "    - x 가 4일때 f(x) = 0.1 * 4 = 0.4 이고, Pr의 X = x이므로, 이또한 0.4이다.\n",
    "    - 즉, Pr이 0.4 일때 x가 4일 확률은 0.4 인 것과 같은 의미\n",
    "- 모든 확률을 더한 값은 1이 된다."
   ]
  },
  {
   "cell_type": "markdown",
   "metadata": {},
   "source": [
    "### 연속 확률 분포\n",
    "---\n",
    "- 연속 확률변수의 경우 특정 값을 가질 확률(Pr)은 무조건 0이다.\n",
    "- 연속 확률 변수는 상태공간이 '무한' 이다. 따라서 무한한 상태 공간에서 특정한 값을 1개 취할 확률은 한없이 0에 가깝기 때문이다.\n",
    "- 따라서, 연속확률 분포의 확률은 함수의 값 자체가 확률이 되는 것이 아니라, 확률을 갖는 공간 (그림상에선 2~ 3사의 면적)이 확률(Pr)이 된다."
   ]
  },
  {
   "cell_type": "markdown",
   "metadata": {},
   "source": [
    "# 왜 기초 통계분석이 필요한가?\n",
    "\n",
    "## 확률 분포를 확인하는 방법\n",
    "\n",
    "- 실질적으로 우리는 아주 특별한 경우 (주사위, 동전 등) 를 제외하고는 확률 분포를 정확하게 알 수 없다.\n",
    "- 하지만 확률 분포가 어떠한지를 확인했을때는 어떤 효과가 있는가?"
   ]
  },
  {
   "cell_type": "markdown",
   "metadata": {},
   "source": [
    "1) 현재 수집한 데이터가 어떻게 생겼는지 이해할 수 있다.\n",
    "\n",
    "2) 새로 데이터가 추가되면 어떻게 들어올 것인지 예상할 수 있다."
   ]
  },
  {
   "cell_type": "markdown",
   "metadata": {},
   "source": [
    "---\n",
    "\n",
    "- 다만, 우리가 현실에서 구할 수 있는 데이터는 항상 Sample이다. (전체 데이터는 절대 구할 수 없다.)\n",
    "- 그러므로 정확하게 한 변수가 따르는 확률 분포가 무엇인지는 절대로 알 수 없다.\n",
    "- 간접적으로 나마 이를 확인할 수 있는 방법이 Sample데이터를 통해 **시각화하거나 적합성 검정을 하여 확률 분포를 확인하는 방법**이다.\n",
    "    - 하지만 이 방법 또한 통계적 지식이 없이는 정확하게 해낼 수가 없다."
   ]
  },
  {
   "cell_type": "markdown",
   "metadata": {},
   "source": [
    "## 간단하게 확률 분포를 확인하는 방법 : 통계량 (by 기초 통계 분석)\n",
    "---\n",
    "\n",
    "- 기초 통계분석을 통해 확률분포에 대한 기초적인 이해를 할 수 있다.\n",
    "- 기초 통계 분석 : 통계량을 분석하는 방법을 의미\n",
    "- 통계량 : 확률 분포의 '특성'을 나타내는 지표\n",
    "- 통계량을 계산하는 기초 통계분석 (= 기술 통계 분석) 을 바탕으로 확률 분포를 간단하게 확인할 수 있다.\n",
    "    - 물론, 각 통계량의 의미를 알고 있어야 한다.\n",
    "- 기초 통계분석은 특히 변수가 많은 경우에 더욱 효과적이다."
   ]
  },
  {
   "cell_type": "markdown",
   "metadata": {},
   "source": [
    "## 통계량의 종류"
   ]
  },
  {
   "attachments": {},
   "cell_type": "markdown",
   "metadata": {},
   "source": [
    "![image](https://user-images.githubusercontent.com/74717033/133625810-30e7e7e8-072d-4a1d-9c4d-b1c20645a531.png)"
   ]
  }
 ],
 "metadata": {
  "kernelspec": {
   "display_name": "Python 3",
   "language": "python",
   "name": "python3"
  },
  "language_info": {
   "codemirror_mode": {
    "name": "ipython",
    "version": 3
   },
   "file_extension": ".py",
   "mimetype": "text/x-python",
   "name": "python",
   "nbconvert_exporter": "python",
   "pygments_lexer": "ipython3",
   "version": "3.8.5"
  },
  "toc": {
   "base_numbering": 1,
   "nav_menu": {},
   "number_sections": true,
   "sideBar": true,
   "skip_h1_title": false,
   "title_cell": "Table of Contents",
   "title_sidebar": "Contents",
   "toc_cell": false,
   "toc_position": {},
   "toc_section_display": true,
   "toc_window_display": true
  },
  "varInspector": {
   "cols": {
    "lenName": 16,
    "lenType": 16,
    "lenVar": 40
   },
   "kernels_config": {
    "python": {
     "delete_cmd_postfix": "",
     "delete_cmd_prefix": "del ",
     "library": "var_list.py",
     "varRefreshCmd": "print(var_dic_list())"
    },
    "r": {
     "delete_cmd_postfix": ") ",
     "delete_cmd_prefix": "rm(",
     "library": "var_list.r",
     "varRefreshCmd": "cat(var_dic_list()) "
    }
   },
   "types_to_exclude": [
    "module",
    "function",
    "builtin_function_or_method",
    "instance",
    "_Feature"
   ],
   "window_display": false
  }
 },
 "nbformat": 4,
 "nbformat_minor": 4
}
