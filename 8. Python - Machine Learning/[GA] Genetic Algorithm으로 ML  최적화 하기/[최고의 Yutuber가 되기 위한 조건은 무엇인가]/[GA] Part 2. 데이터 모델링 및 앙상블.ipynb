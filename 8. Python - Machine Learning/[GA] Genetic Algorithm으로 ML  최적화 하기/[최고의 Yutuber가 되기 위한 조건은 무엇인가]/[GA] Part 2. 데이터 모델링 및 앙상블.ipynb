{
 "cells": [
  {
   "cell_type": "markdown",
   "metadata": {},
   "source": [
    "# Intro\n",
    "\n",
    "- 유투브 영상의 Views를 예측하는 회귀모델을 만들고자 한다.\n",
    "- 총 6개의 모델 (En, RF, MLP, XGB, SVM, KNN)을 만들고 해당 모델들을 Voting 앙상블 하여 최적의 모델을 도출하였다."
   ]
  },
  {
   "cell_type": "markdown",
   "metadata": {
    "id": "R9mjxzM0O9X4"
   },
   "source": [
    "# 5. 모델 생성 및 최적화\n",
    "----\n",
    "\n",
    "- 여러개의 모델을 만들어서 각각에 데이터를 적용"
   ]
  },
  {
   "cell_type": "code",
   "execution_count": 51,
   "metadata": {
    "ExecuteTime": {
     "end_time": "2021-11-05T08:56:54.988060Z",
     "start_time": "2021-11-05T08:56:54.975065Z"
    },
    "id": "9lHy5bThz1JT"
   },
   "outputs": [],
   "source": [
    "# 여러개의 모델 결과를 df로 만들기 위한 공통 list생성\n",
    "model_name = []\n",
    "train_perf = []\n",
    "test_perf = []"
   ]
  },
  {
   "cell_type": "markdown",
   "metadata": {},
   "source": [
    "## ElasticNet"
   ]
  },
  {
   "cell_type": "code",
   "execution_count": 52,
   "metadata": {
    "ExecuteTime": {
     "end_time": "2021-11-05T08:57:12.757526Z",
     "start_time": "2021-11-05T08:56:54.989059Z"
    },
    "colab": {
     "base_uri": "https://localhost:8080/",
     "height": 557
    },
    "id": "atNzceVwLCJP",
    "outputId": "95088c81-a5b5-4cb8-c401-f978c4619b95"
   },
   "outputs": [
    {
     "name": "stdout",
     "output_type": "stream",
     "text": [
      "Fitting 5 folds for each of 1900 candidates, totalling 9500 fits\n",
      "Best_estimator: ElasticNet(alpha=0.002700000000000001, l1_ratio=0.9, max_iter=100000000,\n",
      "           random_state=42, tol=0.1)\n",
      "Best_params: {'alpha': 0.002700000000000001, 'l1_ratio': 0.9, 'tol': 0.1}\n",
      "Best_score: 0.7474337468194194\n",
      "Train score: 0.7533408115852761\n",
      "Test  score: 0.5587733983078278\n"
     ]
    },
    {
     "data": {
      "image/png": "[encoded data removed]",
      "text/plain": [
       "<Figure size 432x288 with 1 Axes>"
      ]
     },
     "metadata": {
      "needs_background": "light"
     },
     "output_type": "display_data"
    }
   ],
   "source": [
    "# 모델 선언\n",
    "# 계산 부하가 적은 모델이므로 max_iter은 충분하게 부여한다.\n",
    "en_model = ElasticNet(max_iter=100000000, random_state=42)\n",
    "\n",
    "\n",
    "# 파라미터 최적화 범위 설정\n",
    "\"\"\"\n",
    "- l1_ratio : L1 & L2 규제 중 어느 것을 더 많이 사용할 것인가.\n",
    "             0~1 사이 값. 1-l1_ratio = L2 ratio\n",
    "- alpha : 가중치\n",
    "- tol : threshold를 어느정도의 값 이하로 진행될 것인가.\n",
    "\"\"\"\n",
    "en_param = {'l1_ratio': np.arange(0.9, 0.995, 0.005),\n",
    "            'alpha': np.arange(0.0008, 0.0028, 0.0001),\n",
    "            'tol': [1e-2, 3.16e-2, 1e-1, 3.16e-1, 1e0]}\n",
    "\n",
    "\n",
    "# GridSearch 로 hyper parameter 튜닝\n",
    "\"\"\"\n",
    "n_jobs = -1 : 모든 core를 사용하겠다.\n",
    "verbose=3 : 진행 상황을 얼마나 자주 report할 것인지\n",
    "\"\"\"\n",
    "clf = GridSearchCV(estimator=en_model, param_grid=en_param, n_jobs=-1, verbose=3)\n",
    "clf.fit(x_train_scaled, y_train) # data input\n",
    "y_train_pred = clf.predict(x_train_scaled) # train_prediction\n",
    "y_test_pred = clf.predict(x_test_scaled) # test_prediction\n",
    "\n",
    "# Parameter 추출\n",
    "print('Best_estimator:', clf.best_estimator_)\n",
    "print('Best_params:', clf.best_params_)\n",
    "print('Best_score:', clf.best_score_)\n",
    "\n",
    "# Train & Test의 score 추출하여 비교 by r2_score\n",
    "train_score = r2_score(y_train_pred, y_train)\n",
    "print('Train score:', train_score)\n",
    "test_score = r2_score(y_test_pred, y_test)\n",
    "print('Test  score:', test_score)\n",
    "\n",
    "# 결과를 공통 list에 저장\n",
    "model_name.append('Elastic Net')\n",
    "train_perf.append(train_score)\n",
    "test_perf.append(test_score)\n",
    "\n",
    "# 결과 시각화 with scatter plot\n",
    "plt.title('Prediction vs ground truth scatter plot (Elastic Net)')\n",
    "plt.xlabel('Prediction')\n",
    "plt.ylabel('Ground truth')\n",
    "plt.grid()\n",
    "plt.scatter(y_test_pred, y_test);"
   ]
  },
  {
   "cell_type": "code",
   "execution_count": 73,
   "metadata": {
    "ExecuteTime": {
     "end_time": "2021-11-05T09:03:56.350876Z",
     "start_time": "2021-11-05T09:03:56.334890Z"
    },
    "id": "mIndmPTcNn9R"
   },
   "outputs": [],
   "source": [
    "# 최적의 결과를 모델에 적용\n",
    "en_model = ElasticNet(alpha=0.0027, l1_ratio=0.9, tol=0.1, max_iter=100000000, random_state=42)"
   ]
  },
  {
   "cell_type": "markdown",
   "metadata": {},
   "source": [
    "## Random Forest Regressor"
   ]
  },
  {
   "cell_type": "code",
   "execution_count": 54,
   "metadata": {
    "ExecuteTime": {
     "end_time": "2021-11-05T08:58:42.515595Z",
     "start_time": "2021-11-05T08:57:12.780464Z"
    },
    "colab": {
     "base_uri": "https://localhost:8080/",
     "height": 575
    },
    "id": "C2Z_IyDuLCOM",
    "outputId": "a2bdcc0a-6e38-4ec8-ba19-bcb04293e61b"
   },
   "outputs": [
    {
     "name": "stdout",
     "output_type": "stream",
     "text": [
      "Fitting 5 folds for each of 27 candidates, totalling 135 fits\n",
      "Best_estimator: RandomForestRegressor(max_depth=30, n_estimators=96, n_jobs=-1, random_state=42)\n",
      "Best_params: {'max_depth': 30, 'min_samples_split': 2, 'n_estimators': 96}\n",
      "Best_score: 0.7177836574357326\n",
      "Train score: 0.9357138691827017\n",
      "Test  score: 0.7504533464068426\n"
     ]
    },
    {
     "data": {
      "image/png": "[encoded data removed]",
      "text/plain": [
       "<Figure size 432x288 with 1 Axes>"
      ]
     },
     "metadata": {
      "needs_background": "light"
     },
     "output_type": "display_data"
    }
   ],
   "source": [
    "rf_model = RandomForestRegressor(n_jobs=-1, random_state=42) # 모델 정의\n",
    "\n",
    "# parameter 정의\n",
    "\"\"\"\n",
    "n_estimators : bagging 하는 tree의 개수\n",
    "max_depth : tree의 깊이 (데이터의 성질, 품질, 양에 따라 다르다.)\n",
    "min_samples_split : split하는 최소 sample의 개수\n",
    "\"\"\"\n",
    "rf_param = {'n_estimators': range(76, 136, 20),\n",
    "            'max_depth': range(30, 42, 4),\n",
    "            'min_samples_split': range(2, 5, 1)}\n",
    "\n",
    "clf = GridSearchCV(estimator=rf_model, param_grid=rf_param, n_jobs=-1, verbose=2)\n",
    "\n",
    "clf.fit(x_train_scaled, y_train)\n",
    "y_train_pred = clf.predict(x_train_scaled)\n",
    "y_test_pred = clf.predict(x_test_scaled)\n",
    "\n",
    "print('Best_estimator:', clf.best_estimator_)\n",
    "print('Best_params:', clf.best_params_)\n",
    "print('Best_score:', clf.best_score_)\n",
    "train_score = r2_score(y_train_pred, y_train)\n",
    "print('Train score:', train_score)\n",
    "test_score = r2_score(y_test_pred, y_test)\n",
    "print('Test  score:', test_score)\n",
    "\n",
    "model_name.append('Random Forest')\n",
    "train_perf.append(train_score)\n",
    "test_perf.append(test_score)\n",
    "\n",
    "plt.title('Prediction vs ground truth scatter plot (Random Forest)')\n",
    "plt.xlabel('Prediction')\n",
    "plt.ylabel('Ground truth')\n",
    "plt.grid()\n",
    "plt.scatter(y_test_pred, y_test);"
   ]
  },
  {
   "cell_type": "markdown",
   "metadata": {},
   "source": [
    "- ElasticNet에 비해 Test score이 많이 향상되었다."
   ]
  },
  {
   "cell_type": "code",
   "execution_count": 72,
   "metadata": {
    "ExecuteTime": {
     "end_time": "2021-11-05T09:03:52.834929Z",
     "start_time": "2021-11-05T09:03:52.815980Z"
    },
    "id": "EoqJddbXW4oX"
   },
   "outputs": [],
   "source": [
    "# 최적의 결과를 모델에 적용\n",
    "rf_model = RandomForestRegressor(n_estimators=96, max_depth=30, min_samples_split=2, n_jobs=-1, random_state=42)"
   ]
  },
  {
   "cell_type": "markdown",
   "metadata": {},
   "source": [
    "### Random Forest의 feature importance 확인"
   ]
  },
  {
   "cell_type": "code",
   "execution_count": 74,
   "metadata": {
    "ExecuteTime": {
     "end_time": "2021-11-05T09:04:01.579428Z",
     "start_time": "2021-11-05T09:04:00.461421Z"
    },
    "colab": {
     "base_uri": "https://localhost:8080/",
     "height": 297
    },
    "id": "3V-r3wllLCSb",
    "outputId": "cfeca20b-44ff-490e-d0f5-c4ab591875c2"
   },
   "outputs": [
    {
     "data": {
      "image/png": "[encoded data removed]",
      "text/plain": [
       "<Figure size 432x288 with 1 Axes>"
      ]
     },
     "metadata": {
      "needs_background": "light"
     },
     "output_type": "display_data"
    }
   ],
   "source": [
    "# 적용된 최적의 모델의 feature importance \n",
    "\n",
    "rf_model.fit(x_train_scaled, y_train)\n",
    "\n",
    "feature_names = ['feature {i}' for i in range(x_train_scaled.shape[1])]\n",
    "\n",
    "# feature importance 추출\n",
    "importances = rf_model.feature_importances_\n",
    "\n",
    "# standard deviation 추출\n",
    "std = np.std([tree.feature_importances_ for tree in rf_model.estimators_], axis=0)\n",
    "\n",
    "# Series로 변환 & importance가 큰 순으로 정렬\n",
    "forest_importances = pd.Series(importances, index=features)\n",
    "forest_importances = forest_importances.sort_values(ascending=False)\n",
    "\n",
    "# 시각화\n",
    "fig, ax = plt.subplots()\n",
    "forest_importances.plot.bar(yerr=std, ax=ax)\n",
    "ax.set_title(\"Feature importances using MDI\")\n",
    "ax.set_ylabel(\"Mean decrease in impurity\")\n",
    "fig.tight_layout()"
   ]
  },
  {
   "cell_type": "markdown",
   "metadata": {},
   "source": [
    "- channel_title_mean_enc와 dislike가 중요한 feature인 것을 알 수 있다. (양/음의 관계 단정 지으면 안된다.)\n",
    "- likes 이하의 feature들은 사실상 거의 의미없는 feature 인 것으로 보인다."
   ]
  },
  {
   "cell_type": "markdown",
   "metadata": {},
   "source": [
    "### Random Forest의 permutation importance 확인\n",
    "\n",
    "- 특정 feature의 값을 임으로 변경했을때, 얼마나 target값에 대한 정확도가 나빠지는지(error이 얼마나 증가하나)를 확인\n",
    "- feature importance와 동일 \n",
    "- 단, feature importance는 tree 기반 모델에서만 추출이 가능하지만, permutation importance는 prediction이 가능한 모든 모델에서 사용 가능하다."
   ]
  },
  {
   "cell_type": "code",
   "execution_count": 75,
   "metadata": {
    "ExecuteTime": {
     "end_time": "2021-11-05T09:04:38.491310Z",
     "start_time": "2021-11-05T09:04:04.086287Z"
    },
    "colab": {
     "base_uri": "https://localhost:8080/",
     "height": 297
    },
    "id": "1_tkPTr6LVeE",
    "outputId": "97dbb97a-8b02-45a0-96ff-ac9a446109c4"
   },
   "outputs": [
    {
     "data": {
      "image/png": "[encoded data removed]",
      "text/plain": [
       "<Figure size 432x288 with 1 Axes>"
      ]
     },
     "metadata": {
      "needs_background": "light"
     },
     "output_type": "display_data"
    }
   ],
   "source": [
    "\"\"\"\n",
    "각 feature에서 random value를 사용하기 때문에 random_state를 적용해도 일정하지 않을 수 있다.\n",
    "이를 보완하기 위해 n_repeats를 충분하게 부여한다.(사양이 허락하는한 최대한 많이 주면 줄수록 좋다.)\n",
    "\n",
    "\"\"\"\n",
    "result = permutation_importance(rf_model, x_train_scaled, y_train, n_repeats=100, n_jobs=-1, random_state=42) # permutation 추출\n",
    "sorted_idx = result.importances_mean.argsort() # 결과 sort\n",
    "\n",
    "fig, ax = plt.subplots()\n",
    "ax.boxplot(result.importances[sorted_idx].T, vert=False, labels=x_train.columns[sorted_idx])\n",
    "ax.set_title(\"Permutation importances (train set)\")\n",
    "fig.tight_layout()"
   ]
  },
  {
   "cell_type": "markdown",
   "metadata": {},
   "source": [
    "- feature importance 와 비슷하게 channel_title_mean_enc와 dislike가 중요한 feature임을 알 수 있다.\n",
    "- 다만, permutation importance가 조금 더 정교한 결과를 보여준다."
   ]
  },
  {
   "cell_type": "markdown",
   "metadata": {},
   "source": [
    "## MLP(Multi Layer Perceptron) Regressor\n",
    "\n",
    "- Randomized search 사용 : 차원이 넓고, 범위가 넓은 데이터는 Grid search로 촘촘하게 하기보다는 Randomized search 를 하는 것이 효율적이다.\n",
    "- Grid search 로 세세하게 훑어 보면 좋지만, 하드웨어의 물리적 한계를 고려해 효율성을 따진 것\n",
    "- 일반적으로 신경망 연산을 할때는 Grid 보다는 Random이 효율적이다."
   ]
  },
  {
   "cell_type": "code",
   "execution_count": 58,
   "metadata": {
    "ExecuteTime": {
     "end_time": "2021-11-05T08:59:41.769161Z",
     "start_time": "2021-11-05T08:59:11.975811Z"
    },
    "colab": {
     "base_uri": "https://localhost:8080/",
     "height": 577
    },
    "id": "DpHk-72hLXUL",
    "outputId": "160eee4d-580e-4c6b-d818-e90e27840a85"
   },
   "outputs": [
    {
     "name": "stdout",
     "output_type": "stream",
     "text": [
      "Fitting 3 folds for each of 10 candidates, totalling 30 fits\n",
      "Best_estimator: MLPRegressor(alpha=0.0006798962421591127, early_stopping=True,\n",
      "             hidden_layer_sizes=(29, 28, 28, 29), learning_rate='adaptive',\n",
      "             max_iter=2000000, random_state=42, verbose=0)\n",
      "Best_params: {'alpha': 0.0006798962421591127, 'hidden_layer_sizes': (29, 28, 28, 29)}\n",
      "Best_score: 0.697647847386584\n",
      "Train score: 0.7436959102690992\n",
      "Test  score: 0.5915119564549477\n"
     ]
    },
    {
     "data": {
      "image/png": "[encoded data removed]",
      "text/plain": [
       "<Figure size 432x288 with 1 Axes>"
      ]
     },
     "metadata": {
      "needs_background": "light"
     },
     "output_type": "display_data"
    }
   ],
   "source": [
    "\"\"\"\n",
    "learning_rate : 오차율 변화를 adaptive하게 변화 (default 는 constant)\n",
    "                초반에는 learning_rate를 크게 가다가, 후반부에 작게 가는 방식\n",
    "early_stopping : iteration이 진행될때 loss의 변화가 적다면(모델 개선이 없다면) 중지 (before max_iteration)\n",
    "\"\"\"\n",
    "\n",
    "# 모델 선언\n",
    "mlp_model = MLPRegressor(learning_rate='adaptive', max_iter=2000000, verbose=0,\n",
    "                         early_stopping=True, random_state=42)\n",
    "\n",
    "# 파라미터 설정\n",
    "\"\"\"\n",
    "hidden_layer_sizes : 각 layer마다 tuple 형태로 입력이 가능하다.\n",
    "                     itertools.product를 활용해서 24 ~32 사이의 숫자로 4번을 반복해서 값을 생성 -> tuple로 생성\n",
    "alpha : 규제를 어느정도 할 것인가. log scale이 의미가 있다.\n",
    "        loguniform을 활용해서 값을 선정\n",
    "\"\"\"\n",
    "\n",
    "mlp_param = {'hidden_layer_sizes': [x for x in itertools.product((range(24, 32)), repeat=4)],\n",
    "             'alpha': loguniform(1e-4, 1e-3)}\n",
    "\n",
    "# Randomized search 사용\n",
    "# 성능 측정용으로 10회만 (n_iter=10)\n",
    "rand_clf = RandomizedSearchCV(estimator=mlp_model, param_distributions=mlp_param, n_iter=10, n_jobs=-1,\n",
    "                              cv=3, verbose=2, random_state=42)\n",
    "\n",
    "# data input\n",
    "rand_clf.fit(x_train_scaled, y_train)\n",
    "\n",
    "# prediction\n",
    "y_train_pred = rand_clf.predict(x_train_scaled)\n",
    "y_test_pred = rand_clf.predict(x_test_scaled)\n",
    "\n",
    "# 결과 확인\n",
    "print('Best_estimator:', rand_clf.best_estimator_)\n",
    "print('Best_params:', rand_clf.best_params_)\n",
    "print('Best_score:', rand_clf.best_score_)\n",
    "train_score = r2_score(y_train_pred, y_train)\n",
    "print('Train score:', train_score)\n",
    "test_score = r2_score(y_test_pred, y_test)\n",
    "print('Test  score:', test_score)\n",
    "\n",
    "# 결과 시각화 with scatter plot\n",
    "model_name.append('Neural Network')\n",
    "train_perf.append(train_score)\n",
    "test_perf.append(test_score)\n",
    "plt.title('Prediction vs ground truth scatter plot (Neural Network)')\n",
    "plt.xlabel('Prediction')\n",
    "plt.ylabel('Ground truth')\n",
    "plt.grid()\n",
    "plt.scatter(y_test_pred, y_test);"
   ]
  },
  {
   "cell_type": "code",
   "execution_count": 71,
   "metadata": {
    "ExecuteTime": {
     "end_time": "2021-11-05T09:03:45.698795Z",
     "start_time": "2021-11-05T09:03:45.688793Z"
    },
    "id": "ohF-q3ClS6Dg"
   },
   "outputs": [],
   "source": [
    "# 최적의 결과를 모델에 적용\n",
    "mlp_model = MLPRegressor(hidden_layer_sizes=(24, 27, 28, 31), alpha=0.0006798962421591127, learning_rate='adaptive',\n",
    "                         max_iter=2000000, verbose=0, early_stopping=True, random_state=42)"
   ]
  },
  {
   "cell_type": "markdown",
   "metadata": {},
   "source": [
    "## XGB Regressor"
   ]
  },
  {
   "cell_type": "code",
   "execution_count": 60,
   "metadata": {
    "ExecuteTime": {
     "end_time": "2021-11-05T09:00:02.968517Z",
     "start_time": "2021-11-05T08:59:41.786115Z"
    },
    "colab": {
     "base_uri": "https://localhost:8080/",
     "height": 630
    },
    "id": "5pC-TTOqLXYB",
    "outputId": "9f2ca9f0-151d-452d-ec47-404ae81ac20e"
   },
   "outputs": [
    {
     "name": "stdout",
     "output_type": "stream",
     "text": [
      "Fitting 3 folds for each of 81 candidates, totalling 243 fits\n",
      "Best_estimator: XGBRegressor(base_score=0.5, booster='gbtree', colsample_bylevel=1,\n",
      "             colsample_bynode=1, colsample_bytree=1, enable_categorical=False,\n",
      "             gamma=0, gpu_id=-1, importance_type=None,\n",
      "             interaction_constraints='', learning_rate=0.300000012,\n",
      "             max_delta_step=0, max_depth=3, min_child_weight=1, missing=nan,\n",
      "             monotone_constraints='()', n_estimators=120, n_jobs=-1,\n",
      "             num_parallel_tree=1, predictor='auto', random_state=42,\n",
      "             reg_alpha=0.01, reg_lambda=0.316, scale_pos_weight=1, subsample=1,\n",
      "             tree_method='exact', validate_parameters=1, verbosity=None)\n",
      "Best_params: {'max_depth': 3, 'n_estimators': 120, 'reg_alpha': 0.01, 'reg_lambda': 0.316}\n",
      "Best_score: 0.7728576061581535\n",
      "Train score: 0.9974929391469998\n",
      "Test  score: 0.7697238403965264\n"
     ]
    },
    {
     "data": {
      "text/plain": [
       "<matplotlib.collections.PathCollection at 0x2a2c54b9940>"
      ]
     },
     "execution_count": 60,
     "metadata": {},
     "output_type": "execute_result"
    },
    {
     "data": {
      "image/png": "[encoded data removed]",
      "text/plain": [
       "<Figure size 432x288 with 1 Axes>"
      ]
     },
     "metadata": {
      "needs_background": "light"
     },
     "output_type": "display_data"
    }
   ],
   "source": [
    "# 모델 선언\n",
    "xgb_model = XGBRegressor(n_jobs=-1, random_state=42)\n",
    "\n",
    "\n",
    "# parameter 설정\n",
    "\"\"\"\n",
    "규제 파라미터 2개 \n",
    "reg_alpha\n",
    "reg_lambda\n",
    "\"\"\"\n",
    "xgb_param = {'n_estimators': range(80, 140, 20),\n",
    "             'max_depth': range(2, 5, 1),\n",
    "             'reg_alpha': [1e-2, 3.16e-2, 1e-1],\n",
    "             'reg_lambda': [0.1, 0.316, 1]}\n",
    "\n",
    "\n",
    "# hyper parameter tunning\n",
    "xgb_clf = GridSearchCV(estimator=xgb_model, param_grid=xgb_param, n_jobs=-1, verbose=2, cv=3)\n",
    "\n",
    "# 모델에 적용\n",
    "xgb_clf.fit(x_train_scaled, y_train)\n",
    "y_train_pred = xgb_clf.predict(x_train_scaled)\n",
    "y_test_pred = xgb_clf.predict(x_test_scaled)\n",
    "\n",
    "print('Best_estimator:', xgb_clf.best_estimator_)\n",
    "print('Best_params:', xgb_clf.best_params_)\n",
    "print('Best_score:', xgb_clf.best_score_)\n",
    "train_score = r2_score(y_train_pred, y_train)\n",
    "print('Train score:', train_score)\n",
    "test_score = r2_score(y_test_pred, y_test)\n",
    "print('Test  score:', test_score)\n",
    "\n",
    "model_name.append('XGBoost')\n",
    "train_perf.append(train_score)\n",
    "test_perf.append(test_score)\n",
    "\n",
    "plt.title('Prediction vs ground truth scatter plot (XGBoost)')\n",
    "plt.xlabel('Prediction')\n",
    "plt.ylabel('Ground truth')\n",
    "plt.grid()\n",
    "plt.scatter(y_test_pred, y_test)"
   ]
  },
  {
   "cell_type": "code",
   "execution_count": 70,
   "metadata": {
    "ExecuteTime": {
     "end_time": "2021-11-05T09:03:42.443648Z",
     "start_time": "2021-11-05T09:03:42.433673Z"
    },
    "id": "6y3qqTq2aBB0"
   },
   "outputs": [],
   "source": [
    "# 최적의 결과를 모델에 적용\n",
    "xgb_model = XGBRegressor(max_depth=3, n_estimators=120, reg_alpha=0.01, reg_lambda=0.316, n_jobs=-1, random_state=42)"
   ]
  },
  {
   "cell_type": "markdown",
   "metadata": {},
   "source": [
    "## SVM Regressor"
   ]
  },
  {
   "cell_type": "code",
   "execution_count": 62,
   "metadata": {
    "ExecuteTime": {
     "end_time": "2021-11-05T09:01:18.510565Z",
     "start_time": "2021-11-05T09:00:02.986440Z"
    },
    "colab": {
     "base_uri": "https://localhost:8080/",
     "height": 490
    },
    "id": "Yr8GthcHLXci",
    "outputId": "607728c6-3124-4c71-ae6a-78fa2a830582"
   },
   "outputs": [
    {
     "name": "stdout",
     "output_type": "stream",
     "text": [
      "Fitting 3 folds for each of 4 candidates, totalling 12 fits\n",
      "Best_estimator: SVR(C=100000000.0, gamma=0.1)\n",
      "Best_params: {'C': 100000000.0, 'gamma': 0.1}\n",
      "Best_score: 0.7914325900067363\n",
      "Train score: 0.7499666867872967\n",
      "Test  score: -0.6093163425621284\n"
     ]
    },
    {
     "data": {
      "text/plain": [
       "<matplotlib.collections.PathCollection at 0x2a2c558d160>"
      ]
     },
     "execution_count": 62,
     "metadata": {},
     "output_type": "execute_result"
    },
    {
     "data": {
      "image/png": "[encoded data removed]",
      "text/plain": [
       "<Figure size 432x288 with 1 Axes>"
      ]
     },
     "metadata": {
      "needs_background": "light"
     },
     "output_type": "display_data"
    }
   ],
   "source": [
    "# 모델선언\n",
    "svr_model = SVR()\n",
    "\n",
    "\n",
    "# parameter \n",
    "\"\"\"\n",
    "C : 얼마나 많은 데이터 샘플이 다른 클래스로 분류되는 것을 허용할 것인가 (높을수록 기준이 tight)\n",
    "gamma : 하나의 데이터 샘플이 영향력을 행사하는 거리 (클수록 작은 표준편차를 갖는다)\n",
    "\"\"\"\n",
    "svr_param = {'C': [3.16e7, 1e8],\n",
    "             'gamma': [0.1, 0.316]}\n",
    "\n",
    "svr_clf = GridSearchCV(estimator=svr_model, param_grid=svr_param, n_jobs=-1, verbose=3, cv=3)\n",
    "\n",
    "svr_clf.fit(x_train_scaled, y_train)\n",
    "y_train_pred = svr_clf.predict(x_train_scaled)\n",
    "y_test_pred = svr_clf.predict(x_test_scaled)\n",
    "\n",
    "print('Best_estimator:', svr_clf.best_estimator_)\n",
    "print('Best_params:', svr_clf.best_params_)\n",
    "print('Best_score:', svr_clf.best_score_)\n",
    "train_score = r2_score(y_train_pred, y_train)\n",
    "print('Train score:', train_score)\n",
    "test_score = r2_score(y_test_pred, y_test)\n",
    "print('Test  score:', test_score)\n",
    "\n",
    "model_name.append('SVM')\n",
    "train_perf.append(train_score)\n",
    "test_perf.append(test_score)\n",
    "\n",
    "plt.title('Prediction vs ground truth scatter plot (SVM)')\n",
    "plt.xlabel('Prediction')\n",
    "plt.ylabel('Ground truth')\n",
    "plt.grid()\n",
    "plt.scatter(y_test_pred, y_test)"
   ]
  },
  {
   "cell_type": "markdown",
   "metadata": {},
   "source": [
    "- SVM의 Test값이 음수값으로 나온다 = 데이터 해석이 불가능 하다 = 현재 데이터에 부적합한 모델이다 = 앙상블을 해도 쓰지 않아야 한다."
   ]
  },
  {
   "cell_type": "code",
   "execution_count": 69,
   "metadata": {
    "ExecuteTime": {
     "end_time": "2021-11-05T09:03:39.379799Z",
     "start_time": "2021-11-05T09:03:39.371845Z"
    },
    "id": "oUoqczd4TPfe"
   },
   "outputs": [],
   "source": [
    "# 최적의 결과를 모델에 적용\n",
    "svr_model = SVR(C=100000000, gamma=0.1)"
   ]
  },
  {
   "cell_type": "markdown",
   "metadata": {},
   "source": [
    "## KNN Regressor"
   ]
  },
  {
   "cell_type": "code",
   "execution_count": 64,
   "metadata": {
    "ExecuteTime": {
     "end_time": "2021-11-05T09:01:28.594583Z",
     "start_time": "2021-11-05T09:01:18.527491Z"
    },
    "colab": {
     "base_uri": "https://localhost:8080/",
     "height": 522
    },
    "id": "Oy9k_CQZLXgd",
    "outputId": "2608441c-2874-4eae-996c-abc90493bb8d"
   },
   "outputs": [
    {
     "name": "stdout",
     "output_type": "stream",
     "text": [
      "Fitting 5 folds for each of 40 candidates, totalling 200 fits\n",
      "Best_estimator: KNeighborsRegressor(leaf_size=1, n_jobs=-1, n_neighbors=4, weights='distance')\n",
      "Best_params: {'leaf_size': 1, 'n_neighbors': 4, 'weights': 'distance'}\n",
      "Best_score: 0.6356002675099257\n",
      "Train score: 1.0\n",
      "Test  score: 0.40071256810039\n"
     ]
    },
    {
     "data": {
      "image/png": "[encoded data removed]",
      "text/plain": [
       "<Figure size 432x288 with 1 Axes>"
      ]
     },
     "metadata": {
      "needs_background": "light"
     },
     "output_type": "display_data"
    }
   ],
   "source": [
    "# 모델 선언\n",
    "knn_model = KNeighborsRegressor(n_jobs=-1)\n",
    "\n",
    "# parameter\n",
    "knn_param = {'n_neighbors': range(1, 6, 1),\n",
    "             'weights': ['uniform', 'distance'],\n",
    "             'leaf_size': range(1, 5, 1)}\n",
    "\n",
    "knn_clf = GridSearchCV(estimator=knn_model, param_grid=knn_param, n_jobs=-1, verbose=3)\n",
    "\n",
    "knn_clf.fit(x_train_scaled, y_train)\n",
    "y_train_pred = knn_clf.predict(x_train_scaled)\n",
    "y_test_pred = knn_clf.predict(x_test_scaled)\n",
    "\n",
    "print('Best_estimator:', knn_clf.best_estimator_)\n",
    "print('Best_params:', knn_clf.best_params_)\n",
    "print('Best_score:', knn_clf.best_score_)\n",
    "\n",
    "train_score = r2_score(y_train_pred, y_train)\n",
    "print('Train score:', train_score)\n",
    "test_score = r2_score(y_test_pred, y_test)\n",
    "print('Test  score:', test_score)\n",
    "\n",
    "model_name.append('KNN')\n",
    "train_perf.append(train_score)\n",
    "test_perf.append(test_score)\n",
    "\n",
    "plt.title('Prediction vs ground truth scatter plot (kNN)')\n",
    "plt.xlabel('Prediction')\n",
    "plt.ylabel('Ground truth')\n",
    "plt.grid()\n",
    "plt.scatter(y_test_pred, y_test);"
   ]
  },
  {
   "cell_type": "code",
   "execution_count": 68,
   "metadata": {
    "ExecuteTime": {
     "end_time": "2021-11-05T09:03:35.771257Z",
     "start_time": "2021-11-05T09:03:35.766299Z"
    }
   },
   "outputs": [],
   "source": [
    "# 최적의 결과를 모델에 적용\n",
    "knn_model = KNeighborsRegressor(leaf_size=1, n_neighbors=4 , n_jobs=-1, weights='distance')"
   ]
  },
  {
   "cell_type": "markdown",
   "metadata": {},
   "source": [
    "## 각 모델별 성능 시각화"
   ]
  },
  {
   "cell_type": "code",
   "execution_count": 66,
   "metadata": {
    "ExecuteTime": {
     "end_time": "2021-11-05T09:01:28.624503Z",
     "start_time": "2021-11-05T09:01:28.611538Z"
    }
   },
   "outputs": [
    {
     "data": {
      "text/plain": [
       "['Elastic Net', 'Random Forest', 'Neural Network', 'XGBoost', 'KNN']"
      ]
     },
     "execution_count": 66,
     "metadata": {},
     "output_type": "execute_result"
    }
   ],
   "source": [
    "# 해석 불가 모델인  SVM은 제거\n",
    "model_name.remove('SVM')\n",
    "del train_perf[4] # 5번째 model\n",
    "del test_perf[4]\n",
    "model_name"
   ]
  },
  {
   "cell_type": "code",
   "execution_count": 76,
   "metadata": {
    "ExecuteTime": {
     "end_time": "2021-11-05T09:04:39.446782Z",
     "start_time": "2021-11-05T09:04:39.431795Z"
    }
   },
   "outputs": [
    {
     "data": {
      "text/html": [
       "<div>\n",
       "<style scoped>\n",
       "    .dataframe tbody tr th:only-of-type {\n",
       "        vertical-align: middle;\n",
       "    }\n",
       "\n",
       "    .dataframe tbody tr th {\n",
       "        vertical-align: top;\n",
       "    }\n",
       "\n",
       "    .dataframe thead th {\n",
       "        text-align: right;\n",
       "    }\n",
       "</style>\n",
       "<table border=\"1\" class=\"dataframe\">\n",
       "  <thead>\n",
       "    <tr style=\"text-align: right;\">\n",
       "      <th></th>\n",
       "      <th>0</th>\n",
       "      <th>1</th>\n",
       "      <th>2</th>\n",
       "      <th>3</th>\n",
       "      <th>4</th>\n",
       "    </tr>\n",
       "  </thead>\n",
       "  <tbody>\n",
       "    <tr>\n",
       "      <th>model_name</th>\n",
       "      <td>Elastic Net</td>\n",
       "      <td>Random Forest</td>\n",
       "      <td>Neural Network</td>\n",
       "      <td>XGBoost</td>\n",
       "      <td>KNN</td>\n",
       "    </tr>\n",
       "    <tr>\n",
       "      <th>train_perf</th>\n",
       "      <td>0.75</td>\n",
       "      <td>0.94</td>\n",
       "      <td>0.74</td>\n",
       "      <td>1.00</td>\n",
       "      <td>1.00</td>\n",
       "    </tr>\n",
       "    <tr>\n",
       "      <th>test_perf</th>\n",
       "      <td>0.56</td>\n",
       "      <td>0.75</td>\n",
       "      <td>0.59</td>\n",
       "      <td>0.77</td>\n",
       "      <td>0.40</td>\n",
       "    </tr>\n",
       "  </tbody>\n",
       "</table>\n",
       "</div>"
      ],
      "text/plain": [
       "                      0              1               2        3    4\n",
       "model_name  Elastic Net  Random Forest  Neural Network  XGBoost  KNN\n",
       "train_perf         0.75           0.94            0.74     1.00 1.00\n",
       "test_perf          0.56           0.75            0.59     0.77 0.40"
      ]
     },
     "execution_count": 76,
     "metadata": {},
     "output_type": "execute_result"
    }
   ],
   "source": [
    "dic = {'model_name':model_name,\n",
    "      'train_perf':train_perf,\n",
    "      'test_perf':test_perf}\n",
    "\n",
    "MPC = pd.DataFrame.from_dict(dic, orient='index')\n",
    "MPC"
   ]
  },
  {
   "cell_type": "code",
   "execution_count": 77,
   "metadata": {
    "ExecuteTime": {
     "end_time": "2021-11-05T09:04:55.821181Z",
     "start_time": "2021-11-05T09:04:55.653630Z"
    },
    "colab": {
     "base_uri": "https://localhost:8080/",
     "height": 366
    },
    "id": "OkV2udwYH7EY",
    "outputId": "b6931280-6492-4440-860e-48d45e223a81"
   },
   "outputs": [
    {
     "data": {
      "image/png": "[encoded data removed]",
      "text/plain": [
       "<Figure size 648x360 with 1 Axes>"
      ]
     },
     "metadata": {
      "needs_background": "light"
     },
     "output_type": "display_data"
    }
   ],
   "source": [
    "plt.rcParams['figure.figsize'] = (9, 5)\n",
    "plt.title('Model performance comparison')\n",
    "plt.xticks(rotation=90)\n",
    "plt.ylabel('Accuracy')\n",
    "\n",
    "x = np.arange(len(model_name))\n",
    "plt.xticks(x, model_name)\n",
    "plt.bar(x - 0.2, train_perf, width=0.4, label='Train Acc.')\n",
    "plt.bar(x + 0.2, test_perf, width=0.4, label='Test Acc.')\n",
    "plt.legend();"
   ]
  },
  {
   "cell_type": "markdown",
   "metadata": {
    "id": "0VSBFDA3PLzH"
   },
   "source": [
    "# 모델 앙상블 by Voting"
   ]
  },
  {
   "cell_type": "code",
   "execution_count": 78,
   "metadata": {
    "ExecuteTime": {
     "end_time": "2021-11-05T09:06:59.820519Z",
     "start_time": "2021-11-05T09:06:22.274863Z"
    },
    "colab": {
     "base_uri": "https://localhost:8080/",
     "height": 470
    },
    "id": "r3wRugEJLXkh",
    "outputId": "22b8a379-1dcc-44ff-9c4e-c1b425eeed72"
   },
   "outputs": [
    {
     "name": "stdout",
     "output_type": "stream",
     "text": [
      "1 Ensemble train score: 0.9974929391469998\n",
      "1 Ensemble test  score: 0.7697238403965264 \n",
      "\n",
      "2 Ensemble train score: 0.9844179059971965\n",
      "2 Ensemble test  score: 0.7646699599356265 \n",
      "\n",
      "3 Ensemble train score: 0.9459696939727981\n",
      "3 Ensemble test  score: 0.8579955934106758 \n",
      "\n",
      "4 Ensemble train score: 0.9132062544470099\n",
      "4 Ensemble test  score: 0.7791599850635491 \n",
      "\n",
      "5 Ensemble train score: 0.9469212124110686\n",
      "5 Ensemble test  score: 0.8209624647024927 \n",
      "\n"
     ]
    },
    {
     "data": {
      "image/png": "[encoded data removed]",
      "text/plain": [
       "<Figure size 648x360 with 1 Axes>"
      ]
     },
     "metadata": {
      "needs_background": "light"
     },
     "output_type": "display_data"
    }
   ],
   "source": [
    "# Test score가 높은 순으로 입력 \n",
    "ensemble_list = [ ('xgb', xgb_model),\n",
    "                 ('rf', rf_model),\n",
    "                  ('mlp', mlp_model),\n",
    "                  ('en', en_model),\n",
    "                  ('knn', knn_model) ]\n",
    "\n",
    "# score 저장용 list 생성\n",
    "train_perf_ens = []\n",
    "test_perf_ens = []\n",
    "\n",
    "# voting estimator를 저장할 list 생성\n",
    "voting_est = []\n",
    "\n",
    "# 각각의 모델을 앙상블\n",
    "for idx, target_model in enumerate(ensemble_list):\n",
    "    voting_est.append(target_model) # 모델 이름 저장\n",
    "\n",
    "    voting_clf = VotingRegressor(estimators=voting_est, n_jobs=-1) # voting classifier 지정\n",
    "    voting_clf.fit(x_train_scaled, y_train) # 데이터 입력\n",
    "    y_train_pred = voting_clf.predict(x_train_scaled) \n",
    "    y_test_pred = voting_clf.predict(x_test_scaled)\n",
    "    \n",
    "    # 결과 출력\n",
    "    train_score =  r2_score(y_train_pred, y_train)\n",
    "    print(idx + 1, 'Ensemble train score:',train_score)\n",
    "    test_score = r2_score(y_test_pred, y_test)\n",
    "    print(idx + 1, 'Ensemble test  score:', test_score, '\\n')\n",
    "    \n",
    "    #model_name.append(target_model)\n",
    "    train_perf_ens.append(train_score)\n",
    "    test_perf_ens.append(test_score)\n",
    "    \n",
    "    # 결과 시각화\n",
    "    plt.scatter(y_test_pred, y_test, label=str(idx + 1), alpha=0.5)\n",
    "    title = 'Prediction vs ground truth scatter plot: Ensemble'     \n",
    "    plt.title(title)\n",
    "    plt.xlabel('Prediction')\n",
    "    plt.ylabel('Ground truth')\n",
    "    plt.grid()\n",
    "    plt.legend()"
   ]
  },
  {
   "cell_type": "markdown",
   "metadata": {},
   "source": [
    "- Test score가 가장 높은 3번째 Ensemble가 가장 좋은 조합으로 판단된다."
   ]
  },
  {
   "cell_type": "markdown",
   "metadata": {},
   "source": [
    "## Ensemble결과 시각화"
   ]
  },
  {
   "cell_type": "code",
   "execution_count": 79,
   "metadata": {
    "ExecuteTime": {
     "end_time": "2021-11-05T09:07:09.266757Z",
     "start_time": "2021-11-05T09:07:09.244788Z"
    }
   },
   "outputs": [
    {
     "data": {
      "text/html": [
       "<div>\n",
       "<style scoped>\n",
       "    .dataframe tbody tr th:only-of-type {\n",
       "        vertical-align: middle;\n",
       "    }\n",
       "\n",
       "    .dataframe tbody tr th {\n",
       "        vertical-align: top;\n",
       "    }\n",
       "\n",
       "    .dataframe thead th {\n",
       "        text-align: right;\n",
       "    }\n",
       "</style>\n",
       "<table border=\"1\" class=\"dataframe\">\n",
       "  <thead>\n",
       "    <tr style=\"text-align: right;\">\n",
       "      <th></th>\n",
       "      <th>0</th>\n",
       "      <th>1</th>\n",
       "      <th>2</th>\n",
       "      <th>3</th>\n",
       "      <th>4</th>\n",
       "    </tr>\n",
       "  </thead>\n",
       "  <tbody>\n",
       "    <tr>\n",
       "      <th>train_perf_ens</th>\n",
       "      <td>1.00</td>\n",
       "      <td>0.98</td>\n",
       "      <td>0.95</td>\n",
       "      <td>0.91</td>\n",
       "      <td>0.95</td>\n",
       "    </tr>\n",
       "    <tr>\n",
       "      <th>test_perf_ens</th>\n",
       "      <td>0.77</td>\n",
       "      <td>0.76</td>\n",
       "      <td>0.86</td>\n",
       "      <td>0.78</td>\n",
       "      <td>0.82</td>\n",
       "    </tr>\n",
       "  </tbody>\n",
       "</table>\n",
       "</div>"
      ],
      "text/plain": [
       "                  0    1    2    3    4\n",
       "train_perf_ens 1.00 0.98 0.95 0.91 0.95\n",
       "test_perf_ens  0.77 0.76 0.86 0.78 0.82"
      ]
     },
     "execution_count": 79,
     "metadata": {},
     "output_type": "execute_result"
    }
   ],
   "source": [
    "dic2 = {\n",
    "        'train_perf_ens':train_perf_ens,\n",
    "        'test_perf_ens':test_perf_ens\n",
    "        }\n",
    "\n",
    "MPC2 = pd.DataFrame.from_dict(dic2, orient='index')\n",
    "MPC2"
   ]
  },
  {
   "cell_type": "code",
   "execution_count": 80,
   "metadata": {
    "ExecuteTime": {
     "end_time": "2021-11-05T09:07:14.707028Z",
     "start_time": "2021-11-05T09:07:14.536484Z"
    }
   },
   "outputs": [
    {
     "data": {
      "image/png": "[encoded data removed]",
      "text/plain": [
       "<Figure size 720x360 with 1 Axes>"
      ]
     },
     "metadata": {
      "needs_background": "light"
     },
     "output_type": "display_data"
    }
   ],
   "source": [
    "plt.rcParams['figure.figsize'] = (10, 5)\n",
    "plt.title('Model performance comparison')\n",
    "plt.xticks(rotation=90)\n",
    "plt.ylabel('Accuracy')\n",
    "\n",
    "x = np.arange(5)\n",
    "plt.xticks(x)\n",
    "plt.bar(x - 0.2, train_perf_ens, width=0.4, label='Train Acc.')\n",
    "plt.bar(x + 0.2, test_perf_ens, width=0.4, label='Test Acc.')\n",
    "plt.legend();"
   ]
  },
  {
   "cell_type": "code",
   "execution_count": 82,
   "metadata": {
    "ExecuteTime": {
     "end_time": "2021-11-05T09:08:23.137484Z",
     "start_time": "2021-11-05T09:08:11.365955Z"
    },
    "colab": {
     "base_uri": "https://localhost:8080/"
    },
    "id": "LpsAsLkvLXoa",
    "outputId": "55cbd695-4ae0-4477-e282-db218f333fed"
   },
   "outputs": [
    {
     "data": {
      "text/plain": [
       "VotingRegressor(estimators=[('xgb',\n",
       "                             XGBRegressor(base_score=None, booster=None,\n",
       "                                          colsample_bylevel=None,\n",
       "                                          colsample_bynode=None,\n",
       "                                          colsample_bytree=None,\n",
       "                                          enable_categorical=False, gamma=None,\n",
       "                                          gpu_id=None, importance_type=None,\n",
       "                                          interaction_constraints=None,\n",
       "                                          learning_rate=None,\n",
       "                                          max_delta_step=None, max_depth=3,\n",
       "                                          min_child_weight=None, missing=nan,\n",
       "                                          monotone_constraints=No...\n",
       "                                          scale_pos_weight=None, subsample=None,\n",
       "                                          tree_method=None,\n",
       "                                          validate_parameters=None,\n",
       "                                          verbosity=None)),\n",
       "                            ('rf',\n",
       "                             RandomForestRegressor(max_depth=30,\n",
       "                                                   n_estimators=96, n_jobs=-1,\n",
       "                                                   random_state=42)),\n",
       "                            ('mlp',\n",
       "                             MLPRegressor(alpha=0.0006798962421591127,\n",
       "                                          early_stopping=True,\n",
       "                                          hidden_layer_sizes=(24, 27, 28, 31),\n",
       "                                          learning_rate='adaptive',\n",
       "                                          max_iter=2000000, random_state=42,\n",
       "                                          verbose=0))],\n",
       "                n_jobs=-1)"
      ]
     },
     "execution_count": 82,
     "metadata": {},
     "output_type": "execute_result"
    }
   ],
   "source": [
    "# 가장 성능이 좋은 3번째 Ensemble로 모델 선언\n",
    "voting_clf = VotingRegressor(estimators=[('xgb', xgb_model), ('rf', rf_model), ('mlp', mlp_model)],\n",
    "                             n_jobs=-1)\n",
    "voting_clf.fit(x_train_scaled, y_train)"
   ]
  },
  {
   "cell_type": "markdown",
   "metadata": {
    "id": "SXmdNnOOPTWn"
   },
   "source": [
    "# 최적 Voting 모델의 특성(피쳐) 중요도 분석"
   ]
  },
  {
   "cell_type": "code",
   "execution_count": 83,
   "metadata": {
    "ExecuteTime": {
     "end_time": "2021-11-05T09:09:08.109748Z",
     "start_time": "2021-11-05T09:08:25.836760Z"
    },
    "colab": {
     "base_uri": "https://localhost:8080/",
     "height": 352
    },
    "id": "tHGIaCkSLz2N",
    "outputId": "321dae83-90d5-41cb-8bf1-9a623c930cc6"
   },
   "outputs": [
    {
     "data": {
      "image/png": "[encoded data removed]",
      "text/plain": [
       "<Figure size 720x360 with 1 Axes>"
      ]
     },
     "metadata": {
      "needs_background": "light"
     },
     "output_type": "display_data"
    }
   ],
   "source": [
    "result = permutation_importance(voting_clf, x_train_scaled, y_train, n_repeats=100, n_jobs=-1, random_state=42)\n",
    "sorted_idx = result.importances_mean.argsort()\n",
    "\n",
    "fig, ax = plt.subplots()\n",
    "ax.boxplot(result.importances[sorted_idx].T, vert=False, labels=x_train.columns[sorted_idx])\n",
    "ax.set_title(\"Permutation importances (train set)\")\n",
    "fig.tight_layout()"
   ]
  }
 ],
 "metadata": {
  "colab": {
   "collapsed_sections": [],
   "name": "Part_4_YouTuber_6.ipynb",
   "provenance": [],
   "toc_visible": true
  },
  "kernelspec": {
   "display_name": "Python [conda env:my_env]",
   "language": "python",
   "name": "conda-env-my_env-py"
  },
  "language_info": {
   "codemirror_mode": {
    "name": "ipython",
    "version": 3
   },
   "file_extension": ".py",
   "mimetype": "text/x-python",
   "name": "python",
   "nbconvert_exporter": "python",
   "pygments_lexer": "ipython3",
   "version": "3.8.10"
  },
  "latex_envs": {
   "LaTeX_envs_menu_present": true,
   "autoclose": true,
   "autocomplete": true,
   "bibliofile": "biblio.bib",
   "cite_by": "apalike",
   "current_citInitial": 1,
   "eqLabelWithNumbers": true,
   "eqNumInitial": 1,
   "hotkeys": {
    "equation": "Ctrl-E",
    "itemize": "Ctrl-I"
   },
   "labels_anchors": false,
   "latex_user_defs": false,
   "report_style_numbering": true,
   "user_envs_cfg": true
  },
  "toc": {
   "base_numbering": 1,
   "nav_menu": {},
   "number_sections": true,
   "sideBar": true,
   "skip_h1_title": false,
   "title_cell": "Table of Contents",
   "title_sidebar": "Contents",
   "toc_cell": false,
   "toc_position": {
    "height": "calc(100% - 180px)",
    "left": "10px",
    "top": "150px",
    "width": "380.696px"
   },
   "toc_section_display": true,
   "toc_window_display": true
  },
  "varInspector": {
   "cols": {
    "lenName": 16,
    "lenType": 16,
    "lenVar": 40
   },
   "kernels_config": {
    "python": {
     "delete_cmd_postfix": "",
     "delete_cmd_prefix": "del ",
     "library": "var_list.py",
     "varRefreshCmd": "print(var_dic_list())"
    },
    "r": {
     "delete_cmd_postfix": ") ",
     "delete_cmd_prefix": "rm(",
     "library": "var_list.r",
     "varRefreshCmd": "cat(var_dic_list()) "
    }
   },
   "types_to_exclude": [
    "module",
    "function",
    "builtin_function_or_method",
    "instance",
    "_Feature"
   ],
   "window_display": false
  }
 },
 "nbformat": 4,
 "nbformat_minor": 1
}
