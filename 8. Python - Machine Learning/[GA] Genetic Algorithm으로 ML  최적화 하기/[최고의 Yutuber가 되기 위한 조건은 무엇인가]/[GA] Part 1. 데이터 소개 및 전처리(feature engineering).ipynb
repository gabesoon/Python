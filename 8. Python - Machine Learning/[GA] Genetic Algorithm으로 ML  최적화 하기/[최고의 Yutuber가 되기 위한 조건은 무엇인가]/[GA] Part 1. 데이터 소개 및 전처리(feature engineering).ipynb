{
 "cells": [
  {
   "cell_type": "markdown",
   "metadata": {
    "id": "X1-BoFMyM1nQ"
   },
   "source": [
    "# **1. 모듈 설치 및 호출**"
   ]
  },
  {
   "cell_type": "code",
   "execution_count": 1,
   "metadata": {
    "ExecuteTime": {
     "end_time": "2021-11-02T17:15:55.264675Z",
     "start_time": "2021-11-02T17:15:55.257694Z"
    },
    "colab": {
     "base_uri": "https://localhost:8080/"
    },
    "id": "rUK3Pqptn-7_",
    "outputId": "d48510bf-8faf-4ae9-96f9-ce46654449f3",
    "scrolled": true
   },
   "outputs": [],
   "source": [
    "#  유전 알고리즘 모듈 설치\n",
    "#!pip install geneticalgorithm"
   ]
  },
  {
   "cell_type": "code",
   "execution_count": 2,
   "metadata": {
    "ExecuteTime": {
     "end_time": "2021-11-02T17:15:58.343713Z",
     "start_time": "2021-11-02T17:15:55.267668Z"
    },
    "id": "sDT4sIIVJ8Ui"
   },
   "outputs": [],
   "source": [
    "# 기본 모듈\n",
    "import os\n",
    "import copy\n",
    "import math\n",
    "import datetime\n",
    "import itertools\n",
    "import requests\n",
    "from io import BytesIO\n",
    "from random import randint\n",
    "import chardet\n",
    "import numpy as np\n",
    "import pandas as pd\n",
    "from tqdm import tqdm_notebook\n",
    "\n",
    "# 시각화 관련\n",
    "import matplotlib.pyplot as plt\n",
    "from PIL import Image\n",
    "\n",
    "# 모델 관련\n",
    "from scipy.stats import spearmanr\n",
    "from scipy.cluster import hierarchy\n",
    "from sklearn.ensemble import RandomForestRegressor, VotingRegressor\n",
    "from sklearn.inspection import permutation_importance\n",
    "from sklearn.linear_model import ElasticNet\n",
    "from sklearn.metrics import r2_score\n",
    "from sklearn.model_selection import train_test_split, GridSearchCV, RandomizedSearchCV\n",
    "from sklearn.neighbors import KNeighborsRegressor\n",
    "from sklearn.neural_network import MLPRegressor\n",
    "from sklearn.preprocessing import MinMaxScaler\n",
    "from sklearn.svm import SVR\n",
    "from sklearn.utils.fixes import loguniform\n",
    "from xgboost import XGBRegressor\n",
    "\n",
    "# GA \n",
    "from geneticalgorithm import geneticalgorithm\n",
    "\n",
    "\n",
    "# 불필요한 경고 표시 생략\n",
    "import warnings\n",
    "warnings.filterwarnings(action = 'ignore')\n",
    "\n",
    "# pandas 결과값의 표현 범위 소수점 2자리수로 변경\n",
    "pd.options.display.float_format = '{:.2f}'.format\n",
    "\n",
    "# 파일 로드위한 directory 확인 및 현재 경로로 설정\n",
    "a = os.getcwd()\n",
    "os.chdir(a)"
   ]
  },
  {
   "cell_type": "markdown",
   "metadata": {
    "id": "OyN5gmsdNHTS"
   },
   "source": [
    "# **2. 데이터 로드 및 탐색적 데이터 분석**\n",
    "---\n",
    "\n",
    "- 데이터 출처 : 케글 (https://www.kaggle.com/datasnaek/youtube-new)\n",
    "- 한국 데이터를 사용"
   ]
  },
  {
   "cell_type": "code",
   "execution_count": 3,
   "metadata": {
    "ExecuteTime": {
     "end_time": "2021-11-02T17:15:58.358693Z",
     "start_time": "2021-11-02T17:15:58.345737Z"
    },
    "colab": {
     "base_uri": "https://localhost:8080/"
    },
    "id": "V2gcUa4zZLvb",
    "outputId": "dbc74b8b-cf2f-4af1-8805-4d6104bca7f3"
   },
   "outputs": [
    {
     "name": "stdout",
     "output_type": "stream",
     "text": [
      "Encoding type: ascii\n"
     ]
    }
   ],
   "source": [
    "filename = 'KRvideos.csv'\n",
    "\n",
    "with open(filename, 'rb') as f:\n",
    "    result = chardet.detect(f.readline())\n",
    "    print('Encoding type:', result['encoding'])"
   ]
  },
  {
   "cell_type": "markdown",
   "metadata": {},
   "source": [
    "- video_id : 유튜브 영상 고유 id\n",
    "- trending_date : 데이터가 집계된 날짜\n",
    "- title : 영상 제목\n",
    "- channel_title : 영상을 올린 채널명\n",
    "- category_id : 카테고리 아이디 )\n",
    "- publish_time : 영상을 올린 시간\n",
    "- tags : 영상에 달린 태그\n",
    "- views : 조회수(target value)\n",
    "- likes : 좋아요 수\n",
    "- dislikes : 싫어요 수\n",
    "- comment_count : 댓글 수\n",
    "- thumbnail_link : 썸네일 링크\n",
    "- comments_disabled : 댓글을 막았는지 여부 (False가 긍정 =  댓글이 있다.)\n",
    "- ratings_disabled : 평점 여부 (False가 긍정 = rating이 있다.)\n",
    "- video_error_or_removed : 영상 삭제 여부 (True가 삭제된 것)\n",
    "- description : 영상에 대한 설명"
   ]
  },
  {
   "cell_type": "code",
   "execution_count": 4,
   "metadata": {
    "ExecuteTime": {
     "end_time": "2021-11-02T17:15:58.373634Z",
     "start_time": "2021-11-02T17:15:58.360701Z"
    },
    "id": "tQw3NeN7QQmf"
   },
   "outputs": [],
   "source": [
    "# 데이터 출처의 KR_category_id.json에서 가져옴\n",
    "category_id_code = {'1': 'Film & Animation',\n",
    "                    '2': 'Autos & Vehicles',\n",
    "                    '10': 'Music',\n",
    "                    '15': 'Pets & Animals',\n",
    "                    '17': 'Sports',\n",
    "                    '18': 'Short Movies',\n",
    "                    '19': 'Travel & Events',\n",
    "                    '20': 'Gaming',\n",
    "                    '21': 'Videoblogging',\n",
    "                    '22': 'People & Blogs',\n",
    "                    '23': 'Comedy',\n",
    "                    '24': 'Entertainment',\n",
    "                    '25': 'News & Politics',\n",
    "                    '26': 'Howto & Style',\n",
    "                    '27': 'Education',\n",
    "                    '28': 'Science & Technology',\n",
    "                    '29': 'Nonprofits & Activism',\n",
    "                    '30': 'Movies',\n",
    "                    '31': 'Anime/Animation',\n",
    "                    '32': 'Action/Adventure',\n",
    "                    '33': 'Classics',\n",
    "                    '34': 'Comedy',\n",
    "                    '35': 'Documentary',\n",
    "                    '36': 'Drama',\n",
    "                    '37': 'Family',\n",
    "                    '38': 'Foreign',                    \n",
    "                    '39': 'Horror',\n",
    "                    '40': 'Sci-Fi/Fantasy',\n",
    "                    '41': 'Thriller',\n",
    "                    '42': 'Shorts',\n",
    "                    '43': 'Shows',\n",
    "                    '44': 'Trailers'}"
   ]
  },
  {
   "cell_type": "code",
   "execution_count": 5,
   "metadata": {
    "ExecuteTime": {
     "end_time": "2021-11-02T17:15:59.301181Z",
     "start_time": "2021-11-02T17:15:58.375628Z"
    },
    "colab": {
     "base_uri": "https://localhost:8080/",
     "height": 683
    },
    "id": "umTHeyYfbib0",
    "outputId": "fdc7ac8c-78ec-4d98-ef1e-e457e5025b31"
   },
   "outputs": [
    {
     "data": {
      "text/html": [
       "<div>\n",
       "<style scoped>\n",
       "    .dataframe tbody tr th:only-of-type {\n",
       "        vertical-align: middle;\n",
       "    }\n",
       "\n",
       "    .dataframe tbody tr th {\n",
       "        vertical-align: top;\n",
       "    }\n",
       "\n",
       "    .dataframe thead th {\n",
       "        text-align: right;\n",
       "    }\n",
       "</style>\n",
       "<table border=\"1\" class=\"dataframe\">\n",
       "  <thead>\n",
       "    <tr style=\"text-align: right;\">\n",
       "      <th></th>\n",
       "      <th>video_id</th>\n",
       "      <th>trending_date</th>\n",
       "      <th>title</th>\n",
       "      <th>channel_title</th>\n",
       "      <th>category_id</th>\n",
       "      <th>publish_time</th>\n",
       "      <th>tags</th>\n",
       "      <th>views</th>\n",
       "      <th>likes</th>\n",
       "      <th>dislikes</th>\n",
       "      <th>comment_count</th>\n",
       "      <th>thumbnail_link</th>\n",
       "      <th>comments_disabled</th>\n",
       "      <th>ratings_disabled</th>\n",
       "      <th>video_error_or_removed</th>\n",
       "      <th>description</th>\n",
       "    </tr>\n",
       "  </thead>\n",
       "  <tbody>\n",
       "    <tr>\n",
       "      <th>0</th>\n",
       "      <td>RxGQe4EeEpA</td>\n",
       "      <td>17.14.11</td>\n",
       "      <td>좋아 by 민서_윤종신_좋니 답가</td>\n",
       "      <td>라푸마코리아</td>\n",
       "      <td>22</td>\n",
       "      <td>2017-11-13T07:07:36.000Z</td>\n",
       "      <td>라푸마|\"윤종신\"|\"좋니\"|\"좋아\"|\"샬레\"|\"민서\"</td>\n",
       "      <td>156130</td>\n",
       "      <td>1422</td>\n",
       "      <td>40</td>\n",
       "      <td>272</td>\n",
       "      <td>https://i.ytimg.com/vi/RxGQe4EeEpA/default.jpg</td>\n",
       "      <td>False</td>\n",
       "      <td>False</td>\n",
       "      <td>False</td>\n",
       "      <td>윤종신 '좋니'의 답가 '좋아' 최초 공개!\\n그 여자의 이야기를 지금 만나보세요....</td>\n",
       "    </tr>\n",
       "    <tr>\n",
       "      <th>1</th>\n",
       "      <td>hH7wVE8OlQ0</td>\n",
       "      <td>17.14.11</td>\n",
       "      <td>JSA 귀순 북한군 총격 부상</td>\n",
       "      <td>Edward</td>\n",
       "      <td>25</td>\n",
       "      <td>2017-11-13T10:59:16.000Z</td>\n",
       "      <td>JSA|\"귀순\"|\"북한군\"|\"총격\"|\"부상\"|\"JSA 귀순 북한군 총격 부상\"</td>\n",
       "      <td>76533</td>\n",
       "      <td>211</td>\n",
       "      <td>28</td>\n",
       "      <td>113</td>\n",
       "      <td>https://i.ytimg.com/vi/hH7wVE8OlQ0/default.jpg</td>\n",
       "      <td>False</td>\n",
       "      <td>False</td>\n",
       "      <td>False</td>\n",
       "      <td>[채널A단독]北 병사 현재 '의식불명'… 혈압 떨어지는 중 \\n[채널A단독]우리측 ...</td>\n",
       "    </tr>\n",
       "    <tr>\n",
       "      <th>2</th>\n",
       "      <td>9V8bnWUmE9U</td>\n",
       "      <td>17.14.11</td>\n",
       "      <td>나몰라패밀리 운동화 영상 2탄 (빼빼로데이버젼)</td>\n",
       "      <td>나몰라패밀리 핫쇼</td>\n",
       "      <td>22</td>\n",
       "      <td>2017-11-11T07:16:08.000Z</td>\n",
       "      <td>아디다스|\"빼빼로\"|\"핫쇼\"|\"나몰라패밀리\"|\"대학로\"|\"공연\"</td>\n",
       "      <td>421409</td>\n",
       "      <td>5112</td>\n",
       "      <td>166</td>\n",
       "      <td>459</td>\n",
       "      <td>https://i.ytimg.com/vi/9V8bnWUmE9U/default.jpg</td>\n",
       "      <td>False</td>\n",
       "      <td>False</td>\n",
       "      <td>False</td>\n",
       "      <td>퍼가실때 꼭 출처 부탁드려요</td>\n",
       "    </tr>\n",
       "    <tr>\n",
       "      <th>3</th>\n",
       "      <td>0_8py-t5R80</td>\n",
       "      <td>17.14.11</td>\n",
       "      <td>이명박 출국 현장, 놓치면 안되는 장면</td>\n",
       "      <td>미디어몽구</td>\n",
       "      <td>25</td>\n",
       "      <td>2017-11-12T11:19:52.000Z</td>\n",
       "      <td>이명박|\"이명박 출국금지\"|\"이명박 출국현장\"|\"이명박 바레인\"|\"이명박 대통령\"|...</td>\n",
       "      <td>222850</td>\n",
       "      <td>2093</td>\n",
       "      <td>173</td>\n",
       "      <td>1219</td>\n",
       "      <td>https://i.ytimg.com/vi/0_8py-t5R80/default.jpg</td>\n",
       "      <td>False</td>\n",
       "      <td>False</td>\n",
       "      <td>False</td>\n",
       "      <td>다스는 누구겁니까 듣고 난 후 표정</td>\n",
       "    </tr>\n",
       "    <tr>\n",
       "      <th>4</th>\n",
       "      <td>bk55RbxiQdI</td>\n",
       "      <td>17.14.11</td>\n",
       "      <td>김장겸은 물러갔다 MBC 노조 환호와 눈물</td>\n",
       "      <td>NocutV</td>\n",
       "      <td>25</td>\n",
       "      <td>2017-11-13T11:08:59.000Z</td>\n",
       "      <td>nocutV|\"노컷V\"|\"CBS\"|\"mbc\"|\"김장겸\"|\"해임\"|\"허일후\"</td>\n",
       "      <td>84466</td>\n",
       "      <td>1094</td>\n",
       "      <td>109</td>\n",
       "      <td>450</td>\n",
       "      <td>https://i.ytimg.com/vi/bk55RbxiQdI/default.jpg</td>\n",
       "      <td>False</td>\n",
       "      <td>False</td>\n",
       "      <td>False</td>\n",
       "      <td>김장겸 MBC 사장이 결국 해임됐다.\\n\\nMBC 대주주인 방송문화진흥회는 13일 ...</td>\n",
       "    </tr>\n",
       "  </tbody>\n",
       "</table>\n",
       "</div>"
      ],
      "text/plain": [
       "      video_id trending_date                       title channel_title  \\\n",
       "0  RxGQe4EeEpA      17.14.11          좋아 by 민서_윤종신_좋니 답가        라푸마코리아   \n",
       "1  hH7wVE8OlQ0      17.14.11            JSA 귀순 북한군 총격 부상        Edward   \n",
       "2  9V8bnWUmE9U      17.14.11  나몰라패밀리 운동화 영상 2탄 (빼빼로데이버젼)     나몰라패밀리 핫쇼   \n",
       "3  0_8py-t5R80      17.14.11  이명박 출국 현장, 놓치면 안되는 장면         미디어몽구   \n",
       "4  bk55RbxiQdI      17.14.11     김장겸은 물러갔다 MBC 노조 환호와 눈물        NocutV   \n",
       "\n",
       "   category_id              publish_time  \\\n",
       "0           22  2017-11-13T07:07:36.000Z   \n",
       "1           25  2017-11-13T10:59:16.000Z   \n",
       "2           22  2017-11-11T07:16:08.000Z   \n",
       "3           25  2017-11-12T11:19:52.000Z   \n",
       "4           25  2017-11-13T11:08:59.000Z   \n",
       "\n",
       "                                                tags   views  likes  dislikes  \\\n",
       "0                      라푸마|\"윤종신\"|\"좋니\"|\"좋아\"|\"샬레\"|\"민서\"  156130   1422        40   \n",
       "1        JSA|\"귀순\"|\"북한군\"|\"총격\"|\"부상\"|\"JSA 귀순 북한군 총격 부상\"   76533    211        28   \n",
       "2                아디다스|\"빼빼로\"|\"핫쇼\"|\"나몰라패밀리\"|\"대학로\"|\"공연\"  421409   5112       166   \n",
       "3  이명박|\"이명박 출국금지\"|\"이명박 출국현장\"|\"이명박 바레인\"|\"이명박 대통령\"|...  222850   2093       173   \n",
       "4          nocutV|\"노컷V\"|\"CBS\"|\"mbc\"|\"김장겸\"|\"해임\"|\"허일후\"   84466   1094       109   \n",
       "\n",
       "   comment_count                                  thumbnail_link  \\\n",
       "0            272  https://i.ytimg.com/vi/RxGQe4EeEpA/default.jpg   \n",
       "1            113  https://i.ytimg.com/vi/hH7wVE8OlQ0/default.jpg   \n",
       "2            459  https://i.ytimg.com/vi/9V8bnWUmE9U/default.jpg   \n",
       "3           1219  https://i.ytimg.com/vi/0_8py-t5R80/default.jpg   \n",
       "4            450  https://i.ytimg.com/vi/bk55RbxiQdI/default.jpg   \n",
       "\n",
       "   comments_disabled  ratings_disabled  video_error_or_removed  \\\n",
       "0              False             False                   False   \n",
       "1              False             False                   False   \n",
       "2              False             False                   False   \n",
       "3              False             False                   False   \n",
       "4              False             False                   False   \n",
       "\n",
       "                                         description  \n",
       "0  윤종신 '좋니'의 답가 '좋아' 최초 공개!\\n그 여자의 이야기를 지금 만나보세요....  \n",
       "1  [채널A단독]北 병사 현재 '의식불명'… 혈압 떨어지는 중 \\n[채널A단독]우리측 ...  \n",
       "2                                    퍼가실때 꼭 출처 부탁드려요  \n",
       "3                                다스는 누구겁니까 듣고 난 후 표정  \n",
       "4  김장겸 MBC 사장이 결국 해임됐다.\\n\\nMBC 대주주인 방송문화진흥회는 13일 ...  "
      ]
     },
     "execution_count": 5,
     "metadata": {},
     "output_type": "execute_result"
    }
   ],
   "source": [
    "raw_data = pd.read_csv(filename, engine='python')\n",
    "raw_data.head(5)"
   ]
  },
  {
   "cell_type": "code",
   "execution_count": 6,
   "metadata": {
    "ExecuteTime": {
     "end_time": "2021-11-02T17:15:59.346056Z",
     "start_time": "2021-11-02T17:15:59.303176Z"
    },
    "colab": {
     "base_uri": "https://localhost:8080/"
    },
    "id": "vTHZXjRmIB07",
    "outputId": "0f51f7b7-6753-4fb7-fcb3-3f9b0d6ef246"
   },
   "outputs": [
    {
     "name": "stdout",
     "output_type": "stream",
     "text": [
      "<class 'pandas.core.frame.DataFrame'>\n",
      "RangeIndex: 34567 entries, 0 to 34566\n",
      "Data columns (total 16 columns):\n",
      " #   Column                  Non-Null Count  Dtype \n",
      "---  ------                  --------------  ----- \n",
      " 0   video_id                34567 non-null  object\n",
      " 1   trending_date           34567 non-null  object\n",
      " 2   title                   34567 non-null  object\n",
      " 3   channel_title           34567 non-null  object\n",
      " 4   category_id             34567 non-null  int64 \n",
      " 5   publish_time            34567 non-null  object\n",
      " 6   tags                    34567 non-null  object\n",
      " 7   views                   34567 non-null  int64 \n",
      " 8   likes                   34567 non-null  int64 \n",
      " 9   dislikes                34567 non-null  int64 \n",
      " 10  comment_count           34567 non-null  int64 \n",
      " 11  thumbnail_link          34567 non-null  object\n",
      " 12  comments_disabled       34567 non-null  bool  \n",
      " 13  ratings_disabled        34567 non-null  bool  \n",
      " 14  video_error_or_removed  34567 non-null  bool  \n",
      " 15  description             31404 non-null  object\n",
      "dtypes: bool(3), int64(5), object(8)\n",
      "memory usage: 3.5+ MB\n"
     ]
    }
   ],
   "source": [
    "raw_data.info()"
   ]
  },
  {
   "cell_type": "markdown",
   "metadata": {},
   "source": [
    "- description에 결측치가 있을 것으로 예상된다."
   ]
  },
  {
   "cell_type": "code",
   "execution_count": 7,
   "metadata": {
    "ExecuteTime": {
     "end_time": "2021-11-02T17:15:59.361991Z",
     "start_time": "2021-11-02T17:15:59.348053Z"
    },
    "colab": {
     "base_uri": "https://localhost:8080/"
    },
    "id": "YL3m7TJEBw_t",
    "outputId": "b424f35b-ba36-4d26-e2e0-85cba4929233"
   },
   "outputs": [
    {
     "data": {
      "text/plain": [
       "3163"
      ]
     },
     "execution_count": 7,
     "metadata": {},
     "output_type": "execute_result"
    }
   ],
   "source": [
    "# 설명이 없는 영상의 수\n",
    "raw_data['description'].isnull().sum()"
   ]
  },
  {
   "cell_type": "code",
   "execution_count": 8,
   "metadata": {
    "ExecuteTime": {
     "end_time": "2021-11-02T17:15:59.391910Z",
     "start_time": "2021-11-02T17:15:59.364982Z"
    },
    "colab": {
     "base_uri": "https://localhost:8080/"
    },
    "id": "JfS9PvtoDGN9",
    "outputId": "b7eea570-fcc2-4bdd-da11-b6a4c910f797"
   },
   "outputs": [
    {
     "name": "stdout",
     "output_type": "stream",
     "text": [
      "댓글이 없는 영상의 수 : 511 개\n"
     ]
    }
   ],
   "source": [
    "# 댓글이 없는 영상의 수\n",
    "print(f'댓글이 없는 영상의 수 :', raw_data['comments_disabled'][raw_data['comments_disabled'] == True].sum(),'개')"
   ]
  },
  {
   "cell_type": "code",
   "execution_count": 9,
   "metadata": {
    "ExecuteTime": {
     "end_time": "2021-11-02T17:15:59.406869Z",
     "start_time": "2021-11-02T17:15:59.393904Z"
    },
    "colab": {
     "base_uri": "https://localhost:8080/"
    },
    "id": "p8kwi4VVDvD4",
    "outputId": "1005a0a3-dc53-425b-fa60-017ca569fad2"
   },
   "outputs": [
    {
     "name": "stdout",
     "output_type": "stream",
     "text": [
      "평점이 없는 영상의 수 : 1400 개\n"
     ]
    }
   ],
   "source": [
    "# 평점이 없는 영상의 수\n",
    "print(f'평점이 없는 영상의 수 :', raw_data['ratings_disabled'][raw_data['ratings_disabled'] == True].sum(),'개')"
   ]
  },
  {
   "cell_type": "code",
   "execution_count": 10,
   "metadata": {
    "ExecuteTime": {
     "end_time": "2021-11-02T17:15:59.422856Z",
     "start_time": "2021-11-02T17:15:59.409862Z"
    },
    "colab": {
     "base_uri": "https://localhost:8080/"
    },
    "id": "Li8jaghED4u0",
    "outputId": "b196a181-691c-405a-e4e2-4f1965c7906a"
   },
   "outputs": [
    {
     "name": "stdout",
     "output_type": "stream",
     "text": [
      "삭제된 영상의 수 : 41 개\n"
     ]
    }
   ],
   "source": [
    "# 삭제된 영상의 수\n",
    "print(f'삭제된 영상의 수 :',raw_data['video_error_or_removed'][raw_data['video_error_or_removed'] == True].sum(),'개')"
   ]
  },
  {
   "cell_type": "code",
   "execution_count": 11,
   "metadata": {
    "ExecuteTime": {
     "end_time": "2021-11-02T17:15:59.485688Z",
     "start_time": "2021-11-02T17:15:59.423855Z"
    },
    "colab": {
     "base_uri": "https://localhost:8080/"
    },
    "id": "GOBUpibXETbQ",
    "outputId": "94c9fda4-4d15-4409-fd5d-ff98a89d64eb",
    "scrolled": false
   },
   "outputs": [
    {
     "name": "stdout",
     "output_type": "stream",
     "text": [
      "컬럼명 : video_id\n",
      "중복된 데이터의 수 :\n",
      " True     18691\n",
      "False    15876\n",
      "Name: video_id, dtype: int64\n",
      "\n",
      "\n",
      "컬럼명 : trending_date\n",
      "중복된 데이터의 수 :\n",
      " True     34362\n",
      "False      205\n",
      "Name: trending_date, dtype: int64\n",
      "\n",
      "\n",
      "컬럼명 : title\n",
      "중복된 데이터의 수 :\n",
      " True     18214\n",
      "False    16353\n",
      "Name: title, dtype: int64\n",
      "\n",
      "\n",
      "컬럼명 : channel_title\n",
      "중복된 데이터의 수 :\n",
      " True     30524\n",
      "False     4043\n",
      "Name: channel_title, dtype: int64\n",
      "\n",
      "\n",
      "컬럼명 : category_id\n",
      "중복된 데이터의 수 :\n",
      " True     34550\n",
      "False       17\n",
      "Name: category_id, dtype: int64\n",
      "\n",
      "\n",
      "컬럼명 : publish_time\n",
      "중복된 데이터의 수 :\n",
      " True     18705\n",
      "False    15862\n",
      "Name: publish_time, dtype: int64\n",
      "\n",
      "\n",
      "컬럼명 : tags\n",
      "중복된 데이터의 수 :\n",
      " True     23776\n",
      "False    10791\n",
      "Name: tags, dtype: int64\n",
      "\n",
      "\n",
      "컬럼명 : views\n",
      "중복된 데이터의 수 :\n",
      " False    30690\n",
      "True      3877\n",
      "Name: views, dtype: int64\n",
      "\n",
      "\n",
      "컬럼명 : likes\n",
      "중복된 데이터의 수 :\n",
      " True     25093\n",
      "False     9474\n",
      "Name: likes, dtype: int64\n",
      "\n",
      "\n",
      "컬럼명 : dislikes\n",
      "중복된 데이터의 수 :\n",
      " True     32492\n",
      "False     2075\n",
      "Name: dislikes, dtype: int64\n",
      "\n",
      "\n",
      "컬럼명 : comment_count\n",
      "중복된 데이터의 수 :\n",
      " True     29878\n",
      "False     4689\n",
      "Name: comment_count, dtype: int64\n",
      "\n",
      "\n",
      "컬럼명 : thumbnail_link\n",
      "중복된 데이터의 수 :\n",
      " True     18478\n",
      "False    16089\n",
      "Name: thumbnail_link, dtype: int64\n",
      "\n",
      "\n",
      "컬럼명 : comments_disabled\n",
      "중복된 데이터의 수 :\n",
      " True     34565\n",
      "False        2\n",
      "Name: comments_disabled, dtype: int64\n",
      "\n",
      "\n",
      "컬럼명 : ratings_disabled\n",
      "중복된 데이터의 수 :\n",
      " True     34565\n",
      "False        2\n",
      "Name: ratings_disabled, dtype: int64\n",
      "\n",
      "\n",
      "컬럼명 : video_error_or_removed\n",
      "중복된 데이터의 수 :\n",
      " True     34565\n",
      "False        2\n",
      "Name: video_error_or_removed, dtype: int64\n",
      "\n",
      "\n",
      "컬럼명 : description\n",
      "중복된 데이터의 수 :\n",
      " True     21674\n",
      "False    12893\n",
      "Name: description, dtype: int64\n",
      "\n",
      "\n"
     ]
    }
   ],
   "source": [
    "# 각 컬럼별 중복된 데이터의 수 출력\n",
    "for i in list(raw_data):\n",
    "    print(f'컬럼명 :',i)\n",
    "    print(f'중복된 데이터의 수 :\\n',raw_data[i].duplicated().value_counts())\n",
    "    print('\\n')"
   ]
  },
  {
   "cell_type": "markdown",
   "metadata": {},
   "source": [
    "video_id가 중복된 것이 많아 삭제해줄 필요가 있어 보인다."
   ]
  },
  {
   "cell_type": "code",
   "execution_count": 12,
   "metadata": {
    "ExecuteTime": {
     "end_time": "2021-11-02T17:15:59.576444Z",
     "start_time": "2021-11-02T17:15:59.487654Z"
    },
    "colab": {
     "base_uri": "https://localhost:8080/",
     "height": 683
    },
    "id": "tcYafZQNMOjb",
    "outputId": "a4fb8a17-37a8-4c9e-e694-0efcf4e84fbd"
   },
   "outputs": [
    {
     "name": "stdout",
     "output_type": "stream",
     "text": [
      "<class 'pandas.core.frame.DataFrame'>\n",
      "Int64Index: 26078 entries, 0 to 34566\n",
      "Data columns (total 16 columns):\n",
      " #   Column                  Non-Null Count  Dtype \n",
      "---  ------                  --------------  ----- \n",
      " 0   video_id                26078 non-null  object\n",
      " 1   trending_date           26078 non-null  object\n",
      " 2   title                   26078 non-null  object\n",
      " 3   channel_title           26078 non-null  object\n",
      " 4   category_id             26078 non-null  int64 \n",
      " 5   publish_time            26078 non-null  object\n",
      " 6   tags                    26078 non-null  object\n",
      " 7   views                   26078 non-null  int64 \n",
      " 8   likes                   26078 non-null  int64 \n",
      " 9   dislikes                26078 non-null  int64 \n",
      " 10  comment_count           26078 non-null  int64 \n",
      " 11  thumbnail_link          26078 non-null  object\n",
      " 12  comments_disabled       26078 non-null  bool  \n",
      " 13  ratings_disabled        26078 non-null  bool  \n",
      " 14  video_error_or_removed  26078 non-null  bool  \n",
      " 15  description             24768 non-null  object\n",
      "dtypes: bool(3), int64(5), object(8)\n",
      "memory usage: 2.9+ MB\n",
      "None \n",
      "\n"
     ]
    },
    {
     "data": {
      "text/html": [
       "<div>\n",
       "<style scoped>\n",
       "    .dataframe tbody tr th:only-of-type {\n",
       "        vertical-align: middle;\n",
       "    }\n",
       "\n",
       "    .dataframe tbody tr th {\n",
       "        vertical-align: top;\n",
       "    }\n",
       "\n",
       "    .dataframe thead th {\n",
       "        text-align: right;\n",
       "    }\n",
       "</style>\n",
       "<table border=\"1\" class=\"dataframe\">\n",
       "  <thead>\n",
       "    <tr style=\"text-align: right;\">\n",
       "      <th></th>\n",
       "      <th>video_id</th>\n",
       "      <th>trending_date</th>\n",
       "      <th>title</th>\n",
       "      <th>channel_title</th>\n",
       "      <th>category_id</th>\n",
       "      <th>publish_time</th>\n",
       "      <th>tags</th>\n",
       "      <th>views</th>\n",
       "      <th>likes</th>\n",
       "      <th>dislikes</th>\n",
       "      <th>comment_count</th>\n",
       "      <th>thumbnail_link</th>\n",
       "      <th>comments_disabled</th>\n",
       "      <th>ratings_disabled</th>\n",
       "      <th>video_error_or_removed</th>\n",
       "      <th>description</th>\n",
       "    </tr>\n",
       "  </thead>\n",
       "  <tbody>\n",
       "    <tr>\n",
       "      <th>0</th>\n",
       "      <td>RxGQe4EeEpA</td>\n",
       "      <td>17.14.11</td>\n",
       "      <td>좋아 by 민서_윤종신_좋니 답가</td>\n",
       "      <td>라푸마코리아</td>\n",
       "      <td>22</td>\n",
       "      <td>2017-11-13T07:07:36.000Z</td>\n",
       "      <td>라푸마|\"윤종신\"|\"좋니\"|\"좋아\"|\"샬레\"|\"민서\"</td>\n",
       "      <td>156130</td>\n",
       "      <td>1422</td>\n",
       "      <td>40</td>\n",
       "      <td>272</td>\n",
       "      <td>https://i.ytimg.com/vi/RxGQe4EeEpA/default.jpg</td>\n",
       "      <td>False</td>\n",
       "      <td>False</td>\n",
       "      <td>False</td>\n",
       "      <td>윤종신 '좋니'의 답가 '좋아' 최초 공개!\\n그 여자의 이야기를 지금 만나보세요....</td>\n",
       "    </tr>\n",
       "    <tr>\n",
       "      <th>1</th>\n",
       "      <td>hH7wVE8OlQ0</td>\n",
       "      <td>17.14.11</td>\n",
       "      <td>JSA 귀순 북한군 총격 부상</td>\n",
       "      <td>Edward</td>\n",
       "      <td>25</td>\n",
       "      <td>2017-11-13T10:59:16.000Z</td>\n",
       "      <td>JSA|\"귀순\"|\"북한군\"|\"총격\"|\"부상\"|\"JSA 귀순 북한군 총격 부상\"</td>\n",
       "      <td>76533</td>\n",
       "      <td>211</td>\n",
       "      <td>28</td>\n",
       "      <td>113</td>\n",
       "      <td>https://i.ytimg.com/vi/hH7wVE8OlQ0/default.jpg</td>\n",
       "      <td>False</td>\n",
       "      <td>False</td>\n",
       "      <td>False</td>\n",
       "      <td>[채널A단독]北 병사 현재 '의식불명'… 혈압 떨어지는 중 \\n[채널A단독]우리측 ...</td>\n",
       "    </tr>\n",
       "    <tr>\n",
       "      <th>2</th>\n",
       "      <td>9V8bnWUmE9U</td>\n",
       "      <td>17.14.11</td>\n",
       "      <td>나몰라패밀리 운동화 영상 2탄 (빼빼로데이버젼)</td>\n",
       "      <td>나몰라패밀리 핫쇼</td>\n",
       "      <td>22</td>\n",
       "      <td>2017-11-11T07:16:08.000Z</td>\n",
       "      <td>아디다스|\"빼빼로\"|\"핫쇼\"|\"나몰라패밀리\"|\"대학로\"|\"공연\"</td>\n",
       "      <td>421409</td>\n",
       "      <td>5112</td>\n",
       "      <td>166</td>\n",
       "      <td>459</td>\n",
       "      <td>https://i.ytimg.com/vi/9V8bnWUmE9U/default.jpg</td>\n",
       "      <td>False</td>\n",
       "      <td>False</td>\n",
       "      <td>False</td>\n",
       "      <td>퍼가실때 꼭 출처 부탁드려요</td>\n",
       "    </tr>\n",
       "    <tr>\n",
       "      <th>3</th>\n",
       "      <td>0_8py-t5R80</td>\n",
       "      <td>17.14.11</td>\n",
       "      <td>이명박 출국 현장, 놓치면 안되는 장면</td>\n",
       "      <td>미디어몽구</td>\n",
       "      <td>25</td>\n",
       "      <td>2017-11-12T11:19:52.000Z</td>\n",
       "      <td>이명박|\"이명박 출국금지\"|\"이명박 출국현장\"|\"이명박 바레인\"|\"이명박 대통령\"|...</td>\n",
       "      <td>222850</td>\n",
       "      <td>2093</td>\n",
       "      <td>173</td>\n",
       "      <td>1219</td>\n",
       "      <td>https://i.ytimg.com/vi/0_8py-t5R80/default.jpg</td>\n",
       "      <td>False</td>\n",
       "      <td>False</td>\n",
       "      <td>False</td>\n",
       "      <td>다스는 누구겁니까 듣고 난 후 표정</td>\n",
       "    </tr>\n",
       "    <tr>\n",
       "      <th>4</th>\n",
       "      <td>bk55RbxiQdI</td>\n",
       "      <td>17.14.11</td>\n",
       "      <td>김장겸은 물러갔다 MBC 노조 환호와 눈물</td>\n",
       "      <td>NocutV</td>\n",
       "      <td>25</td>\n",
       "      <td>2017-11-13T11:08:59.000Z</td>\n",
       "      <td>nocutV|\"노컷V\"|\"CBS\"|\"mbc\"|\"김장겸\"|\"해임\"|\"허일후\"</td>\n",
       "      <td>84466</td>\n",
       "      <td>1094</td>\n",
       "      <td>109</td>\n",
       "      <td>450</td>\n",
       "      <td>https://i.ytimg.com/vi/bk55RbxiQdI/default.jpg</td>\n",
       "      <td>False</td>\n",
       "      <td>False</td>\n",
       "      <td>False</td>\n",
       "      <td>김장겸 MBC 사장이 결국 해임됐다.\\n\\nMBC 대주주인 방송문화진흥회는 13일 ...</td>\n",
       "    </tr>\n",
       "  </tbody>\n",
       "</table>\n",
       "</div>"
      ],
      "text/plain": [
       "      video_id trending_date                       title channel_title  \\\n",
       "0  RxGQe4EeEpA      17.14.11          좋아 by 민서_윤종신_좋니 답가        라푸마코리아   \n",
       "1  hH7wVE8OlQ0      17.14.11            JSA 귀순 북한군 총격 부상        Edward   \n",
       "2  9V8bnWUmE9U      17.14.11  나몰라패밀리 운동화 영상 2탄 (빼빼로데이버젼)     나몰라패밀리 핫쇼   \n",
       "3  0_8py-t5R80      17.14.11  이명박 출국 현장, 놓치면 안되는 장면         미디어몽구   \n",
       "4  bk55RbxiQdI      17.14.11     김장겸은 물러갔다 MBC 노조 환호와 눈물        NocutV   \n",
       "\n",
       "   category_id              publish_time  \\\n",
       "0           22  2017-11-13T07:07:36.000Z   \n",
       "1           25  2017-11-13T10:59:16.000Z   \n",
       "2           22  2017-11-11T07:16:08.000Z   \n",
       "3           25  2017-11-12T11:19:52.000Z   \n",
       "4           25  2017-11-13T11:08:59.000Z   \n",
       "\n",
       "                                                tags   views  likes  dislikes  \\\n",
       "0                      라푸마|\"윤종신\"|\"좋니\"|\"좋아\"|\"샬레\"|\"민서\"  156130   1422        40   \n",
       "1        JSA|\"귀순\"|\"북한군\"|\"총격\"|\"부상\"|\"JSA 귀순 북한군 총격 부상\"   76533    211        28   \n",
       "2                아디다스|\"빼빼로\"|\"핫쇼\"|\"나몰라패밀리\"|\"대학로\"|\"공연\"  421409   5112       166   \n",
       "3  이명박|\"이명박 출국금지\"|\"이명박 출국현장\"|\"이명박 바레인\"|\"이명박 대통령\"|...  222850   2093       173   \n",
       "4          nocutV|\"노컷V\"|\"CBS\"|\"mbc\"|\"김장겸\"|\"해임\"|\"허일후\"   84466   1094       109   \n",
       "\n",
       "   comment_count                                  thumbnail_link  \\\n",
       "0            272  https://i.ytimg.com/vi/RxGQe4EeEpA/default.jpg   \n",
       "1            113  https://i.ytimg.com/vi/hH7wVE8OlQ0/default.jpg   \n",
       "2            459  https://i.ytimg.com/vi/9V8bnWUmE9U/default.jpg   \n",
       "3           1219  https://i.ytimg.com/vi/0_8py-t5R80/default.jpg   \n",
       "4            450  https://i.ytimg.com/vi/bk55RbxiQdI/default.jpg   \n",
       "\n",
       "   comments_disabled  ratings_disabled  video_error_or_removed  \\\n",
       "0              False             False                   False   \n",
       "1              False             False                   False   \n",
       "2              False             False                   False   \n",
       "3              False             False                   False   \n",
       "4              False             False                   False   \n",
       "\n",
       "                                         description  \n",
       "0  윤종신 '좋니'의 답가 '좋아' 최초 공개!\\n그 여자의 이야기를 지금 만나보세요....  \n",
       "1  [채널A단독]北 병사 현재 '의식불명'… 혈압 떨어지는 중 \\n[채널A단독]우리측 ...  \n",
       "2                                    퍼가실때 꼭 출처 부탁드려요  \n",
       "3                                다스는 누구겁니까 듣고 난 후 표정  \n",
       "4  김장겸 MBC 사장이 결국 해임됐다.\\n\\nMBC 대주주인 방송문화진흥회는 13일 ...  "
      ]
     },
     "execution_count": 12,
     "metadata": {},
     "output_type": "execute_result"
    }
   ],
   "source": [
    "df = raw_data[raw_data['comments_disabled'] != 1] # True를 삭제(댓글없는 영상)\n",
    "df = df[df['ratings_disabled'] != 1] # True를 삭제(별점 없는 영상)\n",
    "df = df[df['video_error_or_removed'] != 1] # True를 삭제(삭제된 영상)\n",
    "df = df[df['tags'] != '[none]'] # tag 중 none으로 되어있는 데이터 drop (tag 수도 측정 지표로 사용해야 하는데 string이라서 count됨)\n",
    "print(df.info(), '\\n')\n",
    "df.head(5)"
   ]
  },
  {
   "cell_type": "code",
   "execution_count": 13,
   "metadata": {
    "ExecuteTime": {
     "end_time": "2021-11-02T17:15:59.621324Z",
     "start_time": "2021-11-02T17:15:59.577414Z"
    },
    "colab": {
     "base_uri": "https://localhost:8080/"
    },
    "id": "RF6VsOdtNkVZ",
    "outputId": "c01f050f-1a6f-4720-9b87-a1410a11313c"
   },
   "outputs": [
    {
     "name": "stdout",
     "output_type": "stream",
     "text": [
      "Before dropna: 26078\n",
      "After  dropna: 24768\n"
     ]
    }
   ],
   "source": [
    "print('Before dropna:', len(df))\n",
    "df = df.dropna() # null값 삭제\n",
    "\n",
    "print('After  dropna:', len(df))\n",
    "df = df.reset_index(drop=True)\n",
    "\n",
    "# 약 1300여개의 데이터가 삭제 됨"
   ]
  },
  {
   "cell_type": "markdown",
   "metadata": {
    "id": "0LKy16y4N4E8"
   },
   "source": [
    "# 3. 피쳐 엔지니어링"
   ]
  },
  {
   "cell_type": "markdown",
   "metadata": {},
   "source": [
    "## 썸네일(thumnail_link) 데이터 가공"
   ]
  },
  {
   "cell_type": "markdown",
   "metadata": {},
   "source": [
    "- **한번 실행했었다면 재실행 하지 말고 및의 csv파일 다운받아서 진행할 것(용량 너무 커서 오래걸림)** \n",
    "<br><br>\n",
    "- Yutube에서 썸네일은 매우 중요한 요소중 하나임이 일반적으로 알려져 있다. \n",
    "- 하지만 현재 df에서는 썸네일 링크밖에 없어서 썸네일에 대한 요소를 활용하기가 어렵다.\n",
    "- 이를 RGB의 intensity value를 추출해서 각 영상의 썸네일 데이터를 구분할 수 있도록 할 것."
   ]
  },
  {
   "cell_type": "code",
   "execution_count": 14,
   "metadata": {
    "ExecuteTime": {
     "end_time": "2021-11-02T17:16:00.220737Z",
     "start_time": "2021-11-02T17:15:59.623323Z"
    },
    "colab": {
     "base_uri": "https://localhost:8080/"
    },
    "id": "yvzKrlALIB7y",
    "outputId": "2db2e09d-ca11-446e-f600-1bfea29fd3a8",
    "scrolled": true
   },
   "outputs": [],
   "source": [
    "# 파일이 없다면 전처리 시작\n",
    "if not os.path.exists('rgb_df.csv'):\n",
    "    r_avg = []\n",
    "    g_avg = []\n",
    "    b_avg = []\n",
    "\n",
    "    for i in tqdm_notebook(range(len(df))):\n",
    "        url = df['thumbnail_link'][i] \n",
    "        res = requests.get(url) # 썸네일 링크 가져오기\n",
    "        request_get_img = Image.open(BytesIO(res.content)) # res.content로 링크의 내용 불러오기\n",
    "        red, green, blue = request_get_img.split() # 이미지의 RGB 실제 array값 받아오기\n",
    "\n",
    "        # array값의 평균을 numpy로 계산\n",
    "        r_avg.append(int(np.average(red))) \n",
    "        g_avg.append(int(np.average(green)))\n",
    "        b_avg.append(int(np.average(blue)))\n",
    "\n",
    "    # 생성한 데이터를 컬럼으로 생성하여 적용\n",
    "    df['r_avg'] = r_avg\n",
    "    df['g_avg'] = g_avg\n",
    "    df['b_avg'] = b_avg\n",
    "# file이 존재하면 전처리 생략하고 기존 파일 load\n",
    "else:\n",
    "    df = pd.read_csv('rgb_df.csv')"
   ]
  },
  {
   "cell_type": "markdown",
   "metadata": {},
   "source": [
    "- RGB의 평균외에 표준편차, histogram의 bin값 등을 추출할수 도 있지만, 데이터의 차원수를 과도하게 늘리지는 것을 피하기 위해 일단 평균값만 추출 "
   ]
  },
  {
   "cell_type": "code",
   "execution_count": 15,
   "metadata": {
    "ExecuteTime": {
     "end_time": "2021-11-02T17:16:00.250612Z",
     "start_time": "2021-11-02T17:16:00.221718Z"
    },
    "colab": {
     "base_uri": "https://localhost:8080/",
     "height": 683
    },
    "id": "3dmbFV8vgk5O",
    "outputId": "8fe2aacc-1219-4ae1-f34b-c8aa6af0678c"
   },
   "outputs": [
    {
     "data": {
      "text/html": [
       "<div>\n",
       "<style scoped>\n",
       "    .dataframe tbody tr th:only-of-type {\n",
       "        vertical-align: middle;\n",
       "    }\n",
       "\n",
       "    .dataframe tbody tr th {\n",
       "        vertical-align: top;\n",
       "    }\n",
       "\n",
       "    .dataframe thead th {\n",
       "        text-align: right;\n",
       "    }\n",
       "</style>\n",
       "<table border=\"1\" class=\"dataframe\">\n",
       "  <thead>\n",
       "    <tr style=\"text-align: right;\">\n",
       "      <th></th>\n",
       "      <th>video_id</th>\n",
       "      <th>trending_date</th>\n",
       "      <th>title</th>\n",
       "      <th>channel_title</th>\n",
       "      <th>category_id</th>\n",
       "      <th>publish_time</th>\n",
       "      <th>tags</th>\n",
       "      <th>views</th>\n",
       "      <th>likes</th>\n",
       "      <th>dislikes</th>\n",
       "      <th>comment_count</th>\n",
       "      <th>thumbnail_link</th>\n",
       "      <th>comments_disabled</th>\n",
       "      <th>ratings_disabled</th>\n",
       "      <th>video_error_or_removed</th>\n",
       "      <th>description</th>\n",
       "      <th>r_avg</th>\n",
       "      <th>g_avg</th>\n",
       "      <th>b_avg</th>\n",
       "    </tr>\n",
       "  </thead>\n",
       "  <tbody>\n",
       "    <tr>\n",
       "      <th>0</th>\n",
       "      <td>RxGQe4EeEpA</td>\n",
       "      <td>17.14.11</td>\n",
       "      <td>좋아 by 민서_윤종신_좋니 답가</td>\n",
       "      <td>라푸마코리아</td>\n",
       "      <td>22</td>\n",
       "      <td>2017-11-13T07:07:36.000Z</td>\n",
       "      <td>라푸마|\"윤종신\"|\"좋니\"|\"좋아\"|\"샬레\"|\"민서\"</td>\n",
       "      <td>156130</td>\n",
       "      <td>1422</td>\n",
       "      <td>40</td>\n",
       "      <td>272</td>\n",
       "      <td>https://i.ytimg.com/vi/RxGQe4EeEpA/default.jpg</td>\n",
       "      <td>False</td>\n",
       "      <td>False</td>\n",
       "      <td>False</td>\n",
       "      <td>윤종신 '좋니'의 답가 '좋아' 최초 공개!\\n그 여자의 이야기를 지금 만나보세요....</td>\n",
       "      <td>56</td>\n",
       "      <td>41</td>\n",
       "      <td>31</td>\n",
       "    </tr>\n",
       "    <tr>\n",
       "      <th>1</th>\n",
       "      <td>hH7wVE8OlQ0</td>\n",
       "      <td>17.14.11</td>\n",
       "      <td>JSA 귀순 북한군 총격 부상</td>\n",
       "      <td>Edward</td>\n",
       "      <td>25</td>\n",
       "      <td>2017-11-13T10:59:16.000Z</td>\n",
       "      <td>JSA|\"귀순\"|\"북한군\"|\"총격\"|\"부상\"|\"JSA 귀순 북한군 총격 부상\"</td>\n",
       "      <td>76533</td>\n",
       "      <td>211</td>\n",
       "      <td>28</td>\n",
       "      <td>113</td>\n",
       "      <td>https://i.ytimg.com/vi/hH7wVE8OlQ0/default.jpg</td>\n",
       "      <td>False</td>\n",
       "      <td>False</td>\n",
       "      <td>False</td>\n",
       "      <td>[채널A단독]北 병사 현재 '의식불명'… 혈압 떨어지는 중 \\n[채널A단독]우리측 ...</td>\n",
       "      <td>193</td>\n",
       "      <td>193</td>\n",
       "      <td>193</td>\n",
       "    </tr>\n",
       "    <tr>\n",
       "      <th>2</th>\n",
       "      <td>9V8bnWUmE9U</td>\n",
       "      <td>17.14.11</td>\n",
       "      <td>나몰라패밀리 운동화 영상 2탄 (빼빼로데이버젼)</td>\n",
       "      <td>나몰라패밀리 핫쇼</td>\n",
       "      <td>22</td>\n",
       "      <td>2017-11-11T07:16:08.000Z</td>\n",
       "      <td>아디다스|\"빼빼로\"|\"핫쇼\"|\"나몰라패밀리\"|\"대학로\"|\"공연\"</td>\n",
       "      <td>421409</td>\n",
       "      <td>5112</td>\n",
       "      <td>166</td>\n",
       "      <td>459</td>\n",
       "      <td>https://i.ytimg.com/vi/9V8bnWUmE9U/default.jpg</td>\n",
       "      <td>False</td>\n",
       "      <td>False</td>\n",
       "      <td>False</td>\n",
       "      <td>퍼가실때 꼭 출처 부탁드려요</td>\n",
       "      <td>105</td>\n",
       "      <td>84</td>\n",
       "      <td>86</td>\n",
       "    </tr>\n",
       "    <tr>\n",
       "      <th>3</th>\n",
       "      <td>0_8py-t5R80</td>\n",
       "      <td>17.14.11</td>\n",
       "      <td>이명박 출국 현장, 놓치면 안되는 장면</td>\n",
       "      <td>미디어몽구</td>\n",
       "      <td>25</td>\n",
       "      <td>2017-11-12T11:19:52.000Z</td>\n",
       "      <td>이명박|\"이명박 출국금지\"|\"이명박 출국현장\"|\"이명박 바레인\"|\"이명박 대통령\"|...</td>\n",
       "      <td>222850</td>\n",
       "      <td>2093</td>\n",
       "      <td>173</td>\n",
       "      <td>1219</td>\n",
       "      <td>https://i.ytimg.com/vi/0_8py-t5R80/default.jpg</td>\n",
       "      <td>False</td>\n",
       "      <td>False</td>\n",
       "      <td>False</td>\n",
       "      <td>다스는 누구겁니까 듣고 난 후 표정</td>\n",
       "      <td>89</td>\n",
       "      <td>86</td>\n",
       "      <td>86</td>\n",
       "    </tr>\n",
       "    <tr>\n",
       "      <th>4</th>\n",
       "      <td>bk55RbxiQdI</td>\n",
       "      <td>17.14.11</td>\n",
       "      <td>김장겸은 물러갔다 MBC 노조 환호와 눈물</td>\n",
       "      <td>NocutV</td>\n",
       "      <td>25</td>\n",
       "      <td>2017-11-13T11:08:59.000Z</td>\n",
       "      <td>nocutV|\"노컷V\"|\"CBS\"|\"mbc\"|\"김장겸\"|\"해임\"|\"허일후\"</td>\n",
       "      <td>84466</td>\n",
       "      <td>1094</td>\n",
       "      <td>109</td>\n",
       "      <td>450</td>\n",
       "      <td>https://i.ytimg.com/vi/bk55RbxiQdI/default.jpg</td>\n",
       "      <td>False</td>\n",
       "      <td>False</td>\n",
       "      <td>False</td>\n",
       "      <td>김장겸 MBC 사장이 결국 해임됐다.\\n\\nMBC 대주주인 방송문화진흥회는 13일 ...</td>\n",
       "      <td>81</td>\n",
       "      <td>77</td>\n",
       "      <td>61</td>\n",
       "    </tr>\n",
       "  </tbody>\n",
       "</table>\n",
       "</div>"
      ],
      "text/plain": [
       "      video_id trending_date                       title channel_title  \\\n",
       "0  RxGQe4EeEpA      17.14.11          좋아 by 민서_윤종신_좋니 답가        라푸마코리아   \n",
       "1  hH7wVE8OlQ0      17.14.11            JSA 귀순 북한군 총격 부상        Edward   \n",
       "2  9V8bnWUmE9U      17.14.11  나몰라패밀리 운동화 영상 2탄 (빼빼로데이버젼)     나몰라패밀리 핫쇼   \n",
       "3  0_8py-t5R80      17.14.11  이명박 출국 현장, 놓치면 안되는 장면         미디어몽구   \n",
       "4  bk55RbxiQdI      17.14.11     김장겸은 물러갔다 MBC 노조 환호와 눈물        NocutV   \n",
       "\n",
       "   category_id              publish_time  \\\n",
       "0           22  2017-11-13T07:07:36.000Z   \n",
       "1           25  2017-11-13T10:59:16.000Z   \n",
       "2           22  2017-11-11T07:16:08.000Z   \n",
       "3           25  2017-11-12T11:19:52.000Z   \n",
       "4           25  2017-11-13T11:08:59.000Z   \n",
       "\n",
       "                                                tags   views  likes  dislikes  \\\n",
       "0                      라푸마|\"윤종신\"|\"좋니\"|\"좋아\"|\"샬레\"|\"민서\"  156130   1422        40   \n",
       "1        JSA|\"귀순\"|\"북한군\"|\"총격\"|\"부상\"|\"JSA 귀순 북한군 총격 부상\"   76533    211        28   \n",
       "2                아디다스|\"빼빼로\"|\"핫쇼\"|\"나몰라패밀리\"|\"대학로\"|\"공연\"  421409   5112       166   \n",
       "3  이명박|\"이명박 출국금지\"|\"이명박 출국현장\"|\"이명박 바레인\"|\"이명박 대통령\"|...  222850   2093       173   \n",
       "4          nocutV|\"노컷V\"|\"CBS\"|\"mbc\"|\"김장겸\"|\"해임\"|\"허일후\"   84466   1094       109   \n",
       "\n",
       "   comment_count                                  thumbnail_link  \\\n",
       "0            272  https://i.ytimg.com/vi/RxGQe4EeEpA/default.jpg   \n",
       "1            113  https://i.ytimg.com/vi/hH7wVE8OlQ0/default.jpg   \n",
       "2            459  https://i.ytimg.com/vi/9V8bnWUmE9U/default.jpg   \n",
       "3           1219  https://i.ytimg.com/vi/0_8py-t5R80/default.jpg   \n",
       "4            450  https://i.ytimg.com/vi/bk55RbxiQdI/default.jpg   \n",
       "\n",
       "   comments_disabled  ratings_disabled  video_error_or_removed  \\\n",
       "0              False             False                   False   \n",
       "1              False             False                   False   \n",
       "2              False             False                   False   \n",
       "3              False             False                   False   \n",
       "4              False             False                   False   \n",
       "\n",
       "                                         description  r_avg  g_avg  b_avg  \n",
       "0  윤종신 '좋니'의 답가 '좋아' 최초 공개!\\n그 여자의 이야기를 지금 만나보세요....     56     41     31  \n",
       "1  [채널A단독]北 병사 현재 '의식불명'… 혈압 떨어지는 중 \\n[채널A단독]우리측 ...    193    193    193  \n",
       "2                                    퍼가실때 꼭 출처 부탁드려요    105     84     86  \n",
       "3                                다스는 누구겁니까 듣고 난 후 표정     89     86     86  \n",
       "4  김장겸 MBC 사장이 결국 해임됐다.\\n\\nMBC 대주주인 방송문화진흥회는 13일 ...     81     77     61  "
      ]
     },
     "execution_count": 15,
     "metadata": {},
     "output_type": "execute_result"
    }
   ],
   "source": [
    "# 파일이 없다면 전처리 시작\n",
    "if not os.path.exists('rgb_df.csv'):\n",
    "    df.to_csv('rgb_df.csv', encoding='utf8',index=False) # 중간저장1\n",
    "else :\n",
    "    df = df.copy()\n",
    "    \n",
    "\n",
    "# 결과 확인\n",
    "df.head(5)"
   ]
  },
  {
   "cell_type": "markdown",
   "metadata": {},
   "source": [
    "- RGB값이 모두 193으로 동일하게 나오는 데이터가 있다.\n",
    "- 확인해보니 썸네일 이미지가 없는 데이터이다. (아래 그림 참조)\n",
    "- 이러한 데이터가 몇개인지 확인해볼 필요가 있다.\n",
    "![image](https://user-images.githubusercontent.com/74717033/139681191-ad0a98a8-d091-4578-9085-5977680e52dc.png)"
   ]
  },
  {
   "cell_type": "code",
   "execution_count": 16,
   "metadata": {
    "ExecuteTime": {
     "end_time": "2021-11-02T17:16:00.760651Z",
     "start_time": "2021-11-02T17:16:00.251634Z"
    },
    "colab": {
     "base_uri": "https://localhost:8080/"
    },
    "id": "_YNDzBz-Yhuk",
    "outputId": "d1c386e5-c203-4e14-f0ec-3abad7167874"
   },
   "outputs": [
    {
     "name": "stdout",
     "output_type": "stream",
     "text": [
      "len_check_table: 9865\n",
      "썸네일이 없는 데이터 삭제 전: 24768\n",
      "썸네일이 없는 데이터 삭제 후: 15019\n"
     ]
    }
   ],
   "source": [
    "# R과 G의 값이 동일한 데이터와 G와 B의 값이 동일한(=RGB값이 모두 동일한) 데이터를 check_table로 지정 \n",
    "check_table = df[df['r_avg'] == df['g_avg']]\n",
    "check_table = check_table[check_table['g_avg'] == check_table['b_avg']]\n",
    "print('len_check_table:', len(check_table))\n",
    "\n",
    "print('썸네일이 없는 데이터 삭제 전:', len(df))\n",
    "df_rgb = df[df['r_avg'] != 193] # RGB값이 193아닌 데이터(썸네일이 있는 데이터만 추출)\n",
    "print('썸네일이 없는 데이터 삭제 후:', len(df_rgb))\n",
    "\n",
    "# 중간 저장\n",
    "df_rgb = df_rgb.reset_index(drop=True)\n",
    "df_rgb.to_csv('df_color_encode.csv', index_label=False) "
   ]
  },
  {
   "cell_type": "markdown",
   "metadata": {},
   "source": [
    "## video_id 중복인 데이터 전처리\n",
    "---\n",
    "\n",
    "-  \"#NAME?\" 인 데이터들이 중복으로 잡히는 것 같다.\n",
    "-  실제 title을 보면 중복된 데이터인 경우가 많다.\n",
    "-  동일 동영상도 측정 기간에 따라 인기 동영상으로 다시 선정 될 수 있다.\n",
    "-  view수, like, dislike등은 다를 수 있지만, 모델에서 overestimation(과대평가) 될 우려가 있으므로 drop해주는 것이 좋다."
   ]
  },
  {
   "cell_type": "code",
   "execution_count": 17,
   "metadata": {
    "ExecuteTime": {
     "end_time": "2021-11-02T17:16:01.212443Z",
     "start_time": "2021-11-02T17:16:00.761649Z"
    },
    "colab": {
     "base_uri": "https://localhost:8080/",
     "height": 1000
    },
    "id": "qNjs01M2SOzV",
    "outputId": "78f6936a-79a3-4a82-b6a8-23ed8e4bd9b4"
   },
   "outputs": [
    {
     "name": "stdout",
     "output_type": "stream",
     "text": [
      "video_id가 중복인 데이터의 수 \n",
      " True     13672\n",
      "False    11096\n",
      "Name: video_id, dtype: int64 개\n"
     ]
    },
    {
     "data": {
      "text/html": [
       "<div>\n",
       "<style scoped>\n",
       "    .dataframe tbody tr th:only-of-type {\n",
       "        vertical-align: middle;\n",
       "    }\n",
       "\n",
       "    .dataframe tbody tr th {\n",
       "        vertical-align: top;\n",
       "    }\n",
       "\n",
       "    .dataframe thead th {\n",
       "        text-align: right;\n",
       "    }\n",
       "</style>\n",
       "<table border=\"1\" class=\"dataframe\">\n",
       "  <thead>\n",
       "    <tr style=\"text-align: right;\">\n",
       "      <th></th>\n",
       "      <th>video_id</th>\n",
       "      <th>trending_date</th>\n",
       "      <th>title</th>\n",
       "      <th>channel_title</th>\n",
       "      <th>category_id</th>\n",
       "      <th>publish_time</th>\n",
       "      <th>tags</th>\n",
       "      <th>views</th>\n",
       "      <th>likes</th>\n",
       "      <th>dislikes</th>\n",
       "      <th>comment_count</th>\n",
       "      <th>thumbnail_link</th>\n",
       "      <th>comments_disabled</th>\n",
       "      <th>ratings_disabled</th>\n",
       "      <th>video_error_or_removed</th>\n",
       "      <th>description</th>\n",
       "      <th>r_avg</th>\n",
       "      <th>g_avg</th>\n",
       "      <th>b_avg</th>\n",
       "    </tr>\n",
       "  </thead>\n",
       "  <tbody>\n",
       "    <tr>\n",
       "      <th>9282</th>\n",
       "      <td>#NAME?</td>\n",
       "      <td>18.01.04</td>\n",
       "      <td>사실상 패션 대결 - 온라인 쇼핑 vs 시장 쇼핑 [대신리뷰]</td>\n",
       "      <td>왓더펀 What The Fun</td>\n",
       "      <td>24</td>\n",
       "      <td>2018-03-30T09:00:00.000Z</td>\n",
       "      <td>왓더펀|\"whatthefun\"|\"what the fun\"|\"wtf\"|\"대신리뷰\"|\"...</td>\n",
       "      <td>98391</td>\n",
       "      <td>1591</td>\n",
       "      <td>25</td>\n",
       "      <td>293</td>\n",
       "      <td>https://i.ytimg.com/vi/-wwalatJW4E/default.jpg</td>\n",
       "      <td>False</td>\n",
       "      <td>False</td>\n",
       "      <td>False</td>\n",
       "      <td>우리가 입은게 뭐 어때서..\\n채널 구독하기\\nhttps://www.youtube....</td>\n",
       "      <td>92</td>\n",
       "      <td>81</td>\n",
       "      <td>69</td>\n",
       "    </tr>\n",
       "    <tr>\n",
       "      <th>5238</th>\n",
       "      <td>#NAME?</td>\n",
       "      <td>18.30.01</td>\n",
       "      <td>앜ㅋㅋ 생방 테러좀 그만해!!!! 헛 후원요? ㄱㅅ</td>\n",
       "      <td>테드TV</td>\n",
       "      <td>20</td>\n",
       "      <td>2018-01-29T09:05:33.000Z</td>\n",
       "      <td>테드|\"테드tv\"|\"ted\"|\"tedtv\"|\"도티\"|\"모바일\"|\"모바일게임\"|\"mo...</td>\n",
       "      <td>194231</td>\n",
       "      <td>2888</td>\n",
       "      <td>124</td>\n",
       "      <td>1877</td>\n",
       "      <td>https://i.ytimg.com/vi/-xSxTOCfX4Y/default.jpg</td>\n",
       "      <td>False</td>\n",
       "      <td>False</td>\n",
       "      <td>False</td>\n",
       "      <td>테러냐 후원이냐 그것이 문제로다\\n\\n✅테드tv 무료 구독 : https://you...</td>\n",
       "      <td>103</td>\n",
       "      <td>94</td>\n",
       "      <td>80</td>\n",
       "    </tr>\n",
       "    <tr>\n",
       "      <th>14563</th>\n",
       "      <td>#NAME?</td>\n",
       "      <td>18.10.06</td>\n",
       "      <td>[2018 KBO 정규시즌] 이렇게 멋진 세리머니 보신 적 있으십니까 두산 베어스의...</td>\n",
       "      <td>BearSpotv베어스포티비</td>\n",
       "      <td>17</td>\n",
       "      <td>2018-06-10T11:31:47.000Z</td>\n",
       "      <td>spotv|\"스포티비\"|\"bearspotv\"|\"베어스포티비\"|\"베어스TV\"|\"두산\"...</td>\n",
       "      <td>28169</td>\n",
       "      <td>914</td>\n",
       "      <td>7</td>\n",
       "      <td>185</td>\n",
       "      <td>https://i.ytimg.com/vi/-ifYtIQ9KIc/default.jpg</td>\n",
       "      <td>False</td>\n",
       "      <td>False</td>\n",
       "      <td>False</td>\n",
       "      <td>이렇게 멋진 세리머니 보신 적 있으십니까2018 올스타 2루수 부문 1위! 두산 베...</td>\n",
       "      <td>97</td>\n",
       "      <td>97</td>\n",
       "      <td>83</td>\n",
       "    </tr>\n",
       "    <tr>\n",
       "      <th>2992</th>\n",
       "      <td>#NAME?</td>\n",
       "      <td>17.26.12</td>\n",
       "      <td>171225 가요대전 위 아 더 퓨처 워너원 강다니엘 포커스 4K 직캠 / We A...</td>\n",
       "      <td>Peach Crush</td>\n",
       "      <td>22</td>\n",
       "      <td>2017-12-25T15:36:52.000Z</td>\n",
       "      <td>워너원|\"강다니엘\"|\"가요대전\"|\"위아더퓨처\"|\"We Are The Future\"|...</td>\n",
       "      <td>52640</td>\n",
       "      <td>3731</td>\n",
       "      <td>12</td>\n",
       "      <td>188</td>\n",
       "      <td>https://i.ytimg.com/vi/-sNZpyBwx-Q/default.jpg</td>\n",
       "      <td>False</td>\n",
       "      <td>False</td>\n",
       "      <td>False</td>\n",
       "      <td>출처 명시 및 로고 유지 하에 짤 생성과 퍼가기를 통한 단순한 이동이 가능합니다. ...</td>\n",
       "      <td>96</td>\n",
       "      <td>96</td>\n",
       "      <td>108</td>\n",
       "    </tr>\n",
       "    <tr>\n",
       "      <th>13134</th>\n",
       "      <td>#NAME?</td>\n",
       "      <td>18.25.05</td>\n",
       "      <td>[이춘근의 국제정치 40회] 김정은의 딜레마</td>\n",
       "      <td>이춘근TV</td>\n",
       "      <td>25</td>\n",
       "      <td>2018-05-23T21:00:00.000Z</td>\n",
       "      <td>이춘근TV|\"이춘근\"|\"이춘근의국제정치\"|\"국제정치\"|\"한반도문제\"|\"국제문제\"|\"...</td>\n",
       "      <td>84039</td>\n",
       "      <td>4262</td>\n",
       "      <td>76</td>\n",
       "      <td>313</td>\n",
       "      <td>https://i.ytimg.com/vi/-FdFHEogWsU/default.jpg</td>\n",
       "      <td>False</td>\n",
       "      <td>False</td>\n",
       "      <td>False</td>\n",
       "      <td>♥ 후원안내 ♥ 많은 후원문의 감사합니다 ※국내 후원 110-480-334678 신...</td>\n",
       "      <td>77</td>\n",
       "      <td>69</td>\n",
       "      <td>66</td>\n",
       "    </tr>\n",
       "    <tr>\n",
       "      <th>...</th>\n",
       "      <td>...</td>\n",
       "      <td>...</td>\n",
       "      <td>...</td>\n",
       "      <td>...</td>\n",
       "      <td>...</td>\n",
       "      <td>...</td>\n",
       "      <td>...</td>\n",
       "      <td>...</td>\n",
       "      <td>...</td>\n",
       "      <td>...</td>\n",
       "      <td>...</td>\n",
       "      <td>...</td>\n",
       "      <td>...</td>\n",
       "      <td>...</td>\n",
       "      <td>...</td>\n",
       "      <td>...</td>\n",
       "      <td>...</td>\n",
       "      <td>...</td>\n",
       "      <td>...</td>\n",
       "    </tr>\n",
       "    <tr>\n",
       "      <th>7728</th>\n",
       "      <td>zxjJLN12Ig0</td>\n",
       "      <td>18.09.03</td>\n",
       "      <td>[리플] 달달한 머랭쿠키 맨손으로 직접 만들어보았다! 이번에는 어떻게 망할까? | ...</td>\n",
       "      <td>Ripple_S</td>\n",
       "      <td>23</td>\n",
       "      <td>2018-03-07T10:30:02.000Z</td>\n",
       "      <td>Ripple|\"Ripple_S\"|\"Replay\"|\"리플즈\"|\"리플에스\"|\"리플레이\"...</td>\n",
       "      <td>250100</td>\n",
       "      <td>3592</td>\n",
       "      <td>54</td>\n",
       "      <td>713</td>\n",
       "      <td>https://i.ytimg.com/vi/zxjJLN12Ig0/default.jpg</td>\n",
       "      <td>False</td>\n",
       "      <td>False</td>\n",
       "      <td>False</td>\n",
       "      <td>극한직업 리플PD...\\n\\n[Contents Awesome!]\\n\\n리플의 꿀잼 ...</td>\n",
       "      <td>125</td>\n",
       "      <td>129</td>\n",
       "      <td>127</td>\n",
       "    </tr>\n",
       "    <tr>\n",
       "      <th>7537</th>\n",
       "      <td>zxpH0ekLUHI</td>\n",
       "      <td>18.06.03</td>\n",
       "      <td>[MV] Hyungdon &amp; Daejune(형돈이와 대준이) _ The King o...</td>\n",
       "      <td>1theK (원더케이)</td>\n",
       "      <td>10</td>\n",
       "      <td>2018-03-04T09:00:03.000Z</td>\n",
       "      <td>Kpop|\"1theK\"|\"원더케이\"|\"loen\"|\"로엔\"|\"뮤비\"|\"티져\"|\"MV\"...</td>\n",
       "      <td>175110</td>\n",
       "      <td>7640</td>\n",
       "      <td>152</td>\n",
       "      <td>873</td>\n",
       "      <td>https://i.ytimg.com/vi/zxpH0ekLUHI/default.jpg</td>\n",
       "      <td>False</td>\n",
       "      <td>False</td>\n",
       "      <td>False</td>\n",
       "      <td>[MV] Hyungdon &amp; Daejune(형돈이와 대준이) _ The King o...</td>\n",
       "      <td>134</td>\n",
       "      <td>132</td>\n",
       "      <td>129</td>\n",
       "    </tr>\n",
       "    <tr>\n",
       "      <th>7608</th>\n",
       "      <td>zxpH0ekLUHI</td>\n",
       "      <td>18.07.03</td>\n",
       "      <td>[MV] Hyungdon &amp; Daejune(형돈이와 대준이) _ The King o...</td>\n",
       "      <td>1theK (원더케이)</td>\n",
       "      <td>10</td>\n",
       "      <td>2018-03-04T09:00:03.000Z</td>\n",
       "      <td>Kpop|\"1theK\"|\"원더케이\"|\"loen\"|\"로엔\"|\"뮤비\"|\"티져\"|\"MV\"...</td>\n",
       "      <td>224813</td>\n",
       "      <td>8662</td>\n",
       "      <td>165</td>\n",
       "      <td>1019</td>\n",
       "      <td>https://i.ytimg.com/vi/zxpH0ekLUHI/default.jpg</td>\n",
       "      <td>False</td>\n",
       "      <td>False</td>\n",
       "      <td>False</td>\n",
       "      <td>[MV] Hyungdon &amp; Daejune(형돈이와 대준이) _ The King o...</td>\n",
       "      <td>134</td>\n",
       "      <td>132</td>\n",
       "      <td>129</td>\n",
       "    </tr>\n",
       "    <tr>\n",
       "      <th>11408</th>\n",
       "      <td>zy9W8V1ICOw</td>\n",
       "      <td>18.05.05</td>\n",
       "      <td>【꽃핀】 자상무색 한국어 커버 (自傷無色  korean cover)</td>\n",
       "      <td>꽃핀</td>\n",
       "      <td>10</td>\n",
       "      <td>2018-05-03T05:38:40.000Z</td>\n",
       "      <td>꽃핀|\"샌드박스\"|\"Jishou mushoku\"|\"자상무색\"|\"自傷無色\"|\"네코보로...</td>\n",
       "      <td>67169</td>\n",
       "      <td>3751</td>\n",
       "      <td>50</td>\n",
       "      <td>815</td>\n",
       "      <td>https://i.ytimg.com/vi/zy9W8V1ICOw/default.jpg</td>\n",
       "      <td>False</td>\n",
       "      <td>False</td>\n",
       "      <td>False</td>\n",
       "      <td>◕‿◕✿ 매월 마지막 날은 노래 업로드 하는 날~!● 원곡 : @nekobolo【初...</td>\n",
       "      <td>119</td>\n",
       "      <td>89</td>\n",
       "      <td>93</td>\n",
       "    </tr>\n",
       "    <tr>\n",
       "      <th>10939</th>\n",
       "      <td>zyz3rnlxOvM</td>\n",
       "      <td>18.29.04</td>\n",
       "      <td>친구한테 써먹기 좋은 마술 몰카ㅋㅋㅋㅋㅋㅋㅋㅋㅋㅋㅋ</td>\n",
       "      <td>악어의사생활</td>\n",
       "      <td>22</td>\n",
       "      <td>2018-04-27T09:30:01.000Z</td>\n",
       "      <td>트레져헌터|\"늪지대\"|\"마인크래프트\"|\"minecraft\"|\"게임\"|\"game\"|\"...</td>\n",
       "      <td>142454</td>\n",
       "      <td>2802</td>\n",
       "      <td>51</td>\n",
       "      <td>255</td>\n",
       "      <td>https://i.ytimg.com/vi/zyz3rnlxOvM/default.jpg</td>\n",
       "      <td>False</td>\n",
       "      <td>False</td>\n",
       "      <td>False</td>\n",
       "      <td>귀엽고 시크한 그들이 간단한 트릭부터 신기한 마술까지 선보인다!\\n그리고 마술로 친...</td>\n",
       "      <td>121</td>\n",
       "      <td>91</td>\n",
       "      <td>77</td>\n",
       "    </tr>\n",
       "  </tbody>\n",
       "</table>\n",
       "<p>8441 rows × 19 columns</p>\n",
       "</div>"
      ],
      "text/plain": [
       "          video_id trending_date  \\\n",
       "9282        #NAME?      18.01.04   \n",
       "5238        #NAME?      18.30.01   \n",
       "14563       #NAME?      18.10.06   \n",
       "2992        #NAME?      17.26.12   \n",
       "13134       #NAME?      18.25.05   \n",
       "...            ...           ...   \n",
       "7728   zxjJLN12Ig0      18.09.03   \n",
       "7537   zxpH0ekLUHI      18.06.03   \n",
       "7608   zxpH0ekLUHI      18.07.03   \n",
       "11408  zy9W8V1ICOw      18.05.05   \n",
       "10939  zyz3rnlxOvM      18.29.04   \n",
       "\n",
       "                                                   title     channel_title  \\\n",
       "9282                  사실상 패션 대결 - 온라인 쇼핑 vs 시장 쇼핑 [대신리뷰]  왓더펀 What The Fun   \n",
       "5238                        앜ㅋㅋ 생방 테러좀 그만해!!!! 헛 후원요? ㄱㅅ              테드TV   \n",
       "14563  [2018 KBO 정규시즌] 이렇게 멋진 세리머니 보신 적 있으십니까 두산 베어스의...   BearSpotv베어스포티비   \n",
       "2992   171225 가요대전 위 아 더 퓨처 워너원 강다니엘 포커스 4K 직캠 / We A...       Peach Crush   \n",
       "13134                           [이춘근의 국제정치 40회] 김정은의 딜레마             이춘근TV   \n",
       "...                                                  ...               ...   \n",
       "7728   [리플] 달달한 머랭쿠키 맨손으로 직접 만들어보았다! 이번에는 어떻게 망할까? | ...          Ripple_S   \n",
       "7537   [MV] Hyungdon & Daejune(형돈이와 대준이) _ The King o...      1theK (원더케이)   \n",
       "7608   [MV] Hyungdon & Daejune(형돈이와 대준이) _ The King o...      1theK (원더케이)   \n",
       "11408              【꽃핀】 자상무색 한국어 커버 (自傷無色  korean cover)                꽃핀   \n",
       "10939                       친구한테 써먹기 좋은 마술 몰카ㅋㅋㅋㅋㅋㅋㅋㅋㅋㅋㅋ            악어의사생활   \n",
       "\n",
       "       category_id              publish_time  \\\n",
       "9282            24  2018-03-30T09:00:00.000Z   \n",
       "5238            20  2018-01-29T09:05:33.000Z   \n",
       "14563           17  2018-06-10T11:31:47.000Z   \n",
       "2992            22  2017-12-25T15:36:52.000Z   \n",
       "13134           25  2018-05-23T21:00:00.000Z   \n",
       "...            ...                       ...   \n",
       "7728            23  2018-03-07T10:30:02.000Z   \n",
       "7537            10  2018-03-04T09:00:03.000Z   \n",
       "7608            10  2018-03-04T09:00:03.000Z   \n",
       "11408           10  2018-05-03T05:38:40.000Z   \n",
       "10939           22  2018-04-27T09:30:01.000Z   \n",
       "\n",
       "                                                    tags   views  likes  \\\n",
       "9282   왓더펀|\"whatthefun\"|\"what the fun\"|\"wtf\"|\"대신리뷰\"|\"...   98391   1591   \n",
       "5238   테드|\"테드tv\"|\"ted\"|\"tedtv\"|\"도티\"|\"모바일\"|\"모바일게임\"|\"mo...  194231   2888   \n",
       "14563  spotv|\"스포티비\"|\"bearspotv\"|\"베어스포티비\"|\"베어스TV\"|\"두산\"...   28169    914   \n",
       "2992   워너원|\"강다니엘\"|\"가요대전\"|\"위아더퓨처\"|\"We Are The Future\"|...   52640   3731   \n",
       "13134  이춘근TV|\"이춘근\"|\"이춘근의국제정치\"|\"국제정치\"|\"한반도문제\"|\"국제문제\"|\"...   84039   4262   \n",
       "...                                                  ...     ...    ...   \n",
       "7728   Ripple|\"Ripple_S\"|\"Replay\"|\"리플즈\"|\"리플에스\"|\"리플레이\"...  250100   3592   \n",
       "7537   Kpop|\"1theK\"|\"원더케이\"|\"loen\"|\"로엔\"|\"뮤비\"|\"티져\"|\"MV\"...  175110   7640   \n",
       "7608   Kpop|\"1theK\"|\"원더케이\"|\"loen\"|\"로엔\"|\"뮤비\"|\"티져\"|\"MV\"...  224813   8662   \n",
       "11408  꽃핀|\"샌드박스\"|\"Jishou mushoku\"|\"자상무색\"|\"自傷無色\"|\"네코보로...   67169   3751   \n",
       "10939  트레져헌터|\"늪지대\"|\"마인크래프트\"|\"minecraft\"|\"게임\"|\"game\"|\"...  142454   2802   \n",
       "\n",
       "       dislikes  comment_count  \\\n",
       "9282         25            293   \n",
       "5238        124           1877   \n",
       "14563         7            185   \n",
       "2992         12            188   \n",
       "13134        76            313   \n",
       "...         ...            ...   \n",
       "7728         54            713   \n",
       "7537        152            873   \n",
       "7608        165           1019   \n",
       "11408        50            815   \n",
       "10939        51            255   \n",
       "\n",
       "                                       thumbnail_link  comments_disabled  \\\n",
       "9282   https://i.ytimg.com/vi/-wwalatJW4E/default.jpg              False   \n",
       "5238   https://i.ytimg.com/vi/-xSxTOCfX4Y/default.jpg              False   \n",
       "14563  https://i.ytimg.com/vi/-ifYtIQ9KIc/default.jpg              False   \n",
       "2992   https://i.ytimg.com/vi/-sNZpyBwx-Q/default.jpg              False   \n",
       "13134  https://i.ytimg.com/vi/-FdFHEogWsU/default.jpg              False   \n",
       "...                                               ...                ...   \n",
       "7728   https://i.ytimg.com/vi/zxjJLN12Ig0/default.jpg              False   \n",
       "7537   https://i.ytimg.com/vi/zxpH0ekLUHI/default.jpg              False   \n",
       "7608   https://i.ytimg.com/vi/zxpH0ekLUHI/default.jpg              False   \n",
       "11408  https://i.ytimg.com/vi/zy9W8V1ICOw/default.jpg              False   \n",
       "10939  https://i.ytimg.com/vi/zyz3rnlxOvM/default.jpg              False   \n",
       "\n",
       "       ratings_disabled  video_error_or_removed  \\\n",
       "9282              False                   False   \n",
       "5238              False                   False   \n",
       "14563             False                   False   \n",
       "2992              False                   False   \n",
       "13134             False                   False   \n",
       "...                 ...                     ...   \n",
       "7728              False                   False   \n",
       "7537              False                   False   \n",
       "7608              False                   False   \n",
       "11408             False                   False   \n",
       "10939             False                   False   \n",
       "\n",
       "                                             description  r_avg  g_avg  b_avg  \n",
       "9282   우리가 입은게 뭐 어때서..\\n채널 구독하기\\nhttps://www.youtube....     92     81     69  \n",
       "5238   테러냐 후원이냐 그것이 문제로다\\n\\n✅테드tv 무료 구독 : https://you...    103     94     80  \n",
       "14563  이렇게 멋진 세리머니 보신 적 있으십니까2018 올스타 2루수 부문 1위! 두산 베...     97     97     83  \n",
       "2992   출처 명시 및 로고 유지 하에 짤 생성과 퍼가기를 통한 단순한 이동이 가능합니다. ...     96     96    108  \n",
       "13134  ♥ 후원안내 ♥ 많은 후원문의 감사합니다 ※국내 후원 110-480-334678 신...     77     69     66  \n",
       "...                                                  ...    ...    ...    ...  \n",
       "7728   극한직업 리플PD...\\n\\n[Contents Awesome!]\\n\\n리플의 꿀잼 ...    125    129    127  \n",
       "7537   [MV] Hyungdon & Daejune(형돈이와 대준이) _ The King o...    134    132    129  \n",
       "7608   [MV] Hyungdon & Daejune(형돈이와 대준이) _ The King o...    134    132    129  \n",
       "11408  ◕‿◕✿ 매월 마지막 날은 노래 업로드 하는 날~!● 원곡 : @nekobolo【初...    119     89     93  \n",
       "10939  귀엽고 시크한 그들이 간단한 트릭부터 신기한 마술까지 선보인다!\\n그리고 마술로 친...    121     91     77  \n",
       "\n",
       "[8441 rows x 19 columns]"
      ]
     },
     "execution_count": 17,
     "metadata": {},
     "output_type": "execute_result"
    }
   ],
   "source": [
    "# 중간 저장데이터 불러오기\n",
    "df_rgb = pd.read_csv('df_color_encode.csv')\n",
    "\n",
    "# video_id가 중복인 데이터 확인\n",
    "print(f'video_id가 중복인 데이터의 수 \\n',df['video_id'].duplicated().value_counts(), '개')\n",
    "df_rgb[df_rgb.duplicated('video_id')].sort_values(by='video_id')"
   ]
  },
  {
   "cell_type": "code",
   "execution_count": 18,
   "metadata": {
    "ExecuteTime": {
     "end_time": "2021-11-02T17:16:01.257353Z",
     "start_time": "2021-11-02T17:16:01.214438Z"
    },
    "colab": {
     "base_uri": "https://localhost:8080/",
     "height": 1000
    },
    "id": "RIOnPfh7fqgm",
    "outputId": "f2b54bc0-da94-4581-d3ba-a2482068e270"
   },
   "outputs": [
    {
     "name": "stdout",
     "output_type": "stream",
     "text": [
      "video_id가 #NAME?인 데이터의 개수는 211 개 이다.\n",
      "\n"
     ]
    },
    {
     "data": {
      "text/html": [
       "<div>\n",
       "<style scoped>\n",
       "    .dataframe tbody tr th:only-of-type {\n",
       "        vertical-align: middle;\n",
       "    }\n",
       "\n",
       "    .dataframe tbody tr th {\n",
       "        vertical-align: top;\n",
       "    }\n",
       "\n",
       "    .dataframe thead th {\n",
       "        text-align: right;\n",
       "    }\n",
       "</style>\n",
       "<table border=\"1\" class=\"dataframe\">\n",
       "  <thead>\n",
       "    <tr style=\"text-align: right;\">\n",
       "      <th></th>\n",
       "      <th>video_id</th>\n",
       "      <th>trending_date</th>\n",
       "      <th>title</th>\n",
       "      <th>channel_title</th>\n",
       "      <th>category_id</th>\n",
       "      <th>publish_time</th>\n",
       "      <th>tags</th>\n",
       "      <th>views</th>\n",
       "      <th>likes</th>\n",
       "      <th>dislikes</th>\n",
       "      <th>comment_count</th>\n",
       "      <th>thumbnail_link</th>\n",
       "      <th>comments_disabled</th>\n",
       "      <th>ratings_disabled</th>\n",
       "      <th>video_error_or_removed</th>\n",
       "      <th>description</th>\n",
       "      <th>r_avg</th>\n",
       "      <th>g_avg</th>\n",
       "      <th>b_avg</th>\n",
       "    </tr>\n",
       "  </thead>\n",
       "  <tbody>\n",
       "    <tr>\n",
       "      <th>34</th>\n",
       "      <td>#NAME?</td>\n",
       "      <td>17.14.11</td>\n",
       "      <td>[영화걸작선] 37회 - 장산범</td>\n",
       "      <td>거의없다</td>\n",
       "      <td>1</td>\n",
       "      <td>2017-11-11T13:56:14.000Z</td>\n",
       "      <td>영화걸작선|\"영화\"|\"애니\"|\"demasian\"|\"거의없다\"|\"없다\"|\"걸작선\"|\"...</td>\n",
       "      <td>78134</td>\n",
       "      <td>3126</td>\n",
       "      <td>28</td>\n",
       "      <td>615</td>\n",
       "      <td>https://i.ytimg.com/vi/-JPy_nBFDtc/default.jpg</td>\n",
       "      <td>False</td>\n",
       "      <td>False</td>\n",
       "      <td>False</td>\n",
       "      <td>좋은 패 잔뜩 들고 뭐하는거야...  공포영화를 줘, 고구마 말고!!\\n잘 나가던 ...</td>\n",
       "      <td>64</td>\n",
       "      <td>65</td>\n",
       "      <td>40</td>\n",
       "    </tr>\n",
       "    <tr>\n",
       "      <th>117</th>\n",
       "      <td>#NAME?</td>\n",
       "      <td>17.15.11</td>\n",
       "      <td>JSA 귀순 북한군 총격 부상</td>\n",
       "      <td>채널A 뉴스TOP10</td>\n",
       "      <td>43</td>\n",
       "      <td>2017-11-13T11:47:18.000Z</td>\n",
       "      <td>채널 A</td>\n",
       "      <td>85097</td>\n",
       "      <td>223</td>\n",
       "      <td>20</td>\n",
       "      <td>95</td>\n",
       "      <td>https://i.ytimg.com/vi/-yRXK7elKnU/default.jpg</td>\n",
       "      <td>False</td>\n",
       "      <td>False</td>\n",
       "      <td>False</td>\n",
       "      <td>[채널A단독]北 병사 현재 '의식불명'… 혈압 떨어지는 중\\n[채널A단독]우리측 초...</td>\n",
       "      <td>76</td>\n",
       "      <td>83</td>\n",
       "      <td>92</td>\n",
       "    </tr>\n",
       "    <tr>\n",
       "      <th>157</th>\n",
       "      <td>#NAME?</td>\n",
       "      <td>17.15.11</td>\n",
       "      <td>[영화걸작선] 37회 - 장산범</td>\n",
       "      <td>거의없다</td>\n",
       "      <td>1</td>\n",
       "      <td>2017-11-11T13:56:14.000Z</td>\n",
       "      <td>영화걸작선|\"영화\"|\"애니\"|\"demasian\"|\"거의없다\"|\"없다\"|\"걸작선\"|\"...</td>\n",
       "      <td>84466</td>\n",
       "      <td>3226</td>\n",
       "      <td>30</td>\n",
       "      <td>630</td>\n",
       "      <td>https://i.ytimg.com/vi/-JPy_nBFDtc/default.jpg</td>\n",
       "      <td>False</td>\n",
       "      <td>False</td>\n",
       "      <td>False</td>\n",
       "      <td>좋은 패 잔뜩 들고 뭐하는거야...  공포영화를 줘, 고구마 말고!!\\n잘 나가던 ...</td>\n",
       "      <td>64</td>\n",
       "      <td>65</td>\n",
       "      <td>40</td>\n",
       "    </tr>\n",
       "    <tr>\n",
       "      <th>158</th>\n",
       "      <td>#NAME?</td>\n",
       "      <td>17.15.11</td>\n",
       "      <td>Sau Ánh Hào Quang #7 FULL | Cát Phượng: Cái sa...</td>\n",
       "      <td>ĐÔNG TÂY PROMOTION OFFICIAL</td>\n",
       "      <td>24</td>\n",
       "      <td>2017-11-13T15:08:54.000Z</td>\n",
       "      <td>sau anh hao quang|\"sau ánh hào quang\"|\"sau anh...</td>\n",
       "      <td>1544710</td>\n",
       "      <td>12417</td>\n",
       "      <td>803</td>\n",
       "      <td>2186</td>\n",
       "      <td>https://i.ytimg.com/vi/-k6j6Dkyl1M/default.jpg</td>\n",
       "      <td>False</td>\n",
       "      <td>False</td>\n",
       "      <td>False</td>\n",
       "      <td>sau anh hao quang, sau ánh hào quang, sau anh ...</td>\n",
       "      <td>97</td>\n",
       "      <td>82</td>\n",
       "      <td>84</td>\n",
       "    </tr>\n",
       "    <tr>\n",
       "      <th>206</th>\n",
       "      <td>#NAME?</td>\n",
       "      <td>17.16.11</td>\n",
       "      <td>171115 AAA 레드카펫 워너원 강다니엘 포커스 4K 직캠 / WANNAONE ...</td>\n",
       "      <td>Peach Crush</td>\n",
       "      <td>22</td>\n",
       "      <td>2017-11-15T08:29:30.000Z</td>\n",
       "      <td>워너원|\"강다니엘\"|\"직캠\"|\"AAA\"|\"레드카펫\"|\"WANNAONE\"|\"KANGD...</td>\n",
       "      <td>30451</td>\n",
       "      <td>1763</td>\n",
       "      <td>5</td>\n",
       "      <td>118</td>\n",
       "      <td>https://i.ytimg.com/vi/-krZhrUSEUU/default.jpg</td>\n",
       "      <td>False</td>\n",
       "      <td>False</td>\n",
       "      <td>False</td>\n",
       "      <td>B.G.M : Be there - 치즈\\n\\n출처 명시 및 로고 유지 하에 짤 생성...</td>\n",
       "      <td>101</td>\n",
       "      <td>105</td>\n",
       "      <td>120</td>\n",
       "    </tr>\n",
       "    <tr>\n",
       "      <th>...</th>\n",
       "      <td>...</td>\n",
       "      <td>...</td>\n",
       "      <td>...</td>\n",
       "      <td>...</td>\n",
       "      <td>...</td>\n",
       "      <td>...</td>\n",
       "      <td>...</td>\n",
       "      <td>...</td>\n",
       "      <td>...</td>\n",
       "      <td>...</td>\n",
       "      <td>...</td>\n",
       "      <td>...</td>\n",
       "      <td>...</td>\n",
       "      <td>...</td>\n",
       "      <td>...</td>\n",
       "      <td>...</td>\n",
       "      <td>...</td>\n",
       "      <td>...</td>\n",
       "      <td>...</td>\n",
       "    </tr>\n",
       "    <tr>\n",
       "      <th>14791</th>\n",
       "      <td>#NAME?</td>\n",
       "      <td>18.12.06</td>\n",
       "      <td>BTS RM, SUGA, J-HOPE - DDAENG (땡) (DISS) REACT...</td>\n",
       "      <td>RT TV</td>\n",
       "      <td>22</td>\n",
       "      <td>2018-06-11T06:39:01.000Z</td>\n",
       "      <td>bts ddaeng|\"bts rm suga j hope ddaeng\"|\"ddaeng...</td>\n",
       "      <td>114672</td>\n",
       "      <td>7056</td>\n",
       "      <td>44</td>\n",
       "      <td>588</td>\n",
       "      <td>https://i.ytimg.com/vi/-VCm09pywpc/default.jpg</td>\n",
       "      <td>False</td>\n",
       "      <td>False</td>\n",
       "      <td>False</td>\n",
       "      <td>BTS RM, SUGA, J-HOPE - DDAENG (땡) (DISS) REACT...</td>\n",
       "      <td>112</td>\n",
       "      <td>100</td>\n",
       "      <td>92</td>\n",
       "    </tr>\n",
       "    <tr>\n",
       "      <th>14852</th>\n",
       "      <td>#NAME?</td>\n",
       "      <td>18.13.06</td>\n",
       "      <td>미우새 입살림 끝판왕 양세형 레전드 모음 2편!! 《모았캐치 / 미운우리새끼 / 스...</td>\n",
       "      <td>SBS Catch</td>\n",
       "      <td>24</td>\n",
       "      <td>2018-06-12T05:00:01.000Z</td>\n",
       "      <td>스브스캐치|\"미운우리새끼\"|\"미우새 양세형\"|\"양세형\"|\"양세형 레전드\"|\"미운우리...</td>\n",
       "      <td>96412</td>\n",
       "      <td>572</td>\n",
       "      <td>22</td>\n",
       "      <td>93</td>\n",
       "      <td>https://i.ytimg.com/vi/-Yr3cNO_09o/default.jpg</td>\n",
       "      <td>False</td>\n",
       "      <td>False</td>\n",
       "      <td>False</td>\n",
       "      <td>[스브스캐치] 구독하기▶https://goo.gl/bnT3WD미운우리새끼 양세형이 ...</td>\n",
       "      <td>59</td>\n",
       "      <td>48</td>\n",
       "      <td>43</td>\n",
       "    </tr>\n",
       "    <tr>\n",
       "      <th>14930</th>\n",
       "      <td>#NAME?</td>\n",
       "      <td>18.13.06</td>\n",
       "      <td>미우새 입살림 끝판왕 양세형 레전드 모음 2편!! 《모았캐치 / 미운우리새끼 / 스...</td>\n",
       "      <td>SBS Catch</td>\n",
       "      <td>24</td>\n",
       "      <td>2018-06-12T05:00:01.000Z</td>\n",
       "      <td>스브스캐치|\"미운우리새끼\"|\"미우새 양세형\"|\"양세형\"|\"양세형 레전드\"|\"미운우리...</td>\n",
       "      <td>96412</td>\n",
       "      <td>572</td>\n",
       "      <td>22</td>\n",
       "      <td>93</td>\n",
       "      <td>https://i.ytimg.com/vi/-Yr3cNO_09o/default.jpg</td>\n",
       "      <td>False</td>\n",
       "      <td>False</td>\n",
       "      <td>False</td>\n",
       "      <td>[스브스캐치] 구독하기▶https://goo.gl/bnT3WD미운우리새끼 양세형이 ...</td>\n",
       "      <td>59</td>\n",
       "      <td>48</td>\n",
       "      <td>43</td>\n",
       "    </tr>\n",
       "    <tr>\n",
       "      <th>14965</th>\n",
       "      <td>#NAME?</td>\n",
       "      <td>18.14.06</td>\n",
       "      <td>미우새 입살림 끝판왕 양세형 레전드 모음 2편!! 《모았캐치 / 미운우리새끼 / 스...</td>\n",
       "      <td>SBS Catch</td>\n",
       "      <td>24</td>\n",
       "      <td>2018-06-12T05:00:01.000Z</td>\n",
       "      <td>스브스캐치|\"미운우리새끼\"|\"미우새 양세형\"|\"양세형\"|\"양세형 레전드\"|\"미운우리...</td>\n",
       "      <td>150166</td>\n",
       "      <td>691</td>\n",
       "      <td>31</td>\n",
       "      <td>112</td>\n",
       "      <td>https://i.ytimg.com/vi/-Yr3cNO_09o/default.jpg</td>\n",
       "      <td>False</td>\n",
       "      <td>False</td>\n",
       "      <td>False</td>\n",
       "      <td>[스브스캐치] 구독하기▶https://goo.gl/bnT3WD미운우리새끼 양세형이 ...</td>\n",
       "      <td>59</td>\n",
       "      <td>48</td>\n",
       "      <td>43</td>\n",
       "    </tr>\n",
       "    <tr>\n",
       "      <th>14995</th>\n",
       "      <td>#NAME?</td>\n",
       "      <td>18.14.06</td>\n",
       "      <td>Dumbo Official Teaser Trailer</td>\n",
       "      <td>Disney Movie Trailers</td>\n",
       "      <td>1</td>\n",
       "      <td>2018-06-13T07:00:00.000Z</td>\n",
       "      <td>Disney|\"Walt Disney Studios\"|\"Dumbo\"|\"Flying E...</td>\n",
       "      <td>4427381</td>\n",
       "      <td>96391</td>\n",
       "      <td>5508</td>\n",
       "      <td>12726</td>\n",
       "      <td>https://i.ytimg.com/vi/-QPdRfqTnt4/default.jpg</td>\n",
       "      <td>False</td>\n",
       "      <td>False</td>\n",
       "      <td>False</td>\n",
       "      <td>Watch the teaser trailer for Tim Burton’s all-...</td>\n",
       "      <td>59</td>\n",
       "      <td>56</td>\n",
       "      <td>56</td>\n",
       "    </tr>\n",
       "  </tbody>\n",
       "</table>\n",
       "<p>211 rows × 19 columns</p>\n",
       "</div>"
      ],
      "text/plain": [
       "      video_id trending_date  \\\n",
       "34      #NAME?      17.14.11   \n",
       "117     #NAME?      17.15.11   \n",
       "157     #NAME?      17.15.11   \n",
       "158     #NAME?      17.15.11   \n",
       "206     #NAME?      17.16.11   \n",
       "...        ...           ...   \n",
       "14791   #NAME?      18.12.06   \n",
       "14852   #NAME?      18.13.06   \n",
       "14930   #NAME?      18.13.06   \n",
       "14965   #NAME?      18.14.06   \n",
       "14995   #NAME?      18.14.06   \n",
       "\n",
       "                                                   title  \\\n",
       "34                                     [영화걸작선] 37회 - 장산범   \n",
       "117                                     JSA 귀순 북한군 총격 부상   \n",
       "157                                    [영화걸작선] 37회 - 장산범   \n",
       "158    Sau Ánh Hào Quang #7 FULL | Cát Phượng: Cái sa...   \n",
       "206    171115 AAA 레드카펫 워너원 강다니엘 포커스 4K 직캠 / WANNAONE ...   \n",
       "...                                                  ...   \n",
       "14791  BTS RM, SUGA, J-HOPE - DDAENG (땡) (DISS) REACT...   \n",
       "14852  미우새 입살림 끝판왕 양세형 레전드 모음 2편!! 《모았캐치 / 미운우리새끼 / 스...   \n",
       "14930  미우새 입살림 끝판왕 양세형 레전드 모음 2편!! 《모았캐치 / 미운우리새끼 / 스...   \n",
       "14965  미우새 입살림 끝판왕 양세형 레전드 모음 2편!! 《모았캐치 / 미운우리새끼 / 스...   \n",
       "14995                      Dumbo Official Teaser Trailer   \n",
       "\n",
       "                     channel_title  category_id              publish_time  \\\n",
       "34                            거의없다            1  2017-11-11T13:56:14.000Z   \n",
       "117                    채널A 뉴스TOP10           43  2017-11-13T11:47:18.000Z   \n",
       "157                           거의없다            1  2017-11-11T13:56:14.000Z   \n",
       "158    ĐÔNG TÂY PROMOTION OFFICIAL           24  2017-11-13T15:08:54.000Z   \n",
       "206                    Peach Crush           22  2017-11-15T08:29:30.000Z   \n",
       "...                            ...          ...                       ...   \n",
       "14791                        RT TV           22  2018-06-11T06:39:01.000Z   \n",
       "14852                    SBS Catch           24  2018-06-12T05:00:01.000Z   \n",
       "14930                    SBS Catch           24  2018-06-12T05:00:01.000Z   \n",
       "14965                    SBS Catch           24  2018-06-12T05:00:01.000Z   \n",
       "14995        Disney Movie Trailers            1  2018-06-13T07:00:00.000Z   \n",
       "\n",
       "                                                    tags    views  likes  \\\n",
       "34     영화걸작선|\"영화\"|\"애니\"|\"demasian\"|\"거의없다\"|\"없다\"|\"걸작선\"|\"...    78134   3126   \n",
       "117                                                 채널 A    85097    223   \n",
       "157    영화걸작선|\"영화\"|\"애니\"|\"demasian\"|\"거의없다\"|\"없다\"|\"걸작선\"|\"...    84466   3226   \n",
       "158    sau anh hao quang|\"sau ánh hào quang\"|\"sau anh...  1544710  12417   \n",
       "206    워너원|\"강다니엘\"|\"직캠\"|\"AAA\"|\"레드카펫\"|\"WANNAONE\"|\"KANGD...    30451   1763   \n",
       "...                                                  ...      ...    ...   \n",
       "14791  bts ddaeng|\"bts rm suga j hope ddaeng\"|\"ddaeng...   114672   7056   \n",
       "14852  스브스캐치|\"미운우리새끼\"|\"미우새 양세형\"|\"양세형\"|\"양세형 레전드\"|\"미운우리...    96412    572   \n",
       "14930  스브스캐치|\"미운우리새끼\"|\"미우새 양세형\"|\"양세형\"|\"양세형 레전드\"|\"미운우리...    96412    572   \n",
       "14965  스브스캐치|\"미운우리새끼\"|\"미우새 양세형\"|\"양세형\"|\"양세형 레전드\"|\"미운우리...   150166    691   \n",
       "14995  Disney|\"Walt Disney Studios\"|\"Dumbo\"|\"Flying E...  4427381  96391   \n",
       "\n",
       "       dislikes  comment_count  \\\n",
       "34           28            615   \n",
       "117          20             95   \n",
       "157          30            630   \n",
       "158         803           2186   \n",
       "206           5            118   \n",
       "...         ...            ...   \n",
       "14791        44            588   \n",
       "14852        22             93   \n",
       "14930        22             93   \n",
       "14965        31            112   \n",
       "14995      5508          12726   \n",
       "\n",
       "                                       thumbnail_link  comments_disabled  \\\n",
       "34     https://i.ytimg.com/vi/-JPy_nBFDtc/default.jpg              False   \n",
       "117    https://i.ytimg.com/vi/-yRXK7elKnU/default.jpg              False   \n",
       "157    https://i.ytimg.com/vi/-JPy_nBFDtc/default.jpg              False   \n",
       "158    https://i.ytimg.com/vi/-k6j6Dkyl1M/default.jpg              False   \n",
       "206    https://i.ytimg.com/vi/-krZhrUSEUU/default.jpg              False   \n",
       "...                                               ...                ...   \n",
       "14791  https://i.ytimg.com/vi/-VCm09pywpc/default.jpg              False   \n",
       "14852  https://i.ytimg.com/vi/-Yr3cNO_09o/default.jpg              False   \n",
       "14930  https://i.ytimg.com/vi/-Yr3cNO_09o/default.jpg              False   \n",
       "14965  https://i.ytimg.com/vi/-Yr3cNO_09o/default.jpg              False   \n",
       "14995  https://i.ytimg.com/vi/-QPdRfqTnt4/default.jpg              False   \n",
       "\n",
       "       ratings_disabled  video_error_or_removed  \\\n",
       "34                False                   False   \n",
       "117               False                   False   \n",
       "157               False                   False   \n",
       "158               False                   False   \n",
       "206               False                   False   \n",
       "...                 ...                     ...   \n",
       "14791             False                   False   \n",
       "14852             False                   False   \n",
       "14930             False                   False   \n",
       "14965             False                   False   \n",
       "14995             False                   False   \n",
       "\n",
       "                                             description  r_avg  g_avg  b_avg  \n",
       "34     좋은 패 잔뜩 들고 뭐하는거야...  공포영화를 줘, 고구마 말고!!\\n잘 나가던 ...     64     65     40  \n",
       "117    [채널A단독]北 병사 현재 '의식불명'… 혈압 떨어지는 중\\n[채널A단독]우리측 초...     76     83     92  \n",
       "157    좋은 패 잔뜩 들고 뭐하는거야...  공포영화를 줘, 고구마 말고!!\\n잘 나가던 ...     64     65     40  \n",
       "158    sau anh hao quang, sau ánh hào quang, sau anh ...     97     82     84  \n",
       "206    B.G.M : Be there - 치즈\\n\\n출처 명시 및 로고 유지 하에 짤 생성...    101    105    120  \n",
       "...                                                  ...    ...    ...    ...  \n",
       "14791  BTS RM, SUGA, J-HOPE - DDAENG (땡) (DISS) REACT...    112    100     92  \n",
       "14852  [스브스캐치] 구독하기▶https://goo.gl/bnT3WD미운우리새끼 양세형이 ...     59     48     43  \n",
       "14930  [스브스캐치] 구독하기▶https://goo.gl/bnT3WD미운우리새끼 양세형이 ...     59     48     43  \n",
       "14965  [스브스캐치] 구독하기▶https://goo.gl/bnT3WD미운우리새끼 양세형이 ...     59     48     43  \n",
       "14995  Watch the teaser trailer for Tim Burton’s all-...     59     56     56  \n",
       "\n",
       "[211 rows x 19 columns]"
      ]
     },
     "execution_count": 18,
     "metadata": {},
     "output_type": "execute_result"
    }
   ],
   "source": [
    "# video_id가 '#NAME?' 인 데이터 목록 추출\n",
    "print(f'video_id가 #NAME?인 데이터의 개수는',len(df_rgb[df_rgb['video_id']=='#NAME?']), '개 이다.\\n')\n",
    "\n",
    "df_rgb[df_rgb['video_id']=='#NAME?']"
   ]
  },
  {
   "cell_type": "code",
   "execution_count": 19,
   "metadata": {
    "ExecuteTime": {
     "end_time": "2021-11-02T17:16:01.272282Z",
     "start_time": "2021-11-02T17:16:01.262343Z"
    },
    "colab": {
     "base_uri": "https://localhost:8080/"
    },
    "id": "kvKWPcX2S0Ko",
    "outputId": "d673dea4-9fc9-4226-f832-47db7da14e99"
   },
   "outputs": [
    {
     "name": "stdout",
     "output_type": "stream",
     "text": [
      "video_id가 중복인 데이터 삭제 전: 15019\n",
      "video_id가 중복인 데이터 삭제 후: 6578\n"
     ]
    }
   ],
   "source": [
    "print('video_id가 중복인 데이터 삭제 전:', len(df_rgb))\n",
    "df_rgb2 = df_rgb.drop_duplicates('video_id')\n",
    "print('video_id가 중복인 데이터 삭제 후:', len(df_rgb2))\n",
    "df_rgb2 = df_rgb2.reset_index(drop=True)"
   ]
  },
  {
   "cell_type": "code",
   "execution_count": 20,
   "metadata": {
    "ExecuteTime": {
     "end_time": "2021-11-02T17:16:01.303200Z",
     "start_time": "2021-11-02T17:16:01.275275Z"
    },
    "colab": {
     "base_uri": "https://localhost:8080/",
     "height": 802
    },
    "id": "u2MQLtuyJ-aW",
    "outputId": "80eb480c-046a-49c4-cfda-2554f9ef1c00"
   },
   "outputs": [
    {
     "data": {
      "text/html": [
       "<div>\n",
       "<style scoped>\n",
       "    .dataframe tbody tr th:only-of-type {\n",
       "        vertical-align: middle;\n",
       "    }\n",
       "\n",
       "    .dataframe tbody tr th {\n",
       "        vertical-align: top;\n",
       "    }\n",
       "\n",
       "    .dataframe thead th {\n",
       "        text-align: right;\n",
       "    }\n",
       "</style>\n",
       "<table border=\"1\" class=\"dataframe\">\n",
       "  <thead>\n",
       "    <tr style=\"text-align: right;\">\n",
       "      <th></th>\n",
       "      <th>video_id</th>\n",
       "      <th>trending_date</th>\n",
       "      <th>title</th>\n",
       "      <th>channel_title</th>\n",
       "      <th>category_id</th>\n",
       "      <th>publish_time</th>\n",
       "      <th>tags</th>\n",
       "      <th>views</th>\n",
       "      <th>likes</th>\n",
       "      <th>dislikes</th>\n",
       "      <th>comment_count</th>\n",
       "      <th>thumbnail_link</th>\n",
       "      <th>comments_disabled</th>\n",
       "      <th>ratings_disabled</th>\n",
       "      <th>video_error_or_removed</th>\n",
       "      <th>description</th>\n",
       "      <th>r_avg</th>\n",
       "      <th>g_avg</th>\n",
       "      <th>b_avg</th>\n",
       "    </tr>\n",
       "  </thead>\n",
       "  <tbody>\n",
       "    <tr>\n",
       "      <th>0</th>\n",
       "      <td>RxGQe4EeEpA</td>\n",
       "      <td>17.14.11</td>\n",
       "      <td>좋아 by 민서_윤종신_좋니 답가</td>\n",
       "      <td>라푸마코리아</td>\n",
       "      <td>22</td>\n",
       "      <td>2017-11-13T07:07:36.000Z</td>\n",
       "      <td>라푸마|\"윤종신\"|\"좋니\"|\"좋아\"|\"샬레\"|\"민서\"</td>\n",
       "      <td>156130</td>\n",
       "      <td>1422</td>\n",
       "      <td>40</td>\n",
       "      <td>272</td>\n",
       "      <td>https://i.ytimg.com/vi/RxGQe4EeEpA/default.jpg</td>\n",
       "      <td>False</td>\n",
       "      <td>False</td>\n",
       "      <td>False</td>\n",
       "      <td>윤종신 '좋니'의 답가 '좋아' 최초 공개!\\n그 여자의 이야기를 지금 만나보세요....</td>\n",
       "      <td>56</td>\n",
       "      <td>41</td>\n",
       "      <td>31</td>\n",
       "    </tr>\n",
       "    <tr>\n",
       "      <th>1</th>\n",
       "      <td>9V8bnWUmE9U</td>\n",
       "      <td>17.14.11</td>\n",
       "      <td>나몰라패밀리 운동화 영상 2탄 (빼빼로데이버젼)</td>\n",
       "      <td>나몰라패밀리 핫쇼</td>\n",
       "      <td>22</td>\n",
       "      <td>2017-11-11T07:16:08.000Z</td>\n",
       "      <td>아디다스|\"빼빼로\"|\"핫쇼\"|\"나몰라패밀리\"|\"대학로\"|\"공연\"</td>\n",
       "      <td>421409</td>\n",
       "      <td>5112</td>\n",
       "      <td>166</td>\n",
       "      <td>459</td>\n",
       "      <td>https://i.ytimg.com/vi/9V8bnWUmE9U/default.jpg</td>\n",
       "      <td>False</td>\n",
       "      <td>False</td>\n",
       "      <td>False</td>\n",
       "      <td>퍼가실때 꼭 출처 부탁드려요</td>\n",
       "      <td>105</td>\n",
       "      <td>84</td>\n",
       "      <td>86</td>\n",
       "    </tr>\n",
       "    <tr>\n",
       "      <th>2</th>\n",
       "      <td>0_8py-t5R80</td>\n",
       "      <td>17.14.11</td>\n",
       "      <td>이명박 출국 현장, 놓치면 안되는 장면</td>\n",
       "      <td>미디어몽구</td>\n",
       "      <td>25</td>\n",
       "      <td>2017-11-12T11:19:52.000Z</td>\n",
       "      <td>이명박|\"이명박 출국금지\"|\"이명박 출국현장\"|\"이명박 바레인\"|\"이명박 대통령\"|...</td>\n",
       "      <td>222850</td>\n",
       "      <td>2093</td>\n",
       "      <td>173</td>\n",
       "      <td>1219</td>\n",
       "      <td>https://i.ytimg.com/vi/0_8py-t5R80/default.jpg</td>\n",
       "      <td>False</td>\n",
       "      <td>False</td>\n",
       "      <td>False</td>\n",
       "      <td>다스는 누구겁니까 듣고 난 후 표정</td>\n",
       "      <td>89</td>\n",
       "      <td>86</td>\n",
       "      <td>86</td>\n",
       "    </tr>\n",
       "    <tr>\n",
       "      <th>3</th>\n",
       "      <td>bk55RbxiQdI</td>\n",
       "      <td>17.14.11</td>\n",
       "      <td>김장겸은 물러갔다 MBC 노조 환호와 눈물</td>\n",
       "      <td>NocutV</td>\n",
       "      <td>25</td>\n",
       "      <td>2017-11-13T11:08:59.000Z</td>\n",
       "      <td>nocutV|\"노컷V\"|\"CBS\"|\"mbc\"|\"김장겸\"|\"해임\"|\"허일후\"</td>\n",
       "      <td>84466</td>\n",
       "      <td>1094</td>\n",
       "      <td>109</td>\n",
       "      <td>450</td>\n",
       "      <td>https://i.ytimg.com/vi/bk55RbxiQdI/default.jpg</td>\n",
       "      <td>False</td>\n",
       "      <td>False</td>\n",
       "      <td>False</td>\n",
       "      <td>김장겸 MBC 사장이 결국 해임됐다.\\n\\nMBC 대주주인 방송문화진흥회는 13일 ...</td>\n",
       "      <td>81</td>\n",
       "      <td>77</td>\n",
       "      <td>61</td>\n",
       "    </tr>\n",
       "    <tr>\n",
       "      <th>4</th>\n",
       "      <td>AmP0ryzDmbY</td>\n",
       "      <td>17.14.11</td>\n",
       "      <td>김정숙 여사는 왜 갑자기 문재인 대통령 주머니에 손을 넣었나? 인도네시아 대통령도 깜놀</td>\n",
       "      <td>하우스</td>\n",
       "      <td>25</td>\n",
       "      <td>2017-11-12T10:17:48.000Z</td>\n",
       "      <td>김정숙|\"김정숙 여사\"|\"김정숙 문재인\"|\"문재인 대통령\"|\"문재인\"|\"문재인 인도...</td>\n",
       "      <td>188707</td>\n",
       "      <td>545</td>\n",
       "      <td>311</td>\n",
       "      <td>357</td>\n",
       "      <td>https://i.ytimg.com/vi/AmP0ryzDmbY/default.jpg</td>\n",
       "      <td>False</td>\n",
       "      <td>False</td>\n",
       "      <td>False</td>\n",
       "      <td>김정숙 여사는 왜 갑자기 문재인 대통령 주머니에 손을 넣었나? 인도네시아 대통령도 ...</td>\n",
       "      <td>117</td>\n",
       "      <td>103</td>\n",
       "      <td>100</td>\n",
       "    </tr>\n",
       "  </tbody>\n",
       "</table>\n",
       "</div>"
      ],
      "text/plain": [
       "      video_id trending_date  \\\n",
       "0  RxGQe4EeEpA      17.14.11   \n",
       "1  9V8bnWUmE9U      17.14.11   \n",
       "2  0_8py-t5R80      17.14.11   \n",
       "3  bk55RbxiQdI      17.14.11   \n",
       "4  AmP0ryzDmbY      17.14.11   \n",
       "\n",
       "                                              title channel_title  \\\n",
       "0                                좋아 by 민서_윤종신_좋니 답가        라푸마코리아   \n",
       "1                        나몰라패밀리 운동화 영상 2탄 (빼빼로데이버젼)     나몰라패밀리 핫쇼   \n",
       "2                        이명박 출국 현장, 놓치면 안되는 장면         미디어몽구   \n",
       "3                           김장겸은 물러갔다 MBC 노조 환호와 눈물        NocutV   \n",
       "4  김정숙 여사는 왜 갑자기 문재인 대통령 주머니에 손을 넣었나? 인도네시아 대통령도 깜놀           하우스   \n",
       "\n",
       "   category_id              publish_time  \\\n",
       "0           22  2017-11-13T07:07:36.000Z   \n",
       "1           22  2017-11-11T07:16:08.000Z   \n",
       "2           25  2017-11-12T11:19:52.000Z   \n",
       "3           25  2017-11-13T11:08:59.000Z   \n",
       "4           25  2017-11-12T10:17:48.000Z   \n",
       "\n",
       "                                                tags   views  likes  dislikes  \\\n",
       "0                      라푸마|\"윤종신\"|\"좋니\"|\"좋아\"|\"샬레\"|\"민서\"  156130   1422        40   \n",
       "1                아디다스|\"빼빼로\"|\"핫쇼\"|\"나몰라패밀리\"|\"대학로\"|\"공연\"  421409   5112       166   \n",
       "2  이명박|\"이명박 출국금지\"|\"이명박 출국현장\"|\"이명박 바레인\"|\"이명박 대통령\"|...  222850   2093       173   \n",
       "3          nocutV|\"노컷V\"|\"CBS\"|\"mbc\"|\"김장겸\"|\"해임\"|\"허일후\"   84466   1094       109   \n",
       "4  김정숙|\"김정숙 여사\"|\"김정숙 문재인\"|\"문재인 대통령\"|\"문재인\"|\"문재인 인도...  188707    545       311   \n",
       "\n",
       "   comment_count                                  thumbnail_link  \\\n",
       "0            272  https://i.ytimg.com/vi/RxGQe4EeEpA/default.jpg   \n",
       "1            459  https://i.ytimg.com/vi/9V8bnWUmE9U/default.jpg   \n",
       "2           1219  https://i.ytimg.com/vi/0_8py-t5R80/default.jpg   \n",
       "3            450  https://i.ytimg.com/vi/bk55RbxiQdI/default.jpg   \n",
       "4            357  https://i.ytimg.com/vi/AmP0ryzDmbY/default.jpg   \n",
       "\n",
       "   comments_disabled  ratings_disabled  video_error_or_removed  \\\n",
       "0              False             False                   False   \n",
       "1              False             False                   False   \n",
       "2              False             False                   False   \n",
       "3              False             False                   False   \n",
       "4              False             False                   False   \n",
       "\n",
       "                                         description  r_avg  g_avg  b_avg  \n",
       "0  윤종신 '좋니'의 답가 '좋아' 최초 공개!\\n그 여자의 이야기를 지금 만나보세요....     56     41     31  \n",
       "1                                    퍼가실때 꼭 출처 부탁드려요    105     84     86  \n",
       "2                                다스는 누구겁니까 듣고 난 후 표정     89     86     86  \n",
       "3  김장겸 MBC 사장이 결국 해임됐다.\\n\\nMBC 대주주인 방송문화진흥회는 13일 ...     81     77     61  \n",
       "4  김정숙 여사는 왜 갑자기 문재인 대통령 주머니에 손을 넣었나? 인도네시아 대통령도 ...    117    103    100  "
      ]
     },
     "execution_count": 20,
     "metadata": {},
     "output_type": "execute_result"
    }
   ],
   "source": [
    "# 결과 확인\n",
    "df_rgb2.head(5)"
   ]
  },
  {
   "cell_type": "markdown",
   "metadata": {},
   "source": [
    "## publish_time & trending_date 컬럼 전처리\n",
    "---\n",
    "\n",
    "- 각각의 데이터로는 큰 의미가 없을 것 같다. \n",
    "- 하지만 영상을 올린날과 인기 영상으로 집계된 날의 차이를 보면 유의미한 데이터가 될 수 있을 것 같다. (= 경과 일수))"
   ]
  },
  {
   "cell_type": "markdown",
   "metadata": {},
   "source": [
    "### publish_time 전처리\n",
    "\n",
    "- 데이터에 'T'와 'Z'라는 불필요한 데이터가 들어가 있다.\n",
    "- 상세한 시간 데이터는 불필요한 데이터일 듯 하다.  \n",
    "- split()을 이용해 'T'를 기준으로 나눠준다."
   ]
  },
  {
   "cell_type": "code",
   "execution_count": 21,
   "metadata": {
    "ExecuteTime": {
     "end_time": "2021-11-02T17:16:01.319182Z",
     "start_time": "2021-11-02T17:16:01.304198Z"
    },
    "colab": {
     "base_uri": "https://localhost:8080/"
    },
    "id": "U-m0se7vaSrO",
    "outputId": "a92f7bbb-19d4-4553-c015-059117663607"
   },
   "outputs": [
    {
     "data": {
      "text/plain": [
       "0      2017-11-13\n",
       "1      2017-11-11\n",
       "2      2017-11-12\n",
       "3      2017-11-13\n",
       "4      2017-11-12\n",
       "          ...    \n",
       "6573   2018-06-11\n",
       "6574   2018-06-13\n",
       "6575   2018-06-13\n",
       "6576   2018-06-13\n",
       "6577   2018-06-13\n",
       "Name: publish_date, Length: 6578, dtype: datetime64[ns]"
      ]
     },
     "execution_count": 21,
     "metadata": {},
     "output_type": "execute_result"
    }
   ],
   "source": [
    "df_rgb2['publish_time2'] = df_rgb2['publish_time'].apply(lambda x: x.split('T')[0]) # str타입으로 변경\n",
    "df_rgb2['publish_date'] = df_rgb2['publish_time2'].astype('datetime64[ns]') # datetime 타입으로 변경\n",
    "df_rgb2['publish_date']"
   ]
  },
  {
   "cell_type": "markdown",
   "metadata": {},
   "source": [
    "### trending_date 전처리"
   ]
  },
  {
   "cell_type": "code",
   "execution_count": 22,
   "metadata": {
    "ExecuteTime": {
     "end_time": "2021-11-02T17:16:01.350104Z",
     "start_time": "2021-11-02T17:16:01.322149Z"
    },
    "colab": {
     "base_uri": "https://localhost:8080/"
    },
    "id": "qWIpoOWShaBq",
    "outputId": "186ccfe7-1303-462b-a062-014d3c7798f0"
   },
   "outputs": [
    {
     "data": {
      "text/plain": [
       "0      2017-11-14\n",
       "1      2017-11-14\n",
       "2      2017-11-14\n",
       "3      2017-11-14\n",
       "4      2017-11-14\n",
       "          ...    \n",
       "6573   2018-06-14\n",
       "6574   2018-06-14\n",
       "6575   2018-06-14\n",
       "6576   2018-06-14\n",
       "6577   2018-06-14\n",
       "Name: trending_date, Length: 6578, dtype: datetime64[ns]"
      ]
     },
     "execution_count": 22,
     "metadata": {},
     "output_type": "execute_result"
    }
   ],
   "source": [
    "# 연/월/일 형식으로 지정\n",
    "# 단정할 순 없지만 publish_tiem이 17년으로 시작하는 것으로 보아 17은 연도일 가능성이 크다.\n",
    "\n",
    "df_rgb2['trending_date'] = pd.to_datetime(df_rgb2['trending_date'], format=\"%y.%d.%m\")\n",
    "df_rgb2['trending_date']"
   ]
  },
  {
   "cell_type": "markdown",
   "metadata": {},
   "source": [
    "### 경과 일수 데이터(=elapsed_day) 생성\n",
    "\n",
    "- 영상을 올린날에 인기동영상 데이터로 수집된 경우 단순 연산을 하면 값이 0이 될 수 밖에 없다.\n",
    "- 따라서 1을 더해서 데이터가 유의미한 값을 가질 수 있도록 처리한다."
   ]
  },
  {
   "cell_type": "code",
   "execution_count": 23,
   "metadata": {
    "ExecuteTime": {
     "end_time": "2021-11-02T17:16:01.365063Z",
     "start_time": "2021-11-02T17:16:01.352069Z"
    },
    "colab": {
     "base_uri": "https://localhost:8080/"
    },
    "id": "yzTsLtWUiDa8",
    "outputId": "be63c85e-284d-4d2d-f223-57d8deb2c75f"
   },
   "outputs": [
    {
     "data": {
      "text/plain": [
       "0       2\n",
       "1       4\n",
       "2       3\n",
       "3       2\n",
       "4       3\n",
       "       ..\n",
       "6573    4\n",
       "6574    2\n",
       "6575    2\n",
       "6576    2\n",
       "6577    2\n",
       "Name: elapsed_day, Length: 6578, dtype: int64"
      ]
     },
     "execution_count": 23,
     "metadata": {},
     "output_type": "execute_result"
    }
   ],
   "source": [
    "df_rgb2['elapsed_day'] = df_rgb2['trending_date'] - df_rgb2['publish_date'] + datetime.timedelta(days=1)\n",
    "df_rgb2['elapsed_day'] = df_rgb2['elapsed_day'].dt.days # datetime64 형태에서 원하는 형태인 day형태로 변환\n",
    "df_rgb2['elapsed_day']"
   ]
  },
  {
   "cell_type": "markdown",
   "metadata": {},
   "source": [
    "## 영상 관심도(total_number_of_sign)\n",
    "\n",
    "- 좋아요 수 + 싫어요 수"
   ]
  },
  {
   "cell_type": "code",
   "execution_count": 24,
   "metadata": {
    "ExecuteTime": {
     "end_time": "2021-11-02T17:16:01.379994Z",
     "start_time": "2021-11-02T17:16:01.367029Z"
    }
   },
   "outputs": [],
   "source": [
    "# 영상 관심도 (total_number_of_sign)\n",
    "df_rgb2['total_number_of_sign'] = df_rgb2['likes'] + df_rgb2['dislikes']"
   ]
  },
  {
   "cell_type": "markdown",
   "metadata": {},
   "source": [
    "## 영상에 달린 tag의 수\n",
    "\n",
    "- 텍스트 데이터에서 가장 단순하게 의미를 추출할때 사용 가능한 방법\n",
    "- 그 외에 tag에 사용된 단어 의미간의 군집도, 벡터 or 코사인 거리 등을 추출해보는 것도 좋은 방법\n",
    "- 관련 전처리가 많이 늘어 나기 때문에 추후 sub-project로 진행 할 예정\n",
    "---\n",
    "\n",
    "- tag 예시 : 라푸마|\"윤종신\"|\"좋니\"|\"좋아\"|\"샬레\"|\"민서\"\n",
    "- '|' 로 각 tag가 구분되어 string으로 되어 있다.\n",
    "- 이를 | 기준으로 split한뒤에 몇개의 tag가 사용되었는지 len으로 count한다.\n",
    "- 단, tag가 없는 경우를 대비해 none이 아니라면 count하고, none이면 0으로 바꿔준다."
   ]
  },
  {
   "cell_type": "code",
   "execution_count": 25,
   "metadata": {
    "ExecuteTime": {
     "end_time": "2021-11-02T17:16:01.409915Z",
     "start_time": "2021-11-02T17:16:01.381989Z"
    }
   },
   "outputs": [],
   "source": [
    "df_rgb2['number_of_tag'] = df_rgb2['tags'].apply(lambda x: len(x.split('|')) if x != '[none]' else 0)"
   ]
  },
  {
   "cell_type": "markdown",
   "metadata": {},
   "source": [
    "## 영상에 대한 긍정평가 비율 (positive_ratio)\n",
    "\n",
    "- 기존 idea = like 수 / dislike 수\n",
    "- 문제 발생 : dislike 수가 0인 경우가 발생 -> 연산 결과가 inf로 나옴.(모델이 데이터 해석을 할수 없다.)\n",
    "- 즉, inf를 다른 값으로 replace 해줘야 한다.\n",
    "- 보통은 df내에 있는 다른 값보다 '충분히 큰값' 으로 대체를 해준다. (max값 많이 사용)\n",
    "- 하지만 max값으로 대체할 경우 추후 모델링을 위해 scailing을 했을때, 다른 값들이 한곳으로 뭉쳐서 데이터간 대소 구분이 불가해진다.(데이터 왜곡)\n",
    "- 해결책 : \"like 수 / dislike 수\" 결과 중 inf 제외 가장 큰 값을 찾아서 배수를 곱해준다.\n",
    "- **왜 1.5를 곱할까?**\n",
    "    - 분석가의 임의 설정 값\n",
    "    - max값을 10배로 한다면 기존의 다른 값들이 1/10 이하로 뭉쳐서 왜곡될 우려가 있다. (적당히 크게 만들어 줘야 함.)"
   ]
  },
  {
   "cell_type": "code",
   "execution_count": 26,
   "metadata": {
    "ExecuteTime": {
     "end_time": "2021-11-02T17:16:01.469754Z",
     "start_time": "2021-11-02T17:16:01.411909Z"
    }
   },
   "outputs": [],
   "source": [
    "df_rgb2['positive_ratio'] = df_rgb2['likes'] / df_rgb2['dislikes']\n",
    "\n",
    "# 현재 df_rgb2['positive_ratio'] 에서 max값은 'inf' 이므로 여기에 1.5를 곱해봐야 무의미\n",
    "# inf를 0으로 replace한 결과를 추출\n",
    "positive_ratio_max = df_rgb2['positive_ratio'].replace([np.inf, -np.inf], 0).max() \n",
    "\n",
    "# inf값을 사전에 구한 positive_ratio_max (inf를 제외한 max값에 1.5곱한 것)\n",
    "df_rgb2['positive_ratio'] = df_rgb2['positive_ratio'].replace([np.inf, -np.inf], positive_ratio_max*1.5) # 가장 큰값 * 1.5한 값으로 inf를 대체"
   ]
  },
  {
   "cell_type": "markdown",
   "metadata": {},
   "source": [
    "## 영상의 하루당 관심도 (sign_per_day)\n",
    "- 영상 전체의 관심도(total_number_of_sign) / 경과일 (elapsed_day) \n",
    "- 즉, 영상에 대한 관심이 매일 얼마나 되었는가"
   ]
  },
  {
   "cell_type": "code",
   "execution_count": 27,
   "metadata": {
    "ExecuteTime": {
     "end_time": "2021-11-02T17:16:01.485736Z",
     "start_time": "2021-11-02T17:16:01.472778Z"
    }
   },
   "outputs": [],
   "source": [
    "df_rgb2['sign_per_day'] = df_rgb2['total_number_of_sign'] / df_rgb2['elapsed_day']"
   ]
  },
  {
   "cell_type": "markdown",
   "metadata": {},
   "source": [
    "## 하루에 영상에 대해 내려지는 긍정평가의 비율 (positive_ratio)\n",
    "\n",
    "- 영상에 대한 전체 긍정평가 비율 / 경과일"
   ]
  },
  {
   "cell_type": "code",
   "execution_count": 28,
   "metadata": {
    "ExecuteTime": {
     "end_time": "2021-11-02T17:16:01.501693Z",
     "start_time": "2021-11-02T17:16:01.487708Z"
    }
   },
   "outputs": [],
   "source": [
    "df_rgb2['positive_ratio_per_day'] = df_rgb2['positive_ratio'] / df_rgb2['elapsed_day']"
   ]
  },
  {
   "cell_type": "markdown",
   "metadata": {},
   "source": [
    "## 영상에 하루에 달리는 댓글의 수 (comment_per_day)\n",
    "\n",
    "- 전체 댓글 수 / 경과일"
   ]
  },
  {
   "cell_type": "code",
   "execution_count": 29,
   "metadata": {
    "ExecuteTime": {
     "end_time": "2021-11-02T17:16:01.516660Z",
     "start_time": "2021-11-02T17:16:01.503663Z"
    }
   },
   "outputs": [],
   "source": [
    "df_rgb2['comment_per_day'] = df_rgb2['comment_count'] / df_rgb2['elapsed_day']"
   ]
  },
  {
   "cell_type": "markdown",
   "metadata": {},
   "source": [
    "## 영상에 대한 총 관심도 비율(total_sign_comment_ratio)\n",
    "\n",
    "- 전체 관심도 / 댓글 수\n",
    "- 단, comment_count가 0인 경우가 있다. (positive_ratio와 동일한 경우)\n",
    "- 동일 방식으로 처리"
   ]
  },
  {
   "cell_type": "code",
   "execution_count": 30,
   "metadata": {
    "ExecuteTime": {
     "end_time": "2021-11-02T17:16:01.532586Z",
     "start_time": "2021-11-02T17:16:01.518623Z"
    }
   },
   "outputs": [],
   "source": [
    "# 총 관심 비율 계산\n",
    "df_rgb2['total_sign_comment_ratio'] = df_rgb2['total_number_of_sign'] / df_rgb2['comment_count']\n",
    "\n",
    "# inf값을 제외한 max값 구하기\n",
    "total_sign_comment_ratio_max = df_rgb2['total_sign_comment_ratio'].replace([np.inf, -np.inf], 0).max() # string개수 count\n",
    "\n",
    "\n",
    "df_rgb2['total_sign_comment_ratio'] = \\\n",
    "df_rgb2['total_sign_comment_ratio'].replace([np.inf, -np.inf], total_sign_comment_ratio_max*1.5)"
   ]
  },
  {
   "cell_type": "markdown",
   "metadata": {},
   "source": [
    "## 영상의 description길이 (description_length)\n",
    "\n",
    "- 영상 description에 얼마나 자세한 설명을 제공하는가\n",
    "- tag 개수 count할때와 비슷"
   ]
  },
  {
   "cell_type": "code",
   "execution_count": 31,
   "metadata": {
    "ExecuteTime": {
     "end_time": "2021-11-02T17:16:01.547546Z",
     "start_time": "2021-11-02T17:16:01.533584Z"
    }
   },
   "outputs": [],
   "source": [
    "df_rgb2['description_length'] = df_rgb2['description'].apply(lambda x: len(str(x) if pd.isnull(x) is False else 0))"
   ]
  },
  {
   "cell_type": "markdown",
   "metadata": {},
   "source": [
    "## 영상 제목의 길이(title_length)"
   ]
  },
  {
   "cell_type": "code",
   "execution_count": 32,
   "metadata": {
    "ExecuteTime": {
     "end_time": "2021-11-02T17:16:01.562530Z",
     "start_time": "2021-11-02T17:16:01.549541Z"
    }
   },
   "outputs": [],
   "source": [
    "df_rgb2['title_length'] = df_rgb2['title'].apply(lambda x: len(str(x) if pd.isnull(x) is False else 0))"
   ]
  },
  {
   "cell_type": "code",
   "execution_count": 33,
   "metadata": {
    "ExecuteTime": {
     "end_time": "2021-11-02T17:16:01.592426Z",
     "start_time": "2021-11-02T17:16:01.564501Z"
    }
   },
   "outputs": [
    {
     "data": {
      "text/html": [
       "<div>\n",
       "<style scoped>\n",
       "    .dataframe tbody tr th:only-of-type {\n",
       "        vertical-align: middle;\n",
       "    }\n",
       "\n",
       "    .dataframe tbody tr th {\n",
       "        vertical-align: top;\n",
       "    }\n",
       "\n",
       "    .dataframe thead th {\n",
       "        text-align: right;\n",
       "    }\n",
       "</style>\n",
       "<table border=\"1\" class=\"dataframe\">\n",
       "  <thead>\n",
       "    <tr style=\"text-align: right;\">\n",
       "      <th></th>\n",
       "      <th>video_id</th>\n",
       "      <th>trending_date</th>\n",
       "      <th>title</th>\n",
       "      <th>channel_title</th>\n",
       "      <th>category_id</th>\n",
       "      <th>publish_time</th>\n",
       "      <th>tags</th>\n",
       "      <th>views</th>\n",
       "      <th>likes</th>\n",
       "      <th>dislikes</th>\n",
       "      <th>...</th>\n",
       "      <th>elapsed_day</th>\n",
       "      <th>total_number_of_sign</th>\n",
       "      <th>number_of_tag</th>\n",
       "      <th>positive_ratio</th>\n",
       "      <th>sign_per_day</th>\n",
       "      <th>positive_ratio_per_day</th>\n",
       "      <th>comment_per_day</th>\n",
       "      <th>total_sign_comment_ratio</th>\n",
       "      <th>description_length</th>\n",
       "      <th>title_length</th>\n",
       "    </tr>\n",
       "  </thead>\n",
       "  <tbody>\n",
       "    <tr>\n",
       "      <th>0</th>\n",
       "      <td>RxGQe4EeEpA</td>\n",
       "      <td>2017-11-14</td>\n",
       "      <td>좋아 by 민서_윤종신_좋니 답가</td>\n",
       "      <td>라푸마코리아</td>\n",
       "      <td>22</td>\n",
       "      <td>2017-11-13T07:07:36.000Z</td>\n",
       "      <td>라푸마|\"윤종신\"|\"좋니\"|\"좋아\"|\"샬레\"|\"민서\"</td>\n",
       "      <td>156130</td>\n",
       "      <td>1422</td>\n",
       "      <td>40</td>\n",
       "      <td>...</td>\n",
       "      <td>2</td>\n",
       "      <td>1462</td>\n",
       "      <td>6</td>\n",
       "      <td>35.55</td>\n",
       "      <td>731.00</td>\n",
       "      <td>17.77</td>\n",
       "      <td>136.00</td>\n",
       "      <td>5.38</td>\n",
       "      <td>152</td>\n",
       "      <td>18</td>\n",
       "    </tr>\n",
       "    <tr>\n",
       "      <th>1</th>\n",
       "      <td>9V8bnWUmE9U</td>\n",
       "      <td>2017-11-14</td>\n",
       "      <td>나몰라패밀리 운동화 영상 2탄 (빼빼로데이버젼)</td>\n",
       "      <td>나몰라패밀리 핫쇼</td>\n",
       "      <td>22</td>\n",
       "      <td>2017-11-11T07:16:08.000Z</td>\n",
       "      <td>아디다스|\"빼빼로\"|\"핫쇼\"|\"나몰라패밀리\"|\"대학로\"|\"공연\"</td>\n",
       "      <td>421409</td>\n",
       "      <td>5112</td>\n",
       "      <td>166</td>\n",
       "      <td>...</td>\n",
       "      <td>4</td>\n",
       "      <td>5278</td>\n",
       "      <td>6</td>\n",
       "      <td>30.80</td>\n",
       "      <td>1319.50</td>\n",
       "      <td>7.70</td>\n",
       "      <td>114.75</td>\n",
       "      <td>11.50</td>\n",
       "      <td>15</td>\n",
       "      <td>26</td>\n",
       "    </tr>\n",
       "    <tr>\n",
       "      <th>2</th>\n",
       "      <td>0_8py-t5R80</td>\n",
       "      <td>2017-11-14</td>\n",
       "      <td>이명박 출국 현장, 놓치면 안되는 장면</td>\n",
       "      <td>미디어몽구</td>\n",
       "      <td>25</td>\n",
       "      <td>2017-11-12T11:19:52.000Z</td>\n",
       "      <td>이명박|\"이명박 출국금지\"|\"이명박 출국현장\"|\"이명박 바레인\"|\"이명박 대통령\"|...</td>\n",
       "      <td>222850</td>\n",
       "      <td>2093</td>\n",
       "      <td>173</td>\n",
       "      <td>...</td>\n",
       "      <td>3</td>\n",
       "      <td>2266</td>\n",
       "      <td>9</td>\n",
       "      <td>12.10</td>\n",
       "      <td>755.33</td>\n",
       "      <td>4.03</td>\n",
       "      <td>406.33</td>\n",
       "      <td>1.86</td>\n",
       "      <td>19</td>\n",
       "      <td>26</td>\n",
       "    </tr>\n",
       "    <tr>\n",
       "      <th>3</th>\n",
       "      <td>bk55RbxiQdI</td>\n",
       "      <td>2017-11-14</td>\n",
       "      <td>김장겸은 물러갔다 MBC 노조 환호와 눈물</td>\n",
       "      <td>NocutV</td>\n",
       "      <td>25</td>\n",
       "      <td>2017-11-13T11:08:59.000Z</td>\n",
       "      <td>nocutV|\"노컷V\"|\"CBS\"|\"mbc\"|\"김장겸\"|\"해임\"|\"허일후\"</td>\n",
       "      <td>84466</td>\n",
       "      <td>1094</td>\n",
       "      <td>109</td>\n",
       "      <td>...</td>\n",
       "      <td>2</td>\n",
       "      <td>1203</td>\n",
       "      <td>7</td>\n",
       "      <td>10.04</td>\n",
       "      <td>601.50</td>\n",
       "      <td>5.02</td>\n",
       "      <td>225.00</td>\n",
       "      <td>2.67</td>\n",
       "      <td>389</td>\n",
       "      <td>23</td>\n",
       "    </tr>\n",
       "    <tr>\n",
       "      <th>4</th>\n",
       "      <td>AmP0ryzDmbY</td>\n",
       "      <td>2017-11-14</td>\n",
       "      <td>김정숙 여사는 왜 갑자기 문재인 대통령 주머니에 손을 넣었나? 인도네시아 대통령도 깜놀</td>\n",
       "      <td>하우스</td>\n",
       "      <td>25</td>\n",
       "      <td>2017-11-12T10:17:48.000Z</td>\n",
       "      <td>김정숙|\"김정숙 여사\"|\"김정숙 문재인\"|\"문재인 대통령\"|\"문재인\"|\"문재인 인도...</td>\n",
       "      <td>188707</td>\n",
       "      <td>545</td>\n",
       "      <td>311</td>\n",
       "      <td>...</td>\n",
       "      <td>3</td>\n",
       "      <td>856</td>\n",
       "      <td>6</td>\n",
       "      <td>1.75</td>\n",
       "      <td>285.33</td>\n",
       "      <td>0.58</td>\n",
       "      <td>119.00</td>\n",
       "      <td>2.40</td>\n",
       "      <td>289</td>\n",
       "      <td>48</td>\n",
       "    </tr>\n",
       "  </tbody>\n",
       "</table>\n",
       "<p>5 rows × 31 columns</p>\n",
       "</div>"
      ],
      "text/plain": [
       "      video_id trending_date  \\\n",
       "0  RxGQe4EeEpA    2017-11-14   \n",
       "1  9V8bnWUmE9U    2017-11-14   \n",
       "2  0_8py-t5R80    2017-11-14   \n",
       "3  bk55RbxiQdI    2017-11-14   \n",
       "4  AmP0ryzDmbY    2017-11-14   \n",
       "\n",
       "                                              title channel_title  \\\n",
       "0                                좋아 by 민서_윤종신_좋니 답가        라푸마코리아   \n",
       "1                        나몰라패밀리 운동화 영상 2탄 (빼빼로데이버젼)     나몰라패밀리 핫쇼   \n",
       "2                        이명박 출국 현장, 놓치면 안되는 장면         미디어몽구   \n",
       "3                           김장겸은 물러갔다 MBC 노조 환호와 눈물        NocutV   \n",
       "4  김정숙 여사는 왜 갑자기 문재인 대통령 주머니에 손을 넣었나? 인도네시아 대통령도 깜놀           하우스   \n",
       "\n",
       "   category_id              publish_time  \\\n",
       "0           22  2017-11-13T07:07:36.000Z   \n",
       "1           22  2017-11-11T07:16:08.000Z   \n",
       "2           25  2017-11-12T11:19:52.000Z   \n",
       "3           25  2017-11-13T11:08:59.000Z   \n",
       "4           25  2017-11-12T10:17:48.000Z   \n",
       "\n",
       "                                                tags   views  likes  dislikes  \\\n",
       "0                      라푸마|\"윤종신\"|\"좋니\"|\"좋아\"|\"샬레\"|\"민서\"  156130   1422        40   \n",
       "1                아디다스|\"빼빼로\"|\"핫쇼\"|\"나몰라패밀리\"|\"대학로\"|\"공연\"  421409   5112       166   \n",
       "2  이명박|\"이명박 출국금지\"|\"이명박 출국현장\"|\"이명박 바레인\"|\"이명박 대통령\"|...  222850   2093       173   \n",
       "3          nocutV|\"노컷V\"|\"CBS\"|\"mbc\"|\"김장겸\"|\"해임\"|\"허일후\"   84466   1094       109   \n",
       "4  김정숙|\"김정숙 여사\"|\"김정숙 문재인\"|\"문재인 대통령\"|\"문재인\"|\"문재인 인도...  188707    545       311   \n",
       "\n",
       "   ...  elapsed_day total_number_of_sign  number_of_tag  positive_ratio  \\\n",
       "0  ...            2                 1462              6           35.55   \n",
       "1  ...            4                 5278              6           30.80   \n",
       "2  ...            3                 2266              9           12.10   \n",
       "3  ...            2                 1203              7           10.04   \n",
       "4  ...            3                  856              6            1.75   \n",
       "\n",
       "   sign_per_day positive_ratio_per_day  comment_per_day  \\\n",
       "0        731.00                  17.77           136.00   \n",
       "1       1319.50                   7.70           114.75   \n",
       "2        755.33                   4.03           406.33   \n",
       "3        601.50                   5.02           225.00   \n",
       "4        285.33                   0.58           119.00   \n",
       "\n",
       "   total_sign_comment_ratio  description_length title_length  \n",
       "0                      5.38                 152           18  \n",
       "1                     11.50                  15           26  \n",
       "2                      1.86                  19           26  \n",
       "3                      2.67                 389           23  \n",
       "4                      2.40                 289           48  \n",
       "\n",
       "[5 rows x 31 columns]"
      ]
     },
     "execution_count": 33,
     "metadata": {},
     "output_type": "execute_result"
    }
   ],
   "source": [
    "# 결과 확인\n",
    "df_rgb2.head()"
   ]
  },
  {
   "cell_type": "markdown",
   "metadata": {},
   "source": [
    "## channel_title 컬럼 전처리\n",
    "\n",
    "- categorical 데이터를 mean encoding을 통해 숫자 데이터로 변형\n",
    "    - channel_title_mean_enc : 채널별 평균 view 라는 새로운 컬럼 생성\n",
    "- 단순 one hot encoding을 해야 할까? -> value_counts()로 확인"
   ]
  },
  {
   "cell_type": "code",
   "execution_count": 34,
   "metadata": {
    "ExecuteTime": {
     "end_time": "2021-11-02T17:16:01.607386Z",
     "start_time": "2021-11-02T17:16:01.594421Z"
    },
    "colab": {
     "base_uri": "https://localhost:8080/"
    },
    "id": "2drbVB9tKRl3",
    "outputId": "476574f2-2577-4b91-e428-414b63402483"
   },
   "outputs": [
    {
     "data": {
      "text/plain": [
       "TV Derana                103\n",
       "JTBC News                 90\n",
       "황장수의 뉴스브리핑o               85\n",
       "tbs 시민의 방송                83\n",
       "o 황장수의 뉴스브리핑              76\n",
       "                        ... \n",
       "Disney Movie Trailers      1\n",
       "YEA! ENFERMO               1\n",
       "딩고 스튜디오                    1\n",
       "eatwithmejin               1\n",
       "ChildishGambinoVEVO        1\n",
       "Name: channel_title, Length: 1485, dtype: int64"
      ]
     },
     "execution_count": 34,
     "metadata": {},
     "output_type": "execute_result"
    }
   ],
   "source": [
    "df_rgb2['channel_title'].value_counts()"
   ]
  },
  {
   "cell_type": "markdown",
   "metadata": {},
   "source": [
    "너무 값이 많아서 one hot encoding을 할 경우 차원의 저주에 빠질 가능성이 매우 크다.\n",
    "\n",
    "- **mean encoding을 활용**\n",
    "    - channel_title 데이터의 차원수를 늘리지 않으면서 의미는 도출 가능\n",
    "    - mean_encode_channel 는 추후 channel_title_mean_enc이 어떤 의미지인지 역유추 할때 사용될 수 있으므로 keep"
   ]
  },
  {
   "cell_type": "code",
   "execution_count": 35,
   "metadata": {
    "ExecuteTime": {
     "end_time": "2021-11-02T17:16:01.622346Z",
     "start_time": "2021-11-02T17:16:01.609410Z"
    },
    "colab": {
     "base_uri": "https://localhost:8080/"
    },
    "id": "6Twa20Wzi4hB",
    "outputId": "873206a9-6527-4a13-9fbc-51c75e908033"
   },
   "outputs": [
    {
     "name": "stdout",
     "output_type": "stream",
     "text": [
      "channel_title\n",
      "!t Live                  64896.67\n",
      "& 홍대 쏭카페창현 거리노래방        150317.50\n",
      "(MUTUBE)와꾸대장봉준           72740.00\n",
      "* eundaromi             129207.50\n",
      "- 欢迎订阅 -浙江卫视【奔跑吧】官方频道   799644.00\n",
      "                           ...   \n",
      "흔한남매                    104829.00\n",
      "히스토리                    230128.00\n",
      "히죽HIZUK                  77737.00\n",
      "히히튜브                     29389.00\n",
      "힙합버스                     99130.50\n",
      "Name: views, Length: 1485, dtype: float64\n"
     ]
    }
   ],
   "source": [
    "# channel_title의 view수 평균 값 추출\n",
    "# view수 = y 값 (target value)\n",
    "mean_encode_channel = df_rgb2.groupby('channel_title')['views'].mean()\n",
    "print(mean_encode_channel) "
   ]
  },
  {
   "cell_type": "code",
   "execution_count": 36,
   "metadata": {
    "ExecuteTime": {
     "end_time": "2021-11-02T17:16:01.637306Z",
     "start_time": "2021-11-02T17:16:01.624341Z"
    },
    "colab": {
     "base_uri": "https://localhost:8080/"
    },
    "id": "6Twa20Wzi4hB",
    "outputId": "873206a9-6527-4a13-9fbc-51c75e908033"
   },
   "outputs": [
    {
     "data": {
      "text/plain": [
       "0      125208.00\n",
       "1      421409.00\n",
       "2      258691.29\n",
       "3      184936.65\n",
       "4      178386.07\n",
       "          ...   \n",
       "6573    15136.50\n",
       "6574    41945.44\n",
       "6575    31731.50\n",
       "6576    23404.00\n",
       "6577   140520.19\n",
       "Name: channel_title_mean_enc, Length: 6578, dtype: float64"
      ]
     },
     "execution_count": 36,
     "metadata": {},
     "output_type": "execute_result"
    }
   ],
   "source": [
    "# channel_title_mean_enc 컬럼에 channel_title의 평균 view 값을 mapping\n",
    "df_rgb2.loc[:, 'channel_title_mean_enc'] = df_rgb2['channel_title'].map(mean_encode_channel)\n",
    "df_rgb2['channel_title_mean_enc']"
   ]
  },
  {
   "cell_type": "markdown",
   "metadata": {},
   "source": [
    "## category_id 컬럼 전처리\n",
    "\n",
    "- channel_title과 같은 방식으로 처리"
   ]
  },
  {
   "cell_type": "code",
   "execution_count": 37,
   "metadata": {
    "ExecuteTime": {
     "end_time": "2021-11-02T17:16:01.653263Z",
     "start_time": "2021-11-02T17:16:01.640298Z"
    },
    "colab": {
     "base_uri": "https://localhost:8080/"
    },
    "id": "ZalMyfevjRzK",
    "outputId": "2029cbe7-4c98-4830-d678-a4e5a43241e8"
   },
   "outputs": [
    {
     "data": {
      "text/plain": [
       "24    1858\n",
       "25    1238\n",
       "22     872\n",
       "23     509\n",
       "10     471\n",
       "20     448\n",
       "1      352\n",
       "15     193\n",
       "17     177\n",
       "26     171\n",
       "27      88\n",
       "43      69\n",
       "29      67\n",
       "2       24\n",
       "28      23\n",
       "19      18\n",
       "Name: category_id, dtype: int64"
      ]
     },
     "execution_count": 37,
     "metadata": {},
     "output_type": "execute_result"
    }
   ],
   "source": [
    "df_rgb2['category_id'].value_counts()"
   ]
  },
  {
   "cell_type": "code",
   "execution_count": 38,
   "metadata": {
    "ExecuteTime": {
     "end_time": "2021-11-02T17:16:01.668222Z",
     "start_time": "2021-11-02T17:16:01.654261Z"
    },
    "colab": {
     "base_uri": "https://localhost:8080/"
    },
    "id": "BcJP1LQYpHLn",
    "outputId": "60673ef0-6d28-4ee4-d0cb-b750b819a15a"
   },
   "outputs": [
    {
     "name": "stdout",
     "output_type": "stream",
     "text": [
      "category_id\n",
      "1     396628.87\n",
      "2      81669.04\n",
      "10   1566611.81\n",
      "15    119128.68\n",
      "17    735331.22\n",
      "19    202138.72\n",
      "20    198043.89\n",
      "22    148025.13\n",
      "23    277000.79\n",
      "24    408503.16\n",
      "25    132860.43\n",
      "26    362402.16\n",
      "27     98294.27\n",
      "28   1678646.17\n",
      "29     23327.10\n",
      "43     78841.58\n",
      "Name: views, dtype: float64\n"
     ]
    },
    {
     "data": {
      "text/plain": [
       "0      148025.13\n",
       "1      148025.13\n",
       "2      132860.43\n",
       "3      132860.43\n",
       "4      132860.43\n",
       "          ...   \n",
       "6573   735331.22\n",
       "6574   148025.13\n",
       "6575   408503.16\n",
       "6576   396628.87\n",
       "6577   132860.43\n",
       "Name: category_id_mean_enc, Length: 6578, dtype: float64"
      ]
     },
     "execution_count": 38,
     "metadata": {},
     "output_type": "execute_result"
    }
   ],
   "source": [
    "mean_encode_category = df_rgb2.groupby('category_id')['views'].mean()\n",
    "print(mean_encode_category)\n",
    "\n",
    "df_rgb2.loc[:, 'category_id_mean_enc'] = df_rgb2['category_id'].map(mean_encode_category)\n",
    "df_rgb2['category_id_mean_enc']"
   ]
  },
  {
   "cell_type": "markdown",
   "metadata": {},
   "source": [
    "## 전처리 결과 scatter plot으로 확인 (views와 각 컬럼의 관계)\n",
    "\n",
    "- 숫자형 데이터와의 관계만을 확인 -> description 사용"
   ]
  },
  {
   "cell_type": "code",
   "execution_count": 39,
   "metadata": {
    "ExecuteTime": {
     "end_time": "2021-11-02T17:16:07.393914Z",
     "start_time": "2021-11-02T17:16:01.671215Z"
    },
    "colab": {
     "base_uri": "https://localhost:8080/",
     "height": 1000
    },
    "id": "zdMI2V34o47U",
    "outputId": "2dfcaa6a-9aeb-43a3-a4df-ae4a83c8de01"
   },
   "outputs": [
    {
     "data": {
      "image/png": "[encoded data removed]",
      "text/plain": [
       "<Figure size 1440x2160 with 19 Axes>"
      ]
     },
     "metadata": {
      "needs_background": "light"
     },
     "output_type": "display_data"
    }
   ],
   "source": [
    "plt.figure(figsize=(20, 30))\n",
    "\n",
    "for i in range(1, len(df_rgb2.describe().columns)): # 컬럼별로 describe 데이터 추출\n",
    "    plt.subplot(5, 4, i)\n",
    "    title = str(df_rgb2.describe().columns[i]) + ' vs. Views'\n",
    "    plt.title(title)\n",
    "    plt.xlabel(df_rgb2.describe().columns[i])\n",
    "    plt.ylabel('Views')\n",
    "    plt.grid()\n",
    "    plt.scatter(df_rgb2[df_rgb2.describe().columns[i]], df_rgb2['views'])    "
   ]
  },
  {
   "cell_type": "markdown",
   "metadata": {},
   "source": [
    "- likes vs. Views : 어느정도 연관성이 있을 것으로 예상된다.\n",
    "- dislikes vs. Views : outlier값때문에 소수의 값이 몰린 것일 수도 있어 뚜렷한 연관성이 보이지 않는다. 약간의 연관성은 있을 수 있음\n",
    "- comment_count vs. Views : 연관성은 있는듯 하지만 like에 비하면 약해 보인다.\n",
    "- r_avg vs. Views : 큰 연관은 없어 보인다.\n",
    "- g_avg vs. Views : 큰 연관은 없어 보인다.\n",
    "- b_avg vs. Views : 큰 연관은 없어 보인다.\n",
    "- elapsed_day vs. Views : outlier 영향으로 값이 한쪽에 몰린듯 하다. 추가 전처리 후 살펴볼 필요 있음.\n",
    "- total_number_of_sign vs. Views : 어느정도의 연관성이 있어 보인다.\n",
    "- number_of_tag vs. Views : 큰 연관성은 없는 듯 하다.\n",
    "- positive_ratio vs. Views : 어느정도 연관이 있을 듯 하다. (분수함수 꼴)\n",
    "- sign_per_day vs. Views : 어느정도의 연관성이 있어 보인다. \n",
    "- positive_ratio_per_day vs. Views : positive_ratio와 비슷\n",
    "- comment_per_day vs. Views : 어느정도의 연관성이 있어보이지만 뚜렷하지 않음\n",
    "- total_sign_comment_ratio vs. Views : 어느정도 연관이 있을 듯 하다. (분수함수 꼴)\n",
    "- description_length vs. Views : 큰 연관성은 없어 보인다.\n",
    "- title_length vs. Views : 큰 연관성은 없어 보인다.\n",
    "- channel_title_mean_enc vs. Views : 어느정도의 상관성이 있어 보인다. \n",
    "- category_id_mean_enc vs. Views : 큰 연관성은 없어 보인다."
   ]
  },
  {
   "cell_type": "markdown",
   "metadata": {},
   "source": [
    "#### outlier 영향이 있어 보이던 feature을 다시 살펴 보기"
   ]
  },
  {
   "cell_type": "code",
   "execution_count": 40,
   "metadata": {
    "ExecuteTime": {
     "end_time": "2021-11-02T17:16:07.558475Z",
     "start_time": "2021-11-02T17:16:07.394912Z"
    }
   },
   "outputs": [
    {
     "data": {
      "text/plain": [
       "<matplotlib.collections.PathCollection at 0x27121ca8ee0>"
      ]
     },
     "execution_count": 40,
     "metadata": {},
     "output_type": "execute_result"
    },
    {
     "data": {
      "image/png": "[encoded data removed]",
      "text/plain": [
       "<Figure size 432x288 with 1 Axes>"
      ]
     },
     "metadata": {
      "needs_background": "light"
     },
     "output_type": "display_data"
    }
   ],
   "source": [
    "# dislike\n",
    "plt.xlim(0, 40000)\n",
    "plt.scatter(df_rgb2['dislikes'], df_rgb2['views'])\n",
    "\n",
    "# 이상치를 제외하고 봐도 views와 의 인과관게가 크게 있어 보이지는 않는다."
   ]
  },
  {
   "cell_type": "code",
   "execution_count": 41,
   "metadata": {
    "ExecuteTime": {
     "end_time": "2021-11-02T17:16:07.709072Z",
     "start_time": "2021-11-02T17:16:07.560469Z"
    }
   },
   "outputs": [
    {
     "data": {
      "text/plain": [
       "<matplotlib.collections.PathCollection at 0x27121400ca0>"
      ]
     },
     "execution_count": 41,
     "metadata": {},
     "output_type": "execute_result"
    },
    {
     "data": {
      "image/png": "[encoded data removed]",
      "text/plain": [
       "<Figure size 432x288 with 1 Axes>"
      ]
     },
     "metadata": {
      "needs_background": "light"
     },
     "output_type": "display_data"
    }
   ],
   "source": [
    "# elapsed_day\n",
    "plt.xlim(0,15)\n",
    "plt.scatter(df_rgb2['elapsed_day'], df_rgb2['views'])\n",
    "\n",
    "# 이상치를 제외하고 봐도 views와 의 인과관게는 크게 없어 보인다.\n",
    "# 현 단계에서 2~4일의 views가 높다고 해서 \"인기 영상이 되려면 업로드 후 4일 내에 조회수가 많이 나와야 한다.\" 라는 부적절 하다.\n",
    "# 아직은 그 관계를 단정 지을 수있는 관계성이 보이지 않기 때문"
   ]
  },
  {
   "cell_type": "code",
   "execution_count": 42,
   "metadata": {
    "ExecuteTime": {
     "end_time": "2021-11-02T17:16:07.724109Z",
     "start_time": "2021-11-02T17:16:07.710069Z"
    },
    "code_folding": [],
    "colab": {
     "base_uri": "https://localhost:8080/"
    },
    "id": "9UP3HylbnL6U",
    "outputId": "6dc1c6bb-e3b7-45a6-ede2-625b2dae8656"
   },
   "outputs": [
    {
     "data": {
      "text/plain": [
       "['video_id',\n",
       " 'trending_date',\n",
       " 'title',\n",
       " 'channel_title',\n",
       " 'category_id',\n",
       " 'publish_time',\n",
       " 'tags',\n",
       " 'views',\n",
       " 'likes',\n",
       " 'dislikes',\n",
       " 'comment_count',\n",
       " 'thumbnail_link',\n",
       " 'comments_disabled',\n",
       " 'ratings_disabled',\n",
       " 'video_error_or_removed',\n",
       " 'description',\n",
       " 'r_avg',\n",
       " 'g_avg',\n",
       " 'b_avg',\n",
       " 'publish_time2',\n",
       " 'publish_date',\n",
       " 'elapsed_day',\n",
       " 'total_number_of_sign',\n",
       " 'number_of_tag',\n",
       " 'positive_ratio',\n",
       " 'sign_per_day',\n",
       " 'positive_ratio_per_day',\n",
       " 'comment_per_day',\n",
       " 'total_sign_comment_ratio',\n",
       " 'description_length',\n",
       " 'title_length',\n",
       " 'channel_title_mean_enc',\n",
       " 'category_id_mean_enc']"
      ]
     },
     "execution_count": 42,
     "metadata": {},
     "output_type": "execute_result"
    }
   ],
   "source": [
    "# 전체 컬럼 확인\n",
    "list(df_rgb2)"
   ]
  },
  {
   "cell_type": "markdown",
   "metadata": {},
   "source": [
    "## 다중공선성 확인 with Hierarchical dendrogram\n",
    "\n",
    "- Hierarchical dendrogram은 관련이 높은 feature끼리 묶어서 군집화 하는 것을 시각화 한 것.\n",
    "- 단계가 내려 갈 수록 군집화된 feature들을 구분할 수 있다."
   ]
  },
  {
   "cell_type": "code",
   "execution_count": 43,
   "metadata": {
    "ExecuteTime": {
     "end_time": "2021-11-02T17:16:08.443322Z",
     "start_time": "2021-11-02T17:16:07.725107Z"
    },
    "colab": {
     "base_uri": "https://localhost:8080/",
     "height": 1000
    },
    "id": "dFTrG4QeGcF6",
    "outputId": "a3f100e6-8d47-454d-feb2-0c24dc882b7f",
    "scrolled": false
   },
   "outputs": [
    {
     "name": "stdout",
     "output_type": "stream",
     "text": [
      "                          likes  dislikes  comment_count  r_avg  g_avg  b_avg  \\\n",
      "likes                      1.00       NaN            NaN    NaN    NaN    NaN   \n",
      "dislikes                    NaN      1.00            NaN    NaN    NaN    NaN   \n",
      "comment_count               NaN       NaN           1.00    NaN    NaN    NaN   \n",
      "r_avg                       NaN       NaN            NaN   1.00    NaN    NaN   \n",
      "g_avg                       NaN       NaN            NaN    NaN   1.00    NaN   \n",
      "b_avg                       NaN       NaN            NaN    NaN    NaN   1.00   \n",
      "elapsed_day                 NaN       NaN            NaN    NaN    NaN    NaN   \n",
      "number_of_tag               NaN       NaN            NaN    NaN    NaN    NaN   \n",
      "positive_ratio              NaN       NaN            NaN    NaN    NaN    NaN   \n",
      "sign_per_day               0.98       NaN            NaN    NaN    NaN    NaN   \n",
      "positive_ratio_per_day      NaN       NaN            NaN    NaN    NaN    NaN   \n",
      "comment_per_day             NaN       NaN           0.97    NaN    NaN    NaN   \n",
      "total_sign_comment_ratio    NaN       NaN            NaN    NaN    NaN    NaN   \n",
      "description_length          NaN       NaN            NaN    NaN    NaN    NaN   \n",
      "title_length                NaN       NaN            NaN    NaN    NaN    NaN   \n",
      "channel_title_mean_enc      NaN       NaN            NaN    NaN    NaN    NaN   \n",
      "category_id_mean_enc        NaN       NaN            NaN    NaN    NaN    NaN   \n",
      "\n",
      "                          elapsed_day  number_of_tag  positive_ratio  \\\n",
      "likes                             NaN            NaN             NaN   \n",
      "dislikes                          NaN            NaN             NaN   \n",
      "comment_count                     NaN            NaN             NaN   \n",
      "r_avg                             NaN            NaN             NaN   \n",
      "g_avg                             NaN            NaN             NaN   \n",
      "b_avg                             NaN            NaN             NaN   \n",
      "elapsed_day                      1.00            NaN             NaN   \n",
      "number_of_tag                     NaN           1.00             NaN   \n",
      "positive_ratio                    NaN            NaN            1.00   \n",
      "sign_per_day                      NaN            NaN             NaN   \n",
      "positive_ratio_per_day            NaN            NaN            0.96   \n",
      "comment_per_day                   NaN            NaN             NaN   \n",
      "total_sign_comment_ratio          NaN            NaN             NaN   \n",
      "description_length                NaN            NaN             NaN   \n",
      "title_length                      NaN            NaN             NaN   \n",
      "channel_title_mean_enc            NaN            NaN             NaN   \n",
      "category_id_mean_enc              NaN            NaN             NaN   \n",
      "\n",
      "                          sign_per_day  positive_ratio_per_day  \\\n",
      "likes                             0.98                     NaN   \n",
      "dislikes                           NaN                     NaN   \n",
      "comment_count                      NaN                     NaN   \n",
      "r_avg                              NaN                     NaN   \n",
      "g_avg                              NaN                     NaN   \n",
      "b_avg                              NaN                     NaN   \n",
      "elapsed_day                        NaN                     NaN   \n",
      "number_of_tag                      NaN                     NaN   \n",
      "positive_ratio                     NaN                    0.96   \n",
      "sign_per_day                      1.00                     NaN   \n",
      "positive_ratio_per_day             NaN                    1.00   \n",
      "comment_per_day                    NaN                     NaN   \n",
      "total_sign_comment_ratio           NaN                     NaN   \n",
      "description_length                 NaN                     NaN   \n",
      "title_length                       NaN                     NaN   \n",
      "channel_title_mean_enc             NaN                     NaN   \n",
      "category_id_mean_enc               NaN                     NaN   \n",
      "\n",
      "                          comment_per_day  total_sign_comment_ratio  \\\n",
      "likes                                 NaN                       NaN   \n",
      "dislikes                              NaN                       NaN   \n",
      "comment_count                        0.97                       NaN   \n",
      "r_avg                                 NaN                       NaN   \n",
      "g_avg                                 NaN                       NaN   \n",
      "b_avg                                 NaN                       NaN   \n",
      "elapsed_day                           NaN                       NaN   \n",
      "number_of_tag                         NaN                       NaN   \n",
      "positive_ratio                        NaN                       NaN   \n",
      "sign_per_day                          NaN                       NaN   \n",
      "positive_ratio_per_day                NaN                       NaN   \n",
      "comment_per_day                      1.00                       NaN   \n",
      "total_sign_comment_ratio              NaN                      1.00   \n",
      "description_length                    NaN                       NaN   \n",
      "title_length                          NaN                       NaN   \n",
      "channel_title_mean_enc                NaN                       NaN   \n",
      "category_id_mean_enc                  NaN                       NaN   \n",
      "\n",
      "                          description_length  title_length  \\\n",
      "likes                                    NaN           NaN   \n",
      "dislikes                                 NaN           NaN   \n",
      "comment_count                            NaN           NaN   \n",
      "r_avg                                    NaN           NaN   \n",
      "g_avg                                    NaN           NaN   \n",
      "b_avg                                    NaN           NaN   \n",
      "elapsed_day                              NaN           NaN   \n",
      "number_of_tag                            NaN           NaN   \n",
      "positive_ratio                           NaN           NaN   \n",
      "sign_per_day                             NaN           NaN   \n",
      "positive_ratio_per_day                   NaN           NaN   \n",
      "comment_per_day                          NaN           NaN   \n",
      "total_sign_comment_ratio                 NaN           NaN   \n",
      "description_length                      1.00           NaN   \n",
      "title_length                             NaN          1.00   \n",
      "channel_title_mean_enc                   NaN           NaN   \n",
      "category_id_mean_enc                     NaN           NaN   \n",
      "\n",
      "                          channel_title_mean_enc  category_id_mean_enc  \n",
      "likes                                        NaN                   NaN  \n",
      "dislikes                                     NaN                   NaN  \n",
      "comment_count                                NaN                   NaN  \n",
      "r_avg                                        NaN                   NaN  \n",
      "g_avg                                        NaN                   NaN  \n",
      "b_avg                                        NaN                   NaN  \n",
      "elapsed_day                                  NaN                   NaN  \n",
      "number_of_tag                                NaN                   NaN  \n",
      "positive_ratio                               NaN                   NaN  \n",
      "sign_per_day                                 NaN                   NaN  \n",
      "positive_ratio_per_day                       NaN                   NaN  \n",
      "comment_per_day                              NaN                   NaN  \n",
      "total_sign_comment_ratio                     NaN                   NaN  \n",
      "description_length                           NaN                   NaN  \n",
      "title_length                                 NaN                   NaN  \n",
      "channel_title_mean_enc                      1.00                   NaN  \n",
      "category_id_mean_enc                         NaN                  1.00  \n"
     ]
    },
    {
     "data": {
      "image/png": "[encoded data removed]",
      "text/plain": [
       "<Figure size 864x576 with 2 Axes>"
      ]
     },
     "metadata": {
      "needs_background": "light"
     },
     "output_type": "display_data"
    }
   ],
   "source": [
    "# 분석에 사용할 features만 지정\n",
    "features = ['likes', 'dislikes', 'comment_count', 'r_avg', 'g_avg', 'b_avg', 'elapsed_day', 'number_of_tag',\n",
    "            'positive_ratio', 'sign_per_day', 'positive_ratio_per_day', 'comment_per_day',\n",
    "            'total_sign_comment_ratio', 'description_length', 'title_length', 'channel_title_mean_enc',\n",
    "            'category_id_mean_enc']\n",
    "\n",
    "x_input = df_rgb2[features] # x값 지정\n",
    "cor_table = x_input.corr() # 상관관계 구하기\n",
    "\n",
    "fig, (ax1, ax2) = plt.subplots(1, 2, figsize=(12, 8))\n",
    "ax1.set_title('Hierarchical dendrogram')\n",
    "corr = spearmanr(x_input).correlation\n",
    "corr_linkage = hierarchy.ward(corr)\n",
    "dendro = hierarchy.dendrogram(corr_linkage, labels=features, ax=ax1, leaf_rotation=90)\n",
    "\n",
    "dendro_idx = np.arange(0, len(dendro['ivl']))\n",
    "\n",
    "# dendrogram에서 나온 각 feature를 x,y로 받아서 heatmap으로 표현\n",
    "ax2.imshow(corr[dendro['leaves'], :][:, dendro['leaves']])\n",
    "ax2.set_title('Feature correlation')\n",
    "ax2.set_xticks(dendro_idx)\n",
    "ax2.set_yticks(dendro_idx)\n",
    "ax2.set_xticklabels(dendro['ivl'], rotation='vertical')\n",
    "ax2.set_yticklabels(dendro['ivl'])\n",
    "\n",
    "fig.tight_layout()\n",
    "\n",
    "# 상관관계가 0.9 이상인 것만 출력\n",
    "print(cor_table[cor_table > 0.9])"
   ]
  },
  {
   "cell_type": "markdown",
   "metadata": {},
   "source": [
    "- likes 와 sign_per_day가 0.98로 강한 상관관계를 보인다.\n",
    "- positive_ratio 와 positive_ratio_per_day 등 도 높은 상관관계를 보이지만 이는 파생변수이므로 당연.\n",
    "- 기존 데이터 보다 ~per_day 인 컬럼들이 높은 상관관계를 보인다.\n",
    "- 다만 위에서 elapsed_day와 views 간의 scatter plot이 큰 영향력이 없었으므로 ~per_day 데이터를 지우고 다시 체크해볼 필요가 있다."
   ]
  },
  {
   "cell_type": "markdown",
   "metadata": {},
   "source": [
    "###  ~per_day 컬럼 제외 후 다시 다중공선서 확인"
   ]
  },
  {
   "cell_type": "code",
   "execution_count": 44,
   "metadata": {
    "ExecuteTime": {
     "end_time": "2021-11-02T17:16:08.910071Z",
     "start_time": "2021-11-02T17:16:08.445314Z"
    },
    "colab": {
     "base_uri": "https://localhost:8080/",
     "height": 1000
    },
    "id": "wQ9Zzc5hIVxF",
    "outputId": "b505ea1a-0585-4a1b-f2b5-f149c8c08b28"
   },
   "outputs": [
    {
     "name": "stdout",
     "output_type": "stream",
     "text": [
      "                        likes  dislikes  comment_count  elapsed_day  \\\n",
      "likes                    1.00       NaN            NaN          NaN   \n",
      "dislikes                  NaN      1.00            NaN          NaN   \n",
      "comment_count             NaN       NaN           1.00          NaN   \n",
      "elapsed_day               NaN       NaN            NaN         1.00   \n",
      "number_of_tag             NaN       NaN            NaN          NaN   \n",
      "positive_ratio            NaN       NaN            NaN          NaN   \n",
      "description_length        NaN       NaN            NaN          NaN   \n",
      "title_length              NaN       NaN            NaN          NaN   \n",
      "r_avg                     NaN       NaN            NaN          NaN   \n",
      "g_avg                     NaN       NaN            NaN          NaN   \n",
      "b_avg                     NaN       NaN            NaN          NaN   \n",
      "channel_title_mean_enc    NaN       NaN            NaN          NaN   \n",
      "category_id_mean_enc      NaN       NaN            NaN          NaN   \n",
      "\n",
      "                        number_of_tag  positive_ratio  description_length  \\\n",
      "likes                             NaN             NaN                 NaN   \n",
      "dislikes                          NaN             NaN                 NaN   \n",
      "comment_count                     NaN             NaN                 NaN   \n",
      "elapsed_day                       NaN             NaN                 NaN   \n",
      "number_of_tag                    1.00             NaN                 NaN   \n",
      "positive_ratio                    NaN            1.00                 NaN   \n",
      "description_length                NaN             NaN                1.00   \n",
      "title_length                      NaN             NaN                 NaN   \n",
      "r_avg                             NaN             NaN                 NaN   \n",
      "g_avg                             NaN             NaN                 NaN   \n",
      "b_avg                             NaN             NaN                 NaN   \n",
      "channel_title_mean_enc            NaN             NaN                 NaN   \n",
      "category_id_mean_enc              NaN             NaN                 NaN   \n",
      "\n",
      "                        title_length  r_avg  g_avg  b_avg  \\\n",
      "likes                            NaN    NaN    NaN    NaN   \n",
      "dislikes                         NaN    NaN    NaN    NaN   \n",
      "comment_count                    NaN    NaN    NaN    NaN   \n",
      "elapsed_day                      NaN    NaN    NaN    NaN   \n",
      "number_of_tag                    NaN    NaN    NaN    NaN   \n",
      "positive_ratio                   NaN    NaN    NaN    NaN   \n",
      "description_length               NaN    NaN    NaN    NaN   \n",
      "title_length                    1.00    NaN    NaN    NaN   \n",
      "r_avg                            NaN   1.00    NaN    NaN   \n",
      "g_avg                            NaN    NaN   1.00    NaN   \n",
      "b_avg                            NaN    NaN    NaN   1.00   \n",
      "channel_title_mean_enc           NaN    NaN    NaN    NaN   \n",
      "category_id_mean_enc             NaN    NaN    NaN    NaN   \n",
      "\n",
      "                        channel_title_mean_enc  category_id_mean_enc  \n",
      "likes                                      NaN                   NaN  \n",
      "dislikes                                   NaN                   NaN  \n",
      "comment_count                              NaN                   NaN  \n",
      "elapsed_day                                NaN                   NaN  \n",
      "number_of_tag                              NaN                   NaN  \n",
      "positive_ratio                             NaN                   NaN  \n",
      "description_length                         NaN                   NaN  \n",
      "title_length                               NaN                   NaN  \n",
      "r_avg                                      NaN                   NaN  \n",
      "g_avg                                      NaN                   NaN  \n",
      "b_avg                                      NaN                   NaN  \n",
      "channel_title_mean_enc                    1.00                   NaN  \n",
      "category_id_mean_enc                       NaN                  1.00  \n"
     ]
    },
    {
     "data": {
      "image/png": "[encoded data removed]",
      "text/plain": [
       "<Figure size 864x576 with 2 Axes>"
      ]
     },
     "metadata": {
      "needs_background": "light"
     },
     "output_type": "display_data"
    }
   ],
   "source": [
    "features = ['likes', 'dislikes', 'comment_count', 'elapsed_day', 'number_of_tag',\n",
    "            'positive_ratio', 'description_length', 'title_length',\n",
    "            'r_avg', 'g_avg', 'b_avg',  \n",
    "            'channel_title_mean_enc', 'category_id_mean_enc']            \n",
    "\n",
    "x_input = df_rgb2[features]\n",
    "cor_table = x_input.corr()\n",
    "\n",
    "\n",
    "fig, (ax1, ax2) = plt.subplots(1, 2, figsize=(12, 8))\n",
    "ax1.set_title('Hierarchical dendrogram')\n",
    "corr = spearmanr(x_input).correlation\n",
    "corr_linkage = hierarchy.ward(corr)\n",
    "dendro = hierarchy.dendrogram(corr_linkage, labels=features, ax=ax1, leaf_rotation=90)\n",
    "\n",
    "dendro_idx = np.arange(0, len(dendro['ivl']))\n",
    "\n",
    "ax2.imshow(corr[dendro['leaves'], :][:, dendro['leaves']])\n",
    "ax2.set_title('Feature correlation')\n",
    "ax2.set_xticks(dendro_idx)\n",
    "ax2.set_yticks(dendro_idx)\n",
    "ax2.set_xticklabels(dendro['ivl'], rotation='vertical')\n",
    "ax2.set_yticklabels(dendro['ivl'])\n",
    "\n",
    "fig.tight_layout()\n",
    "\n",
    "# 상관관계가 0.9 이상인 것만 출력\n",
    "print(cor_table[cor_table > 0.9])"
   ]
  },
  {
   "cell_type": "code",
   "execution_count": 45,
   "metadata": {
    "ExecuteTime": {
     "end_time": "2021-11-02T17:16:08.925027Z",
     "start_time": "2021-11-02T17:16:08.912037Z"
    }
   },
   "outputs": [
    {
     "name": "stdout",
     "output_type": "stream",
     "text": [
      "                        likes  dislikes  comment_count  elapsed_day  \\\n",
      "likes                     NaN       NaN            NaN          NaN   \n",
      "dislikes                  NaN       NaN            NaN          NaN   \n",
      "comment_count             NaN       NaN            NaN          NaN   \n",
      "elapsed_day               NaN       NaN            NaN          NaN   \n",
      "number_of_tag             NaN       NaN            NaN          NaN   \n",
      "positive_ratio            NaN       NaN            NaN          NaN   \n",
      "description_length        NaN       NaN            NaN          NaN   \n",
      "title_length              NaN       NaN            NaN          NaN   \n",
      "r_avg                     NaN       NaN            NaN          NaN   \n",
      "g_avg                     NaN       NaN            NaN          NaN   \n",
      "b_avg                     NaN       NaN            NaN          NaN   \n",
      "channel_title_mean_enc    NaN       NaN            NaN          NaN   \n",
      "category_id_mean_enc      NaN       NaN            NaN          NaN   \n",
      "\n",
      "                        number_of_tag  positive_ratio  description_length  \\\n",
      "likes                             NaN             NaN                 NaN   \n",
      "dislikes                          NaN             NaN                 NaN   \n",
      "comment_count                     NaN             NaN                 NaN   \n",
      "elapsed_day                       NaN             NaN                 NaN   \n",
      "number_of_tag                     NaN             NaN                 NaN   \n",
      "positive_ratio                    NaN             NaN                 NaN   \n",
      "description_length                NaN             NaN                 NaN   \n",
      "title_length                      NaN             NaN                 NaN   \n",
      "r_avg                             NaN             NaN                 NaN   \n",
      "g_avg                             NaN             NaN                 NaN   \n",
      "b_avg                             NaN             NaN                 NaN   \n",
      "channel_title_mean_enc            NaN             NaN                 NaN   \n",
      "category_id_mean_enc              NaN             NaN                 NaN   \n",
      "\n",
      "                        title_length  r_avg  g_avg  b_avg  \\\n",
      "likes                            NaN    NaN    NaN    NaN   \n",
      "dislikes                         NaN    NaN    NaN    NaN   \n",
      "comment_count                    NaN    NaN    NaN    NaN   \n",
      "elapsed_day                      NaN    NaN    NaN    NaN   \n",
      "number_of_tag                    NaN    NaN    NaN    NaN   \n",
      "positive_ratio                   NaN    NaN    NaN    NaN   \n",
      "description_length               NaN    NaN    NaN    NaN   \n",
      "title_length                     NaN    NaN    NaN    NaN   \n",
      "r_avg                            NaN    NaN    NaN    NaN   \n",
      "g_avg                            NaN    NaN    NaN    NaN   \n",
      "b_avg                            NaN    NaN    NaN    NaN   \n",
      "channel_title_mean_enc           NaN    NaN    NaN    NaN   \n",
      "category_id_mean_enc             NaN    NaN    NaN    NaN   \n",
      "\n",
      "                        channel_title_mean_enc  category_id_mean_enc  \n",
      "likes                                      NaN                   NaN  \n",
      "dislikes                                   NaN                   NaN  \n",
      "comment_count                              NaN                   NaN  \n",
      "elapsed_day                                NaN                   NaN  \n",
      "number_of_tag                              NaN                   NaN  \n",
      "positive_ratio                             NaN                   NaN  \n",
      "description_length                         NaN                   NaN  \n",
      "title_length                               NaN                   NaN  \n",
      "r_avg                                      NaN                   NaN  \n",
      "g_avg                                      NaN                   NaN  \n",
      "b_avg                                      NaN                   NaN  \n",
      "channel_title_mean_enc                     NaN                   NaN  \n",
      "category_id_mean_enc                       NaN                   NaN  \n"
     ]
    }
   ],
   "source": [
    "# 상관관계가 -0.9 이상인 것도 확인 (시각화 결과는 동일하므로 생략)\n",
    "print(cor_table[cor_table < -0.9])"
   ]
  },
  {
   "cell_type": "markdown",
   "metadata": {},
   "source": [
    "- 음의 상관관계가 큰 데이터들은 보이지 않는다."
   ]
  },
  {
   "cell_type": "markdown",
   "metadata": {},
   "source": [
    "### train / test split"
   ]
  },
  {
   "cell_type": "code",
   "execution_count": 46,
   "metadata": {
    "ExecuteTime": {
     "end_time": "2021-11-02T17:16:08.939989Z",
     "start_time": "2021-11-02T17:16:08.926996Z"
    },
    "id": "vpD6X9PxLB5b"
   },
   "outputs": [],
   "source": [
    "# target value설정\n",
    "y_output = df_rgb2['views']\n",
    "\n",
    "# train & test split\n",
    "x_train, x_test, y_train, y_test = train_test_split(x_input, y_output, random_state=42)"
   ]
  }
 ],
 "metadata": {
  "colab": {
   "collapsed_sections": [],
   "name": "Part_4_YouTuber_6.ipynb",
   "provenance": [],
   "toc_visible": true
  },
  "kernelspec": {
   "display_name": "Python [conda env:my_env]",
   "language": "python",
   "name": "conda-env-my_env-py"
  },
  "language_info": {
   "codemirror_mode": {
    "name": "ipython",
    "version": 3
   },
   "file_extension": ".py",
   "mimetype": "text/x-python",
   "name": "python",
   "nbconvert_exporter": "python",
   "pygments_lexer": "ipython3",
   "version": "3.8.10"
  },
  "latex_envs": {
   "LaTeX_envs_menu_present": true,
   "autoclose": true,
   "autocomplete": true,
   "bibliofile": "biblio.bib",
   "cite_by": "apalike",
   "current_citInitial": 1,
   "eqLabelWithNumbers": true,
   "eqNumInitial": 1,
   "hotkeys": {
    "equation": "Ctrl-E",
    "itemize": "Ctrl-I"
   },
   "labels_anchors": false,
   "latex_user_defs": false,
   "report_style_numbering": true,
   "user_envs_cfg": true
  },
  "toc": {
   "base_numbering": 1,
   "nav_menu": {},
   "number_sections": true,
   "sideBar": true,
   "skip_h1_title": false,
   "title_cell": "Table of Contents",
   "title_sidebar": "Contents",
   "toc_cell": false,
   "toc_position": {
    "height": "calc(100% - 180px)",
    "left": "10px",
    "top": "150px",
    "width": "348.719px"
   },
   "toc_section_display": true,
   "toc_window_display": true
  },
  "varInspector": {
   "cols": {
    "lenName": 16,
    "lenType": 16,
    "lenVar": 40
   },
   "kernels_config": {
    "python": {
     "delete_cmd_postfix": "",
     "delete_cmd_prefix": "del ",
     "library": "var_list.py",
     "varRefreshCmd": "print(var_dic_list())"
    },
    "r": {
     "delete_cmd_postfix": ") ",
     "delete_cmd_prefix": "rm(",
     "library": "var_list.r",
     "varRefreshCmd": "cat(var_dic_list()) "
    }
   },
   "types_to_exclude": [
    "module",
    "function",
    "builtin_function_or_method",
    "instance",
    "_Feature"
   ],
   "window_display": false
  }
 },
 "nbformat": 4,
 "nbformat_minor": 1
}
