{
 "cells": [
  {
   "cell_type": "markdown",
   "metadata": {
    "colab_type": "text",
    "id": "4_PsJAIhA8rM"
   },
   "source": [
    "## 1. 주석"
   ]
  },
  {
   "cell_type": "markdown",
   "metadata": {
    "colab_type": "text",
    "id": "CZsnlpYlBJ8z"
   },
   "source": [
    "- 보통 '#' 기호를 입력후 한칸 띄워서 사용\n",
    "* 코드 사이사이에 코멘트를 달 때 사용합니다.\n",
    "* 코드 셀에서만 동작함에 유의하세요"
   ]
  },
  {
   "cell_type": "code",
   "execution_count": 0,
   "metadata": {
    "colab": {
     "base_uri": "https://localhost:8080/",
     "height": 34
    },
    "colab_type": "code",
    "id": "ovRN-UGdBG29",
    "outputId": "6f88bf97-f226-46fd-9026-e5bfe6169b0f"
   },
   "outputs": [
    {
     "name": "stdout",
     "output_type": "stream",
     "text": [
      "7\n"
     ]
    }
   ],
   "source": [
    "# 이렇게 코멘트를 달 수 있습니다.\n",
    "a = 3\n",
    "b = 4\n",
    "\n",
    "# a + b 연산을 수행!\n",
    "print(a + b)"
   ]
  },
  {
   "cell_type": "markdown",
   "metadata": {
    "colab_type": "text",
    "id": "y77PEp5xBU-R"
   },
   "source": [
    "## 2. indent"
   ]
  },
  {
   "cell_type": "markdown",
   "metadata": {
    "colab_type": "text",
    "id": "ImrpMfwMBYy1"
   },
   "source": [
    "**indent(들여쓰기)**는 파이썬에서 굉장히 중요!\n",
    "\n",
    "단순히, 코드를 깔끔히 정리하기 위해서 들여쓰기를 하는 것만은 아니다."
   ]
  },
  {
   "cell_type": "markdown",
   "metadata": {
    "colab_type": "text",
    "id": "T4eoKQIuBw9q"
   },
   "source": [
    "* [tab]키를 한 번 누르면 indent가 1번 적용된 것\n",
    "* (참고) google colab에서는 코드가 맞게 짜여지면 자동으로 indent가 적용된다."
   ]
  },
  {
   "cell_type": "markdown",
   "metadata": {
    "colab_type": "text",
    "id": "SQznenyqBirw"
   },
   "source": [
    "### 2-1. 콜론(:) 다음에 반드시 indent를 부여하기"
   ]
  },
  {
   "cell_type": "code",
   "execution_count": 1,
   "metadata": {
    "ExecuteTime": {
     "end_time": "2021-07-02T08:33:34.027195Z",
     "start_time": "2021-07-02T08:33:34.020184Z"
    },
    "colab": {},
    "colab_type": "code",
    "id": "WRojM7iFBsbN"
   },
   "outputs": [],
   "source": [
    "def my_func():\n",
    "    print('indent가 자동으로 되나요?')"
   ]
  },
  {
   "cell_type": "code",
   "execution_count": 2,
   "metadata": {
    "ExecuteTime": {
     "end_time": "2021-07-02T08:33:45.514464Z",
     "start_time": "2021-07-02T08:33:45.499533Z"
    }
   },
   "outputs": [
    {
     "name": "stdout",
     "output_type": "stream",
     "text": [
      "indent가 자동으로 되나요?\n"
     ]
    }
   ],
   "source": [
    "my_func()"
   ]
  },
  {
   "cell_type": "code",
   "execution_count": 3,
   "metadata": {
    "ExecuteTime": {
     "end_time": "2021-07-02T08:34:02.443902Z",
     "start_time": "2021-07-02T08:34:02.428942Z"
    }
   },
   "outputs": [
    {
     "ename": "IndentationError",
     "evalue": "expected an indented block (<ipython-input-3-08806ce53ffc>, line 2)",
     "output_type": "error",
     "traceback": [
      "\u001b[1;36m  File \u001b[1;32m\"<ipython-input-3-08806ce53ffc>\"\u001b[1;36m, line \u001b[1;32m2\u001b[0m\n\u001b[1;33m    print('indent가 자동으로 되나요?')\u001b[0m\n\u001b[1;37m    ^\u001b[0m\n\u001b[1;31mIndentationError\u001b[0m\u001b[1;31m:\u001b[0m expected an indented block\n"
     ]
    }
   ],
   "source": [
    "def my_func():\n",
    "print('indent가 자동으로 되나요?')"
   ]
  },
  {
   "cell_type": "markdown",
   "metadata": {},
   "source": [
    "'**:**' 뒤에 indent를 적용하지 않으면 에러가 발생한다. 두개의 코드에는 우선순위가 있는데 동일선상에 있는 경우 우선순위가 동일하다고 판단하기 때문이다."
   ]
  },
  {
   "cell_type": "markdown",
   "metadata": {
    "colab_type": "text",
    "id": "s1PPG6ciCUHG"
   },
   "source": [
    "### 2-2. indent를 마구잡이로 잘 못 사용했다면, 코드 실행시 에러가 발생한다."
   ]
  },
  {
   "cell_type": "code",
   "execution_count": 4,
   "metadata": {
    "ExecuteTime": {
     "end_time": "2021-07-02T08:34:59.930416Z",
     "start_time": "2021-07-02T08:34:59.923403Z"
    },
    "colab": {
     "base_uri": "https://localhost:8080/",
     "height": 134
    },
    "colab_type": "code",
    "id": "u8kcH6UBCQwC",
    "outputId": "64a69883-8b86-48d7-e6c7-2892b1cd8d95"
   },
   "outputs": [
    {
     "ename": "IndentationError",
     "evalue": "unexpected indent (<ipython-input-4-a09cf6cf6487>, line 2)",
     "output_type": "error",
     "traceback": [
      "\u001b[1;36m  File \u001b[1;32m\"<ipython-input-4-a09cf6cf6487>\"\u001b[1;36m, line \u001b[1;32m2\u001b[0m\n\u001b[1;33m    b = 4\u001b[0m\n\u001b[1;37m    ^\u001b[0m\n\u001b[1;31mIndentationError\u001b[0m\u001b[1;31m:\u001b[0m unexpected indent\n"
     ]
    }
   ],
   "source": [
    "a = 3\n",
    "    b = 4"
   ]
  },
  {
   "cell_type": "code",
   "execution_count": 0,
   "metadata": {
    "colab": {
     "base_uri": "https://localhost:8080/",
     "height": 134
    },
    "colab_type": "code",
    "id": "rqZ98iOgCkcl",
    "outputId": "f86bbea7-7e50-456b-de30-4620066860e3"
   },
   "outputs": [
    {
     "ename": "IndentationError",
     "evalue": "ignored",
     "output_type": "error",
     "traceback": [
      "\u001b[0;36m  File \u001b[0;32m\"<ipython-input-7-f729ffbad5e1>\"\u001b[0;36m, line \u001b[0;32m2\u001b[0m\n\u001b[0;31m    b = 4\u001b[0m\n\u001b[0m    ^\u001b[0m\n\u001b[0;31mIndentationError\u001b[0m\u001b[0;31m:\u001b[0m unexpected indent\n"
     ]
    }
   ],
   "source": [
    "a = 3\n",
    "  b = 4"
   ]
  },
  {
   "cell_type": "markdown",
   "metadata": {
    "colab_type": "text",
    "id": "6bMlRB-pCb4p"
   },
   "source": [
    "**IndentationError** 는 Indent를 잘 못 사용했을 때 출력되는 에러 형태이다.\n",
    "해당 Error를 발견했다면, indent를 주의해서 보는 것이 좋다."
   ]
  }
 ],
 "metadata": {
  "colab": {
   "collapsed_sections": [],
   "name": "ch02-part03-주석과 indent-해설",
   "provenance": []
  },
  "kernelspec": {
   "display_name": "Python 3",
   "language": "python",
   "name": "python3"
  },
  "language_info": {
   "codemirror_mode": {
    "name": "ipython",
    "version": 3
   },
   "file_extension": ".py",
   "mimetype": "text/x-python",
   "name": "python",
   "nbconvert_exporter": "python",
   "pygments_lexer": "ipython3",
   "version": "3.8.5"
  },
  "toc": {
   "base_numbering": 1,
   "nav_menu": {},
   "number_sections": true,
   "sideBar": true,
   "skip_h1_title": false,
   "title_cell": "Table of Contents",
   "title_sidebar": "Contents",
   "toc_cell": false,
   "toc_position": {},
   "toc_section_display": true,
   "toc_window_display": true
  },
  "varInspector": {
   "cols": {
    "lenName": 16,
    "lenType": 16,
    "lenVar": 40
   },
   "kernels_config": {
    "python": {
     "delete_cmd_postfix": "",
     "delete_cmd_prefix": "del ",
     "library": "var_list.py",
     "varRefreshCmd": "print(var_dic_list())"
    },
    "r": {
     "delete_cmd_postfix": ") ",
     "delete_cmd_prefix": "rm(",
     "library": "var_list.r",
     "varRefreshCmd": "cat(var_dic_list()) "
    }
   },
   "types_to_exclude": [
    "module",
    "function",
    "builtin_function_or_method",
    "instance",
    "_Feature"
   ],
   "window_display": false
  }
 },
 "nbformat": 4,
 "nbformat_minor": 1
}
