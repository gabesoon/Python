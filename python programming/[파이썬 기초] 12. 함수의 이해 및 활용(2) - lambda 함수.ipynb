{
 "cells": [
  {
   "cell_type": "markdown",
   "metadata": {},
   "source": [
    "# Lambda 함수\n",
    " + 단일문으로 표현되는 **익명함수**\n",
    " + 익명함수란 **이름이 없는 구현체만 존재하는** 간단한 함수를 의미\n",
    " + 코드 상에서 한번만 사용되는 기능이 있을 때, 굳이 함수로 만들지 않고 1회성으로 만들어서 쓸 때 사용.\n",
    " ---\n",
    " + lambda 파라미터(입력값) : 출력값 형태로 사용\n",
    " + 파라미터 수는 필요한 만큼 쓸 수 있다.\n",
    " + return은 쓰지 않는다. "
   ]
  },
  {
   "cell_type": "code",
   "execution_count": 1,
   "metadata": {
    "ExecuteTime": {
     "end_time": "2021-07-04T17:00:24.098442Z",
     "start_time": "2021-07-04T17:00:24.077657Z"
    }
   },
   "outputs": [
    {
     "data": {
      "text/plain": [
       "25"
      ]
     },
     "execution_count": 1,
     "metadata": {},
     "output_type": "execute_result"
    }
   ],
   "source": [
    "# 제곱함수 생성\n",
    "def square2(x):\n",
    "    return x**2\n",
    "\n",
    "square2(5)"
   ]
  },
  {
   "cell_type": "code",
   "execution_count": 18,
   "metadata": {
    "ExecuteTime": {
     "end_time": "2021-07-05T02:01:48.598453Z",
     "start_time": "2021-07-05T02:01:48.591472Z"
    }
   },
   "outputs": [
    {
     "name": "stdout",
     "output_type": "stream",
     "text": [
      "25\n",
      "<class 'function'>\n"
     ]
    }
   ],
   "source": [
    "# 제곱 하는 함수를 한줄에 표현하고자 할때\n",
    "\n",
    "square = lambda x:x**2\n",
    "print(square(5))\n",
    "print(type(square)) # type을 보면 function(함수)인 것을 알 수 있다."
   ]
  },
  {
   "cell_type": "code",
   "execution_count": 14,
   "metadata": {
    "ExecuteTime": {
     "end_time": "2021-07-04T17:02:48.748180Z",
     "start_time": "2021-07-04T17:02:48.735628Z"
    }
   },
   "outputs": [
    {
     "data": {
      "text/plain": [
       "30"
      ]
     },
     "execution_count": 14,
     "metadata": {},
     "output_type": "execute_result"
    }
   ],
   "source": [
    "def add(x, y):\n",
    "    return x + y\n",
    "\n",
    "add (10,20)"
   ]
  },
  {
   "cell_type": "code",
   "execution_count": 3,
   "metadata": {
    "ExecuteTime": {
     "end_time": "2021-07-04T17:00:24.128747Z",
     "start_time": "2021-07-04T17:00:24.115396Z"
    }
   },
   "outputs": [
    {
     "data": {
      "text/plain": [
       "30"
      ]
     },
     "execution_count": 3,
     "metadata": {},
     "output_type": "execute_result"
    }
   ],
   "source": [
    "add2 = lambda x,y:x+y\n",
    "add2(10, 20)"
   ]
  },
  {
   "cell_type": "code",
   "execution_count": 4,
   "metadata": {
    "ExecuteTime": {
     "end_time": "2021-07-04T17:00:24.144262Z",
     "start_time": "2021-07-04T17:00:24.130714Z"
    }
   },
   "outputs": [
    {
     "data": {
      "text/plain": [
       "5"
      ]
     },
     "execution_count": 4,
     "metadata": {},
     "output_type": "execute_result"
    }
   ],
   "source": [
    "def str_len(s):\n",
    "    return len(s)\n",
    "\n",
    "str_len('goods')"
   ]
  },
  {
   "cell_type": "markdown",
   "metadata": {},
   "source": [
    "# 자주 쓰이는 labmda 예시 top4\n",
    " + lambda가 유용하게 사용되는 4가지 대표적 함수 sort, filter, map, reduce\n",
    " \n",
    " \n",
    " + 함수형 프로그래밍의 기본 요소\n",
    " \n",
    " \n",
    " + sort : 리스트내의 요소들을 특정 조건 (key=) 로 설정하여 정렬\n",
    " \n",
    " \n",
    " + filter : 특정 조건을 만족하는 요소만 남기고 필터링\n",
    " \n",
    " \n",
    " + map    : 각 원소를 주어진 수식에 따라 변형하여 새로운 리스트를 반환\n",
    " \n",
    " \n",
    " + reduce : 리스트 내에서 차례대로 앞 2개의 원소를 가지고 연산하는 기능을 한다. 연산의 결과가 또 다음 연산의 입력으로 진행된다. 따라서 마지막까지 진행되면 최종 출력은 한개의 값만 남게 된다."
   ]
  },
  {
   "cell_type": "markdown",
   "metadata": {},
   "source": [
    "## sort에서 labmda 사용하기\n",
    "\n",
    " + sort : 리스트내의 요소들을 특정 조건 (key=) 로 설정하여 정렬"
   ]
  },
  {
   "cell_type": "markdown",
   "metadata": {},
   "source": [
    "일반적인 sort 함수의 사용"
   ]
  },
  {
   "cell_type": "code",
   "execution_count": 25,
   "metadata": {
    "ExecuteTime": {
     "end_time": "2021-07-05T02:08:28.616495Z",
     "start_time": "2021-07-05T02:08:28.602435Z"
    }
   },
   "outputs": [
    {
     "name": "stdout",
     "output_type": "stream",
     "text": [
      "['Amy', 'Fridaynight', 'covid19', 'gabriel']\n"
     ]
    }
   ],
   "source": [
    "strings = ['gabriel', 'Amy', 'covid19', 'Fridaynight']\n",
    "\n",
    "strings.sort() #str형태의 리스트를 정렬 (default는 알파뱃순)\n",
    "\n",
    "print(strings)"
   ]
  },
  {
   "cell_type": "markdown",
   "metadata": {},
   "source": [
    "특정 기준을 통해 정렬하고 싶을때\n",
    "- e.g) 문자열의 길이를 기준으로 한다면?"
   ]
  },
  {
   "cell_type": "code",
   "execution_count": 26,
   "metadata": {
    "ExecuteTime": {
     "end_time": "2021-07-05T02:08:31.371528Z",
     "start_time": "2021-07-05T02:08:31.366566Z"
    }
   },
   "outputs": [],
   "source": [
    "# 문자열 길이를 return하는 함수 생성\n",
    "def str_len(s):\n",
    "    return len(s)"
   ]
  },
  {
   "cell_type": "code",
   "execution_count": 27,
   "metadata": {
    "ExecuteTime": {
     "end_time": "2021-07-05T02:08:31.905887Z",
     "start_time": "2021-07-05T02:08:31.896952Z"
    }
   },
   "outputs": [
    {
     "name": "stdout",
     "output_type": "stream",
     "text": [
      "['Amy', 'Friday', 'gabriel', 'covid19']\n"
     ]
    }
   ],
   "source": [
    "strings = ['gabriel', 'Amy', 'covid19', 'Friday']\n",
    "\n",
    "strings.sort(key=str_len) \n",
    "\n",
    "print(strings)"
   ]
  },
  {
   "cell_type": "markdown",
   "metadata": {},
   "source": [
    "함수 생성과정없이 lambda를 통해 사용하면 유용하다."
   ]
  },
  {
   "cell_type": "code",
   "execution_count": 29,
   "metadata": {
    "ExecuteTime": {
     "end_time": "2021-07-05T02:09:17.666800Z",
     "start_time": "2021-07-05T02:09:17.649859Z"
    }
   },
   "outputs": [
    {
     "name": "stdout",
     "output_type": "stream",
     "text": [
      "['Amy', 'Friday', 'gabriel', 'covid19']\n"
     ]
    }
   ],
   "source": [
    "strings2 = ['gabriel', 'Amy', 'covid19', 'Friday']\n",
    "\n",
    "# strings.sort(key=str_len)  과 동일. 단 함수 대신 lambda를 사용\n",
    "strings2.sort(key=lambda s:len(s))\n",
    "\n",
    "print(strings2)"
   ]
  },
  {
   "cell_type": "markdown",
   "metadata": {},
   "source": [
    "## filter에서 lambda 사용하기\n",
    "\n",
    "+ filter : 특정 조건을 만족하는 요소만 남기고 필터링\n",
    "\n",
    "```python\n",
    "filter(함수, 리스트)  형태로 사용\n",
    "```"
   ]
  },
  {
   "cell_type": "code",
   "execution_count": 34,
   "metadata": {
    "ExecuteTime": {
     "end_time": "2021-07-05T02:21:45.114193Z",
     "start_time": "2021-07-05T02:21:45.111201Z"
    }
   },
   "outputs": [],
   "source": [
    "nums = [1, 2, 3, 6, 8, 9, 10, 11, 13, 15]"
   ]
  },
  {
   "cell_type": "code",
   "execution_count": 35,
   "metadata": {
    "ExecuteTime": {
     "end_time": "2021-07-05T02:21:45.568074Z",
     "start_time": "2021-07-05T02:21:45.555112Z"
    }
   },
   "outputs": [
    {
     "data": {
      "text/plain": [
       "False"
      ]
     },
     "execution_count": 35,
     "metadata": {},
     "output_type": "execute_result"
    }
   ],
   "source": [
    "def even_filter(n):\n",
    "    return n % 2 == 0 # n이 짝수인 경우 -> true 출력 / 홀수인 경우 False 출력\n",
    "\n",
    "even_filter(3)"
   ]
  },
  {
   "cell_type": "code",
   "execution_count": 36,
   "metadata": {
    "ExecuteTime": {
     "end_time": "2021-07-05T02:21:45.963185Z",
     "start_time": "2021-07-05T02:21:45.957201Z"
    }
   },
   "outputs": [
    {
     "data": {
      "text/plain": [
       "[2, 6, 8, 10]"
      ]
     },
     "execution_count": 36,
     "metadata": {},
     "output_type": "execute_result"
    }
   ],
   "source": [
    "# 위에서 만든 nums 라는 리스트를 정해진 함수의 규칙에 따라 필터링\n",
    "# 즉, 짝수만 필터링\n",
    "# filter 한 결과를 list로 보기위해 list() 사용\n",
    "\n",
    "list(filter(even_filter, nums))"
   ]
  },
  {
   "cell_type": "markdown",
   "metadata": {},
   "source": [
    "lambda로 바꿔서 만든다면?"
   ]
  },
  {
   "cell_type": "code",
   "execution_count": 37,
   "metadata": {
    "ExecuteTime": {
     "end_time": "2021-07-05T02:21:47.218092Z",
     "start_time": "2021-07-05T02:21:47.201108Z"
    }
   },
   "outputs": [
    {
     "data": {
      "text/plain": [
       "[2, 6, 8, 10]"
      ]
     },
     "execution_count": 37,
     "metadata": {},
     "output_type": "execute_result"
    }
   ],
   "source": [
    "nums = [1, 2, 3, 6, 8, 9, 10, 11, 13, 15]\n",
    "\n",
    "list(filter(lambda n:n%2==0, nums))"
   ]
  },
  {
   "cell_type": "markdown",
   "metadata": {},
   "source": [
    "## map에서 lambda 사용하기\n",
    "\n",
    " + map    : 각 원소를 주어진 수식에 따라 변형하여 새로운 리스트를 반환"
   ]
  },
  {
   "cell_type": "markdown",
   "metadata": {
    "ExecuteTime": {
     "end_time": "2021-07-05T02:24:28.063416Z",
     "start_time": "2021-07-05T02:24:28.053154Z"
    }
   },
   "source": [
    "주어진 리스트가 있을때,  리스트의 제곱을한 숫자로 새로운 리스트를 만들고 싶을때"
   ]
  },
  {
   "cell_type": "code",
   "execution_count": 48,
   "metadata": {
    "ExecuteTime": {
     "end_time": "2021-07-05T02:28:19.632507Z",
     "start_time": "2021-07-05T02:28:19.619512Z"
    }
   },
   "outputs": [
    {
     "data": {
      "text/plain": [
       "[1, 4, 9, 36, 64, 81, 100, 121, 169, 225]"
      ]
     },
     "execution_count": 48,
     "metadata": {},
     "output_type": "execute_result"
    }
   ],
   "source": [
    "nums = [1, 2, 3, 6, 8, 9, 10, 11, 13, 15]\n",
    "list(map(lambda n:n**2, nums))"
   ]
  },
  {
   "cell_type": "markdown",
   "metadata": {},
   "source": [
    "위에서 사용한 even_filter를 map에 적용시킨다면?"
   ]
  },
  {
   "cell_type": "code",
   "execution_count": 50,
   "metadata": {
    "ExecuteTime": {
     "end_time": "2021-07-05T02:29:39.801319Z",
     "start_time": "2021-07-05T02:29:39.786379Z"
    }
   },
   "outputs": [
    {
     "data": {
      "text/plain": [
       "[False, True, False, True, True, False, True, False, False, False]"
      ]
     },
     "execution_count": 50,
     "metadata": {},
     "output_type": "execute_result"
    }
   ],
   "source": [
    "list(map(even_filter, nums))"
   ]
  },
  {
   "cell_type": "markdown",
   "metadata": {},
   "source": [
    "even_filter 생성없이 lambda로 한다면?"
   ]
  },
  {
   "cell_type": "code",
   "execution_count": 51,
   "metadata": {
    "ExecuteTime": {
     "end_time": "2021-07-05T02:30:14.202200Z",
     "start_time": "2021-07-05T02:30:14.192215Z"
    }
   },
   "outputs": [
    {
     "data": {
      "text/plain": [
       "[False, True, False, True, True, False, True, False, False, False]"
      ]
     },
     "execution_count": 51,
     "metadata": {},
     "output_type": "execute_result"
    }
   ],
   "source": [
    "list(map(lambda n:n%2==0, nums))"
   ]
  },
  {
   "cell_type": "markdown",
   "metadata": {},
   "source": [
    "## reduce에서 lambda 사용하기\n",
    "\n",
    "+ reduce 함수는 다른 모듈(functools)에 포함되어 다른 내장함수 처럼 바로 사용은 되지 않는다.\n",
    "+ 즉 사용을 위해서는 import해줘야 한다.\n",
    "+ reduce : 리스트 내에서 차례대로 앞 2개의 원소를 가지고 연산하는 기능을 한다. 연산의 결과가 또 다음 연산의 입력으로 진행된다. 따라서 마지막까지 진행되면 최종 출력은 한개의 값만 남게 된다."
   ]
  },
  {
   "cell_type": "code",
   "execution_count": 71,
   "metadata": {
    "ExecuteTime": {
     "end_time": "2021-07-05T03:04:57.778018Z",
     "start_time": "2021-07-05T03:04:57.762029Z"
    }
   },
   "outputs": [
    {
     "data": {
      "text/plain": [
       "55"
      ]
     },
     "execution_count": 71,
     "metadata": {},
     "output_type": "execute_result"
    }
   ],
   "source": [
    "import functools\n",
    "\n",
    "\n",
    "# 1 부터 10까지의 합을 구하고 싶을때\n",
    "a = [1, 2, 3, 4, 5, 6, 7, 8, 9, 10]\n",
    "\n",
    "functools.reduce(lambda x,y : x+y, a)"
   ]
  }
 ],
 "metadata": {
  "kernelspec": {
   "display_name": "Python 3",
   "language": "python",
   "name": "python3"
  },
  "language_info": {
   "codemirror_mode": {
    "name": "ipython",
    "version": 3
   },
   "file_extension": ".py",
   "mimetype": "text/x-python",
   "name": "python",
   "nbconvert_exporter": "python",
   "pygments_lexer": "ipython3",
   "version": "3.8.5"
  },
  "toc": {
   "base_numbering": 1,
   "nav_menu": {},
   "number_sections": true,
   "sideBar": true,
   "skip_h1_title": false,
   "title_cell": "Table of Contents",
   "title_sidebar": "Contents",
   "toc_cell": false,
   "toc_position": {},
   "toc_section_display": true,
   "toc_window_display": true
  },
  "varInspector": {
   "cols": {
    "lenName": 16,
    "lenType": 16,
    "lenVar": 40
   },
   "kernels_config": {
    "python": {
     "delete_cmd_postfix": "",
     "delete_cmd_prefix": "del ",
     "library": "var_list.py",
     "varRefreshCmd": "print(var_dic_list())"
    },
    "r": {
     "delete_cmd_postfix": ") ",
     "delete_cmd_prefix": "rm(",
     "library": "var_list.r",
     "varRefreshCmd": "cat(var_dic_list()) "
    }
   },
   "types_to_exclude": [
    "module",
    "function",
    "builtin_function_or_method",
    "instance",
    "_Feature"
   ],
   "window_display": false
  }
 },
 "nbformat": 4,
 "nbformat_minor": 1
}
