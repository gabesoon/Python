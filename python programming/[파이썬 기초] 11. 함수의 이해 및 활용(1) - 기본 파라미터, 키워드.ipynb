{
 "cells": [
  {
   "cell_type": "markdown",
   "metadata": {},
   "source": [
    "# 함수?\n",
    "* 지금까지 정리하면서 사용한 다양한 함수들이 있었다.\n",
    "* len 이나 range같은 것들이 대부분\n",
    "* 함수란 간단히 말해 주어진 입력(input)에 대해서 의도된 출력(output)를 전달하는 기능이다.\n",
    "\n",
    "e.g) \n",
    "  > range 함수는 정수를 입력으로 전달하면 (0, 정수) 로 이루어진 리스트를 생성하는 역할\n",
    "  \n",
    "  > sum 함수는 리스트, 튜플등을 입력으로 전달하면 전체 아이템의 합을 출력으로 전달하는 역할\n",
    "  \n",
    "  > len 함수는 리스트, 튜플등을 입력으로 전달하면 아이템의 개수를 출력으로 전달하는 역할\n",
    "  \n",
    "* 그리고, 위의 함수들은 모두 python 내부에 이미 정의(구현)이 되어 있는 것이다.\n",
    "* 위와 같은 함수를 **내장함수(built-in function)**이라고 한다."
   ]
  },
  {
   "cell_type": "code",
   "execution_count": 1,
   "metadata": {
    "ExecuteTime": {
     "end_time": "2021-07-03T16:14:26.348108Z",
     "start_time": "2021-07-03T16:14:26.335143Z"
    }
   },
   "outputs": [
    {
     "name": "stdout",
     "output_type": "stream",
     "text": [
      "The length of feature a is 4\n",
      "Then sum of feature a's all of values is 10\n"
     ]
    }
   ],
   "source": [
    "# 내장 함수의 예\n",
    "a = [1, 2, 3, 4]\n",
    "length = len(a)\n",
    "print(\"The length of feature a is {}\".format(length))\n",
    "\n",
    "summation = sum(a)\n",
    "print(\"Then sum of feature a's all of values is {}\".format(summation))"
   ]
  },
  {
   "cell_type": "markdown",
   "metadata": {},
   "source": [
    "## **함수의 정의**\n",
    "  + 정의 시 최초에 **def** 키워드 사용\n",
    "  + **argument** 정의 (함수에 입력으로 전달하는 값을 의미, argument 또는 parameter라고 함) \n",
    "  + **:** (콜론) -> 함수 역시 코드 블록이기 때문에 콜론(:)이 반드시 필요\n",
    "  + body (함수의 구현 부분, 함수 역시 코드 블록이기 때문에 들여쓰기 된 부분까지 함수의 코드블록으로 인지 함)\n",
    "    - 함수를 호출한 코드 (caller)로 함수가 해당 기능을 수행하고 완료된 값(output)을 전달하기 위해 return 키워드 사용\n",
    "    - 즉, return 이후에 오는 값을 caller로 전달\n",
    "  + Tip) 함수의 네이밍을 잘 하는 것이 중요\n",
    "    - 즉, 어떤 기능을 하는 함수인지 이름으로 최대한 나타날 수 있게 해야함\n",
    "    - e.g) get_a (x) get_student_name (o)"
   ]
  },
  {
   "cell_type": "code",
   "execution_count": 2,
   "metadata": {
    "ExecuteTime": {
     "end_time": "2021-07-03T16:14:26.363067Z",
     "start_time": "2021-07-03T16:14:26.351100Z"
    }
   },
   "outputs": [],
   "source": [
    "def add(x, y):\n",
    "    n = x + y\n",
    "    return n"
   ]
  },
  {
   "cell_type": "code",
   "execution_count": 3,
   "metadata": {
    "ExecuteTime": {
     "end_time": "2021-07-03T16:14:26.378502Z",
     "start_time": "2021-07-03T16:14:26.367057Z"
    }
   },
   "outputs": [
    {
     "name": "stdout",
     "output_type": "stream",
     "text": [
      "330\n"
     ]
    }
   ],
   "source": [
    "l = 3\n",
    "c = add(30, 300)\n",
    "\n",
    "print(c)"
   ]
  },
  {
   "cell_type": "markdown",
   "metadata": {},
   "source": [
    "## **함수의 사용(호출)**\n",
    " + 함수명(파라미터1, 파라미터2, ... 파라미터n) 와 같은 식으로 정의한다.\n",
    " + 위와 같이 정의 된 함수의 이름과 전달되는 **parameter(인자)**를 괄호안에 전달하여 함수를 호출한다.\n",
    " + 함수가 호출되면 실행의 흐름이 호출자(caller)에서 함수(callee)로 변경 된다.\n",
    " \n",
    " + 함수의 입력(input) 파라미터(parameter), 아규먼트(argument)라고 표현한다."
   ]
  },
  {
   "cell_type": "code",
   "execution_count": 4,
   "metadata": {
    "ExecuteTime": {
     "end_time": "2021-07-03T16:14:26.394180Z",
     "start_time": "2021-07-03T16:14:26.381495Z"
    }
   },
   "outputs": [
    {
     "name": "stdout",
     "output_type": "stream",
     "text": [
      "70\n"
     ]
    }
   ],
   "source": [
    "# 미리 만든 함수를 활용해 변수선언을 할 수도 있다.\n",
    "c = add(30, 40)\n",
    "print(c)"
   ]
  },
  {
   "cell_type": "markdown",
   "metadata": {},
   "source": [
    "## **함수 네이밍(naming)**\n",
    "  * 함수 이름으로부터 기능이 명시 되도록 하는 것이 좋다.\n",
    "  * 의미와 반대되거나 맞지 않는 이름은 사용하면 사용하기가 헷갈리고, 코드를 보는 제 3자가 이해하기도 어렵다."
   ]
  },
  {
   "cell_type": "code",
   "execution_count": 5,
   "metadata": {
    "ExecuteTime": {
     "end_time": "2021-07-03T16:14:26.409141Z",
     "start_time": "2021-07-03T16:14:26.396176Z"
    }
   },
   "outputs": [
    {
     "name": "stdout",
     "output_type": "stream",
     "text": [
      "1\n"
     ]
    }
   ],
   "source": [
    "def substract(x, y):\n",
    "    sub = x - y\n",
    "    return sub\n",
    "\n",
    "print(substract(4, 3))"
   ]
  },
  {
   "cell_type": "markdown",
   "metadata": {},
   "source": [
    "## parameter(argument) (인자)\n",
    " + 함수에 전달되는 입력(input)을 의미\n",
    " + 입력이 필요하지 않을 수도, 1개의 입력만 있을 수도, 여러개의 입력이 존재할 수 도 있다. \n",
    " + 파라미터로 int, string, float, boolm, list, dict 등 **어떤 파이썬 객체**든 가능하다.\n",
    " + **함수도 함수의 파라미터로 전달 가능하다.**\n",
    " \n",
    " + python의 경우, 타입 명시가 없기 때문에, 함수 생성 시, 의도된 파라미터의 타입에 맞게 입력을 전달하는 것이 중요하다.\n",
    " + 또한 파라미터를 전달 할 때, 정의된 순서에 따라 값을 전달하는 것이 중요하다."
   ]
  },
  {
   "cell_type": "code",
   "execution_count": 6,
   "metadata": {
    "ExecuteTime": {
     "end_time": "2021-07-03T16:14:26.424101Z",
     "start_time": "2021-07-03T16:14:26.411135Z"
    }
   },
   "outputs": [
    {
     "name": "stdout",
     "output_type": "stream",
     "text": [
      "30\n"
     ]
    }
   ],
   "source": [
    "def substract(x, y):\n",
    "    sub = x - y\n",
    "    return sub\n",
    "\n",
    "a = substract(100, 70)\n",
    "print(a)"
   ]
  },
  {
   "cell_type": "markdown",
   "metadata": {},
   "source": [
    "##  Default parameter (기본 인자) \n",
    " + 함수의 파라미터에 기본값 지정 가능하다.\n",
    " + 파라미터를 명시하지 않을 경우, 지정된 기본값으로 대체된다."
   ]
  },
  {
   "cell_type": "code",
   "execution_count": 7,
   "metadata": {
    "ExecuteTime": {
     "end_time": "2021-07-03T16:14:26.456017Z",
     "start_time": "2021-07-03T16:14:26.428091Z"
    }
   },
   "outputs": [
    {
     "data": {
      "text/plain": [
       "13"
      ]
     },
     "execution_count": 7,
     "metadata": {},
     "output_type": "execute_result"
    }
   ],
   "source": [
    "def add(x, y=10, z=5):\n",
    "    a = x + y + z\n",
    "    return a\n",
    "\n",
    "add(10, 1, 2)"
   ]
  },
  {
   "cell_type": "markdown",
   "metadata": {},
   "source": [
    "### 기본 파라미터의 다른 예\n",
    " - print 함수\n",
    "   - sep, end, file등 여러 기본 파라미터를 가짐 "
   ]
  },
  {
   "cell_type": "code",
   "execution_count": 8,
   "metadata": {
    "ExecuteTime": {
     "end_time": "2021-07-03T16:14:26.471377Z",
     "start_time": "2021-07-03T16:14:26.459008Z"
    }
   },
   "outputs": [
    {
     "name": "stdout",
     "output_type": "stream",
     "text": [
      "1!2!3%%%2p3p4\n"
     ]
    }
   ],
   "source": [
    "print(1, 2, 3, sep='!', end='%%%') # 각 값을 ! 기준으로 seperate 하고 end는 %%%를 붙인다.\n",
    "print(2, 3, 4, sep='p') "
   ]
  },
  {
   "cell_type": "markdown",
   "metadata": {},
   "source": [
    "###  Default parameter 사용 시 주의 점\n",
    "  * 디폴트 파라미터 뒤에 일반 파라미터가 위치할 수 없다.\n",
    "---\n",
    "  * e.g) 올바른 예\n",
    "  \n",
    "    > def test(a, b, c = 1)\n",
    "    \n",
    "    > def test(a, b = 1, c = 2)\n",
    "    \n",
    "    > def test(a = 1, b = 1, c = 3)\n",
    "    \n",
    "---\n",
    "  * e.g) 올바르지 않은 예\n",
    "    > def test(a, b = 1, c)\n",
    "    \n",
    "    > def test(a = 1, b, c)\n",
    "    \n",
    "    > def test(a = 1, b = 1, c)"
   ]
  },
  {
   "cell_type": "code",
   "execution_count": 9,
   "metadata": {
    "ExecuteTime": {
     "end_time": "2021-07-03T16:14:26.486810Z",
     "start_time": "2021-07-03T16:14:26.473606Z"
    }
   },
   "outputs": [
    {
     "ename": "SyntaxError",
     "evalue": "non-default argument follows default argument (<ipython-input-9-106be651f535>, line 3)",
     "output_type": "error",
     "traceback": [
      "\u001b[1;36m  File \u001b[1;32m\"<ipython-input-9-106be651f535>\"\u001b[1;36m, line \u001b[1;32m3\u001b[0m\n\u001b[1;33m    def test(a, b=3, c):\u001b[0m\n\u001b[1;37m             ^\u001b[0m\n\u001b[1;31mSyntaxError\u001b[0m\u001b[1;31m:\u001b[0m non-default argument follows default argument\n"
     ]
    }
   ],
   "source": [
    "# 디폴트 파라미터 뒤에 일반 파라미터가 위치할 수 없다.\n",
    "\n",
    "def test(a, b=3, c):\n",
    "    print(a, b, c)\n",
    "    \n",
    "test(10, 20, 1)"
   ]
  },
  {
   "cell_type": "markdown",
   "metadata": {},
   "source": [
    "## keyword parameter (키워드 파라미터)\n",
    "  * 파이썬의 경우, 파라미터에 값을 전달 할 때, 파라미터의 이름을 명시하여 전달 가능하다.\n",
    "  * 파라미터 이름을 사용하지 않을 경우, 기본적으로 순서에 맞게 전달한다."
   ]
  },
  {
   "cell_type": "code",
   "execution_count": 10,
   "metadata": {
    "ExecuteTime": {
     "end_time": "2021-07-03T16:14:33.815047Z",
     "start_time": "2021-07-03T16:14:33.806859Z"
    }
   },
   "outputs": [
    {
     "data": {
      "text/plain": [
       "63"
      ]
     },
     "execution_count": 10,
     "metadata": {},
     "output_type": "execute_result"
    }
   ],
   "source": [
    "def test(x, y, z):\n",
    "    a = x + y + z\n",
    "    return a\n",
    "\n",
    "# 파라미터의 이름을 명시하여 전달\n",
    "test(x=10, y=50, z=3)"
   ]
  },
  {
   "cell_type": "code",
   "execution_count": 11,
   "metadata": {
    "ExecuteTime": {
     "end_time": "2021-07-03T16:14:33.830174Z",
     "start_time": "2021-07-03T16:14:33.817043Z"
    }
   },
   "outputs": [
    {
     "data": {
      "text/plain": [
       "63"
      ]
     },
     "execution_count": 11,
     "metadata": {},
     "output_type": "execute_result"
    }
   ],
   "source": [
    "# 순서에 맞게 파라미터를 전달\n",
    "# 어느 방식을 하나 결과는 같다. \n",
    "\n",
    "test(10, 50, 3)"
   ]
  },
  {
   "cell_type": "markdown",
   "metadata": {},
   "source": [
    "## return (리턴)\n",
    " + 기본적으로 함수의 종료를 명시해준다.\n",
    " \n",
    " 1) return 옆에 값이나 수식이 있다면 해당 값을 호출자(caller)에게 반환(전달)한다.\n",
    " \n",
    " 2) return 만 존재하면 None을 반환한다.\n",
    " \n",
    " 3) return이 없는 경우, 기본적으로 함수 코드 블록이 종료되면 종료로 간주되며, 이때도 None을 반환한다."
   ]
  },
  {
   "cell_type": "markdown",
   "metadata": {},
   "source": [
    "### return 옆에 값이나 수식이 있는 경우\n",
    "\n",
    "해당 값을 호출자(caller)에게 반환(전달)한다."
   ]
  },
  {
   "cell_type": "code",
   "execution_count": 12,
   "metadata": {
    "ExecuteTime": {
     "end_time": "2021-07-03T16:14:33.846161Z",
     "start_time": "2021-07-03T16:14:33.833165Z"
    }
   },
   "outputs": [
    {
     "data": {
      "text/plain": [
       "90"
      ]
     },
     "execution_count": 12,
     "metadata": {},
     "output_type": "execute_result"
    }
   ],
   "source": [
    "def eg_multiply(x,y):\n",
    "    if x > 10:\n",
    "        return x * y\n",
    "    \n",
    "eg_multiply(15,6) # return옆의 x * y 가 반환되었다. "
   ]
  },
  {
   "cell_type": "code",
   "execution_count": 13,
   "metadata": {
    "ExecuteTime": {
     "end_time": "2021-07-03T16:14:33.861090Z",
     "start_time": "2021-07-03T16:14:33.848124Z"
    }
   },
   "outputs": [
    {
     "name": "stdout",
     "output_type": "stream",
     "text": [
      "10\n"
     ]
    },
    {
     "data": {
      "text/plain": [
       "36"
      ]
     },
     "execution_count": 13,
     "metadata": {},
     "output_type": "execute_result"
    }
   ],
   "source": [
    "def eg_multiply2(x,y):\n",
    "    if x > 10:\n",
    "        return x * y\n",
    "    \n",
    "    print(x + y) #실행된다.\n",
    "    return (x + 3) * y\n",
    "    print(x + y) #실행되지 않는다.\n",
    "\n",
    "eg_multiply2(1,9) \n",
    "\n",
    "# x>10을 만족하지 않아서 아래의 return문을 수행\n",
    "\n",
    "# 이때 위에 쓰인 쓰인 print(x + y) 는 수행되지만, 아래에 쓰인 동일한 print는 수행되지 않는다.\n",
    "\n",
    "# 즉 return이 수행되기 전에는 함수가 실행되지만, return이 실행되는 순간 함수가 종료됨을 알 수 있다."
   ]
  },
  {
   "cell_type": "markdown",
   "metadata": {},
   "source": [
    "### return 만 존재하면 None을 반환"
   ]
  },
  {
   "cell_type": "code",
   "execution_count": 14,
   "metadata": {
    "ExecuteTime": {
     "end_time": "2021-07-03T16:14:33.876055Z",
     "start_time": "2021-07-03T16:14:33.863084Z"
    },
    "scrolled": true
   },
   "outputs": [
    {
     "name": "stdout",
     "output_type": "stream",
     "text": [
      "None\n"
     ]
    }
   ],
   "source": [
    "def eg_multiply3(x,y):\n",
    "    if x > 10:\n",
    "        return\n",
    "\n",
    "# none이 나오는 결과를 보이기 위해 변수선언\n",
    "result = eg_multiply3(15,6)  \n",
    "\n",
    "print(result) \n",
    "\n",
    "# if문을 만족하는 경우에 대한 return은 있지만, 그렇지 않은 경우에 대한 return이 없다.\n",
    "# 이 경우는 None을 반환한다. "
   ]
  },
  {
   "cell_type": "markdown",
   "metadata": {},
   "source": [
    "### return이 없는 경우"
   ]
  },
  {
   "cell_type": "code",
   "execution_count": 15,
   "metadata": {
    "ExecuteTime": {
     "end_time": "2021-07-03T16:14:33.891010Z",
     "start_time": "2021-07-03T16:14:33.879042Z"
    }
   },
   "outputs": [
    {
     "name": "stdout",
     "output_type": "stream",
     "text": [
      "None\n"
     ]
    }
   ],
   "source": [
    "def eg_multiply4(x,y):\n",
    "    if x > 10:\n",
    "        return x * y\n",
    "    \n",
    "# none이 나오는 결과를 보이기 위해 변수선언\n",
    "result = eg_multiply4(2,6)  \n",
    "\n",
    "print(result)"
   ]
  },
  {
   "cell_type": "code",
   "execution_count": 16,
   "metadata": {
    "ExecuteTime": {
     "end_time": "2021-07-03T16:14:33.907374Z",
     "start_time": "2021-07-03T16:14:33.894004Z"
    }
   },
   "outputs": [
    {
     "data": {
      "text/plain": [
       "135"
      ]
     },
     "execution_count": 16,
     "metadata": {},
     "output_type": "execute_result"
    }
   ],
   "source": [
    "# 물론 if문을 만족하는 경우는 이상없이 출력이 된다.\n",
    "eg_multiply4(15,9)"
   ]
  },
  {
   "cell_type": "markdown",
   "metadata": {},
   "source": [
    "## multiple return (복수 값 반환)\n",
    " + tuple반환을 하여 복수개의 값 리턴 가능\n",
    " + 복수개의 값을 리턴하는 것 같지만 실제 파이썬의 개념상으로는 튜플을 반환하는 것"
   ]
  },
  {
   "cell_type": "code",
   "execution_count": 17,
   "metadata": {
    "ExecuteTime": {
     "end_time": "2021-07-03T16:14:33.922334Z",
     "start_time": "2021-07-03T16:14:33.911363Z"
    }
   },
   "outputs": [
    {
     "name": "stdout",
     "output_type": "stream",
     "text": [
      "23 60\n"
     ]
    }
   ],
   "source": [
    "def add_multi(x, y):\n",
    "    s = x + y\n",
    "    m = x * y\n",
    "    \n",
    "    return s, m # 복수값 반환 \n",
    "\n",
    "a, b = add_multi(20, 3) #tuple unpacking을 활용해 각각의 값으로 반환\n",
    "\n",
    "print(a, b)"
   ]
  },
  {
   "cell_type": "code",
   "execution_count": 18,
   "metadata": {
    "ExecuteTime": {
     "end_time": "2021-07-03T16:14:33.938291Z",
     "start_time": "2021-07-03T16:14:33.925325Z"
    }
   },
   "outputs": [
    {
     "name": "stdout",
     "output_type": "stream",
     "text": [
      "<class 'tuple'>\n",
      "(23, 60)\n"
     ]
    }
   ],
   "source": [
    "c = add_multi(20, 3)\n",
    "print(type(c)) \n",
    "print(c)"
   ]
  },
  {
   "cell_type": "markdown",
   "metadata": {},
   "source": [
    "## variable scope (변수의 범위)\n",
    " + 변수가 참조 가능한 코드상의 범위를 명시\n",
    " + 함수내의 변수는 일종의 **생명주기**가 있다. \n",
    " + 즉, 자신이 속한 코드 블록이 종료되면 소멸된다.\n",
    " + 이렇게 특정 코드 블록에서 선언된 변수를 **지역변수(local variable)** 라 한다.\n",
    " + 반대로 가장 상단에서 정의되어 프로그램 종료 전까지 유지되는 변수를 **전역변수(global variable)**이라고 한다.\n",
    " + 같은 이름의 지역변수와 전역변수가 존재할 경우, **함수를 실행할때**는 지역변수의 우선순위가 더 높다."
   ]
  },
  {
   "cell_type": "code",
   "execution_count": 19,
   "metadata": {
    "ExecuteTime": {
     "end_time": "2021-07-03T16:14:33.953251Z",
     "start_time": "2021-07-03T16:14:33.941283Z"
    }
   },
   "outputs": [
    {
     "name": "stdout",
     "output_type": "stream",
     "text": [
      "30 40\n",
      "10 30\n"
     ]
    }
   ],
   "source": [
    "# 전역 변수\n",
    "num1 = 10\n",
    "num2 = 30\n",
    "\n",
    "#def test 내의 num1, num2 => 지역변수\n",
    "def test(num1, num2):\n",
    "    print(num1, num2)\n",
    "\n",
    "test(30, 40) \n",
    "\n",
    "print(num1, num2)"
   ]
  },
  {
   "attachments": {
    "image.png": {
     "image/png": "[encoded data removed]"
    }
   },
   "cell_type": "markdown",
   "metadata": {},
   "source": [
    "![image.png](attachment:image.png)"
   ]
  },
  {
   "cell_type": "markdown",
   "metadata": {},
   "source": [
    "test(30, 40) 에 입력된 num1, num2는 test 함수내에서만 **생명주기**를 갖는 **지역변수** 이다.\n",
    "\n",
    "위와 같은 경우 **전역 변수** 인 10과 30이 test() 함수내에 입력된 30과 40으로 업데이트 되는 것이라 착각하기 쉽지만, 사실은 사람의 눈으로 보기에만 같은 변수명을 가진 variable일 뿐, 컴퓨터상으로는 전혀 다른 변수이다."
   ]
  },
  {
   "cell_type": "markdown",
   "metadata": {},
   "source": [
    "## variable length argument (가변길이 인자)\n",
    " - 전달되는 파라미터의 개수가 고정적이지 않은 경우 사용\n",
    " - e.g)\n",
    "   - print 함수\n",
    "   - format 함수\n",
    "  \n",
    "> ***args**,  ****kwargs** 2가지를 사용하여 가변길이 인자를 표현할 수 있다.\n",
    "\n",
    "> ***args**    : 파라미터를 **tuple**의 형태로 전달 (argument parameter)\n",
    "\n",
    "> ****kwargs** : 파리미터를 **dict** 형태로 전달(keyword parameter) \n",
    "\n",
    "+ 다른 변수앞에 * 나 ** 을 붙여서 args나 kwargs를 표현할 수도 있으나, 보통은 고정적으로 ***args** 와 ****kwargs** 를 사용하는 것이 관례이다."
   ]
  },
  {
   "cell_type": "markdown",
   "metadata": {},
   "source": [
    "### argument parameter"
   ]
  },
  {
   "cell_type": "code",
   "execution_count": 20,
   "metadata": {
    "ExecuteTime": {
     "end_time": "2021-07-03T16:14:33.968210Z",
     "start_time": "2021-07-03T16:14:33.957240Z"
    }
   },
   "outputs": [
    {
     "name": "stdout",
     "output_type": "stream",
     "text": [
      "10\n",
      "30\n",
      "40\n",
      "50\n",
      "60\n",
      "70\n"
     ]
    }
   ],
   "source": [
    "def test(*args): # arguments 를 의미\n",
    "    for item in args:\n",
    "        print(item)\n",
    "    \n",
    "test(10, 30, 40, 50, 60, 70)    "
   ]
  },
  {
   "cell_type": "markdown",
   "metadata": {},
   "source": [
    "### keyword parameter (키워드 파라미터)\n",
    " - \\**가 붙은 경우에는 키워드 파라미터로 인식\n",
    " - 즉 함수 호출 시, 파리미터의 이름과 값을 함께 전달 가능"
   ]
  },
  {
   "cell_type": "code",
   "execution_count": 21,
   "metadata": {
    "ExecuteTime": {
     "end_time": "2021-07-03T16:14:33.983171Z",
     "start_time": "2021-07-03T16:14:33.970206Z"
    }
   },
   "outputs": [
    {
     "name": "stdout",
     "output_type": "stream",
     "text": [
      "key: a , value: 1\n",
      "key: b , value: 2\n",
      "key: c , value: 3\n",
      "key: d , value: 4\n",
      "key: name , value: gabe\n"
     ]
    }
   ],
   "source": [
    "def test2(**kwargs): # key word arguments \n",
    "    for key, value in kwargs.items():\n",
    "        print('key:', key, ', value:', value)\n",
    "    \n",
    "test2(a=1, b=2, c=3, d=4, name='gabe')"
   ]
  },
  {
   "cell_type": "markdown",
   "metadata": {},
   "source": [
    "### 가변길이 함수 예시\n",
    "\n",
    " **문자열 포맷 함수**\n",
    " - 여러가지 값과 포맷을 이용하여 문자열을 정의할 수 있는 함수\n",
    " - {} placeholder를 문자열 내에 위치 시킨 후, 해당 위치에 format함수로 전달된 값으로 대체하여 문자열 생성\n",
    " - 포맷 구성은 다음 링크 참조 : https://pyformat.info/"
   ]
  },
  {
   "cell_type": "code",
   "execution_count": 22,
   "metadata": {
    "ExecuteTime": {
     "end_time": "2021-07-03T16:14:33.999129Z",
     "start_time": "2021-07-03T16:14:33.985165Z"
    }
   },
   "outputs": [
    {
     "name": "stdout",
     "output_type": "stream",
     "text": [
      "오늘 온도: {}도, 강수 확률은: {}%\n"
     ]
    }
   ],
   "source": [
    "a = '오늘 온도: {}도, 강수 확률은: {}%'\n",
    "print(a)"
   ]
  },
  {
   "cell_type": "code",
   "execution_count": 23,
   "metadata": {
    "ExecuteTime": {
     "end_time": "2021-07-03T16:14:34.014087Z",
     "start_time": "2021-07-03T16:14:34.001123Z"
    }
   },
   "outputs": [
    {
     "name": "stdout",
     "output_type": "stream",
     "text": [
      "오늘 온도: 30도, 강수 확률은: 60%\n"
     ]
    }
   ],
   "source": [
    "a = '오늘 온도: {}도, 강수 확률은: {}%'.format(30, 60)\n",
    "print(a)"
   ]
  },
  {
   "cell_type": "code",
   "execution_count": 24,
   "metadata": {
    "ExecuteTime": {
     "end_time": "2021-07-03T16:14:34.029049Z",
     "start_time": "2021-07-03T16:14:34.016083Z"
    },
    "scrolled": true
   },
   "outputs": [
    {
     "name": "stdout",
     "output_type": "stream",
     "text": [
      "오늘 온도: 39도, 강수확률은: 70% 내일온도: 36도\n"
     ]
    }
   ],
   "source": [
    "a = '오늘 온도: {today_temp}도, 강수확률은: {today_prob}% 내일온도: {tomorrow_temp}도'.format(tomorrow_temp=36, today_prob=70, today_temp=39)\n",
    "print(a)"
   ]
  }
 ],
 "metadata": {
  "kernelspec": {
   "display_name": "Python 3",
   "language": "python",
   "name": "python3"
  },
  "language_info": {
   "codemirror_mode": {
    "name": "ipython",
    "version": 3
   },
   "file_extension": ".py",
   "mimetype": "text/x-python",
   "name": "python",
   "nbconvert_exporter": "python",
   "pygments_lexer": "ipython3",
   "version": "3.8.5"
  },
  "toc": {
   "base_numbering": 1,
   "nav_menu": {},
   "number_sections": true,
   "sideBar": true,
   "skip_h1_title": false,
   "title_cell": "Table of Contents",
   "title_sidebar": "Contents",
   "toc_cell": false,
   "toc_position": {
    "height": "calc(100% - 180px)",
    "left": "10px",
    "top": "150px",
    "width": "304.15px"
   },
   "toc_section_display": true,
   "toc_window_display": true
  },
  "varInspector": {
   "cols": {
    "lenName": 16,
    "lenType": 16,
    "lenVar": 40
   },
   "kernels_config": {
    "python": {
     "delete_cmd_postfix": "",
     "delete_cmd_prefix": "del ",
     "library": "var_list.py",
     "varRefreshCmd": "print(var_dic_list())"
    },
    "r": {
     "delete_cmd_postfix": ") ",
     "delete_cmd_prefix": "rm(",
     "library": "var_list.r",
     "varRefreshCmd": "cat(var_dic_list()) "
    }
   },
   "types_to_exclude": [
    "module",
    "function",
    "builtin_function_or_method",
    "instance",
    "_Feature"
   ],
   "window_display": false
  }
 },
 "nbformat": 4,
 "nbformat_minor": 1
}
