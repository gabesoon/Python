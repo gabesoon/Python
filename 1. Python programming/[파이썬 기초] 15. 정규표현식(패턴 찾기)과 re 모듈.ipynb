{
 "cells": [
  {
   "cell_type": "markdown",
   "metadata": {},
   "source": [
    "# 정규표현식 (regular expression)\n",
    " - 특정한 패턴과 일치하는 문자열를 '검색', '치환', '제거' 하는 기능을 지원한다.\n",
    " - 정규표현식의 도움없이 패턴을 찾는 작업(Rule 기반)은 불완전 하거나, 작업의 cost가 높다.\n",
    " ---\n",
    " - e.g) 이메일 형식 판별, 전화번호 형식 판별, 숫자로만 이루어진 문자열 등"
   ]
  },
  {
   "cell_type": "markdown",
   "metadata": {},
   "source": [
    "## raw string\n",
    " - **문자열 앞에 r이 붙으면** 해당 문자열이 구성된 그대로 문자열로 변환"
   ]
  },
  {
   "cell_type": "code",
   "execution_count": 1,
   "metadata": {
    "ExecuteTime": {
     "end_time": "2021-07-06T06:09:22.858621Z",
     "start_time": "2021-07-06T06:09:22.845656Z"
    },
    "scrolled": true
   },
   "outputs": [
    {
     "name": "stdout",
     "output_type": "stream",
     "text": [
      "abcdef\n",
      "\n",
      "abcdef\\n\n"
     ]
    }
   ],
   "source": [
    "a = 'abcdef\\n' # \\n : escapce 문자열 (enter의미)\n",
    "print(a)\n",
    "\n",
    "b = r'abcdef\\n' # escape 문자열이 적용되지 않는다.\n",
    "print(b)"
   ]
  },
  {
   "cell_type": "markdown",
   "metadata": {},
   "source": [
    "- 정규표현식에서 패턴은 raw string으로 이뤄진다.\n",
    "- 특정 표현식은 '\\' 와 함께 이뤄지는 경우가 대부분이다."
   ]
  },
  {
   "cell_type": "markdown",
   "metadata": {},
   "source": [
    "# 기본 패턴\n",
    " - a, X, 9 등등 문자 하나하나의 character들은 정확히 해당 문자와 일치\n",
    "   - e.g) 패턴 test는 test 문자열과 일치\n",
    "   - 대소문자의 경우 기본적으로 구별하나, 구별하지 않도록 설정 가능\n",
    "   \n",
    "   \n",
    " - 몇몇 문자들에 대해서는 예외가 존재하는데, 이들은 특별한 의미로 사용 됨\n",
    "   - . ^ $ * + ? { } [ ] \\ | ( )\n",
    " \n",
    " \n",
    " \n",
    " - . (마침표) - 어떤 한개의 character와 일치 (newline(엔터) 제외)\n",
    " \n",
    " \n",
    " - \\w - 문자 character와 일치 [a-zA-Z0-9_]\n",
    " \n",
    " \n",
    " - \\s - 공백문자와 일치\n",
    " \n",
    " \n",
    " - \\t, \\n, \\r - tab, newline, return\n",
    " \n",
    " \n",
    " - \\d - 숫자 character와 일치 [0-9]\n",
    " \n",
    " \n",
    " - ^ = 시작, $ = 끝 각각 문자열의 시작과 끝을 의미\n",
    " \n",
    " \n",
    " - \\가 붙으면 스페셜한 의미가 없어짐. 예를들어 \\\\.는 .자체를 의미 \\\\\\는 \\를 의미\n",
    " \n",
    " \n",
    " - 자세한 내용은 링크 참조 https://docs.python.org/3/library/re.html"
   ]
  },
  {
   "cell_type": "markdown",
   "metadata": {},
   "source": [
    "# **search method**\n",
    " - 첫번째로 패턴을 찾으면 match 되는 객체를 반환\n",
    " - 패턴을 찾지 못하면 None 반환"
   ]
  },
  {
   "cell_type": "code",
   "execution_count": 2,
   "metadata": {
    "ExecuteTime": {
     "end_time": "2021-07-06T06:09:22.873582Z",
     "start_time": "2021-07-06T06:09:22.861614Z"
    }
   },
   "outputs": [],
   "source": [
    "import re"
   ]
  },
  {
   "cell_type": "markdown",
   "metadata": {},
   "source": [
    "```python\n",
    "search(정규표현식 패턴, 찾을 대상이 되는 문자열)\n",
    "```"
   ]
  },
  {
   "cell_type": "markdown",
   "metadata": {},
   "source": [
    "일치하는 패턴이 있는 경우 = 매치되는 객체를 반환"
   ]
  },
  {
   "cell_type": "code",
   "execution_count": 3,
   "metadata": {
    "ExecuteTime": {
     "end_time": "2021-07-06T06:09:22.888542Z",
     "start_time": "2021-07-06T06:09:22.876573Z"
    }
   },
   "outputs": [
    {
     "name": "stdout",
     "output_type": "stream",
     "text": [
      "<class 're.Match'>\n",
      "<re.Match object; span=(3, 6), match='abc'>\n"
     ]
    }
   ],
   "source": [
    "m = re.search(r'abc', '123abcdef') #123abdef 에서 'abc'라는 패턴을 찾아라(abc가 해당 문자열에 있는지 없는지)\n",
    "\n",
    "print(type(m))\n",
    "\n",
    "print(m)"
   ]
  },
  {
   "cell_type": "markdown",
   "metadata": {},
   "source": [
    "일치 하는 패턴이 없는 경우 = None 출력"
   ]
  },
  {
   "cell_type": "code",
   "execution_count": 4,
   "metadata": {
    "ExecuteTime": {
     "end_time": "2021-07-06T06:09:22.903729Z",
     "start_time": "2021-07-06T06:09:22.891534Z"
    }
   },
   "outputs": [
    {
     "name": "stdout",
     "output_type": "stream",
     "text": [
      "<class 'NoneType'>\n",
      "None\n"
     ]
    }
   ],
   "source": [
    "m = re.search(r'abc', '123abdef') #123abdef 에서 'abc'라는 패턴을 찾아라(abc가 해당 문자열에 있는지 없는지)\n",
    "\n",
    "print(type(m))\n",
    "\n",
    "print(m)"
   ]
  },
  {
   "cell_type": "code",
   "execution_count": 5,
   "metadata": {
    "ExecuteTime": {
     "end_time": "2021-07-06T06:09:22.918664Z",
     "start_time": "2021-07-06T06:09:22.906696Z"
    }
   },
   "outputs": [
    {
     "name": "stdout",
     "output_type": "stream",
     "text": [
      "0\n",
      "3\n",
      "abc\n"
     ]
    }
   ],
   "source": [
    "m = re.search(r'abc' , 'abcdef')\n",
    "\n",
    "print(m.start()) # 해당 문자열에서 패턴이 검색된 위치의 시작 index\n",
    " \n",
    "print(m.end())  # 해당 문자열에서 패턴이 검색된 위치의 끝 index\n",
    "\n",
    "print(m.group()) # 해당 검색된 패턴 자체를 출력"
   ]
  },
  {
   "cell_type": "markdown",
   "metadata": {},
   "source": [
    "- m.start() 와 m.end()은 각각 패턴이 검색된 문자열의 시작점과 끝점의 index를 의미\n",
    "- 이때 표현되는 start와 end의 값은 시작점은 포함, 끝지점은 포함하지 않는다.\n",
    "- abcdef에서 abc가 검색된 지점은 [abc]def이다.즉, 시작점은 0번째 string인 a이고, 끝지점은 2번째 index인 c에서 끝나서 end의 출력물은 3이 된다."
   ]
  },
  {
   "cell_type": "code",
   "execution_count": 6,
   "metadata": {
    "ExecuteTime": {
     "end_time": "2021-07-06T06:09:22.933624Z",
     "start_time": "2021-07-06T06:09:22.921656Z"
    }
   },
   "outputs": [
    {
     "name": "stdout",
     "output_type": "stream",
     "text": [
      "3\n",
      "6\n",
      "abc\n"
     ]
    }
   ],
   "source": [
    "m = re.search(r'abc' , '123abcdef')\n",
    "\n",
    "print(m.start()) # 해당 문자열에서 패턴이 검색된 위치의 시작 index\n",
    " \n",
    "print(m.end())  # 해당 문자열에서 패턴이 검색된 위치의 끝 index\n",
    "\n",
    "print(m.group()) # 해당 검색된 패턴 자체를 출력"
   ]
  },
  {
   "cell_type": "markdown",
   "metadata": {},
   "source": [
    "abc가 검색되는 위치가 변경되었다."
   ]
  },
  {
   "cell_type": "markdown",
   "metadata": {},
   "source": [
    "- \\d - 숫자 character와 일치 [0-9]"
   ]
  },
  {
   "cell_type": "code",
   "execution_count": 7,
   "metadata": {
    "ExecuteTime": {
     "end_time": "2021-07-06T06:09:22.963670Z",
     "start_time": "2021-07-06T06:09:22.937614Z"
    }
   },
   "outputs": [
    {
     "data": {
      "text/plain": [
       "<re.Match object; span=(0, 2), match='11'>"
      ]
     },
     "execution_count": 7,
     "metadata": {},
     "output_type": "execute_result"
    }
   ],
   "source": [
    "m = re.search(r'\\d\\d', '112abcdef119') # \\d\\d : 숫자 2개가 연달아 나오는 패턴이 있는가? \n",
    "m\n",
    "\n",
    "# search 함수는 여러개의 패턴이 검색되면 '가장 먼저' 확인되는 패턴을 return한다."
   ]
  },
  {
   "cell_type": "code",
   "execution_count": 8,
   "metadata": {
    "ExecuteTime": {
     "end_time": "2021-07-06T06:09:22.979601Z",
     "start_time": "2021-07-06T06:09:22.969629Z"
    }
   },
   "outputs": [],
   "source": [
    "m = re.search(r'\\d\\d\\d\\d', '112abcdef119') # \\d\\d\\d\\d : 숫자 4개가 연달아 나오는 패턴이 있는가?\n",
    "m # None 이므로 print() 없이는 아무것도 출력되지 않는다."
   ]
  },
  {
   "cell_type": "markdown",
   "metadata": {},
   "source": [
    "- \\w - 문자 character와 일치 [a-zA-Z0-9_]"
   ]
  },
  {
   "cell_type": "code",
   "execution_count": 9,
   "metadata": {
    "ExecuteTime": {
     "end_time": "2021-07-06T06:09:22.995559Z",
     "start_time": "2021-07-06T06:09:22.982594Z"
    }
   },
   "outputs": [
    {
     "data": {
      "text/plain": [
       "<re.Match object; span=(0, 4), match='112a'>"
      ]
     },
     "execution_count": 9,
     "metadata": {},
     "output_type": "execute_result"
    }
   ],
   "source": [
    "m = re.search(r'\\d\\d\\d\\w', '112abcdef119') # \\d\\d\\d\\w : 숫자 3개와 문자1개 패턴으로 나오는 패턴이 있는가?\n",
    "m"
   ]
  },
  {
   "cell_type": "markdown",
   "metadata": {},
   "source": [
    "- . (마침표) - 어떤 한개의 character와 일치 (newline(엔터) 제외)"
   ]
  },
  {
   "cell_type": "code",
   "execution_count": 10,
   "metadata": {
    "ExecuteTime": {
     "end_time": "2021-07-06T06:09:23.011516Z",
     "start_time": "2021-07-06T06:09:22.999549Z"
    }
   },
   "outputs": [
    {
     "data": {
      "text/plain": [
       "<re.Match object; span=(2, 6), match='$%AB'>"
      ]
     },
     "execution_count": 10,
     "metadata": {},
     "output_type": "execute_result"
    }
   ],
   "source": [
    "m = re.search(r'..\\w\\w', '@#$%ABCDabcd') # ..\\w\\w : 어떤 문자든지 2개가 나오고 문자 character 2개가 연달아 나오는 패턴이 있는가?\n",
    "m"
   ]
  },
  {
   "cell_type": "markdown",
   "metadata": {},
   "source": [
    "## metacharacters (메타 캐릭터) : \n",
    "\n",
    "**'[]' 문자들의 범위를 나타내기 위해 사용**"
   ]
  },
  {
   "cell_type": "markdown",
   "metadata": {},
   "source": [
    "   - [] 내부의 meta character는 순수하게 문자열을 의미(위의 기본 패턴 처럼 어떤 특정 의미를 갖지 않는다)\n",
    "   ---\n",
    "   e.g)\n",
    "   - [abck] : a or b or c or k \n",
    "   \n",
    "   \n",
    "   - [abc.^] : a or b or c or . or ^\n",
    "   \n",
    "   \n",
    "   - [a-d]  : -와 함께 사용되면 해당 문자 사이의 범위에 속하는 문자 중 하나 (즉, a부터 d사이중 하나)\n",
    "   \n",
    "   \n",
    "   - [0-9]  : 모든 숫자 \n",
    "   \n",
    "   \n",
    "   - [a-z]  : 모든 소문자\n",
    "   \n",
    "   \n",
    "   - [A-Z]  : 모든 대문자\n",
    "   \n",
    "   \n",
    "   - [a-zA-Z0-9] : 모든 알파벳 문자 및 숫자\n",
    "   \n",
    "   \n",
    "   - [^0-9] : ^가 맨 앞에 사용 되는 경우 해당 문자 패턴이 아닌 것과 매칭. ,즉 **'^'는 not을 의미**"
   ]
  },
  {
   "cell_type": "markdown",
   "metadata": {},
   "source": [
    " - [abck] : a or b or c or k "
   ]
  },
  {
   "cell_type": "code",
   "execution_count": 11,
   "metadata": {
    "ExecuteTime": {
     "end_time": "2021-07-06T06:09:23.040439Z",
     "start_time": "2021-07-06T06:09:23.029468Z"
    }
   },
   "outputs": [
    {
     "data": {
      "text/plain": [
       "<re.Match object; span=(0, 3), match='cat'>"
      ]
     },
     "execution_count": 11,
     "metadata": {},
     "output_type": "execute_result"
    }
   ],
   "source": [
    "re.search(r'[cbm]at', 'cat') # [cbm] 중 한개 + at 라는 패턴이 있는가?"
   ]
  },
  {
   "cell_type": "code",
   "execution_count": 12,
   "metadata": {
    "ExecuteTime": {
     "end_time": "2021-07-06T06:09:23.056397Z",
     "start_time": "2021-07-06T06:09:23.042434Z"
    }
   },
   "outputs": [],
   "source": [
    "re.search(r'[cbm]at', 'aat') # [cbm] 중 한개 + at 라는 패턴이 있는가?\n",
    "\n",
    "# 일치하는 값이 없음 = None = 아무것도 출력되지 않음 "
   ]
  },
  {
   "cell_type": "markdown",
   "metadata": {
    "ExecuteTime": {
     "end_time": "2021-07-06T04:42:13.411919Z",
     "start_time": "2021-07-06T04:42:13.405936Z"
    }
   },
   "source": [
    "- [0-9]  : 모든 숫자 "
   ]
  },
  {
   "cell_type": "code",
   "execution_count": 13,
   "metadata": {
    "ExecuteTime": {
     "end_time": "2021-07-06T06:09:23.071357Z",
     "start_time": "2021-07-06T06:09:23.058392Z"
    }
   },
   "outputs": [],
   "source": [
    "re.search(r'[0-4]pattern', '7pattern') # [0-4]의 숫자중 1개 + pattern 라는 패턴이 있는가?\n",
    "\n",
    "# 7은 0~ 4 사이의 숫자가 아니므로 None"
   ]
  },
  {
   "cell_type": "code",
   "execution_count": 14,
   "metadata": {
    "ExecuteTime": {
     "end_time": "2021-07-06T06:09:23.086316Z",
     "start_time": "2021-07-06T06:09:23.073352Z"
    }
   },
   "outputs": [
    {
     "data": {
      "text/plain": [
       "<re.Match object; span=(0, 8), match='7pattern'>"
      ]
     },
     "execution_count": 14,
     "metadata": {},
     "output_type": "execute_result"
    }
   ],
   "source": [
    "re.search(r'[0-9]pattern', '7pattern') # [0-9]의 숫자중(모든수) 1개 + pattern 라는 패턴이 있는가?"
   ]
  },
  {
   "cell_type": "markdown",
   "metadata": {},
   "source": [
    "- [^0-9] : ^가 맨 앞에 사용 되는 경우 해당 문자 패턴이 아닌 것과 매칭. ,즉 **'^'는 not을 의미**"
   ]
  },
  {
   "cell_type": "code",
   "execution_count": 15,
   "metadata": {
    "ExecuteTime": {
     "end_time": "2021-07-06T06:09:23.101108Z",
     "start_time": "2021-07-06T06:09:23.089308Z"
    }
   },
   "outputs": [
    {
     "data": {
      "text/plain": [
       "<re.Match object; span=(0, 5), match='0aron'>"
      ]
     },
     "execution_count": 15,
     "metadata": {},
     "output_type": "execute_result"
    }
   ],
   "source": [
    "re.search(r'[^abc]aron', '0aron') # ^abc : ^ or a or b or c + aron 이란 패턴이 있는가?"
   ]
  },
  {
   "cell_type": "code",
   "execution_count": 16,
   "metadata": {
    "ExecuteTime": {
     "end_time": "2021-07-06T06:09:23.115977Z",
     "start_time": "2021-07-06T06:09:23.104101Z"
    }
   },
   "outputs": [
    {
     "data": {
      "text/plain": [
       "<re.Match object; span=(0, 5), match='caron'>"
      ]
     },
     "execution_count": 16,
     "metadata": {},
     "output_type": "execute_result"
    }
   ],
   "source": [
    "re.search(r'[abc.^]aron', 'caron') # abc.^ : a or b or c or . or ^ + aron 이란 패턴이 있는가?"
   ]
  },
  {
   "cell_type": "code",
   "execution_count": 17,
   "metadata": {
    "ExecuteTime": {
     "end_time": "2021-07-06T06:09:23.130938Z",
     "start_time": "2021-07-06T06:09:23.118970Z"
    }
   },
   "outputs": [],
   "source": [
    "re.search(r'[abc.^]aron', 'daron') # abc.^ : a or b or c or . or ^ + aron 이란 패턴이 있는가?"
   ]
  },
  {
   "cell_type": "markdown",
   "metadata": {},
   "source": [
    "- [^0-9] : ^가 맨 앞에 사용 되는 경우 해당 문자 패턴이 아닌 것과 매칭. ,즉 **'^'는 not을 의미**"
   ]
  },
  {
   "cell_type": "code",
   "execution_count": 18,
   "metadata": {
    "ExecuteTime": {
     "end_time": "2021-07-06T06:09:23.145899Z",
     "start_time": "2021-07-06T06:09:23.132933Z"
    }
   },
   "outputs": [
    {
     "data": {
      "text/plain": [
       "<re.Match object; span=(0, 5), match='daron'>"
      ]
     },
     "execution_count": 18,
     "metadata": {},
     "output_type": "execute_result"
    }
   ],
   "source": [
    "re.search(r'[^abc.]aron', 'daron') # ^abc. : a or b or c or . 가 아닌 것 + aron 이란 패턴이 있는가?"
   ]
  },
  {
   "cell_type": "markdown",
   "metadata": {},
   "source": [
    "## 반복패턴\n",
    " - 패턴 뒤에 위치하는 *, +, ?는 해당 패턴이 **반복적으로 존재하는지 검사** \n",
    " \n",
    "   \n",
    "   - '+' -> 1번 이상의 패턴이 발생\n",
    "   \n",
    "   \n",
    "   - '*' -> 0번 이상의 패턴이 발생\n",
    "   \n",
    "   \n",
    "   - '?' -> 0 혹은 1번의 패턴이 발생\n",
    "   \n",
    "   \n",
    "   \n",
    " - **반복을 패턴의 경우 greedy하게 검색 함, 즉, 가능한 많은 부분이 매칭되도록 한다.**\n",
    " \n",
    "  - e.g) a[bcd]*b  패턴을 abcbdccb에서 검색하는 경우\n",
    "  \n",
    "  \n",
    "    - ab, abcb, abcbdccb 전부 가능 하지만 최대한 많은 부분이 매칭된 abcbdccb가 검색된 패턴"
   ]
  },
  {
   "cell_type": "markdown",
   "metadata": {},
   "source": [
    "- '*' -> 0번 이상의 패턴이 발생"
   ]
  },
  {
   "cell_type": "code",
   "execution_count": 19,
   "metadata": {
    "ExecuteTime": {
     "end_time": "2021-07-06T06:09:23.161468Z",
     "start_time": "2021-07-06T06:09:23.147893Z"
    }
   },
   "outputs": [
    {
     "data": {
      "text/plain": [
       "<re.Match object; span=(0, 8), match='abcbdccb'>"
      ]
     },
     "execution_count": 19,
     "metadata": {},
     "output_type": "execute_result"
    }
   ],
   "source": [
    "re.search(r'a[bcd]*b', 'abcbdccb') # [bcd] 중 하나가 0번이상 반복되고(0번포함) + b인 패턴"
   ]
  },
  {
   "cell_type": "markdown",
   "metadata": {
    "ExecuteTime": {
     "end_time": "2021-07-06T05:00:10.670574Z",
     "start_time": "2021-07-06T05:00:10.651960Z"
    }
   },
   "source": [
    "- '+' -> 1번 이상의 패턴이 발생"
   ]
  },
  {
   "cell_type": "code",
   "execution_count": 20,
   "metadata": {
    "ExecuteTime": {
     "end_time": "2021-07-06T06:09:23.176427Z",
     "start_time": "2021-07-06T06:09:23.163463Z"
    }
   },
   "outputs": [
    {
     "data": {
      "text/plain": [
       "<re.Match object; span=(0, 6), match='banana'>"
      ]
     },
     "execution_count": 20,
     "metadata": {},
     "output_type": "execute_result"
    }
   ],
   "source": [
    "re.search(r'b\\w+a', 'banana') # b\\w+a : b로 시작해서 어떤 숫자나 영문자(\\w)가 1번이상 발생(+)하고 그 뒤에 a가 붙은 패턴이 있는가?"
   ]
  },
  {
   "cell_type": "code",
   "execution_count": 21,
   "metadata": {
    "ExecuteTime": {
     "end_time": "2021-07-06T06:09:23.192024Z",
     "start_time": "2021-07-06T06:09:23.181415Z"
    }
   },
   "outputs": [
    {
     "data": {
      "text/plain": [
       "<re.Match object; span=(1, 3), match='ii'>"
      ]
     },
     "execution_count": 21,
     "metadata": {},
     "output_type": "execute_result"
    }
   ],
   "source": [
    "re.search(r'i+', 'piigiii') # i+ : i가 1번 이상 포함된 패턴이 있는가?\n",
    "\n",
    "# search함수는 가장 먼저 찾아지는 첫번째 것을 검색하는 순간 멈춘다. "
   ]
  },
  {
   "cell_type": "markdown",
   "metadata": {},
   "source": [
    "**'+'** 와 **'*'**의 차이 "
   ]
  },
  {
   "cell_type": "code",
   "execution_count": 22,
   "metadata": {
    "ExecuteTime": {
     "end_time": "2021-07-06T06:09:23.207440Z",
     "start_time": "2021-07-06T06:09:23.195948Z"
    }
   },
   "outputs": [
    {
     "data": {
      "text/plain": [
       "<re.Match object; span=(0, 4), match='piig'>"
      ]
     },
     "execution_count": 22,
     "metadata": {},
     "output_type": "execute_result"
    }
   ],
   "source": [
    "re.search(r'pi+g', 'piig')"
   ]
  },
  {
   "cell_type": "code",
   "execution_count": 23,
   "metadata": {
    "ExecuteTime": {
     "end_time": "2021-07-06T06:09:23.223398Z",
     "start_time": "2021-07-06T06:09:23.209434Z"
    }
   },
   "outputs": [
    {
     "data": {
      "text/plain": [
       "<re.Match object; span=(0, 4), match='piig'>"
      ]
     },
     "execution_count": 23,
     "metadata": {},
     "output_type": "execute_result"
    }
   ],
   "source": [
    "re.search(r'pi*g', 'piig')"
   ]
  },
  {
   "cell_type": "code",
   "execution_count": 24,
   "metadata": {
    "ExecuteTime": {
     "end_time": "2021-07-06T06:09:23.238357Z",
     "start_time": "2021-07-06T06:09:23.225392Z"
    }
   },
   "outputs": [
    {
     "data": {
      "text/plain": [
       "<re.Match object; span=(0, 3), match='pig'>"
      ]
     },
     "execution_count": 24,
     "metadata": {},
     "output_type": "execute_result"
    }
   ],
   "source": [
    "re.search(r'pi+g', 'pig') # pi+g : "
   ]
  },
  {
   "cell_type": "code",
   "execution_count": 25,
   "metadata": {
    "ExecuteTime": {
     "end_time": "2021-07-06T06:09:23.253317Z",
     "start_time": "2021-07-06T06:09:23.240352Z"
    }
   },
   "outputs": [
    {
     "data": {
      "text/plain": [
       "<re.Match object; span=(0, 3), match='pig'>"
      ]
     },
     "execution_count": 25,
     "metadata": {},
     "output_type": "execute_result"
    }
   ],
   "source": [
    "re.search(r'pi*g', 'pig')"
   ]
  },
  {
   "cell_type": "markdown",
   "metadata": {},
   "source": [
    "'+'는 최소 1번, '*' 는 최소 0번이기 때문에 위의 경우 차이가 없지만, 아래 처럼 'i'가 아예 없는 경우라면 그 차이가 보인다."
   ]
  },
  {
   "cell_type": "code",
   "execution_count": 26,
   "metadata": {
    "ExecuteTime": {
     "end_time": "2021-07-06T06:09:23.267945Z",
     "start_time": "2021-07-06T06:09:23.255978Z"
    }
   },
   "outputs": [],
   "source": [
    "re.search(r'pi+g', 'pg') # pi+g : "
   ]
  },
  {
   "cell_type": "code",
   "execution_count": 27,
   "metadata": {
    "ExecuteTime": {
     "end_time": "2021-07-06T06:09:23.282906Z",
     "start_time": "2021-07-06T06:09:23.270939Z"
    }
   },
   "outputs": [
    {
     "data": {
      "text/plain": [
       "<re.Match object; span=(0, 2), match='pg'>"
      ]
     },
     "execution_count": 27,
     "metadata": {},
     "output_type": "execute_result"
    }
   ],
   "source": [
    "re.search(r'pi*g', 'pg')"
   ]
  },
  {
   "cell_type": "markdown",
   "metadata": {
    "ExecuteTime": {
     "end_time": "2021-07-06T05:00:26.466147Z",
     "start_time": "2021-07-06T05:00:26.460161Z"
    }
   },
   "source": [
    "- '?' -> 0 혹은 1번의 패턴이 발생"
   ]
  },
  {
   "cell_type": "code",
   "execution_count": 28,
   "metadata": {
    "ExecuteTime": {
     "end_time": "2021-07-06T06:09:23.297796Z",
     "start_time": "2021-07-06T06:09:23.284833Z"
    }
   },
   "outputs": [
    {
     "data": {
      "text/plain": [
       "<re.Match object; span=(0, 4), match='http'>"
      ]
     },
     "execution_count": 28,
     "metadata": {},
     "output_type": "execute_result"
    }
   ],
   "source": [
    "re.search(r'https?', 'http://www.naver.com')"
   ]
  },
  {
   "cell_type": "code",
   "execution_count": 29,
   "metadata": {
    "ExecuteTime": {
     "end_time": "2021-07-06T06:09:23.312657Z",
     "start_time": "2021-07-06T06:09:23.299791Z"
    }
   },
   "outputs": [
    {
     "data": {
      "text/plain": [
       "<re.Match object; span=(0, 4), match='http'>"
      ]
     },
     "execution_count": 29,
     "metadata": {},
     "output_type": "execute_result"
    }
   ],
   "source": [
    "re.search(r'https?', 'httpt://www.naver.com')"
   ]
  },
  {
   "cell_type": "code",
   "execution_count": 30,
   "metadata": {
    "ExecuteTime": {
     "end_time": "2021-07-06T06:09:23.327637Z",
     "start_time": "2021-07-06T06:09:23.314672Z"
    }
   },
   "outputs": [
    {
     "data": {
      "text/plain": [
       "<re.Match object; span=(0, 4), match='http'>"
      ]
     },
     "execution_count": 30,
     "metadata": {},
     "output_type": "execute_result"
    }
   ],
   "source": [
    "re.search(r'https?', 'httpq://www.naver.com')"
   ]
  },
  {
   "cell_type": "markdown",
   "metadata": {},
   "source": [
    "사실상 https? 에서 s는 없어도 상관없다. "
   ]
  },
  {
   "cell_type": "markdown",
   "metadata": {},
   "source": [
    "## 기본 패턴 **\\** \n",
    "---\n",
    " 1. 다른 문자와 함께 사용되어 특수한 의미를 갖게 된다.\n",
    "   \n",
    "   \n",
    "   - 대문자는 소문자 패턴 조건의 not을 의미한다.\n",
    "   ---\n",
    "   \n",
    "   e.g)\n",
    "   \n",
    "   - \\d : 숫자를          [0-9]와 동일\n",
    "   \n",
    "   \n",
    "   - \\D : 숫자가 아닌 문자  [^0-9]와 동일\n",
    "   \n",
    "   \n",
    "   - \\s : 공백 문자(띄어쓰기, 탭, 엔터 등)\n",
    "   \n",
    "   \n",
    "   - \\S : 공백이 아닌 문자\n",
    "   \n",
    "   \n",
    "   - \\w : 알파벳대소문자, 숫자 [0-9a-zA-Z]와 동일\n",
    "   \n",
    "   \n",
    "   - \\W : non alpha-numeric 문자 [^0-9a-zA-Z]와 동일\n",
    "   \n",
    "   \n",
    " 2. 메타 캐릭터가 캐릭터 자체를 표현하도록 할 경우 사용\n",
    "   \n",
    "   \n",
    "   - \\\\. , \\\\\\\n"
   ]
  },
  {
   "cell_type": "markdown",
   "metadata": {},
   "source": [
    "- \\s : 공백 문자(띄어쓰기, 탭, 엔터 등)"
   ]
  },
  {
   "cell_type": "code",
   "execution_count": 31,
   "metadata": {
    "ExecuteTime": {
     "end_time": "2021-07-06T06:09:23.357534Z",
     "start_time": "2021-07-06T06:09:23.329632Z"
    }
   },
   "outputs": [
    {
     "data": {
      "text/plain": [
       "<re.Match object; span=(5, 9), match=' and'>"
      ]
     },
     "execution_count": 31,
     "metadata": {},
     "output_type": "execute_result"
    }
   ],
   "source": [
    "re.search('\\sand', 'apple and banana') # \\sand :  공백 문자 + and 인 패턴이 있는가?"
   ]
  },
  {
   "cell_type": "markdown",
   "metadata": {
    "ExecuteTime": {
     "end_time": "2021-07-06T04:50:55.576625Z",
     "start_time": "2021-07-06T04:50:55.569643Z"
    }
   },
   "source": [
    "   - \\S : 공백이 아닌 문자"
   ]
  },
  {
   "cell_type": "code",
   "execution_count": 32,
   "metadata": {
    "ExecuteTime": {
     "end_time": "2021-07-06T06:09:23.372218Z",
     "start_time": "2021-07-06T06:09:23.361524Z"
    }
   },
   "outputs": [
    {
     "data": {
      "text/plain": [
       "<re.Match object; span=(6, 10), match='land'>"
      ]
     },
     "execution_count": 32,
     "metadata": {},
     "output_type": "execute_result"
    }
   ],
   "source": [
    "re.search(r'\\Sand', 'apple land banana') # \\Sand : 공백 없음+and 라는 패턴이 있는가?"
   ]
  },
  {
   "cell_type": "markdown",
   "metadata": {},
   "source": [
    "메타 캐릭터가 캐릭터 자체를 표현하도록 할 경우\n",
    "\n",
    "- \\\\. , \\\\\\\n",
    "\n",
    "- 원래 메타 표현식에서 .는 '모든 문자'를 의미"
   ]
  },
  {
   "cell_type": "markdown",
   "metadata": {},
   "source": [
    "'.'이 들어간 패턴을 찾고 싶을때"
   ]
  },
  {
   "cell_type": "markdown",
   "metadata": {},
   "source": [
    "잘못된 검색법 "
   ]
  },
  {
   "cell_type": "code",
   "execution_count": 33,
   "metadata": {
    "ExecuteTime": {
     "end_time": "2021-07-06T06:09:23.387073Z",
     "start_time": "2021-07-06T06:09:23.375109Z"
    }
   },
   "outputs": [
    {
     "data": {
      "text/plain": [
       "<re.Match object; span=(0, 4), match='.and'>"
      ]
     },
     "execution_count": 33,
     "metadata": {},
     "output_type": "execute_result"
    }
   ],
   "source": [
    "re.search(r'.and', '.and')"
   ]
  },
  {
   "cell_type": "code",
   "execution_count": 34,
   "metadata": {
    "ExecuteTime": {
     "end_time": "2021-07-06T06:09:23.402035Z",
     "start_time": "2021-07-06T06:09:23.390067Z"
    }
   },
   "outputs": [
    {
     "data": {
      "text/plain": [
       "<re.Match object; span=(0, 4), match='Aand'>"
      ]
     },
     "execution_count": 34,
     "metadata": {},
     "output_type": "execute_result"
    }
   ],
   "source": [
    "re.search(r'.and', 'Aand')"
   ]
  },
  {
   "cell_type": "markdown",
   "metadata": {},
   "source": [
    "정확한 예시 : \\를 사용해줘야 한다."
   ]
  },
  {
   "cell_type": "code",
   "execution_count": 35,
   "metadata": {
    "ExecuteTime": {
     "end_time": "2021-07-06T06:09:23.416999Z",
     "start_time": "2021-07-06T06:09:23.404029Z"
    }
   },
   "outputs": [
    {
     "data": {
      "text/plain": [
       "<re.Match object; span=(0, 4), match='.and'>"
      ]
     },
     "execution_count": 35,
     "metadata": {},
     "output_type": "execute_result"
    }
   ],
   "source": [
    "re.search(r'\\.and', '.and')"
   ]
  },
  {
   "cell_type": "code",
   "execution_count": 36,
   "metadata": {
    "ExecuteTime": {
     "end_time": "2021-07-06T06:09:23.431958Z",
     "start_time": "2021-07-06T06:09:23.418993Z"
    }
   },
   "outputs": [],
   "source": [
    "re.search(r'\\.and', 'Aand')"
   ]
  },
  {
   "cell_type": "markdown",
   "metadata": {},
   "source": [
    "## 기본 패턴 **.** \n",
    " - 모든 문자를 의미"
   ]
  },
  {
   "cell_type": "code",
   "execution_count": 37,
   "metadata": {
    "ExecuteTime": {
     "end_time": "2021-07-06T06:09:23.446918Z",
     "start_time": "2021-07-06T06:09:23.433953Z"
    }
   },
   "outputs": [
    {
     "data": {
      "text/plain": [
       "<re.Match object; span=(0, 3), match='pig'>"
      ]
     },
     "execution_count": 37,
     "metadata": {},
     "output_type": "execute_result"
    }
   ],
   "source": [
    "re.search(r'p.g', 'pig')"
   ]
  },
  {
   "cell_type": "markdown",
   "metadata": {},
   "source": [
    "## 기본 패턴 **^**, **$**\n",
    " - ^  문자열의 맨 앞부터 일치하는 경우 검색\n",
    " - \\$  문자열의 맨 뒤부터 일치하는 경우 검색"
   ]
  },
  {
   "cell_type": "markdown",
   "metadata": {},
   "source": [
    "- ^  문자열의 맨 앞부터 일치하는 경우 검색"
   ]
  },
  {
   "cell_type": "code",
   "execution_count": 38,
   "metadata": {
    "ExecuteTime": {
     "end_time": "2021-07-06T06:09:23.461881Z",
     "start_time": "2021-07-06T06:09:23.450908Z"
    }
   },
   "outputs": [
    {
     "data": {
      "text/plain": [
       "<re.Match object; span=(2, 6), match='bana'>"
      ]
     },
     "execution_count": 38,
     "metadata": {},
     "output_type": "execute_result"
    }
   ],
   "source": [
    "re.search(r'b\\w+a', 'cabana') # b\\w+a :  b로 시작해서 어떤문자(\\w)하나이상이 나오고 a가 나오는 패턴이 있는가?"
   ]
  },
  {
   "cell_type": "code",
   "execution_count": 39,
   "metadata": {
    "ExecuteTime": {
     "end_time": "2021-07-06T06:09:23.476981Z",
     "start_time": "2021-07-06T06:09:23.465048Z"
    }
   },
   "outputs": [],
   "source": [
    "re.search(r'^b\\w+a', 'cabana') # ^b\\w+a : 문자열의 시작부터 b로 시작해서 어떤문자(\\w)하나 이상이 나오고 a가 나오는 패턴이 있는가?\n",
    "\n",
    "# None이 뜬다. 왜? 검색할 문자열이 'c'로 시작하기 때문 "
   ]
  },
  {
   "cell_type": "code",
   "execution_count": 40,
   "metadata": {
    "ExecuteTime": {
     "end_time": "2021-07-06T06:09:23.491941Z",
     "start_time": "2021-07-06T06:09:23.479974Z"
    }
   },
   "outputs": [
    {
     "data": {
      "text/plain": [
       "<re.Match object; span=(0, 6), match='babana'>"
      ]
     },
     "execution_count": 40,
     "metadata": {},
     "output_type": "execute_result"
    }
   ],
   "source": [
    "re.search(r'^b\\w+a', 'babana') # 문자열의 시작이 b여서 패턴 검색이 된다."
   ]
  },
  {
   "cell_type": "markdown",
   "metadata": {},
   "source": [
    "- \\$  문자열의 맨 뒤부터 일치하는 경우 검색"
   ]
  },
  {
   "cell_type": "code",
   "execution_count": 41,
   "metadata": {
    "ExecuteTime": {
     "end_time": "2021-07-06T06:09:23.507013Z",
     "start_time": "2021-07-06T06:09:23.494529Z"
    }
   },
   "outputs": [
    {
     "data": {
      "text/plain": [
       "<re.Match object; span=(2, 6), match='bana'>"
      ]
     },
     "execution_count": 41,
     "metadata": {},
     "output_type": "execute_result"
    }
   ],
   "source": [
    "re.search(r'b\\w+a$', 'cabana') # b\\w+a$ : b로 시작해서 어떤문자(\\w)하나 이상이 나오고 끝이 a가 나오는 패턴이 있는가?"
   ]
  },
  {
   "cell_type": "code",
   "execution_count": 42,
   "metadata": {
    "ExecuteTime": {
     "end_time": "2021-07-06T06:09:23.522591Z",
     "start_time": "2021-07-06T06:09:23.509007Z"
    }
   },
   "outputs": [],
   "source": [
    "re.search(r'b\\w+a$', 'cabanap') # b\\w+a$ : b로 시작해서 어떤문자(\\w)하나 이상이 나오고 끝이 a가 나오는 패턴이 있는가?\n",
    "\n",
    "# 맨 끝이 a로 끝나야 되는데 p로 끝나서 None이 된다."
   ]
  },
  {
   "cell_type": "markdown",
   "metadata": {},
   "source": [
    "## **grouping**\n",
    "\n",
    "  - ()을 사용하여 그루핑\n",
    "  \n",
    "  \n",
    "  - 매칭 결과를 각 그룹별로 분리 가능\n",
    "  \n",
    "  \n",
    "  - 패턴 명시 할 때, 각 그룹을 괄호() 안에 넣어 분리하여 사용\n",
    "  \n",
    "  \n",
    "  - 이메일 패턴이 가장 대표적인 예시\n",
    "  "
   ]
  },
  {
   "cell_type": "code",
   "execution_count": 43,
   "metadata": {
    "ExecuteTime": {
     "end_time": "2021-07-06T06:09:23.537334Z",
     "start_time": "2021-07-06T06:09:23.524586Z"
    }
   },
   "outputs": [
    {
     "data": {
      "text/plain": [
       "'gabe@gmail.com'"
      ]
     },
     "execution_count": 43,
     "metadata": {},
     "output_type": "execute_result"
    }
   ],
   "source": [
    "m = re.search(r'\\w+@.+', 'gabe@gmail.com') \n",
    "# \\w+@.+ : 어떤 문자열이든 1개 이상(\\w+)이 나오고 @가 붙고 그 다음에 어떤 문자든 한번(.+) 나오는 패턴?\n",
    "\n",
    "m.group() #일치하는 패턴 전체를 가져오는 함수"
   ]
  },
  {
   "cell_type": "markdown",
   "metadata": {},
   "source": [
    "문자열을 찾으면서 ID 와 도메인을 분리해서 가져오고 싶을때?"
   ]
  },
  {
   "cell_type": "code",
   "execution_count": 44,
   "metadata": {
    "ExecuteTime": {
     "end_time": "2021-07-06T06:09:23.552130Z",
     "start_time": "2021-07-06T06:09:23.539329Z"
    }
   },
   "outputs": [
    {
     "name": "stdout",
     "output_type": "stream",
     "text": [
      "gabe\n",
      "gmail.com\n",
      "gabe@gmail.com\n"
     ]
    }
   ],
   "source": [
    "m = re.search(r'(\\w+)@(.+)', 'gabe@gmail.com')\n",
    "print(m.group(1)) # 첫번째 그룹 : (\\w+)\n",
    "print(m.group(2)) # 두번째 그룹 : (.+)\n",
    "print(m.group(0)) # 모든 그룹"
   ]
  },
  {
   "cell_type": "markdown",
   "metadata": {},
   "source": [
    "처음에 그룹을 사용하는게 어렵다면, 위의 예제 처럼 전체 패턴을 먼저 만들고, ()를 둘러주는 식으로 하면 쉽다."
   ]
  },
  {
   "cell_type": "markdown",
   "metadata": {},
   "source": [
    "## **미니멈 매칭(non-greedy way)**\n",
    " \n",
    " - 기본적으로 *, +, ?를 사용하면 greedy(맥시멈 매칭)하게 동작한다.\n",
    " \n",
    " \n",
    " - *?, +?을 이용하여 해당 기능을 구현"
   ]
  },
  {
   "cell_type": "markdown",
   "metadata": {},
   "source": [
    "e.g) html 안에 tag가 무엇인지 찾고 싶을 때 \n",
    "\n",
    "즉,  <html>gabe</html> 중 <html>을 찾고 싶을때\n",
    "    \n",
    "---"
   ]
  },
  {
   "cell_type": "markdown",
   "metadata": {},
   "source": [
    "잘못된 예시\n",
    "- 기본적으로 *, +, ?를 사용하면 greedy(맥시멈 매칭)하게 동작한다."
   ]
  },
  {
   "cell_type": "code",
   "execution_count": 45,
   "metadata": {
    "ExecuteTime": {
     "end_time": "2021-07-06T06:09:23.567688Z",
     "start_time": "2021-07-06T06:09:23.555721Z"
    }
   },
   "outputs": [
    {
     "data": {
      "text/plain": [
       "<re.Match object; span=(0, 17), match='<html>gabe</html>'>"
      ]
     },
     "execution_count": 45,
     "metadata": {},
     "output_type": "execute_result"
    }
   ],
   "source": [
    "re.search(r'<.+>', '<html>gabe</html>')"
   ]
  },
  {
   "cell_type": "markdown",
   "metadata": {
    "ExecuteTime": {
     "end_time": "2021-07-06T05:29:35.431601Z",
     "start_time": "2021-07-06T05:29:35.419349Z"
    }
   },
   "source": [
    "greedy 하지 않게 매칭을 하기\n",
    "\n",
    "- *?, +?을 이용하여 해당 기능을 구현"
   ]
  },
  {
   "cell_type": "code",
   "execution_count": 46,
   "metadata": {
    "ExecuteTime": {
     "end_time": "2021-07-06T06:09:23.583646Z",
     "start_time": "2021-07-06T06:09:23.569682Z"
    },
    "scrolled": true
   },
   "outputs": [
    {
     "data": {
      "text/plain": [
       "<re.Match object; span=(0, 6), match='<html>'>"
      ]
     },
     "execution_count": 46,
     "metadata": {},
     "output_type": "execute_result"
    }
   ],
   "source": [
    "re.search(r'<.+?>', '<html>gabe</html>')"
   ]
  },
  {
   "cell_type": "markdown",
   "metadata": {},
   "source": [
    "## 기본 패턴 **{}**\n",
    "\n",
    "  - *, +, ?을 사용하여 반복적인 패턴을 찾는 것이 가능하나, **반복의 횟수 제한 불가**\n",
    "  \n",
    "  \n",
    "  - 패턴뒤에 위치하는 중괄호{}에 숫자를 명시하면 해당 숫자 만큼의 반복인 경우에만 매칭\n",
    "  ---\n",
    "  e.g)\n",
    "  \n",
    "  - {4} - 4번 반복\n",
    "  \n",
    "  \n",
    "  - {3,4} - 3 ~ 4번 반복|"
   ]
  },
  {
   "cell_type": "markdown",
   "metadata": {},
   "source": [
    "특정 문자가 정확하게 원하는 숫자만큼 반복되는 패턴을 찾고 싶을때?\n",
    "\n",
    "```python\n",
    "re.search('pi+g', 'piiiig')\n",
    "```\n",
    "위 와 같은 예시를 검색할때는 +나 * 등을 써서는 원하는 정확한 문자열을 검색할 수 없다.\n",
    "\n",
    "piiiig 나 piiig나 piig 등 `~회 이상` 이란 조건 때문에 딱 원하는 1개의 패턴만 검색하지 않기 때문 (반복 패턴의 greedy 특성)"
   ]
  },
  {
   "cell_type": "markdown",
   "metadata": {},
   "source": [
    "- {nums} - nums번 반복"
   ]
  },
  {
   "cell_type": "code",
   "execution_count": 47,
   "metadata": {
    "ExecuteTime": {
     "end_time": "2021-07-06T06:09:23.598605Z",
     "start_time": "2021-07-06T06:09:23.588633Z"
    }
   },
   "outputs": [],
   "source": [
    "re.search('pi{3}g', 'piiiiig') # pi{3}g : i가 정확하게 3번만 나오고 g가 나오는 패턴. 즉, piiig를 찾기 위한 입력\n",
    "\n",
    "# 일치하는 값이 없으므로 None이 된다."
   ]
  },
  {
   "cell_type": "markdown",
   "metadata": {},
   "source": [
    "- {nums1,nums2} - nums1 ~ nums2번 반복"
   ]
  },
  {
   "cell_type": "code",
   "execution_count": 48,
   "metadata": {
    "ExecuteTime": {
     "end_time": "2021-07-06T06:09:23.614563Z",
     "start_time": "2021-07-06T06:09:23.600601Z"
    }
   },
   "outputs": [
    {
     "data": {
      "text/plain": [
       "<re.Match object; span=(0, 7), match='piiiiig'>"
      ]
     },
     "execution_count": 48,
     "metadata": {},
     "output_type": "execute_result"
    }
   ],
   "source": [
    "re.search('pi{3,5}g', 'piiiiig') # pi{3,5}g : p + i가 3~5회 반복 + g 인 패턴이 있는가?"
   ]
  },
  {
   "cell_type": "markdown",
   "metadata": {},
   "source": [
    "## 기본 패턴 **{}?** - non-greedy way"
   ]
  },
  {
   "cell_type": "markdown",
   "metadata": {},
   "source": [
    " - {m,n}의 경우 m번 에서 n번 반복하나 greedy하게 동작"
   ]
  },
  {
   "cell_type": "code",
   "execution_count": 49,
   "metadata": {
    "ExecuteTime": {
     "end_time": "2021-07-06T06:09:23.630218Z",
     "start_time": "2021-07-06T06:09:23.617555Z"
    }
   },
   "outputs": [
    {
     "data": {
      "text/plain": [
       "<re.Match object; span=(0, 5), match='aaaaa'>"
      ]
     },
     "execution_count": 49,
     "metadata": {},
     "output_type": "execute_result"
    }
   ],
   "source": [
    "re.search(r'a{3,5}', 'aaaaa')"
   ]
  },
  {
   "cell_type": "markdown",
   "metadata": {},
   "source": [
    " - {m,n}?로 사용하면 non-greedy하게 동작. 즉, 최소 m번만 매칭하면 만족"
   ]
  },
  {
   "cell_type": "code",
   "execution_count": 50,
   "metadata": {
    "ExecuteTime": {
     "end_time": "2021-07-06T06:09:23.645432Z",
     "start_time": "2021-07-06T06:09:23.632213Z"
    }
   },
   "outputs": [
    {
     "data": {
      "text/plain": [
       "<re.Match object; span=(0, 3), match='aaa'>"
      ]
     },
     "execution_count": 50,
     "metadata": {},
     "output_type": "execute_result"
    }
   ],
   "source": [
    "re.search(r'a{3,5}?', 'aaaaa')"
   ]
  },
  {
   "cell_type": "markdown",
   "metadata": {},
   "source": [
    "# **match method** \n",
    " \n",
    " - search와 유사하나, 주어진 문자열의 시작부터 비교하여 패턴이 있는지 확인\n",
    " \n",
    " \n",
    " - 시작부터 해당 패턴이 존재하지 않다면 None 반환"
   ]
  },
  {
   "cell_type": "markdown",
   "metadata": {},
   "source": [
    "re.search() 로 한다면 아래의 2개는 모두 동일 결과를 return할 것이다."
   ]
  },
  {
   "cell_type": "code",
   "execution_count": 51,
   "metadata": {
    "ExecuteTime": {
     "end_time": "2021-07-06T06:09:23.660815Z",
     "start_time": "2021-07-06T06:09:23.647426Z"
    }
   },
   "outputs": [],
   "source": [
    "re.match(r'\\d\\d\\d', 'my number is 123')\n",
    "\n",
    "# None \n",
    "\n",
    "# 문자열의 시작부터 패턴이 일치하는지를 확인하는 것이 match 이기 때문"
   ]
  },
  {
   "cell_type": "code",
   "execution_count": 52,
   "metadata": {
    "ExecuteTime": {
     "end_time": "2021-07-06T06:09:23.675854Z",
     "start_time": "2021-07-06T06:09:23.662811Z"
    }
   },
   "outputs": [
    {
     "data": {
      "text/plain": [
       "<re.Match object; span=(0, 3), match='123'>"
      ]
     },
     "execution_count": 52,
     "metadata": {},
     "output_type": "execute_result"
    }
   ],
   "source": [
    "re.match(r'\\d\\d\\d', '123 is my number')"
   ]
  },
  {
   "cell_type": "markdown",
   "metadata": {},
   "source": [
    "즉, search 의 기본 패턴 **^** 와 같다."
   ]
  },
  {
   "cell_type": "code",
   "execution_count": 53,
   "metadata": {
    "ExecuteTime": {
     "end_time": "2021-07-06T06:09:23.690813Z",
     "start_time": "2021-07-06T06:09:23.678846Z"
    }
   },
   "outputs": [
    {
     "data": {
      "text/plain": [
       "<re.Match object; span=(0, 3), match='123'>"
      ]
     },
     "execution_count": 53,
     "metadata": {},
     "output_type": "execute_result"
    }
   ],
   "source": [
    "re.search(r'^\\d\\d\\d', '123 is my number')"
   ]
  },
  {
   "cell_type": "markdown",
   "metadata": {},
   "source": [
    "# **findall method**\n",
    " \n",
    " - search가 최초로 매칭되는 패턴만 반환한다면, findall은 매칭되는 전체의 패턴을 반환\n",
    " \n",
    " \n",
    " - 매칭되는 모든 결과를 **리스트 형태로 반환**"
   ]
  },
  {
   "cell_type": "markdown",
   "metadata": {},
   "source": [
    "email의 grouping 형식으로 예시"
   ]
  },
  {
   "cell_type": "code",
   "execution_count": 54,
   "metadata": {
    "ExecuteTime": {
     "end_time": "2021-07-06T06:09:23.706168Z",
     "start_time": "2021-07-06T06:09:23.694204Z"
    }
   },
   "outputs": [
    {
     "data": {
      "text/plain": [
       "['gabe@gmail.com', 'gabe2@gmail.com']"
      ]
     },
     "execution_count": 54,
     "metadata": {},
     "output_type": "execute_result"
    }
   ],
   "source": [
    "# [\\w-]+@[\\w.]+ :  [\\w-] 패턴이 1개이상(+) + @ + [\\w.] 패턴이 1개 이상(+)\n",
    "\n",
    "re.findall(r'[\\w-]+@[\\w.]+', 'gabe@gmail.com and gabe2@gmail.com is the list of email')"
   ]
  },
  {
   "cell_type": "markdown",
   "metadata": {},
   "source": [
    "# **sub method**\n",
    " \n",
    " - 주어진 문자열에서 일치하는 모든 패턴을 replace 한 뒤, 그 결과를 문자열로 다시 반환한다.\n",
    " \n",
    " \n",
    " - 두번째 인자는 특정 문자열이 될 수도 있고, 함수가 될 수 도 있다.\n",
    " \n",
    " \n",
    " - count가 0인 경우는 전체를, 1이상이면 해당 숫자만큼 치환 된다. (default=1)\n",
    " \n",
    "```python\n",
    "re.sub(r'검색할 패턴', 'replace할 문자', '검색 대상' , count= 1 or 0 )\n",
    "```"
   ]
  },
  {
   "cell_type": "markdown",
   "metadata": {},
   "source": [
    "Where count = 0\n",
    "\n",
    "- 일치되는 패턴은 모두 바뀐다."
   ]
  },
  {
   "cell_type": "code",
   "execution_count": 55,
   "metadata": {
    "ExecuteTime": {
     "end_time": "2021-07-06T06:09:23.721992Z",
     "start_time": "2021-07-06T06:09:23.709160Z"
    }
   },
   "outputs": [
    {
     "data": {
      "text/plain": [
       "'replaced and replaced is the list of email'"
      ]
     },
     "execution_count": 55,
     "metadata": {},
     "output_type": "execute_result"
    }
   ],
   "source": [
    "re.sub(r'[\\w-]+@[\\w.]+', 'replaced', 'gabe@gmail.com and gabe2@gmail.com is the list of email', count=0)"
   ]
  },
  {
   "cell_type": "code",
   "execution_count": 56,
   "metadata": {
    "ExecuteTime": {
     "end_time": "2021-07-06T06:09:23.736952Z",
     "start_time": "2021-07-06T06:09:23.725982Z"
    }
   },
   "outputs": [
    {
     "data": {
      "text/plain": [
       "'replaced and replaced is the list of email'"
      ]
     },
     "execution_count": 56,
     "metadata": {},
     "output_type": "execute_result"
    }
   ],
   "source": [
    "re.sub(r'[\\w-]+@[\\w.]+', 'replaced', 'gabe@gmail.com and gabe2@gmail.com is the list of email') # count=0 일 경우 생략 가능"
   ]
  },
  {
   "cell_type": "markdown",
   "metadata": {},
   "source": [
    "Where count = 1\n",
    "\n",
    "- 가장 먼저 일치하는 패턴만 바뀐다."
   ]
  },
  {
   "cell_type": "code",
   "execution_count": 57,
   "metadata": {
    "ExecuteTime": {
     "end_time": "2021-07-06T06:09:23.751916Z",
     "start_time": "2021-07-06T06:09:23.738946Z"
    }
   },
   "outputs": [
    {
     "data": {
      "text/plain": [
       "'replaced and gabe2@gmail.com is the list of email'"
      ]
     },
     "execution_count": 57,
     "metadata": {},
     "output_type": "execute_result"
    }
   ],
   "source": [
    "re.sub(r'[\\w-]+@[\\w.]+', 'replaced', 'gabe@gmail.com and gabe2@gmail.com is the list of email', count=1)"
   ]
  },
  {
   "cell_type": "markdown",
   "metadata": {},
   "source": [
    "# **compile method**\n",
    " \n",
    " - 동일한 정규표현식을 매번 다시 쓰기 번거로움을 해결\n",
    " \n",
    " \n",
    " - compile로 해당표현식을 re.RegexObject 객체로 저장하여 사용가능"
   ]
  },
  {
   "cell_type": "code",
   "execution_count": 58,
   "metadata": {
    "ExecuteTime": {
     "end_time": "2021-07-06T06:09:23.766653Z",
     "start_time": "2021-07-06T06:09:23.753911Z"
    }
   },
   "outputs": [
    {
     "data": {
      "text/plain": [
       "<re.Match object; span=(0, 14), match='gabe@gmail.com'>"
      ]
     },
     "execution_count": 58,
     "metadata": {},
     "output_type": "execute_result"
    }
   ],
   "source": [
    "# compile 지정\n",
    "email_reg = re.compile(r'[\\w-]+@[\\w.]+')\n",
    "\n",
    "# 지정된 compile로 search \n",
    "email_reg.search('gabe@gmail.com and gabe2@gmail.com is the list of email')"
   ]
  },
  {
   "cell_type": "markdown",
   "metadata": {},
   "source": [
    "간혹 웹스크롤링을 하다보면 \"gabe@email.com.\" 과 같이 되어있는 경우도 있는데, 이때도 위의 complie한 기준이면 검색해서 결과값을 가져온다."
   ]
  },
  {
   "cell_type": "code",
   "execution_count": 59,
   "metadata": {
    "ExecuteTime": {
     "end_time": "2021-07-06T06:09:23.781613Z",
     "start_time": "2021-07-06T06:09:23.769646Z"
    }
   },
   "outputs": [
    {
     "data": {
      "text/plain": [
       "<re.Match object; span=(0, 15), match='gabe@gmail.com.'>"
      ]
     },
     "execution_count": 59,
     "metadata": {},
     "output_type": "execute_result"
    }
   ],
   "source": [
    "email_reg.search('gabe@gmail.com. and gabe2@gmail.com is the list of email')"
   ]
  },
  {
   "cell_type": "markdown",
   "metadata": {},
   "source": [
    "이를 방지하기 위해서는 아래와 같이 \\w+을 한번더 명시해주는 것이 확실하다."
   ]
  },
  {
   "cell_type": "code",
   "execution_count": 60,
   "metadata": {
    "ExecuteTime": {
     "end_time": "2021-07-06T06:09:23.796574Z",
     "start_time": "2021-07-06T06:09:23.784606Z"
    }
   },
   "outputs": [],
   "source": [
    "email_reg = re.compile(r'[\\w-]+@[\\w.]+\\w+')"
   ]
  },
  {
   "cell_type": "code",
   "execution_count": 61,
   "metadata": {
    "ExecuteTime": {
     "end_time": "2021-07-06T06:09:23.811534Z",
     "start_time": "2021-07-06T06:09:23.799565Z"
    }
   },
   "outputs": [
    {
     "data": {
      "text/plain": [
       "<re.Match object; span=(0, 14), match='gabe@gmail.com'>"
      ]
     },
     "execution_count": 61,
     "metadata": {},
     "output_type": "execute_result"
    }
   ],
   "source": [
    "email_reg.search('gabe@gmail.com. and gabe2@gmail.com is the list of email')"
   ]
  },
  {
   "cell_type": "code",
   "execution_count": 62,
   "metadata": {
    "ExecuteTime": {
     "end_time": "2021-07-06T06:09:23.826494Z",
     "start_time": "2021-07-06T06:09:23.814526Z"
    }
   },
   "outputs": [
    {
     "data": {
      "text/plain": [
       "['gabe@gmail.com', 'gabe2@gmail.com']"
      ]
     },
     "execution_count": 62,
     "metadata": {},
     "output_type": "execute_result"
    }
   ],
   "source": [
    "# 지정된 compile로 findall \n",
    "email_reg.findall('gabe@gmail.com and gabe2@gmail.com is the list of email')"
   ]
  },
  {
   "cell_type": "markdown",
   "metadata": {},
   "source": [
    "# 실제 정규표현식 활용 예시"
   ]
  },
  {
   "cell_type": "markdown",
   "metadata": {},
   "source": [
    "## 웹 스크롤링한 뉴스에서 이메일 주소를 추출하기"
   ]
  },
  {
   "cell_type": "markdown",
   "metadata": {},
   "source": [
    "뉴스 스크롤링"
   ]
  },
  {
   "cell_type": "code",
   "execution_count": 63,
   "metadata": {
    "ExecuteTime": {
     "end_time": "2021-07-06T06:09:24.326890Z",
     "start_time": "2021-07-06T06:09:23.828488Z"
    }
   },
   "outputs": [
    {
     "name": "stdout",
     "output_type": "stream",
     "text": [
      "분산서비스거부(DDos·디도스)공격이 발생할 경우 대기업은 탐지까지 3분, 중소기업은 9분이 걸리는 것으로 나타났다. 해킹 메일도 25.8%가 열람하고 7.6%가 감염될 정도로 사이버 보안에 허술하다는 결과가 나왔다.과학기술정보통신부는 한국인터넷진흥원(KISA)과 함께 상반기 사이버위기 대응 모의훈련을 실시한 결과를 6일 발표했다. 5월 17일부터 2주간 실시한 이번 상반기 사이버위기 대응 모의훈련에는 230개 기업이 참여했다.디도스 모의공격에 대한 대응력 훈련 결과 대기업은 평균 디도스 공격 탐지시간 3분, 대응시간 19분 걸렸다. 중소기업은 평균 탐지시간이 9분, 대응시간은 22분이나 걸렸다.기업의 정보시스템에 대한 모의침투 훈련 결과 30개사 홈페이지에서 114개 취약점이 확인됐다. 클라우드 사업자를 대상으로 한 모의침투 훈련에서는 클라우드 보안 인증을 받은 사업자의 탐지 및 방어율이 미인증 사업자에 비해 높았다고 과기정통부는 전했다.시스템과 데이터를 잠근 뒤 이를 인질 삼아 금전을 요구하는 랜섬웨어 공격은 상반기에만 2019년도 전체 건수의 2배에 달할 정도로 급증했다. 랜섬웨어 공격은 2019년 39건에서 지난해 127건으로 225% 급증한 데 이어 올해 상반기에만 78건이 발생했다.과기정통부는 “랜섬웨어 침해사고 대부분이 이용자가 일반적 보안 수칙을 준수하지 않아 발생했다”며 “사용자 보안 인식 제고가 절실히 요구된다”고 강조했다. 과기정통부는 랜섬웨어 급증에 따라 특화 모의훈련을 개발하고 올해 10월 중 훈련을 실시할 예정이다.세종 류찬희 선임기자 chani@seoul.co.krCopyrightsⓒ 서울신문사. 무단 전재 및 재배포 금지 \n"
     ]
    }
   ],
   "source": [
    "import requests\n",
    "from bs4 import BeautifulSoup\n",
    "# 위의 두 모듈이 없는 경우에는 pip install requests bs4 실행\n",
    "\n",
    "def get_news_content(url):\n",
    "    response = requests.get(url)\n",
    "    content = response.text\n",
    "\n",
    "    soup = BeautifulSoup(content, 'html5lib')\n",
    "\n",
    "    div = soup.find('div', attrs = {'id' : 'harmonyContainer'})\n",
    "    \n",
    "    content = ''\n",
    "    for paragraph in div.find_all('p'):\n",
    "        content += paragraph.get_text()\n",
    "        \n",
    "    return content\n",
    "\n",
    "news1 = get_news_content('https://news.v.daum.net/v/20210706141605093')\n",
    "print(news1)"
   ]
  },
  {
   "cell_type": "markdown",
   "metadata": {},
   "source": [
    "스크롤링한 뉴스에서 위에서 compile한 이메일 주소 찾기 불러와서 사용"
   ]
  },
  {
   "cell_type": "code",
   "execution_count": 64,
   "metadata": {
    "ExecuteTime": {
     "end_time": "2021-07-06T06:09:24.341849Z",
     "start_time": "2021-07-06T06:09:24.328884Z"
    }
   },
   "outputs": [
    {
     "data": {
      "text/plain": [
       "<re.Match object; span=(773, 800), match='chani@seoul.co.krCopyrights'>"
      ]
     },
     "execution_count": 64,
     "metadata": {},
     "output_type": "execute_result"
    }
   ],
   "source": [
    "email_reg = re.compile(r'[\\w-]+@[\\w.]+\\w+')\n",
    "email_reg.search(news1)"
   ]
  },
  {
   "cell_type": "markdown",
   "metadata": {},
   "source": [
    "## 웹페이지 리스트에서 올바른 (http, https) 웹페이지만 찾기"
   ]
  },
  {
   "cell_type": "code",
   "execution_count": 65,
   "metadata": {
    "ExecuteTime": {
     "end_time": "2021-07-06T06:09:24.356501Z",
     "start_time": "2021-07-06T06:09:24.343673Z"
    }
   },
   "outputs": [],
   "source": [
    "webs = ['http://www.test.co.kr', \n",
    "        'https://www.test1.com', \n",
    "        'http://www.test.com', \n",
    "        'ftp://www.test.com', \n",
    "        'http:://www.test.com',\n",
    "       'htp://www.test.com',\n",
    "       'http://www.google.com', \n",
    "       'https://www.homepage.com.']"
   ]
  },
  {
   "cell_type": "markdown",
   "metadata": {},
   "source": [
    "웹페이지를 찾는 정규표현식을 complie로 생성"
   ]
  },
  {
   "cell_type": "code",
   "execution_count": 66,
   "metadata": {
    "ExecuteTime": {
     "end_time": "2021-07-06T06:09:24.371461Z",
     "start_time": "2021-07-06T06:09:24.358495Z"
    }
   },
   "outputs": [],
   "source": [
    "web_reg = re.compile(r'https?://[\\w.]+\\w+$') # s? 를 붙임으로 http 와 https 둘다 포함해서 검색하도록 설정"
   ]
  },
  {
   "cell_type": "markdown",
   "metadata": {},
   "source": [
    "lambda와 mapping을 활용해 생성한 정규표현식으로 웹페이지 찾기\n",
    "\n",
    "- list를 loop 하면서 T/F로 list화 해서 출력해주는 형식\n",
    "- web_reg의 결과가 None이면 False"
   ]
  },
  {
   "cell_type": "code",
   "execution_count": 67,
   "metadata": {
    "ExecuteTime": {
     "end_time": "2021-07-06T06:09:24.386946Z",
     "start_time": "2021-07-06T06:09:24.374453Z"
    }
   },
   "outputs": [
    {
     "data": {
      "text/plain": [
       "[True, True, True, False, False, False, True, False]"
      ]
     },
     "execution_count": 67,
     "metadata": {},
     "output_type": "execute_result"
    }
   ],
   "source": [
    "list(map(lambda w:web_reg.search(w) != None, webs))"
   ]
  }
 ],
 "metadata": {
  "kernelspec": {
   "display_name": "Python 3",
   "language": "python",
   "name": "python3"
  },
  "language_info": {
   "codemirror_mode": {
    "name": "ipython",
    "version": 3
   },
   "file_extension": ".py",
   "mimetype": "text/x-python",
   "name": "python",
   "nbconvert_exporter": "python",
   "pygments_lexer": "ipython3",
   "version": "3.8.5"
  },
  "toc": {
   "base_numbering": 1,
   "nav_menu": {},
   "number_sections": true,
   "sideBar": true,
   "skip_h1_title": false,
   "title_cell": "Table of Contents",
   "title_sidebar": "Contents",
   "toc_cell": false,
   "toc_position": {
    "height": "calc(100% - 180px)",
    "left": "10px",
    "top": "150px",
    "width": "304.15px"
   },
   "toc_section_display": true,
   "toc_window_display": true
  },
  "varInspector": {
   "cols": {
    "lenName": 16,
    "lenType": 16,
    "lenVar": 40
   },
   "kernels_config": {
    "python": {
     "delete_cmd_postfix": "",
     "delete_cmd_prefix": "del ",
     "library": "var_list.py",
     "varRefreshCmd": "print(var_dic_list())"
    },
    "r": {
     "delete_cmd_postfix": ") ",
     "delete_cmd_prefix": "rm(",
     "library": "var_list.r",
     "varRefreshCmd": "cat(var_dic_list()) "
    }
   },
   "types_to_exclude": [
    "module",
    "function",
    "builtin_function_or_method",
    "instance",
    "_Feature"
   ],
   "window_display": false
  }
 },
 "nbformat": 4,
 "nbformat_minor": 1
}
