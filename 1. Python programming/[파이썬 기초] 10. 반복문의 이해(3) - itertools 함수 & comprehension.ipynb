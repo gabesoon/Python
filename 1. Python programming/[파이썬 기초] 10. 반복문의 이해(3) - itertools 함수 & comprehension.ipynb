{
 "cells": [
  {
   "cell_type": "markdown",
   "metadata": {},
   "source": [
    "# itertools 모듈"
   ]
  },
  {
   "cell_type": "markdown",
   "metadata": {},
   "source": [
    "**itertools 모듈** : 다양한 종류의 iterator(반복하는 것) 객체를 생성하는 함수들로 구성된 모듈\n",
    "\n",
    "- product(), combination(), permutations() 3가지 함수로 구성되어 있다."
   ]
  },
  {
   "cell_type": "markdown",
   "metadata": {},
   "source": [
    "## itertools.product(*L)\n",
    "\n",
    "- 순회 가능한 여러개의 객체를 **순서대로 순회하는 iterator**를 생성하는 함수\n",
    "\n",
    "```python\n",
    "for v1, v2, v3 in itertools.product(L1, L2, L3): \n",
    "```\n",
    "와 같은 식으로 작성한다.\n",
    "\n",
    "이는 아래의 for 문과 동일한 구조이다.\n",
    "```python\n",
    "for v1 in L1:\n",
    "    for v2 in L2:\n",
    "        for v3 in L3:\n",
    "```"
   ]
  },
  {
   "cell_type": "code",
   "execution_count": 1,
   "metadata": {
    "ExecuteTime": {
     "end_time": "2021-07-03T03:50:20.365614Z",
     "start_time": "2021-07-03T03:50:20.353647Z"
    }
   },
   "outputs": [],
   "source": [
    "import itertools"
   ]
  },
  {
   "cell_type": "code",
   "execution_count": 2,
   "metadata": {
    "ExecuteTime": {
     "end_time": "2021-07-03T03:50:20.395536Z",
     "start_time": "2021-07-03T03:50:20.368607Z"
    },
    "scrolled": true
   },
   "outputs": [
    {
     "name": "stdout",
     "output_type": "stream",
     "text": [
      "0 0 0\n",
      "0 0 1\n",
      "0 0 2\n",
      "0 0 3\n",
      "0 0 4\n",
      "0 1 0\n",
      "0 1 1\n",
      "0 1 2\n",
      "0 1 3\n",
      "0 1 4\n",
      "0 2 0\n",
      "0 2 1\n",
      "0 2 2\n",
      "0 2 3\n",
      "0 2 4\n",
      "0 3 0\n",
      "0 3 1\n",
      "0 3 2\n",
      "0 3 3\n",
      "0 3 4\n",
      "0 4 0\n",
      "0 4 1\n",
      "0 4 2\n",
      "0 4 3\n",
      "0 4 4\n",
      "1 0 0\n",
      "1 0 1\n",
      "1 0 2\n",
      "1 0 3\n",
      "1 0 4\n",
      "1 1 0\n",
      "1 1 1\n",
      "1 1 2\n",
      "1 1 3\n",
      "1 1 4\n",
      "1 2 0\n",
      "1 2 1\n",
      "1 2 2\n",
      "1 2 3\n",
      "1 2 4\n",
      "1 3 0\n",
      "1 3 1\n",
      "1 3 2\n",
      "1 3 3\n",
      "1 3 4\n",
      "1 4 0\n",
      "1 4 1\n",
      "1 4 2\n",
      "1 4 3\n",
      "1 4 4\n",
      "2 0 0\n",
      "2 0 1\n",
      "2 0 2\n",
      "2 0 3\n",
      "2 0 4\n",
      "2 1 0\n",
      "2 1 1\n",
      "2 1 2\n",
      "2 1 3\n",
      "2 1 4\n",
      "2 2 0\n",
      "2 2 1\n",
      "2 2 2\n",
      "2 2 3\n",
      "2 2 4\n",
      "2 3 0\n",
      "2 3 1\n",
      "2 3 2\n",
      "2 3 3\n",
      "2 3 4\n",
      "2 4 0\n",
      "2 4 1\n",
      "2 4 2\n",
      "2 4 3\n",
      "2 4 4\n",
      "3 0 0\n",
      "3 0 1\n",
      "3 0 2\n",
      "3 0 3\n",
      "3 0 4\n",
      "3 1 0\n",
      "3 1 1\n",
      "3 1 2\n",
      "3 1 3\n",
      "3 1 4\n",
      "3 2 0\n",
      "3 2 1\n",
      "3 2 2\n",
      "3 2 3\n",
      "3 2 4\n",
      "3 3 0\n",
      "3 3 1\n",
      "3 3 2\n",
      "3 3 3\n",
      "3 3 4\n",
      "3 4 0\n",
      "3 4 1\n",
      "3 4 2\n",
      "3 4 3\n",
      "3 4 4\n",
      "4 0 0\n",
      "4 0 1\n",
      "4 0 2\n",
      "4 0 3\n",
      "4 0 4\n",
      "4 1 0\n",
      "4 1 1\n",
      "4 1 2\n",
      "4 1 3\n",
      "4 1 4\n",
      "4 2 0\n",
      "4 2 1\n",
      "4 2 2\n",
      "4 2 3\n",
      "4 2 4\n",
      "4 3 0\n",
      "4 3 1\n",
      "4 3 2\n",
      "4 3 3\n",
      "4 3 4\n",
      "4 4 0\n",
      "4 4 1\n",
      "4 4 2\n",
      "4 4 3\n",
      "4 4 4\n"
     ]
    }
   ],
   "source": [
    "# itertools.product 예제\n",
    "count = 0\n",
    "for a, b, c in itertools.product(range(5), range(5), range(5)):\n",
    "    print(a, b, c) # 각각의 for문이 도는 결과를 표시"
   ]
  },
  {
   "cell_type": "code",
   "execution_count": 3,
   "metadata": {
    "ExecuteTime": {
     "end_time": "2021-07-03T03:50:20.426451Z",
     "start_time": "2021-07-03T03:50:20.399523Z"
    },
    "scrolled": true
   },
   "outputs": [
    {
     "name": "stdout",
     "output_type": "stream",
     "text": [
      "0 0 0\n",
      "0 0 1\n",
      "0 0 2\n",
      "0 0 3\n",
      "0 0 4\n",
      "0 1 0\n",
      "0 1 1\n",
      "0 1 2\n",
      "0 1 3\n",
      "0 1 4\n",
      "0 2 0\n",
      "0 2 1\n",
      "0 2 2\n",
      "0 2 3\n",
      "0 2 4\n",
      "0 3 0\n",
      "0 3 1\n",
      "0 3 2\n",
      "0 3 3\n",
      "0 3 4\n",
      "0 4 0\n",
      "0 4 1\n",
      "0 4 2\n",
      "0 4 3\n",
      "0 4 4\n",
      "1 0 0\n",
      "1 0 1\n",
      "1 0 2\n",
      "1 0 3\n",
      "1 0 4\n",
      "1 1 0\n",
      "1 1 1\n",
      "1 1 2\n",
      "1 1 3\n",
      "1 1 4\n",
      "1 2 0\n",
      "1 2 1\n",
      "1 2 2\n",
      "1 2 3\n",
      "1 2 4\n",
      "1 3 0\n",
      "1 3 1\n",
      "1 3 2\n",
      "1 3 3\n",
      "1 3 4\n",
      "1 4 0\n",
      "1 4 1\n",
      "1 4 2\n",
      "1 4 3\n",
      "1 4 4\n",
      "2 0 0\n",
      "2 0 1\n",
      "2 0 2\n",
      "2 0 3\n",
      "2 0 4\n",
      "2 1 0\n",
      "2 1 1\n",
      "2 1 2\n",
      "2 1 3\n",
      "2 1 4\n",
      "2 2 0\n",
      "2 2 1\n",
      "2 2 2\n",
      "2 2 3\n",
      "2 2 4\n",
      "2 3 0\n",
      "2 3 1\n",
      "2 3 2\n",
      "2 3 3\n",
      "2 3 4\n",
      "2 4 0\n",
      "2 4 1\n",
      "2 4 2\n",
      "2 4 3\n",
      "2 4 4\n",
      "3 0 0\n",
      "3 0 1\n",
      "3 0 2\n",
      "3 0 3\n",
      "3 0 4\n",
      "3 1 0\n",
      "3 1 1\n",
      "3 1 2\n",
      "3 1 3\n",
      "3 1 4\n",
      "3 2 0\n",
      "3 2 1\n",
      "3 2 2\n",
      "3 2 3\n",
      "3 2 4\n",
      "3 3 0\n",
      "3 3 1\n",
      "3 3 2\n",
      "3 3 3\n",
      "3 3 4\n",
      "3 4 0\n",
      "3 4 1\n",
      "3 4 2\n",
      "3 4 3\n",
      "3 4 4\n",
      "4 0 0\n",
      "4 0 1\n",
      "4 0 2\n",
      "4 0 3\n",
      "4 0 4\n",
      "4 1 0\n",
      "4 1 1\n",
      "4 1 2\n",
      "4 1 3\n",
      "4 1 4\n",
      "4 2 0\n",
      "4 2 1\n",
      "4 2 2\n",
      "4 2 3\n",
      "4 2 4\n",
      "4 3 0\n",
      "4 3 1\n",
      "4 3 2\n",
      "4 3 3\n",
      "4 3 4\n",
      "4 4 0\n",
      "4 4 1\n",
      "4 4 2\n",
      "4 4 3\n",
      "4 4 4\n"
     ]
    }
   ],
   "source": [
    "# 위 코드와 같은 방식으로 동작하는 코드\n",
    "for a in range(5):\n",
    "    for b in range(5):\n",
    "        for c in range(5):\n",
    "            print(a, b, c)"
   ]
  },
  {
   "cell_type": "markdown",
   "metadata": {},
   "source": [
    "**즉,product() 함수는 nested for문의 깊이가 매우 깊을때** 유용하게 사용된다."
   ]
  },
  {
   "cell_type": "markdown",
   "metadata": {},
   "source": [
    "## zip 함수와 itertools.product 함수의 차이"
   ]
  },
  {
   "cell_type": "code",
   "execution_count": 4,
   "metadata": {
    "ExecuteTime": {
     "end_time": "2021-07-03T03:50:20.442409Z",
     "start_time": "2021-07-03T03:50:20.429444Z"
    },
    "scrolled": true
   },
   "outputs": [
    {
     "name": "stdout",
     "output_type": "stream",
     "text": [
      "0 0 0\n",
      "1 1 1\n",
      "2 2 2\n",
      "3 3 3\n",
      "4 4 4\n"
     ]
    }
   ],
   "source": [
    "for a, b, c in zip(range(5), range(5), range(5)):\n",
    "    print(a, b, c)"
   ]
  },
  {
   "cell_type": "markdown",
   "metadata": {},
   "source": [
    "- zip() 안에 포함된 요소들이 '대등'하게 적용된다.\n",
    "- a가 0~5범위에서 for문을 돌때,b와c도 동일한 범주에서 반복문을 수행한다."
   ]
  },
  {
   "cell_type": "markdown",
   "metadata": {},
   "source": [
    "## itertools.combination(p,r)"
   ]
  },
  {
   "cell_type": "markdown",
   "metadata": {},
   "source": [
    "- iterator 객체 p에서 크기 r의 **가능한 모든 조합**을 갖는 iterator를 생성하는 함수"
   ]
  },
  {
   "cell_type": "code",
   "execution_count": 5,
   "metadata": {
    "ExecuteTime": {
     "end_time": "2021-07-03T03:50:20.457368Z",
     "start_time": "2021-07-03T03:50:20.446398Z"
    }
   },
   "outputs": [
    {
     "name": "stdout",
     "output_type": "stream",
     "text": [
      "('a', 'b')\n",
      "('a', 'c')\n",
      "('a', 'd')\n",
      "('b', 'c')\n",
      "('b', 'd')\n",
      "('c', 'd')\n"
     ]
    }
   ],
   "source": [
    "L = ['a', 'b', 'c', 'd']\n",
    "for comb in itertools.combinations(L, 2): # L에서 2개로 이뤄진 가능한 모든 조합 뽑기\n",
    "    print(comb)"
   ]
  },
  {
   "cell_type": "code",
   "execution_count": 6,
   "metadata": {
    "ExecuteTime": {
     "end_time": "2021-07-03T03:50:20.472329Z",
     "start_time": "2021-07-03T03:50:20.460361Z"
    }
   },
   "outputs": [
    {
     "name": "stdout",
     "output_type": "stream",
     "text": [
      "('a',)\n",
      "('b',)\n",
      "('c',)\n",
      "('d',)\n",
      "('a', 'b')\n",
      "('a', 'c')\n",
      "('a', 'd')\n",
      "('b', 'c')\n",
      "('b', 'd')\n",
      "('c', 'd')\n",
      "('a', 'b', 'c')\n",
      "('a', 'b', 'd')\n",
      "('a', 'c', 'd')\n",
      "('b', 'c', 'd')\n",
      "('a', 'b', 'c', 'd')\n"
     ]
    }
   ],
   "source": [
    "# L에서 출력 가능한 모든 조합을 뽑으려면\n",
    "\n",
    "for r in range(1, len(L) + 1): # L 전체 범위를 돌아야 하기 때문에 +1\n",
    "    for comb in itertools.combinations(L, r):\n",
    "        print(comb)"
   ]
  },
  {
   "cell_type": "markdown",
   "metadata": {},
   "source": [
    "## itertools.permutations(p,r)\n",
    "\n",
    "- iterator 객체 p에서 크기 r의 **가능한 모든 순열**을 갖는 iterator를 생성하는 함수"
   ]
  },
  {
   "cell_type": "code",
   "execution_count": 7,
   "metadata": {
    "ExecuteTime": {
     "end_time": "2021-07-03T03:50:20.487288Z",
     "start_time": "2021-07-03T03:50:20.476318Z"
    },
    "scrolled": true
   },
   "outputs": [
    {
     "name": "stdout",
     "output_type": "stream",
     "text": [
      "('a',)\n",
      "('b',)\n",
      "('c',)\n",
      "('d',)\n",
      "('a', 'b')\n",
      "('a', 'c')\n",
      "('a', 'd')\n",
      "('b', 'a')\n",
      "('b', 'c')\n",
      "('b', 'd')\n",
      "('c', 'a')\n",
      "('c', 'b')\n",
      "('c', 'd')\n",
      "('d', 'a')\n",
      "('d', 'b')\n",
      "('d', 'c')\n",
      "('a', 'b', 'c')\n",
      "('a', 'b', 'd')\n",
      "('a', 'c', 'b')\n",
      "('a', 'c', 'd')\n",
      "('a', 'd', 'b')\n",
      "('a', 'd', 'c')\n",
      "('b', 'a', 'c')\n",
      "('b', 'a', 'd')\n",
      "('b', 'c', 'a')\n",
      "('b', 'c', 'd')\n",
      "('b', 'd', 'a')\n",
      "('b', 'd', 'c')\n",
      "('c', 'a', 'b')\n",
      "('c', 'a', 'd')\n",
      "('c', 'b', 'a')\n",
      "('c', 'b', 'd')\n",
      "('c', 'd', 'a')\n",
      "('c', 'd', 'b')\n",
      "('d', 'a', 'b')\n",
      "('d', 'a', 'c')\n",
      "('d', 'b', 'a')\n",
      "('d', 'b', 'c')\n",
      "('d', 'c', 'a')\n",
      "('d', 'c', 'b')\n"
     ]
    }
   ],
   "source": [
    "# L에서 가능한 모든 순열 뽑기\n",
    "for r in range(1, len(L)):\n",
    "    for comb in itertools.permutations(L, r):\n",
    "        print(comb)"
   ]
  },
  {
   "cell_type": "markdown",
   "metadata": {},
   "source": [
    "# List comprehension\n",
    "\n",
    "- comprehension은 **for문을 한 줄로 작성**해 리스트를 효과적으로 생성하는 방법이다.\n",
    "- 조건문은 생략 가능하다. \n",
    "\n",
    "```python\n",
    "[output for element in iterator if 조건] \n",
    "```\n",
    "의 형태로 작성된다.\n",
    "\n",
    "e.g)\n",
    "\n",
    "```python\n",
    "L = [x**2 for x in range(10) if x%2 ==0] \n",
    "```\n",
    "이는 아래의 for문과 동일한 의미이다.\n",
    "```python\n",
    "L=[]\n",
    "for x in range(10):\n",
    "    if x%2 == 0\n",
    "        L.append(x**2)\n",
    "```\n",
    "\n",
    "즉, 코드 작성시 여러줄이 필요한 것을 1줄로 깔끔하게 정리할 수 있다."
   ]
  },
  {
   "cell_type": "markdown",
   "metadata": {},
   "source": [
    "## 기본  comprehension"
   ]
  },
  {
   "cell_type": "code",
   "execution_count": 8,
   "metadata": {
    "ExecuteTime": {
     "end_time": "2021-07-03T03:50:20.503246Z",
     "start_time": "2021-07-03T03:50:20.491279Z"
    }
   },
   "outputs": [
    {
     "data": {
      "text/plain": [
       "[0, 1, 2, 3, 4, 5, 6, 7, 8, 9]"
      ]
     },
     "execution_count": 8,
     "metadata": {},
     "output_type": "execute_result"
    }
   ],
   "source": [
    "L1 = [x for x in range(10)]\n",
    "L1"
   ]
  },
  {
   "cell_type": "code",
   "execution_count": 9,
   "metadata": {
    "ExecuteTime": {
     "end_time": "2021-07-03T03:50:20.518206Z",
     "start_time": "2021-07-03T03:50:20.505241Z"
    }
   },
   "outputs": [
    {
     "data": {
      "text/plain": [
       "[0, 1, 2, 3, 4, 5, 6, 7, 8, 9]"
      ]
     },
     "execution_count": 9,
     "metadata": {},
     "output_type": "execute_result"
    }
   ],
   "source": [
    "# 위의 comprehension을 다시 쓰면 다음과 같다.\n",
    "# 실제로 결과도 같다.\n",
    "\n",
    "L1 = []\n",
    "for x in range(10):\n",
    "    L1.append(x)\n",
    "L1"
   ]
  },
  {
   "cell_type": "markdown",
   "metadata": {},
   "source": [
    "## 연산이 추가된 comprehension"
   ]
  },
  {
   "cell_type": "code",
   "execution_count": 10,
   "metadata": {
    "ExecuteTime": {
     "end_time": "2021-07-03T03:50:20.533165Z",
     "start_time": "2021-07-03T03:50:20.521199Z"
    }
   },
   "outputs": [
    {
     "data": {
      "text/plain": [
       "[0, 1, 4, 9, 16, 25, 36, 49, 64, 81]"
      ]
     },
     "execution_count": 10,
     "metadata": {},
     "output_type": "execute_result"
    }
   ],
   "source": [
    "L2 = [x**2 for x in range(10)]\n",
    "L2"
   ]
  },
  {
   "cell_type": "code",
   "execution_count": 11,
   "metadata": {
    "ExecuteTime": {
     "end_time": "2021-07-03T03:50:20.548128Z",
     "start_time": "2021-07-03T03:50:20.535162Z"
    }
   },
   "outputs": [
    {
     "data": {
      "text/plain": [
       "[0, 1, 4, 9, 16, 25, 36, 49, 64, 81]"
      ]
     },
     "execution_count": 11,
     "metadata": {},
     "output_type": "execute_result"
    }
   ],
   "source": [
    "# 위의 comprehension을 다시 쓰면 다음과 같다.\n",
    "# 실제로 결과도 같다.\n",
    "\n",
    "L2 = []\n",
    "for x in range(10):\n",
    "    L2.append(x**2)\n",
    "L2    "
   ]
  },
  {
   "cell_type": "markdown",
   "metadata": {},
   "source": [
    "## 조건문이 붙은 comprehension"
   ]
  },
  {
   "cell_type": "code",
   "execution_count": 12,
   "metadata": {
    "ExecuteTime": {
     "end_time": "2021-07-03T03:50:20.564084Z",
     "start_time": "2021-07-03T03:50:20.551119Z"
    }
   },
   "outputs": [
    {
     "data": {
      "text/plain": [
       "[0, 4, 16, 36, 64]"
      ]
     },
     "execution_count": 12,
     "metadata": {},
     "output_type": "execute_result"
    }
   ],
   "source": [
    "L3 = [x**2 for x in range(10) if x%2 == 0]\n",
    "L3"
   ]
  },
  {
   "cell_type": "code",
   "execution_count": 13,
   "metadata": {
    "ExecuteTime": {
     "end_time": "2021-07-03T03:50:20.580041Z",
     "start_time": "2021-07-03T03:50:20.566078Z"
    }
   },
   "outputs": [
    {
     "data": {
      "text/plain": [
       "[0, 4, 16, 36, 64]"
      ]
     },
     "execution_count": 13,
     "metadata": {},
     "output_type": "execute_result"
    }
   ],
   "source": [
    "# 위의 comprehension을 다시 쓰면 다음과 같다.\n",
    "# 실제로 결과도 같다.\n",
    "\n",
    "L3 = []\n",
    "for x in range(10):\n",
    "    if x%2 == 0:\n",
    "        L3.append(x**2)\n",
    "L3"
   ]
  },
  {
   "cell_type": "code",
   "execution_count": 14,
   "metadata": {
    "ExecuteTime": {
     "end_time": "2021-07-03T03:50:20.595001Z",
     "start_time": "2021-07-03T03:50:20.584031Z"
    }
   },
   "outputs": [
    {
     "data": {
      "text/plain": [
       "[4, 2, 3, 5, 5, 3, 4, 6, 6, 4, 5, 7]"
      ]
     },
     "execution_count": 14,
     "metadata": {},
     "output_type": "execute_result"
    }
   ],
   "source": [
    "X = [1, 2, 3, 'a', 'b']\n",
    "Y = [3, 1, 2, 'c', 4]\n",
    "\n",
    "L4 = [x + y for x, y in itertools.product(X, Y) if type(x) == type(y) == int]\n",
    "L4"
   ]
  },
  {
   "cell_type": "markdown",
   "metadata": {},
   "source": [
    "# dictionary comprehension\n",
    "\n",
    "- comprehension은 **for문을 한 줄로 작성**해 사전을 효과적으로 생성하는 방법이다.\n",
    "\n",
    "```python\n",
    "{key:value for key, val in iterator if 조건}\n",
    "```\n",
    "의 형태로 작성된다.\n",
    "\n",
    "e.g)\n",
    "\n",
    "```python\n",
    "dic = {x:y**2 for x,y in zip(range(10), range(10)) if x%2 ==0}\n",
    "```\n",
    "이는 아래의 for문과 동일한 의미이다.\n",
    "```python\n",
    "dic = dict()\n",
    "\n",
    "for x,y in zip(range(10), range(10)):\n",
    "    if x%2 == 0:\n",
    "        dic[x] = y**2\n",
    "```\n",
    "x를 key로, y를 value로 하는 사전을 생성\n",
    "\n",
    "즉, 코드 작성시 여러줄이 필요한 것을 1줄로 깔끔하게 정리할 수 있다."
   ]
  },
  {
   "cell_type": "markdown",
   "metadata": {},
   "source": [
    "## 기본 comprehension"
   ]
  },
  {
   "cell_type": "code",
   "execution_count": 15,
   "metadata": {
    "ExecuteTime": {
     "end_time": "2021-07-03T03:50:20.609961Z",
     "start_time": "2021-07-03T03:50:20.597993Z"
    }
   },
   "outputs": [
    {
     "data": {
      "text/plain": [
       "{0: 0, 1: 1, 2: 2, 3: 3, 4: 4, 5: 5, 6: 6, 7: 7, 8: 8, 9: 9}"
      ]
     },
     "execution_count": 15,
     "metadata": {},
     "output_type": "execute_result"
    }
   ],
   "source": [
    "dic1 = {x:y for x, y in zip(range(10), range(10))}\n",
    "dic1"
   ]
  },
  {
   "cell_type": "code",
   "execution_count": 16,
   "metadata": {
    "ExecuteTime": {
     "end_time": "2021-07-03T03:50:20.625918Z",
     "start_time": "2021-07-03T03:50:20.612953Z"
    }
   },
   "outputs": [
    {
     "data": {
      "text/plain": [
       "{0: 0, 1: 1, 2: 2, 3: 3, 4: 4, 5: 5, 6: 6, 7: 7, 8: 8, 9: 9}"
      ]
     },
     "execution_count": 16,
     "metadata": {},
     "output_type": "execute_result"
    }
   ],
   "source": [
    "# 위의 comprehension을 다시 쓰면 다음과 같다.\n",
    "# 실제로 결과도 같다.\n",
    "\n",
    "dic1 = dict()\n",
    "for x,y in zip(range(10),range(10)):\n",
    "    dic1[x] = y\n",
    "dic1    "
   ]
  },
  {
   "cell_type": "markdown",
   "metadata": {},
   "source": [
    "## dict의 NaN값을 items()를 활용해 채워넣기\n",
    "\n",
    "- 이전에 정리한 바와 같이 dict 자료형은 items()함수를 이용하여 tuple형태로 key, value 순회 가능하다.\n",
    "- items() 사용법은 사전.items() 로 변형하여 tuple의 unpacking개념을 이용해 다수의 값을 한번에 대입하는 방식이다."
   ]
  },
  {
   "cell_type": "code",
   "execution_count": 17,
   "metadata": {
    "ExecuteTime": {
     "end_time": "2021-07-03T03:50:20.641875Z",
     "start_time": "2021-07-03T03:50:20.628910Z"
    }
   },
   "outputs": [],
   "source": [
    "dic = {1:'NaN', 2:2, 3:4, 4:'NaN'}"
   ]
  },
  {
   "cell_type": "code",
   "execution_count": 18,
   "metadata": {
    "ExecuteTime": {
     "end_time": "2021-07-03T03:50:20.656836Z",
     "start_time": "2021-07-03T03:50:20.643870Z"
    }
   },
   "outputs": [
    {
     "data": {
      "text/plain": [
       "{2: 2, 3: 4}"
      ]
     },
     "execution_count": 18,
     "metadata": {},
     "output_type": "execute_result"
    }
   ],
   "source": [
    "# y! = NaN이면 그 값을 dict에 추가\n",
    "\n",
    "dic2 = {x:y for x, y in dic.items() if y != 'NaN'}\n",
    "dic2"
   ]
  },
  {
   "cell_type": "code",
   "execution_count": 19,
   "metadata": {
    "ExecuteTime": {
     "end_time": "2021-07-03T03:50:20.672792Z",
     "start_time": "2021-07-03T03:50:20.658830Z"
    }
   },
   "outputs": [
    {
     "data": {
      "text/plain": [
       "{2: 2, 3: 4}"
      ]
     },
     "execution_count": 19,
     "metadata": {},
     "output_type": "execute_result"
    }
   ],
   "source": [
    "# 위의 comprehension을 다시 쓰면 다음과 같다.\n",
    "# 실제로 결과도 같다.\n",
    "\n",
    "dic2 = dict() #빈 dict 정의\n",
    "\n",
    "for x, y in dic.items(): # dict의 item을 loop\n",
    "    if y != 'NaN': \n",
    "        dic2[x] = y\n",
    "dic2        "
   ]
  }
 ],
 "metadata": {
  "kernelspec": {
   "display_name": "Python 3",
   "language": "python",
   "name": "python3"
  },
  "language_info": {
   "codemirror_mode": {
    "name": "ipython",
    "version": 3
   },
   "file_extension": ".py",
   "mimetype": "text/x-python",
   "name": "python",
   "nbconvert_exporter": "python",
   "pygments_lexer": "ipython3",
   "version": "3.8.5"
  },
  "toc": {
   "base_numbering": 1,
   "nav_menu": {},
   "number_sections": true,
   "sideBar": true,
   "skip_h1_title": false,
   "title_cell": "Table of Contents",
   "title_sidebar": "Contents",
   "toc_cell": false,
   "toc_position": {},
   "toc_section_display": true,
   "toc_window_display": true
  },
  "varInspector": {
   "cols": {
    "lenName": 16,
    "lenType": 16,
    "lenVar": 40
   },
   "kernels_config": {
    "python": {
     "delete_cmd_postfix": "",
     "delete_cmd_prefix": "del ",
     "library": "var_list.py",
     "varRefreshCmd": "print(var_dic_list())"
    },
    "r": {
     "delete_cmd_postfix": ") ",
     "delete_cmd_prefix": "rm(",
     "library": "var_list.r",
     "varRefreshCmd": "cat(var_dic_list()) "
    }
   },
   "types_to_exclude": [
    "module",
    "function",
    "builtin_function_or_method",
    "instance",
    "_Feature"
   ],
   "window_display": false
  }
 },
 "nbformat": 4,
 "nbformat_minor": 2
}
