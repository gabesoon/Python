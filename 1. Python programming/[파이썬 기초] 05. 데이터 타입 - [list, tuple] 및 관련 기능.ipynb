{
 "cells": [
  {
   "cell_type": "markdown",
   "metadata": {},
   "source": [
    "# **리스트 & 튜플**\n",
    " * 복수개의 값을 담을 수 있는 데이터 구조\n",
    " * 실생활에서 사용하는 리스트(학생 리스트, 성적 리스트 등등)과 동일한 의미로 이해\n",
    " * list - mutable    (생성된 후에 변경 가능)  \n",
    " * tuple - immutable (생성된 후에 변경 불가능)\n",
    " ---\n",
    " **공통점**\n",
    " * 리스트와 튜플은 모두 인덱싱과 슬라이싱이 가능하다.\n",
    " * 순회가능(iterable) - 리스트와 튜플은 모두 for문을 이용해 순회할 수 있다. \n",
    " \n",
    " **차이점**\n",
    " * 리스트의 요소는 (생성 후)바꿀 수 있으나(mutable), 튜플의 요소는 (생성 후)바꿀 수 없다.(immutable)\n",
    " * 리스트보다는 튜플의 순회속도가 **약간 더** 빠르다.\n",
    " ---"
   ]
  },
  {
   "cell_type": "markdown",
   "metadata": {},
   "source": [
    "# 리스트"
   ]
  },
  {
   "cell_type": "markdown",
   "metadata": {},
   "source": [
    "## 리스트 초기화\n",
    " - [] 안에 값을 담아서 생성\n",
    " - list() 함수로 생성\n",
    " - str.split()함수로 생성 되기도 한다."
   ]
  },
  {
   "cell_type": "code",
   "execution_count": 1,
   "metadata": {
    "ExecuteTime": {
     "end_time": "2021-07-02T11:10:57.895795Z",
     "start_time": "2021-07-02T11:10:57.882829Z"
    }
   },
   "outputs": [
    {
     "name": "stdout",
     "output_type": "stream",
     "text": [
      "[]\n"
     ]
    }
   ],
   "source": [
    "L1 = [] \n",
    "print(L1)"
   ]
  },
  {
   "cell_type": "code",
   "execution_count": 2,
   "metadata": {
    "ExecuteTime": {
     "end_time": "2021-07-02T11:10:57.910786Z",
     "start_time": "2021-07-02T11:10:57.898787Z"
    }
   },
   "outputs": [
    {
     "name": "stdout",
     "output_type": "stream",
     "text": [
      "[1, 2, 3, 5, 10]\n"
     ]
    }
   ],
   "source": [
    "L1 = [1, 2, 3, 5, 10]\n",
    "print(L1)"
   ]
  },
  {
   "cell_type": "code",
   "execution_count": 3,
   "metadata": {
    "ExecuteTime": {
     "end_time": "2021-07-02T11:10:57.925715Z",
     "start_time": "2021-07-02T11:10:57.912750Z"
    }
   },
   "outputs": [
    {
     "name": "stdout",
     "output_type": "stream",
     "text": [
      "['korea', 'canada', 1, 23, [34, 56]]\n"
     ]
    }
   ],
   "source": [
    "L1 = ['korea', 'seoul', 1, 23, [34, 56]]\n",
    "print(L1)"
   ]
  },
  {
   "cell_type": "code",
   "execution_count": 25,
   "metadata": {
    "ExecuteTime": {
     "end_time": "2021-07-02T11:13:48.686028Z",
     "start_time": "2021-07-02T11:13:48.681041Z"
    }
   },
   "outputs": [
    {
     "ename": "SyntaxError",
     "evalue": "invalid syntax (<ipython-input-25-97f7f0dc6001>, line 1)",
     "output_type": "error",
     "traceback": [
      "\u001b[1;36m  File \u001b[1;32m\"<ipython-input-25-97f7f0dc6001>\"\u001b[1;36m, line \u001b[1;32m1\u001b[0m\n\u001b[1;33m    a = hello world\u001b[0m\n\u001b[1;37m              ^\u001b[0m\n\u001b[1;31mSyntaxError\u001b[0m\u001b[1;31m:\u001b[0m invalid syntax\n"
     ]
    }
   ],
   "source": [
    "L1 = hello word\n",
    "L2 = L1.str.split()\n",
    "\n",
    "print(L2)"
   ]
  },
  {
   "cell_type": "markdown",
   "metadata": {},
   "source": [
    "## list() 함수\n",
    " + 다른 데이터 타입을 리스트로 변환할 때도 사용"
   ]
  },
  {
   "cell_type": "code",
   "execution_count": 4,
   "metadata": {
    "ExecuteTime": {
     "end_time": "2021-07-02T11:10:57.941672Z",
     "start_time": "2021-07-02T11:10:57.927710Z"
    }
   },
   "outputs": [
    {
     "name": "stdout",
     "output_type": "stream",
     "text": [
      "['h', 'e', 'l', 'l', 'o', ' ', 'w', 'o', 'r', 'l', 'd']\n"
     ]
    }
   ],
   "source": [
    "L1 = 'hello world' # 문자열 데이터\n",
    "L2 = list(L1) #리스트 형으로 변경 -> 하나의 문자별로 각각 리스트의 값이 된다.\n",
    "print(L2)"
   ]
  },
  {
   "cell_type": "code",
   "execution_count": 5,
   "metadata": {
    "ExecuteTime": {
     "end_time": "2021-07-02T11:10:57.956631Z",
     "start_time": "2021-07-02T11:10:57.944664Z"
    }
   },
   "outputs": [
    {
     "name": "stdout",
     "output_type": "stream",
     "text": [
      "[1, 2, 3]\n"
     ]
    }
   ],
   "source": [
    "L3 = (1, 2, 3) #int형 데이터\n",
    "L4 = list(L3) #리스트 형으로 변경\n",
    "\n",
    "print(L4) "
   ]
  },
  {
   "cell_type": "markdown",
   "metadata": {},
   "source": [
    "## string split 함수\n",
    " * 구분자로 구분되는 리스트를 반환 (실제로 자주 사용 됨)\n",
    " - split() 의 () 안에 입력되는 특정 값을 기준으로 분류된다.\n",
    " - 아무것도 입력하지 않고 ()을 하거나 (' ')로 입력하면 1칸 공백을 기준으로 split한다."
   ]
  },
  {
   "cell_type": "code",
   "execution_count": 6,
   "metadata": {
    "ExecuteTime": {
     "end_time": "2021-07-02T11:10:57.972589Z",
     "start_time": "2021-07-02T11:10:57.959623Z"
    }
   },
   "outputs": [
    {
     "name": "stdout",
     "output_type": "stream",
     "text": [
      "['hello', 'world', 'nice', 'weather']\n",
      "['today', 'is', 'shiny', 'day']\n"
     ]
    }
   ],
   "source": [
    "L1 = 'hello world nice weather'\n",
    "L2 = L1.split()\n",
    "\n",
    "L3 = 'today is shiny day'\n",
    "L4 = L3.split(' ')\n",
    "\n",
    "print(L2)\n",
    "print(L4)"
   ]
  },
  {
   "cell_type": "markdown",
   "metadata": {},
   "source": [
    "## 리스트 indexing\n",
    " * 문자열의 인덱싱과 동일하게 동작\n",
    " * [] 연산자를 이용하여 항목을 얻어온다.\n",
    " * List[i] : List 의 i번째 원소를 반환 (0부터 시작, 역순인 경우 -1부터 시작)\n",
    " * i가 음수인 경우도 가능하며 마지막원소가 -1로 하여 앞으로 갈때마다 1씩 감소함"
   ]
  },
  {
   "cell_type": "code",
   "execution_count": 7,
   "metadata": {
    "ExecuteTime": {
     "end_time": "2021-07-02T11:10:58.003016Z",
     "start_time": "2021-07-02T11:10:57.976579Z"
    }
   },
   "outputs": [
    {
     "name": "stdout",
     "output_type": "stream",
     "text": [
      "3\n",
      "6\n",
      "6\n"
     ]
    }
   ],
   "source": [
    "L1 = [1, 2, 3, 4, 5, 6]\n",
    "print(L1[2]) # L1 리스트에서 2번째 인덱스 -> 3번째 수\n",
    "print(L1[5])\n",
    "print(L1[-1]) "
   ]
  },
  {
   "cell_type": "markdown",
   "metadata": {},
   "source": [
    "## 리스트 개별 아이템에 접근\n",
    " - 인덱스에 접근하여 값을 업데이트 가능"
   ]
  },
  {
   "cell_type": "code",
   "execution_count": 8,
   "metadata": {
    "ExecuteTime": {
     "end_time": "2021-07-02T11:10:58.017976Z",
     "start_time": "2021-07-02T11:10:58.007005Z"
    }
   },
   "outputs": [
    {
     "name": "stdout",
     "output_type": "stream",
     "text": [
      "h\n"
     ]
    }
   ],
   "source": [
    "L1 = 'hello world'\n",
    "print(L1[0])"
   ]
  },
  {
   "cell_type": "code",
   "execution_count": 9,
   "metadata": {
    "ExecuteTime": {
     "end_time": "2021-07-02T11:10:58.032936Z",
     "start_time": "2021-07-02T11:10:58.020968Z"
    }
   },
   "outputs": [
    {
     "name": "stdout",
     "output_type": "stream",
     "text": [
      "jello world\n"
     ]
    }
   ],
   "source": [
    "L2 = 'jello world'\n",
    "L3 = 'j' + L1[1:]  #1번재 인덱스 부터 끝까지 => ello world\n",
    "\n",
    "print(L3)"
   ]
  },
  {
   "cell_type": "code",
   "execution_count": 10,
   "metadata": {
    "ExecuteTime": {
     "end_time": "2021-07-02T11:10:58.047896Z",
     "start_time": "2021-07-02T11:10:58.034930Z"
    }
   },
   "outputs": [
    {
     "name": "stdout",
     "output_type": "stream",
     "text": [
      "jello world\n",
      "hello world\n"
     ]
    }
   ],
   "source": [
    "L4 = L1.replace('h', 'j') \n",
    "\n",
    "print(L4) # L1의 h를 j로 치환한 결과를 출력\n",
    "print(L1) # 기존의 L1출력 <- L4는 L1를 활용해 변수선언을 한 것 뿐이지, L1 에 직접적인 변화를 주지는 않았다."
   ]
  },
  {
   "cell_type": "code",
   "execution_count": 11,
   "metadata": {
    "ExecuteTime": {
     "end_time": "2021-07-02T11:10:58.062855Z",
     "start_time": "2021-07-02T11:10:58.049891Z"
    }
   },
   "outputs": [
    {
     "name": "stdout",
     "output_type": "stream",
     "text": [
      "[100, 2, 3, 4, 90]\n"
     ]
    }
   ],
   "source": [
    "L1 = [1, 2, 3, 4, 5]\n",
    "L1[0] = 100 # 0번째 인덱스인 1을 100으로 변경\n",
    "L1[-1] = 90 # 맨 마지막 인덱스인 5를 90으로 변경\n",
    "\n",
    "print(L1)"
   ]
  },
  {
   "cell_type": "markdown",
   "metadata": {},
   "source": [
    "## 리스트 slicing\n",
    " - 문자열 슬라이싱과 동일하게 동작\n",
    " - 슬라이싱의 결과 역시 list!\n",
    " - List[start:end,step] 순서로 입력\n",
    "     - start 인덱스 부터 end인덱스 까지 step만큼 건너 뛴 부분을 리스트로 반환\n",
    "     - step은 defL1ult가 1\n",
    "     - start와 end도 입력하지 않아도 된다. 단, ':'은 반드시 넣어야 한다."
   ]
  },
  {
   "cell_type": "code",
   "execution_count": 12,
   "metadata": {
    "ExecuteTime": {
     "end_time": "2021-07-02T11:10:58.092776Z",
     "start_time": "2021-07-02T11:10:58.065848Z"
    }
   },
   "outputs": [
    {
     "name": "stdout",
     "output_type": "stream",
     "text": [
      "[5, 6, 7]\n",
      "[1, 2, 3, 4, 5, 6, 7]\n",
      "[4, 5, 6, 7, 8]\n",
      "[1, 2, 3, 4, 5, 6, 7, 8]\n"
     ]
    },
    {
     "data": {
      "text/plain": [
       "[2, 3, 4, 5, 6, 7]"
      ]
     },
     "execution_count": 12,
     "metadata": {},
     "output_type": "execute_result"
    }
   ],
   "source": [
    "L1 = [1, 2, 3, 4, 5, 6, 7, 8]\n",
    "print(L1[4:7])\n",
    "print(L1[:7])\n",
    "print(L1[3:])\n",
    "print(L1[:])\n",
    "\n",
    "# slicing \n",
    "# start:end:increment(1)\n",
    "\n",
    "L1[1:7]"
   ]
  },
  {
   "cell_type": "markdown",
   "metadata": {},
   "source": [
    "## list 멤버 함수\n",
    " - 생성된 리스트 객체에 동작하는 함수\n",
    " - 추후, 클래스와 멤버 함수 개념을 정리할 예정"
   ]
  },
  {
   "cell_type": "markdown",
   "metadata": {},
   "source": [
    "### append() - 요소 추가 함수\n",
    " + 리스트의 끝에 항목을 추가함"
   ]
  },
  {
   "cell_type": "code",
   "execution_count": 16,
   "metadata": {
    "ExecuteTime": {
     "end_time": "2021-07-02T23:40:56.806153Z",
     "start_time": "2021-07-02T23:40:56.802193Z"
    }
   },
   "outputs": [
    {
     "name": "stdout",
     "output_type": "stream",
     "text": [
      "[1, 2, 40, 30, 5]\n"
     ]
    }
   ],
   "source": [
    "L1 = [1, 2, 3, 4, 5]\n",
    "L1.append(10)\n",
    "\n",
    "print(a)"
   ]
  },
  {
   "cell_type": "markdown",
   "metadata": {},
   "source": [
    "### extend() - 요소 추가 함수\n",
    " * 리스트를 연장\n",
    " * += 로도 가능함"
   ]
  },
  {
   "cell_type": "code",
   "execution_count": 21,
   "metadata": {
    "ExecuteTime": {
     "end_time": "2021-07-02T23:42:11.235509Z",
     "start_time": "2021-07-02T23:42:11.225536Z"
    }
   },
   "outputs": [
    {
     "name": "stdout",
     "output_type": "stream",
     "text": [
      "[1, 2, 3, 4, 5, 6, 7, 8, 9, 10]\n"
     ]
    }
   ],
   "source": [
    "L2 = [1, 2, 3, 4, 5]\n",
    "L3 = [6, 7, 8, 9, 10]\n",
    "\n",
    "L2.extend(L3)\n",
    "\n",
    "\n",
    "print(L2)"
   ]
  },
  {
   "cell_type": "code",
   "execution_count": 18,
   "metadata": {
    "ExecuteTime": {
     "end_time": "2021-07-02T23:41:35.853523Z",
     "start_time": "2021-07-02T23:41:35.845545Z"
    }
   },
   "outputs": [
    {
     "name": "stdout",
     "output_type": "stream",
     "text": [
      "[1, 2, 3, 4, 5, 6, 7, 8, 9, 10]\n"
     ]
    }
   ],
   "source": [
    "# a.extend(b)와 동일\n",
    "L2 = [1, 2, 3, 4, 5]\n",
    "L3 = [6, 7, 8, 9, 10]\n",
    "\n",
    "L2 += L3\n",
    "print(L2)"
   ]
  },
  {
   "cell_type": "markdown",
   "metadata": {},
   "source": [
    "### insert() - 요소 추가 함수\n",
    " * 리스트의 원하는 위치에 추가 가능\n",
    " * 앞에 인덱스를, 뒤에 아이템을 명시"
   ]
  },
  {
   "cell_type": "code",
   "execution_count": 19,
   "metadata": {
    "ExecuteTime": {
     "end_time": "2021-07-02T23:41:48.232676Z",
     "start_time": "2021-07-02T23:41:48.225665Z"
    }
   },
   "outputs": [
    {
     "name": "stdout",
     "output_type": "stream",
     "text": [
      "[1, 40, 3, 4, 5, 6]\n"
     ]
    }
   ],
   "source": [
    "L4 = [1, 3, 4, 5, 6]\n",
    "L4.insert(1, 40) # 1번째 인덱스에 40을 넣는다. \n",
    "\n",
    "print(L4)"
   ]
  },
  {
   "cell_type": "markdown",
   "metadata": {},
   "source": [
    "### remove() - 요소 제거 함수\n",
    " * 값으로 항목 삭제\n",
    " * 한 리스트에 동일값이 있을 경우 remove 앞쪽의 인덱스에 있는 값이 삭제 된다."
   ]
  },
  {
   "cell_type": "code",
   "execution_count": 22,
   "metadata": {
    "ExecuteTime": {
     "end_time": "2021-07-02T23:42:27.391699Z",
     "start_time": "2021-07-02T23:42:27.372699Z"
    }
   },
   "outputs": [
    {
     "ename": "ValueError",
     "evalue": "list.remove(x): x not in list",
     "output_type": "error",
     "traceback": [
      "\u001b[1;31m---------------------------------------------------------------------------\u001b[0m",
      "\u001b[1;31mValueError\u001b[0m                                Traceback (most recent call last)",
      "\u001b[1;32m<ipython-input-22-dfdce94255a0>\u001b[0m in \u001b[0;36m<module>\u001b[1;34m\u001b[0m\n\u001b[0;32m      1\u001b[0m \u001b[0mL5\u001b[0m\u001b[1;33m=\u001b[0m \u001b[1;33m[\u001b[0m\u001b[1;36m1\u001b[0m\u001b[1;33m,\u001b[0m \u001b[1;36m2\u001b[0m\u001b[1;33m,\u001b[0m \u001b[1;36m30\u001b[0m\u001b[1;33m,\u001b[0m \u001b[1;36m40\u001b[0m\u001b[1;33m,\u001b[0m \u001b[1;36m30\u001b[0m\u001b[1;33m,\u001b[0m \u001b[1;36m5\u001b[0m\u001b[1;33m]\u001b[0m\u001b[1;33m\u001b[0m\u001b[1;33m\u001b[0m\u001b[0m\n\u001b[1;32m----> 2\u001b[1;33m \u001b[0mL5\u001b[0m\u001b[1;33m.\u001b[0m\u001b[0mremove\u001b[0m\u001b[1;33m(\u001b[0m\u001b[1;36m9\u001b[0m\u001b[1;33m)\u001b[0m\u001b[1;33m\u001b[0m\u001b[1;33m\u001b[0m\u001b[0m\n\u001b[0m\u001b[0;32m      3\u001b[0m \u001b[0mprint\u001b[0m\u001b[1;33m(\u001b[0m\u001b[0mL5\u001b[0m\u001b[1;33m)\u001b[0m \u001b[1;31m# list에 9가 없기 때문에 에러가 발생\u001b[0m\u001b[1;33m\u001b[0m\u001b[1;33m\u001b[0m\u001b[0m\n",
      "\u001b[1;31mValueError\u001b[0m: list.remove(x): x not in list"
     ]
    }
   ],
   "source": [
    "L5= [1, 2, 30, 40, 30, 5]\n",
    "L5.remove(9)\n",
    "print(L5) # list에 9가 없기 때문에 에러가 발생"
   ]
  },
  {
   "cell_type": "code",
   "execution_count": 23,
   "metadata": {
    "ExecuteTime": {
     "end_time": "2021-07-02T23:42:36.398405Z",
     "start_time": "2021-07-02T23:42:36.391849Z"
    }
   },
   "outputs": [
    {
     "name": "stdout",
     "output_type": "stream",
     "text": [
      "[1, 2, 40, 30, 5]\n"
     ]
    }
   ],
   "source": [
    "L5.remove(30)\n",
    "print(L5)   # list에 있는 30중 앞쪽 인덱스의 30이 삭제 되었다."
   ]
  },
  {
   "cell_type": "markdown",
   "metadata": {},
   "source": [
    "### pop() - 요소 제거 함수\n",
    "  - 지우고자 하는 아이템을 반환 후, 삭제\n",
    "  - ()에 들어가는 숫자는 인덱스 번호"
   ]
  },
  {
   "cell_type": "code",
   "execution_count": 24,
   "metadata": {
    "ExecuteTime": {
     "end_time": "2021-07-02T23:42:57.273615Z",
     "start_time": "2021-07-02T23:42:57.261000Z"
    }
   },
   "outputs": [
    {
     "name": "stdout",
     "output_type": "stream",
     "text": [
      "[1, 3, 4, 5]\n",
      "2\n"
     ]
    }
   ],
   "source": [
    "L5 = [1, 2, 3, 4, 5]\n",
    "L6 = L5.pop(1) #1번째 인덱스 값을 반환 후 삭제\n",
    "\n",
    "print(L5) \n",
    "print(L6)"
   ]
  },
  {
   "cell_type": "markdown",
   "metadata": {},
   "source": [
    "순서상 L5의 1번째 인덱스값을 지우는 L6가 먼저 선언되어서 L5에서 1번째 인덱스값인 2가 사라진다."
   ]
  },
  {
   "cell_type": "markdown",
   "metadata": {},
   "source": [
    "### index() - 요소 위치 찾기 함수\n",
    " * 찾고자 하는 값의 인덱스 반환"
   ]
  },
  {
   "cell_type": "code",
   "execution_count": 25,
   "metadata": {
    "ExecuteTime": {
     "end_time": "2021-07-02T23:43:39.904647Z",
     "start_time": "2021-07-02T23:43:39.892708Z"
    }
   },
   "outputs": [
    {
     "name": "stdout",
     "output_type": "stream",
     "text": [
      "1의 위치:0\n",
      "3의 위치:1\n"
     ]
    },
    {
     "ename": "ValueError",
     "evalue": "5 is not in list",
     "output_type": "error",
     "traceback": [
      "\u001b[1;31m---------------------------------------------------------------------------\u001b[0m",
      "\u001b[1;31mValueError\u001b[0m                                Traceback (most recent call last)",
      "\u001b[1;32m<ipython-input-25-f3129452b4a5>\u001b[0m in \u001b[0;36m<module>\u001b[1;34m\u001b[0m\n\u001b[0;32m      3\u001b[0m \u001b[0mprint\u001b[0m\u001b[1;33m(\u001b[0m\u001b[1;34m\"3의 위치:{}\"\u001b[0m\u001b[1;33m.\u001b[0m\u001b[0mformat\u001b[0m\u001b[1;33m(\u001b[0m\u001b[0mL7\u001b[0m\u001b[1;33m.\u001b[0m\u001b[0mindex\u001b[0m\u001b[1;33m(\u001b[0m\u001b[1;36m3\u001b[0m\u001b[1;33m)\u001b[0m\u001b[1;33m)\u001b[0m\u001b[1;33m)\u001b[0m\u001b[1;33m\u001b[0m\u001b[1;33m\u001b[0m\u001b[0m\n\u001b[0;32m      4\u001b[0m \u001b[1;33m\u001b[0m\u001b[0m\n\u001b[1;32m----> 5\u001b[1;33m \u001b[0mL7\u001b[0m\u001b[1;33m.\u001b[0m\u001b[0mindex\u001b[0m\u001b[1;33m(\u001b[0m\u001b[1;36m5\u001b[0m\u001b[1;33m)\u001b[0m \u001b[1;31m# 5의 위치: 없으므로 Error 발생 (5 is not in list)\u001b[0m\u001b[1;33m\u001b[0m\u001b[1;33m\u001b[0m\u001b[0m\n\u001b[0m",
      "\u001b[1;31mValueError\u001b[0m: 5 is not in list"
     ]
    }
   ],
   "source": [
    "L7 = [1, 3, 2, 1, 4]\n",
    "print(\"1의 위치:{}\".format(L7.index(1)))\n",
    "print(\"3의 위치:{}\".format(L7.index(3)))\n",
    "\n",
    "L7.index(5) # 5의 위치: 없으므로 Error 발생 (5 is not in list)"
   ]
  },
  {
   "cell_type": "markdown",
   "metadata": {},
   "source": [
    "### replace()"
   ]
  },
  {
   "cell_type": "markdown",
   "metadata": {},
   "source": [
    "- 개별 아이템 접근에서 정리한 내용과 동일\n",
    "- 인덱스로 접근하여 특정값을 변경 가능 (mutable)"
   ]
  },
  {
   "cell_type": "code",
   "execution_count": 31,
   "metadata": {
    "ExecuteTime": {
     "end_time": "2021-07-02T23:53:51.693440Z",
     "start_time": "2021-07-02T23:53:51.687457Z"
    }
   },
   "outputs": [
    {
     "name": "stdout",
     "output_type": "stream",
     "text": [
      "jello world\n",
      "hello world\n"
     ]
    }
   ],
   "source": [
    "L1 = 'hello world'\n",
    "\n",
    "L4 = L1.replace('h', 'j') \n",
    "\n",
    "print(L4) # L1의 h를 j로 치환한 결과를 출력\n",
    "print(L1) # 기존의 L1출력 <- L4는 L1를 활용해 변수선언을 한 것 뿐이지, L1 에 직접적인 변화를 주지는 않았다."
   ]
  },
  {
   "cell_type": "markdown",
   "metadata": {},
   "source": [
    "### in 키워드\n",
    " + 리스트 내에 해당 값이 존재하는지 확인\n",
    " + value in [list]\n",
    " + True, False 중 한가지로 반환"
   ]
  },
  {
   "cell_type": "code",
   "execution_count": 34,
   "metadata": {
    "ExecuteTime": {
     "end_time": "2021-07-02T23:57:52.794315Z",
     "start_time": "2021-07-02T23:57:52.779330Z"
    }
   },
   "outputs": [
    {
     "name": "stdout",
     "output_type": "stream",
     "text": [
      "False\n"
     ]
    }
   ],
   "source": [
    "L1 = [1, 2, 3, 4, 5, 10]\n",
    "L2 = 10\n",
    "\n",
    "L3 = L2 in a # False\n",
    "\n",
    "print(L3)"
   ]
  },
  {
   "cell_type": "markdown",
   "metadata": {},
   "source": [
    "### list 정렬\n",
    " + sort() -> 리스트 자체를 내부적으로 정렬\n",
    " + sorted() -> 리스트의 정렬된 복사본을 반환\n",
    " \n",
    " sorted : 원본 데이터를 보존하고자 할때 유용"
   ]
  },
  {
   "cell_type": "code",
   "execution_count": 35,
   "metadata": {
    "ExecuteTime": {
     "end_time": "2021-07-02T23:59:27.470369Z",
     "start_time": "2021-07-02T23:59:27.453543Z"
    }
   },
   "outputs": [
    {
     "name": "stdout",
     "output_type": "stream",
     "text": [
      "[21, 20, 19, 10, 9, 8, 7, 7, 2, 1]\n",
      "[1, 2, 7, 7, 8, 9, 10, 19, 20, 21]\n"
     ]
    }
   ],
   "source": [
    "L1 = [9, 10, 7, 19, 1, 2, 20, 21, 7, 8]\n",
    "L1.sort(reverse=True)\n",
    "L2 = sorted(L1)\n",
    "print(L1)\n",
    "print(L2)"
   ]
  },
  {
   "cell_type": "markdown",
   "metadata": {},
   "source": [
    "# tuple\n",
    " - 리스트와 달리 ()로 표현한다.\n",
    " - 리스트와 같이 복수개의 값을 갖는 컬렉션 타입\n",
    " - **한번 생성하면 변경이 불가능하다.(immutable)**\n",
    " - 즉, indexing으로 개별접근을 해도 값의 추가, 변경, 삭제는 불가능 하다."
   ]
  },
  {
   "cell_type": "code",
   "execution_count": 38,
   "metadata": {
    "ExecuteTime": {
     "end_time": "2021-07-03T00:00:32.419324Z",
     "start_time": "2021-07-03T00:00:32.406365Z"
    }
   },
   "outputs": [
    {
     "name": "stdout",
     "output_type": "stream",
     "text": [
      "<class 'list'>\n",
      "<class 'tuple'>\n"
     ]
    }
   ],
   "source": [
    "L1 = [1, 2, 3]\n",
    "T1 = (1, 2, 3)\n",
    "\n",
    "print(type(L1))\n",
    "print(type(T1))"
   ]
  },
  {
   "cell_type": "code",
   "execution_count": 40,
   "metadata": {
    "ExecuteTime": {
     "end_time": "2021-07-03T00:00:50.325441Z",
     "start_time": "2021-07-03T00:00:50.311451Z"
    }
   },
   "outputs": [
    {
     "name": "stdout",
     "output_type": "stream",
     "text": [
      "[100, 2, 3]\n"
     ]
    }
   ],
   "source": [
    "L1[0] = 100 # 0번째 index 자리에 100을 추가\n",
    "print(L1)\n",
    "\n",
    "# 리스트는 변경이 가능 (Mutable)"
   ]
  },
  {
   "cell_type": "code",
   "execution_count": 33,
   "metadata": {
    "ExecuteTime": {
     "end_time": "2021-07-02T12:40:47.507342Z",
     "start_time": "2021-07-02T12:40:47.485428Z"
    }
   },
   "outputs": [
    {
     "ename": "TypeError",
     "evalue": "'tuple' object does not support item assignment",
     "output_type": "error",
     "traceback": [
      "\u001b[1;31m---------------------------------------------------------------------------\u001b[0m",
      "\u001b[1;31mTypeError\u001b[0m                                 Traceback (most recent call last)",
      "\u001b[1;32m<ipython-input-33-73235dc59b21>\u001b[0m in \u001b[0;36m<module>\u001b[1;34m\u001b[0m\n\u001b[1;32m----> 1\u001b[1;33m \u001b[0mb\u001b[0m\u001b[1;33m[\u001b[0m\u001b[1;36m0\u001b[0m\u001b[1;33m]\u001b[0m \u001b[1;33m=\u001b[0m \u001b[1;36m100\u001b[0m\u001b[1;33m\u001b[0m\u001b[1;33m\u001b[0m\u001b[0m\n\u001b[0m\u001b[0;32m      2\u001b[0m \u001b[0mprint\u001b[0m\u001b[1;33m(\u001b[0m\u001b[0mb\u001b[0m\u001b[1;33m)\u001b[0m\u001b[1;33m\u001b[0m\u001b[1;33m\u001b[0m\u001b[0m\n",
      "\u001b[1;31mTypeError\u001b[0m: 'tuple' object does not support item assignment"
     ]
    }
   ],
   "source": [
    "b[0] = 100  # 튜플은 변경이 불가능하다!\n",
    "print(b) "
   ]
  },
  {
   "cell_type": "markdown",
   "metadata": {},
   "source": [
    "## 튜플 indexing"
   ]
  },
  {
   "cell_type": "code",
   "execution_count": 27,
   "metadata": {
    "ExecuteTime": {
     "end_time": "2021-07-02T23:46:23.572390Z",
     "start_time": "2021-07-02T23:46:23.565379Z"
    }
   },
   "outputs": [
    {
     "name": "stdout",
     "output_type": "stream",
     "text": [
      "T[2] = 1\n",
      "T[4] = 10\n",
      "T[-1] = 6\n"
     ]
    }
   ],
   "source": [
    "# 인덱싱과 슬라이싱\n",
    "T = [4, 5, 1, 2, 10, 6]\n",
    "\n",
    "print(\"T[2] = {}\".format(T[2]))\n",
    "print(\"T[4] = {}\".format(T[4]))\n",
    "print(\"T[-1] = {}\".format(T[-1]))"
   ]
  },
  {
   "cell_type": "markdown",
   "metadata": {},
   "source": [
    "## 튜플 slicing"
   ]
  },
  {
   "cell_type": "code",
   "execution_count": 29,
   "metadata": {
    "ExecuteTime": {
     "end_time": "2021-07-02T23:46:46.117466Z",
     "start_time": "2021-07-02T23:46:46.102597Z"
    }
   },
   "outputs": [
    {
     "name": "stdout",
     "output_type": "stream",
     "text": [
      "T[0:3] = [4, 5, 1]\n",
      "T[:3] = [4, 5, 1]\n",
      "T[2:] = [1, 2, 10, 6]\n",
      "T[0:4:2] = [4, 1]\n"
     ]
    }
   ],
   "source": [
    "T = [4, 5, 1, 2, 10, 6]\n",
    "\n",
    "print(\"T[0:3] = {}\".format(T[0:3]))\n",
    "print(\"T[:3] = {}\".format(T[:3])) \n",
    "print(\"T[2:] = {}\".format(T[2:]))\n",
    "print(\"T[0:4:2] = {}\".format(T[0:4:2]))"
   ]
  },
  {
   "cell_type": "code",
   "execution_count": null,
   "metadata": {},
   "outputs": [],
   "source": []
  },
  {
   "cell_type": "markdown",
   "metadata": {},
   "source": [
    "## 튜플 관련 함수"
   ]
  },
  {
   "cell_type": "markdown",
   "metadata": {},
   "source": [
    "### 소괄호 없이 생성"
   ]
  },
  {
   "cell_type": "code",
   "execution_count": 2,
   "metadata": {
    "ExecuteTime": {
     "end_time": "2021-07-02T23:32:18.120336Z",
     "start_time": "2021-07-02T23:32:18.104376Z"
    }
   },
   "outputs": [
    {
     "name": "stdout",
     "output_type": "stream",
     "text": [
      "(1, 2, 3, 4)\n"
     ]
    }
   ],
   "source": [
    "# 소괄호 없이 튜플 생성할 수 있다.\n",
    "\n",
    "T = 1, 2, 3, 4\n",
    "print(T)"
   ]
  },
  {
   "cell_type": "markdown",
   "metadata": {},
   "source": [
    "### 원소가 1개인 튜플 만들기"
   ]
  },
  {
   "cell_type": "code",
   "execution_count": 5,
   "metadata": {
    "ExecuteTime": {
     "end_time": "2021-07-02T23:33:57.765412Z",
     "start_time": "2021-07-02T23:33:57.750423Z"
    }
   },
   "outputs": [
    {
     "name": "stdout",
     "output_type": "stream",
     "text": [
      "<class 'tuple'>\n",
      "(1,)\n"
     ]
    }
   ],
   "source": [
    "# 원소가 하나인 튜플은 반드시 원소 뒤에 쉼표를 붙여야 한다.\n",
    "T = 1, \n",
    "print(type(T))\n",
    "print(T)"
   ]
  },
  {
   "cell_type": "markdown",
   "metadata": {},
   "source": [
    "### 함수의 가변 인자로 활용\n",
    "\n",
    "- 아직 함수의 내용을 정리하지 않았기에 활용 용도가 있다는 것 정도만 이해하고 넘어가면 좋겠다."
   ]
  },
  {
   "cell_type": "code",
   "execution_count": 7,
   "metadata": {
    "ExecuteTime": {
     "end_time": "2021-07-02T23:35:28.163899Z",
     "start_time": "2021-07-02T23:35:28.146945Z"
    }
   },
   "outputs": [
    {
     "name": "stdout",
     "output_type": "stream",
     "text": [
      "입력된 데이터의 타입:<class 'tuple'>\n",
      "3 2\n"
     ]
    }
   ],
   "source": [
    "# 함수의 가변 인자로 사용\n",
    "def f(*x): # *: 인자수가 정해지지 않았음을 의미\n",
    "    print(\"입력된 데이터의 타입:{}\".format(type(x)))\n",
    "    sum_x = 0\n",
    "    product_x = 1\n",
    "    for val in x:\n",
    "        sum_x += val\n",
    "        product_x *= val\n",
    "    return sum_x, product_x\n",
    "        \n",
    "#S, P = f(1, 2, 3, 4, 5) # 출력을 각각 S와 P로 받음\n",
    "S, P = f(1,2) # 출력을 각각 S와 P로 받음\n",
    "print(S, P)"
   ]
  },
  {
   "cell_type": "markdown",
   "metadata": {},
   "source": [
    "## **tuple unpacking**"
   ]
  },
  {
   "cell_type": "markdown",
   "metadata": {},
   "source": [
    "- 튜플은 괄호를 생략해도 만들 수 있다."
   ]
  },
  {
   "cell_type": "code",
   "execution_count": 38,
   "metadata": {
    "ExecuteTime": {
     "end_time": "2021-07-02T12:45:01.831287Z",
     "start_time": "2021-07-02T12:45:01.825303Z"
    }
   },
   "outputs": [
    {
     "data": {
      "text/plain": [
       "tuple"
      ]
     },
     "execution_count": 38,
     "metadata": {},
     "output_type": "execute_result"
    }
   ],
   "source": [
    "a = (100, 200)\n",
    "type(a)"
   ]
  },
  {
   "cell_type": "code",
   "execution_count": 39,
   "metadata": {
    "ExecuteTime": {
     "end_time": "2021-07-02T12:45:11.809455Z",
     "start_time": "2021-07-02T12:45:11.802446Z"
    }
   },
   "outputs": [
    {
     "data": {
      "text/plain": [
       "tuple"
      ]
     },
     "execution_count": 39,
     "metadata": {},
     "output_type": "execute_result"
    }
   ],
   "source": [
    "a = 100, 200\n",
    "type(a)"
   ]
  },
  {
   "cell_type": "markdown",
   "metadata": {},
   "source": [
    "- 이를 활용해 여러개의 변수에 여러개의 튜플의 값을 차례대로 대입시킬 수 있다."
   ]
  },
  {
   "cell_type": "code",
   "execution_count": 35,
   "metadata": {
    "ExecuteTime": {
     "end_time": "2021-07-02T12:41:41.643072Z",
     "start_time": "2021-07-02T12:41:41.634096Z"
    }
   },
   "outputs": [
    {
     "name": "stdout",
     "output_type": "stream",
     "text": [
      "100 200 300 400\n"
     ]
    }
   ],
   "source": [
    "a, b, c, d = 100, 200, 300, 400\n",
    "print(a, b, c, d)"
   ]
  },
  {
   "cell_type": "markdown",
   "metadata": {},
   "source": [
    "튜플형태의  a와 b의 값을 교환하려면?"
   ]
  },
  {
   "cell_type": "code",
   "execution_count": 40,
   "metadata": {
    "ExecuteTime": {
     "end_time": "2021-07-02T12:47:53.929064Z",
     "start_time": "2021-07-02T12:47:53.915120Z"
    }
   },
   "outputs": [
    {
     "name": "stdout",
     "output_type": "stream",
     "text": [
      "5 4\n"
     ]
    }
   ],
   "source": [
    "a = 5\n",
    "b = 4\n",
    "\n",
    "print(a, b)"
   ]
  },
  {
   "cell_type": "code",
   "execution_count": 41,
   "metadata": {
    "ExecuteTime": {
     "end_time": "2021-07-02T12:48:12.260258Z",
     "start_time": "2021-07-02T12:48:12.252250Z"
    }
   },
   "outputs": [
    {
     "name": "stdout",
     "output_type": "stream",
     "text": [
      "4 4\n"
     ]
    }
   ],
   "source": [
    "# 잘못된 예시\n",
    "\n",
    "a = b #b를 a에 대입 -> a가 b의 값으로 업데이트 됨\n",
    "b = a # b를 a에 대입 -> 이미 b의 값이 업데이트된 a (사실상 b)가 b에 업데이트 되는 것\n",
    "\n",
    "print(a, b)"
   ]
  },
  {
   "cell_type": "code",
   "execution_count": 42,
   "metadata": {
    "ExecuteTime": {
     "end_time": "2021-07-02T12:51:54.820113Z",
     "start_time": "2021-07-02T12:51:54.807148Z"
    }
   },
   "outputs": [
    {
     "name": "stdout",
     "output_type": "stream",
     "text": [
      "5 4\n",
      "4 5\n"
     ]
    }
   ],
   "source": [
    "# 올바른 예시 - 일반적인 programming 방식\n",
    "\n",
    "a = 5\n",
    "b = 4\n",
    "\n",
    "print(a,b)\n",
    "\n",
    "# logic\n",
    "temp = a # 임시로 어떤 값에 a를 입력해둔다.\n",
    "a = b # a를 b의 값으로 업데이트 시킨다.\n",
    "b = temp # b의 값을 임시로 입력해둔 temp(즉 원래의 a값) 으로 업데이트 시킨다.\n",
    "\n",
    "print(a,b)\n"
   ]
  },
  {
   "cell_type": "markdown",
   "metadata": {},
   "source": [
    "**tuple unpacking** 을 통해 이 과정을 한번에 해결 할 수 있다. (파이썬에서 자주 tuple이 가장 많이 사용되는 예시)"
   ]
  },
  {
   "cell_type": "code",
   "execution_count": 1,
   "metadata": {
    "ExecuteTime": {
     "end_time": "2021-07-02T23:19:56.966744Z",
     "start_time": "2021-07-02T23:19:56.951830Z"
    }
   },
   "outputs": [
    {
     "name": "stdout",
     "output_type": "stream",
     "text": [
      "5 4\n",
      "4 5\n"
     ]
    }
   ],
   "source": [
    "a = 5\n",
    "b = 4\n",
    "\n",
    "print(a,b)\n",
    "\n",
    "a, b = b, a \n",
    "\n",
    "print(a, b)"
   ]
  },
  {
   "cell_type": "markdown",
   "metadata": {},
   "source": [
    "# List와 Tuple의 공통점"
   ]
  },
  {
   "cell_type": "markdown",
   "metadata": {},
   "source": [
    "## 공통점 1. Indexing과 Slicing이 가능하다.\n",
    "\n",
    "- 리스트와 튜플 모두 인덱싱과 슬라이싱이 가능하다.\n",
    "- 관련 내용은 위에서 개별적으로 증명하였기에 따로 정리하지 않음"
   ]
  },
  {
   "cell_type": "markdown",
   "metadata": {},
   "source": [
    "## 공통점 2. for문을 이용한 순회가 가능하다(iterable)\n",
    "\n",
    "- for data in List:\n",
    "- for data in Tuple:\n",
    "\n",
    "- 즉, max, min등의 순회 가능한 요소를 입력받는 함수의 입력으로 사용할 수 있다. (추후 '함수' 관련 파트에서 더 자세하게 다룰 예정)"
   ]
  },
  {
   "cell_type": "code",
   "execution_count": 44,
   "metadata": {
    "ExecuteTime": {
     "end_time": "2021-07-03T00:06:32.142618Z",
     "start_time": "2021-07-03T00:06:32.135637Z"
    }
   },
   "outputs": [
    {
     "name": "stdout",
     "output_type": "stream",
     "text": [
      "List 순회\n",
      "1\n",
      "4\n",
      "9\n",
      "16\n",
      "25\n",
      "\n",
      "Tuple 순회\n",
      "1\n",
      "4\n",
      "9\n",
      "16\n",
      "25\n"
     ]
    }
   ],
   "source": [
    "# for문을 이용한 순회\n",
    "L = [1, 2, 3, 4, 5]\n",
    "T = (1, 2, 3, 4, 5)\n",
    "\n",
    "print(\"List 순회\")\n",
    "for val in L:\n",
    "    print(val ** 2) #val의 제곱을 출력\n",
    "\n",
    "print(\"\\nTuple 순회\")\n",
    "for val in T:\n",
    "    print(val ** 2) #val의 제곱을 출력"
   ]
  },
  {
   "cell_type": "markdown",
   "metadata": {},
   "source": [
    "# List와 Tuple의 차이점"
   ]
  },
  {
   "cell_type": "markdown",
   "metadata": {},
   "source": [
    "## 차이점 1. 가변(mutable)과 불변(immutable)\n",
    "\n",
    "- 위에서 증명했듯이 list 는 요소를 바꿀 수 있지만, tuple은 불가능하다.\n",
    "- 이러한 차이 때문에 list는 **dict의 key**로 사용될 수 있지만, tuple은 불가능 하다.\n",
    "- 조건을 입력해서, 해당 조건에 대응되는 값들을 출력하는 사전 구축은 데이터 전처리에서 자주 사용되는 기능이다. (추후 전처리에서 자세히 설명 예정)"
   ]
  },
  {
   "cell_type": "markdown",
   "metadata": {},
   "source": [
    "## 차이점 2. Tuple의 순회속도가 List보다 조금 더 빠르다.\n",
    "\n",
    "- 요소 변경이 필요없고, 요소에 대한 **연산 결과** 만 필요한 경우는 리스트 보다는 튜플이 더 적합하다.\n",
    "- 보통 (데이터가 큰 경우에 한해) 리스트로 작업 후, 튜플로 자료형을 바꾼 뒤 순회를 한다."
   ]
  },
  {
   "cell_type": "code",
   "execution_count": 49,
   "metadata": {
    "ExecuteTime": {
     "end_time": "2021-07-03T00:12:08.755534Z",
     "start_time": "2021-07-03T00:12:05.058342Z"
    }
   },
   "outputs": [],
   "source": [
    "# 순회 속도 비교하기\n",
    "large_L = list(range(100000000)) # 100000000개의 값이 담긴 리스트 생성\n",
    "large_T = tuple(range(100000000)) # 100000000개의 값이 담긴 튜플 생성"
   ]
  },
  {
   "cell_type": "code",
   "execution_count": 50,
   "metadata": {
    "ExecuteTime": {
     "end_time": "2021-07-03T00:12:52.883656Z",
     "start_time": "2021-07-03T00:12:52.870691Z"
    }
   },
   "outputs": [
    {
     "data": {
      "text/plain": [
       "1625271172.8716881"
      ]
     },
     "execution_count": 50,
     "metadata": {},
     "output_type": "execute_result"
    }
   ],
   "source": [
    "# time 모듈의 time 함수 사용 : 현재시간을 반환해주는 함수\n",
    "import time\n",
    "time.time()"
   ]
  },
  {
   "cell_type": "code",
   "execution_count": 51,
   "metadata": {
    "ExecuteTime": {
     "end_time": "2021-07-03T00:13:39.696512Z",
     "start_time": "2021-07-03T00:13:36.605592Z"
    }
   },
   "outputs": [
    {
     "name": "stdout",
     "output_type": "stream",
     "text": [
      "3.0789952278137207\n"
     ]
    }
   ],
   "source": [
    "# 리스트 순회 속도 측정\n",
    "import time\n",
    "start_time = time.time()\n",
    "for val1 in large_L:\n",
    "    pass\n",
    "end_time = time.time()\n",
    "print(end_time - start_time)"
   ]
  },
  {
   "cell_type": "code",
   "execution_count": 52,
   "metadata": {
    "ExecuteTime": {
     "end_time": "2021-07-03T00:14:25.577341Z",
     "start_time": "2021-07-03T00:14:22.498072Z"
    }
   },
   "outputs": [
    {
     "name": "stdout",
     "output_type": "stream",
     "text": [
      "3.0692572593688965\n"
     ]
    }
   ],
   "source": [
    "# 튜플 순회 속도 측정\n",
    "start_time = time.time()\n",
    "for val2 in large_T:\n",
    "    pass\n",
    "end_time = time.time()\n",
    "print(end_time - start_time)    "
   ]
  },
  {
   "cell_type": "markdown",
   "metadata": {},
   "source": [
    "### 리스트를 튜플로 변환 후 순회\n",
    "\n",
    "- 리스트 -> 튜플 : tuple(list) \n",
    "- 튜플 -> 리스트 : list(tuple)"
   ]
  },
  {
   "cell_type": "code",
   "execution_count": 54,
   "metadata": {
    "ExecuteTime": {
     "end_time": "2021-07-03T00:17:14.897806Z",
     "start_time": "2021-07-03T00:17:14.058475Z"
    }
   },
   "outputs": [],
   "source": [
    "large_T2 = tuple(large_L) #large_L 을 튜플로 변경해 large_T2로 변수 선언"
   ]
  },
  {
   "cell_type": "code",
   "execution_count": 55,
   "metadata": {
    "ExecuteTime": {
     "end_time": "2021-07-03T00:18:24.206741Z",
     "start_time": "2021-07-03T00:18:21.109055Z"
    }
   },
   "outputs": [
    {
     "name": "stdout",
     "output_type": "stream",
     "text": [
      "3.0806164741516113\n"
     ]
    }
   ],
   "source": [
    "# 튜플 순회 속도 측정\n",
    "start_time = time.time()\n",
    "for val2 in large_T2:\n",
    "    pass\n",
    "end_time = time.time()\n",
    "print(end_time - start_time)    "
   ]
  }
 ],
 "metadata": {
  "gist": {
   "data": {
    "description": "Github 업로드용/Python/Python - 기초 Programming/[파이썬 기초] 05. 데이터 타입 - [list, tuple] 및 관련 기능.ipynb",
    "public": false
   },
   "id": ""
  },
  "kernelspec": {
   "display_name": "Python 3",
   "language": "python",
   "name": "python3"
  },
  "language_info": {
   "codemirror_mode": {
    "name": "ipython",
    "version": 3
   },
   "file_extension": ".py",
   "mimetype": "text/x-python",
   "name": "python",
   "nbconvert_exporter": "python",
   "pygments_lexer": "ipython3",
   "version": "3.8.5"
  },
  "toc": {
   "base_numbering": 1,
   "nav_menu": {},
   "number_sections": true,
   "sideBar": true,
   "skip_h1_title": false,
   "title_cell": "Table of Contents",
   "title_sidebar": "Contents",
   "toc_cell": false,
   "toc_position": {},
   "toc_section_display": true,
   "toc_window_display": true
  },
  "varInspector": {
   "cols": {
    "lenName": 16,
    "lenType": 16,
    "lenVar": 40
   },
   "kernels_config": {
    "python": {
     "delete_cmd_postfix": "",
     "delete_cmd_prefix": "del ",
     "library": "var_list.py",
     "varRefreshCmd": "print(var_dic_list())"
    },
    "r": {
     "delete_cmd_postfix": ") ",
     "delete_cmd_prefix": "rm(",
     "library": "var_list.r",
     "varRefreshCmd": "cat(var_dic_list()) "
    }
   },
   "types_to_exclude": [
    "module",
    "function",
    "builtin_function_or_method",
    "instance",
    "_Feature"
   ],
   "window_display": false
  }
 },
 "nbformat": 4,
 "nbformat_minor": 1
}
