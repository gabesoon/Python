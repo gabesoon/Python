{
 "cells": [
  {
   "cell_type": "markdown",
   "metadata": {},
   "source": [
    "# for 반복문 \n",
    " - 리스트, 문자열 등등 순회 가능한 객체를 순회하면서 값을 처리할 때 사용\n",
    " - 아래와 같은 문법으로 사용\n",
    " - 여기서 i는 매번 수행 될 때마다, a의 아이템으로 순차적으로 변경 됨 (i는 임의의 문자로 자유롭게 변경가능)\n",
    " - 모든 아이템이 순회되면 for 블록 종료\n",
    " \n",
    "```python\n",
    "a = [1, 2, 4, 3, 5]\n",
    "for i in a:\n",
    "    print (i, i * 2)\n",
    "```\n",
    "\n",
    "즉,   **for 하나씩 꺼내올 때 변수 in [꺼내올 집합]** 의 형태로 사용된다."
   ]
  },
  {
   "cell_type": "code",
   "execution_count": 1,
   "metadata": {
    "ExecuteTime": {
     "end_time": "2021-07-03T03:11:05.665450Z",
     "start_time": "2021-07-03T03:11:05.652484Z"
    }
   },
   "outputs": [],
   "source": [
    "a = [1, 2, 4, 3, 5]\n",
    "for i in a:\n",
    "    print (i, i * 2) # a의 i번째 값을 순차적으로 입력받아서 작용\n",
    "print('end!')"
   ]
  },
  {
   "cell_type": "code",
   "execution_count": 2,
   "metadata": {
    "ExecuteTime": {
     "end_time": "2021-07-03T03:11:05.680410Z",
     "start_time": "2021-07-03T03:11:05.668442Z"
    }
   },
   "outputs": [],
   "source": [
    "a = [1, 2, 4, 3, 5]\n",
    "for number in a:\n",
    "    print(number) \n",
    "print('There is no difference between i and numbers in for statement')"
   ]
  },
  {
   "cell_type": "markdown",
   "metadata": {},
   "source": [
    "# 문자열의 아이템 출력하기\n",
    " - 문자열의 경우 순회 가능, 리스트와 유사하게 순회 가능\n",
    " - 문자열 하나가 list의 index 1개와 동일"
   ]
  },
  {
   "cell_type": "code",
   "execution_count": 3,
   "metadata": {
    "ExecuteTime": {
     "end_time": "2021-07-03T03:11:05.695370Z",
     "start_time": "2021-07-03T03:11:05.682433Z"
    }
   },
   "outputs": [],
   "source": [
    "for x in 'hello world':\n",
    "    print(x)"
   ]
  },
  {
   "cell_type": "code",
   "execution_count": 4,
   "metadata": {
    "ExecuteTime": {
     "end_time": "2021-07-03T03:11:05.710358Z",
     "start_time": "2021-07-03T03:11:05.696396Z"
    }
   },
   "outputs": [],
   "source": [
    "a = 'hello world'\n",
    "for character in a:\n",
    "    print(character)"
   ]
  },
  {
   "cell_type": "markdown",
   "metadata": {},
   "source": [
    "# 리스트 아이템 출력하기"
   ]
  },
  {
   "cell_type": "code",
   "execution_count": 5,
   "metadata": {
    "ExecuteTime": {
     "end_time": "2021-07-03T03:11:05.725318Z",
     "start_time": "2021-07-03T03:11:05.712353Z"
    }
   },
   "outputs": [],
   "source": [
    "a = [1, 10, 3, 4, 5]\n",
    "for num in a:\n",
    "    if num % 2 == 0: # num을 2로 나눈 몫이 0 -> 짝수이면\n",
    "        print(num/2)\n",
    "    else: # 짝수가 아니면 = 홀수이면\n",
    "        print(num+1)"
   ]
  },
  {
   "cell_type": "markdown",
   "metadata": {},
   "source": [
    "# dict의 아이템 출력하기\n",
    "  - dictionary의 경우 기본적으로 순회 하게 되면 key값을 참조\n",
    "  - keys()함수를 이용하여 key 값만 순회 가능\n",
    "  - values()함수를 이용하여 value 값만 순회 가능\n",
    "  - items()함수를 이용하여 tuple형태로 key, value 순회 가능"
   ]
  },
  {
   "cell_type": "markdown",
   "metadata": {},
   "source": [
    "## key() 함수로 순회"
   ]
  },
  {
   "cell_type": "markdown",
   "metadata": {},
   "source": [
    "### key값과 dict의 indexing을 활용해 key와 value 모두 출력하기"
   ]
  },
  {
   "cell_type": "code",
   "execution_count": 6,
   "metadata": {
    "ExecuteTime": {
     "end_time": "2021-07-03T03:11:05.740272Z",
     "start_time": "2021-07-03T03:11:05.727313Z"
    }
   },
   "outputs": [],
   "source": [
    "a = {'korea': 'seoul', 'japan': 'tokyo', 'canada': 'ottawa'}\n",
    "\n",
    "for key in a:\n",
    "    print(key, a[key])"
   ]
  },
  {
   "cell_type": "markdown",
   "metadata": {},
   "source": [
    "### key값만 출력하기"
   ]
  },
  {
   "cell_type": "code",
   "execution_count": 7,
   "metadata": {
    "ExecuteTime": {
     "end_time": "2021-07-03T03:11:05.755210Z",
     "start_time": "2021-07-03T03:11:05.743241Z"
    }
   },
   "outputs": [],
   "source": [
    "for key in a:\n",
    "    print(key)"
   ]
  },
  {
   "cell_type": "markdown",
   "metadata": {},
   "source": [
    "## value() 함수로 순회"
   ]
  },
  {
   "cell_type": "code",
   "execution_count": 8,
   "metadata": {
    "ExecuteTime": {
     "end_time": "2021-07-03T03:11:05.770198Z",
     "start_time": "2021-07-03T03:11:05.758202Z"
    }
   },
   "outputs": [],
   "source": [
    "for value in a.values():\n",
    "    print(value)"
   ]
  },
  {
   "cell_type": "markdown",
   "metadata": {},
   "source": [
    "## items()함수로 순회\n",
    "\n",
    "- 실질적으로 가장 자주 쓰이는 방식"
   ]
  },
  {
   "cell_type": "code",
   "execution_count": 9,
   "metadata": {
    "ExecuteTime": {
     "end_time": "2021-07-03T03:11:05.785158Z",
     "start_time": "2021-07-03T03:11:05.772164Z"
    }
   },
   "outputs": [],
   "source": [
    "a.items()"
   ]
  },
  {
   "cell_type": "code",
   "execution_count": 10,
   "metadata": {
    "ExecuteTime": {
     "end_time": "2021-07-03T03:11:05.800090Z",
     "start_time": "2021-07-03T03:11:05.787124Z"
    }
   },
   "outputs": [],
   "source": [
    "list(a.items()) # 튜플을 원소로 하는 list로 변경 -> 각각의 item이 tuple"
   ]
  },
  {
   "cell_type": "code",
   "execution_count": 11,
   "metadata": {
    "ExecuteTime": {
     "end_time": "2021-07-03T03:11:05.815049Z",
     "start_time": "2021-07-03T03:11:05.802085Z"
    }
   },
   "outputs": [],
   "source": [
    "# tuple은 ,를 활용해 여러개의 값을 동시에 가져 올 수 있다.\n",
    "\n",
    "for key, value in a.items():\n",
    "    print(key, value)"
   ]
  },
  {
   "cell_type": "markdown",
   "metadata": {},
   "source": [
    "# for에서 index 사용하기\n",
    "  - 기본적으로 for에 리스트를 순회하는 경우, 값만 추출 함\n",
    "  - 아래와 같은 코드로 인덱스와 값 모두 사용 가능(enumerate 함수 이용)\n",
    "\n",
    "```python\n",
    "a = [1, 2, 4, 3, 5]\n",
    "for i, val in enumerate(a):\n",
    "    print i, val\n",
    "```"
   ]
  },
  {
   "cell_type": "code",
   "execution_count": 12,
   "metadata": {
    "ExecuteTime": {
     "end_time": "2021-07-03T03:11:05.830010Z",
     "start_time": "2021-07-03T03:11:05.817043Z"
    }
   },
   "outputs": [],
   "source": [
    "a = [1, 2, 3, 4, 5]\n",
    "for index, num in enumerate(a):\n",
    "        print(index, num)"
   ]
  },
  {
   "cell_type": "markdown",
   "metadata": {},
   "source": [
    "조건문을 적용해서도 활용할 수 있다.\n",
    "\n",
    "index가 3보다 큰 경우만 출력!"
   ]
  },
  {
   "cell_type": "code",
   "execution_count": 13,
   "metadata": {
    "ExecuteTime": {
     "end_time": "2021-07-03T03:11:05.845967Z",
     "start_time": "2021-07-03T03:11:05.833002Z"
    }
   },
   "outputs": [],
   "source": [
    "a = [1, 2, 3, 4, 5]\n",
    "for index, num in enumerate(a):\n",
    "    if index > 3:\n",
    "        print(index, num)"
   ]
  },
  {
   "cell_type": "markdown",
   "metadata": {},
   "source": [
    "#  break\n",
    "  - while문과 마찬가지로 for의 경우에도 특정 조건일 때, loop 종료가 가능"
   ]
  },
  {
   "cell_type": "code",
   "execution_count": 14,
   "metadata": {
    "ExecuteTime": {
     "end_time": "2021-07-03T03:11:05.861924Z",
     "start_time": "2021-07-03T03:11:05.847962Z"
    }
   },
   "outputs": [],
   "source": [
    "a = [100, 90, 80, 70, 60, 50]\n",
    "for num in a:\n",
    "    if num < 80:\n",
    "        break\n",
    "        \n",
    "    print(num)"
   ]
  },
  {
   "cell_type": "markdown",
   "metadata": {},
   "source": [
    "# continue\n",
    " - while문과 마찬가지로 for의 경우에도 해당 아이템을 건너 뛰고 싶을 때 사용"
   ]
  },
  {
   "cell_type": "code",
   "execution_count": 15,
   "metadata": {
    "ExecuteTime": {
     "end_time": "2021-07-03T03:11:05.876884Z",
     "start_time": "2021-07-03T03:11:05.863919Z"
    }
   },
   "outputs": [],
   "source": [
    "a = [100, 90, 80, 70, 60, 50]\n",
    "for num in a:\n",
    "    if num >= 60 and num <= 70:\n",
    "        continue #건너 뛴다\n",
    "    print(num)"
   ]
  },
  {
   "cell_type": "markdown",
   "metadata": {},
   "source": [
    "# loop 중첩\n",
    "  - 반복문의 경우에도 중첩하여 사용 가능\n",
    "  - 중첩이라는 것은 반복문 블록의 코드안에 또 반복문의 코드가 작성되는 것을 의미\n",
    "  - 이런 경우, 내부 루프는 외부 루프가 수행되는 만큼 반복 수행 됨\n",
    "  - 또한 중첩의 경우 무한히 가능\n",
    "\n",
    "```python\n",
    "a = [1, 2, 4]\n",
    "for i in a:\n",
    "    for j in a:\n",
    "        print i * j\n",
    "```"
   ]
  },
  {
   "cell_type": "code",
   "execution_count": 16,
   "metadata": {
    "ExecuteTime": {
     "end_time": "2021-07-03T03:11:05.891843Z",
     "start_time": "2021-07-03T03:11:05.878879Z"
    }
   },
   "outputs": [],
   "source": [
    "a = [1, 2, 4]\n",
    "for i in a:\n",
    "    for j in a: # 처음에 i가 1일때는 j도 1\n",
    "        print(i * j) # 이 print문이 실행된 후에는 j로 이동\n",
    "        # j가 1,2,4가 모두 입력되서 종료되면 -> 위의 for문으로 이동"
   ]
  },
  {
   "cell_type": "markdown",
   "metadata": {},
   "source": [
    "위의 이중 for 문은 [i in a의 경우의수 x j in a의 경우의 수 ] 만큼 실행된다.\n",
    "\n",
    "1) [i가 1]일때 -> for j~ 이하의 for문이 실행된다.(j in a가 완료 될때까지 반복) -> i =1, j=1 // i * j = 1\n",
    "\n",
    "\n",
    "2) i는 계속 1, j가 2인 경우가 실행 -> i =1, j =2 이므로 i*j = 2\n",
    "\n",
    "\n",
    "3) i는 계속 1, j가 4인 경우가 실행 -> i =1, j =4 이므로 i*j = 4\n",
    "\n",
    "\n",
    "4) j in a 가 모두 종료 되었으므로 -> [i = 2 경우]의 [j in a]가 실행 -> 1)~3) 처럼 반복 (단 i는 1이 아닌 2)\n",
    "\n",
    "\n",
    "\n",
    "위와 같은 방식으으로 [i in a의 경우의수 x j in a의 경우의 수 ]  즉, 9번 for문이 실행된다."
   ]
  },
  {
   "cell_type": "markdown",
   "metadata": {},
   "source": [
    "# for 문을 활용한 다양한 예시"
   ]
  },
  {
   "cell_type": "markdown",
   "metadata": {},
   "source": [
    "## 구구단 출력하기"
   ]
  },
  {
   "cell_type": "markdown",
   "metadata": {},
   "source": [
    "2 * 1 = 2\n",
    "2 * 2 = 4\n",
    "2 * 3 = 6\n",
    "...\n",
    "2 * 9 = 18\n",
    "3 * 1 = 3\n",
    "..\n",
    "3 * 9 = 27\n",
    "...\n",
    "9 * 1 = 9\n",
    "...\n",
    "9 * 9 = 81"
   ]
  },
  {
   "cell_type": "code",
   "execution_count": 17,
   "metadata": {
    "ExecuteTime": {
     "end_time": "2021-07-03T03:11:05.906804Z",
     "start_time": "2021-07-03T03:11:05.894836Z"
    }
   },
   "outputs": [],
   "source": [
    "x = [2, 3, 4, 5, 6, 7, 8, 9]\n",
    "y = [1, 2, 3, 4, 5, 6, 7, 8, 9]\n",
    "\n",
    "for i in x:\n",
    "    for j in y:\n",
    "        print(i, 'x', j, '=', i*j)"
   ]
  },
  {
   "cell_type": "markdown",
   "metadata": {},
   "source": [
    "## collection의 길이\n",
    " - len() 내장함수로 계산 가능\n",
    " - 내장함수란 파이썬 내부에 구현되어 있어서, import하지 않고도 사용 가능한 함수를 의미\n",
    " - abs, len, type, range 등이 있음 (과정 진행하면서 필요할 때마다 다룰 예정)"
   ]
  },
  {
   "cell_type": "code",
   "execution_count": 18,
   "metadata": {
    "ExecuteTime": {
     "end_time": "2021-07-03T03:11:05.922761Z",
     "start_time": "2021-07-03T03:11:05.909796Z"
    }
   },
   "outputs": [],
   "source": [
    "a = [1, 2, 3, 4, 5, 1]\n",
    "len('hello world')"
   ]
  },
  {
   "cell_type": "markdown",
   "metadata": {},
   "source": [
    "## range 함수\n",
    "  - 리스트를 쉽게 만들 수 있는 내장함수\n",
    "  - 주어진 값에 따라 다양한 결과를 반환\n",
    " \n",
    "```python\n",
    "range(10)       -> [0, 1, 2, 3, 4, 5, 6, 7, 8, 9]\n",
    "range(2, 10)    -> [2, 3, 4, 5, 6, 7, 8, 9] \n",
    "range(2, 10, 3) -> [2, 5, 8] \n",
    "```"
   ]
  },
  {
   "cell_type": "markdown",
   "metadata": {},
   "source": [
    "### 1 - 100까지의 리스트 생성하기"
   ]
  },
  {
   "cell_type": "code",
   "execution_count": 19,
   "metadata": {
    "ExecuteTime": {
     "end_time": "2021-07-03T03:11:05.937721Z",
     "start_time": "2021-07-03T03:11:05.924756Z"
    }
   },
   "outputs": [],
   "source": [
    "list(range(101))"
   ]
  },
  {
   "cell_type": "code",
   "execution_count": 20,
   "metadata": {
    "ExecuteTime": {
     "end_time": "2021-07-03T03:11:05.952680Z",
     "start_time": "2021-07-03T03:11:05.940713Z"
    }
   },
   "outputs": [
    {
     "name": "stdout",
     "output_type": "stream",
     "text": [
      "[1, 2, 3, 4, 5, 6, 7, 8, 9, 10, 11, 12, 13, 14, 15, 16, 17, 18, 19, 20, 21, 22, 23, 24, 25, 26, 27, 28, 29, 30, 31, 32, 33, 34, 35, 36, 37, 38, 39, 40, 41, 42, 43, 44, 45, 46, 47, 48, 49, 50, 51, 52, 53, 54, 55, 56, 57, 58, 59, 60, 61, 62, 63, 64, 65, 66, 67, 68, 69, 70, 71, 72, 73, 74, 75, 76, 77, 78, 79, 80, 81, 82, 83, 84, 85, 86, 87, 88, 89, 90, 91, 92, 93, 94, 95, 96, 97, 98, 99, 100, 101, 102, 103, 104, 105, 106, 107, 108, 109, 110, 111, 112, 113, 114, 115, 116, 117, 118, 119, 120, 121, 122, 123, 124, 125, 126, 127, 128, 129, 130, 131, 132, 133, 134, 135, 136, 137, 138, 139, 140, 141, 142, 143, 144, 145, 146, 147, 148, 149, 150, 151, 152, 153, 154, 155, 156, 157, 158, 159, 160, 161, 162, 163, 164, 165, 166, 167, 168, 169, 170, 171, 172, 173, 174, 175, 176, 177, 178, 179, 180, 181, 182, 183, 184, 185, 186, 187, 188, 189, 190, 191, 192, 193, 194, 195, 196, 197, 198, 199, 200]\n"
     ]
    }
   ],
   "source": [
    "a = list(range(1, 201))\n",
    "print(a)"
   ]
  },
  {
   "cell_type": "code",
   "execution_count": 21,
   "metadata": {
    "ExecuteTime": {
     "end_time": "2021-07-03T03:11:05.967641Z",
     "start_time": "2021-07-03T03:11:05.954676Z"
    }
   },
   "outputs": [
    {
     "data": {
      "text/plain": [
       "[1, 6, 11, 16, 21, 26, 31, 36, 41, 46, 51, 56, 61, 66, 71, 76, 81, 86, 91, 96]"
      ]
     },
     "execution_count": 21,
     "metadata": {},
     "output_type": "execute_result"
    }
   ],
   "source": [
    "list(range(1, 101, 5))"
   ]
  },
  {
   "cell_type": "markdown",
   "metadata": {
    "collapsed": true
   },
   "source": [
    "### 1부터 100사이의 5의 배수만을 갖는 리스트를 생성하기"
   ]
  },
  {
   "cell_type": "code",
   "execution_count": 22,
   "metadata": {
    "ExecuteTime": {
     "end_time": "2021-07-03T03:11:05.982601Z",
     "start_time": "2021-07-03T03:11:05.972627Z"
    }
   },
   "outputs": [
    {
     "data": {
      "text/plain": [
       "[5,\n",
       " 10,\n",
       " 15,\n",
       " 20,\n",
       " 25,\n",
       " 30,\n",
       " 35,\n",
       " 40,\n",
       " 45,\n",
       " 50,\n",
       " 55,\n",
       " 60,\n",
       " 65,\n",
       " 70,\n",
       " 75,\n",
       " 80,\n",
       " 85,\n",
       " 90,\n",
       " 95,\n",
       " 100]"
      ]
     },
     "execution_count": 22,
     "metadata": {},
     "output_type": "execute_result"
    }
   ],
   "source": [
    "list(range(5, 101, 5))"
   ]
  },
  {
   "cell_type": "markdown",
   "metadata": {},
   "source": [
    "# if & for 활용 예시\n",
    "   \n",
    "  1. 구구단을 2 - 9단까지 출력\n",
    "  \n",
    "  2. 1 - 100까지 정수 중 2의 배수 또는 11의 배수를 모두 출력\n",
    "  \n",
    "  3. a = [22, 1, 3, 4, 7, 98, 21, 55, 87, 99, 19, 20, 45] 에서 최대값과 최소값을 찾기 (sorted, sort 사용 금지)\n",
    "  \n",
    "  5. a = [22, 1, 3, 4, 7, 98, 21, 55, 87, 99, 19, 20, 45] 에서 평균을 구하기"
   ]
  },
  {
   "cell_type": "markdown",
   "metadata": {},
   "source": [
    "## 1. 구구단 2단 부터 9단까지 출력하기"
   ]
  },
  {
   "cell_type": "markdown",
   "metadata": {},
   "source": [
    "### while문으로 구구단 출력하기"
   ]
  },
  {
   "cell_type": "code",
   "execution_count": 23,
   "metadata": {
    "ExecuteTime": {
     "end_time": "2021-07-03T03:11:05.997562Z",
     "start_time": "2021-07-03T03:11:05.985593Z"
    },
    "scrolled": true
   },
   "outputs": [
    {
     "name": "stdout",
     "output_type": "stream",
     "text": [
      "2 x 1 = 2\n",
      "2 x 2 = 4\n",
      "2 x 3 = 6\n",
      "2 x 4 = 8\n",
      "2 x 5 = 10\n",
      "2 x 6 = 12\n",
      "2 x 7 = 14\n",
      "2 x 8 = 16\n",
      "2 x 9 = 18\n",
      "3 x 1 = 3\n",
      "3 x 2 = 6\n",
      "3 x 3 = 9\n",
      "3 x 4 = 12\n",
      "3 x 5 = 15\n",
      "3 x 6 = 18\n",
      "3 x 7 = 21\n",
      "3 x 8 = 24\n",
      "3 x 9 = 27\n",
      "4 x 1 = 4\n",
      "4 x 2 = 8\n",
      "4 x 3 = 12\n",
      "4 x 4 = 16\n",
      "4 x 5 = 20\n",
      "4 x 6 = 24\n",
      "4 x 7 = 28\n",
      "4 x 8 = 32\n",
      "4 x 9 = 36\n",
      "5 x 1 = 5\n",
      "5 x 2 = 10\n",
      "5 x 3 = 15\n",
      "5 x 4 = 20\n",
      "5 x 5 = 25\n",
      "5 x 6 = 30\n",
      "5 x 7 = 35\n",
      "5 x 8 = 40\n",
      "5 x 9 = 45\n",
      "6 x 1 = 6\n",
      "6 x 2 = 12\n",
      "6 x 3 = 18\n",
      "6 x 4 = 24\n",
      "6 x 5 = 30\n",
      "6 x 6 = 36\n",
      "6 x 7 = 42\n",
      "6 x 8 = 48\n",
      "6 x 9 = 54\n",
      "7 x 1 = 7\n",
      "7 x 2 = 14\n",
      "7 x 3 = 21\n",
      "7 x 4 = 28\n",
      "7 x 5 = 35\n",
      "7 x 6 = 42\n",
      "7 x 7 = 49\n",
      "7 x 8 = 56\n",
      "7 x 9 = 63\n",
      "8 x 1 = 8\n",
      "8 x 2 = 16\n",
      "8 x 3 = 24\n",
      "8 x 4 = 32\n",
      "8 x 5 = 40\n",
      "8 x 6 = 48\n",
      "8 x 7 = 56\n",
      "8 x 8 = 64\n",
      "8 x 9 = 72\n",
      "9 x 1 = 9\n",
      "9 x 2 = 18\n",
      "9 x 3 = 27\n",
      "9 x 4 = 36\n",
      "9 x 5 = 45\n",
      "9 x 6 = 54\n",
      "9 x 7 = 63\n",
      "9 x 8 = 72\n",
      "9 x 9 = 81\n"
     ]
    }
   ],
   "source": [
    "x = 2\n",
    "while x <= 9:\n",
    "    y = 1\n",
    "    while y <= 9:\n",
    "        print(\"{} x {} = {}\". format(x, y, x*y))\n",
    "        y += 1\n",
    "    x += 1"
   ]
  },
  {
   "cell_type": "markdown",
   "metadata": {},
   "source": [
    "### for문으로 구구단 출력하기"
   ]
  },
  {
   "cell_type": "code",
   "execution_count": 24,
   "metadata": {
    "ExecuteTime": {
     "end_time": "2021-07-03T03:11:06.012521Z",
     "start_time": "2021-07-03T03:11:05.999556Z"
    }
   },
   "outputs": [
    {
     "name": "stdout",
     "output_type": "stream",
     "text": [
      "2 x 1 = 2\n",
      "2 x 2 = 4\n",
      "2 x 3 = 6\n",
      "2 x 4 = 8\n",
      "2 x 5 = 10\n",
      "2 x 6 = 12\n",
      "2 x 7 = 14\n",
      "2 x 8 = 16\n",
      "2 x 9 = 18\n",
      "\n",
      "\n",
      "3 x 1 = 3\n",
      "3 x 2 = 6\n",
      "3 x 3 = 9\n",
      "3 x 4 = 12\n",
      "3 x 5 = 15\n",
      "3 x 6 = 18\n",
      "3 x 7 = 21\n",
      "3 x 8 = 24\n",
      "3 x 9 = 27\n",
      "\n",
      "\n",
      "4 x 1 = 4\n",
      "4 x 2 = 8\n",
      "4 x 3 = 12\n",
      "4 x 4 = 16\n",
      "4 x 5 = 20\n",
      "4 x 6 = 24\n",
      "4 x 7 = 28\n",
      "4 x 8 = 32\n",
      "4 x 9 = 36\n",
      "\n",
      "\n",
      "5 x 1 = 5\n",
      "5 x 2 = 10\n",
      "5 x 3 = 15\n",
      "5 x 4 = 20\n",
      "5 x 5 = 25\n",
      "5 x 6 = 30\n",
      "5 x 7 = 35\n",
      "5 x 8 = 40\n",
      "5 x 9 = 45\n",
      "\n",
      "\n",
      "6 x 1 = 6\n",
      "6 x 2 = 12\n",
      "6 x 3 = 18\n",
      "6 x 4 = 24\n",
      "6 x 5 = 30\n",
      "6 x 6 = 36\n",
      "6 x 7 = 42\n",
      "6 x 8 = 48\n",
      "6 x 9 = 54\n",
      "\n",
      "\n",
      "7 x 1 = 7\n",
      "7 x 2 = 14\n",
      "7 x 3 = 21\n",
      "7 x 4 = 28\n",
      "7 x 5 = 35\n",
      "7 x 6 = 42\n",
      "7 x 7 = 49\n",
      "7 x 8 = 56\n",
      "7 x 9 = 63\n",
      "\n",
      "\n",
      "8 x 1 = 8\n",
      "8 x 2 = 16\n",
      "8 x 3 = 24\n",
      "8 x 4 = 32\n",
      "8 x 5 = 40\n",
      "8 x 6 = 48\n",
      "8 x 7 = 56\n",
      "8 x 8 = 64\n",
      "8 x 9 = 72\n",
      "\n",
      "\n",
      "9 x 1 = 9\n",
      "9 x 2 = 18\n",
      "9 x 3 = 27\n",
      "9 x 4 = 36\n",
      "9 x 5 = 45\n",
      "9 x 6 = 54\n",
      "9 x 7 = 63\n",
      "9 x 8 = 72\n",
      "9 x 9 = 81\n",
      "\n",
      "\n"
     ]
    }
   ],
   "source": [
    "# range 함수를 사용한 구구단 \n",
    "# nested for문\n",
    "for i in range(2, 10): # 2단 부터 9단까지\n",
    "    for j in range(1, 10): # 각 단에 곱할 수 : 1 ~ 9 \n",
    "        print(\"{} x {} = {}\".format(i, j, i*j))\n",
    "    print('\\n')"
   ]
  },
  {
   "cell_type": "markdown",
   "metadata": {},
   "source": [
    "## 1 - 100까지 정수 중 2의 배수 또는 11의 배수를 모두 출력하기"
   ]
  },
  {
   "cell_type": "code",
   "execution_count": 25,
   "metadata": {
    "ExecuteTime": {
     "end_time": "2021-07-03T03:11:06.027481Z",
     "start_time": "2021-07-03T03:11:06.015513Z"
    },
    "scrolled": true
   },
   "outputs": [
    {
     "name": "stdout",
     "output_type": "stream",
     "text": [
      "2\n",
      "4\n",
      "6\n",
      "8\n",
      "10\n",
      "11\n",
      "12\n",
      "14\n",
      "16\n",
      "18\n",
      "20\n",
      "22\n",
      "24\n",
      "26\n",
      "28\n",
      "30\n",
      "32\n",
      "33\n",
      "34\n",
      "36\n",
      "38\n",
      "40\n",
      "42\n",
      "44\n",
      "46\n",
      "48\n",
      "50\n",
      "52\n",
      "54\n",
      "55\n",
      "56\n",
      "58\n",
      "60\n",
      "62\n",
      "64\n",
      "66\n",
      "68\n",
      "70\n",
      "72\n",
      "74\n",
      "76\n",
      "77\n",
      "78\n",
      "80\n",
      "82\n",
      "84\n",
      "86\n",
      "88\n",
      "90\n",
      "92\n",
      "94\n",
      "96\n",
      "98\n",
      "99\n",
      "100\n"
     ]
    }
   ],
   "source": [
    "nums = list(range(1, 101))\n",
    "for x in nums:\n",
    "    if x % 2 == 0 or x % 11 == 0:\n",
    "        print(x)"
   ]
  },
  {
   "cell_type": "markdown",
   "metadata": {},
   "source": [
    "## a = [22, 1, 3, 4, 7, 98, 21, 55, 87, 99, 19, 20, 45] 에서 최대값과 최소값을 찾기 (sorted, sort 사용 금지)"
   ]
  },
  {
   "cell_type": "markdown",
   "metadata": {},
   "source": [
    "### sort 사용하여 찾은 경우"
   ]
  },
  {
   "cell_type": "code",
   "execution_count": 26,
   "metadata": {
    "ExecuteTime": {
     "end_time": "2021-07-03T03:11:06.042441Z",
     "start_time": "2021-07-03T03:11:06.029477Z"
    }
   },
   "outputs": [
    {
     "data": {
      "text/plain": [
       "(1, 99)"
      ]
     },
     "execution_count": 26,
     "metadata": {},
     "output_type": "execute_result"
    }
   ],
   "source": [
    "# sort 함수(정렬)을 사용한 경우\n",
    "a = [22, 1, 3, 4, 7, 98, 21, 55, 87, 99, 19, 20, 45]\n",
    "\n",
    "\n",
    "a.sort()\n",
    "a[0], a[-1]"
   ]
  },
  {
   "cell_type": "markdown",
   "metadata": {},
   "source": [
    "### sort 없이 for문으로 최소값 찾기"
   ]
  },
  {
   "cell_type": "code",
   "execution_count": 27,
   "metadata": {
    "ExecuteTime": {
     "end_time": "2021-07-03T03:11:06.057400Z",
     "start_time": "2021-07-03T03:11:06.044436Z"
    }
   },
   "outputs": [
    {
     "name": "stdout",
     "output_type": "stream",
     "text": [
      "1\n"
     ]
    }
   ],
   "source": [
    "# 처음 만나는 값을 최소 값으로 가정\n",
    "# 그리고 그 후 숫자를 만날때마다 현재 최소값보다 그 숫자가 작으면 최소값을 그 숫자로 업데이트\n",
    "\n",
    "_min = a[0]\n",
    "for x in a:\n",
    "    if x < _min:\n",
    "        _min = x\n",
    "print(_min)\n",
    "        "
   ]
  },
  {
   "cell_type": "markdown",
   "metadata": {},
   "source": [
    "### sort없이 for문으로 최대값 찾기"
   ]
  },
  {
   "cell_type": "code",
   "execution_count": 28,
   "metadata": {
    "ExecuteTime": {
     "end_time": "2021-07-03T03:11:06.072361Z",
     "start_time": "2021-07-03T03:11:06.059396Z"
    }
   },
   "outputs": [
    {
     "name": "stdout",
     "output_type": "stream",
     "text": [
      "99\n"
     ]
    }
   ],
   "source": [
    "_max = a[0]\n",
    "for x in a:\n",
    "    if x > _max:\n",
    "        _max = x\n",
    "print(_max)"
   ]
  },
  {
   "cell_type": "code",
   "execution_count": 29,
   "metadata": {
    "ExecuteTime": {
     "end_time": "2021-07-03T03:11:06.087321Z",
     "start_time": "2021-07-03T03:11:06.074356Z"
    }
   },
   "outputs": [
    {
     "name": "stdout",
     "output_type": "stream",
     "text": [
      "1 99\n"
     ]
    }
   ],
   "source": [
    "# 최대 최소 동시에\n",
    "_min = a[0]\n",
    "_max = a[0]\n",
    "for x in a[1:]:\n",
    "    if x < _min:\n",
    "        _min = x\n",
    "    if x > _max:\n",
    "        _max = x\n",
    "\n",
    "print(_min, _max)\n"
   ]
  },
  {
   "cell_type": "markdown",
   "metadata": {},
   "source": [
    "## a = [22, 1, 3, 4, 7, 98, 21, 55, 87, 99, 19, 20, 45] 에서 평균을 구하기"
   ]
  },
  {
   "cell_type": "code",
   "execution_count": 30,
   "metadata": {
    "ExecuteTime": {
     "end_time": "2021-07-03T03:11:06.102281Z",
     "start_time": "2021-07-03T03:11:06.089316Z"
    }
   },
   "outputs": [],
   "source": [
    "a = [22, 1, 3, 4, 7, 98, 21, 55, 87, 99, 19, 20, 45]"
   ]
  },
  {
   "cell_type": "markdown",
   "metadata": {},
   "source": [
    "### while문으로 평균 구하기"
   ]
  },
  {
   "cell_type": "code",
   "execution_count": 31,
   "metadata": {
    "ExecuteTime": {
     "end_time": "2021-07-03T03:11:06.117241Z",
     "start_time": "2021-07-03T03:11:06.104276Z"
    }
   },
   "outputs": [
    {
     "name": "stdout",
     "output_type": "stream",
     "text": [
      "37.0\n"
     ]
    }
   ],
   "source": [
    "# while\n",
    "i = 0\n",
    "_sum = 0\n",
    "while i < len(a): \n",
    "    _sum += a[i]\n",
    "    i += 1\n",
    "    \n",
    "print(_sum / len(a))"
   ]
  },
  {
   "cell_type": "markdown",
   "metadata": {},
   "source": [
    "### for문으로 평균 구하기"
   ]
  },
  {
   "cell_type": "code",
   "execution_count": 32,
   "metadata": {
    "ExecuteTime": {
     "end_time": "2021-07-03T03:11:06.132201Z",
     "start_time": "2021-07-03T03:11:06.119236Z"
    }
   },
   "outputs": [
    {
     "name": "stdout",
     "output_type": "stream",
     "text": [
      "37.0\n"
     ]
    }
   ],
   "source": [
    "# for\n",
    "_sum = 0\n",
    "for x in a:\n",
    "    _sum += x\n",
    "    \n",
    "print(_sum / len(a))"
   ]
  }
 ],
 "metadata": {
  "kernelspec": {
   "display_name": "Python 3",
   "language": "python",
   "name": "python3"
  },
  "language_info": {
   "codemirror_mode": {
    "name": "ipython",
    "version": 3
   },
   "file_extension": ".py",
   "mimetype": "text/x-python",
   "name": "python",
   "nbconvert_exporter": "python",
   "pygments_lexer": "ipython3",
   "version": "3.8.5"
  },
  "toc": {
   "base_numbering": 1,
   "nav_menu": {},
   "number_sections": true,
   "sideBar": true,
   "skip_h1_title": false,
   "title_cell": "Table of Contents",
   "title_sidebar": "Contents",
   "toc_cell": false,
   "toc_position": {},
   "toc_section_display": true,
   "toc_window_display": true
  },
  "varInspector": {
   "cols": {
    "lenName": 16,
    "lenType": 16,
    "lenVar": 40
   },
   "kernels_config": {
    "python": {
     "delete_cmd_postfix": "",
     "delete_cmd_prefix": "del ",
     "library": "var_list.py",
     "varRefreshCmd": "print(var_dic_list())"
    },
    "r": {
     "delete_cmd_postfix": ") ",
     "delete_cmd_prefix": "rm(",
     "library": "var_list.r",
     "varRefreshCmd": "cat(var_dic_list()) "
    }
   },
   "types_to_exclude": [
    "module",
    "function",
    "builtin_function_or_method",
    "instance",
    "_Feature"
   ],
   "window_display": false
  }
 },
 "nbformat": 4,
 "nbformat_minor": 1
}
