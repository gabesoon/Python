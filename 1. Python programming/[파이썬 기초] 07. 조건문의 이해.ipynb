{
 "cells": [
  {
   "cell_type": "markdown",
   "metadata": {},
   "source": [
    "# condition (조건문)\n",
    " + 특정 조건을 만족하는 경우에만 수행할 작업이 있는 경우 사용\n",
    " + 모든 조건은 boolean으로 표현 된다. (몇몇 예외 사항에 대해서는 밑 부분에서 따로 정리)\n",
    " + **if, elif, else** 키워드가 사용\n",
    " + 조건문의 경우 if, elif, else 블록에 종속된 코드는 **들여쓰기(indent)**로 표현 가능\n",
    " + 즉 아래코드에서와 같이, 조건문 아래에 들여쓰기된 2줄의 코드만이 조건문의 조건에 따라 수행될 수도, 수행되지 않을 수도 있는 코드라고 할 수 있다.\n",
    " + 들여쓰기 된 코드를 블록(block), 또는 코드블록이라고 함\n",
    " + python에서 모든 블록의 시작점의 마지막에는 **:(콜론, colon)** 을 반드시 추가해줘야 한다.\n",
    "\n",
    "```python\n",
    "if 6 >= 5:\n",
    "    print ('6 is greater than 5') #if 조건에 따라 실행될수도, 수행되지 않을수도 있는 코드1\n",
    "    print ('Yeah, it is true') #if 조건에 따라 실행될수도, 수행되지 않을수도 있는 코드2\n",
    "print ('This code is not belongs to if statements')\n",
    "```"
   ]
  },
  {
   "cell_type": "code",
   "execution_count": 1,
   "metadata": {
    "ExecuteTime": {
     "end_time": "2021-07-02T17:36:42.355970Z",
     "start_time": "2021-07-02T17:36:42.343005Z"
    }
   },
   "outputs": [
    {
     "name": "stdout",
     "output_type": "stream",
     "text": [
      "6 is greater than 5\n",
      "Yes, it is true\n",
      "it is really true\n",
      "This code is not belongs to if statements\n"
     ]
    }
   ],
   "source": [
    "if 6 >= 5:\n",
    "    print('6 is greater than 5')\n",
    "    print('Yes, it is true')\n",
    "    print('it is really true')\n",
    "    \n",
    "print ('This code is not belongs to if statements')"
   ]
  },
  {
   "cell_type": "code",
   "execution_count": 2,
   "metadata": {
    "ExecuteTime": {
     "end_time": "2021-07-02T17:36:42.370931Z",
     "start_time": "2021-07-02T17:36:42.358963Z"
    }
   },
   "outputs": [
    {
     "name": "stdout",
     "output_type": "stream",
     "text": [
      "This code is not belongs to if statements\n"
     ]
    }
   ],
   "source": [
    "if 6 == 5:\n",
    "    print('6 is greater than 5')  # since 6 is not equal to 5, those 3 blocks will not printed\n",
    "    print('Yeah, it is true')\n",
    "    print('it is really true')\n",
    "    \n",
    "print ('This code is not belongs to if statements')"
   ]
  },
  {
   "cell_type": "markdown",
   "metadata": {},
   "source": [
    "# 조건문의 논리\n",
    "\n",
    "* Logical AND, OR, NOT \n",
    "  - 조건문에 사용되는 조건의 경우, boolean(T/F)이기 때문에, 논리식 **AND, OR, NOT** 이 사용가능\n",
    "  - 대소문자 구별 없이 사용 가능\n",
    "  - AND : and\n",
    "  - OR : or\n",
    "  - NOT : not\n",
    "  \n",
    "  \n",
    "* 논리표 \n",
    "  - AND : 모든 조건이 True 일때만 True\n",
    "      - T AND T : T\n",
    "      - T AND F : F\n",
    "      - F AND T : F\n",
    "      - F AND F : F\n",
    "  \n",
    "  - OR : 여러조건중 1개만 True여도 True\n",
    "      - T OR T : T\n",
    "      - T OR F : T\n",
    "      - F OR T : T\n",
    "      - F OR F : F\n",
    "     \n",
    "   \n",
    "   - NOT : 조건의 역!\n",
    "      - NOT T : F\n",
    "      - NOT F : T\n",
    "---\n",
    "\n",
    "* **우선순위**\n",
    "  - **NOT > AND > OR**"
   ]
  },
  {
   "cell_type": "code",
   "execution_count": 3,
   "metadata": {
    "ExecuteTime": {
     "end_time": "2021-07-02T17:36:42.386888Z",
     "start_time": "2021-07-02T17:36:42.373923Z"
    }
   },
   "outputs": [],
   "source": [
    "a = 10\n",
    "b = 8\n",
    "c = 11"
   ]
  },
  {
   "cell_type": "code",
   "execution_count": 4,
   "metadata": {
    "ExecuteTime": {
     "end_time": "2021-07-02T17:36:42.401847Z",
     "start_time": "2021-07-02T17:36:42.389879Z"
    }
   },
   "outputs": [],
   "source": [
    "if (a == 10 or b == 9) and c == 12:\n",
    "    print('that is true')\n",
    "    \n",
    "# since there is no True, 'if statement' won't work.    "
   ]
  },
  {
   "cell_type": "code",
   "execution_count": 5,
   "metadata": {
    "ExecuteTime": {
     "end_time": "2021-07-02T17:36:42.416807Z",
     "start_time": "2021-07-02T17:36:42.403842Z"
    }
   },
   "outputs": [],
   "source": [
    "if not a == 10: # Thus, it is same as 'if a!= 10'\n",
    "    print('a is ten')"
   ]
  },
  {
   "cell_type": "markdown",
   "metadata": {},
   "source": [
    "# if의 조건이 bool이 아닌 경우\n",
    " * 일반적으로는 조건문에는 bool이 주로 위치 한다.\n",
    " * 하지만, 정수, 실수, 문자열 리스트 등 기본 타입도 조건에 사용 가능하다.\n",
    " * False로 간주되는 값 ( = 각 데이터 타입의 기본값)\n",
    " \n",
    "     * None\n",
    "     * 0 (int)\n",
    "     * 0.0 (float)\n",
    "     * '' (str)\n",
    "     * [] -> 빈 리스트 (list)\n",
    "     * () -> 빈 튜플 (tuple) \n",
    "     * {} -> 빈 딕셔너리 (dict)\n",
    "     * set() -> 빈 집합 (set)\n",
    " \n",
    " * 그밖에는 모두 True로 간주"
   ]
  },
  {
   "cell_type": "code",
   "execution_count": 6,
   "metadata": {
    "ExecuteTime": {
     "end_time": "2021-07-02T17:36:42.431767Z",
     "start_time": "2021-07-02T17:36:42.419800Z"
    }
   },
   "outputs": [],
   "source": [
    "a = [] #empty list\n",
    "if a:\n",
    "    print('print')\n",
    "    \n",
    "# Since empty list means False, so nothing is printed.    "
   ]
  },
  {
   "cell_type": "markdown",
   "metadata": {},
   "source": [
    "# 조건이 여러개일때의 조건문"
   ]
  },
  {
   "cell_type": "markdown",
   "metadata": {},
   "source": [
    "## if, else : 조건이 2개일 때\n",
    "  - if가 아닌 경우, 나머지 조건을 표현하고 싶다면 바로 아래 else 블락 사용\n",
    "  - 이 경우, if조건이 True인 경우, if 블락의 코드가 수행, False인 경우 else 블락의 코드가 수행\n",
    "  - 주의 할 점 : **if와 else사이에 다른 코드 삽입 불가**"
   ]
  },
  {
   "cell_type": "code",
   "execution_count": 7,
   "metadata": {
    "ExecuteTime": {
     "end_time": "2021-07-02T17:36:42.446727Z",
     "start_time": "2021-07-02T17:36:42.435758Z"
    }
   },
   "outputs": [
    {
     "name": "stdout",
     "output_type": "stream",
     "text": [
      "6.0\n"
     ]
    }
   ],
   "source": [
    "# 짝수인 경우에는 2로 나눈 값을 출력하고\n",
    "# 홀수인 경우에는 1을 더한 값을 출력해라\n",
    "\n",
    "a = 12\n",
    "if a % 2 == 0: # 2로 나눈 나머지가 0이면 짝수\n",
    "    print(a / 2)  # 짝수인 경우에는 2로 나눈 값을 출력\n",
    "else: \n",
    "    print(a + 1) # 홀수인 경우에는 1을 더한 값을 출력"
   ]
  },
  {
   "cell_type": "markdown",
   "metadata": {},
   "source": [
    "## if, elif, else : 조건이 2개 이상일 때\n",
    "  - 조건이 여러개인 경우, 다음 조건을 elif 블록에 명시 가능\n",
    "  - 이 경우, 각 조건을 확인 후, True인 조건의 코드 블락을 실행 한 후, 전체 if, elif, else 구문을 종료\n",
    "  - 조건문을 사용할 때는, if 이후, 0개 이상의 elif를 사용 가능하며 0개 또는 1개의 else를 사용 가능함\n",
    "\n",
    "```python\n",
    "a = 17\n",
    "if a % 4 == 0:\n",
    "    print 'a is divisible by 4'\n",
    "elif a % 4 == 1:\n",
    "    print 'a % 4 is 1'\n",
    "elif a % 4 == 2:\n",
    "    print 'a % 4 is 2'\n",
    "else:\n",
    "    print 'a % 4 is 3'\n",
    "```"
   ]
  },
  {
   "cell_type": "code",
   "execution_count": 8,
   "metadata": {
    "ExecuteTime": {
     "end_time": "2021-07-02T17:36:42.461688Z",
     "start_time": "2021-07-02T17:36:42.449720Z"
    }
   },
   "outputs": [
    {
     "name": "stdout",
     "output_type": "stream",
     "text": [
      "a is divisible by 4\n"
     ]
    }
   ],
   "source": [
    "a = 16\n",
    "if a % 4 == 0:\n",
    "    print('a is divisible by 4')\n",
    "elif a % 4 == 1:\n",
    "    print('a % 4 is 1')\n",
    "elif a % 4 == 2:\n",
    "    print('a % 4 is 2')\n",
    "else:\n",
    "    print('a % 4 is 3')\n",
    "    \n",
    "# 16 나누기 4의 몫은 0이어서 if문을 만족하므로 첫번째 print문이 시행되고 조건문이 종료된다."
   ]
  },
  {
   "cell_type": "code",
   "execution_count": 9,
   "metadata": {
    "ExecuteTime": {
     "end_time": "2021-07-02T17:36:42.477645Z",
     "start_time": "2021-07-02T17:36:42.465677Z"
    }
   },
   "outputs": [
    {
     "name": "stdout",
     "output_type": "stream",
     "text": [
      "a % 4 is 3\n"
     ]
    }
   ],
   "source": [
    "a = 19\n",
    "if a % 4 == 0:\n",
    "    print('a is divisible by 4')\n",
    "elif a % 4 == 1:\n",
    "    print('a % 4 is 1')\n",
    "elif a % 4 == 2:\n",
    "    print('a % 4 is 2')\n",
    "else:\n",
    "    print('a % 4 is 3')\n",
    "    \n",
    "# a가 19일때는 if문을 만족하지 않음 -> 첫번째 elif문 조건 판단 -> False -> 두번째 elif문 판단 -> False -> Else문 조건 실행"
   ]
  },
  {
   "cell_type": "markdown",
   "metadata": {},
   "source": [
    "즉, if, elif, else 는 하나의 set이고, 상위의 조건문에서 True가 되면 그 즉시 조건문이 종료된다."
   ]
  },
  {
   "cell_type": "code",
   "execution_count": 10,
   "metadata": {
    "ExecuteTime": {
     "end_time": "2021-07-02T17:36:42.493602Z",
     "start_time": "2021-07-02T17:36:42.480637Z"
    }
   },
   "outputs": [
    {
     "name": "stdout",
     "output_type": "stream",
     "text": [
      "a is divisible by 4\n",
      "a % 4 is 3\n"
     ]
    }
   ],
   "source": [
    "a = 16\n",
    "if a % 4 == 0:\n",
    "    print('a is divisible by 4')\n",
    "if a % 4 == 1:\n",
    "    print('a % 4 is 1')\n",
    "if a % 4 == 2:\n",
    "    print('a % 4 is 2')\n",
    "else:\n",
    "    print('a % 4 is 3')\n",
    "    \n",
    "# 16 나누기 4의 몫은 0이어서 첫번째 조건의 print 문이 실행되었지만,\n",
    "# 2~3번째도 if문이기에 종료되지 않고 T/F를 확인해서 결과가 출력된다.\n",
    "# 2~3번째는 모두 False이므로 else문의 print문이 출력된다."
   ]
  },
  {
   "cell_type": "code",
   "execution_count": 11,
   "metadata": {
    "ExecuteTime": {
     "end_time": "2021-07-02T17:36:42.509560Z",
     "start_time": "2021-07-02T17:36:42.496594Z"
    }
   },
   "outputs": [
    {
     "name": "stdout",
     "output_type": "stream",
     "text": [
      "a % 4 is 3\n"
     ]
    }
   ],
   "source": [
    "a = 19\n",
    "if a % 4 == 0:\n",
    "    print('a is divisible by 4')\n",
    "if a % 4 == 1:\n",
    "    print('a % 4 is 1')\n",
    "if a % 4 == 2:\n",
    "    print('a % 4 is 2')\n",
    "else:\n",
    "    print('a % 4 is 3')\n",
    "    \n",
    "# a가 19일때는 첫번째 if문 만족하지 않음 -> 2번째 if문으로 넘어감 -> 2번째 if문도 만족하지 않음 -> 3번째 if문으로 넘어감 \n",
    "# -> 3번째 if문도 만족하지 않음 ->  else 조건문 출력"
   ]
  },
  {
   "cell_type": "markdown",
   "metadata": {},
   "source": [
    "즉, 여러개의 if문의 경우 각각의 if문은 별개이다. 그렇기 때문에 어느 한 if문이 True여도 계속 해서 조건문이 실행되며 조건을 확인한다."
   ]
  },
  {
   "cell_type": "markdown",
   "metadata": {},
   "source": [
    "# 중첩 조건문(nested condition)\n",
    "  - 조건문의 경우 중첩하여 작성 가능\n",
    "  - 중첩의 의미는 depth(깊이)이고, depth의 제한은 없다.\n",
    "  - 다만, 실제 코드를 활용할때는 가급적 if문의 중첩을 줄이는게 좋다. (깊어질수록 복잡해서 이해가 어려우니깐)"
   ]
  },
  {
   "cell_type": "code",
   "execution_count": 12,
   "metadata": {
    "ExecuteTime": {
     "end_time": "2021-07-02T17:36:42.525517Z",
     "start_time": "2021-07-02T17:36:42.513549Z"
    }
   },
   "outputs": [
    {
     "name": "stdout",
     "output_type": "stream",
     "text": [
      "a is ten and b is not 8\n"
     ]
    }
   ],
   "source": [
    "a = 10\n",
    "b = 9\n",
    "c = 8\n",
    "\n",
    "if a == 10: #  a가 10이면 -> True -> 낮은 depth의 조건문 수행\n",
    "    if c == 8: # c가 8이면 ->  True -> 낮은 depth의 조건문 수행\n",
    "        if b == 8: # b가 8이면, -> False -> else 조건으로 넘어감\n",
    "            print('a is ten and b is 8')\n",
    "        else:\n",
    "            print('a is ten and b is not 8')"
   ]
  }
 ],
 "metadata": {
  "kernelspec": {
   "display_name": "Python 3",
   "language": "python",
   "name": "python3"
  },
  "language_info": {
   "codemirror_mode": {
    "name": "ipython",
    "version": 3
   },
   "file_extension": ".py",
   "mimetype": "text/x-python",
   "name": "python",
   "nbconvert_exporter": "python",
   "pygments_lexer": "ipython3",
   "version": "3.8.5"
  },
  "toc": {
   "base_numbering": 1,
   "nav_menu": {},
   "number_sections": true,
   "sideBar": true,
   "skip_h1_title": false,
   "title_cell": "Table of Contents",
   "title_sidebar": "Contents",
   "toc_cell": false,
   "toc_position": {},
   "toc_section_display": true,
   "toc_window_display": true
  },
  "varInspector": {
   "cols": {
    "lenName": 16,
    "lenType": 16,
    "lenVar": 40
   },
   "kernels_config": {
    "python": {
     "delete_cmd_postfix": "",
     "delete_cmd_prefix": "del ",
     "library": "var_list.py",
     "varRefreshCmd": "print(var_dic_list())"
    },
    "r": {
     "delete_cmd_postfix": ") ",
     "delete_cmd_prefix": "rm(",
     "library": "var_list.r",
     "varRefreshCmd": "cat(var_dic_list()) "
    }
   },
   "types_to_exclude": [
    "module",
    "function",
    "builtin_function_or_method",
    "instance",
    "_Feature"
   ],
   "window_display": false
  }
 },
 "nbformat": 4,
 "nbformat_minor": 1
}
