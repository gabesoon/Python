{
 "cells": [
  {
   "cell_type": "code",
   "execution_count": 1,
   "metadata": {
    "ExecuteTime": {
     "end_time": "2021-07-15T05:40:57.176850Z",
     "start_time": "2021-07-15T05:40:56.563423Z"
    }
   },
   "outputs": [],
   "source": [
    "import os\n",
    "import pandas as pd\n",
    "\n",
    "# 불필요한 경고 표시 생략\n",
    "import warnings\n",
    "warnings.filterwarnings(action = 'ignore')\n",
    "\n",
    "a=%pwd # 현재 경로 a에 할당\n",
    "os.chdir(a) # 파일 로드 경로 설정"
   ]
  },
  {
   "cell_type": "markdown",
   "metadata": {},
   "source": [
    "- 일반적으로 거래, 로그데이터의 경우 한 회원 혹은 개체와 관련된 다양한 데이터(레코드)가 있는 경우가 많다.\n",
    "- 이때 일일히 레코드를 다 붙여주기도하지만, 보통은 해당 개체를 기준으로한 레코드들의 통계량을 붙여주는 경우가 일반적이다.\n",
    "\n",
    "![](이미지17.png)"
   ]
  },
  {
   "cell_type": "markdown",
   "metadata": {},
   "source": [
    "- 사용자 (ID) 가 있고, 그와 관련된 다양한 데이터 (A, B) 들이 있다고 가정\n",
    "- 머신러닝 상에서 각 세부 데이터에 대한 값이 필요한 경우라면 개별적으로 병합을 한다.\n",
    "- 하지만 보통은 ID를 기준으로 해당 데이터들을 `요약` 해서 원래의 데이터 A에 붙이는 경우가 일반적이다."
   ]
  },
  {
   "cell_type": "markdown",
   "metadata": {},
   "source": [
    "# 관련 문법 : DataFrame.groupby()\n",
    "---\n",
    "- 조건부 통계량 (조건에 따른 대상의 통계량) 을 계산하는 함수\n",
    "- 머신러닝, 통계 분석에서 자주 사용되는 함수\n",
    "\n",
    "파라미터\n",
    "\n",
    "---\n",
    "- by : 조건 변수 (컬럼명, 혹은 리스트로 된 컬럼명들)\n",
    "- as_index : 조건 변수를 index로 설정할것인지 여부 (default = True)-> output은 Series type이다.\n",
    "---\n",
    "e.g)\n",
    "![e.g](이미지18.png)"
   ]
  },
  {
   "cell_type": "markdown",
   "metadata": {},
   "source": [
    "# 데이터 불러오기"
   ]
  },
  {
   "cell_type": "code",
   "execution_count": 2,
   "metadata": {
    "ExecuteTime": {
     "end_time": "2021-07-15T05:40:57.206773Z",
     "start_time": "2021-07-15T05:40:57.179818Z"
    }
   },
   "outputs": [],
   "source": [
    "# 데이터 불러오기\n",
    "pop_df = pd.read_csv(\"고객별_인구통계정보.csv\", engine = \"python\", encoding='cp949') # mother data\n",
    "purchasing_df = pd.read_csv(\"고객별_구매금액.csv\", engine = 'python', encoding='cp949') # merge하려는 data"
   ]
  },
  {
   "cell_type": "code",
   "execution_count": 3,
   "metadata": {
    "ExecuteTime": {
     "end_time": "2021-07-15T05:40:57.238177Z",
     "start_time": "2021-07-15T05:40:57.208740Z"
    },
    "scrolled": true
   },
   "outputs": [
    {
     "data": {
      "text/html": [
       "<div>\n",
       "<style scoped>\n",
       "    .dataframe tbody tr th:only-of-type {\n",
       "        vertical-align: middle;\n",
       "    }\n",
       "\n",
       "    .dataframe tbody tr th {\n",
       "        vertical-align: top;\n",
       "    }\n",
       "\n",
       "    .dataframe thead th {\n",
       "        text-align: right;\n",
       "    }\n",
       "</style>\n",
       "<table border=\"1\" class=\"dataframe\">\n",
       "  <thead>\n",
       "    <tr style=\"text-align: right;\">\n",
       "      <th></th>\n",
       "      <th>고객ID</th>\n",
       "      <th>나이</th>\n",
       "      <th>성별</th>\n",
       "      <th>주소</th>\n",
       "    </tr>\n",
       "  </thead>\n",
       "  <tbody>\n",
       "    <tr>\n",
       "      <th>0</th>\n",
       "      <td>고객1</td>\n",
       "      <td>48</td>\n",
       "      <td>남</td>\n",
       "      <td>A아파트</td>\n",
       "    </tr>\n",
       "    <tr>\n",
       "      <th>1</th>\n",
       "      <td>고객2</td>\n",
       "      <td>40</td>\n",
       "      <td>남</td>\n",
       "      <td>B아파트</td>\n",
       "    </tr>\n",
       "    <tr>\n",
       "      <th>2</th>\n",
       "      <td>고객3</td>\n",
       "      <td>37</td>\n",
       "      <td>여</td>\n",
       "      <td>C아파트</td>\n",
       "    </tr>\n",
       "    <tr>\n",
       "      <th>3</th>\n",
       "      <td>고객4</td>\n",
       "      <td>35</td>\n",
       "      <td>여</td>\n",
       "      <td>A연립주택</td>\n",
       "    </tr>\n",
       "    <tr>\n",
       "      <th>4</th>\n",
       "      <td>고객5</td>\n",
       "      <td>42</td>\n",
       "      <td>남</td>\n",
       "      <td>B연립주택</td>\n",
       "    </tr>\n",
       "  </tbody>\n",
       "</table>\n",
       "</div>"
      ],
      "text/plain": [
       "  고객ID  나이 성별     주소\n",
       "0  고객1  48  남   A아파트\n",
       "1  고객2  40  남   B아파트\n",
       "2  고객3  37  여   C아파트\n",
       "3  고객4  35  여  A연립주택\n",
       "4  고객5  42  남  B연립주택"
      ]
     },
     "execution_count": 3,
     "metadata": {},
     "output_type": "execute_result"
    }
   ],
   "source": [
    "pop_df.head()"
   ]
  },
  {
   "cell_type": "code",
   "execution_count": 4,
   "metadata": {
    "ExecuteTime": {
     "end_time": "2021-07-15T05:40:57.284077Z",
     "start_time": "2021-07-15T05:40:57.265098Z"
    }
   },
   "outputs": [
    {
     "data": {
      "text/html": [
       "<div>\n",
       "<style scoped>\n",
       "    .dataframe tbody tr th:only-of-type {\n",
       "        vertical-align: middle;\n",
       "    }\n",
       "\n",
       "    .dataframe tbody tr th {\n",
       "        vertical-align: top;\n",
       "    }\n",
       "\n",
       "    .dataframe thead th {\n",
       "        text-align: right;\n",
       "    }\n",
       "</style>\n",
       "<table border=\"1\" class=\"dataframe\">\n",
       "  <thead>\n",
       "    <tr style=\"text-align: right;\">\n",
       "      <th></th>\n",
       "      <th>고객ID</th>\n",
       "      <th>구매금액</th>\n",
       "    </tr>\n",
       "  </thead>\n",
       "  <tbody>\n",
       "    <tr>\n",
       "      <th>0</th>\n",
       "      <td>고객10</td>\n",
       "      <td>45990</td>\n",
       "    </tr>\n",
       "    <tr>\n",
       "      <th>1</th>\n",
       "      <td>고객2</td>\n",
       "      <td>29800</td>\n",
       "    </tr>\n",
       "    <tr>\n",
       "      <th>2</th>\n",
       "      <td>고객7</td>\n",
       "      <td>31400</td>\n",
       "    </tr>\n",
       "    <tr>\n",
       "      <th>3</th>\n",
       "      <td>고객5</td>\n",
       "      <td>35300</td>\n",
       "    </tr>\n",
       "    <tr>\n",
       "      <th>4</th>\n",
       "      <td>고객2</td>\n",
       "      <td>41200</td>\n",
       "    </tr>\n",
       "  </tbody>\n",
       "</table>\n",
       "</div>"
      ],
      "text/plain": [
       "   고객ID   구매금액\n",
       "0  고객10  45990\n",
       "1   고객2  29800\n",
       "2   고객7  31400\n",
       "3   고객5  35300\n",
       "4   고객2  41200"
      ]
     },
     "execution_count": 4,
     "metadata": {},
     "output_type": "execute_result"
    }
   ],
   "source": [
    "purchasing_df.head()\n",
    "\n",
    "# 동일 ID를 가진 고객이 여러건 구매를 한 데이터도 있다."
   ]
  },
  {
   "cell_type": "markdown",
   "metadata": {},
   "source": [
    "# 데이터 요약\n",
    "---\n",
    "- groupby 함수에서 as_index 의 default값은 True 인데, 이때 자동으로 결과물은 Series 형태로 return된다."
   ]
  },
  {
   "cell_type": "code",
   "execution_count": 5,
   "metadata": {
    "ExecuteTime": {
     "end_time": "2021-07-15T05:40:57.299008Z",
     "start_time": "2021-07-15T05:40:57.286042Z"
    }
   },
   "outputs": [
    {
     "data": {
      "text/plain": [
       "고객ID\n",
       "고객1     2494480\n",
       "고객10    2644200\n",
       "고객2     2573880\n",
       "고객3     2998590\n",
       "고객4     2875420\n",
       "고객5     2628430\n",
       "고객6     2419410\n",
       "고객7     2709620\n",
       "고객8     2914460\n",
       "고객9     2283150\n",
       "Name: 구매금액, dtype: int64"
      ]
     },
     "execution_count": 5,
     "metadata": {},
     "output_type": "execute_result"
    }
   ],
   "source": [
    "# 즉, '고객ID'가 인덱스로 사용된 것\n",
    "purchasing_aggregated_df = purchasing_df.groupby('고객ID')['구매금액'].sum()\n",
    "purchasing_aggregated_df"
   ]
  },
  {
   "cell_type": "code",
   "execution_count": 6,
   "metadata": {
    "ExecuteTime": {
     "end_time": "2021-07-15T05:40:57.313996Z",
     "start_time": "2021-07-15T05:40:57.302000Z"
    }
   },
   "outputs": [
    {
     "data": {
      "text/plain": [
       "2573880"
      ]
     },
     "execution_count": 6,
     "metadata": {},
     "output_type": "execute_result"
    }
   ],
   "source": [
    "# 고객ID는 index가 되었기 때문에 고객ID에 대응되는 sum()된 값들만 나온다.\n",
    "# 고객ID는 return되지 않는다.\n",
    "purchasing_aggregated_df.iloc[2]"
   ]
  },
  {
   "cell_type": "markdown",
   "metadata": {},
   "source": [
    "# 데이터 병합"
   ]
  },
  {
   "cell_type": "markdown",
   "metadata": {},
   "source": [
    "## 방법1 (merge 활용)"
   ]
  },
  {
   "cell_type": "code",
   "execution_count": 7,
   "metadata": {
    "ExecuteTime": {
     "end_time": "2021-07-15T05:40:57.343998Z",
     "start_time": "2021-07-15T05:40:57.317957Z"
    }
   },
   "outputs": [],
   "source": [
    "# 데이터 병합 수행\n",
    "# 좌측 데이터는 고객 ID가 column으로 있지만, 우측 데이터는 index로서 있다.\n",
    "# 따라서 좌측은 left_on으로 column을 명시, 우측은 right_index로 index를 사용할 것을 명시해서 merge한다.\n",
    "merged_df = pd.merge(pop_df, purchasing_aggregated_df, left_on = '고객ID', right_index = True)"
   ]
  },
  {
   "cell_type": "code",
   "execution_count": 8,
   "metadata": {
    "ExecuteTime": {
     "end_time": "2021-07-15T05:40:57.373911Z",
     "start_time": "2021-07-15T05:40:57.346982Z"
    }
   },
   "outputs": [
    {
     "data": {
      "text/html": [
       "<div>\n",
       "<style scoped>\n",
       "    .dataframe tbody tr th:only-of-type {\n",
       "        vertical-align: middle;\n",
       "    }\n",
       "\n",
       "    .dataframe tbody tr th {\n",
       "        vertical-align: top;\n",
       "    }\n",
       "\n",
       "    .dataframe thead th {\n",
       "        text-align: right;\n",
       "    }\n",
       "</style>\n",
       "<table border=\"1\" class=\"dataframe\">\n",
       "  <thead>\n",
       "    <tr style=\"text-align: right;\">\n",
       "      <th></th>\n",
       "      <th>고객ID</th>\n",
       "      <th>나이</th>\n",
       "      <th>성별</th>\n",
       "      <th>주소</th>\n",
       "      <th>구매금액</th>\n",
       "    </tr>\n",
       "  </thead>\n",
       "  <tbody>\n",
       "    <tr>\n",
       "      <th>0</th>\n",
       "      <td>고객1</td>\n",
       "      <td>48</td>\n",
       "      <td>남</td>\n",
       "      <td>A아파트</td>\n",
       "      <td>2494480</td>\n",
       "    </tr>\n",
       "    <tr>\n",
       "      <th>1</th>\n",
       "      <td>고객2</td>\n",
       "      <td>40</td>\n",
       "      <td>남</td>\n",
       "      <td>B아파트</td>\n",
       "      <td>2573880</td>\n",
       "    </tr>\n",
       "    <tr>\n",
       "      <th>2</th>\n",
       "      <td>고객3</td>\n",
       "      <td>37</td>\n",
       "      <td>여</td>\n",
       "      <td>C아파트</td>\n",
       "      <td>2998590</td>\n",
       "    </tr>\n",
       "    <tr>\n",
       "      <th>3</th>\n",
       "      <td>고객4</td>\n",
       "      <td>35</td>\n",
       "      <td>여</td>\n",
       "      <td>A연립주택</td>\n",
       "      <td>2875420</td>\n",
       "    </tr>\n",
       "    <tr>\n",
       "      <th>4</th>\n",
       "      <td>고객5</td>\n",
       "      <td>42</td>\n",
       "      <td>남</td>\n",
       "      <td>B연립주택</td>\n",
       "      <td>2628430</td>\n",
       "    </tr>\n",
       "  </tbody>\n",
       "</table>\n",
       "</div>"
      ],
      "text/plain": [
       "  고객ID  나이 성별     주소     구매금액\n",
       "0  고객1  48  남   A아파트  2494480\n",
       "1  고객2  40  남   B아파트  2573880\n",
       "2  고객3  37  여   C아파트  2998590\n",
       "3  고객4  35  여  A연립주택  2875420\n",
       "4  고객5  42  남  B연립주택  2628430"
      ]
     },
     "execution_count": 8,
     "metadata": {},
     "output_type": "execute_result"
    }
   ],
   "source": [
    "merged_df.head()"
   ]
  },
  {
   "cell_type": "code",
   "execution_count": 9,
   "metadata": {
    "ExecuteTime": {
     "end_time": "2021-07-15T05:40:57.404826Z",
     "start_time": "2021-07-15T05:40:57.375905Z"
    }
   },
   "outputs": [
    {
     "data": {
      "text/html": [
       "<div>\n",
       "<style scoped>\n",
       "    .dataframe tbody tr th:only-of-type {\n",
       "        vertical-align: middle;\n",
       "    }\n",
       "\n",
       "    .dataframe tbody tr th {\n",
       "        vertical-align: top;\n",
       "    }\n",
       "\n",
       "    .dataframe thead th {\n",
       "        text-align: right;\n",
       "    }\n",
       "</style>\n",
       "<table border=\"1\" class=\"dataframe\">\n",
       "  <thead>\n",
       "    <tr style=\"text-align: right;\">\n",
       "      <th></th>\n",
       "      <th>고객ID</th>\n",
       "      <th>나이</th>\n",
       "      <th>성별</th>\n",
       "      <th>주소</th>\n",
       "      <th>구매금액합계</th>\n",
       "    </tr>\n",
       "  </thead>\n",
       "  <tbody>\n",
       "    <tr>\n",
       "      <th>0</th>\n",
       "      <td>고객1</td>\n",
       "      <td>48</td>\n",
       "      <td>남</td>\n",
       "      <td>A아파트</td>\n",
       "      <td>2494480</td>\n",
       "    </tr>\n",
       "    <tr>\n",
       "      <th>1</th>\n",
       "      <td>고객2</td>\n",
       "      <td>40</td>\n",
       "      <td>남</td>\n",
       "      <td>B아파트</td>\n",
       "      <td>2573880</td>\n",
       "    </tr>\n",
       "    <tr>\n",
       "      <th>2</th>\n",
       "      <td>고객3</td>\n",
       "      <td>37</td>\n",
       "      <td>여</td>\n",
       "      <td>C아파트</td>\n",
       "      <td>2998590</td>\n",
       "    </tr>\n",
       "    <tr>\n",
       "      <th>3</th>\n",
       "      <td>고객4</td>\n",
       "      <td>35</td>\n",
       "      <td>여</td>\n",
       "      <td>A연립주택</td>\n",
       "      <td>2875420</td>\n",
       "    </tr>\n",
       "    <tr>\n",
       "      <th>4</th>\n",
       "      <td>고객5</td>\n",
       "      <td>42</td>\n",
       "      <td>남</td>\n",
       "      <td>B연립주택</td>\n",
       "      <td>2628430</td>\n",
       "    </tr>\n",
       "    <tr>\n",
       "      <th>5</th>\n",
       "      <td>고객6</td>\n",
       "      <td>44</td>\n",
       "      <td>남</td>\n",
       "      <td>C연립주택</td>\n",
       "      <td>2419410</td>\n",
       "    </tr>\n",
       "    <tr>\n",
       "      <th>6</th>\n",
       "      <td>고객7</td>\n",
       "      <td>47</td>\n",
       "      <td>남</td>\n",
       "      <td>A단독주택</td>\n",
       "      <td>2709620</td>\n",
       "    </tr>\n",
       "    <tr>\n",
       "      <th>7</th>\n",
       "      <td>고객8</td>\n",
       "      <td>38</td>\n",
       "      <td>여</td>\n",
       "      <td>B단독주택</td>\n",
       "      <td>2914460</td>\n",
       "    </tr>\n",
       "    <tr>\n",
       "      <th>8</th>\n",
       "      <td>고객9</td>\n",
       "      <td>33</td>\n",
       "      <td>여</td>\n",
       "      <td>D아파트</td>\n",
       "      <td>2283150</td>\n",
       "    </tr>\n",
       "    <tr>\n",
       "      <th>9</th>\n",
       "      <td>고객10</td>\n",
       "      <td>30</td>\n",
       "      <td>남</td>\n",
       "      <td>E아파트</td>\n",
       "      <td>2644200</td>\n",
       "    </tr>\n",
       "  </tbody>\n",
       "</table>\n",
       "</div>"
      ],
      "text/plain": [
       "   고객ID  나이 성별     주소   구매금액합계\n",
       "0   고객1  48  남   A아파트  2494480\n",
       "1   고객2  40  남   B아파트  2573880\n",
       "2   고객3  37  여   C아파트  2998590\n",
       "3   고객4  35  여  A연립주택  2875420\n",
       "4   고객5  42  남  B연립주택  2628430\n",
       "5   고객6  44  남  C연립주택  2419410\n",
       "6   고객7  47  남  A단독주택  2709620\n",
       "7   고객8  38  여  B단독주택  2914460\n",
       "8   고객9  33  여   D아파트  2283150\n",
       "9  고객10  30  남   E아파트  2644200"
      ]
     },
     "execution_count": 9,
     "metadata": {},
     "output_type": "execute_result"
    }
   ],
   "source": [
    "# 병합된 데이터의 컬럼명을 이해하기 쉽도록 변경\n",
    "merged_df.rename(columns = {'구매금액':'구매금액합계'}, inplace = True)\n",
    "merged_df"
   ]
  },
  {
   "cell_type": "markdown",
   "metadata": {},
   "source": [
    "## 방법 2 (replace 활용) \n",
    "---\n",
    "- 하나의 변수만 추가해도 되는 경우는 replace를 통해 데이터 병합을 할 수 도 있다.\n",
    "- 추가할 변수가 1개 이상부터는 merge를 통하는 것이 훨씬 효율적이다."
   ]
  },
  {
   "cell_type": "code",
   "execution_count": 10,
   "metadata": {
    "ExecuteTime": {
     "end_time": "2021-07-15T05:40:57.436255Z",
     "start_time": "2021-07-15T05:40:57.406822Z"
    }
   },
   "outputs": [
    {
     "data": {
      "text/html": [
       "<div>\n",
       "<style scoped>\n",
       "    .dataframe tbody tr th:only-of-type {\n",
       "        vertical-align: middle;\n",
       "    }\n",
       "\n",
       "    .dataframe tbody tr th {\n",
       "        vertical-align: top;\n",
       "    }\n",
       "\n",
       "    .dataframe thead th {\n",
       "        text-align: right;\n",
       "    }\n",
       "</style>\n",
       "<table border=\"1\" class=\"dataframe\">\n",
       "  <thead>\n",
       "    <tr style=\"text-align: right;\">\n",
       "      <th></th>\n",
       "      <th>고객ID</th>\n",
       "      <th>나이</th>\n",
       "      <th>성별</th>\n",
       "      <th>주소</th>\n",
       "      <th>구매금액합계</th>\n",
       "    </tr>\n",
       "  </thead>\n",
       "  <tbody>\n",
       "    <tr>\n",
       "      <th>0</th>\n",
       "      <td>고객1</td>\n",
       "      <td>48</td>\n",
       "      <td>남</td>\n",
       "      <td>A아파트</td>\n",
       "      <td>2494480</td>\n",
       "    </tr>\n",
       "    <tr>\n",
       "      <th>1</th>\n",
       "      <td>고객2</td>\n",
       "      <td>40</td>\n",
       "      <td>남</td>\n",
       "      <td>B아파트</td>\n",
       "      <td>2573880</td>\n",
       "    </tr>\n",
       "    <tr>\n",
       "      <th>2</th>\n",
       "      <td>고객3</td>\n",
       "      <td>37</td>\n",
       "      <td>여</td>\n",
       "      <td>C아파트</td>\n",
       "      <td>2998590</td>\n",
       "    </tr>\n",
       "    <tr>\n",
       "      <th>3</th>\n",
       "      <td>고객4</td>\n",
       "      <td>35</td>\n",
       "      <td>여</td>\n",
       "      <td>A연립주택</td>\n",
       "      <td>2875420</td>\n",
       "    </tr>\n",
       "    <tr>\n",
       "      <th>4</th>\n",
       "      <td>고객5</td>\n",
       "      <td>42</td>\n",
       "      <td>남</td>\n",
       "      <td>B연립주택</td>\n",
       "      <td>2628430</td>\n",
       "    </tr>\n",
       "    <tr>\n",
       "      <th>5</th>\n",
       "      <td>고객6</td>\n",
       "      <td>44</td>\n",
       "      <td>남</td>\n",
       "      <td>C연립주택</td>\n",
       "      <td>2419410</td>\n",
       "    </tr>\n",
       "    <tr>\n",
       "      <th>6</th>\n",
       "      <td>고객7</td>\n",
       "      <td>47</td>\n",
       "      <td>남</td>\n",
       "      <td>A단독주택</td>\n",
       "      <td>2709620</td>\n",
       "    </tr>\n",
       "    <tr>\n",
       "      <th>7</th>\n",
       "      <td>고객8</td>\n",
       "      <td>38</td>\n",
       "      <td>여</td>\n",
       "      <td>B단독주택</td>\n",
       "      <td>2914460</td>\n",
       "    </tr>\n",
       "    <tr>\n",
       "      <th>8</th>\n",
       "      <td>고객9</td>\n",
       "      <td>33</td>\n",
       "      <td>여</td>\n",
       "      <td>D아파트</td>\n",
       "      <td>2283150</td>\n",
       "    </tr>\n",
       "    <tr>\n",
       "      <th>9</th>\n",
       "      <td>고객10</td>\n",
       "      <td>30</td>\n",
       "      <td>남</td>\n",
       "      <td>E아파트</td>\n",
       "      <td>2644200</td>\n",
       "    </tr>\n",
       "  </tbody>\n",
       "</table>\n",
       "</div>"
      ],
      "text/plain": [
       "   고객ID  나이 성별     주소   구매금액합계\n",
       "0   고객1  48  남   A아파트  2494480\n",
       "1   고객2  40  남   B아파트  2573880\n",
       "2   고객3  37  여   C아파트  2998590\n",
       "3   고객4  35  여  A연립주택  2875420\n",
       "4   고객5  42  남  B연립주택  2628430\n",
       "5   고객6  44  남  C연립주택  2419410\n",
       "6   고객7  47  남  A단독주택  2709620\n",
       "7   고객8  38  여  B단독주택  2914460\n",
       "8   고객9  33  여   D아파트  2283150\n",
       "9  고객10  30  남   E아파트  2644200"
      ]
     },
     "execution_count": 10,
     "metadata": {},
     "output_type": "execute_result"
    }
   ],
   "source": [
    "# 하나의 변수를 추가하는 경우에 주로 사용하는 테크닉 = replace를 활용\n",
    "# purchasing_aggregated_df는 Series 형태이고, 이것을  dict() 시켰으므로 고객ID는 key, sum()된 값들은 value가 되어 replace된다.\n",
    "\n",
    "pop_df['구매금액합계'] = pop_df['고객ID'].replace(purchasing_aggregated_df.to_dict())\n",
    "pop_df"
   ]
  }
 ],
 "metadata": {
  "kernelspec": {
   "display_name": "Python 3",
   "language": "python",
   "name": "python3"
  },
  "language_info": {
   "codemirror_mode": {
    "name": "ipython",
    "version": 3
   },
   "file_extension": ".py",
   "mimetype": "text/x-python",
   "name": "python",
   "nbconvert_exporter": "python",
   "pygments_lexer": "ipython3",
   "version": "3.8.5"
  },
  "toc": {
   "base_numbering": 1,
   "nav_menu": {},
   "number_sections": true,
   "sideBar": true,
   "skip_h1_title": false,
   "title_cell": "Table of Contents",
   "title_sidebar": "Contents",
   "toc_cell": false,
   "toc_position": {},
   "toc_section_display": true,
   "toc_window_display": true
  },
  "varInspector": {
   "cols": {
    "lenName": 16,
    "lenType": 16,
    "lenVar": 40
   },
   "kernels_config": {
    "python": {
     "delete_cmd_postfix": "",
     "delete_cmd_prefix": "del ",
     "library": "var_list.py",
     "varRefreshCmd": "print(var_dic_list())"
    },
    "r": {
     "delete_cmd_postfix": ") ",
     "delete_cmd_prefix": "rm(",
     "library": "var_list.r",
     "varRefreshCmd": "cat(var_dic_list()) "
    }
   },
   "types_to_exclude": [
    "module",
    "function",
    "builtin_function_or_method",
    "instance",
    "_Feature"
   ],
   "window_display": false
  }
 },
 "nbformat": 4,
 "nbformat_minor": 2
}
