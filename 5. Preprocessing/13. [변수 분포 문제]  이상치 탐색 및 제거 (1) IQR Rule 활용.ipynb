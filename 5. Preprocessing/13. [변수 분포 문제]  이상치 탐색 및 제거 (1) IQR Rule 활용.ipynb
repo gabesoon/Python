{
 "cells": [
  {
   "cell_type": "markdown",
   "metadata": {},
   "source": [
    "# 이상치\n",
    "---\n",
    "- 변수 범위에서 많이 벗어난 아주 작은 값이나 큰값\n",
    "- 이상치는 일반화된 모델을 생성하는데 악영향을 끼친다.\n",
    "- 따라서 이상치를 포함하는 레코드는 제거하는 것이 바람직하다.\n",
    "- 이상치는 결측치 처럼 추정하는 대상이 아니다. (무조건 삭제)\n",
    "\n",
    "\n",
    "![이상치](이미지36.png)\n",
    "\n",
    "---\n",
    "**이상치 제거가 반드시 필요한 모델들 = class의 평균을 쓰는 모델들**\n",
    "- Tree 기반 모델\n",
    "- 거리를 쓰는 모델 \n",
    "- KNN\n",
    "- 회귀모델 (미분과정에서 평균개념이 들어감)"
   ]
  },
  {
   "cell_type": "markdown",
   "metadata": {},
   "source": [
    "Tip. 전처리 과정에서 중점을 두어야 하는 포인트는 `새로 들어온 데이터가 어떨것인가` 이다.\n",
    "\n",
    "- 새로들어오는 데이터가 좌측의 그림처럼 이상치가 있는 경우라면 어쩔 수 없지만, 전처리르 할때는 기존 train data에 이상치를 제외한 나머지는 우측 그림과 같은 평균을 가지고 있으니, `새로들어오는 데이터도 이상치를 제거한 우측 그림과 같은 경향을 띌 것이다` 라는 가정하에 처리하고, 해당 데이터 분포에 맞는 모델을 만드는 것"
   ]
  },
  {
   "cell_type": "markdown",
   "metadata": {},
   "source": [
    "# 이상치 판단 방법 (1) - IQR Rule\n",
    "---\n",
    "- 변수별로 IQR 규칙을 만족하지 않는 sample들을 판단하여 삭제하는 방법이다.\n",
    "- IQR은 Q3(3사분위수) - Q1(1사분위수) 한 값을 의미\n",
    "- IQR Rule은 1) [Q3+IQR * 1.5]한 값보다 크거나 2)[Q1 - IQR * 1.5] 한 값보다 작은 경우에 이상치로 판단하는 방법\n",
    "---\n",
    "**FYI**\n",
    "- IQR Rule과 비슷한 방식으로는 z-score를 구해서(표준화), [Q3+IQR * 1.5]한 값보다 크거나 2)[Q1 - IQR * 1.5] 한 값보다 작은 경우에 속할 확률을 구해서 특정 확률 미만이면 이상치로 판단\n",
    "---\n",
    "![IQR](이미지37.png)\n",
    "\n",
    "---\n",
    "**장점**\n",
    "- IQR Rule 이나 z-score 판별법 모두 `직관적이고 사용이 간편`하다.\n",
    "\n",
    "**단점**\n",
    "- IQR Rule 이나 z-score 판별법으로 이상치를 판단하기 어려운 경우가 있을 수 있다.\n",
    "- 이 경우 완벽하에 이상치를 제거하지 못할 수 있다.\n",
    "    - 1) 단일 변수로 보면 이상치 인데 여러 변수와 같이 판별하면 이상치가 아닌 경우\n",
    "    - 2) 단일 변수로 보면 이상치가 아닌데, 여러변수와 같이 판별하면 이상치인 경우\n",
    "- IQR Rule로 판별하면 과도하게 이상치가 많이 나오는 경우가 있다.\n",
    "    - Box plot에 표시되는 이상치가 IQR Rule로 판단한 결과인데, boxplot자체가 생성이 안되고 이상치만 표현되는 경우\n",
    "\n",
    "**즉, IQR Rule은 절대적으로 이상치를 판별하는 완벽한 기준이 되기는 어렵다.**"
   ]
  },
  {
   "cell_type": "markdown",
   "metadata": {},
   "source": [
    "---\n",
    "![IQR2](이미지40.png)\n",
    "\n",
    "---\n",
    "- 위에서 이상치로 예시를 들었던 그림을 다시 보면 이상치가 Y값으로는 큰편이지만, X값에서는 작은 편이다.\n",
    "- 즉 X로만 보면 문제가 되는 데이터가 아니지만, X와 Y의 관계로 볼때 문제가 되는 데이터(=이상치)이다. \n",
    "- 이런 경우 IQR Rule로 판별하면, 위의 그림과 같이 X 값에서 과도하게 작거나 큰 위치의 값들이 이상치로 판별될 수 도 있다."
   ]
  },
  {
   "cell_type": "markdown",
   "metadata": {},
   "source": [
    "## 관련 문법 : numpy.quantile\n",
    "---\n",
    "- Array의 q번째 quantile(변위치)를 구하는 함수\n",
    "\n",
    "\n",
    "\n",
    "**파라미터**\n",
    "\n",
    "---\n",
    "- a : input array (list, ndarray, array 등)\n",
    "- q : quantile ( 0 과 1 사이의 임의의 값)"
   ]
  },
  {
   "cell_type": "code",
   "execution_count": 1,
   "metadata": {
    "ExecuteTime": {
     "end_time": "2021-07-15T14:59:22.192842Z",
     "start_time": "2021-07-15T14:59:21.595055Z"
    }
   },
   "outputs": [],
   "source": [
    "import os\n",
    "import pandas as pd\n",
    "\n",
    "# 불필요한 경고 표시 생략\n",
    "import warnings\n",
    "warnings.filterwarnings(action = 'ignore')\n",
    "\n",
    "a=%pwd # 현재 경로 a에 할당\n",
    "os.chdir(a) # 파일 로드 경로 설정"
   ]
  },
  {
   "cell_type": "markdown",
   "metadata": {},
   "source": [
    "실습 데이터 로드"
   ]
  },
  {
   "cell_type": "code",
   "execution_count": 2,
   "metadata": {
    "ExecuteTime": {
     "end_time": "2021-07-15T14:59:22.222764Z",
     "start_time": "2021-07-15T14:59:22.195822Z"
    }
   },
   "outputs": [
    {
     "data": {
      "text/html": [
       "<div>\n",
       "<style scoped>\n",
       "    .dataframe tbody tr th:only-of-type {\n",
       "        vertical-align: middle;\n",
       "    }\n",
       "\n",
       "    .dataframe tbody tr th {\n",
       "        vertical-align: top;\n",
       "    }\n",
       "\n",
       "    .dataframe thead th {\n",
       "        text-align: right;\n",
       "    }\n",
       "</style>\n",
       "<table border=\"1\" class=\"dataframe\">\n",
       "  <thead>\n",
       "    <tr style=\"text-align: right;\">\n",
       "      <th></th>\n",
       "      <th>RI</th>\n",
       "      <th>Na</th>\n",
       "      <th>Mg</th>\n",
       "      <th>Al</th>\n",
       "      <th>Si</th>\n",
       "      <th>K</th>\n",
       "      <th>Ca</th>\n",
       "      <th>Fe</th>\n",
       "      <th>Glass_type</th>\n",
       "    </tr>\n",
       "  </thead>\n",
       "  <tbody>\n",
       "    <tr>\n",
       "      <th>0</th>\n",
       "      <td>1.51766</td>\n",
       "      <td>13.21</td>\n",
       "      <td>3.69</td>\n",
       "      <td>1.29</td>\n",
       "      <td>72.61</td>\n",
       "      <td>0.57</td>\n",
       "      <td>8.22</td>\n",
       "      <td>0.00</td>\n",
       "      <td>1</td>\n",
       "    </tr>\n",
       "    <tr>\n",
       "      <th>1</th>\n",
       "      <td>1.51742</td>\n",
       "      <td>13.27</td>\n",
       "      <td>3.62</td>\n",
       "      <td>1.24</td>\n",
       "      <td>73.08</td>\n",
       "      <td>0.55</td>\n",
       "      <td>8.07</td>\n",
       "      <td>0.00</td>\n",
       "      <td>1</td>\n",
       "    </tr>\n",
       "    <tr>\n",
       "      <th>2</th>\n",
       "      <td>1.51756</td>\n",
       "      <td>13.15</td>\n",
       "      <td>3.61</td>\n",
       "      <td>1.05</td>\n",
       "      <td>73.24</td>\n",
       "      <td>0.57</td>\n",
       "      <td>8.24</td>\n",
       "      <td>0.00</td>\n",
       "      <td>1</td>\n",
       "    </tr>\n",
       "    <tr>\n",
       "      <th>3</th>\n",
       "      <td>1.51918</td>\n",
       "      <td>14.04</td>\n",
       "      <td>3.58</td>\n",
       "      <td>1.37</td>\n",
       "      <td>72.08</td>\n",
       "      <td>0.56</td>\n",
       "      <td>8.30</td>\n",
       "      <td>0.00</td>\n",
       "      <td>1</td>\n",
       "    </tr>\n",
       "    <tr>\n",
       "      <th>4</th>\n",
       "      <td>1.51755</td>\n",
       "      <td>13.00</td>\n",
       "      <td>3.60</td>\n",
       "      <td>1.36</td>\n",
       "      <td>72.99</td>\n",
       "      <td>0.57</td>\n",
       "      <td>8.40</td>\n",
       "      <td>0.11</td>\n",
       "      <td>1</td>\n",
       "    </tr>\n",
       "  </tbody>\n",
       "</table>\n",
       "</div>"
      ],
      "text/plain": [
       "        RI     Na    Mg    Al     Si     K    Ca    Fe  Glass_type\n",
       "0  1.51766  13.21  3.69  1.29  72.61  0.57  8.22  0.00           1\n",
       "1  1.51742  13.27  3.62  1.24  73.08  0.55  8.07  0.00           1\n",
       "2  1.51756  13.15  3.61  1.05  73.24  0.57  8.24  0.00           1\n",
       "3  1.51918  14.04  3.58  1.37  72.08  0.56  8.30  0.00           1\n",
       "4  1.51755  13.00  3.60  1.36  72.99  0.57  8.40  0.11           1"
      ]
     },
     "execution_count": 2,
     "metadata": {},
     "output_type": "execute_result"
    }
   ],
   "source": [
    "df = pd.read_csv(\"glass.csv\")\n",
    "df.head()"
   ]
  },
  {
   "cell_type": "code",
   "execution_count": 3,
   "metadata": {
    "ExecuteTime": {
     "end_time": "2021-07-15T14:59:22.267727Z",
     "start_time": "2021-07-15T14:59:22.224759Z"
    }
   },
   "outputs": [
    {
     "name": "stdout",
     "output_type": "stream",
     "text": [
      "<class 'pandas.core.frame.DataFrame'>\n",
      "RangeIndex: 214 entries, 0 to 213\n",
      "Data columns (total 9 columns):\n",
      " #   Column      Non-Null Count  Dtype  \n",
      "---  ------      --------------  -----  \n",
      " 0   RI          214 non-null    float64\n",
      " 1   Na          214 non-null    float64\n",
      " 2   Mg          214 non-null    float64\n",
      " 3   Al          214 non-null    float64\n",
      " 4   Si          214 non-null    float64\n",
      " 5   K           214 non-null    float64\n",
      " 6   Ca          214 non-null    float64\n",
      " 7   Fe          214 non-null    float64\n",
      " 8   Glass_type  214 non-null    int64  \n",
      "dtypes: float64(8), int64(1)\n",
      "memory usage: 15.2 KB\n"
     ]
    }
   ],
   "source": [
    "df.info()"
   ]
  },
  {
   "cell_type": "code",
   "execution_count": 4,
   "metadata": {
    "ExecuteTime": {
     "end_time": "2021-07-15T14:59:22.327596Z",
     "start_time": "2021-07-15T14:59:22.269722Z"
    }
   },
   "outputs": [
    {
     "data": {
      "text/html": [
       "<div>\n",
       "<style scoped>\n",
       "    .dataframe tbody tr th:only-of-type {\n",
       "        vertical-align: middle;\n",
       "    }\n",
       "\n",
       "    .dataframe tbody tr th {\n",
       "        vertical-align: top;\n",
       "    }\n",
       "\n",
       "    .dataframe thead th {\n",
       "        text-align: right;\n",
       "    }\n",
       "</style>\n",
       "<table border=\"1\" class=\"dataframe\">\n",
       "  <thead>\n",
       "    <tr style=\"text-align: right;\">\n",
       "      <th></th>\n",
       "      <th>RI</th>\n",
       "      <th>Na</th>\n",
       "      <th>Mg</th>\n",
       "      <th>Al</th>\n",
       "      <th>Si</th>\n",
       "      <th>K</th>\n",
       "      <th>Ca</th>\n",
       "      <th>Fe</th>\n",
       "      <th>Glass_type</th>\n",
       "    </tr>\n",
       "  </thead>\n",
       "  <tbody>\n",
       "    <tr>\n",
       "      <th>count</th>\n",
       "      <td>214.000000</td>\n",
       "      <td>214.000000</td>\n",
       "      <td>214.000000</td>\n",
       "      <td>214.000000</td>\n",
       "      <td>214.000000</td>\n",
       "      <td>214.000000</td>\n",
       "      <td>214.000000</td>\n",
       "      <td>214.000000</td>\n",
       "      <td>214.000000</td>\n",
       "    </tr>\n",
       "    <tr>\n",
       "      <th>mean</th>\n",
       "      <td>1.518365</td>\n",
       "      <td>13.407850</td>\n",
       "      <td>2.684533</td>\n",
       "      <td>1.444907</td>\n",
       "      <td>72.650935</td>\n",
       "      <td>0.497056</td>\n",
       "      <td>8.956963</td>\n",
       "      <td>0.057009</td>\n",
       "      <td>2.780374</td>\n",
       "    </tr>\n",
       "    <tr>\n",
       "      <th>std</th>\n",
       "      <td>0.003037</td>\n",
       "      <td>0.816604</td>\n",
       "      <td>1.442408</td>\n",
       "      <td>0.499270</td>\n",
       "      <td>0.774546</td>\n",
       "      <td>0.652192</td>\n",
       "      <td>1.423153</td>\n",
       "      <td>0.097439</td>\n",
       "      <td>2.103739</td>\n",
       "    </tr>\n",
       "    <tr>\n",
       "      <th>min</th>\n",
       "      <td>1.511150</td>\n",
       "      <td>10.730000</td>\n",
       "      <td>0.000000</td>\n",
       "      <td>0.290000</td>\n",
       "      <td>69.810000</td>\n",
       "      <td>0.000000</td>\n",
       "      <td>5.430000</td>\n",
       "      <td>0.000000</td>\n",
       "      <td>1.000000</td>\n",
       "    </tr>\n",
       "    <tr>\n",
       "      <th>25%</th>\n",
       "      <td>1.516522</td>\n",
       "      <td>12.907500</td>\n",
       "      <td>2.115000</td>\n",
       "      <td>1.190000</td>\n",
       "      <td>72.280000</td>\n",
       "      <td>0.122500</td>\n",
       "      <td>8.240000</td>\n",
       "      <td>0.000000</td>\n",
       "      <td>1.000000</td>\n",
       "    </tr>\n",
       "    <tr>\n",
       "      <th>50%</th>\n",
       "      <td>1.517680</td>\n",
       "      <td>13.300000</td>\n",
       "      <td>3.480000</td>\n",
       "      <td>1.360000</td>\n",
       "      <td>72.790000</td>\n",
       "      <td>0.555000</td>\n",
       "      <td>8.600000</td>\n",
       "      <td>0.000000</td>\n",
       "      <td>2.000000</td>\n",
       "    </tr>\n",
       "    <tr>\n",
       "      <th>75%</th>\n",
       "      <td>1.519157</td>\n",
       "      <td>13.825000</td>\n",
       "      <td>3.600000</td>\n",
       "      <td>1.630000</td>\n",
       "      <td>73.087500</td>\n",
       "      <td>0.610000</td>\n",
       "      <td>9.172500</td>\n",
       "      <td>0.100000</td>\n",
       "      <td>3.000000</td>\n",
       "    </tr>\n",
       "    <tr>\n",
       "      <th>max</th>\n",
       "      <td>1.533930</td>\n",
       "      <td>17.380000</td>\n",
       "      <td>4.490000</td>\n",
       "      <td>3.500000</td>\n",
       "      <td>75.410000</td>\n",
       "      <td>6.210000</td>\n",
       "      <td>16.190000</td>\n",
       "      <td>0.510000</td>\n",
       "      <td>7.000000</td>\n",
       "    </tr>\n",
       "  </tbody>\n",
       "</table>\n",
       "</div>"
      ],
      "text/plain": [
       "               RI          Na          Mg          Al          Si           K  \\\n",
       "count  214.000000  214.000000  214.000000  214.000000  214.000000  214.000000   \n",
       "mean     1.518365   13.407850    2.684533    1.444907   72.650935    0.497056   \n",
       "std      0.003037    0.816604    1.442408    0.499270    0.774546    0.652192   \n",
       "min      1.511150   10.730000    0.000000    0.290000   69.810000    0.000000   \n",
       "25%      1.516522   12.907500    2.115000    1.190000   72.280000    0.122500   \n",
       "50%      1.517680   13.300000    3.480000    1.360000   72.790000    0.555000   \n",
       "75%      1.519157   13.825000    3.600000    1.630000   73.087500    0.610000   \n",
       "max      1.533930   17.380000    4.490000    3.500000   75.410000    6.210000   \n",
       "\n",
       "               Ca          Fe  Glass_type  \n",
       "count  214.000000  214.000000  214.000000  \n",
       "mean     8.956963    0.057009    2.780374  \n",
       "std      1.423153    0.097439    2.103739  \n",
       "min      5.430000    0.000000    1.000000  \n",
       "25%      8.240000    0.000000    1.000000  \n",
       "50%      8.600000    0.000000    2.000000  \n",
       "75%      9.172500    0.100000    3.000000  \n",
       "max     16.190000    0.510000    7.000000  "
      ]
     },
     "execution_count": 4,
     "metadata": {},
     "output_type": "execute_result"
    }
   ],
   "source": [
    "df.describe()"
   ]
  },
  {
   "cell_type": "code",
   "execution_count": 5,
   "metadata": {
    "ExecuteTime": {
     "end_time": "2021-07-15T14:59:22.342526Z",
     "start_time": "2021-07-15T14:59:22.329561Z"
    }
   },
   "outputs": [],
   "source": [
    "# 특징과 라벨 분리\n",
    "X = df.drop(['Glass_type'], axis = 1)\n",
    "Y = df['Glass_type']"
   ]
  },
  {
   "cell_type": "code",
   "execution_count": 6,
   "metadata": {
    "ExecuteTime": {
     "end_time": "2021-07-15T14:59:23.736080Z",
     "start_time": "2021-07-15T14:59:22.344521Z"
    }
   },
   "outputs": [
    {
     "data": {
      "text/plain": [
       "(160, 8)"
      ]
     },
     "execution_count": 6,
     "metadata": {},
     "output_type": "execute_result"
    }
   ],
   "source": [
    "# 학습 데이터와 평가 데이터 분리\n",
    "from sklearn.model_selection import train_test_split\n",
    "Train_X, Test_X, Train_Y, Test_Y = train_test_split(X, Y)\n",
    "Train_X.shape"
   ]
  },
  {
   "cell_type": "markdown",
   "metadata": {},
   "source": [
    "# IQR Rule 함수"
   ]
  },
  {
   "cell_type": "code",
   "execution_count": 7,
   "metadata": {
    "ExecuteTime": {
     "end_time": "2021-07-15T14:59:23.751009Z",
     "start_time": "2021-07-15T14:59:23.739069Z"
    }
   },
   "outputs": [],
   "source": [
    "import numpy as np\n",
    "def IQR_rule(val_list): # 한 특징에 포함된 값 (즉, column과 대응되는 Series)\n",
    "    # IQR 계산    \n",
    "    Q1 = np.quantile(val_list, 0.25) # 25%값\n",
    "    Q3 = np.quantile(val_list, 0.75) # 75%값\n",
    "    IQR = Q3 - Q1\n",
    "    \n",
    "    # IQR rule을 위배하지 않는 bool list 계산 (True: 이상치 X, False: 이상치 O)\n",
    "    not_outlier_condition = (Q3 + 1.5 * IQR > val_list) & (Q1 - 1.5 * IQR < val_list)\n",
    "    return not_outlier_condition"
   ]
  },
  {
   "cell_type": "code",
   "execution_count": 8,
   "metadata": {
    "ExecuteTime": {
     "end_time": "2021-07-15T14:59:23.795918Z",
     "start_time": "2021-07-15T14:59:23.754001Z"
    }
   },
   "outputs": [
    {
     "data": {
      "text/html": [
       "<div>\n",
       "<style scoped>\n",
       "    .dataframe tbody tr th:only-of-type {\n",
       "        vertical-align: middle;\n",
       "    }\n",
       "\n",
       "    .dataframe tbody tr th {\n",
       "        vertical-align: top;\n",
       "    }\n",
       "\n",
       "    .dataframe thead th {\n",
       "        text-align: right;\n",
       "    }\n",
       "</style>\n",
       "<table border=\"1\" class=\"dataframe\">\n",
       "  <thead>\n",
       "    <tr style=\"text-align: right;\">\n",
       "      <th></th>\n",
       "      <th>RI</th>\n",
       "      <th>Na</th>\n",
       "      <th>Mg</th>\n",
       "      <th>Al</th>\n",
       "      <th>Si</th>\n",
       "      <th>K</th>\n",
       "      <th>Ca</th>\n",
       "      <th>Fe</th>\n",
       "    </tr>\n",
       "  </thead>\n",
       "  <tbody>\n",
       "    <tr>\n",
       "      <th>47</th>\n",
       "      <td>True</td>\n",
       "      <td>True</td>\n",
       "      <td>True</td>\n",
       "      <td>True</td>\n",
       "      <td>True</td>\n",
       "      <td>True</td>\n",
       "      <td>True</td>\n",
       "      <td>True</td>\n",
       "    </tr>\n",
       "    <tr>\n",
       "      <th>166</th>\n",
       "      <td>True</td>\n",
       "      <td>True</td>\n",
       "      <td>True</td>\n",
       "      <td>True</td>\n",
       "      <td>True</td>\n",
       "      <td>True</td>\n",
       "      <td>True</td>\n",
       "      <td>False</td>\n",
       "    </tr>\n",
       "    <tr>\n",
       "      <th>46</th>\n",
       "      <td>True</td>\n",
       "      <td>True</td>\n",
       "      <td>True</td>\n",
       "      <td>True</td>\n",
       "      <td>True</td>\n",
       "      <td>True</td>\n",
       "      <td>True</td>\n",
       "      <td>True</td>\n",
       "    </tr>\n",
       "    <tr>\n",
       "      <th>147</th>\n",
       "      <td>True</td>\n",
       "      <td>True</td>\n",
       "      <td>True</td>\n",
       "      <td>True</td>\n",
       "      <td>True</td>\n",
       "      <td>True</td>\n",
       "      <td>True</td>\n",
       "      <td>True</td>\n",
       "    </tr>\n",
       "    <tr>\n",
       "      <th>188</th>\n",
       "      <td>True</td>\n",
       "      <td>True</td>\n",
       "      <td>True</td>\n",
       "      <td>False</td>\n",
       "      <td>False</td>\n",
       "      <td>False</td>\n",
       "      <td>False</td>\n",
       "      <td>True</td>\n",
       "    </tr>\n",
       "    <tr>\n",
       "      <th>...</th>\n",
       "      <td>...</td>\n",
       "      <td>...</td>\n",
       "      <td>...</td>\n",
       "      <td>...</td>\n",
       "      <td>...</td>\n",
       "      <td>...</td>\n",
       "      <td>...</td>\n",
       "      <td>...</td>\n",
       "    </tr>\n",
       "    <tr>\n",
       "      <th>205</th>\n",
       "      <td>True</td>\n",
       "      <td>True</td>\n",
       "      <td>True</td>\n",
       "      <td>False</td>\n",
       "      <td>True</td>\n",
       "      <td>True</td>\n",
       "      <td>True</td>\n",
       "      <td>True</td>\n",
       "    </tr>\n",
       "    <tr>\n",
       "      <th>192</th>\n",
       "      <td>True</td>\n",
       "      <td>True</td>\n",
       "      <td>True</td>\n",
       "      <td>True</td>\n",
       "      <td>True</td>\n",
       "      <td>True</td>\n",
       "      <td>False</td>\n",
       "      <td>True</td>\n",
       "    </tr>\n",
       "    <tr>\n",
       "      <th>90</th>\n",
       "      <td>True</td>\n",
       "      <td>True</td>\n",
       "      <td>True</td>\n",
       "      <td>False</td>\n",
       "      <td>True</td>\n",
       "      <td>True</td>\n",
       "      <td>False</td>\n",
       "      <td>True</td>\n",
       "    </tr>\n",
       "    <tr>\n",
       "      <th>174</th>\n",
       "      <td>True</td>\n",
       "      <td>True</td>\n",
       "      <td>True</td>\n",
       "      <td>True</td>\n",
       "      <td>True</td>\n",
       "      <td>True</td>\n",
       "      <td>True</td>\n",
       "      <td>True</td>\n",
       "    </tr>\n",
       "    <tr>\n",
       "      <th>143</th>\n",
       "      <td>True</td>\n",
       "      <td>True</td>\n",
       "      <td>True</td>\n",
       "      <td>True</td>\n",
       "      <td>True</td>\n",
       "      <td>True</td>\n",
       "      <td>True</td>\n",
       "      <td>True</td>\n",
       "    </tr>\n",
       "  </tbody>\n",
       "</table>\n",
       "<p>160 rows × 8 columns</p>\n",
       "</div>"
      ],
      "text/plain": [
       "       RI    Na    Mg     Al     Si      K     Ca     Fe\n",
       "47   True  True  True   True   True   True   True   True\n",
       "166  True  True  True   True   True   True   True  False\n",
       "46   True  True  True   True   True   True   True   True\n",
       "147  True  True  True   True   True   True   True   True\n",
       "188  True  True  True  False  False  False  False   True\n",
       "..    ...   ...   ...    ...    ...    ...    ...    ...\n",
       "205  True  True  True  False   True   True   True   True\n",
       "192  True  True  True   True   True   True  False   True\n",
       "90   True  True  True  False   True   True  False   True\n",
       "174  True  True  True   True   True   True   True   True\n",
       "143  True  True  True   True   True   True   True   True\n",
       "\n",
       "[160 rows x 8 columns]"
      ]
     },
     "execution_count": 8,
     "metadata": {},
     "output_type": "execute_result"
    }
   ],
   "source": [
    "# DataFrame에 apply함수가 적용되면 '열' 단위로 적용된다.\n",
    "conditions = Train_X.apply(IQR_rule) # apply를 이용하여 모든 컬럼에 IQR rule 함수 적용\n",
    "conditions"
   ]
  },
  {
   "cell_type": "markdown",
   "metadata": {},
   "source": [
    "# IQR Rule 적용 (이상치 제거)"
   ]
  },
  {
   "cell_type": "markdown",
   "metadata": {},
   "source": [
    "- conditions에서 행단위로 볼때 하나라도 False가 있으면 이상치 이므로 제거해줘야 한다.\n",
    "- 컬럼수가 8이므로, 행 기준으로 T/F를 sum했을때 8이 아닌 것은 제거 (연산함수에서 True는 1을 활용)"
   ]
  },
  {
   "cell_type": "code",
   "execution_count": 9,
   "metadata": {
    "ExecuteTime": {
     "end_time": "2021-07-15T14:59:23.811876Z",
     "start_time": "2021-07-15T14:59:23.798911Z"
    }
   },
   "outputs": [],
   "source": [
    "# 하나라도 IQR 규칙을 위반하는 요소를 갖는 레코드를 제거하기 위한 규칙\n",
    "total_condition = conditions.sum(axis = 1) == len(Train_X.columns) \n",
    "Train_X = Train_X.loc[total_condition] # 이상치 제거 (규칙 적용)"
   ]
  },
  {
   "cell_type": "code",
   "execution_count": 10,
   "metadata": {
    "ExecuteTime": {
     "end_time": "2021-07-15T14:59:23.842823Z",
     "start_time": "2021-07-15T14:59:23.824842Z"
    }
   },
   "outputs": [
    {
     "data": {
      "text/plain": [
       "(116, 8)"
      ]
     },
     "execution_count": 10,
     "metadata": {},
     "output_type": "execute_result"
    }
   ],
   "source": [
    "Train_X.shape #  50개의 값이 삭제되었다."
   ]
  },
  {
   "cell_type": "markdown",
   "metadata": {},
   "source": [
    "# 이상치 제거 결과 판단 및 조정\n",
    "---\n",
    "제거된 이상치의 비율을 보면 아래와 같다."
   ]
  },
  {
   "cell_type": "code",
   "execution_count": 11,
   "metadata": {
    "ExecuteTime": {
     "end_time": "2021-07-15T14:59:23.872748Z",
     "start_time": "2021-07-15T14:59:23.844817Z"
    }
   },
   "outputs": [
    {
     "name": "stdout",
     "output_type": "stream",
     "text": [
      "삭제된 이상치의 비율은 0.3125 입니다.\n"
     ]
    }
   ],
   "source": [
    "print('삭제된 이상치의 비율은', 50/160, '입니다.')"
   ]
  },
  {
   "cell_type": "markdown",
   "metadata": {},
   "source": [
    "- 전체 데이터가 160개인데 그중 30%가 이상치라는 것은 너무 많은 개수이다.\n",
    "- 따라서 삭제된 50개가 모두 이상치라고 보는 것은 적합하지 못하다.\n",
    "- 이 경우 IQR Rule의 함수를 조정해준다.\n",
    "- **일반적으로 이상치는 전체 데이터의 1% 정도이다.**"
   ]
  },
  {
   "cell_type": "markdown",
   "metadata": {},
   "source": [
    "```python\n",
    "import numpy as np\n",
    "def IQR_rule(val_list): # 한 특징에 포함된 값 (즉, column과 대응되는 Series)\n",
    "    # IQR 계산    \n",
    "    Q1 = np.quantile(val_list, 0.25) # 25%값\n",
    "    Q3 = np.quantile(val_list, 0.75) # 75%값\n",
    "    IQR = Q3 - Q1\n",
    "    \n",
    "    # IQR rule을 위배하지 않는 bool list 계산 (True: 이상치 X, False: 이상치 O)\n",
    "    # 제외된 이상치 비율이 너무 과도할 경우 condition을 조정해줄 필요가 있다.\n",
    "    # 1.5 라는 값은 절대값이 아니다. (해당 값이 클수록 이상치로 판단되는 수가 줄어든다.)\n",
    "    not_outlier_condition = (Q3 + 1.5 * IQR > val_list) & (Q1 - 1.5 * IQR < val_list)  \n",
    "    return not_outlier_condition\n",
    "```"
   ]
  }
 ],
 "metadata": {
  "kernelspec": {
   "display_name": "Python 3",
   "language": "python",
   "name": "python3"
  },
  "language_info": {
   "codemirror_mode": {
    "name": "ipython",
    "version": 3
   },
   "file_extension": ".py",
   "mimetype": "text/x-python",
   "name": "python",
   "nbconvert_exporter": "python",
   "pygments_lexer": "ipython3",
   "version": "3.8.5"
  },
  "toc": {
   "base_numbering": 1,
   "nav_menu": {},
   "number_sections": true,
   "sideBar": true,
   "skip_h1_title": false,
   "title_cell": "Table of Contents",
   "title_sidebar": "Contents",
   "toc_cell": false,
   "toc_position": {},
   "toc_section_display": true,
   "toc_window_display": true
  },
  "varInspector": {
   "cols": {
    "lenName": 16,
    "lenType": 16,
    "lenVar": 40
   },
   "kernels_config": {
    "python": {
     "delete_cmd_postfix": "",
     "delete_cmd_prefix": "del ",
     "library": "var_list.py",
     "varRefreshCmd": "print(var_dic_list())"
    },
    "r": {
     "delete_cmd_postfix": ") ",
     "delete_cmd_prefix": "rm(",
     "library": "var_list.r",
     "varRefreshCmd": "cat(var_dic_list()) "
    }
   },
   "types_to_exclude": [
    "module",
    "function",
    "builtin_function_or_method",
    "instance",
    "_Feature"
   ],
   "window_display": false
  }
 },
 "nbformat": 4,
 "nbformat_minor": 2
}
