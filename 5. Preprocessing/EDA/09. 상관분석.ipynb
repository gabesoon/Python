{
 "cells": [
  {
   "cell_type": "markdown",
   "metadata": {},
   "source": [
    "# 상관 분석\n",
    "---\n",
    "\n",
    "- 목적 : 두 연속형 변수 사이에 선형관계가 존재하는지 파악하기 위함\n",
    "    - e.g) X가 증가하면 Y가 감소한다. or Y도 증가한다.    "
   ]
  },
  {
   "cell_type": "markdown",
   "metadata": {},
   "source": [
    "# 영 가설 과 대립 가설\n",
    "---\n",
    "\n",
    "- 영 가설 : $H_0 :$ 두 변수간에는 유의미한 상관성이 존재한다.\n",
    "- 대립 가설 : $H_1 :$ 두 변수간에는 유의미한 상관성이 존재하지 않는다.\n",
    "\n",
    "- scatter plot(산점도)를 시각화 하여 두 변수간의 상관관계를 확인한다.\n",
    "    - 즉, 통계량을 바탕으로 두 변수간의 관계를 파악"
   ]
  },
  {
   "cell_type": "markdown",
   "metadata": {},
   "source": [
    "# 피어슨 상관계수\n",
    "---\n",
    "- 두 변수 모두 '연속형 변수' 일때만 사용하는 상관계수\n",
    "\n",
    "![image](https://user-images.githubusercontent.com/74717033/134618322-a57270b5-9f38-4ab0-8ce0-d2b6c41050a7.png)\n",
    "\n",
    "- $cov(x,y) $ : $x$ 와 $y$의 공분산\n",
    "- 공분산 : $x$ 와 $y$ 가 함께 움직이는 정도\n",
    "- 아래의 공식으로 구할 수 있다.\n",
    "![image](https://user-images.githubusercontent.com/74717033/134618769-962ead9e-fe05-45b1-84d1-e5e7bfe0522b.png)\n",
    "\n",
    "- $var(x) :$ $x$의 분산\n",
    "---\n",
    "\n",
    "- 상관계수가 1에 가까울 수록 양의 상관관계가 강하다.\n",
    "- 상관계수가 0에 가까울 수록 음의 상관관계가 강하다."
   ]
  },
  {
   "cell_type": "markdown",
   "metadata": {},
   "source": [
    "## 피어슨 상관계수의 값에 따른 그림 예시\n",
    "---\n",
    "![image](https://user-images.githubusercontent.com/74717033/134618963-6aadd3b7-e5a8-45dd-ba2c-04414dfc0614.png)"
   ]
  },
  {
   "cell_type": "markdown",
   "metadata": {},
   "source": [
    "- (1,1) 위치의 그림의 경우 $x$값이 증가함에 따른 $y$값의 증가량이 일정하다.\n",
    "    - $x$ 와 $y$의 상관관계는 1이다.\n",
    "    - 이 경우 머신러닝에서는 x값을 알면 y값을 정확하게 예측할 수 있다. 는 의미\n",
    "    - 하지만 기획된 실험이 아니라면 이런 결과가 나오기는 거의 불가능하다.\n",
    "---\n",
    "- (1,2) 위치의 그림\n",
    "    - $x$증가량에 따른 $y$의 증가량이 일정하진 않지만 관계성이 보인다.\n",
    "    - 이 경우 머신러닝에서는 $y$값을 어느정도 예측할 수 있다.\n",
    "---"
   ]
  },
  {
   "cell_type": "markdown",
   "metadata": {},
   "source": [
    "# 스피어만 상관계수\n",
    "---\n",
    "\n",
    "- 두 변수 사이의 순위사이에 단조 관련성을 상관계수로 측정하는 것\n",
    "    - 단조 : 방향을 역전시키지 않는\n",
    "- - 스피어만 상관계수는 샘플의 값을 그대로 사용 하는 것이 아니라, 오름 차순으로 샘플 값의 크기를 정렬하여 그 순위 끼리의 상관관계를 본다.\n",
    "\n",
    "\n",
    "- 스피어만 상관계수 수식\n",
    "![image](https://user-images.githubusercontent.com/74717033/134623172-220933b0-7b02-4493-8648-b00eaf8a7a72.png)\n",
    "\n",
    "- $r(x)$ : $x$ 요소의 개별 순위\n",
    "\n",
    "e.g)\n",
    "![image](https://user-images.githubusercontent.com/74717033/134623274-f2eb7f90-6b0c-4149-89be-ea3961c62868.png)\n",
    "\n",
    "- 파란색 점들을 보면 $x$가 증가할때 $y$가 증가하는 관계에 있음을 알 수 있다.(=단조 관련성)\n",
    "- 하지만 그 값들이 선형관계를 이룬다고 보기는 다소 어렵다.(위 그림의 경우 곡선)\n",
    "- 이런 경우의 선형 관계를 측정하기 위한 것이 스피어만 상관계수 이다.\n",
    "- 위 데이터의 피어슨 상관계수를 구하면 0.795이지만, 스피어만 상관계수는 1.0으로 훨씬 강한 선형 관계를 나타낸다.\n",
    "\n",
    "---\n",
    "\n",
    "- 피어슨 상관계수는 '직선' 의 선형 관계에 대한 상관계수를 측정하는 것\n",
    "- 스피어만 상관계수는 '직선' 이 아닌 (= 곡선) 선형 관계에 대한 상관계수를 측정하는 것.\n"
   ]
  },
  {
   "cell_type": "markdown",
   "metadata": {},
   "source": [
    "# 상관 분석 코드 구현\n",
    "---"
   ]
  },
  {
   "cell_type": "code",
   "execution_count": 1,
   "metadata": {
    "ExecuteTime": {
     "end_time": "2021-09-24T06:01:25.913195Z",
     "start_time": "2021-09-24T06:01:25.285412Z"
    }
   },
   "outputs": [],
   "source": [
    "# 기초 전처리\n",
    "import pandas as pd\n",
    "import numpy as np\n",
    "\n",
    "\n",
    "# 불필요한 경고 표시 생략\n",
    "import warnings\n",
    "warnings.filterwarnings(action = 'ignore')\n",
    "\n",
    "\n",
    "# 파일 로드위한 directory 확인 및 현재 경로로 설정\n",
    "import os\n",
    "a = os.getcwd()\n",
    "os.chdir(a)"
   ]
  },
  {
   "cell_type": "code",
   "execution_count": 2,
   "metadata": {
    "ExecuteTime": {
     "end_time": "2021-09-24T06:01:26.212638Z",
     "start_time": "2021-09-24T06:01:25.915218Z"
    }
   },
   "outputs": [],
   "source": [
    "df = pd.read_excel(\"일별_금은달러.xlsx\")"
   ]
  },
  {
   "cell_type": "code",
   "execution_count": 3,
   "metadata": {
    "ExecuteTime": {
     "end_time": "2021-09-24T06:01:26.242551Z",
     "start_time": "2021-09-24T06:01:26.215623Z"
    }
   },
   "outputs": [
    {
     "data": {
      "text/html": [
       "<div>\n",
       "<style scoped>\n",
       "    .dataframe tbody tr th:only-of-type {\n",
       "        vertical-align: middle;\n",
       "    }\n",
       "\n",
       "    .dataframe tbody tr th {\n",
       "        vertical-align: top;\n",
       "    }\n",
       "\n",
       "    .dataframe thead th {\n",
       "        text-align: right;\n",
       "    }\n",
       "</style>\n",
       "<table border=\"1\" class=\"dataframe\">\n",
       "  <thead>\n",
       "    <tr style=\"text-align: right;\">\n",
       "      <th></th>\n",
       "      <th>일자</th>\n",
       "      <th>금값</th>\n",
       "      <th>은값</th>\n",
       "      <th>달러 환율</th>\n",
       "    </tr>\n",
       "  </thead>\n",
       "  <tbody>\n",
       "    <tr>\n",
       "      <th>0</th>\n",
       "      <td>2020.08.07</td>\n",
       "      <td>78538.90</td>\n",
       "      <td>27.53</td>\n",
       "      <td>1188.5</td>\n",
       "    </tr>\n",
       "    <tr>\n",
       "      <th>1</th>\n",
       "      <td>2020.08.06</td>\n",
       "      <td>78009.22</td>\n",
       "      <td>28.39</td>\n",
       "      <td>1185.5</td>\n",
       "    </tr>\n",
       "    <tr>\n",
       "      <th>2</th>\n",
       "      <td>2020.08.05</td>\n",
       "      <td>77748.00</td>\n",
       "      <td>26.88</td>\n",
       "      <td>1188.0</td>\n",
       "    </tr>\n",
       "    <tr>\n",
       "      <th>3</th>\n",
       "      <td>2020.08.04</td>\n",
       "      <td>75873.57</td>\n",
       "      <td>26.01</td>\n",
       "      <td>1194.5</td>\n",
       "    </tr>\n",
       "    <tr>\n",
       "      <th>4</th>\n",
       "      <td>2020.08.03</td>\n",
       "      <td>75761.76</td>\n",
       "      <td>24.39</td>\n",
       "      <td>1195.7</td>\n",
       "    </tr>\n",
       "  </tbody>\n",
       "</table>\n",
       "</div>"
      ],
      "text/plain": [
       "           일자        금값     은값   달러 환율\n",
       "0  2020.08.07  78538.90  27.53  1188.5\n",
       "1  2020.08.06  78009.22  28.39  1185.5\n",
       "2  2020.08.05  77748.00  26.88  1188.0\n",
       "3  2020.08.04  75873.57  26.01  1194.5\n",
       "4  2020.08.03  75761.76  24.39  1195.7"
      ]
     },
     "execution_count": 3,
     "metadata": {},
     "output_type": "execute_result"
    }
   ],
   "source": [
    "df.head()"
   ]
  },
  {
   "cell_type": "code",
   "execution_count": 4,
   "metadata": {
    "ExecuteTime": {
     "end_time": "2021-09-24T06:01:26.257486Z",
     "start_time": "2021-09-24T06:01:26.244521Z"
    }
   },
   "outputs": [],
   "source": [
    "# 일자 기준으로 오름차순 정렬\n",
    "df.sort_values(by = '일자', inplace = True)"
   ]
  },
  {
   "cell_type": "code",
   "execution_count": 5,
   "metadata": {
    "ExecuteTime": {
     "end_time": "2021-09-24T06:01:26.574854Z",
     "start_time": "2021-09-24T06:01:26.261475Z"
    }
   },
   "outputs": [],
   "source": [
    "# 그래프 기본 설정\n",
    "from matplotlib import pyplot as plt\n",
    "import numpy as np\n",
    "\n",
    "# magic 키워드로 한 셀에 여러개 그래프 자동 출력\n",
    "%matplotlib inline \n",
    "plt.rcParams[\"font.family\"] = 'Malgun Gothic'\n",
    "plt.rcParams[\"font.size\"] = 20\n",
    "plt.rcParams[\"figure.figsize\"] = (10, 8)"
   ]
  },
  {
   "cell_type": "code",
   "execution_count": 6,
   "metadata": {
    "ExecuteTime": {
     "end_time": "2021-09-24T06:01:26.784401Z",
     "start_time": "2021-09-24T06:01:26.576819Z"
    }
   },
   "outputs": [
    {
     "data": {
      "image/png": "[encoded data removed]",
      "text/plain": [
       "<Figure size 720x576 with 1 Axes>"
      ]
     },
     "metadata": {
      "needs_background": "light"
     },
     "output_type": "display_data"
    }
   ],
   "source": [
    "# 일자별 금값, 은값, 달러 환율 추이 시각화\n",
    "plt.scatter(df['일자'], df['금값']);\n",
    "plt.scatter(df['일자'], df['은값']);\n",
    "plt.scatter(df['일자'], df['달러 환율']);\n",
    "\n",
    "# Series()로 시각화한 경우 index가 위치, value가 label\n",
    "plt.xticks(df['일자'].iloc[::10]); # 10일 단위로 표시"
   ]
  },
  {
   "cell_type": "code",
   "execution_count": 7,
   "metadata": {
    "ExecuteTime": {
     "end_time": "2021-09-24T06:01:26.934035Z",
     "start_time": "2021-09-24T06:01:26.786396Z"
    }
   },
   "outputs": [
    {
     "data": {
      "image/png": "[encoded data removed]",
      "text/plain": [
       "<Figure size 720x576 with 1 Axes>"
      ]
     },
     "metadata": {
      "needs_background": "light"
     },
     "output_type": "display_data"
    }
   ],
   "source": [
    "# 일자별 은값, 달러 환율 추이만 다시 시각화\n",
    "plt.scatter(df['일자'], df['은값']);\n",
    "plt.scatter(df['일자'], df['달러 환율']);\n",
    "\n",
    "# Series()로 시각화한 경우 index가 위치, value가 label\n",
    "plt.xticks(df['일자'].iloc[::10]); # 10일 단위로 표시"
   ]
  },
  {
   "cell_type": "markdown",
   "metadata": {},
   "source": [
    "## 금값과 은값의 상관관계 시각화"
   ]
  },
  {
   "cell_type": "code",
   "execution_count": 8,
   "metadata": {
    "ExecuteTime": {
     "end_time": "2021-09-24T06:01:27.098679Z",
     "start_time": "2021-09-24T06:01:26.935996Z"
    }
   },
   "outputs": [
    {
     "data": {
      "text/plain": [
       "<matplotlib.collections.PathCollection at 0x251269cae50>"
      ]
     },
     "execution_count": 8,
     "metadata": {},
     "output_type": "execute_result"
    },
    {
     "data": {
      "image/png": "[encoded data removed]",
      "text/plain": [
       "<Figure size 720x576 with 1 Axes>"
      ]
     },
     "metadata": {
      "needs_background": "light"
     },
     "output_type": "display_data"
    }
   ],
   "source": [
    "# 금값과 은값의 상관관계 scatter plot으로 시각화\n",
    "plt.scatter(df['금값'], df['은값'])"
   ]
  },
  {
   "cell_type": "markdown",
   "metadata": {},
   "source": [
    "- 금값이 증가함에 따라 은값도 증가하는 모양새를 보인다.\n",
    "- 상관계수를 확인해 봐야겠지만, 그래프 상으로는 두 변수 사이에 선형 관계가 있어 보인다."
   ]
  },
  {
   "cell_type": "code",
   "execution_count": 9,
   "metadata": {
    "ExecuteTime": {
     "end_time": "2021-09-24T06:01:27.652309Z",
     "start_time": "2021-09-24T06:01:27.100673Z"
    }
   },
   "outputs": [
    {
     "data": {
      "text/plain": [
       "array([[<AxesSubplot:xlabel='금값', ylabel='금값'>,\n",
       "        <AxesSubplot:xlabel='은값', ylabel='금값'>,\n",
       "        <AxesSubplot:xlabel='달러 환율', ylabel='금값'>],\n",
       "       [<AxesSubplot:xlabel='금값', ylabel='은값'>,\n",
       "        <AxesSubplot:xlabel='은값', ylabel='은값'>,\n",
       "        <AxesSubplot:xlabel='달러 환율', ylabel='은값'>],\n",
       "       [<AxesSubplot:xlabel='금값', ylabel='달러 환율'>,\n",
       "        <AxesSubplot:xlabel='은값', ylabel='달러 환율'>,\n",
       "        <AxesSubplot:xlabel='달러 환율', ylabel='달러 환율'>]], dtype=object)"
      ]
     },
     "execution_count": 9,
     "metadata": {},
     "output_type": "execute_result"
    },
    {
     "data": {
      "image/png": "[encoded data removed]",
      "text/plain": [
       "<Figure size 720x576 with 9 Axes>"
      ]
     },
     "metadata": {
      "needs_background": "light"
     },
     "output_type": "display_data"
    }
   ],
   "source": [
    "# pandas scatter_matrix로 df상에 각 변수별 scatter plot을 그리는 함수\n",
    "pd.plotting.scatter_matrix(df.drop('일자', axis = 1))"
   ]
  },
  {
   "cell_type": "markdown",
   "metadata": {},
   "source": [
    "# 피어슨 상관계수 \n",
    "- scipy.stats.pearsonr(x, y)\n",
    "- 결과는 (statistics, pvalue) 형태로 출력\n",
    "- statistics : 피어슨 상관계수\n",
    "- pvalue : 0.05 미만이면 두 변수간 유의한 상관관계가 있다고 판단한다."
   ]
  },
  {
   "cell_type": "code",
   "execution_count": 10,
   "metadata": {
    "ExecuteTime": {
     "end_time": "2021-09-24T06:01:28.161255Z",
     "start_time": "2021-09-24T06:01:27.654275Z"
    }
   },
   "outputs": [
    {
     "name": "stdout",
     "output_type": "stream",
     "text": [
      "(0.9718640116033496, 7.508878356557318e-18)\n",
      "(-0.6793266264341937, 7.033325258452259e-05)\n",
      "(-0.6954569556203559, 3.989042061957972e-05)\n"
     ]
    }
   ],
   "source": [
    "from scipy.stats import *\n",
    "print(pearsonr(df['금값'], df['은값']))\n",
    "print(pearsonr(df['금값'], df['달러 환율']))\n",
    "print(pearsonr(df['은값'], df['달러 환율']))"
   ]
  },
  {
   "cell_type": "markdown",
   "metadata": {},
   "source": [
    "- 금값 <-> 은값은 statistics가 0.97로 (1에 매우 가깝다) 강한 양의 선형 관계를 보인다.\n",
    "    - 또한, pvalue가 0에 근사하므로 두 변수간의 상관관계는 유의하다.\n",
    "    - 즉, 금값이 증가하면 은값도 증가한다. (vice versa)\n",
    "---\n",
    "\n",
    "- 금값 <-> 달러환율 & 은값 <-> 달러 환율은 statistics가 약 -0.7로 음의 상관관계를 보인다.\n",
    "    - pvalue도 0에 근사하므로 두 변수간의 상관관계는 유의하다.\n",
    "    - 이 경우 금값과 은값이 증가하면 달러 환율이 하락한다. 고 해석할 수 있다."
   ]
  },
  {
   "cell_type": "markdown",
   "metadata": {},
   "source": [
    "## 변수별 상관관계 확인(feat.변수가 많을때)"
   ]
  },
  {
   "cell_type": "code",
   "execution_count": 11,
   "metadata": {
    "ExecuteTime": {
     "end_time": "2021-09-24T06:01:28.176113Z",
     "start_time": "2021-09-24T06:01:28.163120Z"
    }
   },
   "outputs": [
    {
     "name": "stdout",
     "output_type": "stream",
     "text": [
      "금값 ~ 은값: coef:0.9718640116033496, p-value: 7.508878356557318e-18\n",
      "금값 ~ 달러 환율: coef:-0.6793266264341937, p-value: 7.033325258452259e-05\n",
      "은값 ~ 달러 환율: coef:-0.6954569556203559, p-value: 3.989042061957972e-05\n"
     ]
    }
   ],
   "source": [
    "# 아래와 같이 for문을 활용해 모든 변수간 조합을 만들어서 corr()을 측정할 수 있다.\n",
    "import itertools\n",
    "target_columns = ['금값', '은값', '달러 환율']\n",
    "for col1, col2 in itertools.combinations(target_columns, 2): # target_column에서 2개씩 뽑기\n",
    "    result = pearsonr(df[col1], df[col2]) # pearson 상관계수 구하기\n",
    "    print(\"{} ~ {}: coef:{}, p-value: {}\".format(col1, col2, result[0], result[1]))\n",
    "    # result[0] : statistics\n",
    "    # result[1] : pvalue"
   ]
  },
  {
   "cell_type": "markdown",
   "metadata": {},
   "source": [
    "# 스피어만 상관계수\n",
    "---\n",
    "\n",
    "- scipy.stats.spearmanr(x, y)\n",
    "- 결과는 (statistics, pvalue) 형태로 출력\n",
    "- statistics : 스피어만 상관계수\n",
    "- pvalue : 0.05미만일 경우 유의한 상관성이 있다고 판단 한다."
   ]
  },
  {
   "cell_type": "code",
   "execution_count": 12,
   "metadata": {
    "ExecuteTime": {
     "end_time": "2021-09-24T06:01:28.206682Z",
     "start_time": "2021-09-24T06:01:28.180074Z"
    }
   },
   "outputs": [
    {
     "name": "stdout",
     "output_type": "stream",
     "text": [
      "금값 ~ 은값: coef:0.9711235892228813, p-value: 1.0481280432981455e-17\n",
      "금값 ~ 달러 환율: coef:-0.5039075855936102, p-value: 0.006257468267109453\n",
      "은값 ~ 달러 환율: coef:-0.528106006718531, p-value: 0.003869997604824081\n"
     ]
    }
   ],
   "source": [
    "import itertools\n",
    "target_columns = ['금값', '은값', '달러 환율']\n",
    "for col1, col2 in itertools.combinations(target_columns, 2):\n",
    "    result = spearmanr(df[col1], df[col2]) # spearman 상관계수 구하기\n",
    "    print(\"{} ~ {}: coef:{}, p-value: {}\".format(col1, col2, result[0], result[1]))"
   ]
  },
  {
   "cell_type": "markdown",
   "metadata": {},
   "source": [
    "- 선형관계는 pearson 과 다르지 않지만, 수치에 다소 차이가 있다.\n",
    "- 이 경우 해당 데이터는 일반적인 선형관계에 비해 '순위'에 대해서는 상관관계가 크게 존재하지 않음을 알 수 있다."
   ]
  },
  {
   "cell_type": "markdown",
   "metadata": {},
   "source": [
    "# 상관 행렬\n",
    "---\n",
    "- 데이터 프레임내에서 각 컬럼사이의 상관계수를 행렬로 표현할때 사용\n",
    "- DataFrame.corr(method)\n",
    "    - method : pearson, spearman 둘중 하나 필요한 측정 방식을 입력"
   ]
  },
  {
   "cell_type": "code",
   "execution_count": 13,
   "metadata": {
    "ExecuteTime": {
     "end_time": "2021-09-24T06:01:28.221644Z",
     "start_time": "2021-09-24T06:01:28.208706Z"
    }
   },
   "outputs": [
    {
     "data": {
      "text/html": [
       "<div>\n",
       "<style scoped>\n",
       "    .dataframe tbody tr th:only-of-type {\n",
       "        vertical-align: middle;\n",
       "    }\n",
       "\n",
       "    .dataframe tbody tr th {\n",
       "        vertical-align: top;\n",
       "    }\n",
       "\n",
       "    .dataframe thead th {\n",
       "        text-align: right;\n",
       "    }\n",
       "</style>\n",
       "<table border=\"1\" class=\"dataframe\">\n",
       "  <thead>\n",
       "    <tr style=\"text-align: right;\">\n",
       "      <th></th>\n",
       "      <th>금값</th>\n",
       "      <th>은값</th>\n",
       "      <th>달러 환율</th>\n",
       "    </tr>\n",
       "  </thead>\n",
       "  <tbody>\n",
       "    <tr>\n",
       "      <th>금값</th>\n",
       "      <td>1.000000</td>\n",
       "      <td>0.971864</td>\n",
       "      <td>-0.679327</td>\n",
       "    </tr>\n",
       "    <tr>\n",
       "      <th>은값</th>\n",
       "      <td>0.971864</td>\n",
       "      <td>1.000000</td>\n",
       "      <td>-0.695457</td>\n",
       "    </tr>\n",
       "    <tr>\n",
       "      <th>달러 환율</th>\n",
       "      <td>-0.679327</td>\n",
       "      <td>-0.695457</td>\n",
       "      <td>1.000000</td>\n",
       "    </tr>\n",
       "  </tbody>\n",
       "</table>\n",
       "</div>"
      ],
      "text/plain": [
       "             금값        은값     달러 환율\n",
       "금값     1.000000  0.971864 -0.679327\n",
       "은값     0.971864  1.000000 -0.695457\n",
       "달러 환율 -0.679327 -0.695457  1.000000"
      ]
     },
     "execution_count": 13,
     "metadata": {},
     "output_type": "execute_result"
    }
   ],
   "source": [
    "df.drop('일자', axis = 1).corr(method = 'pearson')"
   ]
  },
  {
   "cell_type": "code",
   "execution_count": 14,
   "metadata": {
    "ExecuteTime": {
     "end_time": "2021-09-24T06:01:28.251565Z",
     "start_time": "2021-09-24T06:01:28.223636Z"
    }
   },
   "outputs": [
    {
     "data": {
      "text/html": [
       "<div>\n",
       "<style scoped>\n",
       "    .dataframe tbody tr th:only-of-type {\n",
       "        vertical-align: middle;\n",
       "    }\n",
       "\n",
       "    .dataframe tbody tr th {\n",
       "        vertical-align: top;\n",
       "    }\n",
       "\n",
       "    .dataframe thead th {\n",
       "        text-align: right;\n",
       "    }\n",
       "</style>\n",
       "<table border=\"1\" class=\"dataframe\">\n",
       "  <thead>\n",
       "    <tr style=\"text-align: right;\">\n",
       "      <th></th>\n",
       "      <th>금값</th>\n",
       "      <th>은값</th>\n",
       "      <th>달러 환율</th>\n",
       "    </tr>\n",
       "  </thead>\n",
       "  <tbody>\n",
       "    <tr>\n",
       "      <th>금값</th>\n",
       "      <td>1.000000</td>\n",
       "      <td>0.971124</td>\n",
       "      <td>-0.503908</td>\n",
       "    </tr>\n",
       "    <tr>\n",
       "      <th>은값</th>\n",
       "      <td>0.971124</td>\n",
       "      <td>1.000000</td>\n",
       "      <td>-0.528106</td>\n",
       "    </tr>\n",
       "    <tr>\n",
       "      <th>달러 환율</th>\n",
       "      <td>-0.503908</td>\n",
       "      <td>-0.528106</td>\n",
       "      <td>1.000000</td>\n",
       "    </tr>\n",
       "  </tbody>\n",
       "</table>\n",
       "</div>"
      ],
      "text/plain": [
       "             금값        은값     달러 환율\n",
       "금값     1.000000  0.971124 -0.503908\n",
       "은값     0.971124  1.000000 -0.528106\n",
       "달러 환율 -0.503908 -0.528106  1.000000"
      ]
     },
     "execution_count": 14,
     "metadata": {},
     "output_type": "execute_result"
    }
   ],
   "source": [
    "df.drop('일자', axis = 1).corr(method = 'spearman')"
   ]
  }
 ],
 "metadata": {
  "kernelspec": {
   "display_name": "Python 3 (ipykernel)",
   "language": "python",
   "name": "python3"
  },
  "language_info": {
   "codemirror_mode": {
    "name": "ipython",
    "version": 3
   },
   "file_extension": ".py",
   "mimetype": "text/x-python",
   "name": "python",
   "nbconvert_exporter": "python",
   "pygments_lexer": "ipython3",
   "version": "3.8.5"
  },
  "toc": {
   "base_numbering": 1,
   "nav_menu": {},
   "number_sections": true,
   "sideBar": true,
   "skip_h1_title": false,
   "title_cell": "Table of Contents",
   "title_sidebar": "Contents",
   "toc_cell": false,
   "toc_position": {},
   "toc_section_display": true,
   "toc_window_display": false
  },
  "varInspector": {
   "cols": {
    "lenName": 16,
    "lenType": 16,
    "lenVar": 40
   },
   "kernels_config": {
    "python": {
     "delete_cmd_postfix": "",
     "delete_cmd_prefix": "del ",
     "library": "var_list.py",
     "varRefreshCmd": "print(var_dic_list())"
    },
    "r": {
     "delete_cmd_postfix": ") ",
     "delete_cmd_prefix": "rm(",
     "library": "var_list.r",
     "varRefreshCmd": "cat(var_dic_list()) "
    }
   },
   "types_to_exclude": [
    "module",
    "function",
    "builtin_function_or_method",
    "instance",
    "_Feature"
   ],
   "window_display": false
  }
 },
 "nbformat": 4,
 "nbformat_minor": 4
}
