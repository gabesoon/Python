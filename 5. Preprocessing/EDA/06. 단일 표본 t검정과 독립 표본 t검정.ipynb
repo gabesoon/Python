{
 "cells": [
  {
   "cell_type": "markdown",
   "metadata": {},
   "source": [
    "# 단일 표본 t 검정\n",
    "---\n",
    "\n",
    "- 단일 표본 t-검정의 목적 : 그룹의 평균이 기준값과 차이가 있는지 확인하기 위함<br><br>\n",
    "    - 기초적인 A/B 테스트할때 사용된다. (데이터가 수치형이어야 함)<br><br>\n",
    "   \n",
    "## 영 가설과 대립가설\n",
    "\n",
    "- 영 가설 : 데이터(그룹)가 갖고 있는 값의 평균이 기준값과 같다.<br><br>\n",
    "    - $H_0 : \\bar{x} = \\mu $ ($\\bar{x}: 표본평균, \\mu : 기준 값$)<br><br>\n",
    "- 대립 가설 : <br><br>\n",
    "    - $H_1 : \\bar{x} > \\mu$ : 데이터(그룹)가 갖고 있는 값의 평균이 기준값보다 크다.<br><br>\n",
    "    - $H_1 : \\bar{x} < \\mu$ : 데이터(그룹)가 갖고 있는 값의 평균이 기준값보다 작다.<br><br>\n",
    "    \n",
    "<t-검정 영가설 설정의 예시><br><br>\n",
    "- 회사에서 운영중인 웹사이트에서 고객이 웹사이트에 체류하는 시간의 평균이 10분인지 확인하고 싶다.<br><br>\n",
    "    - 영 가설 : $H_0 : \\bar{x} = 10$<br><br>\n",
    "    - 대립 가설 : $H_0 : \\bar{x} \\neq 10$<br><br>\n",
    "    \n",
    "---"
   ]
  },
  {
   "cell_type": "markdown",
   "metadata": {},
   "source": [
    "# 단일 표본 t-검정의 선행 조건\n",
    "---\n",
    "\n",
    "- (데이터가) 정규분포를 따라야 한다.<br><br>\n",
    "- KS(Kolmogorov-Smornov) 테스트 혹은 SW(Shapiro-Wilk)테스트를 통한 정규성 검정이 선행되어야 한다.<br><br>\n",
    "\n",
    "- 일반적으론 샘플수가 많을 수록 정규성을 띌 가능성이 높다. (보통 30개 이상을 기준으로 삼음)<br><br>\n",
    "\n",
    "- 따라서 샘플 수가 부족한 경우만 정규성 검정을 시행한다.<br><br>\n",
    "\n",
    "    - 해당 데이터가 정규성을 띄지 않을 경우<br><br>\n",
    "\n",
    "    - 부호검정(sing test) 나 윌콕슨 부호 - 순위 검정을 수행해야 한다. <br><br>\n",
    "\n",
    "- python에서 해당 검증을 구현하는 방식은 아래에 설명"
   ]
  },
  {
   "cell_type": "markdown",
   "metadata": {},
   "source": [
    "# 단일 표본 t-검정 통계량\n",
    "---\n",
    "\n",
    "- 검정 통계량 : 영 가설을 세운 관심 부분에 대한 차이 또는 효과를 측정하기 위한 지표<br><br>\n",
    "\n",
    "- 단일 표본 t-검정 공식\n",
    "\n",
    "# $t = \\bar{x} - \\mu \\over s/  \\sqrt{n}$\n",
    "\n",
    "\n",
    "$\\bar{x} : 표본 평균, \\mu : 기준값, n : 표본 수, s : 표본 표준 편차$\n",
    "\n",
    "\n",
    "- t-검정 통계량(의 절대값) 이 커질 수록 유의확률(p-value)이 줄어든다.<br><br>\n",
    "    - 표본 평균과 기준값의 차이가 클수록 t-검정 통계량(의 절대값)이 커진다.<br><br>\n",
    "    - s 가 커질 수록 t-검정 통계량의 절대값이 작아진다.<br><br>\n",
    "    - n 가 커질 수록 t-검정 통계량의 절대값이 커진다.<br><br>\n",
    "    \n",
    "- 즉,\n",
    "    - 표본 평균과 기준값의 차이가 크면 클수록 <br><br>\n",
    "    - 표본 표준 편차(s)가 작으면 작을 수록<br><br>\n",
    "    - 표본 수(데이터의 수, 보통 30이상이면 충분하다 간주) 가 많으면 많을 수록<br><br>\n",
    "- **t-검정 통계량의 영 가설이 기각될 가능성이 높아진다.**<br><br>"
   ]
  },
  {
   "cell_type": "markdown",
   "metadata": {},
   "source": [
    "# 단일 표본 t-검정 (시각화)\n",
    "---\n",
    "\n",
    "- 위의 t-검정 통계량을 t분포를 시각화한 그래프에 위치시켜 봄으로서 p-value를 계산할 수 있다.\n",
    "\n",
    "\n",
    "$H_1 : \\bar{x} > \\mu$\n",
    "![image](https://user-images.githubusercontent.com/74717033/134505498-9d703b96-4686-4395-a77e-32fbf423b16b.png)\n",
    "\n",
    "---\n",
    "$H_1 : \\bar{x} < \\mu$\n",
    "![image](https://user-images.githubusercontent.com/74717033/134505533-be470078-a972-457e-a69c-acef111152e2.png)\n",
    "\n",
    "---\n",
    "$H_1 : \\bar{x} \\neq \\mu$\n",
    "![image](https://user-images.githubusercontent.com/74717033/134503350-42f1db60-021b-4329-b605-e14c7b7cde45.png)\n",
    "\n",
    "- 양측 검정의 경우 2가지 경우를 모두 포함하기에 p-value를 2로 나눈값으로 p-value를 확인한다."
   ]
  },
  {
   "cell_type": "markdown",
   "metadata": {},
   "source": [
    "# 단일 표본 t-검정 코드 구현\n",
    "\n",
    "- 정규성 검정은 일반적으로 Kolmogorov-Smornov test ( KS test) 라고 부른다.\n",
    "- 엄밀히 말해 KS test는 샘플들이 '특정분포'를 따르는 지 확인하는 것이 목적이다.\n",
    "    - 이를 활용해 그 '특정 분포' 를 '정규 분포' 로 지정할 뿐이다.\n",
    "- 즉, 특정 분포를 따르면 나올 것이라 예상되는 값과 실제 관측한 샘플 값의 차이가 유의한가를 검증하는 것\n",
    "---\n",
    "\n",
    "- 기본적인 검증 과정은\n",
    "    - 1) 데이터가 정규 분포를 따르는지 확인\n",
    "\n",
    "## 정규성 검정 (KS test)\n",
    "- scipy.stats.kstest(x,'norm')\n",
    "    - 'norm'이 정규분포를 의미\n",
    "- 결과는 result = (statistics, pvalue) 형태로 출력된다.\n",
    "    - pvalue값이 특정 수치(보통 0.005, 0.001) 미만 이면 정규성을 따른다고 판단한다.\n",
    "---"
   ]
  },
  {
   "cell_type": "code",
   "execution_count": 1,
   "metadata": {
    "ExecuteTime": {
     "end_time": "2021-09-23T12:24:31.720913Z",
     "start_time": "2021-09-23T12:24:31.705842Z"
    }
   },
   "outputs": [],
   "source": [
    "# 파일 로드위한 directory 확인 및 현재 경로로 설정\n",
    "import os\n",
    "a = os.getcwd()\n",
    "os.chdir(a)\n",
    "\n",
    "with open(\"성인여성_키_데이터.txt\", \"r\") as f:\n",
    "    data = f.read().split('\\n') # string 형태\n",
    "    data = list(map(float, data)) # map으로 각 string을 float으로 변경"
   ]
  },
  {
   "cell_type": "code",
   "execution_count": 2,
   "metadata": {
    "ExecuteTime": {
     "end_time": "2021-09-23T12:24:32.133665Z",
     "start_time": "2021-09-23T12:24:32.122692Z"
    }
   },
   "outputs": [
    {
     "data": {
      "text/plain": [
       "[150.27, 142.94, 160.99]"
      ]
     },
     "execution_count": 2,
     "metadata": {},
     "output_type": "execute_result"
    }
   ],
   "source": [
    "# 데이터 살펴 보기\n",
    "data[:3]"
   ]
  },
  {
   "cell_type": "code",
   "execution_count": 3,
   "metadata": {
    "ExecuteTime": {
     "end_time": "2021-09-23T12:24:37.771337Z",
     "start_time": "2021-09-23T12:24:36.870314Z"
    }
   },
   "outputs": [
    {
     "data": {
      "text/plain": [
       "KstestResult(statistic=1.0, pvalue=0.0)"
      ]
     },
     "execution_count": 3,
     "metadata": {},
     "output_type": "execute_result"
    }
   ],
   "source": [
    "# 정규성 검정 (데이터가 정규 분포를 띄는가?!)\n",
    "from scipy.stats import *\n",
    "# from scipy.stats import kstest\n",
    "\n",
    "kstest(data, 'norm')"
   ]
  },
  {
   "cell_type": "markdown",
   "metadata": {},
   "source": [
    " **p-value가 0.0 < 0.05 이므로 정규성을 띈다고 판단.**"
   ]
  },
  {
   "cell_type": "markdown",
   "metadata": {},
   "source": [
    "## 단일 표본 t검정\n",
    "\n",
    "- scipy.stats.ttest_1samp(x, popmean)\n",
    "- popmean은 기준값 ($\\mu$)\n",
    "- result = (statistics, pvalue) 로 출력된다.\n",
    "    - statistics 가 양수 : x의 평균이 popmean보다 큰것\n",
    "    - statistics 가 음수 : x의 평균이 popmean보다 작은 것\n",
    "    - pvalue가 특정수치 미만이면 x는 popmean과 같지 않다고 판단한다."
   ]
  },
  {
   "cell_type": "code",
   "execution_count": 4,
   "metadata": {
    "ExecuteTime": {
     "end_time": "2021-09-23T12:26:59.401353Z",
     "start_time": "2021-09-23T12:26:59.387898Z"
    }
   },
   "outputs": [
    {
     "name": "stdout",
     "output_type": "stream",
     "text": [
      "Ttest_1sampResult(statistic=-2.979804412662668, pvalue=0.006510445335847954)\n"
     ]
    }
   ],
   "source": [
    "# 단일 표본 t 검정 수행\n",
    "print(ttest_1samp(data, 163)) "
   ]
  },
  {
   "cell_type": "markdown",
   "metadata": {},
   "source": [
    "- pvalue가 0.05 미만이므로 영가설 (data의 평균 == 163)을 기각한다.\n",
    "- 통계량이 음수이므로 data의 평균 < 163임을 알 수 있다."
   ]
  },
  {
   "cell_type": "markdown",
   "metadata": {},
   "source": [
    "## 윌콕슨 부호-순위 검정\n",
    "\n",
    "- 단일 표본 t-검정을 하지 못하는 경우 (= 데이터가 정규분포를 띄지 않을때)에 사용\n",
    "- scipy.stats.wilcoxon(x)\n",
    "    - t-test 함수와 달리 popmean을 설정할 수 없다. \n",
    "    - popmean은 자동으로 '중위값' 으로 설정된다.\n",
    "    - mean값이 설정되지 않는 이유는 t-검정 공식에서 알 수 있다.\n",
    "    - $t = \\bar{x} - \\mu \\over s/  \\sqrt{n}$ 에서 알 수 있듯이 popmean을 데이터의 평균으로 하면 분자값이 0이되어 검정을 할 수가 없다."
   ]
  },
  {
   "cell_type": "markdown",
   "metadata": {},
   "source": [
    "# 독립 표본 t 검정\n",
    "---\n",
    "\n",
    "- 목적 : 서로 다른 두 그룹의 데이터 평균을 비교하기 위함\n",
    "- 단일 표본 t검정에 비해 훨씬 많이 사용된다. "
   ]
  },
  {
   "cell_type": "markdown",
   "metadata": {},
   "source": [
    "# 영 가설과 대립 가설"
   ]
  },
  {
   "cell_type": "markdown",
   "metadata": {},
   "source": [
    "영 가설\n",
    "$H_0 : \\mu_a = \\mu_b$\n",
    "\n",
    "- $\\mu_a : 그룹 a의 표본 평균, \\mu_b : 그룹 b의 표본 평균$"
   ]
  },
  {
   "cell_type": "markdown",
   "metadata": {},
   "source": [
    "대립 가설\n",
    "$H_1 : \\mu_a > \\mu_b$ or $H_1 : \\mu_a < \\mu_b$"
   ]
  },
  {
   "cell_type": "markdown",
   "metadata": {},
   "source": [
    "<독립 표본 t검정 예시>\n",
    "\n",
    "- 2020년 7월 한달간 A 매장의 일별 판매량과 B매장의 일별 판매량에 대한 데이터다 있다. 이때 A매장과 B매장의 7월 판매량 간에 유의미한 차이가 있을까?"
   ]
  },
  {
   "cell_type": "markdown",
   "metadata": {},
   "source": [
    "# 독립 표본 t-검정의 선행 조건\n",
    "---\n",
    "\n",
    "- 독립성 : 두 그룹이 서로 독립적이어야 한다. (서로의 데이터 관측에 영향을 주지 않아야 한다.)<br><br>\n",
    "---\n",
    "- 정규성 : 데이터는 정규분포를 따라야 한다. (A, B 전체 데이터 기준)<br><br>\n",
    "    - 정규성을 따르지 않을 경우 비모수 검정인 Mann-Whitney검정을 수행한다.<br><br>\n",
    "---    \n",
    "<br><br>\n",
    "- 등분산성 : 두 그룹의 데이터에 대한 '분산이 같아야 한다.'<br><br>\n",
    "    - Levene의 등분산 검정으로 확인한다.<br><br>\n",
    "    - p-value가 0.05미만 이면 두 그룹의 분산이 서로 다르다고 판단한다.<br><br>\n",
    "    - 분산이 같은지 다른지에 따라 사용하는 통계량이 달라진다.<br><br>\n",
    "    - 파이썬 함수에서는 옵션만 바꿔주면 된다.<br><br>\n",
    "- 왜 두 그룹간의 분산이 같아야 할까?<br><br>\n",
    "    - 두 그룹의 분산이 다르면<br><br>\n",
    "    - 두 그룹의 평균이 다르다. 혹은 같다. 라는 결과가 나왔을때 분산에 영향을 받았을 것을 간과 할 수 없기 때문.<br><br>\n",
    "    - e.g) A그룹의 분산이 매우 크고, B그룹의 분산이 매우 작을 때 이를 t-검정 했다. 이때, 두 그룹의 차이가 유의하지 않다고 나온다면 ? (= 평균이 비슷하다면?)<br><br>\n",
    "   - 이는 단순히 한쪽의 분산이 커서 그런 결과가 나올 가능성이 존재하기 때문에 해당 결과를 신뢰하기 어렵다.<br><br>"
   ]
  },
  {
   "cell_type": "markdown",
   "metadata": {},
   "source": [
    "# 독립 표본 t-검정통계량 구하기\n",
    "---\n",
    "\n",
    "## 두 그룹의 분산이 같은 경우"
   ]
  },
  {
   "cell_type": "markdown",
   "metadata": {},
   "source": [
    "# t = $\\bar{x}_a - \\bar{x}_b \\over s/ \\sqrt{1\\over n_a} + \\sqrt{1\\over n_b}$\n",
    "\n",
    "- $x_a :그룹 A의 표본 평균, n_a : 그룹 A의 샘플 수$\n",
    "- $x_b : 그룹 B의 표본 평균, n_b : 그룹 B의 샘플 수, s : 통합 분산$\n",
    "---\n",
    "\n",
    "- 두 그룹의 표본 평균 차이가 0이면 t의 절대값은 0이 된다.\n",
    "- 두 그룹의 표본 평균 차이가 크면 클 수록 t의 절대값이 커진다."
   ]
  },
  {
   "cell_type": "markdown",
   "metadata": {},
   "source": [
    "# s = $ \\sqrt{(n_a -1) \\times s^2_a + (n_b -1)s^2_b \\over n_a + n_b -2 )}$"
   ]
  },
  {
   "cell_type": "markdown",
   "metadata": {},
   "source": [
    "- $s_a : 그룹 A의 표준 편차, s_b : 그룹 B의 표준 편차$"
   ]
  },
  {
   "cell_type": "markdown",
   "metadata": {},
   "source": [
    "## 두 그룹의 분산이 다른 경우"
   ]
  },
  {
   "cell_type": "markdown",
   "metadata": {},
   "source": [
    "# $t = \\bar{x}_a - \\bar{x}_b \\over s$"
   ]
  },
  {
   "cell_type": "markdown",
   "metadata": {},
   "source": [
    "# s = $\\sqrt{s^2_a\\over n_a} + \\sqrt{s^2_b\\over n_b}$"
   ]
  },
  {
   "cell_type": "markdown",
   "metadata": {},
   "source": [
    "두 경우 구조는 동일하다. 다만 분모에 들어가는 S의 값이 다르다."
   ]
  },
  {
   "cell_type": "markdown",
   "metadata": {},
   "source": [
    "# 독립 표본 t-검정 코드 구현\n",
    "- A, B 두 반 사이에 점수차이가 있는지를 실습\n",
    "- type 1과 type2 의 데이터 유형이 존재 각 유형별로 전처리 과정이 다름."
   ]
  },
  {
   "cell_type": "code",
   "execution_count": 20,
   "metadata": {
    "ExecuteTime": {
     "end_time": "2021-09-23T14:31:49.906773Z",
     "start_time": "2021-09-23T14:31:49.892810Z"
    }
   },
   "outputs": [
    {
     "data": {
      "text/html": [
       "<div>\n",
       "<style scoped>\n",
       "    .dataframe tbody tr th:only-of-type {\n",
       "        vertical-align: middle;\n",
       "    }\n",
       "\n",
       "    .dataframe tbody tr th {\n",
       "        vertical-align: top;\n",
       "    }\n",
       "\n",
       "    .dataframe thead th {\n",
       "        text-align: right;\n",
       "    }\n",
       "</style>\n",
       "<table border=\"1\" class=\"dataframe\">\n",
       "  <thead>\n",
       "    <tr style=\"text-align: right;\">\n",
       "      <th></th>\n",
       "      <th>반</th>\n",
       "      <th>점수</th>\n",
       "    </tr>\n",
       "  </thead>\n",
       "  <tbody>\n",
       "    <tr>\n",
       "      <th>0</th>\n",
       "      <td>A</td>\n",
       "      <td>73</td>\n",
       "    </tr>\n",
       "    <tr>\n",
       "      <th>1</th>\n",
       "      <td>A</td>\n",
       "      <td>69</td>\n",
       "    </tr>\n",
       "    <tr>\n",
       "      <th>2</th>\n",
       "      <td>A</td>\n",
       "      <td>71</td>\n",
       "    </tr>\n",
       "    <tr>\n",
       "      <th>3</th>\n",
       "      <td>A</td>\n",
       "      <td>71</td>\n",
       "    </tr>\n",
       "    <tr>\n",
       "      <th>4</th>\n",
       "      <td>A</td>\n",
       "      <td>73</td>\n",
       "    </tr>\n",
       "    <tr>\n",
       "      <th>5</th>\n",
       "      <td>A</td>\n",
       "      <td>67</td>\n",
       "    </tr>\n",
       "    <tr>\n",
       "      <th>6</th>\n",
       "      <td>A</td>\n",
       "      <td>73</td>\n",
       "    </tr>\n",
       "    <tr>\n",
       "      <th>7</th>\n",
       "      <td>A</td>\n",
       "      <td>69</td>\n",
       "    </tr>\n",
       "    <tr>\n",
       "      <th>8</th>\n",
       "      <td>A</td>\n",
       "      <td>62</td>\n",
       "    </tr>\n",
       "    <tr>\n",
       "      <th>9</th>\n",
       "      <td>A</td>\n",
       "      <td>74</td>\n",
       "    </tr>\n",
       "    <tr>\n",
       "      <th>10</th>\n",
       "      <td>A</td>\n",
       "      <td>68</td>\n",
       "    </tr>\n",
       "    <tr>\n",
       "      <th>11</th>\n",
       "      <td>A</td>\n",
       "      <td>66</td>\n",
       "    </tr>\n",
       "    <tr>\n",
       "      <th>12</th>\n",
       "      <td>A</td>\n",
       "      <td>70</td>\n",
       "    </tr>\n",
       "    <tr>\n",
       "      <th>13</th>\n",
       "      <td>A</td>\n",
       "      <td>82</td>\n",
       "    </tr>\n",
       "    <tr>\n",
       "      <th>14</th>\n",
       "      <td>A</td>\n",
       "      <td>70</td>\n",
       "    </tr>\n",
       "    <tr>\n",
       "      <th>15</th>\n",
       "      <td>A</td>\n",
       "      <td>65</td>\n",
       "    </tr>\n",
       "    <tr>\n",
       "      <th>16</th>\n",
       "      <td>A</td>\n",
       "      <td>76</td>\n",
       "    </tr>\n",
       "    <tr>\n",
       "      <th>17</th>\n",
       "      <td>A</td>\n",
       "      <td>73</td>\n",
       "    </tr>\n",
       "    <tr>\n",
       "      <th>18</th>\n",
       "      <td>A</td>\n",
       "      <td>58</td>\n",
       "    </tr>\n",
       "    <tr>\n",
       "      <th>19</th>\n",
       "      <td>A</td>\n",
       "      <td>81</td>\n",
       "    </tr>\n",
       "    <tr>\n",
       "      <th>20</th>\n",
       "      <td>B</td>\n",
       "      <td>63</td>\n",
       "    </tr>\n",
       "    <tr>\n",
       "      <th>21</th>\n",
       "      <td>B</td>\n",
       "      <td>56</td>\n",
       "    </tr>\n",
       "    <tr>\n",
       "      <th>22</th>\n",
       "      <td>B</td>\n",
       "      <td>73</td>\n",
       "    </tr>\n",
       "    <tr>\n",
       "      <th>23</th>\n",
       "      <td>B</td>\n",
       "      <td>61</td>\n",
       "    </tr>\n",
       "    <tr>\n",
       "      <th>24</th>\n",
       "      <td>B</td>\n",
       "      <td>55</td>\n",
       "    </tr>\n",
       "    <tr>\n",
       "      <th>25</th>\n",
       "      <td>B</td>\n",
       "      <td>77</td>\n",
       "    </tr>\n",
       "    <tr>\n",
       "      <th>26</th>\n",
       "      <td>B</td>\n",
       "      <td>75</td>\n",
       "    </tr>\n",
       "    <tr>\n",
       "      <th>27</th>\n",
       "      <td>B</td>\n",
       "      <td>65</td>\n",
       "    </tr>\n",
       "    <tr>\n",
       "      <th>28</th>\n",
       "      <td>B</td>\n",
       "      <td>61</td>\n",
       "    </tr>\n",
       "    <tr>\n",
       "      <th>29</th>\n",
       "      <td>B</td>\n",
       "      <td>55</td>\n",
       "    </tr>\n",
       "  </tbody>\n",
       "</table>\n",
       "</div>"
      ],
      "text/plain": [
       "    반  점수\n",
       "0   A  73\n",
       "1   A  69\n",
       "2   A  71\n",
       "3   A  71\n",
       "4   A  73\n",
       "5   A  67\n",
       "6   A  73\n",
       "7   A  69\n",
       "8   A  62\n",
       "9   A  74\n",
       "10  A  68\n",
       "11  A  66\n",
       "12  A  70\n",
       "13  A  82\n",
       "14  A  70\n",
       "15  A  65\n",
       "16  A  76\n",
       "17  A  73\n",
       "18  A  58\n",
       "19  A  81\n",
       "20  B  63\n",
       "21  B  56\n",
       "22  B  73\n",
       "23  B  61\n",
       "24  B  55\n",
       "25  B  77\n",
       "26  B  75\n",
       "27  B  65\n",
       "28  B  61\n",
       "29  B  55"
      ]
     },
     "execution_count": 20,
     "metadata": {},
     "output_type": "execute_result"
    }
   ],
   "source": [
    "import pandas as pd\n",
    "df1 = pd.read_csv(\"반별_점수_type1.csv\", encoding='cp949')\n",
    "df1"
   ]
  },
  {
   "cell_type": "markdown",
   "metadata": {},
   "source": [
    "위와 같이 두 그룹의 데이터가 categorical로 하나의 컬럼에 입력되어 있는 경우를 type1 이라 한다."
   ]
  },
  {
   "cell_type": "code",
   "execution_count": 10,
   "metadata": {
    "ExecuteTime": {
     "end_time": "2021-09-23T14:19:58.905218Z",
     "start_time": "2021-09-23T14:19:58.884722Z"
    }
   },
   "outputs": [
    {
     "name": "stdout",
     "output_type": "stream",
     "text": [
      "[73 69 71 71 73 67 73 69 62 74 68 66 70 82 70 65 76 73 58 81]\n",
      "[63 56 73 61 55 77 75 65 61 55]\n"
     ]
    }
   ],
   "source": [
    "# 그룹 기준으로 데이터 나눠 담기\n",
    "# df1['점수'].loc[df1['반'] == 'A'] 까지하면 Series\n",
    "# scipy에서는 Series보다는 np.array형태가 더 적합\n",
    "group_A = df1['점수'].loc[df1['반'] == 'A'].values #np.array로 변형\n",
    "group_B = df1['점수'].loc[df1['반'] == 'B'].values\n",
    "\n",
    "print(group_A)\n",
    "print(group_B)"
   ]
  },
  {
   "cell_type": "markdown",
   "metadata": {},
   "source": [
    "## 정규성 검정 (KS test)\n",
    "- scipy.stats.ktest(x, 'norm') <- 단일 표본 t검정과 동일\n",
    "- pvalue가 특정 수치 미만이면 정규성을 따른다고 판단한다."
   ]
  },
  {
   "cell_type": "code",
   "execution_count": 11,
   "metadata": {
    "ExecuteTime": {
     "end_time": "2021-09-23T14:20:44.045600Z",
     "start_time": "2021-09-23T14:20:44.031644Z"
    }
   },
   "outputs": [
    {
     "name": "stdout",
     "output_type": "stream",
     "text": [
      "KstestResult(statistic=1.0, pvalue=0.0)\n",
      "KstestResult(statistic=1.0, pvalue=0.0)\n"
     ]
    }
   ],
   "source": [
    "# kstest를 이용한 정규성 검정: 모두 정규 분포를 띔을 확인\n",
    "print(kstest(group_A, 'norm'))\n",
    "print(kstest(group_B, 'norm'))"
   ]
  },
  {
   "cell_type": "markdown",
   "metadata": {},
   "source": [
    "- 둘다 pvalue가 0.0이다. \n",
    "- kstest에서 pvalue가 특정 수치( 0.05, 0.01) 미만이면 정규성을 따른다고 판단한다.\n",
    "- 그러므로, 두 그룹 모두 정규분포를 따르고 있다."
   ]
  },
  {
   "cell_type": "markdown",
   "metadata": {},
   "source": [
    "## 등분산성 검정\n",
    "- scipy.stats.levene(s1, s2, s3...)\n",
    "    - s1, s2...는 샘플을 배열 한 것 \n",
    "    - 실질적으로 독립 표본 t-검정 에서는 A,B 두그룹만을 비교하기에 A,B 만 입력한다.\n",
    "- pvalue가 특정 수치 미만이면 샘플간의 분산이 같지 않다고 판단 한다."
   ]
  },
  {
   "cell_type": "code",
   "execution_count": 12,
   "metadata": {
    "ExecuteTime": {
     "end_time": "2021-09-23T14:23:41.998201Z",
     "start_time": "2021-09-23T14:23:41.987436Z"
    }
   },
   "outputs": [
    {
     "data": {
      "text/plain": [
       "LeveneResult(statistic=2.033067087400979, pvalue=0.164964086222101)"
      ]
     },
     "execution_count": 12,
     "metadata": {},
     "output_type": "execute_result"
    }
   ],
   "source": [
    "# 등분산 검정\n",
    "levene(group_A, group_B)"
   ]
  },
  {
   "cell_type": "markdown",
   "metadata": {},
   "source": [
    "- pvalue가 0.16이다.\n",
    "- 즉, pvalue가 특정 수치 이상 = 두 샘플간의 분산이 같다. = 등분산이다."
   ]
  },
  {
   "cell_type": "code",
   "execution_count": 13,
   "metadata": {
    "ExecuteTime": {
     "end_time": "2021-09-23T14:25:09.219336Z",
     "start_time": "2021-09-23T14:25:09.200766Z"
    }
   },
   "outputs": [
    {
     "data": {
      "text/plain": [
       "32.26052631578948"
      ]
     },
     "execution_count": 13,
     "metadata": {},
     "output_type": "execute_result"
    }
   ],
   "source": [
    "# 그룹 A의 분산\n",
    "np.var(group_A, None, ddof=1)"
   ]
  },
  {
   "cell_type": "markdown",
   "metadata": {},
   "source": [
    "## 독립 표본 t-검정\n",
    "- scipy.stats.ttest_ind(a, b, equal_var)\n",
    "    - a,b : 두 그룹의 데이터\n",
    "    - equal_var : 등분산성 만족 여부 (bool)\n",
    "    - 등분산성 검정에서 pvalue가 특정 수치 이상일 경우 True / 미만이면 False 입력\n",
    "- stastistics  가 양수이면 A그룹의 평균이 더 크다고 판단. (음수 이면 B그룹의 평균이 더 크다고 판단.)\n",
    "- pvalue가 특정 수치 미만이면 A와 B의 평균이 '같지 않다' 고 판단 한다."
   ]
  },
  {
   "cell_type": "code",
   "execution_count": 14,
   "metadata": {
    "ExecuteTime": {
     "end_time": "2021-09-23T14:27:06.347259Z",
     "start_time": "2021-09-23T14:27:06.333552Z"
    }
   },
   "outputs": [
    {
     "name": "stdout",
     "output_type": "stream",
     "text": [
      "Ttest_indResult(statistic=2.5128526794964134, pvalue=0.01801095352893767)\n"
     ]
    }
   ],
   "source": [
    "print(ttest_ind(group_A, group_B, equal_var = True)) "
   ]
  },
  {
   "cell_type": "markdown",
   "metadata": {},
   "source": [
    "- stastistics가 2.5 (양수) 이므로 A그룹의 평균이 B그룹 보다 더 크다.\n",
    "- pvalue가 0.018 ( < 0.05) 이므로 A와 B의 평균은 '같지 않다' "
   ]
  },
  {
   "cell_type": "markdown",
   "metadata": {},
   "source": [
    "## Mann-Whitneyu 검정 \n",
    "- KS 테스트(정규성 검정) 을 만족하지 못했을때 사용\n",
    "- scipy.stats.mannwhitneyu(a,b)\n",
    "    - a,b : 두 그룹의 데이터\n",
    "    - result = (statistics, pvalue) 형태로 출력된다.\n",
    "- pvalue가 특정 수치 미만이면 A와 B의 평균이 '같지 않다' 고 판단 한다. (독립 표본 t검정의 판단 기준과 동일)"
   ]
  },
  {
   "cell_type": "markdown",
   "metadata": {},
   "source": [
    "### Type2 포맷의 데이터 처리"
   ]
  },
  {
   "cell_type": "code",
   "execution_count": 22,
   "metadata": {
    "ExecuteTime": {
     "end_time": "2021-09-23T14:33:47.159071Z",
     "start_time": "2021-09-23T14:33:47.148072Z"
    }
   },
   "outputs": [
    {
     "data": {
      "text/html": [
       "<div>\n",
       "<style scoped>\n",
       "    .dataframe tbody tr th:only-of-type {\n",
       "        vertical-align: middle;\n",
       "    }\n",
       "\n",
       "    .dataframe tbody tr th {\n",
       "        vertical-align: top;\n",
       "    }\n",
       "\n",
       "    .dataframe thead th {\n",
       "        text-align: right;\n",
       "    }\n",
       "</style>\n",
       "<table border=\"1\" class=\"dataframe\">\n",
       "  <thead>\n",
       "    <tr style=\"text-align: right;\">\n",
       "      <th></th>\n",
       "      <th>A반</th>\n",
       "      <th>B반</th>\n",
       "    </tr>\n",
       "  </thead>\n",
       "  <tbody>\n",
       "    <tr>\n",
       "      <th>0</th>\n",
       "      <td>73</td>\n",
       "      <td>63.0</td>\n",
       "    </tr>\n",
       "    <tr>\n",
       "      <th>1</th>\n",
       "      <td>69</td>\n",
       "      <td>56.0</td>\n",
       "    </tr>\n",
       "    <tr>\n",
       "      <th>2</th>\n",
       "      <td>71</td>\n",
       "      <td>73.0</td>\n",
       "    </tr>\n",
       "    <tr>\n",
       "      <th>3</th>\n",
       "      <td>71</td>\n",
       "      <td>61.0</td>\n",
       "    </tr>\n",
       "    <tr>\n",
       "      <th>4</th>\n",
       "      <td>73</td>\n",
       "      <td>55.0</td>\n",
       "    </tr>\n",
       "  </tbody>\n",
       "</table>\n",
       "</div>"
      ],
      "text/plain": [
       "   A반    B반\n",
       "0  73  63.0\n",
       "1  69  56.0\n",
       "2  71  73.0\n",
       "3  71  61.0\n",
       "4  73  55.0"
      ]
     },
     "execution_count": 22,
     "metadata": {},
     "output_type": "execute_result"
    }
   ],
   "source": [
    "df2 = pd.read_csv(\"반별_점수_type2.csv\", encoding='cp949')\n",
    "df2.head()"
   ]
  },
  {
   "cell_type": "markdown",
   "metadata": {},
   "source": [
    "- 기존의 type1과 달리 컬럼별로 각 그룹의 데이터가 분류 되어 있다.\n",
    "- 이러한 형태를 type2 라고 한다.\n",
    "- 이 경우 길이가 달라서 결측이 발생할 수 있으므로, 결측을 제거한 뒤 각 컬럼을 group_A와 group_B에 저장하는 방식으로 그룹을 나눠 준다."
   ]
  },
  {
   "cell_type": "code",
   "execution_count": 23,
   "metadata": {
    "ExecuteTime": {
     "end_time": "2021-09-23T14:34:38.512757Z",
     "start_time": "2021-09-23T14:34:38.499822Z"
    }
   },
   "outputs": [],
   "source": [
    "group_A = df2['A반'].dropna().values\n",
    "group_B = df2['B반'].dropna().values"
   ]
  },
  {
   "cell_type": "code",
   "execution_count": 26,
   "metadata": {
    "ExecuteTime": {
     "end_time": "2021-09-23T14:35:04.448243Z",
     "start_time": "2021-09-23T14:35:04.442259Z"
    }
   },
   "outputs": [
    {
     "data": {
      "text/plain": [
       "array([73, 69, 71, 71, 73], dtype=int64)"
      ]
     },
     "execution_count": 26,
     "metadata": {},
     "output_type": "execute_result"
    }
   ],
   "source": [
    "group_A[:5]"
   ]
  },
  {
   "cell_type": "code",
   "execution_count": 27,
   "metadata": {
    "ExecuteTime": {
     "end_time": "2021-09-23T14:35:09.729114Z",
     "start_time": "2021-09-23T14:35:09.722108Z"
    }
   },
   "outputs": [
    {
     "data": {
      "text/plain": [
       "array([63., 56., 73., 61., 55.])"
      ]
     },
     "execution_count": 27,
     "metadata": {},
     "output_type": "execute_result"
    }
   ],
   "source": [
    "group_B[:5]"
   ]
  }
 ],
 "metadata": {
  "kernelspec": {
   "display_name": "Python 3 (ipykernel)",
   "language": "python",
   "name": "python3"
  },
  "language_info": {
   "codemirror_mode": {
    "name": "ipython",
    "version": 3
   },
   "file_extension": ".py",
   "mimetype": "text/x-python",
   "name": "python",
   "nbconvert_exporter": "python",
   "pygments_lexer": "ipython3",
   "version": "3.8.5"
  },
  "toc": {
   "base_numbering": 1,
   "nav_menu": {},
   "number_sections": true,
   "sideBar": true,
   "skip_h1_title": false,
   "title_cell": "Table of Contents",
   "title_sidebar": "Contents",
   "toc_cell": false,
   "toc_position": {},
   "toc_section_display": true,
   "toc_window_display": false
  },
  "varInspector": {
   "cols": {
    "lenName": 16,
    "lenType": 16,
    "lenVar": 40
   },
   "kernels_config": {
    "python": {
     "delete_cmd_postfix": "",
     "delete_cmd_prefix": "del ",
     "library": "var_list.py",
     "varRefreshCmd": "print(var_dic_list())"
    },
    "r": {
     "delete_cmd_postfix": ") ",
     "delete_cmd_prefix": "rm(",
     "library": "var_list.r",
     "varRefreshCmd": "cat(var_dic_list()) "
    }
   },
   "types_to_exclude": [
    "module",
    "function",
    "builtin_function_or_method",
    "instance",
    "_Feature"
   ],
   "window_display": false
  }
 },
 "nbformat": 4,
 "nbformat_minor": 2
}
