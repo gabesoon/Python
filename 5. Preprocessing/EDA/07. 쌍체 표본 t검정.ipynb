{
 "cells": [
  {
   "cell_type": "markdown",
   "metadata": {},
   "source": [
    "# 쌍체 표본 t검정 \n",
    "---\n",
    "\n",
    "- 목적 : 특정 실험 및 조치등의 효과가 유의한지 확인하기 위해 하는 검정\n",
    "    - 일반적으로 실험전의 데이터와 실험후의 데이터를 비교하는 방식\n",
    "    \n",
    "    \n",
    "![image](https://user-images.githubusercontent.com/74717033/134606468-e1282542-b4ae-4c4d-b825-89873366e6d6.png)"
   ]
  },
  {
   "cell_type": "markdown",
   "metadata": {},
   "source": [
    " \n",
    "# 영 가설과 대립 가설\n",
    "---\n",
    "- $H_0 : d = 0$\n",
    "\n",
    "- $H_1 : d > 0 $ or $ d < 0 $ or $d \\neq 0$"
   ]
  },
  {
   "cell_type": "markdown",
   "metadata": {},
   "source": [
    "# 쌍체 표본 t-검정의 선행 조건\n",
    "---\n",
    "\n",
    "- 실험 전 & 후의 측정 값 (X, Y)가 정규분포를 따르지 않아도 된다. \n",
    "    - 당연히 정규분포를 따르는 것도 상관 없다.\n",
    "- 실험 전 & 후의 데이터에 샘플 수 ($n$)은 동일해야 한다.\n",
    "- 주의 해야 할 점은, 측정 값의 차이인 $d$ 는 정규성을 갖고 있어야 한다."
   ]
  },
  {
   "cell_type": "markdown",
   "metadata": {},
   "source": [
    "# 쌍체 표본 t-검정의 검정 통계량\n",
    "---\n",
    "\n",
    "# $t$=$\\bar{d}\\over s_d/ \\sqrt{n}$\n",
    "\n",
    "- $\\bar{d}$ : $d$의 표준 평균\n",
    "- $s_d$ : $d$의 표준 편차\n",
    "---\n",
    "\n",
    "- $\\bar{d}$ , 즉 X<->Y의 차이가 커질수록 t의 절대값이 커진다.\n",
    "- $s_d$ 가 커질 수록 t의 절대값이 작아진다."
   ]
  },
  {
   "cell_type": "markdown",
   "metadata": {},
   "source": [
    "# 쌍체 표본 t-검정 코드 구현\n",
    "---\n",
    "\n",
    "- 정규성 검정 (KS test)\n",
    "    - scipy.stats.kstest(x, 'norm')\n",
    "    - pvalue가 특정 수치 미만이면 정규성을 따른다고 판단\n",
    "\n",
    "\n",
    "- 쌍체 표본 t검정\n",
    "    - scipy.stats.ttest_rel(a,b)\n",
    "    - a는 실험 전 데이터, b는 실험 후 데이터\n",
    "    - a와 b는 반드시 길이가 같아야 한다. (= 표본수 n이 동일해야 한다.)\n",
    "    - pvalue가 특정 수치 미만이면 A그룹과 B그룹간의 차이가 존재한다고 판단.(= 실험 교과가 있다.)\n",
    "    - statistics가 양수 : 양의 효과 ($d > 0$)가 있다고 판단.\n",
    "    - statistics가 음수 : 음의 효과 ($d < 0$)가 있다고 판단."
   ]
  },
  {
   "cell_type": "code",
   "execution_count": null,
   "metadata": {},
   "outputs": [],
   "source": [
    "# 기초 전처리\n",
    "import pandas as pd\n",
    "import numpy as np\n",
    "\n",
    "# 시각화\n",
    "import matplotlib.pyplot as plt\n",
    "import seaborn as sns\n",
    "import folium\n",
    "import os\n",
    "\n",
    "# 캔버스 사이즈 적용\n",
    "plt.rcParams['figure.figsize'] = (12, 9)\n",
    "\n",
    "# 컬럼 전체 확인 가능하도록 출력 범위 설정\n",
    "pd.set_option('display.max_columns', 500)\n",
    "pd.set_option('display.width', 10000)\n",
    "\n",
    "# 불필요한 경고 표시 생략\n",
    "import warnings\n",
    "warnings.filterwarnings(action = 'ignore')\n",
    "\n",
    "# pandas 결과값의 표현 범위 소수점 2자리수로 변경\n",
    "pd.options.display.float_format = '{:.2f}'.format\n",
    "\n",
    "# 파일 로드위한 directory 확인 및 현재 경로로 설정\n",
    "a = os.getcwd()\n",
    "os.chdir(a)"
   ]
  },
  {
   "cell_type": "code",
   "execution_count": null,
   "metadata": {},
   "outputs": [],
   "source": []
  },
  {
   "cell_type": "code",
   "execution_count": 8,
   "metadata": {
    "ExecuteTime": {
     "end_time": "2021-09-24T02:05:02.143628Z",
     "start_time": "2021-09-24T02:05:02.132657Z"
    }
   },
   "outputs": [],
   "source": [
    "# 파일 로드위한 directory 확인 및 현재 경로로 설정\n",
    "import os\n",
    "a = os.getcwd()\n",
    "os.chdir(a)\n",
    "\n",
    "import pandas as pd\n",
    "# pandas 결과값의 표현 범위 소수점 2자리수로 변경\n",
    "pd.options.display.float_format = '{:.2f}'.format\n",
    "\n",
    "np.set_printoptions(formatter={'float_kind': lambda x: \"{0:0.3f}\".format(x)})"
   ]
  },
  {
   "cell_type": "code",
   "execution_count": 2,
   "metadata": {
    "ExecuteTime": {
     "end_time": "2021-09-24T02:02:43.163296Z",
     "start_time": "2021-09-24T02:02:43.144266Z"
    }
   },
   "outputs": [],
   "source": [
    "df = pd.read_csv(\"다이어트약_효과검증.csv\")"
   ]
  },
  {
   "cell_type": "code",
   "execution_count": 3,
   "metadata": {
    "ExecuteTime": {
     "end_time": "2021-09-24T02:02:44.566417Z",
     "start_time": "2021-09-24T02:02:44.549462Z"
    }
   },
   "outputs": [
    {
     "data": {
      "text/plain": [
       "Index(['다이어트전(kg)', '다이어트후(kg)'], dtype='object')"
      ]
     },
     "execution_count": 3,
     "metadata": {},
     "output_type": "execute_result"
    }
   ],
   "source": [
    "df.columns"
   ]
  },
  {
   "cell_type": "code",
   "execution_count": 4,
   "metadata": {
    "ExecuteTime": {
     "end_time": "2021-09-24T02:03:17.707538Z",
     "start_time": "2021-09-24T02:03:17.694601Z"
    }
   },
   "outputs": [],
   "source": [
    "before = df['다이어트전(kg)']\n",
    "after = df['다이어트후(kg)']"
   ]
  },
  {
   "cell_type": "code",
   "execution_count": 13,
   "metadata": {
    "ExecuteTime": {
     "end_time": "2021-09-24T02:07:29.618211Z",
     "start_time": "2021-09-24T02:07:29.602253Z"
    }
   },
   "outputs": [
    {
     "data": {
      "text/plain": [
       "KstestResult(statistic=0.7424620196514834, pvalue=7.04108433205159e-29)"
      ]
     },
     "execution_count": 13,
     "metadata": {},
     "output_type": "execute_result"
    }
   ],
   "source": [
    "# 정규성 검정\n",
    "from scipy.stats import *\n",
    "kstest(after - before, 'norm')"
   ]
  },
  {
   "cell_type": "markdown",
   "metadata": {
    "ExecuteTime": {
     "end_time": "2021-09-24T02:07:17.728081Z",
     "start_time": "2021-09-24T02:07:17.250327Z"
    }
   },
   "source": [
    "- pvalue가 0에 가깝다. = after - before ($d$)는 정규분포를 따른다.\n",
    "- 쌍수 표본 t-검정을 사용할 수 있다."
   ]
  },
  {
   "cell_type": "code",
   "execution_count": 14,
   "metadata": {
    "ExecuteTime": {
     "end_time": "2021-09-24T02:13:50.984164Z",
     "start_time": "2021-09-24T02:13:50.971165Z"
    }
   },
   "outputs": [
    {
     "data": {
      "text/plain": [
       "Ttest_relResult(statistic=9.70596986565785, pvalue=5.370404098342324e-13)"
      ]
     },
     "execution_count": 14,
     "metadata": {},
     "output_type": "execute_result"
    }
   ],
   "source": [
    "# 쌍체 표본 t-검정\n",
    "ttest_rel(before, after) # 확실한 양의 효과가 있음을 확인 "
   ]
  },
  {
   "cell_type": "markdown",
   "metadata": {},
   "source": [
    "- pvalue가 거의 0에 수렴한다. = 다이어트 약이 효과가 있다.\n",
    "- statistics 가 양수 = 약의 효과가 양의 효과 이다. (감량이 되는 정도 일듯)"
   ]
  }
 ],
 "metadata": {
  "kernelspec": {
   "display_name": "Python 3 (ipykernel)",
   "language": "python",
   "name": "python3"
  },
  "language_info": {
   "codemirror_mode": {
    "name": "ipython",
    "version": 3
   },
   "file_extension": ".py",
   "mimetype": "text/x-python",
   "name": "python",
   "nbconvert_exporter": "python",
   "pygments_lexer": "ipython3",
   "version": "3.8.5"
  },
  "toc": {
   "base_numbering": 1,
   "nav_menu": {},
   "number_sections": true,
   "sideBar": true,
   "skip_h1_title": false,
   "title_cell": "Table of Contents",
   "title_sidebar": "Contents",
   "toc_cell": false,
   "toc_position": {},
   "toc_section_display": true,
   "toc_window_display": false
  },
  "varInspector": {
   "cols": {
    "lenName": 16,
    "lenType": 16,
    "lenVar": 40
   },
   "kernels_config": {
    "python": {
     "delete_cmd_postfix": "",
     "delete_cmd_prefix": "del ",
     "library": "var_list.py",
     "varRefreshCmd": "print(var_dic_list())"
    },
    "r": {
     "delete_cmd_postfix": ") ",
     "delete_cmd_prefix": "rm(",
     "library": "var_list.r",
     "varRefreshCmd": "cat(var_dic_list()) "
    }
   },
   "types_to_exclude": [
    "module",
    "function",
    "builtin_function_or_method",
    "instance",
    "_Feature"
   ],
   "window_display": false
  }
 },
 "nbformat": 4,
 "nbformat_minor": 2
}
