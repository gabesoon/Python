{
 "cells": [
  {
   "cell_type": "code",
   "execution_count": 1,
   "metadata": {
    "ExecuteTime": {
     "end_time": "2021-07-15T04:41:05.753264Z",
     "start_time": "2021-07-15T04:41:05.154413Z"
    }
   },
   "outputs": [],
   "source": [
    "import os\n",
    "import pandas as pd\n",
    "\n",
    "# 불필요한 경고 표시 생략\n",
    "import warnings\n",
    "warnings.filterwarnings(action = 'ignore')\n",
    "\n",
    "a=%pwd # 현재 경로 a에 할당\n",
    "os.chdir(a) # 파일 로드 경로 설정"
   ]
  },
  {
   "cell_type": "markdown",
   "metadata": {},
   "source": [
    "- 아파트 가격 예측 등 '지역' 이 포함되는 데이터 분석에서 주소나 위치 변수 등을 기준으로 `거리가 가까운 레코드 및 관련 통계치` 를 통합해야 하는 경우가 있다.\n",
    "\n",
    "\n",
    "- 이를 통합하는 방법은 보통 3단계를 거친다.\n",
    "---\n",
    "1) 각 데이터에 포함된 레코드 간 거리를 나타내는 `거리 행렬을 생성`\n",
    "\n",
    "\n",
    "2) 거리 행렬의 행 or 열 기준 `최소 값을 가지는 인덱스` 를 바탕으로 `이웃한 데이터 탐색`\n",
    "\n",
    "\n",
    "3) 탐색한 `이웃 데이터` 를 기존 데이터에 부착"
   ]
  },
  {
   "attachments": {},
   "cell_type": "markdown",
   "metadata": {},
   "source": [
    "![거리데이터](이미지13.png)"
   ]
  },
  {
   "cell_type": "markdown",
   "metadata": {},
   "source": [
    "- 서로 다른 주소값을 가진 2개의 데이터 테이블이 있다. (원본데이터의 주소값= A, B, C)\n",
    "- 이때 각각 주소 A, B, C에 대응하는 주소 X, Y, Z간의 거리를 계산하는 `거리행렬`을 생성한다.\n",
    "- 각각의 주소 A, B, C와 가장 인접한 `이웃 데이터` 를 탐색한 뒤, 해당 데이터를 원본데이터에 붙여넣는다."
   ]
  },
  {
   "cell_type": "markdown",
   "metadata": {},
   "source": [
    "# 관련 문법 1 : scipy.spatial.distance.cdist\n",
    "---\n",
    "\n",
    "- 두개의 행렬을 바탕으로 `거리행렬`을 반환하는 함수\n",
    "- 일반적인 머신러닝 모델을 만들때, opensource로 된 데이터를 쓰지 않고 실용적인 데이터를 만들때 많이 사용된다.(특히 KNN)\n",
    "- 데이터가 scipy함수에 사용할 수 있는 `연속형 변수` 이어야만 사용할 수 있다.\n",
    "\n",
    "\n",
    "주요 파라미터\n",
    "\n",
    "---\n",
    "- XA : 거리 행렬 계산 대상인 행렬 (ndarray / DataFrame), `함수의 출력 행` 이다.\n",
    "- XB : 거리 행렬 계산 대상인 행렬 (ndarray / DataFrame), `함수의 출력 열` 이다.\n",
    "- metric : 거리 척도 방식 선택 ('cityblock', 'correlation', 'cosine', 'educlidean', 'jaccard', 'matching' 등)\n",
    "---\n",
    "\n",
    "![saptial.distance](이미지14.png)"
   ]
  },
  {
   "cell_type": "markdown",
   "metadata": {},
   "source": [
    "# 관련 문법 2 : ndarray.argsort\n",
    "---\n",
    "\n",
    "- 작은 값부터 순서대로 데이터의 `위치(index)를 반환하는 함수`이다. 즉, 각 순위를 매기고 최소값을 갖게 만든 index가 무엇인지 찾게 해주는 함수\n",
    "- 주로 `이웃을 찾을 때` 많이 활용된다.\n",
    "- axis = 0 이면 `열 별 위치`, axis = 1 이면 `행 별 위치` 를 return\n",
    "- Tip. 하나의 값만을 찾는것이 목적이라면 DataFrame의 idxmax(), idxmin() 함수를 사용하는 것이 더 유용하다.\n",
    "\n",
    "[idxmax() document](https://pandas.pydata.org/docs/reference/api/pandas.DataFrame.idxmax.html)\n",
    "\n",
    "\n",
    "[idxmin() document](https://pandas.pydata.org/docs/reference/api/pandas.DataFrame.idxmin.html)\n",
    "\n",
    "---\n",
    "\n",
    "![argsort](이미지16.png)"
   ]
  },
  {
   "cell_type": "markdown",
   "metadata": {},
   "source": [
    "- arr1 (1차원) 의 경우 axis 파라미터가 적용되지 않는다.\n",
    "- arr2 (2차원) 의 경우 axis=0일때, 첫번째 열인 10, 7, 12를 예시로 보면 세 개의 수를 정렬하면 7 < 10 < 12가 된다.\n",
    "- 기존 7의 index값은 1이 argsort(axis=0)의 결과로 출력된다.\n",
    "- 나머지도 동일한 방식으로 적용되어 우측의 결과값으로 나타난다."
   ]
  },
  {
   "cell_type": "markdown",
   "metadata": {},
   "source": [
    "# 거리기반 데이터 병합 실습"
   ]
  },
  {
   "cell_type": "markdown",
   "metadata": {},
   "source": [
    "2019년 서울 아파트 거래가 & 주소 데이터에 지하철 역 별 위도 / 경도 데이터를 활용해서 `가장 가까운 역이 어디인지` 파악"
   ]
  },
  {
   "cell_type": "code",
   "execution_count": 2,
   "metadata": {
    "ExecuteTime": {
     "end_time": "2021-07-15T04:41:05.783461Z",
     "start_time": "2021-07-15T04:41:05.756256Z"
    }
   },
   "outputs": [],
   "source": [
    "# 아파트 관련 데이터 불러오기 \n",
    "# 한글 자료이므로, 글씨 깨짐 방지위해 cp949로 encoding 한다.\n",
    "\n",
    "df1 = pd.read_csv(\"2019년_서울_아파트매매_실거래가.csv\", encoding = \"cp949\")\n",
    "df2 = pd.read_csv(\"2019년_서울시_아파트주소.csv\", encoding = \"cp949\")"
   ]
  },
  {
   "cell_type": "code",
   "execution_count": 3,
   "metadata": {
    "ExecuteTime": {
     "end_time": "2021-07-15T04:41:05.813387Z",
     "start_time": "2021-07-15T04:41:05.785432Z"
    }
   },
   "outputs": [
    {
     "data": {
      "text/html": [
       "<div>\n",
       "<style scoped>\n",
       "    .dataframe tbody tr th:only-of-type {\n",
       "        vertical-align: middle;\n",
       "    }\n",
       "\n",
       "    .dataframe tbody tr th {\n",
       "        vertical-align: top;\n",
       "    }\n",
       "\n",
       "    .dataframe thead th {\n",
       "        text-align: right;\n",
       "    }\n",
       "</style>\n",
       "<table border=\"1\" class=\"dataframe\">\n",
       "  <thead>\n",
       "    <tr style=\"text-align: right;\">\n",
       "      <th></th>\n",
       "      <th>거래일자</th>\n",
       "      <th>법정동</th>\n",
       "      <th>도로명</th>\n",
       "      <th>아파트</th>\n",
       "      <th>층</th>\n",
       "      <th>전용면적</th>\n",
       "      <th>건축년도</th>\n",
       "      <th>거래금액</th>\n",
       "    </tr>\n",
       "  </thead>\n",
       "  <tbody>\n",
       "    <tr>\n",
       "      <th>0</th>\n",
       "      <td>2019-10-05</td>\n",
       "      <td>면목동</td>\n",
       "      <td>용마산로</td>\n",
       "      <td>현대</td>\n",
       "      <td>2</td>\n",
       "      <td>84.81</td>\n",
       "      <td>1994</td>\n",
       "      <td>52000</td>\n",
       "    </tr>\n",
       "    <tr>\n",
       "      <th>1</th>\n",
       "      <td>2019-10-07</td>\n",
       "      <td>면목동</td>\n",
       "      <td>중랑천로</td>\n",
       "      <td>신성</td>\n",
       "      <td>5</td>\n",
       "      <td>59.91</td>\n",
       "      <td>1998</td>\n",
       "      <td>37000</td>\n",
       "    </tr>\n",
       "    <tr>\n",
       "      <th>2</th>\n",
       "      <td>2019-10-09</td>\n",
       "      <td>면목동</td>\n",
       "      <td>용마산로</td>\n",
       "      <td>현대</td>\n",
       "      <td>19</td>\n",
       "      <td>84.09</td>\n",
       "      <td>1994</td>\n",
       "      <td>57500</td>\n",
       "    </tr>\n",
       "    <tr>\n",
       "      <th>3</th>\n",
       "      <td>2019-10-10</td>\n",
       "      <td>면목동</td>\n",
       "      <td>사가정로41길</td>\n",
       "      <td>동원베네스트</td>\n",
       "      <td>5</td>\n",
       "      <td>84.86</td>\n",
       "      <td>2003</td>\n",
       "      <td>56000</td>\n",
       "    </tr>\n",
       "    <tr>\n",
       "      <th>4</th>\n",
       "      <td>2019-10-14</td>\n",
       "      <td>면목동</td>\n",
       "      <td>용마산로</td>\n",
       "      <td>현대</td>\n",
       "      <td>9</td>\n",
       "      <td>72.63</td>\n",
       "      <td>1994</td>\n",
       "      <td>50500</td>\n",
       "    </tr>\n",
       "  </tbody>\n",
       "</table>\n",
       "</div>"
      ],
      "text/plain": [
       "         거래일자  법정동      도로명     아파트   층   전용면적  건축년도   거래금액\n",
       "0  2019-10-05  면목동     용마산로      현대   2  84.81  1994  52000\n",
       "1  2019-10-07  면목동     중랑천로      신성   5  59.91  1998  37000\n",
       "2  2019-10-09  면목동     용마산로      현대  19  84.09  1994  57500\n",
       "3  2019-10-10  면목동  사가정로41길  동원베네스트   5  84.86  2003  56000\n",
       "4  2019-10-14  면목동     용마산로      현대   9  72.63  1994  50500"
      ]
     },
     "execution_count": 3,
     "metadata": {},
     "output_type": "execute_result"
    }
   ],
   "source": [
    "df1.head()"
   ]
  },
  {
   "cell_type": "code",
   "execution_count": 4,
   "metadata": {
    "ExecuteTime": {
     "end_time": "2021-07-15T04:41:05.829314Z",
     "start_time": "2021-07-15T04:41:05.815352Z"
    }
   },
   "outputs": [
    {
     "data": {
      "text/html": [
       "<div>\n",
       "<style scoped>\n",
       "    .dataframe tbody tr th:only-of-type {\n",
       "        vertical-align: middle;\n",
       "    }\n",
       "\n",
       "    .dataframe tbody tr th {\n",
       "        vertical-align: top;\n",
       "    }\n",
       "\n",
       "    .dataframe thead th {\n",
       "        text-align: right;\n",
       "    }\n",
       "</style>\n",
       "<table border=\"1\" class=\"dataframe\">\n",
       "  <thead>\n",
       "    <tr style=\"text-align: right;\">\n",
       "      <th></th>\n",
       "      <th>시군구명</th>\n",
       "      <th>읍면동명</th>\n",
       "      <th>도로명</th>\n",
       "      <th>건물명</th>\n",
       "      <th>경도</th>\n",
       "      <th>위도</th>\n",
       "    </tr>\n",
       "  </thead>\n",
       "  <tbody>\n",
       "    <tr>\n",
       "      <th>0</th>\n",
       "      <td>종로구</td>\n",
       "      <td>신교동</td>\n",
       "      <td>필운대로</td>\n",
       "      <td>월드빌</td>\n",
       "      <td>126.966744</td>\n",
       "      <td>37.586644</td>\n",
       "    </tr>\n",
       "    <tr>\n",
       "      <th>1</th>\n",
       "      <td>종로구</td>\n",
       "      <td>숭인동</td>\n",
       "      <td>숭인동1길</td>\n",
       "      <td>삼성타운</td>\n",
       "      <td>127.017780</td>\n",
       "      <td>37.579576</td>\n",
       "    </tr>\n",
       "    <tr>\n",
       "      <th>2</th>\n",
       "      <td>종로구</td>\n",
       "      <td>숭인동</td>\n",
       "      <td>숭인동1나길</td>\n",
       "      <td>삼성타운</td>\n",
       "      <td>127.018026</td>\n",
       "      <td>37.579582</td>\n",
       "    </tr>\n",
       "    <tr>\n",
       "      <th>3</th>\n",
       "      <td>종로구</td>\n",
       "      <td>평창동</td>\n",
       "      <td>평창6길</td>\n",
       "      <td>월드빌</td>\n",
       "      <td>126.973484</td>\n",
       "      <td>37.620055</td>\n",
       "    </tr>\n",
       "    <tr>\n",
       "      <th>4</th>\n",
       "      <td>중구</td>\n",
       "      <td>장충동1가</td>\n",
       "      <td>장충단로6가길</td>\n",
       "      <td>삼우빌라</td>\n",
       "      <td>127.006113</td>\n",
       "      <td>37.563739</td>\n",
       "    </tr>\n",
       "  </tbody>\n",
       "</table>\n",
       "</div>"
      ],
      "text/plain": [
       "  시군구명   읍면동명      도로명   건물명          경도         위도\n",
       "0  종로구    신교동     필운대로   월드빌  126.966744  37.586644\n",
       "1  종로구    숭인동    숭인동1길  삼성타운  127.017780  37.579576\n",
       "2  종로구    숭인동   숭인동1나길  삼성타운  127.018026  37.579582\n",
       "3  종로구    평창동     평창6길   월드빌  126.973484  37.620055\n",
       "4   중구  장충동1가  장충단로6가길  삼우빌라  127.006113  37.563739"
      ]
     },
     "execution_count": 4,
     "metadata": {},
     "output_type": "execute_result"
    }
   ],
   "source": [
    "df2.head()"
   ]
  },
  {
   "cell_type": "markdown",
   "metadata": {},
   "source": [
    "## step1. 두개의 데이터를 이어 붙인다."
   ]
  },
  {
   "cell_type": "code",
   "execution_count": 5,
   "metadata": {
    "ExecuteTime": {
     "end_time": "2021-07-15T04:41:05.889154Z",
     "start_time": "2021-07-15T04:41:05.856242Z"
    }
   },
   "outputs": [
    {
     "data": {
      "text/html": [
       "<div>\n",
       "<style scoped>\n",
       "    .dataframe tbody tr th:only-of-type {\n",
       "        vertical-align: middle;\n",
       "    }\n",
       "\n",
       "    .dataframe tbody tr th {\n",
       "        vertical-align: top;\n",
       "    }\n",
       "\n",
       "    .dataframe thead th {\n",
       "        text-align: right;\n",
       "    }\n",
       "</style>\n",
       "<table border=\"1\" class=\"dataframe\">\n",
       "  <thead>\n",
       "    <tr style=\"text-align: right;\">\n",
       "      <th></th>\n",
       "      <th>거래일자</th>\n",
       "      <th>법정동</th>\n",
       "      <th>도로명</th>\n",
       "      <th>아파트</th>\n",
       "      <th>층</th>\n",
       "      <th>전용면적</th>\n",
       "      <th>건축년도</th>\n",
       "      <th>거래금액</th>\n",
       "      <th>시군구명</th>\n",
       "      <th>읍면동명</th>\n",
       "      <th>건물명</th>\n",
       "      <th>경도</th>\n",
       "      <th>위도</th>\n",
       "    </tr>\n",
       "  </thead>\n",
       "  <tbody>\n",
       "    <tr>\n",
       "      <th>0</th>\n",
       "      <td>2019-10-23</td>\n",
       "      <td>면목동</td>\n",
       "      <td>겸재로</td>\n",
       "      <td>동서그랜드맨션</td>\n",
       "      <td>4</td>\n",
       "      <td>131.34</td>\n",
       "      <td>1993</td>\n",
       "      <td>43000</td>\n",
       "      <td>중랑구</td>\n",
       "      <td>면목동</td>\n",
       "      <td>동서그랜드맨션</td>\n",
       "      <td>127.075856</td>\n",
       "      <td>37.588817</td>\n",
       "    </tr>\n",
       "    <tr>\n",
       "      <th>1</th>\n",
       "      <td>2019-10-25</td>\n",
       "      <td>면목동</td>\n",
       "      <td>면목로</td>\n",
       "      <td>킴스아파트</td>\n",
       "      <td>4</td>\n",
       "      <td>38.91</td>\n",
       "      <td>2018</td>\n",
       "      <td>28900</td>\n",
       "      <td>중랑구</td>\n",
       "      <td>면목동</td>\n",
       "      <td>킴스아파트</td>\n",
       "      <td>127.084734</td>\n",
       "      <td>37.592972</td>\n",
       "    </tr>\n",
       "    <tr>\n",
       "      <th>2</th>\n",
       "      <td>2019-10-29</td>\n",
       "      <td>면목동</td>\n",
       "      <td>용마산로86길</td>\n",
       "      <td>면목동2차미소지움아파트</td>\n",
       "      <td>12</td>\n",
       "      <td>78.56</td>\n",
       "      <td>2005</td>\n",
       "      <td>45400</td>\n",
       "      <td>중랑구</td>\n",
       "      <td>면목동</td>\n",
       "      <td>면목동2차미소지움아파트</td>\n",
       "      <td>127.094170</td>\n",
       "      <td>37.589641</td>\n",
       "    </tr>\n",
       "    <tr>\n",
       "      <th>3</th>\n",
       "      <td>2019-12-04</td>\n",
       "      <td>면목동</td>\n",
       "      <td>용마산로86길</td>\n",
       "      <td>면목동2차미소지움아파트</td>\n",
       "      <td>4</td>\n",
       "      <td>81.96</td>\n",
       "      <td>2005</td>\n",
       "      <td>45500</td>\n",
       "      <td>중랑구</td>\n",
       "      <td>면목동</td>\n",
       "      <td>면목동2차미소지움아파트</td>\n",
       "      <td>127.094170</td>\n",
       "      <td>37.589641</td>\n",
       "    </tr>\n",
       "    <tr>\n",
       "      <th>4</th>\n",
       "      <td>2019-12-26</td>\n",
       "      <td>면목동</td>\n",
       "      <td>용마산로86길</td>\n",
       "      <td>면목동2차미소지움아파트</td>\n",
       "      <td>3</td>\n",
       "      <td>82.28</td>\n",
       "      <td>2005</td>\n",
       "      <td>45500</td>\n",
       "      <td>중랑구</td>\n",
       "      <td>면목동</td>\n",
       "      <td>면목동2차미소지움아파트</td>\n",
       "      <td>127.094170</td>\n",
       "      <td>37.589641</td>\n",
       "    </tr>\n",
       "    <tr>\n",
       "      <th>...</th>\n",
       "      <td>...</td>\n",
       "      <td>...</td>\n",
       "      <td>...</td>\n",
       "      <td>...</td>\n",
       "      <td>...</td>\n",
       "      <td>...</td>\n",
       "      <td>...</td>\n",
       "      <td>...</td>\n",
       "      <td>...</td>\n",
       "      <td>...</td>\n",
       "      <td>...</td>\n",
       "      <td>...</td>\n",
       "      <td>...</td>\n",
       "    </tr>\n",
       "    <tr>\n",
       "      <th>1478</th>\n",
       "      <td>2019-11-11</td>\n",
       "      <td>망원동</td>\n",
       "      <td>방울내로11길</td>\n",
       "      <td>동보프리미아</td>\n",
       "      <td>9</td>\n",
       "      <td>63.02</td>\n",
       "      <td>2004</td>\n",
       "      <td>39000</td>\n",
       "      <td>마포구</td>\n",
       "      <td>망원동</td>\n",
       "      <td>동보프리미아</td>\n",
       "      <td>126.894313</td>\n",
       "      <td>37.562626</td>\n",
       "    </tr>\n",
       "    <tr>\n",
       "      <th>1479</th>\n",
       "      <td>2019-12-04</td>\n",
       "      <td>신공덕동</td>\n",
       "      <td>백범로</td>\n",
       "      <td>신공덕e편한세상</td>\n",
       "      <td>2</td>\n",
       "      <td>59.62</td>\n",
       "      <td>2007</td>\n",
       "      <td>89900</td>\n",
       "      <td>마포구</td>\n",
       "      <td>신공덕동</td>\n",
       "      <td>신공덕e편한세상</td>\n",
       "      <td>126.954378</td>\n",
       "      <td>37.544351</td>\n",
       "    </tr>\n",
       "    <tr>\n",
       "      <th>1480</th>\n",
       "      <td>2019-12-07</td>\n",
       "      <td>신공덕동</td>\n",
       "      <td>백범로</td>\n",
       "      <td>신공덕e편한세상</td>\n",
       "      <td>4</td>\n",
       "      <td>59.58</td>\n",
       "      <td>2007</td>\n",
       "      <td>92500</td>\n",
       "      <td>마포구</td>\n",
       "      <td>신공덕동</td>\n",
       "      <td>신공덕e편한세상</td>\n",
       "      <td>126.954378</td>\n",
       "      <td>37.544351</td>\n",
       "    </tr>\n",
       "    <tr>\n",
       "      <th>1481</th>\n",
       "      <td>2019-12-16</td>\n",
       "      <td>신공덕동</td>\n",
       "      <td>백범로</td>\n",
       "      <td>신공덕e편한세상</td>\n",
       "      <td>11</td>\n",
       "      <td>59.85</td>\n",
       "      <td>2007</td>\n",
       "      <td>100000</td>\n",
       "      <td>마포구</td>\n",
       "      <td>신공덕동</td>\n",
       "      <td>신공덕e편한세상</td>\n",
       "      <td>126.954378</td>\n",
       "      <td>37.544351</td>\n",
       "    </tr>\n",
       "    <tr>\n",
       "      <th>1482</th>\n",
       "      <td>2019-12-17</td>\n",
       "      <td>신공덕동</td>\n",
       "      <td>백범로</td>\n",
       "      <td>신공덕e편한세상</td>\n",
       "      <td>3</td>\n",
       "      <td>84.68</td>\n",
       "      <td>2007</td>\n",
       "      <td>108500</td>\n",
       "      <td>마포구</td>\n",
       "      <td>신공덕동</td>\n",
       "      <td>신공덕e편한세상</td>\n",
       "      <td>126.954378</td>\n",
       "      <td>37.544351</td>\n",
       "    </tr>\n",
       "  </tbody>\n",
       "</table>\n",
       "<p>1483 rows × 13 columns</p>\n",
       "</div>"
      ],
      "text/plain": [
       "            거래일자   법정동      도로명           아파트   층    전용면적  건축년도    거래금액 시군구명  \\\n",
       "0     2019-10-23   면목동      겸재로       동서그랜드맨션   4  131.34  1993   43000  중랑구   \n",
       "1     2019-10-25   면목동      면목로         킴스아파트   4   38.91  2018   28900  중랑구   \n",
       "2     2019-10-29   면목동  용마산로86길  면목동2차미소지움아파트  12   78.56  2005   45400  중랑구   \n",
       "3     2019-12-04   면목동  용마산로86길  면목동2차미소지움아파트   4   81.96  2005   45500  중랑구   \n",
       "4     2019-12-26   면목동  용마산로86길  면목동2차미소지움아파트   3   82.28  2005   45500  중랑구   \n",
       "...          ...   ...      ...           ...  ..     ...   ...     ...  ...   \n",
       "1478  2019-11-11   망원동  방울내로11길        동보프리미아   9   63.02  2004   39000  마포구   \n",
       "1479  2019-12-04  신공덕동      백범로      신공덕e편한세상   2   59.62  2007   89900  마포구   \n",
       "1480  2019-12-07  신공덕동      백범로      신공덕e편한세상   4   59.58  2007   92500  마포구   \n",
       "1481  2019-12-16  신공덕동      백범로      신공덕e편한세상  11   59.85  2007  100000  마포구   \n",
       "1482  2019-12-17  신공덕동      백범로      신공덕e편한세상   3   84.68  2007  108500  마포구   \n",
       "\n",
       "      읍면동명           건물명          경도         위도  \n",
       "0      면목동       동서그랜드맨션  127.075856  37.588817  \n",
       "1      면목동         킴스아파트  127.084734  37.592972  \n",
       "2      면목동  면목동2차미소지움아파트  127.094170  37.589641  \n",
       "3      면목동  면목동2차미소지움아파트  127.094170  37.589641  \n",
       "4      면목동  면목동2차미소지움아파트  127.094170  37.589641  \n",
       "...    ...           ...         ...        ...  \n",
       "1478   망원동        동보프리미아  126.894313  37.562626  \n",
       "1479  신공덕동      신공덕e편한세상  126.954378  37.544351  \n",
       "1480  신공덕동      신공덕e편한세상  126.954378  37.544351  \n",
       "1481  신공덕동      신공덕e편한세상  126.954378  37.544351  \n",
       "1482  신공덕동      신공덕e편한세상  126.954378  37.544351  \n",
       "\n",
       "[1483 rows x 13 columns]"
      ]
     },
     "execution_count": 5,
     "metadata": {},
     "output_type": "execute_result"
    }
   ],
   "source": [
    "# 데이터 병합\n",
    "# 병합될 컬럼의 순서가 일치해야 merge()가 적용된다. \n",
    "# 법정동 = 읍면동 // 도로명 = 도로명 // 아파트 = 건물명 으로 각각 붙여주는 것\n",
    "\n",
    "df = pd.merge(df1, df2,left_on = ['법정동', '도로명', '아파트'], right_on = ['읍면동명', '도로명', '건물명'])\n",
    "df"
   ]
  },
  {
   "cell_type": "markdown",
   "metadata": {},
   "source": [
    "문제 상황인 `가장 가까운 지하철역` 을 찾기위해 위치 계산을 할 대상 데이터를 불러온다."
   ]
  },
  {
   "cell_type": "code",
   "execution_count": 6,
   "metadata": {
    "ExecuteTime": {
     "end_time": "2021-07-15T04:41:06.908296Z",
     "start_time": "2021-07-15T04:41:05.891149Z"
    }
   },
   "outputs": [],
   "source": [
    "df3 = pd.read_excel(\"지하철역_위경도.xlsx\")"
   ]
  },
  {
   "cell_type": "code",
   "execution_count": 7,
   "metadata": {
    "ExecuteTime": {
     "end_time": "2021-07-15T04:41:06.923202Z",
     "start_time": "2021-07-15T04:41:06.911231Z"
    }
   },
   "outputs": [
    {
     "data": {
      "text/html": [
       "<div>\n",
       "<style scoped>\n",
       "    .dataframe tbody tr th:only-of-type {\n",
       "        vertical-align: middle;\n",
       "    }\n",
       "\n",
       "    .dataframe tbody tr th {\n",
       "        vertical-align: top;\n",
       "    }\n",
       "\n",
       "    .dataframe thead th {\n",
       "        text-align: right;\n",
       "    }\n",
       "</style>\n",
       "<table border=\"1\" class=\"dataframe\">\n",
       "  <thead>\n",
       "    <tr style=\"text-align: right;\">\n",
       "      <th></th>\n",
       "      <th>역명</th>\n",
       "      <th>위도</th>\n",
       "      <th>경도</th>\n",
       "    </tr>\n",
       "  </thead>\n",
       "  <tbody>\n",
       "    <tr>\n",
       "      <th>0</th>\n",
       "      <td>가양역[9호선]</td>\n",
       "      <td>37.561560</td>\n",
       "      <td>126.854261</td>\n",
       "    </tr>\n",
       "    <tr>\n",
       "      <th>1</th>\n",
       "      <td>완정역[2호선]</td>\n",
       "      <td>37.592867</td>\n",
       "      <td>126.673027</td>\n",
       "    </tr>\n",
       "    <tr>\n",
       "      <th>2</th>\n",
       "      <td>증미역[9호선]</td>\n",
       "      <td>37.558144</td>\n",
       "      <td>126.860617</td>\n",
       "    </tr>\n",
       "    <tr>\n",
       "      <th>3</th>\n",
       "      <td>마전역[2호선]</td>\n",
       "      <td>37.597649</td>\n",
       "      <td>126.667201</td>\n",
       "    </tr>\n",
       "    <tr>\n",
       "      <th>4</th>\n",
       "      <td>등촌역[9호선]</td>\n",
       "      <td>37.550694</td>\n",
       "      <td>126.865540</td>\n",
       "    </tr>\n",
       "  </tbody>\n",
       "</table>\n",
       "</div>"
      ],
      "text/plain": [
       "         역명         위도          경도\n",
       "0  가양역[9호선]  37.561560  126.854261\n",
       "1  완정역[2호선]  37.592867  126.673027\n",
       "2  증미역[9호선]  37.558144  126.860617\n",
       "3  마전역[2호선]  37.597649  126.667201\n",
       "4  등촌역[9호선]  37.550694  126.865540"
      ]
     },
     "execution_count": 7,
     "metadata": {},
     "output_type": "execute_result"
    }
   ],
   "source": [
    "df3.head()"
   ]
  },
  {
   "cell_type": "markdown",
   "metadata": {},
   "source": [
    "## step2. 거리 행렬 계산 (scipy.spatial.distance import cdist)"
   ]
  },
  {
   "cell_type": "code",
   "execution_count": 8,
   "metadata": {
    "ExecuteTime": {
     "end_time": "2021-07-15T04:41:06.938157Z",
     "start_time": "2021-07-15T04:41:06.927165Z"
    }
   },
   "outputs": [],
   "source": [
    "# !pip install haversine# 위경도 거리 계산을 위한 모듈 설치(필요시 설치)"
   ]
  },
  {
   "cell_type": "code",
   "execution_count": 9,
   "metadata": {
    "ExecuteTime": {
     "end_time": "2021-07-15T04:41:06.953093Z",
     "start_time": "2021-07-15T04:41:06.941126Z"
    }
   },
   "outputs": [],
   "source": [
    "# 거리 행렬 생성을 위한 컬럼 추출\n",
    " \n",
    "df_location = df[['경도', '위도']]\n",
    "\n",
    "df3_location = df3[['경도', '위도']]\n",
    "\n",
    "#지구상의 위경도 거리를 구할때는 유클리드 거리나 보스턴 거리사용보다는 haversine거리를 사용하는게 일반적"
   ]
  },
  {
   "cell_type": "code",
   "execution_count": 10,
   "metadata": {
    "ExecuteTime": {
     "end_time": "2021-07-15T04:41:15.601932Z",
     "start_time": "2021-07-15T04:41:06.957112Z"
    }
   },
   "outputs": [],
   "source": [
    "# 거리 행렬 생성\n",
    "from scipy.spatial.distance import cdist\n",
    "from haversine import haversine\n",
    "\n",
    "#cdist(행, 열)함수를 사용해 거리를 계산\n",
    "# metric= 에 들어갈 수 있는 것들 :  ['euclidean', 'cityblock', 'jaccard'] (기본적으로 내장된 것들)\n",
    "# 또는 haversine 처럼 외부 패키지를 설치하고 사용할 수도 있다.\n",
    "\n",
    "dist_mat = cdist(df_location, df3_location, metric = haversine)"
   ]
  },
  {
   "cell_type": "markdown",
   "metadata": {},
   "source": [
    "## step3. argsort()를 적용해 이웃 지역 탐색후 병합"
   ]
  },
  {
   "cell_type": "code",
   "execution_count": 11,
   "metadata": {
    "ExecuteTime": {
     "end_time": "2021-07-15T04:41:15.678266Z",
     "start_time": "2021-07-15T04:41:15.603899Z"
    }
   },
   "outputs": [],
   "source": [
    "# close_subway_index = dist_mat.argsort()는 실제 위치에 대한 단순한 정보만을 가져온 것이다.\n",
    "# close_subway_index = dist_mat.argsort()에 [:, 0]으로 가장 첫번째(가장 거리가 짧은 = 가까운) 지하철의 index값을 불러온다.\n",
    "\n",
    "close_subway_index = dist_mat.argsort()[:, 0] # axis = 0\n",
    "\n",
    "# '가까운역' 이라는 컬럼을 새로 추가하고 그 변수에 새로운 값을 입력한다.\n",
    "#  df3.iloc[close_subway_index]['역명'] 까지만 입력하면 인덱스간 충돌이 발생할 수 있다.(scipy함수의 결과값은 ndarray)\n",
    "# 그래 .value를 붙여서 값을 가져 오라고 명시\n",
    "df['가까운역'] = df3.iloc[close_subway_index]['역명'].values \n",
    "\n",
    "# 새로운 시리즈를 만들 때는 list, ndarray를 사용하는 것이 바람직하다!\n",
    "\n",
    "df['가까운역까지_거리'] = dist_mat[close_subway_index][:, 0]"
   ]
  },
  {
   "cell_type": "code",
   "execution_count": 12,
   "metadata": {
    "ExecuteTime": {
     "end_time": "2021-07-15T04:41:15.708185Z",
     "start_time": "2021-07-15T04:41:15.680297Z"
    },
    "scrolled": true
   },
   "outputs": [
    {
     "data": {
      "text/html": [
       "<div>\n",
       "<style scoped>\n",
       "    .dataframe tbody tr th:only-of-type {\n",
       "        vertical-align: middle;\n",
       "    }\n",
       "\n",
       "    .dataframe tbody tr th {\n",
       "        vertical-align: top;\n",
       "    }\n",
       "\n",
       "    .dataframe thead th {\n",
       "        text-align: right;\n",
       "    }\n",
       "</style>\n",
       "<table border=\"1\" class=\"dataframe\">\n",
       "  <thead>\n",
       "    <tr style=\"text-align: right;\">\n",
       "      <th></th>\n",
       "      <th>거래일자</th>\n",
       "      <th>법정동</th>\n",
       "      <th>도로명</th>\n",
       "      <th>아파트</th>\n",
       "      <th>층</th>\n",
       "      <th>전용면적</th>\n",
       "      <th>건축년도</th>\n",
       "      <th>거래금액</th>\n",
       "      <th>시군구명</th>\n",
       "      <th>읍면동명</th>\n",
       "      <th>건물명</th>\n",
       "      <th>경도</th>\n",
       "      <th>위도</th>\n",
       "      <th>가까운역</th>\n",
       "      <th>가까운역까지_거리</th>\n",
       "    </tr>\n",
       "  </thead>\n",
       "  <tbody>\n",
       "    <tr>\n",
       "      <th>0</th>\n",
       "      <td>2019-10-23</td>\n",
       "      <td>면목동</td>\n",
       "      <td>겸재로</td>\n",
       "      <td>동서그랜드맨션</td>\n",
       "      <td>4</td>\n",
       "      <td>131.34</td>\n",
       "      <td>1993</td>\n",
       "      <td>43000</td>\n",
       "      <td>중랑구</td>\n",
       "      <td>면목동</td>\n",
       "      <td>동서그랜드맨션</td>\n",
       "      <td>127.075856</td>\n",
       "      <td>37.588817</td>\n",
       "      <td>중랑역[경춘선]</td>\n",
       "      <td>22.308503</td>\n",
       "    </tr>\n",
       "    <tr>\n",
       "      <th>1</th>\n",
       "      <td>2019-10-25</td>\n",
       "      <td>면목동</td>\n",
       "      <td>면목로</td>\n",
       "      <td>킴스아파트</td>\n",
       "      <td>4</td>\n",
       "      <td>38.91</td>\n",
       "      <td>2018</td>\n",
       "      <td>28900</td>\n",
       "      <td>중랑구</td>\n",
       "      <td>면목동</td>\n",
       "      <td>킴스아파트</td>\n",
       "      <td>127.084734</td>\n",
       "      <td>37.592972</td>\n",
       "      <td>상봉역[7호선]</td>\n",
       "      <td>25.366110</td>\n",
       "    </tr>\n",
       "    <tr>\n",
       "      <th>2</th>\n",
       "      <td>2019-10-29</td>\n",
       "      <td>면목동</td>\n",
       "      <td>용마산로86길</td>\n",
       "      <td>면목동2차미소지움아파트</td>\n",
       "      <td>12</td>\n",
       "      <td>78.56</td>\n",
       "      <td>2005</td>\n",
       "      <td>45400</td>\n",
       "      <td>중랑구</td>\n",
       "      <td>면목동</td>\n",
       "      <td>면목동2차미소지움아파트</td>\n",
       "      <td>127.094170</td>\n",
       "      <td>37.589641</td>\n",
       "      <td>망우역[경의중앙선]</td>\n",
       "      <td>25.379852</td>\n",
       "    </tr>\n",
       "    <tr>\n",
       "      <th>3</th>\n",
       "      <td>2019-12-04</td>\n",
       "      <td>면목동</td>\n",
       "      <td>용마산로86길</td>\n",
       "      <td>면목동2차미소지움아파트</td>\n",
       "      <td>4</td>\n",
       "      <td>81.96</td>\n",
       "      <td>2005</td>\n",
       "      <td>45500</td>\n",
       "      <td>중랑구</td>\n",
       "      <td>면목동</td>\n",
       "      <td>면목동2차미소지움아파트</td>\n",
       "      <td>127.094170</td>\n",
       "      <td>37.589641</td>\n",
       "      <td>망우역[경의중앙선]</td>\n",
       "      <td>25.379852</td>\n",
       "    </tr>\n",
       "    <tr>\n",
       "      <th>4</th>\n",
       "      <td>2019-12-26</td>\n",
       "      <td>면목동</td>\n",
       "      <td>용마산로86길</td>\n",
       "      <td>면목동2차미소지움아파트</td>\n",
       "      <td>3</td>\n",
       "      <td>82.28</td>\n",
       "      <td>2005</td>\n",
       "      <td>45500</td>\n",
       "      <td>중랑구</td>\n",
       "      <td>면목동</td>\n",
       "      <td>면목동2차미소지움아파트</td>\n",
       "      <td>127.094170</td>\n",
       "      <td>37.589641</td>\n",
       "      <td>망우역[경의중앙선]</td>\n",
       "      <td>25.379852</td>\n",
       "    </tr>\n",
       "  </tbody>\n",
       "</table>\n",
       "</div>"
      ],
      "text/plain": [
       "         거래일자  법정동      도로명           아파트   층    전용면적  건축년도   거래금액 시군구명 읍면동명  \\\n",
       "0  2019-10-23  면목동      겸재로       동서그랜드맨션   4  131.34  1993  43000  중랑구  면목동   \n",
       "1  2019-10-25  면목동      면목로         킴스아파트   4   38.91  2018  28900  중랑구  면목동   \n",
       "2  2019-10-29  면목동  용마산로86길  면목동2차미소지움아파트  12   78.56  2005  45400  중랑구  면목동   \n",
       "3  2019-12-04  면목동  용마산로86길  면목동2차미소지움아파트   4   81.96  2005  45500  중랑구  면목동   \n",
       "4  2019-12-26  면목동  용마산로86길  면목동2차미소지움아파트   3   82.28  2005  45500  중랑구  면목동   \n",
       "\n",
       "            건물명          경도         위도        가까운역  가까운역까지_거리  \n",
       "0       동서그랜드맨션  127.075856  37.588817    중랑역[경춘선]  22.308503  \n",
       "1         킴스아파트  127.084734  37.592972    상봉역[7호선]  25.366110  \n",
       "2  면목동2차미소지움아파트  127.094170  37.589641  망우역[경의중앙선]  25.379852  \n",
       "3  면목동2차미소지움아파트  127.094170  37.589641  망우역[경의중앙선]  25.379852  \n",
       "4  면목동2차미소지움아파트  127.094170  37.589641  망우역[경의중앙선]  25.379852  "
      ]
     },
     "execution_count": 12,
     "metadata": {},
     "output_type": "execute_result"
    }
   ],
   "source": [
    "df.head()"
   ]
  }
 ],
 "metadata": {
  "kernelspec": {
   "display_name": "Python 3",
   "language": "python",
   "name": "python3"
  },
  "language_info": {
   "codemirror_mode": {
    "name": "ipython",
    "version": 3
   },
   "file_extension": ".py",
   "mimetype": "text/x-python",
   "name": "python",
   "nbconvert_exporter": "python",
   "pygments_lexer": "ipython3",
   "version": "3.8.5"
  },
  "toc": {
   "base_numbering": 1,
   "nav_menu": {},
   "number_sections": true,
   "sideBar": true,
   "skip_h1_title": false,
   "title_cell": "Table of Contents",
   "title_sidebar": "Contents",
   "toc_cell": false,
   "toc_position": {},
   "toc_section_display": true,
   "toc_window_display": true
  },
  "varInspector": {
   "cols": {
    "lenName": 16,
    "lenType": 16,
    "lenVar": 40
   },
   "kernels_config": {
    "python": {
     "delete_cmd_postfix": "",
     "delete_cmd_prefix": "del ",
     "library": "var_list.py",
     "varRefreshCmd": "print(var_dic_list())"
    },
    "r": {
     "delete_cmd_postfix": ") ",
     "delete_cmd_prefix": "rm(",
     "library": "var_list.r",
     "varRefreshCmd": "cat(var_dic_list()) "
    }
   },
   "types_to_exclude": [
    "module",
    "function",
    "builtin_function_or_method",
    "instance",
    "_Feature"
   ],
   "window_display": false
  }
 },
 "nbformat": 4,
 "nbformat_minor": 2
}
