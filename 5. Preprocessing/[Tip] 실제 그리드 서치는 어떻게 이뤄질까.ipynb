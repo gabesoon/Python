{
 "cells": [
  {
   "cell_type": "markdown",
   "metadata": {},
   "source": [
    "# 실제 데이터 탐색과 전처리\n",
    "---\n",
    "\n",
    "![](./이미지72.png)\n",
    "\n",
    "- 데이터 탐색과 전처리가 결코 1번에 끝나지 않는다. (피드백 루프가 존재)\n",
    "- 보통은 탐색 1번 에 전처리 1번\n",
    "- 전처리 마다 다양한 하이퍼 파라미터가 있어서 그 결과에 따라 모델 하이퍼 파라미터와 같이 튜닝해줘야 한다."
   ]
  },
  {
   "cell_type": "markdown",
   "metadata": {},
   "source": [
    "# 현실적인 모델 생성 프로세스 (1) - 필수 전처리\n",
    "---\n",
    "- 필수 전처리는 데이터 통합, 결측치 처리, 범주형 변수 처리, 라벨 처리 등이 있다.\n",
    "- 일반적으로 필수적인 전처리는 특별한 하이퍼 파라미터 튜닝이 필요하지 않으므로 `순차적으로 진행`해주는게 좋다.\n",
    "\n",
    "![](이미지73.png)\n",
    "\n",
    "---\n",
    "* 1) 파편화된 데이터가 있다면 통합 (하나의 df만들기)<br>\n",
    "* 2) 통합된 df에서 결측치 확인 후 제거 / 대체 / 예측 (3옵션중 선택해야 하므로 어느정도 튜닝이 필요하긴 함)<br>\n",
    "* 3) 범주형 변수 여부 확인 -> 있을 경우 더미화 / 연속형 변수로 변환 처리<br>\n",
    "* 4) 라벨이 문자형인지 확인 -> 변환 작업<br><br>\n",
    "* 4번 작업은 1번 바로 다음에 해도 된다."
   ]
  },
  {
   "cell_type": "markdown",
   "metadata": {},
   "source": [
    "# 현실적인 모델 생성 프로세스 (2) - 성능 향상을 위한 전처리\n",
    "---\n",
    "\n",
    "- 관련된 전처리에는 변수 분포, 클래스 불균형, 특징 선택 등이 있다.<br>\n",
    "- 일반적으로는 성능 향상을 위한 전처리는 튜닝도 같이 해줘야 한다.\n",
    "\n",
    "![](이미지74.png)\n",
    "\n",
    "---\n",
    "\n",
    "- 신규 특징 추가(파생변수 생성)시에는 가급적 많은 특징을 추가하면 모델 성능 향상에 도움이될 가능성이 높다.<br><br>\n",
    "    - 추후에 `특징선택` 전처리로 차원숙소를 해줄 것이기 때문에 부담없이 추가해도 된다.<br>\n",
    "    - 물론 합리적인 판단하에 적절한 변수를 추가 해야 한다. <br>\n",
    "    - 해당 작업을 통해 이전 과정으로 돌아가는 피드백 루프를 줄일 수 있다는 장점이 있기도 하다.<br><br>\n",
    "- 이상치 확인과 특징간 상관관계 확인은 실무에서 많이 스킵하는 구간이다.<br><br>\n",
    "    - 이상치를 제거한다고 반드시 모델 성능이 향상되지는 않는다. (경우에 따라 보전하는 것이 더 좋을때도 있음)<br>\n",
    "    - 특징간 상관성이 있을때 모델에 영향을 받는 모델이 있고, 그렇지 않은 모델이 있기 때문.<br>\n",
    "    - 즉 특정 변수들이 특징간 상관관계가 크다면, 상관성에 영향을 받지 않는 모델로 바꾸면 된다.<br><br>\n",
    "- 별표 표시가 된 부분은 값을 어떻게 전처리 하느냐에 따라 모델 성능에 크게 영향을 미칠 수 있는 전처리들이다.(튜닝을 반드시 해줘야함)\n",
    "---"
   ]
  },
  {
   "cell_type": "markdown",
   "metadata": {},
   "source": [
    "![](이미지75.png)\n",
    "\n",
    "- 스케일링을 후에 클래스 불균형을 확인한다.\n",
    "    - Resampling의 경우 거리 기반에 근거한 처리이므로, 스케일링이 먼저 된 경우 더 좋은 효과를 볼 수 있다."
   ]
  },
  {
   "cell_type": "markdown",
   "metadata": {},
   "source": [
    "# 어떻게 파라미터 그리드를 설계 해야 할까? - 파라미터 그리드\n",
    "---\n",
    "\n",
    "- 탐색을 제대로 하지 않을 경우 아래의 파라미터 그리드에 포함된 파라미터의 개수가 수십 ~ 수백만개가 되는 것이 다반사이다.\n",
    "- 그러므로, 데이터 탐색 및 전처리를 확실히 한 후에 파라미터 그리드에서도 탐색을 확실히 해야 한다.\n",
    "\n",
    "---\n",
    "\n",
    "![](이미지76.png)"
   ]
  }
 ],
 "metadata": {
  "kernelspec": {
   "display_name": "Python 3",
   "language": "python",
   "name": "python3"
  },
  "language_info": {
   "codemirror_mode": {
    "name": "ipython",
    "version": 3
   },
   "file_extension": ".py",
   "mimetype": "text/x-python",
   "name": "python",
   "nbconvert_exporter": "python",
   "pygments_lexer": "ipython3",
   "version": "3.8.5"
  },
  "toc": {
   "base_numbering": 1,
   "nav_menu": {},
   "number_sections": true,
   "sideBar": true,
   "skip_h1_title": false,
   "title_cell": "Table of Contents",
   "title_sidebar": "Contents",
   "toc_cell": false,
   "toc_position": {},
   "toc_section_display": true,
   "toc_window_display": false
  },
  "varInspector": {
   "cols": {
    "lenName": 16,
    "lenType": 16,
    "lenVar": 40
   },
   "kernels_config": {
    "python": {
     "delete_cmd_postfix": "",
     "delete_cmd_prefix": "del ",
     "library": "var_list.py",
     "varRefreshCmd": "print(var_dic_list())"
    },
    "r": {
     "delete_cmd_postfix": ") ",
     "delete_cmd_prefix": "rm(",
     "library": "var_list.r",
     "varRefreshCmd": "cat(var_dic_list()) "
    }
   },
   "types_to_exclude": [
    "module",
    "function",
    "builtin_function_or_method",
    "instance",
    "_Feature"
   ],
   "window_display": false
  }
 },
 "nbformat": 4,
 "nbformat_minor": 4
}
