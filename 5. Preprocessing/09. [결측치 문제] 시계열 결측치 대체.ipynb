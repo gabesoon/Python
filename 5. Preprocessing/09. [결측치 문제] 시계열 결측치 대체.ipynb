{
 "cells": [
  {
   "cell_type": "markdown",
   "metadata": {},
   "source": [
    "# 근처값으로 대체\n",
    "---\n",
    "- 시계열 변수 한정으로만 사용할 수 있는 방법\n",
    "- 시계열 변수의 경우 결측이 바로 이전 값 혹은 이후 값과 유사할 가능성이 높다는 특성 때문\n",
    "---\n",
    "![](이미지26.png)"
   ]
  },
  {
   "cell_type": "markdown",
   "metadata": {},
   "source": [
    "# 관련 문법 : DataFrame.fillna()\n",
    "---\n",
    "- 결측치를 특정 값이나 방법으로 채우는 함수\n",
    "\n",
    "파라미터\n",
    "\n",
    "---\n",
    "- value : 결측치를 대체할 값\n",
    "- method : 결측치를 대체할 방법\n",
    "    - method='ffill' : `결측치 이전` 의 유효한 값 가운데 `가장 가까운 값` 으로 채움\n",
    "    - method='bfill' : `결측치 이후` 의 유효한 값 가운데 `가장 가까운 값` 으로 채움\n",
    "---\n",
    "\n",
    "![](이미지27.png)\n",
    "\n",
    "---\n",
    "- method='ffill' 만을 쓸때의 맹점 : 결측치 이전에 값이 없을 때(결측치가 맨 앞의 값)\n",
    "- method='bfill' 만을 쓸때의 맹점 : 결측치 이후에 값이 없을 때(결측치가 맨 뒤의 값)\n",
    "\n",
    "\n",
    "- **이를 보완하기 위해 두개의 method를 동시에 써서 ffill로 값을 채워준 후 bffill로 나머지 NaN인 경우도 채워주는 함수를 쓴다.**"
   ]
  },
  {
   "cell_type": "code",
   "execution_count": 1,
   "metadata": {
    "ExecuteTime": {
     "end_time": "2021-07-15T08:01:37.418828Z",
     "start_time": "2021-07-15T08:01:36.803994Z"
    }
   },
   "outputs": [],
   "source": [
    "import os\n",
    "import pandas as pd\n",
    "\n",
    "# 불필요한 경고 표시 생략\n",
    "import warnings\n",
    "warnings.filterwarnings(action = 'ignore')\n",
    "\n",
    "a=%pwd # 현재 경로 a에 할당\n",
    "os.chdir(a) # 파일 로드 경로 설정"
   ]
  },
  {
   "cell_type": "code",
   "execution_count": 2,
   "metadata": {
    "ExecuteTime": {
     "end_time": "2021-07-15T08:01:38.609617Z",
     "start_time": "2021-07-15T08:01:37.420822Z"
    }
   },
   "outputs": [],
   "source": [
    "df = pd.read_excel(\"AirQuality.xlsx\")"
   ]
  },
  {
   "cell_type": "code",
   "execution_count": 3,
   "metadata": {
    "ExecuteTime": {
     "end_time": "2021-07-15T08:01:38.640533Z",
     "start_time": "2021-07-15T08:01:38.611610Z"
    }
   },
   "outputs": [
    {
     "data": {
      "text/plain": [
       "Date              0\n",
       "Time              0\n",
       "CO(GT)            1\n",
       "PT08.S1(CO)       2\n",
       "NMHC(GT)          2\n",
       "C6H6(GT)         10\n",
       "PT08.S2(NMHC)     4\n",
       "NOx(GT)           6\n",
       "PT08.S3(NOx)      7\n",
       "NO2(GT)           6\n",
       "PT08.S4(NO2)      6\n",
       "PT08.S5(O3)       1\n",
       "T                 0\n",
       "RH                0\n",
       "AH                0\n",
       "dtype: int64"
      ]
     },
     "execution_count": 3,
     "metadata": {},
     "output_type": "execute_result"
    }
   ],
   "source": [
    "# 각 변수의 결측치 개수 확인\n",
    "df.isnull().sum()"
   ]
  },
  {
   "cell_type": "markdown",
   "metadata": {},
   "source": [
    "# 앞의 값 or 뒤의 값으로 결측치 채우기\n",
    "---\n",
    " - 데이터를 train_test_split을 이용하여 임의로 분할한 경우에는 적용이 불가능\n",
    " - `분할하기 전에 결측치 대체가 가능한 유일한 케이스`"
   ]
  },
  {
   "cell_type": "code",
   "execution_count": 4,
   "metadata": {
    "ExecuteTime": {
     "end_time": "2021-07-15T08:01:38.656490Z",
     "start_time": "2021-07-15T08:01:38.642527Z"
    }
   },
   "outputs": [],
   "source": [
    "df = df.fillna(method = 'ffill').fillna(method = 'bfill')"
   ]
  },
  {
   "cell_type": "code",
   "execution_count": 5,
   "metadata": {
    "ExecuteTime": {
     "end_time": "2021-07-15T08:01:38.671449Z",
     "start_time": "2021-07-15T08:01:38.659482Z"
    }
   },
   "outputs": [
    {
     "data": {
      "text/plain": [
       "Date             0\n",
       "Time             0\n",
       "CO(GT)           0\n",
       "PT08.S1(CO)      0\n",
       "NMHC(GT)         0\n",
       "C6H6(GT)         0\n",
       "PT08.S2(NMHC)    0\n",
       "NOx(GT)          0\n",
       "PT08.S3(NOx)     0\n",
       "NO2(GT)          0\n",
       "PT08.S4(NO2)     0\n",
       "PT08.S5(O3)      0\n",
       "T                0\n",
       "RH               0\n",
       "AH               0\n",
       "dtype: int64"
      ]
     },
     "execution_count": 5,
     "metadata": {},
     "output_type": "execute_result"
    }
   ],
   "source": [
    "df.isnull().sum()"
   ]
  },
  {
   "cell_type": "markdown",
   "metadata": {},
   "source": [
    "## bfill을 먼저 쓰고 ffill을 나중에 쓰면 안되는걸까?"
   ]
  },
  {
   "cell_type": "markdown",
   "metadata": {},
   "source": [
    "- ffill을 먼저 사용하는 것이 더 바람직하다.\n",
    "- 새로 들어온 데이터의 경우 바로 뒤의값을 참조하는 것이 어렵다.(새로 들어온 데이터 뒤에 데이터가 없기 때문)"
   ]
  },
  {
   "cell_type": "markdown",
   "metadata": {},
   "source": [
    "## 시계열 결측치 대체(근처값 대체) 를 쓰기 어려운 경우\n",
    "---\n",
    "\n",
    "- 하나의 변수에만 결측치가 유독 몰려있는 경우(특히 연속해서 결측치가 발생한 경우), 근처의 값을 가져온다고 해도 그 값이 매우 멀리 떨어진 시계열상의 값일 수 있기 때문에 이 경우에는 부적절하다."
   ]
  }
 ],
 "metadata": {
  "kernelspec": {
   "display_name": "Python 3",
   "language": "python",
   "name": "python3"
  },
  "language_info": {
   "codemirror_mode": {
    "name": "ipython",
    "version": 3
   },
   "file_extension": ".py",
   "mimetype": "text/x-python",
   "name": "python",
   "nbconvert_exporter": "python",
   "pygments_lexer": "ipython3",
   "version": "3.8.5"
  },
  "toc": {
   "base_numbering": 1,
   "nav_menu": {},
   "number_sections": true,
   "sideBar": true,
   "skip_h1_title": false,
   "title_cell": "Table of Contents",
   "title_sidebar": "Contents",
   "toc_cell": false,
   "toc_position": {},
   "toc_section_display": true,
   "toc_window_display": true
  },
  "varInspector": {
   "cols": {
    "lenName": 16,
    "lenType": 16,
    "lenVar": 40
   },
   "kernels_config": {
    "python": {
     "delete_cmd_postfix": "",
     "delete_cmd_prefix": "del ",
     "library": "var_list.py",
     "varRefreshCmd": "print(var_dic_list())"
    },
    "r": {
     "delete_cmd_postfix": ") ",
     "delete_cmd_prefix": "rm(",
     "library": "var_list.r",
     "varRefreshCmd": "cat(var_dic_list()) "
    }
   },
   "types_to_exclude": [
    "module",
    "function",
    "builtin_function_or_method",
    "instance",
    "_Feature"
   ],
   "window_display": false
  }
 },
 "nbformat": 4,
 "nbformat_minor": 2
}
