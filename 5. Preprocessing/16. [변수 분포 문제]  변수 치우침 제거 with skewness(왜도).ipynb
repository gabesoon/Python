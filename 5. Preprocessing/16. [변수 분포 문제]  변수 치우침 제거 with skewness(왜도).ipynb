{
 "cells": [
  {
   "cell_type": "markdown",
   "metadata": {},
   "source": [
    "# 변수 치우침 문제\n",
    "---\n",
    "- 모델링에 가장 적합한 확률 분포는 정규분포이지만, 실제 다루는 데이터는 변수가 한쪽 방향에 치우쳐 있는 경우가 대부분이다.\n",
    "- 한 쪽으로 변수가 치우쳐 있으면, 치우친 반대 방향의 값 (= 아래 그림의 꼬리부분) 들이 `이상치 처럼 작용` 할 수 있으므로 제거해 줘야 한다.\n",
    "---\n",
    "\n",
    "![치우침](이미지42.png)"
   ]
  },
  {
   "cell_type": "markdown",
   "metadata": {},
   "source": [
    "## 변수 탐색 방법 : 왜도(skewness) \n",
    "---\n",
    "- 변수 치우침을 확인하기에 가장 적절한 척도\n",
    "- 왜도는 분포의 비대칭도를 나타내는 통계량, 왜도 값에 따른 데이터의 분포는 아래와 같다.\n",
    "---\n",
    "\n",
    "![](이미지43.png)\n",
    "\n",
    "---\n",
    "- 일반적으로 `왜도의 절대값 > 1.5` 이면 데이터가 치우쳤다고 판단한다. (절대적인 기준은 아니다.)"
   ]
  },
  {
   "cell_type": "markdown",
   "metadata": {},
   "source": [
    "## 관련 문법 : scipy.stats\n",
    "---\n",
    "\n",
    "- scipy.stats.mode : 최빈값을 구하는 함수\n",
    "- scipy.stats.skew : 왜도를 구하는 함수\n",
    "- scipy.stats.kurtosis : 첨도를 구하는 함수\n",
    "---\n",
    "\n",
    "- 변수의 치우침 문제를 해결하는 핵심은 `값 사이의 차이를 줄이는 것` 이다.\n",
    "- 대표적인 처리방식은 아래와 같다.\n",
    "![](이미지44.png)\n",
    "---\n",
    "\n",
    "- 두 가지 모두 min값을 빼는 연산이 들어가 있다 \n",
    "- 둘다 양수에 대해서만 정의 되기 때문 -> 즉, x가 음수인걸 방지하기 위함"
   ]
  },
  {
   "cell_type": "code",
   "execution_count": 1,
   "metadata": {
    "ExecuteTime": {
     "end_time": "2021-07-16T01:48:01.153113Z",
     "start_time": "2021-07-16T01:48:00.576548Z"
    }
   },
   "outputs": [
    {
     "data": {
      "text/html": [
       "<div>\n",
       "<style scoped>\n",
       "    .dataframe tbody tr th:only-of-type {\n",
       "        vertical-align: middle;\n",
       "    }\n",
       "\n",
       "    .dataframe tbody tr th {\n",
       "        vertical-align: top;\n",
       "    }\n",
       "\n",
       "    .dataframe thead th {\n",
       "        text-align: right;\n",
       "    }\n",
       "</style>\n",
       "<table border=\"1\" class=\"dataframe\">\n",
       "  <thead>\n",
       "    <tr style=\"text-align: right;\">\n",
       "      <th></th>\n",
       "      <th>Band1</th>\n",
       "      <th>Band2</th>\n",
       "      <th>Band3</th>\n",
       "      <th>Band4</th>\n",
       "      <th>Band5</th>\n",
       "      <th>Band6</th>\n",
       "      <th>Band7</th>\n",
       "      <th>Band8</th>\n",
       "      <th>Band9</th>\n",
       "      <th>Band10</th>\n",
       "      <th>...</th>\n",
       "      <th>Band52</th>\n",
       "      <th>Band53</th>\n",
       "      <th>Band54</th>\n",
       "      <th>Band55</th>\n",
       "      <th>Band56</th>\n",
       "      <th>Band57</th>\n",
       "      <th>Band58</th>\n",
       "      <th>Band59</th>\n",
       "      <th>Band60</th>\n",
       "      <th>Y</th>\n",
       "    </tr>\n",
       "  </thead>\n",
       "  <tbody>\n",
       "    <tr>\n",
       "      <th>0</th>\n",
       "      <td>0.020</td>\n",
       "      <td>0.037</td>\n",
       "      <td>0.043</td>\n",
       "      <td>0.021</td>\n",
       "      <td>0.095</td>\n",
       "      <td>0.099</td>\n",
       "      <td>0.154</td>\n",
       "      <td>0.160</td>\n",
       "      <td>0.311</td>\n",
       "      <td>0.211</td>\n",
       "      <td>...</td>\n",
       "      <td>0.003</td>\n",
       "      <td>0.006</td>\n",
       "      <td>0.016</td>\n",
       "      <td>0.007</td>\n",
       "      <td>0.017</td>\n",
       "      <td>0.018</td>\n",
       "      <td>0.008</td>\n",
       "      <td>0.009</td>\n",
       "      <td>0.003</td>\n",
       "      <td>R</td>\n",
       "    </tr>\n",
       "    <tr>\n",
       "      <th>1</th>\n",
       "      <td>0.045</td>\n",
       "      <td>0.052</td>\n",
       "      <td>0.084</td>\n",
       "      <td>0.069</td>\n",
       "      <td>0.118</td>\n",
       "      <td>0.258</td>\n",
       "      <td>0.216</td>\n",
       "      <td>0.348</td>\n",
       "      <td>0.334</td>\n",
       "      <td>0.287</td>\n",
       "      <td>...</td>\n",
       "      <td>0.008</td>\n",
       "      <td>0.009</td>\n",
       "      <td>0.005</td>\n",
       "      <td>0.009</td>\n",
       "      <td>0.019</td>\n",
       "      <td>0.014</td>\n",
       "      <td>0.005</td>\n",
       "      <td>0.005</td>\n",
       "      <td>0.004</td>\n",
       "      <td>R</td>\n",
       "    </tr>\n",
       "    <tr>\n",
       "      <th>2</th>\n",
       "      <td>0.026</td>\n",
       "      <td>0.058</td>\n",
       "      <td>0.110</td>\n",
       "      <td>0.108</td>\n",
       "      <td>0.097</td>\n",
       "      <td>0.228</td>\n",
       "      <td>0.243</td>\n",
       "      <td>0.377</td>\n",
       "      <td>0.560</td>\n",
       "      <td>0.619</td>\n",
       "      <td>...</td>\n",
       "      <td>0.023</td>\n",
       "      <td>0.017</td>\n",
       "      <td>0.010</td>\n",
       "      <td>0.018</td>\n",
       "      <td>0.024</td>\n",
       "      <td>0.032</td>\n",
       "      <td>0.016</td>\n",
       "      <td>0.010</td>\n",
       "      <td>0.008</td>\n",
       "      <td>R</td>\n",
       "    </tr>\n",
       "    <tr>\n",
       "      <th>3</th>\n",
       "      <td>0.010</td>\n",
       "      <td>0.017</td>\n",
       "      <td>0.062</td>\n",
       "      <td>0.020</td>\n",
       "      <td>0.020</td>\n",
       "      <td>0.037</td>\n",
       "      <td>0.110</td>\n",
       "      <td>0.128</td>\n",
       "      <td>0.060</td>\n",
       "      <td>0.126</td>\n",
       "      <td>...</td>\n",
       "      <td>0.012</td>\n",
       "      <td>0.004</td>\n",
       "      <td>0.015</td>\n",
       "      <td>0.008</td>\n",
       "      <td>0.007</td>\n",
       "      <td>0.005</td>\n",
       "      <td>0.004</td>\n",
       "      <td>0.004</td>\n",
       "      <td>0.012</td>\n",
       "      <td>R</td>\n",
       "    </tr>\n",
       "    <tr>\n",
       "      <th>4</th>\n",
       "      <td>0.076</td>\n",
       "      <td>0.067</td>\n",
       "      <td>0.048</td>\n",
       "      <td>0.039</td>\n",
       "      <td>0.059</td>\n",
       "      <td>0.065</td>\n",
       "      <td>0.121</td>\n",
       "      <td>0.247</td>\n",
       "      <td>0.356</td>\n",
       "      <td>0.446</td>\n",
       "      <td>...</td>\n",
       "      <td>0.003</td>\n",
       "      <td>0.005</td>\n",
       "      <td>0.010</td>\n",
       "      <td>0.011</td>\n",
       "      <td>0.002</td>\n",
       "      <td>0.007</td>\n",
       "      <td>0.005</td>\n",
       "      <td>0.011</td>\n",
       "      <td>0.009</td>\n",
       "      <td>R</td>\n",
       "    </tr>\n",
       "  </tbody>\n",
       "</table>\n",
       "<p>5 rows × 61 columns</p>\n",
       "</div>"
      ],
      "text/plain": [
       "   Band1  Band2  Band3  Band4  Band5  Band6  Band7  Band8  Band9  Band10  ...  \\\n",
       "0  0.020  0.037  0.043  0.021  0.095  0.099  0.154  0.160  0.311   0.211  ...   \n",
       "1  0.045  0.052  0.084  0.069  0.118  0.258  0.216  0.348  0.334   0.287  ...   \n",
       "2  0.026  0.058  0.110  0.108  0.097  0.228  0.243  0.377  0.560   0.619  ...   \n",
       "3  0.010  0.017  0.062  0.020  0.020  0.037  0.110  0.128  0.060   0.126  ...   \n",
       "4  0.076  0.067  0.048  0.039  0.059  0.065  0.121  0.247  0.356   0.446  ...   \n",
       "\n",
       "   Band52  Band53  Band54  Band55  Band56  Band57  Band58  Band59  Band60  Y  \n",
       "0   0.003   0.006   0.016   0.007   0.017   0.018   0.008   0.009   0.003  R  \n",
       "1   0.008   0.009   0.005   0.009   0.019   0.014   0.005   0.005   0.004  R  \n",
       "2   0.023   0.017   0.010   0.018   0.024   0.032   0.016   0.010   0.008  R  \n",
       "3   0.012   0.004   0.015   0.008   0.007   0.005   0.004   0.004   0.012  R  \n",
       "4   0.003   0.005   0.010   0.011   0.002   0.007   0.005   0.011   0.009  R  \n",
       "\n",
       "[5 rows x 61 columns]"
      ]
     },
     "execution_count": 1,
     "metadata": {},
     "output_type": "execute_result"
    }
   ],
   "source": [
    "import os\n",
    "import pandas as pd\n",
    "\n",
    "# 불필요한 경고 표시 생략\n",
    "import warnings\n",
    "warnings.filterwarnings(action = 'ignore')\n",
    "\n",
    "a=%pwd # 현재 경로 a에 할당\n",
    "os.chdir(a) # 파일 로드 경로 설정\n",
    "\n",
    "df = pd.read_csv(\"Sonar_Mines_Rocks.csv\")\n",
    "df.head()"
   ]
  },
  {
   "cell_type": "code",
   "execution_count": 2,
   "metadata": {
    "ExecuteTime": {
     "end_time": "2021-07-16T01:48:06.187182Z",
     "start_time": "2021-07-16T01:48:06.183209Z"
    }
   },
   "outputs": [],
   "source": [
    "# 특징과 라벨 분리\n",
    "X = df.drop('Y', axis = 1)\n",
    "Y = df['Y']"
   ]
  },
  {
   "cell_type": "code",
   "execution_count": 3,
   "metadata": {
    "ExecuteTime": {
     "end_time": "2021-07-16T01:48:11.151276Z",
     "start_time": "2021-07-16T01:48:09.526538Z"
    }
   },
   "outputs": [],
   "source": [
    "# 학습 데이터와 평가 데이터로 분리\n",
    "from sklearn.model_selection import train_test_split\n",
    "Train_X, Test_X, Train_Y, Test_Y = train_test_split(X, Y)"
   ]
  },
  {
   "cell_type": "code",
   "execution_count": 4,
   "metadata": {
    "ExecuteTime": {
     "end_time": "2021-07-16T01:48:11.863564Z",
     "start_time": "2021-07-16T01:48:11.849626Z"
    },
    "scrolled": true
   },
   "outputs": [
    {
     "data": {
      "text/plain": [
       "Band1     2.009857\n",
       "Band2     2.489728\n",
       "Band3     3.145691\n",
       "Band4     3.682984\n",
       "Band5     2.239760\n",
       "Band6     1.236606\n",
       "Band7     0.839397\n",
       "Band8     1.417339\n",
       "Band9     1.701047\n",
       "Band10    1.353412\n",
       "Band11    1.062486\n",
       "Band12    0.438254\n",
       "Band13    0.675236\n",
       "Band14    1.109336\n",
       "Band15    0.924696\n",
       "Band16    0.830125\n",
       "Band17    0.783883\n",
       "Band18    0.678354\n",
       "Band19    0.411325\n",
       "Band20    0.108063\n",
       "Band21   -0.034736\n",
       "Band22   -0.274950\n",
       "Band23   -0.611264\n",
       "Band24   -0.725188\n",
       "Band25   -0.793546\n",
       "Band26   -0.651028\n",
       "Band27   -0.666736\n",
       "Band28   -0.634275\n",
       "Band29   -0.571756\n",
       "Band30   -0.270262\n",
       "Band31    0.147533\n",
       "Band32    0.299008\n",
       "Band33    0.404763\n",
       "Band34    0.507678\n",
       "Band35    0.541791\n",
       "Band36    0.621823\n",
       "Band37    0.737148\n",
       "Band38    1.049953\n",
       "Band39    0.950156\n",
       "Band40    0.934566\n",
       "Band41    0.866698\n",
       "Band42    0.814357\n",
       "Band43    0.963008\n",
       "Band44    1.284180\n",
       "Band45    1.342824\n",
       "Band46    1.591834\n",
       "Band47    1.696766\n",
       "Band48    1.196462\n",
       "Band49    1.216696\n",
       "Band50    1.671294\n",
       "Band51    2.741409\n",
       "Band52    2.211963\n",
       "Band53    1.105059\n",
       "Band54    1.067540\n",
       "Band55    2.035545\n",
       "Band56    1.916082\n",
       "Band57    1.688267\n",
       "Band58    2.222138\n",
       "Band59    1.598154\n",
       "Band60    1.301051\n",
       "dtype: float64"
      ]
     },
     "execution_count": 4,
     "metadata": {},
     "output_type": "execute_result"
    }
   ],
   "source": [
    "Train_X.skew() # 왜도 확인"
   ]
  },
  {
   "cell_type": "markdown",
   "metadata": {},
   "source": [
    "Band4의 왜도가 가장 크다."
   ]
  },
  {
   "cell_type": "code",
   "execution_count": 5,
   "metadata": {
    "ExecuteTime": {
     "end_time": "2021-07-16T01:48:59.612790Z",
     "start_time": "2021-07-16T01:48:58.691996Z"
    }
   },
   "outputs": [
    {
     "data": {
      "text/plain": [
       "<AxesSubplot:>"
      ]
     },
     "execution_count": 5,
     "metadata": {},
     "output_type": "execute_result"
    },
    {
     "data": {
      "image/png": "[encoded data removed]",
      "text/plain": [
       "<Figure size 432x288 with 1 Axes>"
      ]
     },
     "metadata": {
      "needs_background": "light"
     },
     "output_type": "display_data"
    }
   ],
   "source": [
    "# Band4의 모양 확인\n",
    "\n",
    "%matplotlib inline\n",
    "df['Band4'].hist()"
   ]
  },
  {
   "cell_type": "markdown",
   "metadata": {},
   "source": [
    "# 치우침 제거 성능 비교 모델 생성"
   ]
  },
  {
   "cell_type": "code",
   "execution_count": 6,
   "metadata": {
    "ExecuteTime": {
     "end_time": "2021-07-16T01:49:50.248582Z",
     "start_time": "2021-07-16T01:49:50.230630Z"
    }
   },
   "outputs": [
    {
     "data": {
      "text/plain": [
       "array(['R', 'M'], dtype=object)"
      ]
     },
     "execution_count": 6,
     "metadata": {},
     "output_type": "execute_result"
    }
   ],
   "source": [
    "Y.unique()"
   ]
  },
  {
   "cell_type": "code",
   "execution_count": 7,
   "metadata": {
    "ExecuteTime": {
     "end_time": "2021-07-16T01:49:55.141521Z",
     "start_time": "2021-07-16T01:49:55.121557Z"
    }
   },
   "outputs": [],
   "source": [
    "# 라벨 숫자로 바꾸기\n",
    "Train_Y.replace({\"M\":-1, \"R\":1}, inplace = True)\n",
    "Test_Y.replace({\"M\":-1, \"R\":1}, inplace = True)"
   ]
  },
  {
   "cell_type": "code",
   "execution_count": 8,
   "metadata": {
    "ExecuteTime": {
     "end_time": "2021-07-16T01:50:42.077636Z",
     "start_time": "2021-07-16T01:50:40.751804Z"
    }
   },
   "outputs": [
    {
     "name": "stdout",
     "output_type": "stream",
     "text": [
      "0.8400000000000001\n"
     ]
    }
   ],
   "source": [
    "from sklearn.metrics import f1_score #분류 모델 평가지표\n",
    "from sklearn.neural_network import MLPClassifier as MLP\n",
    "\n",
    "# 원본 데이터로 모델링\n",
    "model = MLP(random_state = 153, max_iter = 1000).fit(Train_X, Train_Y)\n",
    "pred_Y = model.predict(Test_X)\n",
    "score = f1_score(Test_Y, pred_Y)\n",
    "print(score)"
   ]
  },
  {
   "cell_type": "markdown",
   "metadata": {},
   "source": [
    "# 왜도 기반 치우친 변수 제거후 평가"
   ]
  },
  {
   "cell_type": "code",
   "execution_count": 9,
   "metadata": {
    "ExecuteTime": {
     "end_time": "2021-07-16T01:51:33.976737Z",
     "start_time": "2021-07-16T01:51:33.969755Z"
    }
   },
   "outputs": [],
   "source": [
    "# 왜도 기반 치우친 변수 제거 \n",
    "import numpy as np\n",
    "biased_variables = Train_X.columns[Train_X.skew().abs() > 1.5] # 왜도의 절대값(abs)이 1.5 이상인 컬럼만 가져오기"
   ]
  },
  {
   "cell_type": "code",
   "execution_count": 10,
   "metadata": {
    "ExecuteTime": {
     "end_time": "2021-07-16T01:51:37.019249Z",
     "start_time": "2021-07-16T01:51:36.988236Z"
    }
   },
   "outputs": [],
   "source": [
    "# 치우침 제거 (train)\n",
    "Train_X[biased_variables] = Train_X[biased_variables] - Train_X[biased_variables].min() + 1\n",
    "Train_X[biased_variables] = np.log10(Train_X[biased_variables])"
   ]
  },
  {
   "cell_type": "code",
   "execution_count": 11,
   "metadata": {
    "ExecuteTime": {
     "end_time": "2021-07-16T01:51:41.533385Z",
     "start_time": "2021-07-16T01:51:40.243577Z"
    }
   },
   "outputs": [
    {
     "name": "stdout",
     "output_type": "stream",
     "text": [
      "0.6153846153846155\n"
     ]
    }
   ],
   "source": [
    "# 치우침 제거 후 모델 평가\n",
    "model = MLP(random_state = 153, max_iter = 1000).fit(Train_X, Train_Y)\n",
    "\n",
    "# 테스트도 데이터도 같은 방법으로 전처리 수행(치우침 제거)\n",
    "Test_X[biased_variables] = Test_X[biased_variables] - Test_X[biased_variables].min() + 1\n",
    "Test_X[biased_variables] = Test_X[biased_variables].apply(np.log)\n",
    "\n",
    "pred_Y = model.predict(Test_X)\n",
    "score = f1_score(Test_Y, pred_Y)\n",
    "print(score)"
   ]
  },
  {
   "cell_type": "markdown",
   "metadata": {},
   "source": [
    "모델 평가 지표가 `0.8400000000000001 => 0.6153846153846155` 로 향상 되었다."
   ]
  }
 ],
 "metadata": {
  "kernelspec": {
   "display_name": "Python 3",
   "language": "python",
   "name": "python3"
  },
  "language_info": {
   "codemirror_mode": {
    "name": "ipython",
    "version": 3
   },
   "file_extension": ".py",
   "mimetype": "text/x-python",
   "name": "python",
   "nbconvert_exporter": "python",
   "pygments_lexer": "ipython3",
   "version": "3.8.5"
  },
  "toc": {
   "base_numbering": 1,
   "nav_menu": {},
   "number_sections": true,
   "sideBar": true,
   "skip_h1_title": false,
   "title_cell": "Table of Contents",
   "title_sidebar": "Contents",
   "toc_cell": false,
   "toc_position": {},
   "toc_section_display": true,
   "toc_window_display": true
  },
  "varInspector": {
   "cols": {
    "lenName": 16,
    "lenType": 16,
    "lenVar": 40
   },
   "kernels_config": {
    "python": {
     "delete_cmd_postfix": "",
     "delete_cmd_prefix": "del ",
     "library": "var_list.py",
     "varRefreshCmd": "print(var_dic_list())"
    },
    "r": {
     "delete_cmd_postfix": ") ",
     "delete_cmd_prefix": "rm(",
     "library": "var_list.r",
     "varRefreshCmd": "cat(var_dic_list()) "
    }
   },
   "types_to_exclude": [
    "module",
    "function",
    "builtin_function_or_method",
    "instance",
    "_Feature"
   ],
   "window_display": false
  }
 },
 "nbformat": 4,
 "nbformat_minor": 2
}
