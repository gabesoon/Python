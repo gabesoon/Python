{
 "cells": [
  {
   "cell_type": "markdown",
   "metadata": {},
   "source": [
    "# 스케일이 달라서 발생하는 문제\n",
    "---\n",
    "\n",
    "- 특징간 스케일이 달라서 발생하는 문제\n",
    "- 스케일이 큰 변수에 의해 or 스케일이 작은 변수에 의해 모델이 크게 영향을 받는 문제가 발생할 수 있다.\n",
    "---\n",
    "\n",
    "- 스케일이 큰 변수에 영향을 받는 모델 : K-menas \n",
    "\n",
    "\n",
    "- 스케일이 작은 변수에 영향을 받는 모델 : 회귀모델, SVM, 신경망\n",
    "\n",
    "\n",
    "- 스케일에 영향을 받지 않는 모델 : Naive Bayes, Decision Tree(Binary tree한정)"
   ]
  },
  {
   "cell_type": "markdown",
   "metadata": {},
   "source": [
    "# 스케일링 문제 해결 방법\n",
    "---\n",
    "- 스케일링 기법을 통해 변수간 스케일의 차이를 줄여 준다.\n",
    "- 일반적으로 모델에 따라 2가지 스케일러를 사용한다.\n",
    "    - 1) Standard Scaler : 특징이 정규 분포를 가진다고 가정하는 모델 (e.g : 회귀 모델, 로지스틱 모델 등)\n",
    "    - 2) Min-Max Scaler : 특정 분포를 가정하지 않는 모델 (e.g : 신경망, K-means 등)\n",
    "---\n",
    "\n",
    "![](이미지45.png)\n",
    "\n",
    "---\n",
    "- Standard Scaling : 특징값에서 전체의 평균값을 빼고 표준편차로 나눈 값\n",
    "    - 이론적으로는 범위가 -∞ ~ +∞ 이다.\n",
    "    - 하지만 실질적으로는 -3 ~ +3 가 일반적이다.\n",
    "    \n",
    "    \n",
    "- Min-max Scaling : 특징값에서 최소값을 뺀 것을 (최대값-최소값)을 한 값으로 나눠주는 것\n",
    "    - 항상 0 ~ 1 사이의 범위의 값을 가진다."
   ]
  },
  {
   "cell_type": "markdown",
   "metadata": {},
   "source": [
    "- Standard Scaling을 한다고 하더라도 변수간 스케일이 완벽하게 맞춰지지는 않기 때문에 대부분의 경우는 MinMax Scaling을 사용하는 것이 더 바람직하다. (특수한 경우 제외)"
   ]
  },
  {
   "cell_type": "markdown",
   "metadata": {},
   "source": [
    "## 관련 문법 : sklearn.preprocessing.MinMaxScaler & StandardScaler\n",
    "---\n",
    "\n",
    "- MinMaxScaler & StandardScaler를 수행하는 인스턴스를 생성하는 함수\n",
    "\n",
    "\n",
    "**주요 메서드**\n",
    "\n",
    "---\n",
    "- fit : 변수별 통계량을 계산하여 저장 (min max는 최대값 & 최소값, standard는 평균 & 표준편차)\n",
    "- transform : 변수별 통계량을 바탕으로 스케일링 적용\n",
    "- inverse_transform : 스케일랑된 값을 다시 원래 값으로 변환 \n",
    "    - 보통 특징을 scaling하면 label도 scaling하기 때문에, 예측한 후에 다시 원래 값으로 돌릴때 많이 사용"
   ]
  },
  {
   "cell_type": "code",
   "execution_count": 1,
   "metadata": {
    "ExecuteTime": {
     "end_time": "2021-07-16T02:24:42.073050Z",
     "start_time": "2021-07-16T02:24:41.616842Z"
    }
   },
   "outputs": [],
   "source": [
    "import os\n",
    "import pandas as pd\n",
    "\n",
    "# 불필요한 경고 표시 생략\n",
    "import warnings\n",
    "warnings.filterwarnings(action = 'ignore')\n",
    "\n",
    "a=%pwd # 현재 경로 a에 할당\n",
    "os.chdir(a) # 파일 로드 경로 설정"
   ]
  },
  {
   "cell_type": "code",
   "execution_count": 2,
   "metadata": {
    "ExecuteTime": {
     "end_time": "2021-07-16T02:24:42.133231Z",
     "start_time": "2021-07-16T02:24:42.075679Z"
    }
   },
   "outputs": [
    {
     "data": {
      "text/html": [
       "<div>\n",
       "<style scoped>\n",
       "    .dataframe tbody tr th:only-of-type {\n",
       "        vertical-align: middle;\n",
       "    }\n",
       "\n",
       "    .dataframe tbody tr th {\n",
       "        vertical-align: top;\n",
       "    }\n",
       "\n",
       "    .dataframe thead th {\n",
       "        text-align: right;\n",
       "    }\n",
       "</style>\n",
       "<table border=\"1\" class=\"dataframe\">\n",
       "  <thead>\n",
       "    <tr style=\"text-align: right;\">\n",
       "      <th></th>\n",
       "      <th>Batting_average</th>\n",
       "      <th>On-base_percentage</th>\n",
       "      <th>Runs</th>\n",
       "      <th>Hits</th>\n",
       "      <th>Doubles</th>\n",
       "      <th>Triples</th>\n",
       "      <th>HomeRuns</th>\n",
       "      <th>Runs_batted_in</th>\n",
       "      <th>Walks</th>\n",
       "      <th>Strike-Outs</th>\n",
       "      <th>Stolen_bases</th>\n",
       "      <th>Errors</th>\n",
       "      <th>Free_agency_eligibility</th>\n",
       "      <th>Free_agent</th>\n",
       "      <th>Arbitration_eligibility</th>\n",
       "      <th>Arbitration</th>\n",
       "      <th>Salary</th>\n",
       "    </tr>\n",
       "  </thead>\n",
       "  <tbody>\n",
       "    <tr>\n",
       "      <th>0</th>\n",
       "      <td>0.271</td>\n",
       "      <td>0.328</td>\n",
       "      <td>74</td>\n",
       "      <td>161</td>\n",
       "      <td>22</td>\n",
       "      <td>6</td>\n",
       "      <td>12</td>\n",
       "      <td>58</td>\n",
       "      <td>49</td>\n",
       "      <td>133</td>\n",
       "      <td>23</td>\n",
       "      <td>17</td>\n",
       "      <td>1</td>\n",
       "      <td>1</td>\n",
       "      <td>0</td>\n",
       "      <td>0</td>\n",
       "      <td>109</td>\n",
       "    </tr>\n",
       "    <tr>\n",
       "      <th>1</th>\n",
       "      <td>0.264</td>\n",
       "      <td>0.318</td>\n",
       "      <td>24</td>\n",
       "      <td>48</td>\n",
       "      <td>7</td>\n",
       "      <td>0</td>\n",
       "      <td>1</td>\n",
       "      <td>22</td>\n",
       "      <td>15</td>\n",
       "      <td>18</td>\n",
       "      <td>0</td>\n",
       "      <td>7</td>\n",
       "      <td>0</td>\n",
       "      <td>0</td>\n",
       "      <td>0</td>\n",
       "      <td>0</td>\n",
       "      <td>160</td>\n",
       "    </tr>\n",
       "    <tr>\n",
       "      <th>2</th>\n",
       "      <td>0.251</td>\n",
       "      <td>0.338</td>\n",
       "      <td>101</td>\n",
       "      <td>141</td>\n",
       "      <td>35</td>\n",
       "      <td>3</td>\n",
       "      <td>32</td>\n",
       "      <td>105</td>\n",
       "      <td>71</td>\n",
       "      <td>104</td>\n",
       "      <td>34</td>\n",
       "      <td>6</td>\n",
       "      <td>0</td>\n",
       "      <td>0</td>\n",
       "      <td>1</td>\n",
       "      <td>0</td>\n",
       "      <td>2700</td>\n",
       "    </tr>\n",
       "    <tr>\n",
       "      <th>3</th>\n",
       "      <td>0.224</td>\n",
       "      <td>0.274</td>\n",
       "      <td>28</td>\n",
       "      <td>94</td>\n",
       "      <td>21</td>\n",
       "      <td>1</td>\n",
       "      <td>1</td>\n",
       "      <td>44</td>\n",
       "      <td>27</td>\n",
       "      <td>54</td>\n",
       "      <td>2</td>\n",
       "      <td>7</td>\n",
       "      <td>1</td>\n",
       "      <td>1</td>\n",
       "      <td>0</td>\n",
       "      <td>0</td>\n",
       "      <td>550</td>\n",
       "    </tr>\n",
       "    <tr>\n",
       "      <th>4</th>\n",
       "      <td>0.206</td>\n",
       "      <td>0.262</td>\n",
       "      <td>14</td>\n",
       "      <td>51</td>\n",
       "      <td>18</td>\n",
       "      <td>1</td>\n",
       "      <td>1</td>\n",
       "      <td>28</td>\n",
       "      <td>17</td>\n",
       "      <td>26</td>\n",
       "      <td>0</td>\n",
       "      <td>3</td>\n",
       "      <td>1</td>\n",
       "      <td>1</td>\n",
       "      <td>0</td>\n",
       "      <td>0</td>\n",
       "      <td>300</td>\n",
       "    </tr>\n",
       "  </tbody>\n",
       "</table>\n",
       "</div>"
      ],
      "text/plain": [
       "   Batting_average  On-base_percentage  Runs  Hits  Doubles  Triples  \\\n",
       "0            0.271               0.328    74   161       22        6   \n",
       "1            0.264               0.318    24    48        7        0   \n",
       "2            0.251               0.338   101   141       35        3   \n",
       "3            0.224               0.274    28    94       21        1   \n",
       "4            0.206               0.262    14    51       18        1   \n",
       "\n",
       "   HomeRuns  Runs_batted_in  Walks  Strike-Outs  Stolen_bases  Errors  \\\n",
       "0        12              58     49          133            23      17   \n",
       "1         1              22     15           18             0       7   \n",
       "2        32             105     71          104            34       6   \n",
       "3         1              44     27           54             2       7   \n",
       "4         1              28     17           26             0       3   \n",
       "\n",
       "   Free_agency_eligibility  Free_agent  Arbitration_eligibility  Arbitration  \\\n",
       "0                        1           1                        0            0   \n",
       "1                        0           0                        0            0   \n",
       "2                        0           0                        1            0   \n",
       "3                        1           1                        0            0   \n",
       "4                        1           1                        0            0   \n",
       "\n",
       "   Salary  \n",
       "0     109  \n",
       "1     160  \n",
       "2    2700  \n",
       "3     550  \n",
       "4     300  "
      ]
     },
     "execution_count": 2,
     "metadata": {},
     "output_type": "execute_result"
    }
   ],
   "source": [
    "# 야구 선수 연봉 예측용 실습 파일\n",
    "df = pd.read_csv(\"baseball.csv\")\n",
    "df.head()"
   ]
  },
  {
   "cell_type": "code",
   "execution_count": 3,
   "metadata": {
    "ExecuteTime": {
     "end_time": "2021-07-16T02:24:42.148697Z",
     "start_time": "2021-07-16T02:24:42.135736Z"
    }
   },
   "outputs": [
    {
     "name": "stdout",
     "output_type": "stream",
     "text": [
      "<class 'pandas.core.frame.DataFrame'>\n",
      "RangeIndex: 337 entries, 0 to 336\n",
      "Data columns (total 17 columns):\n",
      " #   Column                   Non-Null Count  Dtype  \n",
      "---  ------                   --------------  -----  \n",
      " 0   Batting_average          337 non-null    float64\n",
      " 1   On-base_percentage       337 non-null    float64\n",
      " 2   Runs                     337 non-null    int64  \n",
      " 3   Hits                     337 non-null    int64  \n",
      " 4   Doubles                  337 non-null    int64  \n",
      " 5   Triples                  337 non-null    int64  \n",
      " 6   HomeRuns                 337 non-null    int64  \n",
      " 7   Runs_batted_in           337 non-null    int64  \n",
      " 8   Walks                    337 non-null    int64  \n",
      " 9   Strike-Outs              337 non-null    int64  \n",
      " 10  Stolen_bases             337 non-null    int64  \n",
      " 11  Errors                   337 non-null    int64  \n",
      " 12  Free_agency_eligibility  337 non-null    int64  \n",
      " 13  Free_agent               337 non-null    int64  \n",
      " 14  Arbitration_eligibility  337 non-null    int64  \n",
      " 15  Arbitration              337 non-null    int64  \n",
      " 16  Salary                   337 non-null    int64  \n",
      "dtypes: float64(2), int64(15)\n",
      "memory usage: 44.9 KB\n"
     ]
    }
   ],
   "source": [
    "df.info()"
   ]
  },
  {
   "cell_type": "code",
   "execution_count": 4,
   "metadata": {
    "ExecuteTime": {
     "end_time": "2021-07-16T02:24:42.238733Z",
     "start_time": "2021-07-16T02:24:42.150691Z"
    }
   },
   "outputs": [
    {
     "data": {
      "text/html": [
       "<div>\n",
       "<style scoped>\n",
       "    .dataframe tbody tr th:only-of-type {\n",
       "        vertical-align: middle;\n",
       "    }\n",
       "\n",
       "    .dataframe tbody tr th {\n",
       "        vertical-align: top;\n",
       "    }\n",
       "\n",
       "    .dataframe thead th {\n",
       "        text-align: right;\n",
       "    }\n",
       "</style>\n",
       "<table border=\"1\" class=\"dataframe\">\n",
       "  <thead>\n",
       "    <tr style=\"text-align: right;\">\n",
       "      <th></th>\n",
       "      <th>Batting_average</th>\n",
       "      <th>On-base_percentage</th>\n",
       "      <th>Runs</th>\n",
       "      <th>Hits</th>\n",
       "      <th>Doubles</th>\n",
       "      <th>Triples</th>\n",
       "      <th>HomeRuns</th>\n",
       "      <th>Runs_batted_in</th>\n",
       "      <th>Walks</th>\n",
       "      <th>Strike-Outs</th>\n",
       "      <th>Stolen_bases</th>\n",
       "      <th>Errors</th>\n",
       "      <th>Free_agency_eligibility</th>\n",
       "      <th>Free_agent</th>\n",
       "      <th>Arbitration_eligibility</th>\n",
       "      <th>Arbitration</th>\n",
       "      <th>Salary</th>\n",
       "    </tr>\n",
       "  </thead>\n",
       "  <tbody>\n",
       "    <tr>\n",
       "      <th>count</th>\n",
       "      <td>337.000000</td>\n",
       "      <td>337.000000</td>\n",
       "      <td>337.000000</td>\n",
       "      <td>337.000000</td>\n",
       "      <td>337.000000</td>\n",
       "      <td>337.000000</td>\n",
       "      <td>337.000000</td>\n",
       "      <td>337.000000</td>\n",
       "      <td>337.000000</td>\n",
       "      <td>337.000000</td>\n",
       "      <td>337.000000</td>\n",
       "      <td>337.000000</td>\n",
       "      <td>337.000000</td>\n",
       "      <td>337.000000</td>\n",
       "      <td>337.000000</td>\n",
       "      <td>337.000000</td>\n",
       "      <td>337.000000</td>\n",
       "    </tr>\n",
       "    <tr>\n",
       "      <th>mean</th>\n",
       "      <td>0.257825</td>\n",
       "      <td>0.323973</td>\n",
       "      <td>46.697329</td>\n",
       "      <td>92.833828</td>\n",
       "      <td>16.673591</td>\n",
       "      <td>2.338279</td>\n",
       "      <td>9.097923</td>\n",
       "      <td>44.020772</td>\n",
       "      <td>35.017804</td>\n",
       "      <td>56.706231</td>\n",
       "      <td>8.246291</td>\n",
       "      <td>6.771513</td>\n",
       "      <td>0.397626</td>\n",
       "      <td>0.115727</td>\n",
       "      <td>0.192878</td>\n",
       "      <td>0.029674</td>\n",
       "      <td>1248.528190</td>\n",
       "    </tr>\n",
       "    <tr>\n",
       "      <th>std</th>\n",
       "      <td>0.039546</td>\n",
       "      <td>0.047132</td>\n",
       "      <td>29.020166</td>\n",
       "      <td>51.896322</td>\n",
       "      <td>10.452001</td>\n",
       "      <td>2.543336</td>\n",
       "      <td>9.289934</td>\n",
       "      <td>29.559406</td>\n",
       "      <td>24.842474</td>\n",
       "      <td>33.828784</td>\n",
       "      <td>11.664782</td>\n",
       "      <td>5.927490</td>\n",
       "      <td>0.490135</td>\n",
       "      <td>0.320373</td>\n",
       "      <td>0.395145</td>\n",
       "      <td>0.169938</td>\n",
       "      <td>1240.013309</td>\n",
       "    </tr>\n",
       "    <tr>\n",
       "      <th>min</th>\n",
       "      <td>0.063000</td>\n",
       "      <td>0.063000</td>\n",
       "      <td>0.000000</td>\n",
       "      <td>1.000000</td>\n",
       "      <td>0.000000</td>\n",
       "      <td>0.000000</td>\n",
       "      <td>0.000000</td>\n",
       "      <td>0.000000</td>\n",
       "      <td>0.000000</td>\n",
       "      <td>1.000000</td>\n",
       "      <td>0.000000</td>\n",
       "      <td>0.000000</td>\n",
       "      <td>0.000000</td>\n",
       "      <td>0.000000</td>\n",
       "      <td>0.000000</td>\n",
       "      <td>0.000000</td>\n",
       "      <td>109.000000</td>\n",
       "    </tr>\n",
       "    <tr>\n",
       "      <th>25%</th>\n",
       "      <td>0.238000</td>\n",
       "      <td>0.297000</td>\n",
       "      <td>22.000000</td>\n",
       "      <td>51.000000</td>\n",
       "      <td>9.000000</td>\n",
       "      <td>0.000000</td>\n",
       "      <td>2.000000</td>\n",
       "      <td>21.000000</td>\n",
       "      <td>15.000000</td>\n",
       "      <td>31.000000</td>\n",
       "      <td>1.000000</td>\n",
       "      <td>3.000000</td>\n",
       "      <td>0.000000</td>\n",
       "      <td>0.000000</td>\n",
       "      <td>0.000000</td>\n",
       "      <td>0.000000</td>\n",
       "      <td>230.000000</td>\n",
       "    </tr>\n",
       "    <tr>\n",
       "      <th>50%</th>\n",
       "      <td>0.260000</td>\n",
       "      <td>0.323000</td>\n",
       "      <td>41.000000</td>\n",
       "      <td>91.000000</td>\n",
       "      <td>15.000000</td>\n",
       "      <td>2.000000</td>\n",
       "      <td>6.000000</td>\n",
       "      <td>39.000000</td>\n",
       "      <td>30.000000</td>\n",
       "      <td>49.000000</td>\n",
       "      <td>4.000000</td>\n",
       "      <td>5.000000</td>\n",
       "      <td>0.000000</td>\n",
       "      <td>0.000000</td>\n",
       "      <td>0.000000</td>\n",
       "      <td>0.000000</td>\n",
       "      <td>740.000000</td>\n",
       "    </tr>\n",
       "    <tr>\n",
       "      <th>75%</th>\n",
       "      <td>0.281000</td>\n",
       "      <td>0.354000</td>\n",
       "      <td>69.000000</td>\n",
       "      <td>136.000000</td>\n",
       "      <td>23.000000</td>\n",
       "      <td>3.000000</td>\n",
       "      <td>15.000000</td>\n",
       "      <td>66.000000</td>\n",
       "      <td>49.000000</td>\n",
       "      <td>78.000000</td>\n",
       "      <td>11.000000</td>\n",
       "      <td>9.000000</td>\n",
       "      <td>1.000000</td>\n",
       "      <td>0.000000</td>\n",
       "      <td>0.000000</td>\n",
       "      <td>0.000000</td>\n",
       "      <td>2150.000000</td>\n",
       "    </tr>\n",
       "    <tr>\n",
       "      <th>max</th>\n",
       "      <td>0.457000</td>\n",
       "      <td>0.486000</td>\n",
       "      <td>133.000000</td>\n",
       "      <td>216.000000</td>\n",
       "      <td>49.000000</td>\n",
       "      <td>15.000000</td>\n",
       "      <td>44.000000</td>\n",
       "      <td>133.000000</td>\n",
       "      <td>138.000000</td>\n",
       "      <td>175.000000</td>\n",
       "      <td>76.000000</td>\n",
       "      <td>31.000000</td>\n",
       "      <td>1.000000</td>\n",
       "      <td>1.000000</td>\n",
       "      <td>1.000000</td>\n",
       "      <td>1.000000</td>\n",
       "      <td>6100.000000</td>\n",
       "    </tr>\n",
       "  </tbody>\n",
       "</table>\n",
       "</div>"
      ],
      "text/plain": [
       "       Batting_average  On-base_percentage        Runs        Hits  \\\n",
       "count       337.000000          337.000000  337.000000  337.000000   \n",
       "mean          0.257825            0.323973   46.697329   92.833828   \n",
       "std           0.039546            0.047132   29.020166   51.896322   \n",
       "min           0.063000            0.063000    0.000000    1.000000   \n",
       "25%           0.238000            0.297000   22.000000   51.000000   \n",
       "50%           0.260000            0.323000   41.000000   91.000000   \n",
       "75%           0.281000            0.354000   69.000000  136.000000   \n",
       "max           0.457000            0.486000  133.000000  216.000000   \n",
       "\n",
       "          Doubles     Triples    HomeRuns  Runs_batted_in       Walks  \\\n",
       "count  337.000000  337.000000  337.000000      337.000000  337.000000   \n",
       "mean    16.673591    2.338279    9.097923       44.020772   35.017804   \n",
       "std     10.452001    2.543336    9.289934       29.559406   24.842474   \n",
       "min      0.000000    0.000000    0.000000        0.000000    0.000000   \n",
       "25%      9.000000    0.000000    2.000000       21.000000   15.000000   \n",
       "50%     15.000000    2.000000    6.000000       39.000000   30.000000   \n",
       "75%     23.000000    3.000000   15.000000       66.000000   49.000000   \n",
       "max     49.000000   15.000000   44.000000      133.000000  138.000000   \n",
       "\n",
       "       Strike-Outs  Stolen_bases      Errors  Free_agency_eligibility  \\\n",
       "count   337.000000    337.000000  337.000000               337.000000   \n",
       "mean     56.706231      8.246291    6.771513                 0.397626   \n",
       "std      33.828784     11.664782    5.927490                 0.490135   \n",
       "min       1.000000      0.000000    0.000000                 0.000000   \n",
       "25%      31.000000      1.000000    3.000000                 0.000000   \n",
       "50%      49.000000      4.000000    5.000000                 0.000000   \n",
       "75%      78.000000     11.000000    9.000000                 1.000000   \n",
       "max     175.000000     76.000000   31.000000                 1.000000   \n",
       "\n",
       "       Free_agent  Arbitration_eligibility  Arbitration       Salary  \n",
       "count  337.000000               337.000000   337.000000   337.000000  \n",
       "mean     0.115727                 0.192878     0.029674  1248.528190  \n",
       "std      0.320373                 0.395145     0.169938  1240.013309  \n",
       "min      0.000000                 0.000000     0.000000   109.000000  \n",
       "25%      0.000000                 0.000000     0.000000   230.000000  \n",
       "50%      0.000000                 0.000000     0.000000   740.000000  \n",
       "75%      0.000000                 0.000000     0.000000  2150.000000  \n",
       "max      1.000000                 1.000000     1.000000  6100.000000  "
      ]
     },
     "execution_count": 4,
     "metadata": {},
     "output_type": "execute_result"
    }
   ],
   "source": [
    "df.describe()"
   ]
  },
  {
   "cell_type": "code",
   "execution_count": 5,
   "metadata": {
    "ExecuteTime": {
     "end_time": "2021-07-16T02:24:42.253693Z",
     "start_time": "2021-07-16T02:24:42.246711Z"
    }
   },
   "outputs": [],
   "source": [
    "# 특징과 라벨 분리\n",
    "X = df.drop('Salary', axis = 1)\n",
    "Y = df['Salary']"
   ]
  },
  {
   "cell_type": "code",
   "execution_count": 6,
   "metadata": {
    "ExecuteTime": {
     "end_time": "2021-07-16T02:24:43.928314Z",
     "start_time": "2021-07-16T02:24:42.256685Z"
    }
   },
   "outputs": [],
   "source": [
    "# 학습 데이터와 평가 데이터 분리\n",
    "from sklearn.model_selection import train_test_split\n",
    "Train_X, Test_X, Train_Y, Test_Y = train_test_split(X, Y)"
   ]
  },
  {
   "cell_type": "markdown",
   "metadata": {},
   "source": [
    "각 특징들의 범위 (최대값 - 최소값) 확인"
   ]
  },
  {
   "cell_type": "code",
   "execution_count": 7,
   "metadata": {
    "ExecuteTime": {
     "end_time": "2021-07-16T02:24:43.958453Z",
     "start_time": "2021-07-16T02:24:43.931307Z"
    }
   },
   "outputs": [
    {
     "data": {
      "text/plain": [
       "Batting_average              0.394\n",
       "On-base_percentage           0.423\n",
       "Runs                       133.000\n",
       "Hits                       215.000\n",
       "Doubles                     49.000\n",
       "Triples                     15.000\n",
       "HomeRuns                    44.000\n",
       "Runs_batted_in             133.000\n",
       "Walks                      138.000\n",
       "Strike-Outs                173.000\n",
       "Stolen_bases                56.000\n",
       "Errors                      31.000\n",
       "Free_agency_eligibility      1.000\n",
       "Free_agent                   1.000\n",
       "Arbitration_eligibility      1.000\n",
       "Arbitration                  1.000\n",
       "dtype: float64"
      ]
     },
     "execution_count": 7,
     "metadata": {},
     "output_type": "execute_result"
    }
   ],
   "source": [
    "Train_X.max() - Train_X.min()"
   ]
  },
  {
   "cell_type": "markdown",
   "metadata": {},
   "source": [
    "- 어떤 특징은 0.3정도의 범주인데, 어떤값은 100단위가 넘어가는 범주를 갖고 있다.\n",
    "    - 즉, 특징 간 스케일 차이가 크다는 것을 알 수 있다.\n",
    "    - 이를 통해 스케일이 작은 특징은 모델에 영향을 거의 주지 못할 것이라 예상할 수 있다."
   ]
  },
  {
   "cell_type": "code",
   "execution_count": 8,
   "metadata": {
    "ExecuteTime": {
     "end_time": "2021-07-16T02:24:44.082034Z",
     "start_time": "2021-07-16T02:24:43.962443Z"
    }
   },
   "outputs": [
    {
     "name": "stdout",
     "output_type": "stream",
     "text": [
      "665.5317647058824\n"
     ]
    }
   ],
   "source": [
    "# 스케일링 전에 성능 확인\n",
    "from sklearn.neighbors import KNeighborsRegressor as KNN\n",
    "from sklearn.metrics import mean_absolute_error as MAE\n",
    "\n",
    "# 인스턴스화 & fitting\n",
    "# default 거리함수는 euclidean\n",
    "model = KNN().fit(Train_X, Train_Y)\n",
    "\n",
    "# 예측\n",
    "pred_Y = model.predict(Test_X)\n",
    "\n",
    "#평가\n",
    "score = MAE(Test_Y, pred_Y)\n",
    "print(score)"
   ]
  },
  {
   "cell_type": "markdown",
   "metadata": {},
   "source": [
    "# MinMax Scaling 수행\n",
    "- KNN은 특정 분포를 가정하지 않는 모델 -> Minmax scaling이 적합"
   ]
  },
  {
   "cell_type": "code",
   "execution_count": 9,
   "metadata": {
    "ExecuteTime": {
     "end_time": "2021-07-16T02:24:44.096884Z",
     "start_time": "2021-07-16T02:24:44.085027Z"
    }
   },
   "outputs": [],
   "source": [
    "# 스케일링 수행\n",
    "from sklearn.preprocessing import MinMaxScaler\n",
    "\n",
    "# 스케일링 인스턴스 생성 & fitting\n",
    "scaler = MinMaxScaler().fit(Train_X)\n",
    "\n",
    "# 스케일러 transform\n",
    "# 결과값은 ndarray형태이다. \n",
    "s_Train_X = scaler.transform(Train_X)\n",
    "s_Test_X = scaler.transform(Test_X)"
   ]
  },
  {
   "cell_type": "code",
   "execution_count": 10,
   "metadata": {
    "ExecuteTime": {
     "end_time": "2021-07-16T02:24:44.143105Z",
     "start_time": "2021-07-16T02:24:44.098878Z"
    }
   },
   "outputs": [
    {
     "data": {
      "text/plain": [
       "1.0"
      ]
     },
     "execution_count": 10,
     "metadata": {},
     "output_type": "execute_result"
    }
   ],
   "source": [
    "# 결과 확인 (Minmax Scaling은 0 ~ 1 사이의 값을 가진다.)\n",
    "# 즉 최대값 -  최소값은 1-0 = 1 이 되어야 한다.\n",
    "s_Train_X.max() - s_Train_X.min()"
   ]
  },
  {
   "cell_type": "markdown",
   "metadata": {},
   "source": [
    "## 스케일링한 데이터로 모델 학습 및 평가"
   ]
  },
  {
   "cell_type": "code",
   "execution_count": 11,
   "metadata": {
    "ExecuteTime": {
     "end_time": "2021-07-16T02:24:44.158575Z",
     "start_time": "2021-07-16T02:24:44.146097Z"
    }
   },
   "outputs": [
    {
     "name": "stdout",
     "output_type": "stream",
     "text": [
      "421.85176470588243\n"
     ]
    }
   ],
   "source": [
    "model = KNN().fit(s_Train_X, Train_Y)\n",
    "pred_Y = model.predict(s_Test_X)\n",
    "\n",
    "score = MAE(Test_Y, pred_Y)\n",
    "print(score)"
   ]
  },
  {
   "cell_type": "markdown",
   "metadata": {},
   "source": [
    "- 스케일링 이전의 KNN의 경우 특징의 범주값이 100이 넘어가는 특징들 (Runs, Hits, Doubles 등)과 범주 값이 아주 작은 Batting_average와 같은 변수들의 간극으로 인해, 범주 값이 작은 데이터 들의 특징이 무시되었을 가능성이 높다.\n",
    "\n",
    "- 이를 Min Max Scaling을 통해 그 간격을 줄여 줌으로서 모든 변수의 특징이 반영될 수 있도록 조정되었기 때문에 성능이 증가한 것 이다."
   ]
  },
  {
   "cell_type": "markdown",
   "metadata": {},
   "source": [
    "# 스케일링으로 모델성능이 저하되는 경우\n",
    "---\n",
    "- 다만, 매번 스케일링을 적용할때마다 모델의 성능이 좋아지는 것은 아니다.\n",
    "- 예를 들어 만약 범주값의 범위가 0.00~ 이었던 변수들이 label인 Salary와 아무런 관련이 없는 변수라면, 스케일링 적용전에 해당 특징들이 무시되었던 것이 더 좋은 모델 성능을 냈을 것이다.\n",
    "- 하지만 스케일링을 진행함으로 label예측과는 상관없는 특징들이 추가됨으로 인해 모델 성능이 떨어지게 될 수도 있다는 것이다."
   ]
  },
  {
   "cell_type": "markdown",
   "metadata": {},
   "source": [
    "---\n",
    "- 전처리과정에서 특정 기법을 적용한다고 무조건 모델의 성능이 나아지는 경우는 절대 없다.\n",
    "- 따라서, 전처리 전후 과정을 보고 성능이 떨어졌을때 왜 성능이 떨어지는지 그 원인을 파악하는 것이 매우 중요하다."
   ]
  }
 ],
 "metadata": {
  "kernelspec": {
   "display_name": "Python 3",
   "language": "python",
   "name": "python3"
  },
  "language_info": {
   "codemirror_mode": {
    "name": "ipython",
    "version": 3
   },
   "file_extension": ".py",
   "mimetype": "text/x-python",
   "name": "python",
   "nbconvert_exporter": "python",
   "pygments_lexer": "ipython3",
   "version": "3.8.5"
  },
  "toc": {
   "base_numbering": 1,
   "nav_menu": {},
   "number_sections": true,
   "sideBar": true,
   "skip_h1_title": false,
   "title_cell": "Table of Contents",
   "title_sidebar": "Contents",
   "toc_cell": false,
   "toc_position": {},
   "toc_section_display": true,
   "toc_window_display": true
  },
  "varInspector": {
   "cols": {
    "lenName": 16,
    "lenType": 16,
    "lenVar": 40
   },
   "kernels_config": {
    "python": {
     "delete_cmd_postfix": "",
     "delete_cmd_prefix": "del ",
     "library": "var_list.py",
     "varRefreshCmd": "print(var_dic_list())"
    },
    "r": {
     "delete_cmd_postfix": ") ",
     "delete_cmd_prefix": "rm(",
     "library": "var_list.r",
     "varRefreshCmd": "cat(var_dic_list()) "
    }
   },
   "types_to_exclude": [
    "module",
    "function",
    "builtin_function_or_method",
    "instance",
    "_Feature"
   ],
   "window_display": false
  }
 },
 "nbformat": 4,
 "nbformat_minor": 2
}
