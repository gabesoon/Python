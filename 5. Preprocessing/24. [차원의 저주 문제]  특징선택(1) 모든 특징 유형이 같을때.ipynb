{
 "cells": [
  {
   "cell_type": "markdown",
   "metadata": {},
   "source": [
    "# 모든 특징 유형이 같은 경우의 특징선택"
   ]
  },
  {
   "cell_type": "code",
   "execution_count": 1,
   "metadata": {
    "ExecuteTime": {
     "end_time": "2021-07-19T08:45:13.658966Z",
     "start_time": "2021-07-19T08:45:13.026657Z"
    }
   },
   "outputs": [],
   "source": [
    "import os\n",
    "import pandas as pd\n",
    "\n",
    "# 불필요한 경고 표시 생략\n",
    "import warnings\n",
    "warnings.filterwarnings(action = 'ignore')\n",
    "\n",
    "a=%pwd # 현재 경로 a에 할당\n",
    "os.chdir(a) # 파일 로드 경로 설정"
   ]
  },
  {
   "cell_type": "markdown",
   "metadata": {},
   "source": [
    "# 데이터 로드 및 성능 확인"
   ]
  },
  {
   "cell_type": "code",
   "execution_count": 2,
   "metadata": {
    "ExecuteTime": {
     "end_time": "2021-07-19T08:45:13.703846Z",
     "start_time": "2021-07-19T08:45:13.660993Z"
    }
   },
   "outputs": [
    {
     "data": {
      "text/html": [
       "<div>\n",
       "<style scoped>\n",
       "    .dataframe tbody tr th:only-of-type {\n",
       "        vertical-align: middle;\n",
       "    }\n",
       "\n",
       "    .dataframe tbody tr th {\n",
       "        vertical-align: top;\n",
       "    }\n",
       "\n",
       "    .dataframe thead th {\n",
       "        text-align: right;\n",
       "    }\n",
       "</style>\n",
       "<table border=\"1\" class=\"dataframe\">\n",
       "  <thead>\n",
       "    <tr style=\"text-align: right;\">\n",
       "      <th></th>\n",
       "      <th>Band1</th>\n",
       "      <th>Band2</th>\n",
       "      <th>Band3</th>\n",
       "      <th>Band4</th>\n",
       "      <th>Band5</th>\n",
       "      <th>Band6</th>\n",
       "      <th>Band7</th>\n",
       "      <th>Band8</th>\n",
       "      <th>Band9</th>\n",
       "      <th>Band10</th>\n",
       "      <th>...</th>\n",
       "      <th>Band52</th>\n",
       "      <th>Band53</th>\n",
       "      <th>Band54</th>\n",
       "      <th>Band55</th>\n",
       "      <th>Band56</th>\n",
       "      <th>Band57</th>\n",
       "      <th>Band58</th>\n",
       "      <th>Band59</th>\n",
       "      <th>Band60</th>\n",
       "      <th>Y</th>\n",
       "    </tr>\n",
       "  </thead>\n",
       "  <tbody>\n",
       "    <tr>\n",
       "      <th>0</th>\n",
       "      <td>0.020</td>\n",
       "      <td>0.037</td>\n",
       "      <td>0.043</td>\n",
       "      <td>0.021</td>\n",
       "      <td>0.095</td>\n",
       "      <td>0.099</td>\n",
       "      <td>0.154</td>\n",
       "      <td>0.160</td>\n",
       "      <td>0.311</td>\n",
       "      <td>0.211</td>\n",
       "      <td>...</td>\n",
       "      <td>0.003</td>\n",
       "      <td>0.006</td>\n",
       "      <td>0.016</td>\n",
       "      <td>0.007</td>\n",
       "      <td>0.017</td>\n",
       "      <td>0.018</td>\n",
       "      <td>0.008</td>\n",
       "      <td>0.009</td>\n",
       "      <td>0.003</td>\n",
       "      <td>R</td>\n",
       "    </tr>\n",
       "    <tr>\n",
       "      <th>1</th>\n",
       "      <td>0.045</td>\n",
       "      <td>0.052</td>\n",
       "      <td>0.084</td>\n",
       "      <td>0.069</td>\n",
       "      <td>0.118</td>\n",
       "      <td>0.258</td>\n",
       "      <td>0.216</td>\n",
       "      <td>0.348</td>\n",
       "      <td>0.334</td>\n",
       "      <td>0.287</td>\n",
       "      <td>...</td>\n",
       "      <td>0.008</td>\n",
       "      <td>0.009</td>\n",
       "      <td>0.005</td>\n",
       "      <td>0.009</td>\n",
       "      <td>0.019</td>\n",
       "      <td>0.014</td>\n",
       "      <td>0.005</td>\n",
       "      <td>0.005</td>\n",
       "      <td>0.004</td>\n",
       "      <td>R</td>\n",
       "    </tr>\n",
       "    <tr>\n",
       "      <th>2</th>\n",
       "      <td>0.026</td>\n",
       "      <td>0.058</td>\n",
       "      <td>0.110</td>\n",
       "      <td>0.108</td>\n",
       "      <td>0.097</td>\n",
       "      <td>0.228</td>\n",
       "      <td>0.243</td>\n",
       "      <td>0.377</td>\n",
       "      <td>0.560</td>\n",
       "      <td>0.619</td>\n",
       "      <td>...</td>\n",
       "      <td>0.023</td>\n",
       "      <td>0.017</td>\n",
       "      <td>0.010</td>\n",
       "      <td>0.018</td>\n",
       "      <td>0.024</td>\n",
       "      <td>0.032</td>\n",
       "      <td>0.016</td>\n",
       "      <td>0.010</td>\n",
       "      <td>0.008</td>\n",
       "      <td>R</td>\n",
       "    </tr>\n",
       "    <tr>\n",
       "      <th>3</th>\n",
       "      <td>0.010</td>\n",
       "      <td>0.017</td>\n",
       "      <td>0.062</td>\n",
       "      <td>0.020</td>\n",
       "      <td>0.020</td>\n",
       "      <td>0.037</td>\n",
       "      <td>0.110</td>\n",
       "      <td>0.128</td>\n",
       "      <td>0.060</td>\n",
       "      <td>0.126</td>\n",
       "      <td>...</td>\n",
       "      <td>0.012</td>\n",
       "      <td>0.004</td>\n",
       "      <td>0.015</td>\n",
       "      <td>0.008</td>\n",
       "      <td>0.007</td>\n",
       "      <td>0.005</td>\n",
       "      <td>0.004</td>\n",
       "      <td>0.004</td>\n",
       "      <td>0.012</td>\n",
       "      <td>R</td>\n",
       "    </tr>\n",
       "    <tr>\n",
       "      <th>4</th>\n",
       "      <td>0.076</td>\n",
       "      <td>0.067</td>\n",
       "      <td>0.048</td>\n",
       "      <td>0.039</td>\n",
       "      <td>0.059</td>\n",
       "      <td>0.065</td>\n",
       "      <td>0.121</td>\n",
       "      <td>0.247</td>\n",
       "      <td>0.356</td>\n",
       "      <td>0.446</td>\n",
       "      <td>...</td>\n",
       "      <td>0.003</td>\n",
       "      <td>0.005</td>\n",
       "      <td>0.010</td>\n",
       "      <td>0.011</td>\n",
       "      <td>0.002</td>\n",
       "      <td>0.007</td>\n",
       "      <td>0.005</td>\n",
       "      <td>0.011</td>\n",
       "      <td>0.009</td>\n",
       "      <td>R</td>\n",
       "    </tr>\n",
       "  </tbody>\n",
       "</table>\n",
       "<p>5 rows × 61 columns</p>\n",
       "</div>"
      ],
      "text/plain": [
       "   Band1  Band2  Band3  Band4  Band5  Band6  Band7  Band8  Band9  Band10  ...  \\\n",
       "0  0.020  0.037  0.043  0.021  0.095  0.099  0.154  0.160  0.311   0.211  ...   \n",
       "1  0.045  0.052  0.084  0.069  0.118  0.258  0.216  0.348  0.334   0.287  ...   \n",
       "2  0.026  0.058  0.110  0.108  0.097  0.228  0.243  0.377  0.560   0.619  ...   \n",
       "3  0.010  0.017  0.062  0.020  0.020  0.037  0.110  0.128  0.060   0.126  ...   \n",
       "4  0.076  0.067  0.048  0.039  0.059  0.065  0.121  0.247  0.356   0.446  ...   \n",
       "\n",
       "   Band52  Band53  Band54  Band55  Band56  Band57  Band58  Band59  Band60  Y  \n",
       "0   0.003   0.006   0.016   0.007   0.017   0.018   0.008   0.009   0.003  R  \n",
       "1   0.008   0.009   0.005   0.009   0.019   0.014   0.005   0.005   0.004  R  \n",
       "2   0.023   0.017   0.010   0.018   0.024   0.032   0.016   0.010   0.008  R  \n",
       "3   0.012   0.004   0.015   0.008   0.007   0.005   0.004   0.004   0.012  R  \n",
       "4   0.003   0.005   0.010   0.011   0.002   0.007   0.005   0.011   0.009  R  \n",
       "\n",
       "[5 rows x 61 columns]"
      ]
     },
     "execution_count": 2,
     "metadata": {},
     "output_type": "execute_result"
    }
   ],
   "source": [
    "df = pd.read_csv(\"Sonar_Mines_Rocks.csv\")\n",
    "df.head()"
   ]
  },
  {
   "cell_type": "code",
   "execution_count": 3,
   "metadata": {
    "ExecuteTime": {
     "end_time": "2021-07-19T08:45:13.748726Z",
     "start_time": "2021-07-19T08:45:13.705841Z"
    }
   },
   "outputs": [
    {
     "name": "stdout",
     "output_type": "stream",
     "text": [
      "<class 'pandas.core.frame.DataFrame'>\n",
      "RangeIndex: 208 entries, 0 to 207\n",
      "Data columns (total 61 columns):\n",
      " #   Column  Non-Null Count  Dtype  \n",
      "---  ------  --------------  -----  \n",
      " 0   Band1   208 non-null    float64\n",
      " 1   Band2   208 non-null    float64\n",
      " 2   Band3   208 non-null    float64\n",
      " 3   Band4   208 non-null    float64\n",
      " 4   Band5   208 non-null    float64\n",
      " 5   Band6   208 non-null    float64\n",
      " 6   Band7   208 non-null    float64\n",
      " 7   Band8   208 non-null    float64\n",
      " 8   Band9   208 non-null    float64\n",
      " 9   Band10  208 non-null    float64\n",
      " 10  Band11  208 non-null    float64\n",
      " 11  Band12  208 non-null    float64\n",
      " 12  Band13  208 non-null    float64\n",
      " 13  Band14  208 non-null    float64\n",
      " 14  Band15  208 non-null    float64\n",
      " 15  Band16  208 non-null    float64\n",
      " 16  Band17  208 non-null    float64\n",
      " 17  Band18  208 non-null    float64\n",
      " 18  Band19  208 non-null    float64\n",
      " 19  Band20  208 non-null    float64\n",
      " 20  Band21  208 non-null    float64\n",
      " 21  Band22  208 non-null    float64\n",
      " 22  Band23  208 non-null    float64\n",
      " 23  Band24  208 non-null    float64\n",
      " 24  Band25  208 non-null    float64\n",
      " 25  Band26  208 non-null    float64\n",
      " 26  Band27  208 non-null    float64\n",
      " 27  Band28  208 non-null    float64\n",
      " 28  Band29  208 non-null    float64\n",
      " 29  Band30  208 non-null    float64\n",
      " 30  Band31  208 non-null    float64\n",
      " 31  Band32  208 non-null    float64\n",
      " 32  Band33  208 non-null    float64\n",
      " 33  Band34  208 non-null    float64\n",
      " 34  Band35  208 non-null    float64\n",
      " 35  Band36  208 non-null    float64\n",
      " 36  Band37  208 non-null    float64\n",
      " 37  Band38  208 non-null    float64\n",
      " 38  Band39  208 non-null    float64\n",
      " 39  Band40  208 non-null    float64\n",
      " 40  Band41  208 non-null    float64\n",
      " 41  Band42  208 non-null    float64\n",
      " 42  Band43  208 non-null    float64\n",
      " 43  Band44  208 non-null    float64\n",
      " 44  Band45  208 non-null    float64\n",
      " 45  Band46  208 non-null    float64\n",
      " 46  Band47  208 non-null    float64\n",
      " 47  Band48  208 non-null    float64\n",
      " 48  Band49  208 non-null    float64\n",
      " 49  Band50  208 non-null    float64\n",
      " 50  Band51  208 non-null    float64\n",
      " 51  Band52  208 non-null    float64\n",
      " 52  Band53  208 non-null    float64\n",
      " 53  Band54  208 non-null    float64\n",
      " 54  Band55  208 non-null    float64\n",
      " 55  Band56  208 non-null    float64\n",
      " 56  Band57  208 non-null    float64\n",
      " 57  Band58  208 non-null    float64\n",
      " 58  Band59  208 non-null    float64\n",
      " 59  Band60  208 non-null    float64\n",
      " 60  Y       208 non-null    object \n",
      "dtypes: float64(60), object(1)\n",
      "memory usage: 99.2+ KB\n"
     ]
    }
   ],
   "source": [
    "df.info()"
   ]
  },
  {
   "cell_type": "markdown",
   "metadata": {},
   "source": [
    "모든 특징이 연속형이다."
   ]
  },
  {
   "cell_type": "code",
   "execution_count": 4,
   "metadata": {
    "ExecuteTime": {
     "end_time": "2021-07-19T08:45:13.763686Z",
     "start_time": "2021-07-19T08:45:13.750721Z"
    }
   },
   "outputs": [],
   "source": [
    "# 특징과 라벨 분리\n",
    "X = df.drop('Y', axis = 1)\n",
    "Y = df['Y']"
   ]
  },
  {
   "cell_type": "markdown",
   "metadata": {},
   "source": [
    "문자열 라벨을 숫자로 변경"
   ]
  },
  {
   "cell_type": "code",
   "execution_count": 5,
   "metadata": {
    "ExecuteTime": {
     "end_time": "2021-07-19T08:45:13.778646Z",
     "start_time": "2021-07-19T08:45:13.766679Z"
    }
   },
   "outputs": [],
   "source": [
    "Y.replace({\"M\":-1, \"R\":1}, inplace = True)"
   ]
  },
  {
   "cell_type": "code",
   "execution_count": 6,
   "metadata": {
    "ExecuteTime": {
     "end_time": "2021-07-19T08:45:15.208849Z",
     "start_time": "2021-07-19T08:45:13.782636Z"
    }
   },
   "outputs": [],
   "source": [
    "# 학습 데이터와 평가 데이터 분리\n",
    "from sklearn.model_selection import train_test_split\n",
    "Train_X, Test_X, Train_Y, Test_Y = train_test_split(X, Y)"
   ]
  },
  {
   "cell_type": "code",
   "execution_count": 7,
   "metadata": {
    "ExecuteTime": {
     "end_time": "2021-07-19T08:45:15.223810Z",
     "start_time": "2021-07-19T08:45:15.211812Z"
    }
   },
   "outputs": [
    {
     "data": {
      "text/plain": [
       "(156, 60)"
      ]
     },
     "execution_count": 7,
     "metadata": {},
     "output_type": "execute_result"
    }
   ],
   "source": [
    "Train_X.shape # 샘플(156개) 대비 특징(60개)이 매우 많다. => 특징 선택 필요하다."
   ]
  },
  {
   "cell_type": "markdown",
   "metadata": {},
   "source": [
    "## 성능확인\n",
    "\n",
    "- 모든 feature가 연속형이므로 KNN 으로 성능 확인"
   ]
  },
  {
   "cell_type": "code",
   "execution_count": 8,
   "metadata": {
    "ExecuteTime": {
     "end_time": "2021-07-19T08:45:15.328501Z",
     "start_time": "2021-07-19T08:45:15.226773Z"
    }
   },
   "outputs": [
    {
     "name": "stdout",
     "output_type": "stream",
     "text": [
      "0.8076923076923077\n"
     ]
    }
   ],
   "source": [
    "# 특징 선택 전 성능 확인\n",
    "from sklearn.neighbors import KNeighborsClassifier as KNN\n",
    "model = KNN().fit(Train_X, Train_Y)\n",
    "pred_Y = model.predict(Test_X)\n",
    "\n",
    "from sklearn.metrics import f1_score\n",
    "print(f1_score(Test_Y, pred_Y))"
   ]
  },
  {
   "cell_type": "markdown",
   "metadata": {},
   "source": [
    "현 상태로도 성능 자체가 나쁜편은 아니다."
   ]
  },
  {
   "cell_type": "markdown",
   "metadata": {},
   "source": [
    "# 특징 선택 "
   ]
  },
  {
   "attachments": {
    "image.png": {
     "image/png": "[encoded data removed]"
    }
   },
   "cell_type": "markdown",
   "metadata": {},
   "source": [
    "## 클래스 관련 척도 분류 표\n",
    "---\n",
    "\n",
    "![image.png](attachment:image.png)\n",
    "\n",
    "---\n",
    "- 클래스 관련성 척도는 특징과 라벨의 유형에 따라 선택해야 한다.<br>\n",
    "- 통계량의 수학적 이해를 하면 더 좋지만, 기본적으론 각 통계량이 의미하는 바를 이해 하는 게 우선이다.<br>\n",
    "    - 1) 위의 통계량들은 특징과 라벨이 서로 얼마나 독립적이지 않은지를 나타낸다.<br>\n",
    "    - 2) 또한, 얼마나 클래스와 관련이 있는지를 측정하는 지표이다.<br>\n",
    "    - 3) 그리고 특징 유형과 라벨 유형에 따라 사용되는 통계량이 다르다는 점을 인지하는게중요"
   ]
  },
  {
   "cell_type": "markdown",
   "metadata": {},
   "source": [
    "## 관련 함수 : sklearn.feature_selection.SelectKBest\n",
    "---\n",
    "\n",
    "**파라미터**\n",
    "- scoring_func : 클래스 관련성 측정 함수 (e.g : chi2, mutual_info_classif, f_regression 등 위의 척도 분류표 참조)<br>\n",
    "- k : 선택하는 특징의 개수<br>\n",
    "    - 양수만 가능하다.<br>\n",
    "    - 원래의 특징개수와 같거나 작아야 한다.<br>\n",
    "\n",
    "**주요 메서드**<br>\n",
    "- .fit, .transform, .fit_transform : 특징을 선택할때 사용<br>\n",
    "- .get_support() : 선택된 특징의 인덱스를 return (뽑힌특징은 1 =True, 뽑히지 않은 특징은 0 = False) 인 bool type\n",
    "\n",
    "**주요 속성** : scoring_func(X,Y) 의 결과물과 동일하다.<br>\n",
    "- scores_ : scoring_func로 측정한 각 특징별 점수<br>\n",
    "- pvalues_ : scoring_func 로 측정한 특징별 p-value (1에 가까울수록 독립적, 0에 가까울 수록 라벨과 관련서이 높다.)"
   ]
  },
  {
   "cell_type": "code",
   "execution_count": 9,
   "metadata": {
    "ExecuteTime": {
     "end_time": "2021-07-19T08:45:15.358449Z",
     "start_time": "2021-07-19T08:45:15.330495Z"
    }
   },
   "outputs": [],
   "source": [
    "# 특징 선택 수행\n",
    "from sklearn.feature_selection import *\n",
    "\n",
    "# select할 인스턴스 생성\n",
    "# 선택 기준은 F-score\n",
    "# feature은 연속형 , label은 이진형이기 때문\n",
    "# 선택할 특징은 30개 (원본은 60개)\n",
    "selector = SelectKBest(f_classif, k = 30)\n",
    "\n",
    "\n",
    "# fitting\n",
    "# feature 선택시에 X, Y 를 모두 고려\n",
    "selector.fit(Train_X, Train_Y)\n",
    "\n",
    "# 특징 선택\n",
    "selected_features = Train_X.columns[selector.get_support()] #뽑힌 feature는 True(=1)로 return\n",
    "\n",
    "# 선택된 각 특징을 Train/Test로 지정\n",
    "s_Train_X = pd.DataFrame(selector.transform(Train_X), columns = selected_features)\n",
    "s_Test_X = pd.DataFrame(selector.transform(Test_X), columns = selected_features)\n",
    "\n",
    "# transform 쓰지않고 아래와 같이 입력할 수 도 있음\n",
    "# s_Train_X = Train_X[selected_features]\n",
    "# s_Test_X = Test_X[selected_features]"
   ]
  },
  {
   "cell_type": "code",
   "execution_count": 10,
   "metadata": {
    "ExecuteTime": {
     "end_time": "2021-07-19T08:45:15.389337Z",
     "start_time": "2021-07-19T08:45:15.360414Z"
    }
   },
   "outputs": [
    {
     "name": "stdout",
     "output_type": "stream",
     "text": [
      "0.8\n"
     ]
    }
   ],
   "source": [
    "# 특징 선택 후 성능 확인\n",
    "from sklearn.neighbors import KNeighborsClassifier as KNN\n",
    "model = KNN().fit(s_Train_X, Train_Y)\n",
    "pred_Y = model.predict(s_Test_X)\n",
    "\n",
    "from sklearn.metrics import f1_score\n",
    "print(f1_score(Test_Y, pred_Y))"
   ]
  },
  {
   "cell_type": "markdown",
   "metadata": {},
   "source": [
    "- 특징을 절반으로 줄였는데, 성능의 차이가 크게 발생하지 않는다.<br>\n",
    "- KNN은 특징이 많으면 분석 시간이 오래 걸리는 모델이다.<br>\n",
    "- 더 적은 특징으로 동일한 or 더 좋은 성능을 낼 수 있다면 특징선택을 하는 것이 옳다.<br>\n",
    "- 다만, 위에서 처럼 임의로 k값을 정하기보다, 아래와 같이 튜닝을 통해 최적값을 찾을 수 있다면 더 좋을 것이다."
   ]
  },
  {
   "cell_type": "markdown",
   "metadata": {},
   "source": [
    "# 특징개수 튜닝하기"
   ]
  },
  {
   "cell_type": "code",
   "execution_count": 11,
   "metadata": {
    "ExecuteTime": {
     "end_time": "2021-07-19T08:45:15.557887Z",
     "start_time": "2021-07-19T08:45:15.392330Z"
    }
   },
   "outputs": [
    {
     "name": "stdout",
     "output_type": "stream",
     "text": [
      "0.888888888888889 25\n",
      "Index(['Band1', 'Band2', 'Band4', 'Band5', 'Band8', 'Band9', 'Band10',\n",
      "       'Band11', 'Band12', 'Band13', 'Band20', 'Band21', 'Band22', 'Band36',\n",
      "       'Band37', 'Band43', 'Band44', 'Band45', 'Band46', 'Band47', 'Band48',\n",
      "       'Band49', 'Band51', 'Band52', 'Band54'],\n",
      "      dtype='object')\n"
     ]
    }
   ],
   "source": [
    "# 특징 개수 튜닝\n",
    "best_score = 0 # f-score의 최소값\n",
    "\n",
    "# k = 5부터 50까지 5식 증가한 값의 list\n",
    "for k in range(5, 50, 5):    \n",
    "    selector = SelectKBest(f_classif, k = k)\n",
    "    selector.fit(Train_X, Train_Y)\n",
    "    selected_features = Train_X.columns[selector.get_support()]\n",
    "\n",
    "    s_Train_X = pd.DataFrame(selector.transform(Train_X), columns = selected_features)\n",
    "    s_Test_X = pd.DataFrame(selector.transform(Test_X), columns = selected_features)   \n",
    "    \n",
    "    model = KNN().fit(s_Train_X, Train_Y)\n",
    "    pred_Y = model.predict(s_Test_X)\n",
    "    score = f1_score(Test_Y, pred_Y)\n",
    "    \n",
    "    # 도출된 score가 기존의 best_score보다 높다면 update + 해당 k값 저장\n",
    "    if score > best_score:\n",
    "        best_score = score\n",
    "        best_k = k\n",
    "        best_features = selected_features\n",
    "\n",
    "print(best_score, best_k)\n",
    "print(best_features)"
   ]
  }
 ],
 "metadata": {
  "kernelspec": {
   "display_name": "Python 3",
   "language": "python",
   "name": "python3"
  },
  "language_info": {
   "codemirror_mode": {
    "name": "ipython",
    "version": 3
   },
   "file_extension": ".py",
   "mimetype": "text/x-python",
   "name": "python",
   "nbconvert_exporter": "python",
   "pygments_lexer": "ipython3",
   "version": "3.8.5"
  },
  "toc": {
   "base_numbering": 1,
   "nav_menu": {},
   "number_sections": true,
   "sideBar": true,
   "skip_h1_title": false,
   "title_cell": "Table of Contents",
   "title_sidebar": "Contents",
   "toc_cell": false,
   "toc_position": {},
   "toc_section_display": true,
   "toc_window_display": true
  },
  "varInspector": {
   "cols": {
    "lenName": 16,
    "lenType": 16,
    "lenVar": 40
   },
   "kernels_config": {
    "python": {
     "delete_cmd_postfix": "",
     "delete_cmd_prefix": "del ",
     "library": "var_list.py",
     "varRefreshCmd": "print(var_dic_list())"
    },
    "r": {
     "delete_cmd_postfix": ") ",
     "delete_cmd_prefix": "rm(",
     "library": "var_list.r",
     "varRefreshCmd": "cat(var_dic_list()) "
    }
   },
   "types_to_exclude": [
    "module",
    "function",
    "builtin_function_or_method",
    "instance",
    "_Feature"
   ],
   "window_display": false
  }
 },
 "nbformat": 4,
 "nbformat_minor": 2
}
