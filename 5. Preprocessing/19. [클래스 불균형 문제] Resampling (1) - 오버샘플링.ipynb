{
 "cells": [
  {
   "cell_type": "markdown",
   "metadata": {},
   "source": [
    "# 오버샘플링과 언더샘플링\n",
    "---\n",
    "![](이미지52.png)\n",
    "\n",
    "---\n",
    "\n",
    "- 일반적으로 원본데이터가 작을때는 오버샘플링, 원본 데이터가 클때는 언더샘플링을 한다.<br><br>\n",
    "- 단순 산술로 생각해보아도 이러한 선택에 대한 논리는 간단하다.<br><br>\n",
    "    - 다수 클래스인 샘플이 10억개, 소수 클래스인 샘플이 1억개인 데이터 셋이 있다고 가정<br><br>\n",
    "    - 이때 소수 클래스 샘플을 오버샘플링하면 (실제로는 아니지만) 약 9억개의 fake data를 만들어야 한다.<br><br>\n",
    "    - 그렇게 되면 약 20억개의 데이터가 생성되는데, 이 데이터를 모두 모델에 학습 시키는 것은 과도한 값이 될 수 도 있다.<br><br>\n",
    "    - 추가적으로 오버샘플링된 9억개의 데이터는 모두 fake로 원본인 1억개보다도 그 수가 많기 때문에 올바른 모델의 성능 향상을 기대하기 어렵다.\n",
    "  \n"
   ]
  },
  {
   "cell_type": "markdown",
   "metadata": {},
   "source": [
    "# Resampling 하는 데이터는 어디에 만들고 어떤것을 지워야 할까?\n",
    "---\n",
    "- **클래스 불균형 문제 해소의 핵심은 소수 클래스 샘플의 결정 공간을 넓히는 것이다.<br><br>**\n",
    "- 따라서, `결정 경계에 가까운` 다수 클래스 샘플은 제거하고, `결정 경계에 가까운` 소수 클래스 샘플은 생성해야 한다.\n",
    "\n",
    "![](이미지53.png)\n",
    "\n",
    "---\n",
    "- **단, Test data는 절대로 resampling을 해서는 안된다.**(=새로 들어온 데이터에는 적용되지 않는다.)<br><br>\n",
    "    - oversampling을 test데이터에 적용하면, 가짜데이터를 포함 상태로 평가를 하게 되어 객관적인 평가가 될 수 없다.<br>\n",
    "    - 가짜데이터는 원본데이터와 흡사하게 만들어질 수 밖에 없다. 이는 train data와 test data가 굉장히 유사해진다는 의미이다.<br>\n",
    "    - 이 경우 평가결과는 좋아질 수 있지만, 그 결과를 신뢰하기는 어렵다.\n",
    "    <br><br>\n",
    "    - undersampling의 경우도 정도의 차이는 있지만 마찬가지이다.<br>\n",
    "    - 평가에 사용되어야 할 원본데이터가 100개였지만, 50개를 제거하는 방식이 undersampling이다.<br>\n",
    "    - 이때 제거되는 데이터는 주로 평가하기 어려운 값이다. -> 평가 결과가 좋아질 수밖에 없지만 신뢰도는 떨어진다.\n",
    "    ---\n",
    "   "
   ]
  },
  {
   "cell_type": "markdown",
   "metadata": {},
   "source": [
    "# 대표적인 오버샘플링 알고리즘 : SMOTE\n",
    "---\n",
    "- SMOTE(Synthetic Minority Over-Sampling Technique)<br><br>\n",
    "- 2002년에 처음 제안되었고, 대부분의 오버샘플링 기법이 SMOTE를 기반으로 파생되었다.<br><br>\n",
    "- 소수 클래스 샘플을 임의 선택한 뒤, 선택된 샘플의 이웃 중 하나의 샘플을 또 임의 선택 하여 선택된 두 샘플 사이에 새로운 가짜 샘플을 생성하는 방법을 원하는 수만큼 반복하는 식으로 오버샘플링을 한다.\n",
    "---\n",
    "\n",
    "![](이미지54.png)\n",
    "\n",
    "---\n",
    "\n",
    "## 오버샘플링을 얼마나 하는게 이상적일까?\n",
    "- 일반적으로는 5:5가 될때까지. 즉, 원본데이터와 새로 생성한 데이터가 1:1이 될때까지.<br>\n",
    "    - 하지만 이 경우 재현율이 더 높아지고 정확도가 너무 떨어지는 상황이 생길 수도 있다.<br>\n",
    "    - 따라서 3:1 이나 4:1 정도로 완전하게 불균형을 해소하지 않는 선에서 조정하는게 바람직하다."
   ]
  },
  {
   "cell_type": "markdown",
   "metadata": {},
   "source": [
    "# 관련 문법 : imblearn.over_sampling.SMOTE\n",
    "---\n",
    "**파라미터**\n",
    "- sampling_strategy : 입력하지 않으면 1:1 비율이 맞춰질대까지 샘플을 생성. 사전 형태로 입력하여 클래스별로 생성하는 샘플의 수를 조절할 수도 있다.\n",
    "- k_neighbors : SMOTE 에서 고려하는 이웃의 수 (=k값)\n",
    "    - 실무자들은 보통 1, 3, 5 정도로 설정한다고 함. (kmeans를 할때 주로 사용하는 k값에 영향을 받음)\n",
    "    - 짝수로 설정해도 문제는 없다.\n",
    "    - 포인트는 k값을 너무 크지 않게 설정하는 것\n",
    "\n",
    "**주요 메서드**\n",
    "- .fit_sample(X,Y) : X와 Y에 대해서 SMOTE를 적용한 결과를 ndarray 형태로 return\n",
    "    - 일반적인 sklearn의 함수처럼  fit과 sample이 따로 있지 않고 하나의 메서드로 적용된다.\n",
    "    - Test data에는 적용하면 안되고, 할 필요도 없기 때문 (메서드 하나로 바로 fit하여 sample을 return)"
   ]
  },
  {
   "cell_type": "code",
   "execution_count": 1,
   "metadata": {
    "ExecuteTime": {
     "end_time": "2021-07-17T14:25:06.588529Z",
     "start_time": "2021-07-17T14:25:05.863965Z"
    }
   },
   "outputs": [],
   "source": [
    "import os\n",
    "import pandas as pd\n",
    "\n",
    "# 불필요한 경고 표시 생략\n",
    "import warnings\n",
    "warnings.filterwarnings(action = 'ignore')\n",
    "\n",
    "a=%pwd # 현재 경로 a에 할당\n",
    "os.chdir(a) # 파일 로드 경로 설정"
   ]
  },
  {
   "cell_type": "markdown",
   "metadata": {},
   "source": [
    "반도체 공정의 센서값 데이터 (실습용 불균형 데이터)"
   ]
  },
  {
   "cell_type": "code",
   "execution_count": 4,
   "metadata": {
    "ExecuteTime": {
     "end_time": "2021-07-17T14:25:55.315147Z",
     "start_time": "2021-07-17T14:25:55.102683Z"
    }
   },
   "outputs": [
    {
     "data": {
      "text/html": [
       "<div>\n",
       "<style scoped>\n",
       "    .dataframe tbody tr th:only-of-type {\n",
       "        vertical-align: middle;\n",
       "    }\n",
       "\n",
       "    .dataframe tbody tr th {\n",
       "        vertical-align: top;\n",
       "    }\n",
       "\n",
       "    .dataframe thead th {\n",
       "        text-align: right;\n",
       "    }\n",
       "</style>\n",
       "<table border=\"1\" class=\"dataframe\">\n",
       "  <thead>\n",
       "    <tr style=\"text-align: right;\">\n",
       "      <th></th>\n",
       "      <th>X1</th>\n",
       "      <th>X2</th>\n",
       "      <th>X3</th>\n",
       "      <th>X4</th>\n",
       "      <th>X5</th>\n",
       "      <th>X6</th>\n",
       "      <th>X7</th>\n",
       "      <th>X8</th>\n",
       "      <th>X9</th>\n",
       "      <th>X10</th>\n",
       "      <th>...</th>\n",
       "      <th>X582</th>\n",
       "      <th>X583</th>\n",
       "      <th>X584</th>\n",
       "      <th>X585</th>\n",
       "      <th>X586</th>\n",
       "      <th>X587</th>\n",
       "      <th>X588</th>\n",
       "      <th>X589</th>\n",
       "      <th>X590</th>\n",
       "      <th>Y</th>\n",
       "    </tr>\n",
       "  </thead>\n",
       "  <tbody>\n",
       "    <tr>\n",
       "      <th>0</th>\n",
       "      <td>3030.93</td>\n",
       "      <td>2564.00</td>\n",
       "      <td>2187.7333</td>\n",
       "      <td>1411.1265</td>\n",
       "      <td>1.3602</td>\n",
       "      <td>100</td>\n",
       "      <td>97.6133</td>\n",
       "      <td>0.1242</td>\n",
       "      <td>1.5005</td>\n",
       "      <td>0.0162</td>\n",
       "      <td>...</td>\n",
       "      <td>97.934373</td>\n",
       "      <td>0.5005</td>\n",
       "      <td>0.0118</td>\n",
       "      <td>0.0035</td>\n",
       "      <td>2.3630</td>\n",
       "      <td>0.021458</td>\n",
       "      <td>0.016475</td>\n",
       "      <td>0.005283</td>\n",
       "      <td>99.670066</td>\n",
       "      <td>-1</td>\n",
       "    </tr>\n",
       "    <tr>\n",
       "      <th>1</th>\n",
       "      <td>3095.78</td>\n",
       "      <td>2465.14</td>\n",
       "      <td>2230.4222</td>\n",
       "      <td>1463.6606</td>\n",
       "      <td>0.8294</td>\n",
       "      <td>100</td>\n",
       "      <td>102.3433</td>\n",
       "      <td>0.1247</td>\n",
       "      <td>1.4966</td>\n",
       "      <td>-0.0005</td>\n",
       "      <td>...</td>\n",
       "      <td>208.204500</td>\n",
       "      <td>0.5019</td>\n",
       "      <td>0.0223</td>\n",
       "      <td>0.0055</td>\n",
       "      <td>4.4447</td>\n",
       "      <td>0.009600</td>\n",
       "      <td>0.020100</td>\n",
       "      <td>0.006000</td>\n",
       "      <td>208.204500</td>\n",
       "      <td>-1</td>\n",
       "    </tr>\n",
       "    <tr>\n",
       "      <th>2</th>\n",
       "      <td>2932.61</td>\n",
       "      <td>2559.94</td>\n",
       "      <td>2186.4111</td>\n",
       "      <td>1698.0172</td>\n",
       "      <td>1.5102</td>\n",
       "      <td>100</td>\n",
       "      <td>95.4878</td>\n",
       "      <td>0.1241</td>\n",
       "      <td>1.4436</td>\n",
       "      <td>0.0041</td>\n",
       "      <td>...</td>\n",
       "      <td>82.860200</td>\n",
       "      <td>0.4958</td>\n",
       "      <td>0.0157</td>\n",
       "      <td>0.0039</td>\n",
       "      <td>3.1745</td>\n",
       "      <td>0.058400</td>\n",
       "      <td>0.048400</td>\n",
       "      <td>0.014800</td>\n",
       "      <td>82.860200</td>\n",
       "      <td>1</td>\n",
       "    </tr>\n",
       "    <tr>\n",
       "      <th>3</th>\n",
       "      <td>2988.72</td>\n",
       "      <td>2479.90</td>\n",
       "      <td>2199.0333</td>\n",
       "      <td>909.7926</td>\n",
       "      <td>1.3204</td>\n",
       "      <td>100</td>\n",
       "      <td>104.2367</td>\n",
       "      <td>0.1217</td>\n",
       "      <td>1.4882</td>\n",
       "      <td>-0.0124</td>\n",
       "      <td>...</td>\n",
       "      <td>73.843200</td>\n",
       "      <td>0.4990</td>\n",
       "      <td>0.0103</td>\n",
       "      <td>0.0025</td>\n",
       "      <td>2.0544</td>\n",
       "      <td>0.020200</td>\n",
       "      <td>0.014900</td>\n",
       "      <td>0.004400</td>\n",
       "      <td>73.843200</td>\n",
       "      <td>-1</td>\n",
       "    </tr>\n",
       "    <tr>\n",
       "      <th>4</th>\n",
       "      <td>3032.24</td>\n",
       "      <td>2502.87</td>\n",
       "      <td>2233.3667</td>\n",
       "      <td>1326.5200</td>\n",
       "      <td>1.5334</td>\n",
       "      <td>100</td>\n",
       "      <td>100.3967</td>\n",
       "      <td>0.1235</td>\n",
       "      <td>1.5031</td>\n",
       "      <td>-0.0031</td>\n",
       "      <td>...</td>\n",
       "      <td>97.934373</td>\n",
       "      <td>0.4800</td>\n",
       "      <td>0.4766</td>\n",
       "      <td>0.1045</td>\n",
       "      <td>99.3032</td>\n",
       "      <td>0.020200</td>\n",
       "      <td>0.014900</td>\n",
       "      <td>0.004400</td>\n",
       "      <td>73.843200</td>\n",
       "      <td>-1</td>\n",
       "    </tr>\n",
       "  </tbody>\n",
       "</table>\n",
       "<p>5 rows × 591 columns</p>\n",
       "</div>"
      ],
      "text/plain": [
       "        X1       X2         X3         X4      X5   X6        X7      X8  \\\n",
       "0  3030.93  2564.00  2187.7333  1411.1265  1.3602  100   97.6133  0.1242   \n",
       "1  3095.78  2465.14  2230.4222  1463.6606  0.8294  100  102.3433  0.1247   \n",
       "2  2932.61  2559.94  2186.4111  1698.0172  1.5102  100   95.4878  0.1241   \n",
       "3  2988.72  2479.90  2199.0333   909.7926  1.3204  100  104.2367  0.1217   \n",
       "4  3032.24  2502.87  2233.3667  1326.5200  1.5334  100  100.3967  0.1235   \n",
       "\n",
       "       X9     X10  ...        X582    X583    X584    X585     X586      X587  \\\n",
       "0  1.5005  0.0162  ...   97.934373  0.5005  0.0118  0.0035   2.3630  0.021458   \n",
       "1  1.4966 -0.0005  ...  208.204500  0.5019  0.0223  0.0055   4.4447  0.009600   \n",
       "2  1.4436  0.0041  ...   82.860200  0.4958  0.0157  0.0039   3.1745  0.058400   \n",
       "3  1.4882 -0.0124  ...   73.843200  0.4990  0.0103  0.0025   2.0544  0.020200   \n",
       "4  1.5031 -0.0031  ...   97.934373  0.4800  0.4766  0.1045  99.3032  0.020200   \n",
       "\n",
       "       X588      X589        X590  Y  \n",
       "0  0.016475  0.005283   99.670066 -1  \n",
       "1  0.020100  0.006000  208.204500 -1  \n",
       "2  0.048400  0.014800   82.860200  1  \n",
       "3  0.014900  0.004400   73.843200 -1  \n",
       "4  0.014900  0.004400   73.843200 -1  \n",
       "\n",
       "[5 rows x 591 columns]"
      ]
     },
     "execution_count": 4,
     "metadata": {},
     "output_type": "execute_result"
    }
   ],
   "source": [
    "df = pd.read_csv(\"Secom.csv\")\n",
    "df.head()"
   ]
  },
  {
   "cell_type": "code",
   "execution_count": 5,
   "metadata": {
    "ExecuteTime": {
     "end_time": "2021-07-17T14:26:06.506573Z",
     "start_time": "2021-07-17T14:26:06.492065Z"
    }
   },
   "outputs": [],
   "source": [
    "# 특징과 라벨 분리\n",
    "X = df.drop('Y', axis = 1)\n",
    "Y = df['Y']"
   ]
  },
  {
   "cell_type": "code",
   "execution_count": 6,
   "metadata": {
    "ExecuteTime": {
     "end_time": "2021-07-17T14:26:10.390556Z",
     "start_time": "2021-07-17T14:26:08.532549Z"
    }
   },
   "outputs": [],
   "source": [
    "# 학습 데이터와 평가 데이터 분할\n",
    "from sklearn.model_selection import train_test_split\n",
    "Train_X, Test_X, Train_Y, Test_Y = train_test_split(X, Y)"
   ]
  },
  {
   "cell_type": "code",
   "execution_count": 7,
   "metadata": {
    "ExecuteTime": {
     "end_time": "2021-07-17T14:26:39.157224Z",
     "start_time": "2021-07-17T14:26:39.148219Z"
    }
   },
   "outputs": [
    {
     "data": {
      "text/plain": [
       "(1175, 590)"
      ]
     },
     "execution_count": 7,
     "metadata": {},
     "output_type": "execute_result"
    }
   ],
   "source": [
    "# 특징이 매우 많음 (590개)\n",
    "Train_X.shape"
   ]
  },
  {
   "cell_type": "code",
   "execution_count": 6,
   "metadata": {
    "ExecuteTime": {
     "end_time": "2021-07-16T12:52:40.366499Z",
     "start_time": "2021-07-16T12:52:40.354532Z"
    },
    "scrolled": true
   },
   "outputs": [
    {
     "data": {
      "text/plain": [
       "-1    1096\n",
       " 1      79\n",
       "Name: Y, dtype: int64"
      ]
     },
     "execution_count": 6,
     "metadata": {},
     "output_type": "execute_result"
    }
   ],
   "source": [
    "# 클래스 불균형 확인\n",
    "# 불량이 1096개 / 정상이 79개\n",
    "# 즉, 언더샘플링을 적용하기에는 부적절 할 것으로 보인다.\n",
    "Train_Y.value_counts()"
   ]
  },
  {
   "cell_type": "markdown",
   "metadata": {},
   "source": [
    "# 클래스 불균형 탐색"
   ]
  },
  {
   "cell_type": "markdown",
   "metadata": {},
   "source": [
    "## 클래스 불균형 테스트 by 클래스 불균형 비율 측정"
   ]
  },
  {
   "cell_type": "code",
   "execution_count": 7,
   "metadata": {
    "ExecuteTime": {
     "end_time": "2021-07-16T12:52:40.381460Z",
     "start_time": "2021-07-16T12:52:40.369492Z"
    }
   },
   "outputs": [
    {
     "data": {
      "text/plain": [
       "13.873417721518987"
      ]
     },
     "execution_count": 7,
     "metadata": {},
     "output_type": "execute_result"
    }
   ],
   "source": [
    "# 클래스 불균형 비율로 한번더 불균형 여부 확인\n",
    "Train_Y.value_counts().iloc[0] / Train_Y.value_counts().iloc[-1]"
   ]
  },
  {
   "cell_type": "markdown",
   "metadata": {},
   "source": [
    "## 클래스 불균형 테스트 by KNN"
   ]
  },
  {
   "cell_type": "code",
   "execution_count": 11,
   "metadata": {
    "ExecuteTime": {
     "end_time": "2021-07-17T14:45:47.148208Z",
     "start_time": "2021-07-17T14:45:46.775712Z"
    }
   },
   "outputs": [
    {
     "name": "stdout",
     "output_type": "stream",
     "text": [
      "0.0\n",
      "0.9413265306122449\n"
     ]
    }
   ],
   "source": [
    "# kNN을 사용한 클래스 불균형 테스트\n",
    "from sklearn.neighbors import KNeighborsClassifier as KNN\n",
    "from sklearn.metrics import *\n",
    "\n",
    "# 모델 생성\n",
    "kNN_model = KNN(n_neighbors = 11).fit(Train_X, Train_Y)\n",
    "\n",
    "# 예측\n",
    "pred_Y = kNN_model.predict(Test_X)\n",
    "\n",
    "# 재현율 출력\n",
    "print(recall_score(Test_Y, pred_Y))\n",
    "\n",
    "# 정확도 출력\n",
    "print(accuracy_score(Test_Y, pred_Y))\n",
    "\n",
    "# 정확도는 90%이상이지만, 재현율이 0%로 불균형이 심각한 수준이다."
   ]
  },
  {
   "cell_type": "markdown",
   "metadata": {},
   "source": [
    " "
   ]
  },
  {
   "cell_type": "markdown",
   "metadata": {},
   "source": [
    "## 불균형 탐색 결론\n",
    "\n",
    "- 불균형 비율이 9에 가깝고, KNN을 통한 테스트에서도 재현율이 0%이다. \n",
    "- 즉, 클래스 불균형이 매우 심각하다. => resampling이 필요하다.\n",
    "- 하지만 특징은 매우 많은 것에 비해, 데이터 자체가 너무 부족하다.\n",
    "- 클래스 1의 경우 79개의 값밖에 없어서, 언더 샘플링을 진행할 경우 남는 샘플이 너무 부족해진다."
   ]
  },
  {
   "cell_type": "markdown",
   "metadata": {},
   "source": [
    "# SMOTE로 오버샘플링 (5:5)"
   ]
  },
  {
   "cell_type": "code",
   "execution_count": 8,
   "metadata": {
    "ExecuteTime": {
     "end_time": "2021-07-17T14:45:02.864050Z",
     "start_time": "2021-07-17T14:45:02.389536Z"
    }
   },
   "outputs": [],
   "source": [
    "from imblearn.over_sampling import SMOTE\n",
    "\n",
    "# SMOTE 인스턴스 생성\n",
    "oversampling_instance = SMOTE(k_neighbors = 3)\n",
    "\n",
    "# 오버샘플링 적용\n",
    "# sampling_strategy을 적용하지 않음 = 클래스 비율 5:5가 될때까지 데이터 생성\n",
    "o_Train_X, o_Train_Y = oversampling_instance.fit_sample(Train_X, Train_Y)\n",
    "\n",
    "# 결과값인 ndarray를 DataFrame과 Series로 변환 \n",
    "# 남은 전처리가 없다면 하지 않아도 된다.\n",
    "o_Train_X = pd.DataFrame(o_Train_X, columns = X.columns)\n",
    "o_Train_Y = pd.Series(o_Train_Y)"
   ]
  },
  {
   "cell_type": "code",
   "execution_count": 9,
   "metadata": {
    "ExecuteTime": {
     "end_time": "2021-07-17T14:45:03.619816Z",
     "start_time": "2021-07-17T14:45:03.603981Z"
    },
    "scrolled": true
   },
   "outputs": [
    {
     "data": {
      "text/plain": [
       "-1    1094\n",
       " 1    1094\n",
       "Name: Y, dtype: int64"
      ]
     },
     "execution_count": 9,
     "metadata": {},
     "output_type": "execute_result"
    }
   ],
   "source": [
    "# 비율이 1:1이 됨을 확인\n",
    "o_Train_Y.value_counts()"
   ]
  },
  {
   "cell_type": "code",
   "execution_count": 12,
   "metadata": {
    "ExecuteTime": {
     "end_time": "2021-07-17T14:45:49.813154Z",
     "start_time": "2021-07-17T14:45:49.162601Z"
    }
   },
   "outputs": [
    {
     "name": "stdout",
     "output_type": "stream",
     "text": [
      "0.4782608695652174\n",
      "0.5739795918367347\n"
     ]
    }
   ],
   "source": [
    "# 같은 KNN모델로 다시 평가: 정확도는 감소했으나, 재현율이 크게 오름을 확인\n",
    "kNN_model = KNN(n_neighbors = 11).fit(o_Train_X, o_Train_Y)\n",
    "pred_Y = kNN_model.predict(Test_X)\n",
    "\n",
    "# 재현율\n",
    "print(recall_score(Test_Y, pred_Y))\n",
    "\n",
    "# 정확도\n",
    "print(accuracy_score(Test_Y, pred_Y))"
   ]
  },
  {
   "cell_type": "markdown",
   "metadata": {},
   "source": [
    "- 재현율이 0 -> 0.5로 상승했다.\n",
    "\n",
    "\n",
    "- trade-off로 정확도는 매우 하락하였다.\n",
    "\n",
    "- 정확도가 너무 떨어지는 것은 문제가 있을 수 있으므로 정확도를 일정 부분 보전 하기 위해 오버 샘플링 비율 지정 필요하다 판단."
   ]
  },
  {
   "cell_type": "markdown",
   "metadata": {},
   "source": [
    "# 비율을 조정한 SMOTE "
   ]
  },
  {
   "cell_type": "code",
   "execution_count": 13,
   "metadata": {
    "ExecuteTime": {
     "end_time": "2021-07-17T14:49:56.305034Z",
     "start_time": "2021-07-17T14:49:56.143541Z"
    }
   },
   "outputs": [],
   "source": [
    "from imblearn.over_sampling import SMOTE\n",
    "# SMOTE 인스턴스 생성\n",
    "# sampling_strategy을 적용 (클래스별 비율을 사전형태로 입력)\n",
    "# 클래스 명 : 생성할 샘플 수 (생성하고 난 뒤에 남게 되는 목표 샘플 수)\n",
    "oversampling_instance = SMOTE(k_neighbors = 3, sampling_strategy = {1:int(Train_Y.value_counts().iloc[0] / 2),\n",
    "                                                                    -1:Train_Y.value_counts().iloc[0]})\n",
    "\n",
    "# 오버샘플링 적용\n",
    "o_Train_X, o_Train_Y = oversampling_instance.fit_sample(Train_X, Train_Y)\n",
    "\n",
    "# ndarray 형태가 되므로 다시 DataFrame과 Series로 변환 (남은 전처리가 없다면 하지 않아도 무방)\n",
    "o_Train_X = pd.DataFrame(o_Train_X, columns = X.columns)\n",
    "o_Train_Y = pd.Series(o_Train_Y)"
   ]
  },
  {
   "cell_type": "code",
   "execution_count": 14,
   "metadata": {
    "ExecuteTime": {
     "end_time": "2021-07-17T14:49:57.789061Z",
     "start_time": "2021-07-17T14:49:57.317717Z"
    }
   },
   "outputs": [
    {
     "name": "stdout",
     "output_type": "stream",
     "text": [
      "0.43478260869565216\n",
      "0.6581632653061225\n"
     ]
    }
   ],
   "source": [
    "kNN_model = KNN(n_neighbors = 11).fit(o_Train_X, o_Train_Y)\n",
    "pred_Y = kNN_model.predict(Test_X)\n",
    "\n",
    "\n",
    "# 재현율\n",
    "print(recall_score(Test_Y, pred_Y))\n",
    "\n",
    "# 정확도\n",
    "print(accuracy_score(Test_Y, pred_Y))"
   ]
  },
  {
   "cell_type": "markdown",
   "metadata": {},
   "source": [
    "# 결론\n",
    "---\n",
    "\n",
    "- 5:5 비율로 SMOTE 를 했을때보다 재현율은 낮아 졌지만, 정확도를 어느정도 보전하"
   ]
  }
 ],
 "metadata": {
  "kernelspec": {
   "display_name": "Python 3",
   "language": "python",
   "name": "python3"
  },
  "language_info": {
   "codemirror_mode": {
    "name": "ipython",
    "version": 3
   },
   "file_extension": ".py",
   "mimetype": "text/x-python",
   "name": "python",
   "nbconvert_exporter": "python",
   "pygments_lexer": "ipython3",
   "version": "3.8.5"
  },
  "toc": {
   "base_numbering": 1,
   "nav_menu": {},
   "number_sections": true,
   "sideBar": true,
   "skip_h1_title": false,
   "title_cell": "Table of Contents",
   "title_sidebar": "Contents",
   "toc_cell": false,
   "toc_position": {
    "height": "797px",
    "left": "46px",
    "top": "170px",
    "width": "383.594px"
   },
   "toc_section_display": true,
   "toc_window_display": true
  },
  "varInspector": {
   "cols": {
    "lenName": 16,
    "lenType": 16,
    "lenVar": 40
   },
   "kernels_config": {
    "python": {
     "delete_cmd_postfix": "",
     "delete_cmd_prefix": "del ",
     "library": "var_list.py",
     "varRefreshCmd": "print(var_dic_list())"
    },
    "r": {
     "delete_cmd_postfix": ") ",
     "delete_cmd_prefix": "rm(",
     "library": "var_list.r",
     "varRefreshCmd": "cat(var_dic_list()) "
    }
   },
   "types_to_exclude": [
    "module",
    "function",
    "builtin_function_or_method",
    "instance",
    "_Feature"
   ],
   "window_display": false
  }
 },
 "nbformat": 4,
 "nbformat_minor": 2
}
