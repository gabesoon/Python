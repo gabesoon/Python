{
 "cells": [
  {
   "attachments": {},
   "cell_type": "markdown",
   "metadata": {},
   "source": [
    "# 비용 민감 모델\n",
    "---\n",
    "- 위음성 비용과 위양성 비용을 다르게 설정하는 모델\n",
    "- 즉, `위음성 비용 = w x 위양성 비용 (w > 1) 로 설정한 모델`을 비용민감 모델이라 한다.\n",
    "    - w = 1 이면 일반 모델과 다를 것이 없음.\n",
    "    - w < 1 이면 다수 클래스에 더 초점을 두는 모델이 되버림 (불균형 해소 목적과 맞지 않음)<br><br>\n",
    "- w값의 조절을 통해 소수 클래스에 중점을 얼마나 둘지 설정할 수 있다.\n",
    "    - 아래 그림과 같이 비용 민감 모델은 w값이 커질수록 긍정 클래스로 분류하고자 할 것이다. (재현율 상승, 정확도 하락)\n",
    "\n",
    "![image](https://user-images.githubusercontent.com/74717033/134631586-5c420152-e3f4-48a4-b35c-5207b82212dd.png)\n",
    "\n",
    "\n",
    "- w가 0일때는 정확도가 높은 편이다. (부정 클래스샘플이 대부분일때, 전부 부정클래스로 판단해도 성능이 나빠지지 않는다.)\n",
    "- w가 0일때는 모든 샘플을 부정 클래스로 분류해서 재현율이 0이 된다. \n",
    "- 단, 재현율은 1이 될 수 있지만, 정확도는 0이 되지 않는다.\n",
    "    - w가 커질 수록 대부분의 샘플을 긍정 클래스로 분류하겠지만, 실제 긍정인 비율이 있기 때문에 0이 될 수 없다.\n",
    "---\n",
    "- `위양성 비용 (False positive : TP)` : `부정` 클래스 샘플을 `긍정` 클래스 라고 잘못 분류해서 발생하는 비용<br><br>\n",
    "- `위음성 비용 (False negative : TN)` : `긍정` 클래스 샘플을 `부정` 클래스 라고 잘못 분류해서 발생하는 비용<br><br>\n",
    "---\n",
    "\n",
    "- 기본적으로 모델을 생성하면 위음성 비용과 위양성비용을 같다는 전제하에 작동한다.\n",
    "- 하지만, 실제로는 위음성 비용 > 위양성 비용 (feat. 암환자의 생명 > 정상인의 금전적 비용과 시간)\n",
    "---\n",
    "- 엄밀히 말해서 전처리 함수는 아니다.\n",
    "- 하지만 클래스 불균형 문제 해결에 많이 쓰이는 모델 기법이다.\n",
    "---"
   ]
  },
  {
   "attachments": {},
   "cell_type": "markdown",
   "metadata": {},
   "source": [
    "# 확률 모델\n",
    "---\n",
    "- Logistic Regression, Naive bayes regression 등의 확률 모델들은 cut-off value(c)를 조정하는 방식으로 비용민감 모델을 구현한다.\n",
    "\n",
    "![image](https://user-images.githubusercontent.com/74717033/134631598-18d8d9bc-9cf5-45cc-805b-b58b44d431a0.png)\n",
    "\n",
    "---\n",
    "- 보통 c(cut-off value)를 0.5로 설정한다. \n",
    "- x가 주어졌을때 y가 1일 확률이 50%이상(c)이면 Positive(1) / y가 1일 확률이 50%이하(c)이면 Negative(-1)로 판단한다.\n",
    "- 이때, c값은 조정이 가능하다. \n",
    "    - c값을 작게 줄 수록 Positive(긍정) 이라 분류하는 경우가 더 많아진다. (= 긍정 클래스의 결정 공간이 넓어진다.)\n",
    "\n",
    "- 결론적으로, c값을 0.5보다 작게 설정하는 것을 확률모델의 비용민감 모델이라 한다.\n",
    "    - c값이 작을 수록 재현율이 높고, 정확도가 낮다."
   ]
  },
  {
   "attachments": {},
   "cell_type": "markdown",
   "metadata": {},
   "source": [
    "# 관련 문법 : .predict_proba\n",
    "---\n",
    "- sklearn의 확률 모델이 갖는 메서드로, X를 입력받아 `각 클래스에 속할 확률을 출력`해준다.\n",
    "- 이전의 다른 전처리법 처럼 모델에 학습시키는 것이 아닌, 학습된 모델에서 활용하는 방식\n",
    "- 모델에 값을 fit한 후에, predict_proba(X)를 사용하면, x에 포함된 모든 값들을 대상으로 Pos 와 Neg에 속할 확률을 출력해준다.\n",
    "---\n",
    "\n",
    "![image](https://user-images.githubusercontent.com/74717033/134631620-8573fe54-83db-4f15-8be9-9a43125d0ef1.png)\n",
    "\n",
    "---\n",
    "- Model.classes_=[Neg, Pos] 를 통해 모델학습에 사용된 클래스값을 알수 있다.\n",
    "- 이 결과를 .predict_proba(X) 의 출력결과의 컬럼값으로 활용한다.\n",
    "---"
   ]
  },
  {
   "cell_type": "markdown",
   "metadata": {},
   "source": [
    "# 데이터 로드 및 클래스 불균형 탐색"
   ]
  },
  {
   "cell_type": "code",
   "execution_count": 1,
   "metadata": {
    "ExecuteTime": {
     "end_time": "2021-09-24T06:57:37.914065Z",
     "start_time": "2021-09-24T06:57:37.002821Z"
    }
   },
   "outputs": [],
   "source": [
    "import os\n",
    "import pandas as pd\n",
    "\n",
    "# 불필요한 경고 표시 생략\n",
    "import warnings\n",
    "warnings.filterwarnings(action = 'ignore')\n",
    "\n",
    "a=%pwd # 현재 경로 a에 할당\n",
    "os.chdir(a) # 파일 로드 경로 설정"
   ]
  },
  {
   "cell_type": "markdown",
   "metadata": {},
   "source": [
    "반도체 공정의 센서값 데이터 (실습용 불균형 데이터)"
   ]
  },
  {
   "cell_type": "code",
   "execution_count": 2,
   "metadata": {
    "ExecuteTime": {
     "end_time": "2021-09-24T06:57:38.156294Z",
     "start_time": "2021-09-24T06:57:37.915261Z"
    }
   },
   "outputs": [
    {
     "data": {
      "text/html": [
       "<div>\n",
       "<style scoped>\n",
       "    .dataframe tbody tr th:only-of-type {\n",
       "        vertical-align: middle;\n",
       "    }\n",
       "\n",
       "    .dataframe tbody tr th {\n",
       "        vertical-align: top;\n",
       "    }\n",
       "\n",
       "    .dataframe thead th {\n",
       "        text-align: right;\n",
       "    }\n",
       "</style>\n",
       "<table border=\"1\" class=\"dataframe\">\n",
       "  <thead>\n",
       "    <tr style=\"text-align: right;\">\n",
       "      <th></th>\n",
       "      <th>X1</th>\n",
       "      <th>X2</th>\n",
       "      <th>X3</th>\n",
       "      <th>X4</th>\n",
       "      <th>X5</th>\n",
       "      <th>X6</th>\n",
       "      <th>X7</th>\n",
       "      <th>X8</th>\n",
       "      <th>X9</th>\n",
       "      <th>X10</th>\n",
       "      <th>...</th>\n",
       "      <th>X582</th>\n",
       "      <th>X583</th>\n",
       "      <th>X584</th>\n",
       "      <th>X585</th>\n",
       "      <th>X586</th>\n",
       "      <th>X587</th>\n",
       "      <th>X588</th>\n",
       "      <th>X589</th>\n",
       "      <th>X590</th>\n",
       "      <th>Y</th>\n",
       "    </tr>\n",
       "  </thead>\n",
       "  <tbody>\n",
       "    <tr>\n",
       "      <th>0</th>\n",
       "      <td>3030.93</td>\n",
       "      <td>2564.00</td>\n",
       "      <td>2187.7333</td>\n",
       "      <td>1411.1265</td>\n",
       "      <td>1.3602</td>\n",
       "      <td>100</td>\n",
       "      <td>97.6133</td>\n",
       "      <td>0.1242</td>\n",
       "      <td>1.5005</td>\n",
       "      <td>0.0162</td>\n",
       "      <td>...</td>\n",
       "      <td>97.934373</td>\n",
       "      <td>0.5005</td>\n",
       "      <td>0.0118</td>\n",
       "      <td>0.0035</td>\n",
       "      <td>2.3630</td>\n",
       "      <td>0.021458</td>\n",
       "      <td>0.016475</td>\n",
       "      <td>0.005283</td>\n",
       "      <td>99.670066</td>\n",
       "      <td>-1</td>\n",
       "    </tr>\n",
       "    <tr>\n",
       "      <th>1</th>\n",
       "      <td>3095.78</td>\n",
       "      <td>2465.14</td>\n",
       "      <td>2230.4222</td>\n",
       "      <td>1463.6606</td>\n",
       "      <td>0.8294</td>\n",
       "      <td>100</td>\n",
       "      <td>102.3433</td>\n",
       "      <td>0.1247</td>\n",
       "      <td>1.4966</td>\n",
       "      <td>-0.0005</td>\n",
       "      <td>...</td>\n",
       "      <td>208.204500</td>\n",
       "      <td>0.5019</td>\n",
       "      <td>0.0223</td>\n",
       "      <td>0.0055</td>\n",
       "      <td>4.4447</td>\n",
       "      <td>0.009600</td>\n",
       "      <td>0.020100</td>\n",
       "      <td>0.006000</td>\n",
       "      <td>208.204500</td>\n",
       "      <td>-1</td>\n",
       "    </tr>\n",
       "    <tr>\n",
       "      <th>2</th>\n",
       "      <td>2932.61</td>\n",
       "      <td>2559.94</td>\n",
       "      <td>2186.4111</td>\n",
       "      <td>1698.0172</td>\n",
       "      <td>1.5102</td>\n",
       "      <td>100</td>\n",
       "      <td>95.4878</td>\n",
       "      <td>0.1241</td>\n",
       "      <td>1.4436</td>\n",
       "      <td>0.0041</td>\n",
       "      <td>...</td>\n",
       "      <td>82.860200</td>\n",
       "      <td>0.4958</td>\n",
       "      <td>0.0157</td>\n",
       "      <td>0.0039</td>\n",
       "      <td>3.1745</td>\n",
       "      <td>0.058400</td>\n",
       "      <td>0.048400</td>\n",
       "      <td>0.014800</td>\n",
       "      <td>82.860200</td>\n",
       "      <td>1</td>\n",
       "    </tr>\n",
       "    <tr>\n",
       "      <th>3</th>\n",
       "      <td>2988.72</td>\n",
       "      <td>2479.90</td>\n",
       "      <td>2199.0333</td>\n",
       "      <td>909.7926</td>\n",
       "      <td>1.3204</td>\n",
       "      <td>100</td>\n",
       "      <td>104.2367</td>\n",
       "      <td>0.1217</td>\n",
       "      <td>1.4882</td>\n",
       "      <td>-0.0124</td>\n",
       "      <td>...</td>\n",
       "      <td>73.843200</td>\n",
       "      <td>0.4990</td>\n",
       "      <td>0.0103</td>\n",
       "      <td>0.0025</td>\n",
       "      <td>2.0544</td>\n",
       "      <td>0.020200</td>\n",
       "      <td>0.014900</td>\n",
       "      <td>0.004400</td>\n",
       "      <td>73.843200</td>\n",
       "      <td>-1</td>\n",
       "    </tr>\n",
       "    <tr>\n",
       "      <th>4</th>\n",
       "      <td>3032.24</td>\n",
       "      <td>2502.87</td>\n",
       "      <td>2233.3667</td>\n",
       "      <td>1326.5200</td>\n",
       "      <td>1.5334</td>\n",
       "      <td>100</td>\n",
       "      <td>100.3967</td>\n",
       "      <td>0.1235</td>\n",
       "      <td>1.5031</td>\n",
       "      <td>-0.0031</td>\n",
       "      <td>...</td>\n",
       "      <td>97.934373</td>\n",
       "      <td>0.4800</td>\n",
       "      <td>0.4766</td>\n",
       "      <td>0.1045</td>\n",
       "      <td>99.3032</td>\n",
       "      <td>0.020200</td>\n",
       "      <td>0.014900</td>\n",
       "      <td>0.004400</td>\n",
       "      <td>73.843200</td>\n",
       "      <td>-1</td>\n",
       "    </tr>\n",
       "  </tbody>\n",
       "</table>\n",
       "<p>5 rows × 591 columns</p>\n",
       "</div>"
      ],
      "text/plain": [
       "        X1       X2         X3         X4      X5   X6        X7      X8  \\\n",
       "0  3030.93  2564.00  2187.7333  1411.1265  1.3602  100   97.6133  0.1242   \n",
       "1  3095.78  2465.14  2230.4222  1463.6606  0.8294  100  102.3433  0.1247   \n",
       "2  2932.61  2559.94  2186.4111  1698.0172  1.5102  100   95.4878  0.1241   \n",
       "3  2988.72  2479.90  2199.0333   909.7926  1.3204  100  104.2367  0.1217   \n",
       "4  3032.24  2502.87  2233.3667  1326.5200  1.5334  100  100.3967  0.1235   \n",
       "\n",
       "       X9     X10  ...        X582    X583    X584    X585     X586      X587  \\\n",
       "0  1.5005  0.0162  ...   97.934373  0.5005  0.0118  0.0035   2.3630  0.021458   \n",
       "1  1.4966 -0.0005  ...  208.204500  0.5019  0.0223  0.0055   4.4447  0.009600   \n",
       "2  1.4436  0.0041  ...   82.860200  0.4958  0.0157  0.0039   3.1745  0.058400   \n",
       "3  1.4882 -0.0124  ...   73.843200  0.4990  0.0103  0.0025   2.0544  0.020200   \n",
       "4  1.5031 -0.0031  ...   97.934373  0.4800  0.4766  0.1045  99.3032  0.020200   \n",
       "\n",
       "       X588      X589        X590  Y  \n",
       "0  0.016475  0.005283   99.670066 -1  \n",
       "1  0.020100  0.006000  208.204500 -1  \n",
       "2  0.048400  0.014800   82.860200  1  \n",
       "3  0.014900  0.004400   73.843200 -1  \n",
       "4  0.014900  0.004400   73.843200 -1  \n",
       "\n",
       "[5 rows x 591 columns]"
      ]
     },
     "execution_count": 2,
     "metadata": {},
     "output_type": "execute_result"
    }
   ],
   "source": [
    "df = pd.read_csv(\"Secom.csv\")\n",
    "df.head()"
   ]
  },
  {
   "cell_type": "code",
   "execution_count": 3,
   "metadata": {
    "ExecuteTime": {
     "end_time": "2021-09-24T06:57:38.171309Z",
     "start_time": "2021-09-24T06:57:38.158289Z"
    }
   },
   "outputs": [],
   "source": [
    "# 특징과 라벨 분리\n",
    "X = df.drop('Y', axis = 1)\n",
    "Y = df['Y']"
   ]
  },
  {
   "cell_type": "code",
   "execution_count": 4,
   "metadata": {
    "ExecuteTime": {
     "end_time": "2021-09-24T06:57:39.954417Z",
     "start_time": "2021-09-24T06:57:38.173302Z"
    }
   },
   "outputs": [],
   "source": [
    "# 학습 데이터와 평가 데이터 분할\n",
    "from sklearn.model_selection import train_test_split\n",
    "Train_X, Test_X, Train_Y, Test_Y = train_test_split(X, Y)"
   ]
  },
  {
   "cell_type": "code",
   "execution_count": 5,
   "metadata": {
    "ExecuteTime": {
     "end_time": "2021-09-24T06:57:39.969224Z",
     "start_time": "2021-09-24T06:57:39.955921Z"
    }
   },
   "outputs": [
    {
     "data": {
      "text/plain": [
       "(1175, 590)"
      ]
     },
     "execution_count": 5,
     "metadata": {},
     "output_type": "execute_result"
    }
   ],
   "source": [
    "# 특징이 매우 많음(590개)\n",
    "Train_X.shape"
   ]
  },
  {
   "cell_type": "code",
   "execution_count": 6,
   "metadata": {
    "ExecuteTime": {
     "end_time": "2021-09-24T06:57:39.984243Z",
     "start_time": "2021-09-24T06:57:39.971245Z"
    },
    "scrolled": true
   },
   "outputs": [
    {
     "data": {
      "text/plain": [
       "-1    1101\n",
       " 1      74\n",
       "Name: Y, dtype: int64"
      ]
     },
     "execution_count": 6,
     "metadata": {},
     "output_type": "execute_result"
    }
   ],
   "source": [
    "# 클래스 불균형 확인\n",
    "# 불량이 1094개 / 정상이 81개\n",
    "# class 1의 샘플이 너무 적어, 언더샘플링을 적용하기에는 부적절 \n",
    "Train_Y.value_counts()"
   ]
  },
  {
   "cell_type": "code",
   "execution_count": 7,
   "metadata": {
    "ExecuteTime": {
     "end_time": "2021-09-24T06:57:39.999205Z",
     "start_time": "2021-09-24T06:57:39.985399Z"
    }
   },
   "outputs": [
    {
     "data": {
      "text/plain": [
       "14.878378378378379"
      ]
     },
     "execution_count": 7,
     "metadata": {},
     "output_type": "execute_result"
    }
   ],
   "source": [
    "# 클래스 불균형 비율 계산\n",
    "Train_Y.value_counts().iloc[0] / Train_Y.value_counts().iloc[-1]"
   ]
  },
  {
   "cell_type": "code",
   "execution_count": 8,
   "metadata": {
    "ExecuteTime": {
     "end_time": "2021-09-24T06:57:40.274901Z",
     "start_time": "2021-09-24T06:57:40.001170Z"
    }
   },
   "outputs": [
    {
     "name": "stdout",
     "output_type": "stream",
     "text": [
      "0.0\n",
      "0.923469387755102\n"
     ]
    }
   ],
   "source": [
    "# kNN을 사용한 클래스 불균형 테스트\n",
    "from sklearn.neighbors import KNeighborsClassifier as KNN\n",
    "from sklearn.metrics import *\n",
    "\n",
    "# 모델 생성\n",
    "kNN_model = KNN(n_neighbors = 11).fit(Train_X, Train_Y)\n",
    "\n",
    "# 예측\n",
    "pred_Y = kNN_model.predict(Test_X)\n",
    "\n",
    "# 재현율 출력\n",
    "print(recall_score(Test_Y, pred_Y))\n",
    "\n",
    "# 정확도 출력\n",
    "print(accuracy_score(Test_Y, pred_Y))\n",
    "\n",
    "# 정확도는 90%이상이지만, 재현율이 0%로 불균형이 심각한 수준이다."
   ]
  },
  {
   "cell_type": "markdown",
   "metadata": {},
   "source": [
    "# 비용 민감 모델\n",
    "---\n",
    "- Logistic Regression모델로 테스트 하는 이유<br><br>\n",
    "    - 모델이 가볍고 간단한 구조이다.\n",
    "    - 따라서 max_iter을 크게 잡아도 빠른 시간안에 결론이 도출되고, 과적합에 걸릴 가능성도 매우 낮다.    "
   ]
  },
  {
   "cell_type": "code",
   "execution_count": 9,
   "metadata": {
    "ExecuteTime": {
     "end_time": "2021-09-24T06:57:51.177456Z",
     "start_time": "2021-09-24T06:57:40.276896Z"
    }
   },
   "outputs": [
    {
     "name": "stdout",
     "output_type": "stream",
     "text": [
      "0.16666666666666666\n",
      "0.875\n"
     ]
    }
   ],
   "source": [
    "# 비용 민감 모델 적용전 Logistic Regression 모델로 테스트\n",
    "from sklearn.linear_model import LogisticRegression as LR\n",
    "\n",
    "# 모델 인스턴스 생성 & fitting\n",
    "model = LR(max_iter = 100000).fit(Train_X, Train_Y)\n",
    "\n",
    "# 예측\n",
    "pred_Y = model.predict(Test_X)\n",
    "\n",
    "# 재현율 & 정확도 출력\n",
    "print(recall_score(Test_Y, pred_Y))\n",
    "print(accuracy_score(Test_Y, pred_Y))"
   ]
  },
  {
   "cell_type": "markdown",
   "metadata": {},
   "source": [
    "- 동일한 데이터 셋으로 KNN을 통해 클래스 불균형 탐색을 했을때는 재현율이 0%였던 것에 비해 로지스틱은 KNN대비 높은 재현율값을 보인다. \n",
    "    - 20%대의 재현율이 높은 것은 아니다. (상대적으로 높은 것)\n",
    "- 즉, KNN모델이 클래스 불균형에 매우 민감한 모델인 것을 확인할 수 있다."
   ]
  },
  {
   "attachments": {},
   "cell_type": "markdown",
   "metadata": {},
   "source": [
    "# cut-off value 조정\n",
    "---\n",
    "- 확률 모델의 cut_off_value 조절하기\n",
    "- Numpy와 Pandas의 유니버셜 함수, 브로드캐스팅, 마스크 연산을 통해 배열 단위 연산을 하는 것이 포인트\n",
    "\n",
    "![image](https://user-images.githubusercontent.com/74717033/134631641-9e93828a-7715-4dc6-8893-e2528ae4c54c.png)\n",
    "\n",
    "---"
   ]
  },
  {
   "cell_type": "code",
   "execution_count": 10,
   "metadata": {
    "ExecuteTime": {
     "end_time": "2021-09-24T06:57:51.207433Z",
     "start_time": "2021-09-24T06:57:51.178453Z"
    }
   },
   "outputs": [
    {
     "name": "stdout",
     "output_type": "stream",
     "text": [
      "0.16666666666666666\n",
      "0.8545918367346939\n"
     ]
    }
   ],
   "source": [
    "# 위에서 생성한 LR모델에 predict_proba() 함수를 사용해 해당 모델을 통해 Test_X의 샘플이 각 클래스에 속할 확률을 출력\n",
    "probs = model.predict_proba(Test_X)\n",
    "\n",
    "# 결과를 DataFrame으로 변경\n",
    "# model.classes_ 는 fitting이 된 이후에만 사용 가능 (어떤 클래스를 바탕으로 학습된 것인지를 저장하는 함수)\n",
    "probs = pd.DataFrame(probs, columns = model.classes_)\n",
    "\n",
    "# cut-off value 비율 설정\n",
    "cut_off_value = 0.3\n",
    "\n",
    "pred_Y = 2 * (probs.iloc[:, -1] >= cut_off_value) - 1\n",
    "print(recall_score(Test_Y, pred_Y))\n",
    "print(accuracy_score(Test_Y, pred_Y))"
   ]
  },
  {
   "cell_type": "markdown",
   "metadata": {},
   "source": [
    "- 재현율은 거의 40%가까이 증가한 반면, 정확도는 동일하다.\n",
    "- 이 경우는 c값의 조절이 어느정도 잘 이뤄진 결과 이다.\n",
    "- 하지만 위와 같이 처음 정한 c값이 좋은 결과를 내지 못할 수도 있고, 매번 수치를 입력해가면서 결과를 확인하는 것은 비효율 적이다.\n",
    "- 따라서 함수를 활용해 cut-off value를 조정하는 결과를 시각화 하는 방법을 아래에 정리하겠다."
   ]
  },
  {
   "cell_type": "markdown",
   "metadata": {},
   "source": [
    "# cut-off value를 변화하여 비용 민감 모델 성능 올리기"
   ]
  },
  {
   "cell_type": "code",
   "execution_count": 11,
   "metadata": {
    "ExecuteTime": {
     "end_time": "2021-09-24T06:57:51.222413Z",
     "start_time": "2021-09-24T06:57:51.208430Z"
    }
   },
   "outputs": [],
   "source": [
    "# cut off value를 조정하는 함수 작성\n",
    "def cost_sensitive_model(model, cut_off_value, Test_X, Test_Y):\n",
    "    \n",
    "    # predict_proba 로 클래스별 확률 출력\n",
    "    probs = model.predict_proba(Test_X)\n",
    "    \n",
    "    # 결과값을 DataFrame으로 변경\n",
    "    probs = pd.DataFrame(probs, columns = model.classes_)\n",
    "    \n",
    "    # cut-off value에 따른 예측값\n",
    "    pred_Y = 2 * (probs.iloc[:, -1] >= cut_off_value) - 1\n",
    "    \n",
    "    # 재현율 * 정확도 계산\n",
    "    recall = recall_score(Test_Y, pred_Y)\n",
    "    accuracy = accuracy_score(Test_Y, pred_Y)\n",
    "    \n",
    "    # 출력\n",
    "    return recall, accuracy"
   ]
  },
  {
   "cell_type": "markdown",
   "metadata": {},
   "source": [
    "- 위의 과정을 하나의 함수로 만들어서 cut-off value 변화에 따른 결과를 간편하게 살펴보면서, 최적의 값을 찾도록 할 수 있다.\n",
    "- 기존의 다른 전처리법은 모델을 학습한 이후에 조정을 하고, 다시 모델에 학습시키는 과정을 반복한다.\n",
    "- 하지만 cut-off value의 경우 이미 학습된 모델이 있고, c값만 조정하기 때문에 작업 과정에 시간이 많이 소비되지 않는다."
   ]
  },
  {
   "cell_type": "markdown",
   "metadata": {},
   "source": [
    "# cut off value에 따른 recall과 accuracy 변화를 시각화 하기"
   ]
  },
  {
   "cell_type": "code",
   "execution_count": 12,
   "metadata": {
    "ExecuteTime": {
     "end_time": "2021-09-24T06:57:52.845643Z",
     "start_time": "2021-09-24T06:57:51.224443Z"
    }
   },
   "outputs": [
    {
     "data": {
      "text/plain": [
       "<matplotlib.legend.Legend at 0x2e2e91aa160>"
      ]
     },
     "execution_count": 12,
     "metadata": {},
     "output_type": "execute_result"
    },
    {
     "data": {
      "image/png": "[encoded data removed]",
      "text/plain": [
       "<Figure size 432x288 with 1 Axes>"
      ]
     },
     "metadata": {
      "needs_background": "light"
     },
     "output_type": "display_data"
    }
   ],
   "source": [
    "from matplotlib import pyplot as plt\n",
    "from shapely.geometry import LineString\n",
    "import numpy as np\n",
    "\n",
    "# x축\n",
    "cut_off_value_list = np.linspace(0, 1, 101) # 0부터 1까지 총 101개의 값을 list로 입력\n",
    "\n",
    "# y축 (재현율 & 정확도)\n",
    "recall_list = []\n",
    "accuracy_list = []\n",
    "\n",
    "# 생성한 cost_sensitive_model 모델로 x축값에 따른 y축의 값 출력\n",
    "for c in cut_off_value_list:\n",
    "    recall, accuracy = cost_sensitive_model(model, c, Test_X, Test_Y)\n",
    "    recall_list.append(recall)\n",
    "    accuracy_list.append(accuracy)\n",
    "\n",
    "# 결과 시각화\n",
    "%matplotlib inline    \n",
    "plt.plot(cut_off_value_list, recall_list, label = 'recall')   \n",
    "plt.plot(cut_off_value_list, accuracy_list, label = 'accuracy')    \n",
    "\n",
    "# 교차점 찾기\n",
    "line_1 = LineString(np.column_stack((cut_off_value_list, recall_list)))\n",
    "line_2 = LineString(np.column_stack((cut_off_value_list, accuracy_list)))\n",
    "intersection = line_1.intersection(line_2)\n",
    "\n",
    "plt.plot(*intersection.xy,'ro')\n",
    "plt.legend()"
   ]
  },
  {
   "cell_type": "markdown",
   "metadata": {},
   "source": [
    "- 결과값을 보고 재현율과 정확도를 보면서 분석가가 원하는 수준의 값을 지정해야 한다. (주관적 판단)\n",
    "- 가장 무난한 수치는 두 그래프가 교차하는 지점을 선택하는 것이다."
   ]
  }
 ],
 "metadata": {
  "kernelspec": {
   "display_name": "Python [conda env:my_env]",
   "language": "python",
   "name": "conda-env-my_env-py"
  },
  "language_info": {
   "codemirror_mode": {
    "name": "ipython",
    "version": 3
   },
   "file_extension": ".py",
   "mimetype": "text/x-python",
   "name": "python",
   "nbconvert_exporter": "python",
   "pygments_lexer": "ipython3",
   "version": "3.8.10"
  },
  "toc": {
   "base_numbering": 1,
   "nav_menu": {},
   "number_sections": true,
   "sideBar": true,
   "skip_h1_title": false,
   "title_cell": "Table of Contents",
   "title_sidebar": "Contents",
   "toc_cell": false,
   "toc_position": {},
   "toc_section_display": true,
   "toc_window_display": true
  },
  "varInspector": {
   "cols": {
    "lenName": 16,
    "lenType": 16,
    "lenVar": 40
   },
   "kernels_config": {
    "python": {
     "delete_cmd_postfix": "",
     "delete_cmd_prefix": "del ",
     "library": "var_list.py",
     "varRefreshCmd": "print(var_dic_list())"
    },
    "r": {
     "delete_cmd_postfix": ") ",
     "delete_cmd_prefix": "rm(",
     "library": "var_list.r",
     "varRefreshCmd": "cat(var_dic_list()) "
    }
   },
   "types_to_exclude": [
    "module",
    "function",
    "builtin_function_or_method",
    "instance",
    "_Feature"
   ],
   "window_display": false
  }
 },
 "nbformat": 4,
 "nbformat_minor": 2
}
