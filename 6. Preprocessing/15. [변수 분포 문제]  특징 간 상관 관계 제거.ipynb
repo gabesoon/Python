{
 "cells": [
  {
   "attachments": {},
   "cell_type": "markdown",
   "metadata": {},
   "source": [
    "# 특징간 높은 상관성 문제\n",
    "---\n",
    "- 회귀모델, 신경망, SVM과 같이 wx + b 형태의 `선형식이 모델에 포함`되는 경우, 특징간 상관성이 높으면 파라미터를 수정할때마다 결과가 달라질 수 있다.\n",
    "---\n",
    "![image](https://user-images.githubusercontent.com/74717033/134630963-68eb72e8-d137-492e-ae23-dd2a5104cc40.png)\n",
    "\n",
    "---\n",
    "- w1 + w2 를 예측할 수 있는 경우의 수가 무수히 많기 때문에 특징간 상관성이 높은 경우 예측 결과가 매번 달라질 수 있다.\n",
    "- 추가로 회귀모델의 경우 잔차제곱을 최소화하기 위해 미분이 들어가는데, 미분시 결과식에 역행렬이 들어간다.\n",
    "- 이때 특징간 상관성이 높으면 `역행렬` 자체가 구해지지 않을 수 있어 예측 결과치를 구하지 못할 수 있다.\n",
    "---"
   ]
  },
  {
   "cell_type": "markdown",
   "metadata": {},
   "source": [
    "# Tree 계열 모델과 높은 상관성문제\n",
    "---\n",
    "- Tree 계열 모델들은 특징간 상관관계가 높다고 모델 예측 성능에 영향을 받지는 않는다.\n",
    "- 하지만, 위의 경우 처럼 `x2 = x1` 과 같은 관계가 특징간에 존재하면, 설명력에 영향을 미치게 된다.\n",
    "- x1을 특징으로 분류하든, x2를 특징으로 분류하든 결과는 같기 때문에 임의로 값을 선택하게 되기 때문이다.\n",
    "- 만약 x1을 선택하면, x2는 선택하지 않게 되어 해당 특징이 모델에 어떤 영향을 미치는지가 반영되지 않는다.\n",
    "---\n",
    "\n",
    "- 추가적으로 x2 = x1 과 같은 특징간 선형 관계가 있을 경우, 둘중 하나의 변수만 써도 되는데도 2개의 변수를 모두 사용하면 필요 이상의 계산량이 발생하는 문제점도 있다."
   ]
  },
  {
   "attachments": {},
   "cell_type": "markdown",
   "metadata": {},
   "source": [
    "# 특징간 높은 상관성 문제 해결 방법 (1) - VIF 활용\n",
    "---\n",
    "- VIF(Variance inflation factors, 분산 팽창 계수) : 한 특징을 라벨로 간주하고, 해당 라벨을 예측하는데 다른 특징들이 얼마나 영향을 미치는지를 나타내는 지표\n",
    "- VIF 지수는 사용된 회귀모델의 R_squared 가 높은 경우 해당 특징이 다른 특징과 상관성이 있다고 판단한다.\n",
    "- R_squared는 0 ~ 1 사이의 값을 가지며, 1에 가까울 수록 좋은 모델이라고 한다.\n",
    "- 일반적으로 VIF > 10 이면 삭제한다. \n",
    "- 혹은 VIF가 높은 순서대로 특징을 순차적으로 제거하면서 모델 성능을 비교해 보기도 한다.\n",
    "---\n",
    "\n",
    "![image](https://user-images.githubusercontent.com/74717033/134630993-3796ed4f-2aff-4064-9097-21d3396df89e.png)\n",
    "\n",
    "---"
   ]
  },
  {
   "cell_type": "code",
   "execution_count": 1,
   "metadata": {
    "ExecuteTime": {
     "end_time": "2021-09-24T06:52:14.665384Z",
     "start_time": "2021-09-24T06:52:14.027695Z"
    }
   },
   "outputs": [],
   "source": [
    "import os\n",
    "import pandas as pd\n",
    "\n",
    "# 불필요한 경고 표시 생략\n",
    "import warnings\n",
    "warnings.filterwarnings(action = 'ignore')\n",
    "\n",
    "a=%pwd # 현재 경로 a에 할당\n",
    "os.chdir(a) # 파일 로드 경로 설정"
   ]
  },
  {
   "cell_type": "markdown",
   "metadata": {},
   "source": [
    "실습 데이터 불러오기"
   ]
  },
  {
   "cell_type": "code",
   "execution_count": 2,
   "metadata": {
    "ExecuteTime": {
     "end_time": "2021-09-24T06:52:14.766265Z",
     "start_time": "2021-09-24T06:52:14.670371Z"
    }
   },
   "outputs": [
    {
     "data": {
      "text/html": [
       "<div>\n",
       "<style scoped>\n",
       "    .dataframe tbody tr th:only-of-type {\n",
       "        vertical-align: middle;\n",
       "    }\n",
       "\n",
       "    .dataframe tbody tr th {\n",
       "        vertical-align: top;\n",
       "    }\n",
       "\n",
       "    .dataframe thead th {\n",
       "        text-align: right;\n",
       "    }\n",
       "</style>\n",
       "<table border=\"1\" class=\"dataframe\">\n",
       "  <thead>\n",
       "    <tr style=\"text-align: right;\">\n",
       "      <th></th>\n",
       "      <th>Length</th>\n",
       "      <th>Diameter</th>\n",
       "      <th>Height</th>\n",
       "      <th>Wholeweight</th>\n",
       "      <th>Shuckedweight</th>\n",
       "      <th>Visceraweight</th>\n",
       "      <th>Shellweight</th>\n",
       "      <th>Age</th>\n",
       "    </tr>\n",
       "  </thead>\n",
       "  <tbody>\n",
       "    <tr>\n",
       "      <th>0</th>\n",
       "      <td>0.455</td>\n",
       "      <td>0.365</td>\n",
       "      <td>0.095</td>\n",
       "      <td>0.5140</td>\n",
       "      <td>0.2245</td>\n",
       "      <td>0.1010</td>\n",
       "      <td>0.150</td>\n",
       "      <td>15</td>\n",
       "    </tr>\n",
       "    <tr>\n",
       "      <th>1</th>\n",
       "      <td>0.350</td>\n",
       "      <td>0.265</td>\n",
       "      <td>0.090</td>\n",
       "      <td>0.2255</td>\n",
       "      <td>0.0995</td>\n",
       "      <td>0.0485</td>\n",
       "      <td>0.070</td>\n",
       "      <td>7</td>\n",
       "    </tr>\n",
       "    <tr>\n",
       "      <th>2</th>\n",
       "      <td>0.530</td>\n",
       "      <td>0.420</td>\n",
       "      <td>0.135</td>\n",
       "      <td>0.6770</td>\n",
       "      <td>0.2565</td>\n",
       "      <td>0.1415</td>\n",
       "      <td>0.210</td>\n",
       "      <td>9</td>\n",
       "    </tr>\n",
       "    <tr>\n",
       "      <th>3</th>\n",
       "      <td>0.440</td>\n",
       "      <td>0.365</td>\n",
       "      <td>0.125</td>\n",
       "      <td>0.5160</td>\n",
       "      <td>0.2155</td>\n",
       "      <td>0.1140</td>\n",
       "      <td>0.155</td>\n",
       "      <td>10</td>\n",
       "    </tr>\n",
       "    <tr>\n",
       "      <th>4</th>\n",
       "      <td>0.330</td>\n",
       "      <td>0.255</td>\n",
       "      <td>0.080</td>\n",
       "      <td>0.2050</td>\n",
       "      <td>0.0895</td>\n",
       "      <td>0.0395</td>\n",
       "      <td>0.055</td>\n",
       "      <td>7</td>\n",
       "    </tr>\n",
       "  </tbody>\n",
       "</table>\n",
       "</div>"
      ],
      "text/plain": [
       "   Length  Diameter  Height  Wholeweight  Shuckedweight  Visceraweight  \\\n",
       "0   0.455     0.365   0.095       0.5140         0.2245         0.1010   \n",
       "1   0.350     0.265   0.090       0.2255         0.0995         0.0485   \n",
       "2   0.530     0.420   0.135       0.6770         0.2565         0.1415   \n",
       "3   0.440     0.365   0.125       0.5160         0.2155         0.1140   \n",
       "4   0.330     0.255   0.080       0.2050         0.0895         0.0395   \n",
       "\n",
       "   Shellweight  Age  \n",
       "0        0.150   15  \n",
       "1        0.070    7  \n",
       "2        0.210    9  \n",
       "3        0.155   10  \n",
       "4        0.055    7  "
      ]
     },
     "execution_count": 2,
     "metadata": {},
     "output_type": "execute_result"
    }
   ],
   "source": [
    "df = pd.read_csv(\"abalone.csv\")\n",
    "df.head()"
   ]
  },
  {
   "cell_type": "code",
   "execution_count": 3,
   "metadata": {
    "ExecuteTime": {
     "end_time": "2021-09-24T06:52:14.791047Z",
     "start_time": "2021-09-24T06:52:14.776088Z"
    }
   },
   "outputs": [],
   "source": [
    "# 특징과 라벨 분리\n",
    "X = df.drop(['Age'], axis = 1)\n",
    "Y = df['Age']"
   ]
  },
  {
   "cell_type": "code",
   "execution_count": 4,
   "metadata": {
    "ExecuteTime": {
     "end_time": "2021-09-24T06:52:15.576822Z",
     "start_time": "2021-09-24T06:52:14.797031Z"
    }
   },
   "outputs": [],
   "source": [
    "# 학습 데이터와 평가 데이터 분리\n",
    "from sklearn.model_selection import train_test_split\n",
    "Train_X, Test_X, Train_Y, Test_Y = train_test_split(X, Y)"
   ]
  },
  {
   "cell_type": "code",
   "execution_count": 5,
   "metadata": {
    "ExecuteTime": {
     "end_time": "2021-09-24T06:52:15.607709Z",
     "start_time": "2021-09-24T06:52:15.579814Z"
    }
   },
   "outputs": [
    {
     "data": {
      "text/html": [
       "<div>\n",
       "<style scoped>\n",
       "    .dataframe tbody tr th:only-of-type {\n",
       "        vertical-align: middle;\n",
       "    }\n",
       "\n",
       "    .dataframe tbody tr th {\n",
       "        vertical-align: top;\n",
       "    }\n",
       "\n",
       "    .dataframe thead th {\n",
       "        text-align: right;\n",
       "    }\n",
       "</style>\n",
       "<table border=\"1\" class=\"dataframe\">\n",
       "  <thead>\n",
       "    <tr style=\"text-align: right;\">\n",
       "      <th></th>\n",
       "      <th>Length</th>\n",
       "      <th>Diameter</th>\n",
       "      <th>Height</th>\n",
       "      <th>Wholeweight</th>\n",
       "      <th>Shuckedweight</th>\n",
       "      <th>Visceraweight</th>\n",
       "      <th>Shellweight</th>\n",
       "    </tr>\n",
       "  </thead>\n",
       "  <tbody>\n",
       "    <tr>\n",
       "      <th>Length</th>\n",
       "      <td>1.000000</td>\n",
       "      <td>0.986445</td>\n",
       "      <td>0.901805</td>\n",
       "      <td>0.927226</td>\n",
       "      <td>0.899511</td>\n",
       "      <td>0.906623</td>\n",
       "      <td>0.896514</td>\n",
       "    </tr>\n",
       "    <tr>\n",
       "      <th>Diameter</th>\n",
       "      <td>0.986445</td>\n",
       "      <td>1.000000</td>\n",
       "      <td>0.908613</td>\n",
       "      <td>0.928257</td>\n",
       "      <td>0.895959</td>\n",
       "      <td>0.903752</td>\n",
       "      <td>0.904801</td>\n",
       "    </tr>\n",
       "    <tr>\n",
       "      <th>Height</th>\n",
       "      <td>0.901805</td>\n",
       "      <td>0.908613</td>\n",
       "      <td>1.000000</td>\n",
       "      <td>0.889650</td>\n",
       "      <td>0.837993</td>\n",
       "      <td>0.868286</td>\n",
       "      <td>0.889593</td>\n",
       "    </tr>\n",
       "    <tr>\n",
       "      <th>Wholeweight</th>\n",
       "      <td>0.927226</td>\n",
       "      <td>0.928257</td>\n",
       "      <td>0.889650</td>\n",
       "      <td>1.000000</td>\n",
       "      <td>0.968144</td>\n",
       "      <td>0.965974</td>\n",
       "      <td>0.954490</td>\n",
       "    </tr>\n",
       "    <tr>\n",
       "      <th>Shuckedweight</th>\n",
       "      <td>0.899511</td>\n",
       "      <td>0.895959</td>\n",
       "      <td>0.837993</td>\n",
       "      <td>0.968144</td>\n",
       "      <td>1.000000</td>\n",
       "      <td>0.931006</td>\n",
       "      <td>0.879754</td>\n",
       "    </tr>\n",
       "    <tr>\n",
       "      <th>Visceraweight</th>\n",
       "      <td>0.906623</td>\n",
       "      <td>0.903752</td>\n",
       "      <td>0.868286</td>\n",
       "      <td>0.965974</td>\n",
       "      <td>0.931006</td>\n",
       "      <td>1.000000</td>\n",
       "      <td>0.906227</td>\n",
       "    </tr>\n",
       "    <tr>\n",
       "      <th>Shellweight</th>\n",
       "      <td>0.896514</td>\n",
       "      <td>0.904801</td>\n",
       "      <td>0.889593</td>\n",
       "      <td>0.954490</td>\n",
       "      <td>0.879754</td>\n",
       "      <td>0.906227</td>\n",
       "      <td>1.000000</td>\n",
       "    </tr>\n",
       "  </tbody>\n",
       "</table>\n",
       "</div>"
      ],
      "text/plain": [
       "                 Length  Diameter    Height  Wholeweight  Shuckedweight  \\\n",
       "Length         1.000000  0.986445  0.901805     0.927226       0.899511   \n",
       "Diameter       0.986445  1.000000  0.908613     0.928257       0.895959   \n",
       "Height         0.901805  0.908613  1.000000     0.889650       0.837993   \n",
       "Wholeweight    0.927226  0.928257  0.889650     1.000000       0.968144   \n",
       "Shuckedweight  0.899511  0.895959  0.837993     0.968144       1.000000   \n",
       "Visceraweight  0.906623  0.903752  0.868286     0.965974       0.931006   \n",
       "Shellweight    0.896514  0.904801  0.889593     0.954490       0.879754   \n",
       "\n",
       "               Visceraweight  Shellweight  \n",
       "Length              0.906623     0.896514  \n",
       "Diameter            0.903752     0.904801  \n",
       "Height              0.868286     0.889593  \n",
       "Wholeweight         0.965974     0.954490  \n",
       "Shuckedweight       0.931006     0.879754  \n",
       "Visceraweight       1.000000     0.906227  \n",
       "Shellweight         0.906227     1.000000  "
      ]
     },
     "execution_count": 5,
     "metadata": {},
     "output_type": "execute_result"
    }
   ],
   "source": [
    "Train_X.corr() # 특징 간 상관 행렬 출력"
   ]
  },
  {
   "cell_type": "markdown",
   "metadata": {},
   "source": [
    "- 대부분의 값이 0.8 이상으로 1에 매우 가깝다. \n",
    "- 즉, 특징간 상관성이 매우 크다는 것을 알 수 있다."
   ]
  },
  {
   "cell_type": "markdown",
   "metadata": {},
   "source": [
    "## VIF 기준 특징 선택"
   ]
  },
  {
   "cell_type": "code",
   "execution_count": 6,
   "metadata": {
    "ExecuteTime": {
     "end_time": "2021-09-24T06:52:15.731169Z",
     "start_time": "2021-09-24T06:52:15.610702Z"
    }
   },
   "outputs": [],
   "source": [
    "# VIF 계산(LR 모델로 특징 학습 -> 예측)\n",
    "from sklearn.linear_model import LinearRegression as LR\n",
    "\n",
    "# 결과 저장용 dict\n",
    "VIF_dict = dict()\n",
    "\n",
    "for col in Train_X.columns:\n",
    "    # 특정 컬럼(Train_X[col])을 label로 놓고, label 컬럼을 제외한 나머지값을 feature로 지정해서 LR모델에 fitting\n",
    "    model = LR().fit(Train_X.drop([col], axis = 1), Train_X[col])\n",
    "    \n",
    "    # model의 score 계산\n",
    "    r2 = model.score(Train_X.drop([col], axis = 1), Train_X[col]) # LinearRegression의 score가 r2 점수임\n",
    "    \n",
    "    # VIF 계산\n",
    "    VIF = 1 / (1 - r2)\n",
    "    \n",
    "    # column을 key, VIF값을 value로 하는 dict생성\n",
    "    VIF_dict[col] = VIF"
   ]
  },
  {
   "cell_type": "code",
   "execution_count": 7,
   "metadata": {
    "ExecuteTime": {
     "end_time": "2021-09-24T06:52:15.746129Z",
     "start_time": "2021-09-24T06:52:15.734162Z"
    }
   },
   "outputs": [
    {
     "data": {
      "text/plain": [
       "{'Length': 39.64933449073604,\n",
       " 'Diameter': 41.64886125040179,\n",
       " 'Height': 6.8301476805016605,\n",
       " 'Wholeweight': 103.29709427370254,\n",
       " 'Shuckedweight': 26.71901959705362,\n",
       " 'Visceraweight': 17.13034784962229,\n",
       " 'Shellweight': 20.74653946919392}"
      ]
     },
     "execution_count": 7,
     "metadata": {},
     "output_type": "execute_result"
    }
   ],
   "source": [
    "VIF_dict"
   ]
  },
  {
   "cell_type": "markdown",
   "metadata": {},
   "source": [
    "- Height를 제외하곤 VIF가 모두 10이상으로 높다.\n",
    "- 원칙적으로는 Height를 제외하고 나머지는 다 drop해야 한다.\n",
    "- 하지만 그렇게 되면, 모델에 활용할 데이터가 전부 사라진다.\n",
    "- **따라서, 이러한 상황에서는 사실 PCA를 사용하는 것이 바람직하다.**"
   ]
  },
  {
   "cell_type": "code",
   "execution_count": 8,
   "metadata": {
    "ExecuteTime": {
     "end_time": "2021-09-24T06:52:15.761093Z",
     "start_time": "2021-09-24T06:52:15.748124Z"
    }
   },
   "outputs": [],
   "source": [
    "from sklearn.neural_network import MLPRegressor as MLP\n",
    "from sklearn.metrics import mean_absolute_error as MAE"
   ]
  },
  {
   "cell_type": "markdown",
   "metadata": {},
   "source": [
    "### VIF  삭제 없이 모든 특징 사용할 때"
   ]
  },
  {
   "cell_type": "code",
   "execution_count": 9,
   "metadata": {
    "ExecuteTime": {
     "end_time": "2021-09-24T06:52:20.560591Z",
     "start_time": "2021-09-24T06:52:15.763085Z"
    }
   },
   "outputs": [
    {
     "name": "stdout",
     "output_type": "stream",
     "text": [
      "1.6069972865643127\n"
     ]
    }
   ],
   "source": [
    "model = MLP(random_state = 2313, max_iter = 500) \n",
    "model.fit(Train_X, Train_Y)\n",
    "pred_Y = model.predict(Test_X)\n",
    "score = MAE(Test_Y, pred_Y)\n",
    "print(score)"
   ]
  },
  {
   "cell_type": "markdown",
   "metadata": {},
   "source": [
    "### VIF < 30 인 특징만 사용할 때"
   ]
  },
  {
   "cell_type": "code",
   "execution_count": 10,
   "metadata": {
    "ExecuteTime": {
     "end_time": "2021-09-24T06:52:32.112877Z",
     "start_time": "2021-09-24T06:52:20.564580Z"
    },
    "scrolled": true
   },
   "outputs": [
    {
     "name": "stdout",
     "output_type": "stream",
     "text": [
      "1.563837331475661\n"
     ]
    }
   ],
   "source": [
    "selected_features = [key for key, val in VIF_dict.items() if val < 30] \n",
    "model = MLP(random_state = 2313, max_iter = 500)\n",
    "model.fit(Train_X[selected_features], Train_Y)\n",
    "pred_Y = model.predict(Test_X[selected_features])\n",
    "score = MAE(Test_Y, pred_Y)\n",
    "print(score)"
   ]
  },
  {
   "cell_type": "markdown",
   "metadata": {},
   "source": [
    "4개의 특징만을 사용했지만, 전체 데이터를 사용한 것보다 성능이 더 높아진 것을 확인할 수 있다.\n",
    "\n",
    "---"
   ]
  },
  {
   "attachments": {},
   "cell_type": "markdown",
   "metadata": {},
   "source": [
    "# 특징간 높은 상관성 문제 해결 방법 (2) - PCA 활용\n",
    "---\n",
    "- 주성분 분석을 의미\n",
    "- PCA를 통해 특징이 서로 직교 하도록 만들어 특징간 상관성을 줄이는 방법\n",
    "---\n",
    "![image](https://user-images.githubusercontent.com/74717033/134631015-e7cd1b79-743f-40fe-a79d-2aed0dea7f57.png)\n",
    "\n",
    "---\n",
    "- n차원의 데이터는 총 n개의 주성분이 존재한다.\n",
    "- 이때, 차원 축소를 위해 분산의 대부분을 설명하는 주성분만을 추려서 사용한다. \n",
    "---\n",
    "위의 그림을 기준으로 보자면\n",
    "\n",
    "- 기존의 차원이 x1, x2라는 2개의 차원으로 이루어져 있다.\n",
    "- 원본 데이터를 원본 특징이 아닌 새로운 차원에 데이터를 `투영` 시킨다.\n",
    "- 위 그림 처럼 z1 방향으로 움직이는 데이터와, z2 방향으로 움직이는 데이터를 z1, z2라는 새로운 차원상의 그래프로 투영하여 다시 표현한다.\n",
    "- z1이 z2보다는 데이터의 분산을 더 잘 표현한다.\n",
    "---"
   ]
  },
  {
   "cell_type": "markdown",
   "metadata": {},
   "source": [
    "## 관련 문법 : sklearn.decomposition.PCA\n",
    "---\n",
    "\n",
    "- 주성분 분석을 수행하는 모델을 생성하는 함수\n",
    "\n",
    "**파라미터**\n",
    "\n",
    "---\n",
    "- n_components : 사용할 주성분 개수 (무조건 기존 차원 수보다는 작아야 한다.)\n",
    "\n",
    "**주요 attribute**\n",
    "- .explained_variance_ratio_ : 각 주성분이 원본 데이터의 분산을 설명하는 정도"
   ]
  },
  {
   "cell_type": "code",
   "execution_count": 11,
   "metadata": {
    "ExecuteTime": {
     "end_time": "2021-09-24T06:52:32.157757Z",
     "start_time": "2021-09-24T06:52:32.114872Z"
    }
   },
   "outputs": [
    {
     "name": "stdout",
     "output_type": "stream",
     "text": [
      "(3132, 3)\n"
     ]
    }
   ],
   "source": [
    "from sklearn.decomposition import PCA\n",
    "\n",
    "#모델 생성 (3개의 주성분으로 데이터 변경) & fitting\n",
    "PCA_model = PCA(n_components = 3).fit(Train_X)\n",
    "\n",
    "# train / test에 transform\n",
    "Train_Z = PCA_model.transform(Train_X)\n",
    "Test_Z = PCA_model.transform(Test_X)\n",
    "\n",
    "print(Train_Z.shape)"
   ]
  },
  {
   "cell_type": "markdown",
   "metadata": {},
   "source": [
    "차원값이 3으로 줄어든 것을 확인할 수 있다."
   ]
  },
  {
   "cell_type": "markdown",
   "metadata": {},
   "source": [
    "## PCA 적용한 모델 성능 평가"
   ]
  },
  {
   "cell_type": "code",
   "execution_count": 12,
   "metadata": {
    "ExecuteTime": {
     "end_time": "2021-09-24T06:52:39.939652Z",
     "start_time": "2021-09-24T06:52:32.159752Z"
    }
   },
   "outputs": [
    {
     "name": "stdout",
     "output_type": "stream",
     "text": [
      "1.492723161342703\n"
     ]
    }
   ],
   "source": [
    "model = MLP(random_state = 2313, max_iter = 500)\n",
    "model.fit(Train_Z, Train_Y)\n",
    "pred_Y = model.predict(Test_Z)\n",
    "score = MAE(Test_Y, pred_Y)\n",
    "print(score)"
   ]
  },
  {
   "cell_type": "markdown",
   "metadata": {},
   "source": [
    "위의 VIF 방식에서 특징 제거없이 진행한 모델의 성능 (약 1.67) 보다 더 나아진 결과를 확인할 수 있다."
   ]
  }
 ],
 "metadata": {
  "kernelspec": {
   "display_name": "Python 3 (ipykernel)",
   "language": "python",
   "name": "python3"
  },
  "language_info": {
   "codemirror_mode": {
    "name": "ipython",
    "version": 3
   },
   "file_extension": ".py",
   "mimetype": "text/x-python",
   "name": "python",
   "nbconvert_exporter": "python",
   "pygments_lexer": "ipython3",
   "version": "3.8.5"
  },
  "toc": {
   "base_numbering": 1,
   "nav_menu": {},
   "number_sections": true,
   "sideBar": true,
   "skip_h1_title": false,
   "title_cell": "Table of Contents",
   "title_sidebar": "Contents",
   "toc_cell": false,
   "toc_position": {},
   "toc_section_display": true,
   "toc_window_display": true
  },
  "varInspector": {
   "cols": {
    "lenName": 16,
    "lenType": 16,
    "lenVar": 40
   },
   "kernels_config": {
    "python": {
     "delete_cmd_postfix": "",
     "delete_cmd_prefix": "del ",
     "library": "var_list.py",
     "varRefreshCmd": "print(var_dic_list())"
    },
    "r": {
     "delete_cmd_postfix": ") ",
     "delete_cmd_prefix": "rm(",
     "library": "var_list.r",
     "varRefreshCmd": "cat(var_dic_list()) "
    }
   },
   "types_to_exclude": [
    "module",
    "function",
    "builtin_function_or_method",
    "instance",
    "_Feature"
   ],
   "window_display": false
  }
 },
 "nbformat": 4,
 "nbformat_minor": 2
}
