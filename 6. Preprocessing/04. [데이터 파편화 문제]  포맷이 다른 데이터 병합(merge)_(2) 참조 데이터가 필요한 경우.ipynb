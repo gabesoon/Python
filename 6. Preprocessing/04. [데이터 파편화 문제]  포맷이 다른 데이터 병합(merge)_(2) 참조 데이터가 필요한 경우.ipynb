{
 "cells": [
  {
   "cell_type": "code",
   "execution_count": 1,
   "metadata": {
    "ExecuteTime": {
     "end_time": "2021-09-24T06:42:40.002689Z",
     "start_time": "2021-09-24T06:42:39.356317Z"
    }
   },
   "outputs": [],
   "source": [
    "import os\n",
    "import pandas as pd\n",
    "\n",
    "# 불필요한 경고 표시 생략\n",
    "import warnings\n",
    "warnings.filterwarnings(action = 'ignore')\n",
    "\n",
    "a=%pwd # 현재 경로 a에 할당\n",
    "os.chdir(a) # 파일 로드 경로 설정"
   ]
  },
  {
   "attachments": {},
   "cell_type": "markdown",
   "metadata": {},
   "source": [
    "# 참조 데이터가 필요한 경우\n",
    "---\n",
    "- 도로명 주소, 지번주소, 회원명, 회원 번호 등의 데이터는 보통 `일정한 패턴` 이 없고, 포맷도 다른 경우가 많다.\n",
    "- 이런 경우 `참조 데이터` 를 활용해서 변경한 뒤 merge를 하여 데이터 병합을 할 수 있다.\n",
    "---\n",
    "![image](https://user-images.githubusercontent.com/74717033/134629845-98277258-57e4-4ddd-8973-a66cbd492d34.png)\n",
    "\n",
    "---\n",
    "e.g) 병합하고자 하는 데이터의 key값이 다른 경우\n",
    "- a, b, c라고 되어있는 key값을 참조데이터를 활용해 각각 1, 2, 3으로 변경한 뒤에 merge를 진행한다."
   ]
  },
  {
   "attachments": {},
   "cell_type": "markdown",
   "metadata": {},
   "source": [
    "# 관련 문법 1 : Series.to_dict()\n",
    "---\n",
    "\n",
    "- Series의 index를 Key로, Data를 Value로 하는 dict형태로 변환해주는 함수\n",
    "- replace 등 사전을 입력받는 함수를 사용할때 주로 사용하는 함수이다.\n",
    "- index랑 Data가 매칭되는 점을 유의 해야 함\n",
    "    - 일반적으로 참조 데이터를 불러올때, data의 type가 Series가 아니라 DataFrame인 경우가 있다.\n",
    "    - 이 경우 DataFrame에서 index와 Data를 설정해준 뒤에 dict로 바꿔줘야 한다.\n",
    "---\n",
    "![image](https://user-images.githubusercontent.com/74717033/134629871-2397d299-fc9e-4f76-ac70-4d14dae9978a.png)"
   ]
  },
  {
   "attachments": {},
   "cell_type": "markdown",
   "metadata": {},
   "source": [
    "# 관련 문법 2 : Series.replace()\n",
    "---\n",
    "- dict를 입력받아, Series 내에 있는 요소 가운데 key와 같은 값을 value로 변환해주는 함수\n",
    "- 'S' 라는 데이터의 value들을 변환해야 하는데, 아래 그림과 같은 dict를 replace()에 입력해주면, 이를 참조해서 값이 변경된다.\n",
    "\n",
    "![image](https://user-images.githubusercontent.com/74717033/134629883-9638b21f-9745-41f2-8e6b-669a33da71df.png)\n",
    "\n",
    "---\n",
    "- If, 'S' 데이터에 'e'라는 값이 있다면 (dict에는 'e'에 대한 참조 데이터가 없다), 이때의 결과값은 a~d는 dict가 반영된 위의 그림과 같이 결과가 나오고, e는 기존 S에 있던 값이 그대로 나오게 된다."
   ]
  },
  {
   "cell_type": "markdown",
   "metadata": {},
   "source": [
    "# 참조데이터를 통한 merge 실습\n",
    "\n",
    "**2011년 '군' 이었 것들이 '시'로 변경되어 데이터에 이를 적용하고자 할때**"
   ]
  },
  {
   "attachments": {},
   "cell_type": "markdown",
   "metadata": {},
   "source": [
    "![image](https://user-images.githubusercontent.com/74717033/134629895-41ca771b-b264-4e4b-9367-63c186b238f8.png)\n",
    "\n",
    "---\n",
    "\n",
    "**Tip.** Data를 load할때, 원본 파일이 열려있으면 'Permission denied' 라고 경고가 뜰 수 있다."
   ]
  },
  {
   "cell_type": "code",
   "execution_count": 2,
   "metadata": {
    "ExecuteTime": {
     "end_time": "2021-09-24T06:42:40.334409Z",
     "start_time": "2021-09-24T06:42:40.004683Z"
    }
   },
   "outputs": [],
   "source": [
    "# 데이터 불러오기\n",
    "# read_csv로 불러온 파일은 항상 'DataFrame' 이다.\n",
    "\n",
    "ref_df = pd.read_csv(\"시승격정보.csv\", encoding = \"cp949\")  #참고할 데이터\n",
    "\n",
    "# sheet_name 파라미터를 활용해 특정 sheet의 값만 불러올 수도 있다.\n",
    "df1 = pd.read_excel(\"인구수데이터.xlsx\", sheet_name = \"202006\") #2020년 데이터\n",
    "df2 = pd.read_excel(\"인구수데이터.xlsx\", sheet_name = \"201108\") #2011년 데이터"
   ]
  },
  {
   "cell_type": "code",
   "execution_count": 3,
   "metadata": {
    "ExecuteTime": {
     "end_time": "2021-09-24T06:42:40.364235Z",
     "start_time": "2021-09-24T06:42:40.336287Z"
    }
   },
   "outputs": [
    {
     "data": {
      "text/html": [
       "<div>\n",
       "<style scoped>\n",
       "    .dataframe tbody tr th:only-of-type {\n",
       "        vertical-align: middle;\n",
       "    }\n",
       "\n",
       "    .dataframe tbody tr th {\n",
       "        vertical-align: top;\n",
       "    }\n",
       "\n",
       "    .dataframe thead th {\n",
       "        text-align: right;\n",
       "    }\n",
       "</style>\n",
       "<table border=\"1\" class=\"dataframe\">\n",
       "  <thead>\n",
       "    <tr style=\"text-align: right;\">\n",
       "      <th></th>\n",
       "      <th>승격전</th>\n",
       "      <th>승격후</th>\n",
       "      <th>승격날짜</th>\n",
       "    </tr>\n",
       "  </thead>\n",
       "  <tbody>\n",
       "    <tr>\n",
       "      <th>0</th>\n",
       "      <td>여주군</td>\n",
       "      <td>여주시</td>\n",
       "      <td>2013년 09월 23일</td>\n",
       "    </tr>\n",
       "    <tr>\n",
       "      <th>1</th>\n",
       "      <td>당진군</td>\n",
       "      <td>당진시</td>\n",
       "      <td>2012년 01월 01일</td>\n",
       "    </tr>\n",
       "  </tbody>\n",
       "</table>\n",
       "</div>"
      ],
      "text/plain": [
       "   승격전  승격후           승격날짜\n",
       "0  여주군  여주시  2013년 09월 23일\n",
       "1  당진군  당진시  2012년 01월 01일"
      ]
     },
     "execution_count": 3,
     "metadata": {},
     "output_type": "execute_result"
    }
   ],
   "source": [
    "ref_df"
   ]
  },
  {
   "cell_type": "code",
   "execution_count": 4,
   "metadata": {
    "ExecuteTime": {
     "end_time": "2021-09-24T06:42:40.379320Z",
     "start_time": "2021-09-24T06:42:40.365603Z"
    }
   },
   "outputs": [
    {
     "data": {
      "text/html": [
       "<div>\n",
       "<style scoped>\n",
       "    .dataframe tbody tr th:only-of-type {\n",
       "        vertical-align: middle;\n",
       "    }\n",
       "\n",
       "    .dataframe tbody tr th {\n",
       "        vertical-align: top;\n",
       "    }\n",
       "\n",
       "    .dataframe thead th {\n",
       "        text-align: right;\n",
       "    }\n",
       "</style>\n",
       "<table border=\"1\" class=\"dataframe\">\n",
       "  <thead>\n",
       "    <tr style=\"text-align: right;\">\n",
       "      <th></th>\n",
       "      <th>행정구역</th>\n",
       "      <th>총인구수</th>\n",
       "      <th>남자인구수</th>\n",
       "      <th>여자인구수</th>\n",
       "    </tr>\n",
       "  </thead>\n",
       "  <tbody>\n",
       "    <tr>\n",
       "      <th>0</th>\n",
       "      <td>여주시</td>\n",
       "      <td>111341</td>\n",
       "      <td>56582</td>\n",
       "      <td>54759</td>\n",
       "    </tr>\n",
       "    <tr>\n",
       "      <th>1</th>\n",
       "      <td>당진시</td>\n",
       "      <td>166084</td>\n",
       "      <td>88015</td>\n",
       "      <td>78069</td>\n",
       "    </tr>\n",
       "    <tr>\n",
       "      <th>2</th>\n",
       "      <td>아산시</td>\n",
       "      <td>313054</td>\n",
       "      <td>162398</td>\n",
       "      <td>150656</td>\n",
       "    </tr>\n",
       "  </tbody>\n",
       "</table>\n",
       "</div>"
      ],
      "text/plain": [
       "  행정구역    총인구수   남자인구수   여자인구수\n",
       "0  여주시  111341   56582   54759\n",
       "1  당진시  166084   88015   78069\n",
       "2  아산시  313054  162398  150656"
      ]
     },
     "execution_count": 4,
     "metadata": {},
     "output_type": "execute_result"
    }
   ],
   "source": [
    "df1"
   ]
  },
  {
   "cell_type": "code",
   "execution_count": 5,
   "metadata": {
    "ExecuteTime": {
     "end_time": "2021-09-24T06:42:40.394309Z",
     "start_time": "2021-09-24T06:42:40.382313Z"
    }
   },
   "outputs": [
    {
     "data": {
      "text/html": [
       "<div>\n",
       "<style scoped>\n",
       "    .dataframe tbody tr th:only-of-type {\n",
       "        vertical-align: middle;\n",
       "    }\n",
       "\n",
       "    .dataframe tbody tr th {\n",
       "        vertical-align: top;\n",
       "    }\n",
       "\n",
       "    .dataframe thead th {\n",
       "        text-align: right;\n",
       "    }\n",
       "</style>\n",
       "<table border=\"1\" class=\"dataframe\">\n",
       "  <thead>\n",
       "    <tr style=\"text-align: right;\">\n",
       "      <th></th>\n",
       "      <th>행정구역</th>\n",
       "      <th>총인구수</th>\n",
       "      <th>남자인구수</th>\n",
       "      <th>여자인구수</th>\n",
       "    </tr>\n",
       "  </thead>\n",
       "  <tbody>\n",
       "    <tr>\n",
       "      <th>0</th>\n",
       "      <td>여주군</td>\n",
       "      <td>109019</td>\n",
       "      <td>55122</td>\n",
       "      <td>53897</td>\n",
       "    </tr>\n",
       "    <tr>\n",
       "      <th>1</th>\n",
       "      <td>아산시</td>\n",
       "      <td>271356</td>\n",
       "      <td>138150</td>\n",
       "      <td>133206</td>\n",
       "    </tr>\n",
       "    <tr>\n",
       "      <th>2</th>\n",
       "      <td>당진군</td>\n",
       "      <td>148175</td>\n",
       "      <td>76555</td>\n",
       "      <td>71620</td>\n",
       "    </tr>\n",
       "  </tbody>\n",
       "</table>\n",
       "</div>"
      ],
      "text/plain": [
       "  행정구역    총인구수   남자인구수   여자인구수\n",
       "0  여주군  109019   55122   53897\n",
       "1  아산시  271356  138150  133206\n",
       "2  당진군  148175   76555   71620"
      ]
     },
     "execution_count": 5,
     "metadata": {},
     "output_type": "execute_result"
    }
   ],
   "source": [
    "df2"
   ]
  },
  {
   "cell_type": "markdown",
   "metadata": {},
   "source": [
    "## Series 형태로 type 변경\n",
    "---\n",
    "- reference 데이터가 데이터 프레임 형태이기 때문에 to_dict()하기 위해 Series형태로 변경시켜줘야 한다.\n",
    "- Series의 index가 key가 되고, data가 value가 되도록 해야 한다 -> set_index를 활용해 '승격전' 컬럼을 인덱스로 설정\n"
   ]
  },
  {
   "cell_type": "code",
   "execution_count": 6,
   "metadata": {
    "ExecuteTime": {
     "end_time": "2021-09-24T06:42:40.409429Z",
     "start_time": "2021-09-24T06:42:40.396355Z"
    }
   },
   "outputs": [
    {
     "data": {
      "text/plain": [
       "승격전\n",
       "여주군    여주시\n",
       "당진군    당진시\n",
       "Name: 승격후, dtype: object"
      ]
     },
     "execution_count": 6,
     "metadata": {},
     "output_type": "execute_result"
    }
   ],
   "source": [
    "# index가 승격전이고, 데이터가 승격후인 Series\n",
    "# set_index를 활용해 '승격전' 컬럼을 인덱스로 설정\n",
    "ref_df.set_index('승격전')['승격후']"
   ]
  },
  {
   "cell_type": "markdown",
   "metadata": {},
   "source": [
    "인덱스 자료를 기반으로 대응되는 '승전후'값을 dict형태로 바꿔준다."
   ]
  },
  {
   "cell_type": "code",
   "execution_count": 7,
   "metadata": {
    "ExecuteTime": {
     "end_time": "2021-09-24T06:42:40.424389Z",
     "start_time": "2021-09-24T06:42:40.411424Z"
    }
   },
   "outputs": [],
   "source": [
    "# 인덱스 설정 및 시리즈로 변환\n",
    "ref_dict = ref_df.set_index('승격전')['승격후'].to_dict()"
   ]
  },
  {
   "cell_type": "code",
   "execution_count": 8,
   "metadata": {
    "ExecuteTime": {
     "end_time": "2021-09-24T06:42:40.439796Z",
     "start_time": "2021-09-24T06:42:40.428495Z"
    }
   },
   "outputs": [
    {
     "data": {
      "text/plain": [
       "0    여주군\n",
       "1    아산시\n",
       "2    당진군\n",
       "Name: 행정구역, dtype: object"
      ]
     },
     "execution_count": 8,
     "metadata": {},
     "output_type": "execute_result"
    }
   ],
   "source": [
    "df2['행정구역'] #행정구역이 '군'으로 표기 되어 있다."
   ]
  },
  {
   "cell_type": "markdown",
   "metadata": {},
   "source": [
    "ref_dict을 이용하여 키 변수 값 변환"
   ]
  },
  {
   "cell_type": "code",
   "execution_count": 9,
   "metadata": {
    "ExecuteTime": {
     "end_time": "2021-09-24T06:42:40.455330Z",
     "start_time": "2021-09-24T06:42:40.441792Z"
    }
   },
   "outputs": [
    {
     "data": {
      "text/plain": [
       "0    여주시\n",
       "1    아산시\n",
       "2    당진시\n",
       "Name: 행정구역, dtype: object"
      ]
     },
     "execution_count": 9,
     "metadata": {},
     "output_type": "execute_result"
    }
   ],
   "source": [
    "# 2011년의 행정구역명(df2)을 ref_dict를 참조하여 2020의 행정구역명(df1)으로 replace하는 것.\n",
    "\n",
    "df2['행정구역'] = df2['행정구역'].replace(ref_dict)\n",
    "df2['행정구역']\n",
    "#행정구역이 '시'로 변경 된다."
   ]
  },
  {
   "cell_type": "markdown",
   "metadata": {},
   "source": [
    "## merge\n",
    "---\n",
    "- df1과 df2에 있는 `변수명이 모두 같으므로`, 두 연도간의 데이터를 구분하기 위해 변수명 변경을 해줄 필요가 있다."
   ]
  },
  {
   "cell_type": "code",
   "execution_count": 10,
   "metadata": {
    "ExecuteTime": {
     "end_time": "2021-09-24T06:42:40.470290Z",
     "start_time": "2021-09-24T06:42:40.458322Z"
    }
   },
   "outputs": [],
   "source": [
    "df1.set_index(\"행정구역\", inplace = True) # 행정 구역 변수명은 바꾸지 않기 위해, 인덱스로 설정\n",
    "df2.set_index(\"행정구역\", inplace = True) # 행정 구역 변수명은 바꾸지 않기 위해, 인덱스로 설정"
   ]
  },
  {
   "cell_type": "markdown",
   "metadata": {},
   "source": [
    "### add_prefix() 함수로 데이터 구분하기\n",
    "---\n",
    "\n",
    "- 모든 컬럼에 접두사를 붙여주는 add_prefix() 함수를 활용해 2020년 데이터와 2011데이터를 구분해준다.\n",
    "- add_prefix()를 쓰면 '모든 컬럼에 일괄적용' 되기때문에 merge()에 활용할 '행정구역'은 index화 시켜 영향을 받지 않게 하였다."
   ]
  },
  {
   "cell_type": "code",
   "execution_count": 11,
   "metadata": {
    "ExecuteTime": {
     "end_time": "2021-09-24T06:42:40.485179Z",
     "start_time": "2021-09-24T06:42:40.472309Z"
    }
   },
   "outputs": [],
   "source": [
    "# 위에서 데이터 load할때의 sheet명을 prefix명으로 활용\n",
    "df1 = df1.add_prefix(\"202006_\") \n",
    "df2 = df2.add_prefix(\"201108_\")"
   ]
  },
  {
   "cell_type": "code",
   "execution_count": 12,
   "metadata": {
    "ExecuteTime": {
     "end_time": "2021-09-24T06:42:40.500292Z",
     "start_time": "2021-09-24T06:42:40.487293Z"
    }
   },
   "outputs": [],
   "source": [
    "# 각각의 데이터 프레임의 인덱스를 kye인덱스로 사용하기 위해 left_index = True, right_index = True를 적용\n",
    "merged_df = pd.merge(df1, df2, left_index = True, right_index = True)"
   ]
  },
  {
   "cell_type": "code",
   "execution_count": 13,
   "metadata": {
    "ExecuteTime": {
     "end_time": "2021-09-24T06:42:40.515275Z",
     "start_time": "2021-09-24T06:42:40.502252Z"
    }
   },
   "outputs": [
    {
     "data": {
      "text/html": [
       "<div>\n",
       "<style scoped>\n",
       "    .dataframe tbody tr th:only-of-type {\n",
       "        vertical-align: middle;\n",
       "    }\n",
       "\n",
       "    .dataframe tbody tr th {\n",
       "        vertical-align: top;\n",
       "    }\n",
       "\n",
       "    .dataframe thead th {\n",
       "        text-align: right;\n",
       "    }\n",
       "</style>\n",
       "<table border=\"1\" class=\"dataframe\">\n",
       "  <thead>\n",
       "    <tr style=\"text-align: right;\">\n",
       "      <th></th>\n",
       "      <th>202006_총인구수</th>\n",
       "      <th>202006_남자인구수</th>\n",
       "      <th>202006_여자인구수</th>\n",
       "      <th>201108_총인구수</th>\n",
       "      <th>201108_남자인구수</th>\n",
       "      <th>201108_여자인구수</th>\n",
       "    </tr>\n",
       "    <tr>\n",
       "      <th>행정구역</th>\n",
       "      <th></th>\n",
       "      <th></th>\n",
       "      <th></th>\n",
       "      <th></th>\n",
       "      <th></th>\n",
       "      <th></th>\n",
       "    </tr>\n",
       "  </thead>\n",
       "  <tbody>\n",
       "    <tr>\n",
       "      <th>여주시</th>\n",
       "      <td>111341</td>\n",
       "      <td>56582</td>\n",
       "      <td>54759</td>\n",
       "      <td>109019</td>\n",
       "      <td>55122</td>\n",
       "      <td>53897</td>\n",
       "    </tr>\n",
       "    <tr>\n",
       "      <th>당진시</th>\n",
       "      <td>166084</td>\n",
       "      <td>88015</td>\n",
       "      <td>78069</td>\n",
       "      <td>148175</td>\n",
       "      <td>76555</td>\n",
       "      <td>71620</td>\n",
       "    </tr>\n",
       "    <tr>\n",
       "      <th>아산시</th>\n",
       "      <td>313054</td>\n",
       "      <td>162398</td>\n",
       "      <td>150656</td>\n",
       "      <td>271356</td>\n",
       "      <td>138150</td>\n",
       "      <td>133206</td>\n",
       "    </tr>\n",
       "  </tbody>\n",
       "</table>\n",
       "</div>"
      ],
      "text/plain": [
       "      202006_총인구수  202006_남자인구수  202006_여자인구수  201108_총인구수  201108_남자인구수  \\\n",
       "행정구역                                                                       \n",
       "여주시        111341         56582         54759       109019         55122   \n",
       "당진시        166084         88015         78069       148175         76555   \n",
       "아산시        313054        162398        150656       271356        138150   \n",
       "\n",
       "      201108_여자인구수  \n",
       "행정구역                \n",
       "여주시          53897  \n",
       "당진시          71620  \n",
       "아산시         133206  "
      ]
     },
     "execution_count": 13,
     "metadata": {},
     "output_type": "execute_result"
    }
   ],
   "source": [
    "merged_df.head()"
   ]
  }
 ],
 "metadata": {
  "kernelspec": {
   "display_name": "Python 3 (ipykernel)",
   "language": "python",
   "name": "python3"
  },
  "language_info": {
   "codemirror_mode": {
    "name": "ipython",
    "version": 3
   },
   "file_extension": ".py",
   "mimetype": "text/x-python",
   "name": "python",
   "nbconvert_exporter": "python",
   "pygments_lexer": "ipython3",
   "version": "3.8.5"
  },
  "toc": {
   "base_numbering": 1,
   "nav_menu": {},
   "number_sections": true,
   "sideBar": true,
   "skip_h1_title": false,
   "title_cell": "Table of Contents",
   "title_sidebar": "Contents",
   "toc_cell": false,
   "toc_position": {},
   "toc_section_display": true,
   "toc_window_display": true
  },
  "varInspector": {
   "cols": {
    "lenName": 16,
    "lenType": 16,
    "lenVar": 40
   },
   "kernels_config": {
    "python": {
     "delete_cmd_postfix": "",
     "delete_cmd_prefix": "del ",
     "library": "var_list.py",
     "varRefreshCmd": "print(var_dic_list())"
    },
    "r": {
     "delete_cmd_postfix": ") ",
     "delete_cmd_prefix": "rm(",
     "library": "var_list.r",
     "varRefreshCmd": "cat(var_dic_list()) "
    }
   },
   "types_to_exclude": [
    "module",
    "function",
    "builtin_function_or_method",
    "instance",
    "_Feature"
   ],
   "window_display": false
  }
 },
 "nbformat": 4,
 "nbformat_minor": 2
}
