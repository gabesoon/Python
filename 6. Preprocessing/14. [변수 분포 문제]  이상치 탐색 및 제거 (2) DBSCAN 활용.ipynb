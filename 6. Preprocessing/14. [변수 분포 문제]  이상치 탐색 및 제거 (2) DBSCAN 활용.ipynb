{
 "cells": [
  {
   "attachments": {},
   "cell_type": "markdown",
   "metadata": {},
   "source": [
    "# 밀도 기반 군집화 with DBSCAN\n",
    "---\n",
    "- DBSCAN 등의 밀도 기반 군집화 기법은 `군집에 속하지 않은 샘플`은 이상치로 간주한다.\n",
    "- DBSCAN에서는 eps(epsilon) 이라 부르는 '중심점' 이있고, 해당 중심점을 기준으로 설정된 반경안에 들어온 샘플을 경계점이라 한다.\n",
    "- 그리고 이 두가지에 어느곳에도 속하지 않는 샘플을 이상치로 판단한다.\n",
    "---\n",
    "![image](https://user-images.githubusercontent.com/74717033/134630923-bc48d1e2-8c6c-460b-b384-8a909d7b931e.png)\n",
    "\n",
    "---\n",
    "**장점**\n",
    "- 다른 특징과의 관계까지 반영해서 이상치를 판단할 수 있다.\n",
    "\n",
    "**단점**\n",
    "- DBSCAN 등의 밀도 기반 군집화 모델은 파라미터 튜닝이 쉽지 않다는 단점이 있다."
   ]
  },
  {
   "cell_type": "markdown",
   "metadata": {},
   "source": [
    "# 관련 문법 : sklearn.cluster.DBSCAN\n",
    "---\n",
    "- DBSCAN 군집화를 수행하는 인스턴스를 생성하는 함수\n",
    "\n",
    "**파라미터**\n",
    "\n",
    "---\n",
    "- eps : 이웃이라 판단하는 반경\n",
    "- min_samples : 중심점이라 판단하기 위해, eps 내에 들어와야 하는 최소 샘플의 수\n",
    "- metric : 사용할 거리 척도\n",
    "---\n",
    "**주요 attribute**\n",
    "- .labels_ : 각 샘플이 속한 군집 정보 (-1 은 이상치를 의미)"
   ]
  },
  {
   "cell_type": "code",
   "execution_count": 1,
   "metadata": {
    "ExecuteTime": {
     "end_time": "2021-09-24T06:51:25.034141Z",
     "start_time": "2021-09-24T06:51:24.212452Z"
    }
   },
   "outputs": [],
   "source": [
    "import os\n",
    "import pandas as pd\n",
    "import numpy as np\n",
    "\n",
    "# 불필요한 경고 표시 생략\n",
    "import warnings\n",
    "warnings.filterwarnings(action = 'ignore')\n",
    "\n",
    "a=%pwd # 현재 경로 a에 할당\n",
    "os.chdir(a) # 파일 로드 경로 설정"
   ]
  },
  {
   "cell_type": "markdown",
   "metadata": {},
   "source": [
    "실습용 예제 파일 로드"
   ]
  },
  {
   "cell_type": "code",
   "execution_count": 2,
   "metadata": {
    "ExecuteTime": {
     "end_time": "2021-09-24T06:51:25.065058Z",
     "start_time": "2021-09-24T06:51:25.037134Z"
    }
   },
   "outputs": [
    {
     "data": {
      "text/html": [
       "<div>\n",
       "<style scoped>\n",
       "    .dataframe tbody tr th:only-of-type {\n",
       "        vertical-align: middle;\n",
       "    }\n",
       "\n",
       "    .dataframe tbody tr th {\n",
       "        vertical-align: top;\n",
       "    }\n",
       "\n",
       "    .dataframe thead th {\n",
       "        text-align: right;\n",
       "    }\n",
       "</style>\n",
       "<table border=\"1\" class=\"dataframe\">\n",
       "  <thead>\n",
       "    <tr style=\"text-align: right;\">\n",
       "      <th></th>\n",
       "      <th>RI</th>\n",
       "      <th>Na</th>\n",
       "      <th>Mg</th>\n",
       "      <th>Al</th>\n",
       "      <th>Si</th>\n",
       "      <th>K</th>\n",
       "      <th>Ca</th>\n",
       "      <th>Fe</th>\n",
       "      <th>Glass_type</th>\n",
       "    </tr>\n",
       "  </thead>\n",
       "  <tbody>\n",
       "    <tr>\n",
       "      <th>0</th>\n",
       "      <td>1.51766</td>\n",
       "      <td>13.21</td>\n",
       "      <td>3.69</td>\n",
       "      <td>1.29</td>\n",
       "      <td>72.61</td>\n",
       "      <td>0.57</td>\n",
       "      <td>8.22</td>\n",
       "      <td>0.00</td>\n",
       "      <td>1</td>\n",
       "    </tr>\n",
       "    <tr>\n",
       "      <th>1</th>\n",
       "      <td>1.51742</td>\n",
       "      <td>13.27</td>\n",
       "      <td>3.62</td>\n",
       "      <td>1.24</td>\n",
       "      <td>73.08</td>\n",
       "      <td>0.55</td>\n",
       "      <td>8.07</td>\n",
       "      <td>0.00</td>\n",
       "      <td>1</td>\n",
       "    </tr>\n",
       "    <tr>\n",
       "      <th>2</th>\n",
       "      <td>1.51756</td>\n",
       "      <td>13.15</td>\n",
       "      <td>3.61</td>\n",
       "      <td>1.05</td>\n",
       "      <td>73.24</td>\n",
       "      <td>0.57</td>\n",
       "      <td>8.24</td>\n",
       "      <td>0.00</td>\n",
       "      <td>1</td>\n",
       "    </tr>\n",
       "    <tr>\n",
       "      <th>3</th>\n",
       "      <td>1.51918</td>\n",
       "      <td>14.04</td>\n",
       "      <td>3.58</td>\n",
       "      <td>1.37</td>\n",
       "      <td>72.08</td>\n",
       "      <td>0.56</td>\n",
       "      <td>8.30</td>\n",
       "      <td>0.00</td>\n",
       "      <td>1</td>\n",
       "    </tr>\n",
       "    <tr>\n",
       "      <th>4</th>\n",
       "      <td>1.51755</td>\n",
       "      <td>13.00</td>\n",
       "      <td>3.60</td>\n",
       "      <td>1.36</td>\n",
       "      <td>72.99</td>\n",
       "      <td>0.57</td>\n",
       "      <td>8.40</td>\n",
       "      <td>0.11</td>\n",
       "      <td>1</td>\n",
       "    </tr>\n",
       "  </tbody>\n",
       "</table>\n",
       "</div>"
      ],
      "text/plain": [
       "        RI     Na    Mg    Al     Si     K    Ca    Fe  Glass_type\n",
       "0  1.51766  13.21  3.69  1.29  72.61  0.57  8.22  0.00           1\n",
       "1  1.51742  13.27  3.62  1.24  73.08  0.55  8.07  0.00           1\n",
       "2  1.51756  13.15  3.61  1.05  73.24  0.57  8.24  0.00           1\n",
       "3  1.51918  14.04  3.58  1.37  72.08  0.56  8.30  0.00           1\n",
       "4  1.51755  13.00  3.60  1.36  72.99  0.57  8.40  0.11           1"
      ]
     },
     "execution_count": 2,
     "metadata": {},
     "output_type": "execute_result"
    }
   ],
   "source": [
    "df = pd.read_csv(\"glass.csv\")\n",
    "df.head()"
   ]
  },
  {
   "cell_type": "code",
   "execution_count": 3,
   "metadata": {
    "ExecuteTime": {
     "end_time": "2021-09-24T06:51:25.080018Z",
     "start_time": "2021-09-24T06:51:25.068051Z"
    }
   },
   "outputs": [],
   "source": [
    "# 특징과 라벨 분리\n",
    "X = df.drop(['Glass_type'], axis = 1)\n",
    "Y = df['Glass_type']"
   ]
  },
  {
   "cell_type": "code",
   "execution_count": 4,
   "metadata": {
    "ExecuteTime": {
     "end_time": "2021-09-24T06:51:25.811860Z",
     "start_time": "2021-09-24T06:51:25.082013Z"
    }
   },
   "outputs": [
    {
     "data": {
      "text/plain": [
       "(160, 8)"
      ]
     },
     "execution_count": 4,
     "metadata": {},
     "output_type": "execute_result"
    }
   ],
   "source": [
    "# 학습 데이터와 평가 데이터 분리\n",
    "from sklearn.model_selection import train_test_split\n",
    "Train_X, Test_X, Train_Y, Test_Y = train_test_split(X, Y)\n",
    "Train_X.shape"
   ]
  },
  {
   "cell_type": "markdown",
   "metadata": {},
   "source": [
    "# DBSCAN 으로 이상치 분류하기"
   ]
  },
  {
   "cell_type": "code",
   "execution_count": 5,
   "metadata": {
    "ExecuteTime": {
     "end_time": "2021-09-24T06:51:26.107992Z",
     "start_time": "2021-09-24T06:51:25.816846Z"
    }
   },
   "outputs": [],
   "source": [
    "from scipy.spatial.distance import cdist \n",
    "from sklearn.cluster import DBSCAN"
   ]
  },
  {
   "cell_type": "markdown",
   "metadata": {},
   "source": [
    "거리 행렬 생성"
   ]
  },
  {
   "cell_type": "code",
   "execution_count": 6,
   "metadata": {
    "ExecuteTime": {
     "end_time": "2021-09-24T06:51:26.137912Z",
     "start_time": "2021-09-24T06:51:26.119960Z"
    }
   },
   "outputs": [
    {
     "data": {
      "text/plain": [
       "0.6857842750165691"
      ]
     },
     "execution_count": 6,
     "metadata": {},
     "output_type": "execute_result"
    }
   ],
   "source": [
    "DM = cdist(Train_X, Train_X) # 거리 행렬 => DBSCAN의 파라미터 설정시 참고하기 위함\n",
    "np.quantile(DM, 0.1) # 샘플 간 거리의 10% quantile계산 (작은 값을 기준으로 10%)"
   ]
  },
  {
   "cell_type": "markdown",
   "metadata": {},
   "source": [
    "- 모든 샘플의 거리행렬에서 상위 10%가 0.699정도이다.\n",
    "- 동일 데이터간의 거리행렬 -> 대다수의 거리값이 0이 나올 것 -> mean, max, min등을 사용하기에 적절하지 않음\n",
    "---"
   ]
  },
  {
   "cell_type": "markdown",
   "metadata": {},
   "source": [
    "- 계산한 거리행렬의 quantile(분포통계량) 값을 기준으로 eps값 설정\n",
    "- 단, 위에서 계산한 quantiel 값은 참고만 하는값이다. 절대적으로 따라야 하는 값이 아니다."
   ]
  },
  {
   "cell_type": "markdown",
   "metadata": {},
   "source": [
    "## Trial_1"
   ]
  },
  {
   "cell_type": "code",
   "execution_count": 7,
   "metadata": {
    "ExecuteTime": {
     "end_time": "2021-09-24T06:51:26.167831Z",
     "start_time": "2021-09-24T06:51:26.142897Z"
    }
   },
   "outputs": [
    {
     "name": "stdout",
     "output_type": "stream",
     "text": [
      "39\n"
     ]
    }
   ],
   "source": [
    "# 모델 인스턴스화 + fitting\n",
    "cluster_model = DBSCAN(eps = 0.69, min_samples = 3).fit(Train_X)\n",
    "\n",
    "# 이상치 탐색 \n",
    "print(sum(cluster_model.labels_ == -1))\n",
    "\n",
    "# 44개가 이상치로 판단 => 이정도면 너무 많은 양이 아닌가?? => 파라미터 조정 필요 (eps 증가)"
   ]
  },
  {
   "cell_type": "markdown",
   "metadata": {},
   "source": [
    "## Trial_2"
   ]
  },
  {
   "cell_type": "code",
   "execution_count": 8,
   "metadata": {
    "ExecuteTime": {
     "end_time": "2021-09-24T06:51:26.183789Z",
     "start_time": "2021-09-24T06:51:26.170823Z"
    }
   },
   "outputs": [
    {
     "name": "stdout",
     "output_type": "stream",
     "text": [
      "12\n"
     ]
    }
   ],
   "source": [
    "cluster_model = DBSCAN(eps = 2, min_samples = 3).fit(Train_X)\n",
    "print(sum(cluster_model.labels_ == -1)) # 8개 -> 전체 160개의 약 10%미만의값 -> 괜찮은 양이라고 판단하여 삭제 수행"
   ]
  },
  {
   "cell_type": "markdown",
   "metadata": {},
   "source": [
    "## 이상치 제거"
   ]
  },
  {
   "cell_type": "code",
   "execution_count": 9,
   "metadata": {
    "ExecuteTime": {
     "end_time": "2021-09-24T06:51:26.199746Z",
     "start_time": "2021-09-24T06:51:26.186780Z"
    }
   },
   "outputs": [],
   "source": [
    "# labels_가 -1인것(=이상치)만 제거\n",
    "Train_X = Train_X[cluster_model.labels_ != -1]"
   ]
  },
  {
   "cell_type": "code",
   "execution_count": 10,
   "metadata": {
    "ExecuteTime": {
     "end_time": "2021-09-24T06:51:26.214706Z",
     "start_time": "2021-09-24T06:51:26.202738Z"
    }
   },
   "outputs": [
    {
     "data": {
      "text/plain": [
       "(148, 8)"
      ]
     },
     "execution_count": 10,
     "metadata": {},
     "output_type": "execute_result"
    }
   ],
   "source": [
    "Train_X.shape"
   ]
  }
 ],
 "metadata": {
  "kernelspec": {
   "display_name": "Python 3 (ipykernel)",
   "language": "python",
   "name": "python3"
  },
  "language_info": {
   "codemirror_mode": {
    "name": "ipython",
    "version": 3
   },
   "file_extension": ".py",
   "mimetype": "text/x-python",
   "name": "python",
   "nbconvert_exporter": "python",
   "pygments_lexer": "ipython3",
   "version": "3.8.5"
  },
  "toc": {
   "base_numbering": 1,
   "nav_menu": {},
   "number_sections": true,
   "sideBar": true,
   "skip_h1_title": false,
   "title_cell": "Table of Contents",
   "title_sidebar": "Contents",
   "toc_cell": false,
   "toc_position": {},
   "toc_section_display": true,
   "toc_window_display": true
  },
  "varInspector": {
   "cols": {
    "lenName": 16,
    "lenType": 16,
    "lenVar": 40
   },
   "kernels_config": {
    "python": {
     "delete_cmd_postfix": "",
     "delete_cmd_prefix": "del ",
     "library": "var_list.py",
     "varRefreshCmd": "print(var_dic_list())"
    },
    "r": {
     "delete_cmd_postfix": ") ",
     "delete_cmd_prefix": "rm(",
     "library": "var_list.r",
     "varRefreshCmd": "cat(var_dic_list()) "
    }
   },
   "types_to_exclude": [
    "module",
    "function",
    "builtin_function_or_method",
    "instance",
    "_Feature"
   ],
   "window_display": false
  }
 },
 "nbformat": 4,
 "nbformat_minor": 2
}
