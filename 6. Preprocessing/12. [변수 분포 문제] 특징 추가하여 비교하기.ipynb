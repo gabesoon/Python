{
 "cells": [
  {
   "cell_type": "markdown",
   "metadata": {},
   "source": [
    "# 변수 분포 문제 \n",
    "---\n",
    "- 데이터에 일반화된 모델을 학습하는데 어려움이 있는 분포를 가지는 변수가 있어, 모델을 학습하지 못하는 문제의 통칭\n",
    "- 초심자가 가장 쉽게 무시하거나, 인지하지 못하는 유형의 문제\n",
    "- 이 문제를 해결하지 않더라도 모델 학습에는 큰 문제가 없는 경우가 대다수 이기 때문\n",
    "- 다만 이 문제를 해결하지 않으면 `좋은 모델 성능` 을 기대하기 어렵다.\n",
    "---\n",
    "\n",
    "변수 분포 문제는 크게 5개로 분류된다.\n",
    "\n",
    "1) 특징과 라벨간 약한 관계 및 비선형 관계\n",
    "\n",
    "2) 이상치를 포함하는 데이터 문제\n",
    "\n",
    "3) 특징 간 상관성이 강해서 발생하는 문제\n",
    "\n",
    "4) 변수간 스케일차이가 커서 발생하는 문제\n",
    "\n",
    "5) 데이터의 분포가 표준분포를 따르지 않고 일반분포(분포 상태를 알수없는 상태의 통칭)일때 발생하는 문제\n",
    "\n",
    "---"
   ]
  },
  {
   "attachments": {},
   "cell_type": "markdown",
   "metadata": {},
   "source": [
    "# 특징과 라벨간 관계 및 비선형 관계 (지도 모델)\n",
    "---\n",
    "\n",
    "- 특징과 라벨간 관계가 없거나 그 정도가 약하다면, 어떤 전처리 및 모델링을 한다 해도 예측력이 높은 모델을 학습할 수 없다.\n",
    "- 하지만 보통은 특징과 라벨간 관계가 있음에도 숨겨져 있어 잘 보이지 않는 경우가 많다. (e.g) 비선형 관계)\n",
    "- 특징과 라벨간 비선형 관계가 존재할때 적절한 전처리를 한다면, 모델 성능을 크게 향상 시킬 수 있다.\n",
    "    - 이는 선형 회귀 모델, 로지스틱 회귀 모델등을 통해 검증이 된 사실이다.\n",
    "---\n",
    "![image](https://user-images.githubusercontent.com/74717033/134630625-2fc88075-2e09-41a7-ba40-ab01b79c39e2.png)\n",
    "\n",
    "---\n",
    "- 선형 회귀에서는 x, y가 위의 그림과 같이 2차원의 관계에 있을때 x를 그대로 쓰지 않고 x를 제곱한 값(전처리)를 하면 더 좋은 선형관계를 구축할 수 있다.\n",
    "- 로지스틱 모델에서는 데이터의 특정 구간을 잘라서(전처리) 변수를 변환했을 때 모델의 구분 성능이 좋아지도록 할 수 있다.\n",
    "- 즉, 비선형 관계인 데이터들을 전처리를 통해 선형 관계로 바꾸어 주면 모델성능의 향상을 기대할 수 있다.\n",
    "---\n",
    "Tip. 대다수의 머신러닝 모델은 선형식(wx + b)을 포함하고 있다. (회귀, SVM, 신경망 등)"
   ]
  },
  {
   "cell_type": "markdown",
   "metadata": {},
   "source": [
    "## 특징과 라벨간 관계 파악의 현실적 어려움\n",
    "---\n",
    "- 만약 특징이 10개 미만이라면, 라벨과 비교해서 하나 하나 그래프를 그려서 그 관계를 가늠해볼 수 있다.\n",
    "- 하지만 특징이 많은 경우 일일이 확인하기가 어렵다. \n",
    "- 설사 일일이 확인이 가능하다 하더라도, 라벨값 하나를 결정하는데 특징이 1개만 적용되는 것이 아닌 경우가 대부분이므로 관계성을 특정짓는 것이 쉽지 않다.\n",
    "- 여러개의 특징과 라벨간의 관계성을 보려면 다차원 그래프를 그려야 하는데, 실질적으로 3차원 이상만 되어도 그래프로 시각화 하는 것은 어렵다.\n",
    "---\n",
    "\n",
    "## 해결방안\n",
    "---\n",
    "- 1) 다양한 변환방법으로 특징과 라벨간의 관계를 나타내는 특징을 만들어 확인해본다.\n",
    "    - x의 제곱, log x, 두 컬럼의 합, 차 등 \n",
    "- 2) 생성한 특징을 기반으로 비교하며 특징 선택을 한뒤 전처리를 한다."
   ]
  },
  {
   "cell_type": "code",
   "execution_count": 1,
   "metadata": {
    "ExecuteTime": {
     "end_time": "2021-09-24T06:48:45.583885Z",
     "start_time": "2021-09-24T06:48:44.945635Z"
    }
   },
   "outputs": [],
   "source": [
    "import os\n",
    "import pandas as pd\n",
    "\n",
    "# 불필요한 경고 표시 생략\n",
    "import warnings\n",
    "warnings.filterwarnings(action = 'ignore')\n",
    "\n",
    "a=%pwd # 현재 경로 a에 할당\n",
    "os.chdir(a) # 파일 로드 경로 설정"
   ]
  },
  {
   "cell_type": "markdown",
   "metadata": {},
   "source": [
    "실습용 예제 데이터 : 전력 발전량 예측용 데이터"
   ]
  },
  {
   "cell_type": "code",
   "execution_count": 2,
   "metadata": {
    "ExecuteTime": {
     "end_time": "2021-09-24T06:48:45.629571Z",
     "start_time": "2021-09-24T06:48:45.586279Z"
    }
   },
   "outputs": [
    {
     "data": {
      "text/html": [
       "<div>\n",
       "<style scoped>\n",
       "    .dataframe tbody tr th:only-of-type {\n",
       "        vertical-align: middle;\n",
       "    }\n",
       "\n",
       "    .dataframe tbody tr th {\n",
       "        vertical-align: top;\n",
       "    }\n",
       "\n",
       "    .dataframe thead th {\n",
       "        text-align: right;\n",
       "    }\n",
       "</style>\n",
       "<table border=\"1\" class=\"dataframe\">\n",
       "  <thead>\n",
       "    <tr style=\"text-align: right;\">\n",
       "      <th></th>\n",
       "      <th>T</th>\n",
       "      <th>V</th>\n",
       "      <th>AP</th>\n",
       "      <th>RH</th>\n",
       "      <th>EP</th>\n",
       "    </tr>\n",
       "  </thead>\n",
       "  <tbody>\n",
       "    <tr>\n",
       "      <th>0</th>\n",
       "      <td>8.34</td>\n",
       "      <td>40.77</td>\n",
       "      <td>1010.84</td>\n",
       "      <td>90.01</td>\n",
       "      <td>480.48</td>\n",
       "    </tr>\n",
       "    <tr>\n",
       "      <th>1</th>\n",
       "      <td>23.64</td>\n",
       "      <td>58.49</td>\n",
       "      <td>1011.40</td>\n",
       "      <td>74.20</td>\n",
       "      <td>445.75</td>\n",
       "    </tr>\n",
       "    <tr>\n",
       "      <th>2</th>\n",
       "      <td>29.74</td>\n",
       "      <td>56.90</td>\n",
       "      <td>1007.15</td>\n",
       "      <td>41.91</td>\n",
       "      <td>438.76</td>\n",
       "    </tr>\n",
       "    <tr>\n",
       "      <th>3</th>\n",
       "      <td>19.07</td>\n",
       "      <td>49.69</td>\n",
       "      <td>1007.22</td>\n",
       "      <td>76.79</td>\n",
       "      <td>453.09</td>\n",
       "    </tr>\n",
       "    <tr>\n",
       "      <th>4</th>\n",
       "      <td>11.80</td>\n",
       "      <td>40.66</td>\n",
       "      <td>1017.13</td>\n",
       "      <td>97.20</td>\n",
       "      <td>464.43</td>\n",
       "    </tr>\n",
       "  </tbody>\n",
       "</table>\n",
       "</div>"
      ],
      "text/plain": [
       "       T      V       AP     RH      EP\n",
       "0   8.34  40.77  1010.84  90.01  480.48\n",
       "1  23.64  58.49  1011.40  74.20  445.75\n",
       "2  29.74  56.90  1007.15  41.91  438.76\n",
       "3  19.07  49.69  1007.22  76.79  453.09\n",
       "4  11.80  40.66  1017.13  97.20  464.43"
      ]
     },
     "execution_count": 2,
     "metadata": {},
     "output_type": "execute_result"
    }
   ],
   "source": [
    "df = pd.read_csv(\"Combined_Cycle_Power_Plant.csv\")\n",
    "df.head()"
   ]
  },
  {
   "cell_type": "code",
   "execution_count": 3,
   "metadata": {
    "ExecuteTime": {
     "end_time": "2021-09-24T06:48:45.644512Z",
     "start_time": "2021-09-24T06:48:45.632563Z"
    }
   },
   "outputs": [
    {
     "name": "stdout",
     "output_type": "stream",
     "text": [
      "<class 'pandas.core.frame.DataFrame'>\n",
      "RangeIndex: 9568 entries, 0 to 9567\n",
      "Data columns (total 5 columns):\n",
      " #   Column  Non-Null Count  Dtype  \n",
      "---  ------  --------------  -----  \n",
      " 0   T       9568 non-null   float64\n",
      " 1   V       9568 non-null   float64\n",
      " 2   AP      9568 non-null   float64\n",
      " 3   RH      9568 non-null   float64\n",
      " 4   EP      9568 non-null   float64\n",
      "dtypes: float64(5)\n",
      "memory usage: 373.9 KB\n"
     ]
    }
   ],
   "source": [
    "df.info()"
   ]
  },
  {
   "cell_type": "code",
   "execution_count": 4,
   "metadata": {
    "ExecuteTime": {
     "end_time": "2021-09-24T06:48:45.675558Z",
     "start_time": "2021-09-24T06:48:45.651464Z"
    }
   },
   "outputs": [
    {
     "data": {
      "text/html": [
       "<div>\n",
       "<style scoped>\n",
       "    .dataframe tbody tr th:only-of-type {\n",
       "        vertical-align: middle;\n",
       "    }\n",
       "\n",
       "    .dataframe tbody tr th {\n",
       "        vertical-align: top;\n",
       "    }\n",
       "\n",
       "    .dataframe thead th {\n",
       "        text-align: right;\n",
       "    }\n",
       "</style>\n",
       "<table border=\"1\" class=\"dataframe\">\n",
       "  <thead>\n",
       "    <tr style=\"text-align: right;\">\n",
       "      <th></th>\n",
       "      <th>T</th>\n",
       "      <th>V</th>\n",
       "      <th>AP</th>\n",
       "      <th>RH</th>\n",
       "      <th>EP</th>\n",
       "    </tr>\n",
       "  </thead>\n",
       "  <tbody>\n",
       "    <tr>\n",
       "      <th>count</th>\n",
       "      <td>9568.000000</td>\n",
       "      <td>9568.000000</td>\n",
       "      <td>9568.000000</td>\n",
       "      <td>9568.000000</td>\n",
       "      <td>9568.000000</td>\n",
       "    </tr>\n",
       "    <tr>\n",
       "      <th>mean</th>\n",
       "      <td>19.651231</td>\n",
       "      <td>54.305804</td>\n",
       "      <td>1013.259078</td>\n",
       "      <td>73.308978</td>\n",
       "      <td>454.365009</td>\n",
       "    </tr>\n",
       "    <tr>\n",
       "      <th>std</th>\n",
       "      <td>7.452473</td>\n",
       "      <td>12.707893</td>\n",
       "      <td>5.938784</td>\n",
       "      <td>14.600269</td>\n",
       "      <td>17.066995</td>\n",
       "    </tr>\n",
       "    <tr>\n",
       "      <th>min</th>\n",
       "      <td>1.810000</td>\n",
       "      <td>25.360000</td>\n",
       "      <td>992.890000</td>\n",
       "      <td>25.560000</td>\n",
       "      <td>420.260000</td>\n",
       "    </tr>\n",
       "    <tr>\n",
       "      <th>25%</th>\n",
       "      <td>13.510000</td>\n",
       "      <td>41.740000</td>\n",
       "      <td>1009.100000</td>\n",
       "      <td>63.327500</td>\n",
       "      <td>439.750000</td>\n",
       "    </tr>\n",
       "    <tr>\n",
       "      <th>50%</th>\n",
       "      <td>20.345000</td>\n",
       "      <td>52.080000</td>\n",
       "      <td>1012.940000</td>\n",
       "      <td>74.975000</td>\n",
       "      <td>451.550000</td>\n",
       "    </tr>\n",
       "    <tr>\n",
       "      <th>75%</th>\n",
       "      <td>25.720000</td>\n",
       "      <td>66.540000</td>\n",
       "      <td>1017.260000</td>\n",
       "      <td>84.830000</td>\n",
       "      <td>468.430000</td>\n",
       "    </tr>\n",
       "    <tr>\n",
       "      <th>max</th>\n",
       "      <td>37.110000</td>\n",
       "      <td>81.560000</td>\n",
       "      <td>1033.300000</td>\n",
       "      <td>100.160000</td>\n",
       "      <td>495.760000</td>\n",
       "    </tr>\n",
       "  </tbody>\n",
       "</table>\n",
       "</div>"
      ],
      "text/plain": [
       "                 T            V           AP           RH           EP\n",
       "count  9568.000000  9568.000000  9568.000000  9568.000000  9568.000000\n",
       "mean     19.651231    54.305804  1013.259078    73.308978   454.365009\n",
       "std       7.452473    12.707893     5.938784    14.600269    17.066995\n",
       "min       1.810000    25.360000   992.890000    25.560000   420.260000\n",
       "25%      13.510000    41.740000  1009.100000    63.327500   439.750000\n",
       "50%      20.345000    52.080000  1012.940000    74.975000   451.550000\n",
       "75%      25.720000    66.540000  1017.260000    84.830000   468.430000\n",
       "max      37.110000    81.560000  1033.300000   100.160000   495.760000"
      ]
     },
     "execution_count": 4,
     "metadata": {},
     "output_type": "execute_result"
    }
   ],
   "source": [
    "df.describe()"
   ]
  },
  {
   "cell_type": "code",
   "execution_count": 5,
   "metadata": {
    "ExecuteTime": {
     "end_time": "2021-09-24T06:48:45.690519Z",
     "start_time": "2021-09-24T06:48:45.677553Z"
    }
   },
   "outputs": [],
   "source": [
    "# 특징과 라벨(EP)분리\n",
    "X = df.drop('EP', axis = 1)\n",
    "Y = df['EP']"
   ]
  },
  {
   "cell_type": "markdown",
   "metadata": {},
   "source": [
    "# 원본 데이터인 X와 특징이 추가된 데이터 X_added를 생성해 결과 비교"
   ]
  },
  {
   "cell_type": "code",
   "execution_count": 6,
   "metadata": {
    "ExecuteTime": {
     "end_time": "2021-09-24T06:48:45.705479Z",
     "start_time": "2021-09-24T06:48:45.692513Z"
    }
   },
   "outputs": [],
   "source": [
    "# 신규 데이터 생성\n",
    "X_added = X.copy() # 특징이 추가된 데이터를 부착할 데이터\n",
    "\n",
    "import numpy as np\n",
    "# 로그와 제곱 관련 변수만 추가\n",
    "for col in X.columns:\n",
    "    X_added[col + '_squared'] = X[col] ** 2 # 원래 특징에 제곱한값\n",
    "    X_added[col + '_log'] = np.log(X[col]) # 원래 특징에 로그값을 취한 값"
   ]
  },
  {
   "cell_type": "markdown",
   "metadata": {},
   "source": [
    "# 결과 비교"
   ]
  },
  {
   "cell_type": "code",
   "execution_count": 7,
   "metadata": {
    "ExecuteTime": {
     "end_time": "2021-09-24T06:48:46.698281Z",
     "start_time": "2021-09-24T06:48:45.707475Z"
    }
   },
   "outputs": [],
   "source": [
    "from sklearn.model_selection import cross_val_score\n",
    "from sklearn.linear_model import LinearRegression as LR\n",
    "\n",
    "# 5겹 교차 검증 기반의 평가 수행 with negative MAE\n",
    "# 5번 평가하기 때문에 mean으로 평균값을 구한다.\n",
    "# cross_val_score는 shuffle이 되지 않기 때문에 인위성이 배제된다.\n",
    "\n",
    "# 기존 데이터\n",
    "X_score = cross_val_score(LR(), X, Y, cv = 5, scoring = 'neg_mean_absolute_error').mean()\n",
    "\n",
    "# 특징 추가한 데이터 (Y값은 동일)\n",
    "X_added_score = cross_val_score(LR(), X_added, Y, cv = 5, scoring = 'neg_mean_absolute_error').mean()"
   ]
  },
  {
   "cell_type": "code",
   "execution_count": 8,
   "metadata": {
    "ExecuteTime": {
     "end_time": "2021-09-24T06:48:46.713241Z",
     "start_time": "2021-09-24T06:48:46.700276Z"
    }
   },
   "outputs": [
    {
     "name": "stdout",
     "output_type": "stream",
     "text": [
      "특징 추가 전:-3.628251380729045\n",
      "특징 추가 후:-3.332221506782794\n"
     ]
    }
   ],
   "source": [
    "print(\"특징 추가 전:{}\\n특징 추가 후:{}\".format(X_score, X_added_score))"
   ]
  },
  {
   "cell_type": "markdown",
   "metadata": {},
   "source": [
    "- Negative MAE이기때문에 결과값에도 -가 붙었다. (절대값으로 비교해도 무방)\n",
    "- 특징 추가후 score가 하락 => 성능이 향상되었다.\n",
    "---\n",
    "- 단순한 비교이지만 특징이 추가된다고 무조건 성능이 좋아지는 것은 아니다."
   ]
  }
 ],
 "metadata": {
  "kernelspec": {
   "display_name": "Python 3 (ipykernel)",
   "language": "python",
   "name": "python3"
  },
  "language_info": {
   "codemirror_mode": {
    "name": "ipython",
    "version": 3
   },
   "file_extension": ".py",
   "mimetype": "text/x-python",
   "name": "python",
   "nbconvert_exporter": "python",
   "pygments_lexer": "ipython3",
   "version": "3.8.5"
  },
  "toc": {
   "base_numbering": 1,
   "nav_menu": {},
   "number_sections": true,
   "sideBar": true,
   "skip_h1_title": false,
   "title_cell": "Table of Contents",
   "title_sidebar": "Contents",
   "toc_cell": false,
   "toc_position": {},
   "toc_section_display": true,
   "toc_window_display": true
  },
  "varInspector": {
   "cols": {
    "lenName": 16,
    "lenType": 16,
    "lenVar": 40
   },
   "kernels_config": {
    "python": {
     "delete_cmd_postfix": "",
     "delete_cmd_prefix": "del ",
     "library": "var_list.py",
     "varRefreshCmd": "print(var_dic_list())"
    },
    "r": {
     "delete_cmd_postfix": ") ",
     "delete_cmd_prefix": "rm(",
     "library": "var_list.r",
     "varRefreshCmd": "cat(var_dic_list()) "
    }
   },
   "types_to_exclude": [
    "module",
    "function",
    "builtin_function_or_method",
    "instance",
    "_Feature"
   ],
   "window_display": false
  }
 },
 "nbformat": 4,
 "nbformat_minor": 2
}
