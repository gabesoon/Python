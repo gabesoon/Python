{
 "cells": [
  {
   "attachments": {},
   "cell_type": "markdown",
   "metadata": {},
   "source": [
    "# 차원의 저주?\n",
    "---\n",
    "\n",
    "- `차원이 증가`함에 따라 `필요한 데이터 양과 시간 복잡도가 기하급수적으로 증가`하는 문제\n",
    "- 차원 = 특징의 수\n",
    "\n",
    "![image](https://user-images.githubusercontent.com/74717033/134632028-b529ff4a-80c9-4f74-b936-af301e0e4601.png)\n",
    "\n",
    "---\n",
    "- 분류 문제를 해결하고자 한다고 가정. 이때, 샘플은 총 9개, 특징은 x1, x2, x3로 총 3가지가 있다. 고 가정<br>\n",
    "- 특징을 x1 1개로만 볼때 1번 위치에 새로운 샘플이 입력되면, 해당 위치에 세모가 가장 많으므로 세모라 판단할 가능성이 크다.<br>\n",
    "- 특징을 x1, x2 2개로 할때 2번 위치에 새로운 샘플이 입력되면, 해당 위치에 세모값이 가장 많으므로 세모라 판단할 가능성이 크다.<br>\n",
    "- 특징을 x1, x2, x3 3개로 할때 3번 위치에 새로운 샘플이 입력되면, 빈공간이기 때문에 판단할 근거가 없다.<br><br>\n",
    "- 즉, 차원이 증가함에 따라 각 공간에 들어갈 샘플이 적어지게 된다(정확도 하락). \n",
    "- 정확도를 높이기 위해서는 `더 많은 샘플` 이 필요하게 되고, 이를 위해 추가 데이터 수집이 필요하다.\n",
    "---\n",
    "- 결국, 어떤 새로운 샘플값을 일반화하여 결정하기 위한 `근거가 되는 데이터가 부족하다` -> `과적합 발생` -> `모델 성능 저하`\n",
    "\n",
    "\n",
    "- 위의 그림은 label이 범주형이지만, 연속형의 경우 그 정도는 더 심해질 것이다.(특징의 수뿐만아니라 종류도 중요한 판단요소)\n",
    "---\n",
    "\n",
    "# 왜 차원을 줄여야 하는가?\n",
    "---\n",
    "\n",
    "- `차원이 증가`함에 따라 `모델 학습 시간이 정비례하게 증가`한다.\n",
    "- 차원이 증가하면 각 `결정 공간에 포함되는 샘플 수가 적어져`, **과적합**으로 이어지고, 이는 `모델의 성능저하`로 이어진다.\n",
    "\n",
    "![image](https://user-images.githubusercontent.com/74717033/134632156-27531da0-e002-4e81-a0a1-dbad1dc9e042.png)\n",
    "\n",
    "---\n",
    "- 일반적으로 특징이 증가할수록 모델의 성능이 증가하다가, 특정 개수 이상부터는 성능이 하락한다.(과적합 구간)<br>\n",
    "- 특징이 너무 적으면 되려 과소적합 발생<br>\n",
    "- 모델성능은 평가데이터에 대한 성능을 의미<br>"
   ]
  },
  {
   "attachments": {},
   "cell_type": "markdown",
   "metadata": {},
   "source": [
    "# 차원의 저주 해결 방법 \n",
    "---\n",
    "- 분류 및 예측에 효과적인 특징만을 선택해 차원을 축소하는 것\n",
    "\n",
    "\n",
    "![image](https://user-images.githubusercontent.com/74717033/134632195-5ba8abc2-85e1-4f9b-a99d-2d85612caba7.png)\n",
    "\n",
    "---"
   ]
  },
  {
   "cell_type": "markdown",
   "metadata": {},
   "source": [
    "## 적용대상\n",
    "---\n",
    "- 특징선택은 특징이 많은 데이터에만 적용되지 않는다.\n",
    "- 각 특징의 개수 대비 성능을 보고 특징 개수를 선택해야 한다.\n",
    "- 특징이 적더라도 특징 선택을 했을때 결과가 더 좋아지는 경우도 있기 때문이다.\n",
    "---"
   ]
  },
  {
   "cell_type": "code",
   "execution_count": 1,
   "metadata": {
    "ExecuteTime": {
     "end_time": "2021-09-24T07:03:00.110560Z",
     "start_time": "2021-09-24T07:02:59.440351Z"
    }
   },
   "outputs": [],
   "source": [
    "import os\n",
    "import pandas as pd\n",
    "\n",
    "# 불필요한 경고 표시 생략\n",
    "import warnings\n",
    "warnings.filterwarnings(action = 'ignore')\n",
    "\n",
    "a=%pwd # 현재 경로 a에 할당\n",
    "os.chdir(a) # 파일 로드 경로 설정"
   ]
  },
  {
   "cell_type": "code",
   "execution_count": 2,
   "metadata": {
    "ExecuteTime": {
     "end_time": "2021-09-24T07:03:00.145482Z",
     "start_time": "2021-09-24T07:03:00.113533Z"
    }
   },
   "outputs": [
    {
     "data": {
      "text/html": [
       "<div>\n",
       "<style scoped>\n",
       "    .dataframe tbody tr th:only-of-type {\n",
       "        vertical-align: middle;\n",
       "    }\n",
       "\n",
       "    .dataframe tbody tr th {\n",
       "        vertical-align: top;\n",
       "    }\n",
       "\n",
       "    .dataframe thead th {\n",
       "        text-align: right;\n",
       "    }\n",
       "</style>\n",
       "<table border=\"1\" class=\"dataframe\">\n",
       "  <thead>\n",
       "    <tr style=\"text-align: right;\">\n",
       "      <th></th>\n",
       "      <th>At1</th>\n",
       "      <th>At2</th>\n",
       "      <th>At3</th>\n",
       "      <th>At4</th>\n",
       "      <th>At5</th>\n",
       "      <th>At6</th>\n",
       "      <th>At7</th>\n",
       "      <th>Class</th>\n",
       "    </tr>\n",
       "  </thead>\n",
       "  <tbody>\n",
       "    <tr>\n",
       "      <th>0</th>\n",
       "      <td>0.213</td>\n",
       "      <td>0.554</td>\n",
       "      <td>0.207</td>\n",
       "      <td>0.000</td>\n",
       "      <td>0.000</td>\n",
       "      <td>0.749</td>\n",
       "      <td>0.220</td>\n",
       "      <td>1</td>\n",
       "    </tr>\n",
       "    <tr>\n",
       "      <th>1</th>\n",
       "      <td>0.458</td>\n",
       "      <td>0.714</td>\n",
       "      <td>0.468</td>\n",
       "      <td>0.111</td>\n",
       "      <td>0.102</td>\n",
       "      <td>0.741</td>\n",
       "      <td>0.436</td>\n",
       "      <td>1</td>\n",
       "    </tr>\n",
       "    <tr>\n",
       "      <th>2</th>\n",
       "      <td>0.102</td>\n",
       "      <td>0.518</td>\n",
       "      <td>0.111</td>\n",
       "      <td>0.056</td>\n",
       "      <td>0.022</td>\n",
       "      <td>0.506</td>\n",
       "      <td>0.086</td>\n",
       "      <td>1</td>\n",
       "    </tr>\n",
       "    <tr>\n",
       "      <th>3</th>\n",
       "      <td>0.187</td>\n",
       "      <td>0.196</td>\n",
       "      <td>0.105</td>\n",
       "      <td>0.056</td>\n",
       "      <td>0.029</td>\n",
       "      <td>0.133</td>\n",
       "      <td>0.085</td>\n",
       "      <td>1</td>\n",
       "    </tr>\n",
       "    <tr>\n",
       "      <th>4</th>\n",
       "      <td>0.236</td>\n",
       "      <td>0.804</td>\n",
       "      <td>0.289</td>\n",
       "      <td>0.111</td>\n",
       "      <td>0.066</td>\n",
       "      <td>0.756</td>\n",
       "      <td>0.241</td>\n",
       "      <td>1</td>\n",
       "    </tr>\n",
       "  </tbody>\n",
       "</table>\n",
       "</div>"
      ],
      "text/plain": [
       "     At1    At2    At3    At4    At5    At6    At7  Class\n",
       "0  0.213  0.554  0.207  0.000  0.000  0.749  0.220      1\n",
       "1  0.458  0.714  0.468  0.111  0.102  0.741  0.436      1\n",
       "2  0.102  0.518  0.111  0.056  0.022  0.506  0.086      1\n",
       "3  0.187  0.196  0.105  0.056  0.029  0.133  0.085      1\n",
       "4  0.236  0.804  0.289  0.111  0.066  0.756  0.241      1"
      ]
     },
     "execution_count": 2,
     "metadata": {},
     "output_type": "execute_result"
    }
   ],
   "source": [
    "df = pd.read_csv(\"appendicitis.csv\")\n",
    "\n",
    "df.head()"
   ]
  },
  {
   "cell_type": "code",
   "execution_count": 3,
   "metadata": {
    "ExecuteTime": {
     "end_time": "2021-09-24T07:03:00.153426Z",
     "start_time": "2021-09-24T07:03:00.147443Z"
    }
   },
   "outputs": [],
   "source": [
    "# 특징과 라벨 분리\n",
    "X = df.drop('Class', axis = 1)\n",
    "Y = df['Class']"
   ]
  },
  {
   "cell_type": "code",
   "execution_count": 4,
   "metadata": {
    "ExecuteTime": {
     "end_time": "2021-09-24T07:03:00.815674Z",
     "start_time": "2021-09-24T07:03:00.156452Z"
    }
   },
   "outputs": [],
   "source": [
    "# 학습 데이터와 평가 데이터 분리\n",
    "from sklearn.model_selection import train_test_split\n",
    "Train_X, Test_X, Train_Y, Test_Y = train_test_split(X, Y)"
   ]
  },
  {
   "cell_type": "markdown",
   "metadata": {},
   "source": [
    "특징에 따른 SVM 모델 테스트 함수 작성"
   ]
  },
  {
   "cell_type": "code",
   "execution_count": 5,
   "metadata": {
    "ExecuteTime": {
     "end_time": "2021-09-24T07:03:00.873534Z",
     "start_time": "2021-09-24T07:03:00.817694Z"
    }
   },
   "outputs": [],
   "source": [
    "# 특징에 따른 SVM 모델 테스트 함수 작성\n",
    "from sklearn.svm import SVC\n",
    "from sklearn.metrics import f1_score\n",
    "\n",
    "# 특징 개수별 차이를 실험하기위한 함수 생성\n",
    "def feature_test(Train_X, Test_X, Train_Y, Test_Y, features):\n",
    "    s_Train_X = Train_X[features]\n",
    "    s_Test_X = Test_X[features]\n",
    "    \n",
    "    # 모델 인스턴스 & fitting\n",
    "    model = SVC().fit(s_Train_X, Train_Y)\n",
    "    \n",
    "    # 예측\n",
    "    pred_Y = model.predict(s_Test_X)    \n",
    "    \n",
    "    # 평가\n",
    "    return f1_score(Test_Y, pred_Y)"
   ]
  },
  {
   "cell_type": "markdown",
   "metadata": {},
   "source": [
    "모든 특징을 썼을때의 점수 계산"
   ]
  },
  {
   "cell_type": "code",
   "execution_count": 6,
   "metadata": {
    "ExecuteTime": {
     "end_time": "2021-09-24T07:03:00.887463Z",
     "start_time": "2021-09-24T07:03:00.874498Z"
    }
   },
   "outputs": [
    {
     "name": "stdout",
     "output_type": "stream",
     "text": [
      "0.25\n"
     ]
    }
   ],
   "source": [
    "# 비교대상 (모든 특징을 썼을 때의 점수 )\n",
    "base_score = feature_test(Train_X, Test_X, Train_Y, Test_Y, Train_X.columns) \n",
    "print(base_score)"
   ]
  },
  {
   "cell_type": "markdown",
   "metadata": {},
   "source": [
    "함수를 활용해 각 특징 개수별 모델 평가지표 출력"
   ]
  },
  {
   "cell_type": "code",
   "execution_count": 7,
   "metadata": {
    "ExecuteTime": {
     "end_time": "2021-09-24T07:03:01.508962Z",
     "start_time": "2021-09-24T07:03:00.889458Z"
    }
   },
   "outputs": [
    {
     "name": "stdout",
     "output_type": "stream",
     "text": [
      "현재 조합중인 특성의 개수는 1 개입니다.\n",
      "현재 조합중인 특성의 개수는 2 개입니다.\n",
      "현재 조합중인 특성의 개수는 3 개입니다.\n",
      "현재 조합중인 특성의 개수는 4 개입니다.\n",
      "현재 조합중인 특성의 개수는 5 개입니다.\n",
      "현재 조합중인 특성의 개수는 6 개입니다.\n"
     ]
    }
   ],
   "source": [
    "import itertools # 조합만들기용\n",
    "\n",
    "# 특징 list \n",
    "f_list = list(range(1, len(Train_X.columns)))\n",
    "outperform_ratio_list = []\n",
    "best_score = 0\n",
    "\n",
    "# 총 2^7개 만큼의 조합 가능\n",
    "for f in range(1, len(Train_X.columns)): # f = 선택한 특징 개수\n",
    "    print('현재 조합중인 특성의 개수는', f ,'개입니다.')\n",
    "    f_num = 0 # 특징을 f개 뽑았을 때, 원본보다 성능이 좋은 경우\n",
    "    f_dem = 0 # 특징을 f개 뽑는 경우의 수\n",
    "    \n",
    "    # Train_X의 컬럼값을 기준으로 f개의 특징을 고르는 모든 경우의 수 조합\n",
    "    for features in itertools.combinations(Train_X.columns, f):\n",
    "        # itertools은 tuple 형태이므로 값을 반환한뒤 형변환을 해준다\n",
    "        score = feature_test(Train_X, Test_X, Train_Y, Test_Y, list(features))\n",
    "        \n",
    "        # 조합별로 계산한 socre가 현재 best score보다 크면 feature list에 조합을 저장\n",
    "        # + best_score & best_feature update\n",
    "        if score > best_score:\n",
    "            best_score = score\n",
    "            best_feature = list(features)\n",
    "        \n",
    "        # 조합별로 계산한 socre가 현재 best score보다 크면\n",
    "        # 특징을 f개 뽑았을 때, 원본보다 성능이 좋은 경우의 값 +1\n",
    "        # 특징을 f개 뽑는 경우의 수는 조건 상관없이 무조건 f값이 1늘어날때마다 동시에 1씩 증가\n",
    "        if score > base_score:\n",
    "            f_num += 1 \n",
    "        f_dem += 1\n",
    "    \n",
    "    # 각 f값 별로 이전의 best score보다 좋은 것의 비율\n",
    "    outperform_ratio_list.append(f_num / f_dem)"
   ]
  },
  {
   "cell_type": "code",
   "execution_count": 8,
   "metadata": {
    "ExecuteTime": {
     "end_time": "2021-09-24T07:03:02.054468Z",
     "start_time": "2021-09-24T07:03:01.510952Z"
    }
   },
   "outputs": [
    {
     "data": {
      "text/plain": [
       "<BarContainer object of 6 artists>"
      ]
     },
     "execution_count": 8,
     "metadata": {},
     "output_type": "execute_result"
    },
    {
     "data": {
      "image/png": "[encoded data removed]",
      "text/plain": [
       "<Figure size 432x288 with 1 Axes>"
      ]
     },
     "metadata": {
      "needs_background": "light"
     },
     "output_type": "display_data"
    }
   ],
   "source": [
    "%matplotlib inline\n",
    "from matplotlib import pyplot as plt\n",
    "plt.bar(f_list, outperform_ratio_list)"
   ]
  },
  {
   "cell_type": "code",
   "execution_count": 9,
   "metadata": {
    "ExecuteTime": {
     "end_time": "2021-09-24T07:03:02.103338Z",
     "start_time": "2021-09-24T07:03:02.056464Z"
    }
   },
   "outputs": [
    {
     "data": {
      "text/plain": [
       "(['At1', 'At4'], 0.6666666666666666)"
      ]
     },
     "execution_count": 9,
     "metadata": {},
     "output_type": "execute_result"
    }
   ],
   "source": [
    "best_feature, best_score"
   ]
  },
  {
   "cell_type": "markdown",
   "metadata": {},
   "source": [
    "- 특징이 7개 밖에 되지 않아도, 특징 선택을 통해 모델 성능 개선이 가능하다."
   ]
  },
  {
   "cell_type": "markdown",
   "metadata": {},
   "source": [
    "# 주먹 구구식 특징 선택의 문제점\n",
    "---\n",
    "\n",
    "- 위와 같은 방법은 `선택 가능한 모든 특징 집합을 비교 & 평가한뒤 가장 좋은 특징 집합을 선택` 하는 방법이다.<br><br>\n",
    "- 문제는 이러한 주먹구구식 방식은 특징의 수가 늘어날 수록 많은 비용이 발생한다는 것 이다.<br>\n",
    "    - 계산 시간 증가, 컴퓨터 메모리 문제 등<br><br>\n",
    "- 실제로 특징 개수가 n개라고 가면 이에 대해 `2의 n제곱 -1 번` 만큼의 모형 학습이 필요하여 현실적으로 한계가 있다.<br><br>\n",
    "    - 실제 1초에 1억번의 모형을 학습할 수 있는 슈퍼컴퓨터로, 1000개의 특징에 대해 위와 같은 방법을 적용시키면 best_feature와 best_score를 찾는데 소요되는 시간은 **400조년** 이라 한다."
   ]
  },
  {
   "attachments": {},
   "cell_type": "markdown",
   "metadata": {},
   "source": [
    "# 필터링 기반의 특징 선택\n",
    "---\n",
    "- 주먹 구구식 특징 선택의 문제점을 해결한 특징 선택법\n",
    "- 특징과 라벨이 얼마나 관련이 있는지를 나타내는 통계량으로 `클래스 관련성이 높은 특징` 을 찾아 우선적으로 선택하는 방법\n",
    "\n",
    "![image](https://user-images.githubusercontent.com/74717033/134632218-19f425b2-3adb-46ad-83bc-cb62a0716ef3.png)\n",
    "\n",
    "---"
   ]
  },
  {
   "attachments": {},
   "cell_type": "markdown",
   "metadata": {},
   "source": [
    "## 클래스 관련성(Class relevance)\n",
    "---\n",
    "\n",
    "- `하나의 특징이 클래스를 얼마나 잘 설명하는지를 나타내는 척도`\n",
    "- 상관계수, 카이제곱 통계량, 상호정보량 등 특징과 라벨간 독립성(= 서로 얼마나 독립적이지 않은지)을 타나내는 통계량 지표를 통해 측정할 수 있다.\n",
    "- 클래스 관련성이 높은 특징은 결국 모델의 분류 및 예측에 도움이 되는 특징이며, 클래스 관련성이 낮은 특징은 도움이 되지 않는 특징이라 판별하는 것이다.\n",
    "---\n",
    "\n",
    "- 특징과 라벨이 모두 범주형인 예시 (즉 분류 문제)\n",
    "\n",
    "\n",
    "![image](https://user-images.githubusercontent.com/74717033/134632227-a7493d03-e19e-43b7-82ca-85574b3a5adf.png)\n",
    "\n",
    "---"
   ]
  },
  {
   "attachments": {},
   "cell_type": "markdown",
   "metadata": {},
   "source": [
    "## 클래스 관련성 척도 예시 : F-통계량\n",
    "---\n",
    "\n",
    "- ANOVA에서 사용하는 통계량, `집단 간 평균 차이가 있는지 측정`하기위한 통계량\n",
    "\n",
    "![image](https://user-images.githubusercontent.com/74717033/134632245-fddf2bde-efd6-467e-b119-b6119cf78d4e.png)\n",
    "`($x$는 입력, $y$는 출력)`\n",
    "\n",
    "\n",
    "- x가 높은 F-통계량을 가질 때(좌측그림) : x1이 크면 A일 가능성이 높아지고, x1이 작으면 B일 가능성이 높아진다. (분류가 가능)\n",
    "\n",
    "- x가 낮은 F-통계량을 가질 때(우측 그림) : 클래스별로 x2값의 분포가 비슷하기 때문에 분류하기가 어렵다.\n",
    "\n",
    "- 이럴때 x1의 특징이 x2보다 더 좋은 특징이다 라고 판단한다."
   ]
  },
  {
   "attachments": {},
   "cell_type": "markdown",
   "metadata": {},
   "source": [
    "## 클래스 관련 척도 분류 표\n",
    "---\n",
    "\n",
    "![image](https://user-images.githubusercontent.com/74717033/134632267-1334b3fd-e4af-42c1-a45a-6eb4eb456d85.png)\n",
    "\n",
    "---\n",
    "- 클래스 관련성 척도는 특징과 라벨의 유형에 따라 선택해야 한다.<br>\n",
    "- 통계량의 수학적 이해를 하면 더 좋지만, 기본적으론 각 통계량이 의미하는 바를 이해 하는 게 우선이다.<br>\n",
    "    - 1) 위의 통계량들은 특징과 라벨이 서로 얼마나 독립적이지 않은지를 나타낸다.<br>\n",
    "    - 2) 또한, 얼마나 클래스와 관련이 있는지를 측정하는 지표이다.<br>\n",
    "    - 3) 그리고 특징 유형과 라벨 유형에 따라 사용되는 통계량이 다르다는 점을 인지하는게중요"
   ]
  },
  {
   "cell_type": "markdown",
   "metadata": {},
   "source": [
    "# 관련 함수 : sklearn.feature_selection.SelectKBest\n",
    "---\n",
    "\n",
    "**파라미터**\n",
    "- scoring_func : 클래스 관련성 측정 함수 (e.g : chi2, mutual_info_classif, f_regression 등 위의 척도 분류표 참조)<br>\n",
    "- k : 선택하는 특징의 개수<br>\n",
    "    - 양수만 가능하다.<br>\n",
    "    - 원래의 특징개수와 같거나 작아야 한다.<br>\n",
    "\n",
    "**주요 메서드**<br>\n",
    "- .fit, .transform, .fit_transform : 특징을 선택할때 사용<br>\n",
    "- .get_support() : 선택된 특징의 인덱스를 return (뽑힌특징은 1 =True, 뽑히지 않은 특징은 0 = False) 인 bool type\n",
    "\n",
    "**주요 속성** : scoring_func(X,Y) 의 결과물과 동일하다.<br>\n",
    "- scores_ : scoring_func로 측정한 각 특징별 점수<br>\n",
    "- pvalues_ : scoring_func 로 측정한 특징별 p-value (1에 가까울수록 독립적, 0에 가까울 수록 라벨과 관련서이 높다.)"
   ]
  }
 ],
 "metadata": {
  "kernelspec": {
   "display_name": "Python 3 (ipykernel)",
   "language": "python",
   "name": "python3"
  },
  "language_info": {
   "codemirror_mode": {
    "name": "ipython",
    "version": 3
   },
   "file_extension": ".py",
   "mimetype": "text/x-python",
   "name": "python",
   "nbconvert_exporter": "python",
   "pygments_lexer": "ipython3",
   "version": "3.8.5"
  },
  "toc": {
   "base_numbering": 1,
   "nav_menu": {},
   "number_sections": true,
   "sideBar": true,
   "skip_h1_title": false,
   "title_cell": "Table of Contents",
   "title_sidebar": "Contents",
   "toc_cell": false,
   "toc_position": {},
   "toc_section_display": true,
   "toc_window_display": false
  },
  "varInspector": {
   "cols": {
    "lenName": 16,
    "lenType": 16,
    "lenVar": 40
   },
   "kernels_config": {
    "python": {
     "delete_cmd_postfix": "",
     "delete_cmd_prefix": "del ",
     "library": "var_list.py",
     "varRefreshCmd": "print(var_dic_list())"
    },
    "r": {
     "delete_cmd_postfix": ") ",
     "delete_cmd_prefix": "rm(",
     "library": "var_list.r",
     "varRefreshCmd": "cat(var_dic_list()) "
    }
   },
   "types_to_exclude": [
    "module",
    "function",
    "builtin_function_or_method",
    "instance",
    "_Feature"
   ],
   "window_display": false
  }
 },
 "nbformat": 4,
 "nbformat_minor": 2
}
