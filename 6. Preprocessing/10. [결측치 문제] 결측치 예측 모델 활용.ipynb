{
 "cells": [
  {
   "attachments": {},
   "cell_type": "markdown",
   "metadata": {},
   "source": [
    "# 결측치 예측 모델\n",
    "---\n",
    "- 결측이 발생하지 않은 컬럼을 바탕으로 결측치를 예측하는 모델을 학습해서 활용하는 방법\n",
    "- 즉, 결측치가 발생한 컬럼을 새로운 label로 보고, 다른 컬럼들을 feature로 봐서 모델을 만들어 예측하여 결측치를 대체하는 방법\n",
    "\n",
    "\n",
    "![image](https://user-images.githubusercontent.com/74717033/134630421-089c091b-ae43-4fd8-b334-ae0683481470.png)"
   ]
  },
  {
   "cell_type": "markdown",
   "metadata": {},
   "source": [
    "- V2와 동시에 결측이 발생한 V3 ~ V5는 drop\n",
    "- 살아남은 V1과 V2를 바탕으로 모델 학습 -> 결측치 예측하여 채워넣는 방식"
   ]
  },
  {
   "attachments": {},
   "cell_type": "markdown",
   "metadata": {},
   "source": [
    "## 결측치 모델의 주의사항\n",
    "---\n",
    "\n",
    "- 대부분의 상황에서 활용이 가능하지만, 사용 조건과 단점을 고려해야 한다.\n",
    "- 사용 조건 및 단점\n",
    "\n",
    "\n",
    "![image](https://user-images.githubusercontent.com/74717033/134630448-c90998ca-12fb-4433-8f48-59ac801ffcdb.png)"
   ]
  },
  {
   "attachments": {},
   "cell_type": "markdown",
   "metadata": {},
   "source": [
    "# 관련 문법 : sklearn.impute.KNNImputer\n",
    "---\n",
    "- 결측치가 아닌 값만을 사용하여 이웃을 구한 뒤, 이웃인 값들의 대표값으로 결측을 대체하는 결측치 예측 모델\n",
    "\n",
    "파라미터\n",
    "- n_neighbors : 이웃의 수 (너무 값이 작으면 결측 대체가 정상적으로 이뤄지지 않는다. 보통 5를 많이 사용한다.)\n",
    "---\n",
    "![image](https://user-images.githubusercontent.com/74717033/134630468-db2ba9bb-7dfb-4701-8fb4-11f053322c86.png)"
   ]
  },
  {
   "cell_type": "markdown",
   "metadata": {},
   "source": [
    "- 1) 결측이 발생한 index a, c, d에 대한 이웃을 찾는다.\n",
    "- 2) 이웃을 찾는 방식 : \n",
    "    - c의 이웃값 찾기 => index c, d에서 결측이 없는 V2의 값으로 판단 -> V2의 index d와 c의 거리 : (7-5) = 2\n",
    "    - b의 이웃값 찾기 => index b, d에서 결측이 없는 V2의 값으로 판단 -> V2의 index d와 b의 거리 : (7-4) = 3\n",
    "    - d의 이웃값 찾기 => index d, e에서 결측이 없는 V2의 값으로 판단 -> V2의 index d와 e의 거리 : (7-2) = 5\n",
    "- 3) 이웃값들의 대표값 찾기\n",
    "    - d의 이웃값은 c와 b이다. 하지만 c는 NaN이므로 대표값이 되는 b의 2가 입력된다.\n",
    "    - c의 이웃값은 b와 e이다. 따라서 2와 3의 평균값인 2.5가 입력된다."
   ]
  },
  {
   "cell_type": "code",
   "execution_count": 1,
   "metadata": {
    "ExecuteTime": {
     "end_time": "2021-09-24T06:47:34.877038Z",
     "start_time": "2021-09-24T06:47:34.158746Z"
    }
   },
   "outputs": [],
   "source": [
    "import os\n",
    "import pandas as pd\n",
    "\n",
    "# 불필요한 경고 표시 생략\n",
    "import warnings\n",
    "warnings.filterwarnings(action = 'ignore')\n",
    "\n",
    "a=%pwd # 현재 경로 a에 할당\n",
    "os.chdir(a) # 파일 로드 경로 설정"
   ]
  },
  {
   "cell_type": "code",
   "execution_count": 2,
   "metadata": {
    "ExecuteTime": {
     "end_time": "2021-09-24T06:47:34.891994Z",
     "start_time": "2021-09-24T06:47:34.880001Z"
    }
   },
   "outputs": [],
   "source": [
    "df = pd.read_csv(\"mammographic.csv\")"
   ]
  },
  {
   "cell_type": "code",
   "execution_count": 3,
   "metadata": {
    "ExecuteTime": {
     "end_time": "2021-09-24T06:47:34.906822Z",
     "start_time": "2021-09-24T06:47:34.893990Z"
    }
   },
   "outputs": [],
   "source": [
    "# 특징과 라벨 분리\n",
    "X = df.drop('Output', axis = 1)\n",
    "Y = df['Output']"
   ]
  },
  {
   "cell_type": "code",
   "execution_count": 4,
   "metadata": {
    "ExecuteTime": {
     "end_time": "2021-09-24T06:47:35.621586Z",
     "start_time": "2021-09-24T06:47:34.908817Z"
    }
   },
   "outputs": [],
   "source": [
    "# 학습 데이터와 평가 데이터 분리\n",
    "from sklearn.model_selection import train_test_split\n",
    "Train_X, Test_X, Train_Y, Test_Y = train_test_split(X, Y)"
   ]
  },
  {
   "cell_type": "code",
   "execution_count": 5,
   "metadata": {
    "ExecuteTime": {
     "end_time": "2021-09-24T06:47:35.636546Z",
     "start_time": "2021-09-24T06:47:35.623581Z"
    }
   },
   "outputs": [
    {
     "data": {
      "text/plain": [
       "BI-RADS    0.002778\n",
       "Age        0.005556\n",
       "Shape      0.037500\n",
       "Margin     0.054167\n",
       "Density    0.076389\n",
       "dtype: float64"
      ]
     },
     "execution_count": 5,
     "metadata": {},
     "output_type": "execute_result"
    }
   ],
   "source": [
    "# 열별 결측치 비율 확인 => 그리 높지 않음을 확인\n",
    "Train_X.isnull().sum() / len(Train_X)"
   ]
  },
  {
   "cell_type": "code",
   "execution_count": 6,
   "metadata": {
    "ExecuteTime": {
     "end_time": "2021-09-24T06:47:35.652504Z",
     "start_time": "2021-09-24T06:47:35.641533Z"
    }
   },
   "outputs": [
    {
     "data": {
      "text/plain": [
       "BI-RADS    0.445831\n",
       "Age        0.400667\n",
       "Shape      0.514938\n",
       "Margin     0.532366\n",
       "Density    0.242832\n",
       "dtype: float64"
      ]
     },
     "execution_count": 6,
     "metadata": {},
     "output_type": "execute_result"
    }
   ],
   "source": [
    "# 특징 간 상관 계수 확인 => 평균적으로 약 40 ~ 50%로 매우 높음을 확인\n",
    "Train_X.corr().sum() / len(Train_X.columns)"
   ]
  },
  {
   "cell_type": "markdown",
   "metadata": {},
   "source": [
    "# KNN Imputer"
   ]
  },
  {
   "cell_type": "code",
   "execution_count": 7,
   "metadata": {
    "ExecuteTime": {
     "end_time": "2021-09-24T06:47:35.790463Z",
     "start_time": "2021-09-24T06:47:35.655390Z"
    }
   },
   "outputs": [],
   "source": [
    "# KNN Imputer 모델 생성\n",
    "from sklearn.impute import KNNImputer\n",
    "KI = KNNImputer(n_neighbors = 5)\n",
    "\n",
    "# KNN Imputer 학습\n",
    "KI.fit(Train_X)\n",
    "\n",
    "# 결측 대체\n",
    "Train_X = pd.DataFrame(KI.transform(Train_X), columns = Train_X.columns)\n",
    "Test_X = pd.DataFrame(KI.transform(Test_X), columns = Test_X.columns)"
   ]
  },
  {
   "cell_type": "code",
   "execution_count": 8,
   "metadata": {
    "ExecuteTime": {
     "end_time": "2021-09-24T06:47:35.805423Z",
     "start_time": "2021-09-24T06:47:35.792457Z"
    }
   },
   "outputs": [
    {
     "data": {
      "text/plain": [
       "BI-RADS    0.0\n",
       "Age        0.0\n",
       "Shape      0.0\n",
       "Margin     0.0\n",
       "Density    0.0\n",
       "dtype: float64"
      ]
     },
     "execution_count": 8,
     "metadata": {},
     "output_type": "execute_result"
    }
   ],
   "source": [
    "Train_X.isnull().sum() / len(Train_X)"
   ]
  },
  {
   "cell_type": "code",
   "execution_count": 9,
   "metadata": {
    "ExecuteTime": {
     "end_time": "2021-09-24T06:47:35.820383Z",
     "start_time": "2021-09-24T06:47:35.807418Z"
    }
   },
   "outputs": [
    {
     "data": {
      "text/plain": [
       "BI-RADS    0.0\n",
       "Age        0.0\n",
       "Shape      0.0\n",
       "Margin     0.0\n",
       "Density    0.0\n",
       "dtype: float64"
      ]
     },
     "execution_count": 9,
     "metadata": {},
     "output_type": "execute_result"
    }
   ],
   "source": [
    "Test_X.isnull().sum() / len(Test_X)"
   ]
  }
 ],
 "metadata": {
  "kernelspec": {
   "display_name": "Python 3 (ipykernel)",
   "language": "python",
   "name": "python3"
  },
  "language_info": {
   "codemirror_mode": {
    "name": "ipython",
    "version": 3
   },
   "file_extension": ".py",
   "mimetype": "text/x-python",
   "name": "python",
   "nbconvert_exporter": "python",
   "pygments_lexer": "ipython3",
   "version": "3.8.5"
  },
  "toc": {
   "base_numbering": 1,
   "nav_menu": {},
   "number_sections": true,
   "sideBar": true,
   "skip_h1_title": false,
   "title_cell": "Table of Contents",
   "title_sidebar": "Contents",
   "toc_cell": false,
   "toc_position": {},
   "toc_section_display": true,
   "toc_window_display": true
  },
  "varInspector": {
   "cols": {
    "lenName": 16,
    "lenType": 16,
    "lenVar": 40
   },
   "kernels_config": {
    "python": {
     "delete_cmd_postfix": "",
     "delete_cmd_prefix": "del ",
     "library": "var_list.py",
     "varRefreshCmd": "print(var_dic_list())"
    },
    "r": {
     "delete_cmd_postfix": ") ",
     "delete_cmd_prefix": "rm(",
     "library": "var_list.r",
     "varRefreshCmd": "cat(var_dic_list()) "
    }
   },
   "types_to_exclude": [
    "module",
    "function",
    "builtin_function_or_method",
    "instance",
    "_Feature"
   ],
   "window_display": false
  }
 },
 "nbformat": 4,
 "nbformat_minor": 2
}
