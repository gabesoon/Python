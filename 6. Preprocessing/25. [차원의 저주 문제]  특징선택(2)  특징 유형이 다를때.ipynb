{
 "cells": [
  {
   "cell_type": "markdown",
   "metadata": {},
   "source": [
    "# 특징 유형이 다른 경우의 특징 선택"
   ]
  },
  {
   "cell_type": "code",
   "execution_count": 1,
   "metadata": {
    "ExecuteTime": {
     "end_time": "2021-09-24T07:04:06.827413Z",
     "start_time": "2021-09-24T07:04:06.194317Z"
    }
   },
   "outputs": [],
   "source": [
    "import os\n",
    "import pandas as pd\n",
    "\n",
    "# 불필요한 경고 표시 생략\n",
    "import warnings\n",
    "warnings.filterwarnings(action = 'ignore')\n",
    "\n",
    "a=%pwd # 현재 경로 a에 할당\n",
    "os.chdir(a) # 파일 로드 경로 설정"
   ]
  },
  {
   "cell_type": "markdown",
   "metadata": {},
   "source": [
    "# 데이터 로드 및 모델 성능 확인"
   ]
  },
  {
   "cell_type": "markdown",
   "metadata": {},
   "source": [
    "특징에 연속형 & 이진형이 섞여있는 샘플 데이터"
   ]
  },
  {
   "cell_type": "code",
   "execution_count": 2,
   "metadata": {
    "ExecuteTime": {
     "end_time": "2021-09-24T07:04:06.860323Z",
     "start_time": "2021-09-24T07:04:06.829405Z"
    }
   },
   "outputs": [
    {
     "data": {
      "text/html": [
       "<div>\n",
       "<style scoped>\n",
       "    .dataframe tbody tr th:only-of-type {\n",
       "        vertical-align: middle;\n",
       "    }\n",
       "\n",
       "    .dataframe tbody tr th {\n",
       "        vertical-align: top;\n",
       "    }\n",
       "\n",
       "    .dataframe thead th {\n",
       "        text-align: right;\n",
       "    }\n",
       "</style>\n",
       "<table border=\"1\" class=\"dataframe\">\n",
       "  <thead>\n",
       "    <tr style=\"text-align: right;\">\n",
       "      <th></th>\n",
       "      <th>A1</th>\n",
       "      <th>A2</th>\n",
       "      <th>A3</th>\n",
       "      <th>A4</th>\n",
       "      <th>A5</th>\n",
       "      <th>A6</th>\n",
       "      <th>A7</th>\n",
       "      <th>A8</th>\n",
       "      <th>A9</th>\n",
       "      <th>A10</th>\n",
       "      <th>A11</th>\n",
       "      <th>A12</th>\n",
       "      <th>A13</th>\n",
       "      <th>A14</th>\n",
       "      <th>Class</th>\n",
       "    </tr>\n",
       "  </thead>\n",
       "  <tbody>\n",
       "    <tr>\n",
       "      <th>0</th>\n",
       "      <td>1</td>\n",
       "      <td>2208</td>\n",
       "      <td>1146</td>\n",
       "      <td>2</td>\n",
       "      <td>4</td>\n",
       "      <td>4</td>\n",
       "      <td>1585</td>\n",
       "      <td>0</td>\n",
       "      <td>0</td>\n",
       "      <td>0</td>\n",
       "      <td>1</td>\n",
       "      <td>2</td>\n",
       "      <td>100</td>\n",
       "      <td>1213</td>\n",
       "      <td>0</td>\n",
       "    </tr>\n",
       "    <tr>\n",
       "      <th>1</th>\n",
       "      <td>0</td>\n",
       "      <td>2267</td>\n",
       "      <td>7</td>\n",
       "      <td>2</td>\n",
       "      <td>8</td>\n",
       "      <td>4</td>\n",
       "      <td>165</td>\n",
       "      <td>0</td>\n",
       "      <td>0</td>\n",
       "      <td>0</td>\n",
       "      <td>0</td>\n",
       "      <td>2</td>\n",
       "      <td>160</td>\n",
       "      <td>1</td>\n",
       "      <td>0</td>\n",
       "    </tr>\n",
       "    <tr>\n",
       "      <th>2</th>\n",
       "      <td>0</td>\n",
       "      <td>2958</td>\n",
       "      <td>175</td>\n",
       "      <td>1</td>\n",
       "      <td>4</td>\n",
       "      <td>4</td>\n",
       "      <td>125</td>\n",
       "      <td>0</td>\n",
       "      <td>0</td>\n",
       "      <td>0</td>\n",
       "      <td>1</td>\n",
       "      <td>2</td>\n",
       "      <td>280</td>\n",
       "      <td>1</td>\n",
       "      <td>0</td>\n",
       "    </tr>\n",
       "    <tr>\n",
       "      <th>3</th>\n",
       "      <td>0</td>\n",
       "      <td>2167</td>\n",
       "      <td>115</td>\n",
       "      <td>1</td>\n",
       "      <td>5</td>\n",
       "      <td>3</td>\n",
       "      <td>0</td>\n",
       "      <td>1</td>\n",
       "      <td>1</td>\n",
       "      <td>11</td>\n",
       "      <td>1</td>\n",
       "      <td>2</td>\n",
       "      <td>0</td>\n",
       "      <td>1</td>\n",
       "      <td>1</td>\n",
       "    </tr>\n",
       "    <tr>\n",
       "      <th>4</th>\n",
       "      <td>1</td>\n",
       "      <td>2017</td>\n",
       "      <td>817</td>\n",
       "      <td>2</td>\n",
       "      <td>6</td>\n",
       "      <td>4</td>\n",
       "      <td>196</td>\n",
       "      <td>1</td>\n",
       "      <td>1</td>\n",
       "      <td>14</td>\n",
       "      <td>0</td>\n",
       "      <td>2</td>\n",
       "      <td>60</td>\n",
       "      <td>159</td>\n",
       "      <td>1</td>\n",
       "    </tr>\n",
       "  </tbody>\n",
       "</table>\n",
       "</div>"
      ],
      "text/plain": [
       "   A1    A2    A3   A4   A5   A6    A7   A8   A9   A10   A11   A12   A13  \\\n",
       "0   1  2208  1146    2    4    4  1585    0    0     0     1     2   100   \n",
       "1   0  2267     7    2    8    4   165    0    0     0     0     2   160   \n",
       "2   0  2958   175    1    4    4   125    0    0     0     1     2   280   \n",
       "3   0  2167   115    1    5    3     0    1    1    11     1     2     0   \n",
       "4   1  2017   817    2    6    4   196    1    1    14     0     2    60   \n",
       "\n",
       "    A14  Class  \n",
       "0  1213      0  \n",
       "1     1      0  \n",
       "2     1      0  \n",
       "3     1      1  \n",
       "4   159      1  "
      ]
     },
     "execution_count": 2,
     "metadata": {},
     "output_type": "execute_result"
    }
   ],
   "source": [
    "df = pd.read_csv(\"australian.csv\")\n",
    "df.head()"
   ]
  },
  {
   "cell_type": "code",
   "execution_count": 3,
   "metadata": {
    "ExecuteTime": {
     "end_time": "2021-09-24T07:04:06.877278Z",
     "start_time": "2021-09-24T07:04:06.863315Z"
    }
   },
   "outputs": [
    {
     "name": "stdout",
     "output_type": "stream",
     "text": [
      "<class 'pandas.core.frame.DataFrame'>\n",
      "RangeIndex: 690 entries, 0 to 689\n",
      "Data columns (total 15 columns):\n",
      " #   Column  Non-Null Count  Dtype\n",
      "---  ------  --------------  -----\n",
      " 0   A1      690 non-null    int64\n",
      " 1    A2     690 non-null    int64\n",
      " 2    A3     690 non-null    int64\n",
      " 3    A4     690 non-null    int64\n",
      " 4    A5     690 non-null    int64\n",
      " 5    A6     690 non-null    int64\n",
      " 6    A7     690 non-null    int64\n",
      " 7    A8     690 non-null    int64\n",
      " 8    A9     690 non-null    int64\n",
      " 9    A10    690 non-null    int64\n",
      " 10   A11    690 non-null    int64\n",
      " 11   A12    690 non-null    int64\n",
      " 12   A13    690 non-null    int64\n",
      " 13   A14    690 non-null    int64\n",
      " 14  Class   690 non-null    int64\n",
      "dtypes: int64(15)\n",
      "memory usage: 81.0 KB\n"
     ]
    }
   ],
   "source": [
    "df.info()"
   ]
  },
  {
   "cell_type": "code",
   "execution_count": 4,
   "metadata": {
    "ExecuteTime": {
     "end_time": "2021-09-24T07:04:06.888257Z",
     "start_time": "2021-09-24T07:04:06.882265Z"
    }
   },
   "outputs": [],
   "source": [
    "# 특징과 라벨 분리\n",
    "X = df.drop('Class', axis = 1)\n",
    "Y = df['Class']"
   ]
  },
  {
   "cell_type": "code",
   "execution_count": 5,
   "metadata": {
    "ExecuteTime": {
     "end_time": "2021-09-24T07:04:07.514686Z",
     "start_time": "2021-09-24T07:04:06.891240Z"
    }
   },
   "outputs": [],
   "source": [
    "# 학습 데이터와 평가 데이터 분리\n",
    "from sklearn.model_selection import train_test_split\n",
    "Train_X, Test_X, Train_Y, Test_Y = train_test_split(X, Y)"
   ]
  },
  {
   "cell_type": "code",
   "execution_count": 6,
   "metadata": {
    "ExecuteTime": {
     "end_time": "2021-09-24T07:04:07.522584Z",
     "start_time": "2021-09-24T07:04:07.516629Z"
    }
   },
   "outputs": [
    {
     "data": {
      "text/plain": [
       "(517, 14)"
      ]
     },
     "execution_count": 6,
     "metadata": {},
     "output_type": "execute_result"
    }
   ],
   "source": [
    "Train_X.shape # 샘플(517) 대비 특징(14)이 약간 더 많은 정도"
   ]
  },
  {
   "cell_type": "markdown",
   "metadata": {},
   "source": [
    "## 모델 성능 측정 (모든 특징 사용)"
   ]
  },
  {
   "cell_type": "code",
   "execution_count": 7,
   "metadata": {
    "ExecuteTime": {
     "end_time": "2021-09-24T07:04:07.628302Z",
     "start_time": "2021-09-24T07:04:07.524578Z"
    }
   },
   "outputs": [
    {
     "name": "stdout",
     "output_type": "stream",
     "text": [
      "0.6013071895424835\n"
     ]
    }
   ],
   "source": [
    "# 특징 선택 전 성능 확인 with KNN\n",
    "from sklearn.neighbors import KNeighborsClassifier as KNN\n",
    "model = KNN().fit(Train_X, Train_Y)\n",
    "pred_Y = model.predict(Test_X)\n",
    "\n",
    "from sklearn.metrics import f1_score\n",
    "print(f1_score(Test_Y, pred_Y))"
   ]
  },
  {
   "cell_type": "markdown",
   "metadata": {},
   "source": [
    "연속형 & 이진형 특징 구분"
   ]
  },
  {
   "cell_type": "code",
   "execution_count": 8,
   "metadata": {
    "ExecuteTime": {
     "end_time": "2021-09-24T07:04:07.639271Z",
     "start_time": "2021-09-24T07:04:07.631294Z"
    }
   },
   "outputs": [],
   "source": [
    "# 유니크한 값의 개수를 바탕으로 연속형과 이진형 변수 구분\n",
    "# 실제로는 dtype / 상태공간을 확인할 필요 있음\n",
    "\n",
    "continuous_cols = [col for col in Train_X.columns if len(Train_X[col].unique()) > 3] # unique값이 3개이상인 feature\n",
    "binary_cols = [col for col in Train_X.columns if len(Train_X[col].unique()) <= 3] # unique값이 3개이거나 그 이하인 feature"
   ]
  },
  {
   "attachments": {},
   "cell_type": "markdown",
   "metadata": {},
   "source": [
    "![image](https://user-images.githubusercontent.com/74717033/134632384-fffb3524-6c0c-47bb-ac8c-7cc200cbae4b.png)"
   ]
  },
  {
   "cell_type": "code",
   "execution_count": 9,
   "metadata": {
    "ExecuteTime": {
     "end_time": "2021-09-24T07:04:07.663254Z",
     "start_time": "2021-09-24T07:04:07.641296Z"
    }
   },
   "outputs": [],
   "source": [
    "# 연속형 변수에 대해서는 f_classif을, 이진형 변수에 대해서는 chi2를 적용\n",
    "from sklearn.feature_selection import *\n",
    "\n",
    "\n",
    "# 서로 다른 두 통계량 기준을 비교하기 어려움 -> p-value로 측정\n",
    "# f_regression(X, Y) => 결과값 : (statistics, p-value) \n",
    "continous_cols_pvals = f_classif(Train_X[continuous_cols], Train_Y)[1] #연속형은 f_classif, [1]이 p-value\n",
    "binary_cols_pvals = chi2(Train_X[binary_cols], Train_Y)[1] # 이진형은 chi2, [1]이 p-value"
   ]
  },
  {
   "cell_type": "code",
   "execution_count": 10,
   "metadata": {
    "ExecuteTime": {
     "end_time": "2021-09-24T07:04:07.670189Z",
     "start_time": "2021-09-24T07:04:07.664205Z"
    }
   },
   "outputs": [],
   "source": [
    "# 각각을 Series로 변환 (value: pvalue, index: colum name)\n",
    "cont_pvals = pd.Series(continous_cols_pvals, index = continuous_cols)\n",
    "binary_pvals = pd.Series(binary_cols_pvals, index = binary_cols)"
   ]
  },
  {
   "cell_type": "code",
   "execution_count": 11,
   "metadata": {
    "ExecuteTime": {
     "end_time": "2021-09-24T07:04:07.680163Z",
     "start_time": "2021-09-24T07:04:07.674179Z"
    }
   },
   "outputs": [],
   "source": [
    "# cont_pvals과 binary_pvals을 concat\n",
    "pvals = pd.concat([cont_pvals, binary_pvals])\n",
    "pvals.sort_values(ascending = True, inplace = True) # 오름차순으로 정렬 (앞에 나올수록 좋은 특징->p-value)"
   ]
  },
  {
   "cell_type": "code",
   "execution_count": 12,
   "metadata": {
    "ExecuteTime": {
     "end_time": "2021-09-24T07:04:07.689138Z",
     "start_time": "2021-09-24T07:04:07.682157Z"
    }
   },
   "outputs": [],
   "source": [
    "# 특징 선택 \n",
    "k = 10\n",
    "\n",
    "# p-value를 k값 의 개수 만큼 (1~10위) 만 추출\n",
    "s_Train_X = Train_X[pvals.iloc[:k].index]  \n",
    "s_Test_X = Test_X[pvals.iloc[:k].index] # 결국 필요한 것은 컬럼명! -> index로 가져옴"
   ]
  },
  {
   "cell_type": "markdown",
   "metadata": {},
   "source": [
    "확인"
   ]
  },
  {
   "cell_type": "code",
   "execution_count": 13,
   "metadata": {
    "ExecuteTime": {
     "end_time": "2021-09-24T07:04:07.699142Z",
     "start_time": "2021-09-24T07:04:07.691133Z"
    }
   },
   "outputs": [
    {
     "data": {
      "text/plain": [
       "Index([' A8'], dtype='object')"
      ]
     },
     "execution_count": 13,
     "metadata": {},
     "output_type": "execute_result"
    }
   ],
   "source": [
    "pvals.iloc[:1].index"
   ]
  },
  {
   "cell_type": "code",
   "execution_count": 14,
   "metadata": {
    "ExecuteTime": {
     "end_time": "2021-09-24T07:04:07.714101Z",
     "start_time": "2021-09-24T07:04:07.701107Z"
    }
   },
   "outputs": [
    {
     "data": {
      "text/html": [
       "<div>\n",
       "<style scoped>\n",
       "    .dataframe tbody tr th:only-of-type {\n",
       "        vertical-align: middle;\n",
       "    }\n",
       "\n",
       "    .dataframe tbody tr th {\n",
       "        vertical-align: top;\n",
       "    }\n",
       "\n",
       "    .dataframe thead th {\n",
       "        text-align: right;\n",
       "    }\n",
       "</style>\n",
       "<table border=\"1\" class=\"dataframe\">\n",
       "  <thead>\n",
       "    <tr style=\"text-align: right;\">\n",
       "      <th></th>\n",
       "      <th>A8</th>\n",
       "    </tr>\n",
       "  </thead>\n",
       "  <tbody>\n",
       "    <tr>\n",
       "      <th>486</th>\n",
       "      <td>1</td>\n",
       "    </tr>\n",
       "    <tr>\n",
       "      <th>450</th>\n",
       "      <td>0</td>\n",
       "    </tr>\n",
       "    <tr>\n",
       "      <th>487</th>\n",
       "      <td>1</td>\n",
       "    </tr>\n",
       "    <tr>\n",
       "      <th>47</th>\n",
       "      <td>0</td>\n",
       "    </tr>\n",
       "    <tr>\n",
       "      <th>451</th>\n",
       "      <td>1</td>\n",
       "    </tr>\n",
       "    <tr>\n",
       "      <th>...</th>\n",
       "      <td>...</td>\n",
       "    </tr>\n",
       "    <tr>\n",
       "      <th>544</th>\n",
       "      <td>1</td>\n",
       "    </tr>\n",
       "    <tr>\n",
       "      <th>620</th>\n",
       "      <td>0</td>\n",
       "    </tr>\n",
       "    <tr>\n",
       "      <th>600</th>\n",
       "      <td>0</td>\n",
       "    </tr>\n",
       "    <tr>\n",
       "      <th>402</th>\n",
       "      <td>0</td>\n",
       "    </tr>\n",
       "    <tr>\n",
       "      <th>139</th>\n",
       "      <td>1</td>\n",
       "    </tr>\n",
       "  </tbody>\n",
       "</table>\n",
       "<p>517 rows × 1 columns</p>\n",
       "</div>"
      ],
      "text/plain": [
       "      A8\n",
       "486    1\n",
       "450    0\n",
       "487    1\n",
       "47     0\n",
       "451    1\n",
       "..   ...\n",
       "544    1\n",
       "620    0\n",
       "600    0\n",
       "402    0\n",
       "139    1\n",
       "\n",
       "[517 rows x 1 columns]"
      ]
     },
     "execution_count": 14,
     "metadata": {},
     "output_type": "execute_result"
    }
   ],
   "source": [
    "Train_X[pvals.iloc[:1].index]"
   ]
  },
  {
   "cell_type": "code",
   "execution_count": 15,
   "metadata": {
    "ExecuteTime": {
     "end_time": "2021-09-24T07:04:07.736042Z",
     "start_time": "2021-09-24T07:04:07.716066Z"
    }
   },
   "outputs": [
    {
     "name": "stdout",
     "output_type": "stream",
     "text": [
      "0.5906040268456376\n"
     ]
    }
   ],
   "source": [
    "# 특징 선택 후 성능 확인\n",
    "from sklearn.neighbors import KNeighborsClassifier as KNN\n",
    "model = KNN().fit(s_Train_X, Train_Y)\n",
    "pred_Y = model.predict(s_Test_X)\n",
    "\n",
    "from sklearn.metrics import f1_score\n",
    "print(f1_score(Test_Y, pred_Y))"
   ]
  }
 ],
 "metadata": {
  "kernelspec": {
   "display_name": "Python 3 (ipykernel)",
   "language": "python",
   "name": "python3"
  },
  "language_info": {
   "codemirror_mode": {
    "name": "ipython",
    "version": 3
   },
   "file_extension": ".py",
   "mimetype": "text/x-python",
   "name": "python",
   "nbconvert_exporter": "python",
   "pygments_lexer": "ipython3",
   "version": "3.8.5"
  },
  "toc": {
   "base_numbering": 1,
   "nav_menu": {},
   "number_sections": true,
   "sideBar": true,
   "skip_h1_title": false,
   "title_cell": "Table of Contents",
   "title_sidebar": "Contents",
   "toc_cell": false,
   "toc_position": {
    "height": "calc(100% - 180px)",
    "left": "10px",
    "top": "150px",
    "width": "274px"
   },
   "toc_section_display": true,
   "toc_window_display": true
  },
  "varInspector": {
   "cols": {
    "lenName": 16,
    "lenType": 16,
    "lenVar": 40
   },
   "kernels_config": {
    "python": {
     "delete_cmd_postfix": "",
     "delete_cmd_prefix": "del ",
     "library": "var_list.py",
     "varRefreshCmd": "print(var_dic_list())"
    },
    "r": {
     "delete_cmd_postfix": ") ",
     "delete_cmd_prefix": "rm(",
     "library": "var_list.r",
     "varRefreshCmd": "cat(var_dic_list()) "
    }
   },
   "types_to_exclude": [
    "module",
    "function",
    "builtin_function_or_method",
    "instance",
    "_Feature"
   ],
   "window_display": false
  }
 },
 "nbformat": 4,
 "nbformat_minor": 2
}
