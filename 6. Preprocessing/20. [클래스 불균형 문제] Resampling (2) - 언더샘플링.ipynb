{
 "cells": [
  {
   "attachments": {},
   "cell_type": "markdown",
   "metadata": {},
   "source": [
    "# 대표적인 언더샘플링 알고리즘 : NearMiss\n",
    "---\n",
    "- 가장 가까운 n개의 소수 클래스 샘플까지의 `평균 거리가 짧은` 다수 클래스 샘플을 순서대로 제거하는 방식\n",
    "    - 소수 클래스 샘플까지의 평균거리가 짧다 = 가깝다. = 해당 샘플이 결정 경계에 있다.\n",
    "    - 즉, 결정 경계에 위치한 샘플을 파악하기 위해 소수 클래스 샘플까지의 평균거리를 구하는 것이다.\n",
    "\n",
    "- 이론상으로는 가장 가까운 n개의 소수라고 한다. 하지만 실제로는 n을 따로 설정하지 않는다.<br><br>\n",
    "    - 보통은 `n = 소수 클래스 샘플의 수` 로 설정한다.\n",
    "\n",
    "\n",
    "![image](https://user-images.githubusercontent.com/74717033/134631518-89f67fd6-5bb9-439f-86bd-dd7f769c2bc5.png)"
   ]
  },
  {
   "cell_type": "markdown",
   "metadata": {},
   "source": [
    "- 평균 거리라고는 하지만, 실제로는 대상 클래스 샘플의 수는 모두 동일하게 n개이다.<br><br>\n",
    "- 따라서 평균이 아니라 각 거리의 합이어도 결과는 같다."
   ]
  },
  {
   "cell_type": "markdown",
   "metadata": {},
   "source": [
    "# 관련 문법 : imblearn.under_sampling.NearMiss\n",
    "---\n",
    "\n",
    "**파라미터**\n",
    "- sampling_strategy : 입력하지 않으면 1:1 비율이 맞춰질대까지 샘플을 생성. 사전 형태로 입력하여 클래스별로 생성하는 샘플의 수를 조절할 수도 있다.\n",
    "- n_neighbors : 평균 거리를 구하는 소수 클래스의 샘플 수\n",
    "- version : NearMiss의 version. \n",
    "    - version은 1, 2, 3이 존재한다. 하지만 **가장 보편적으로 쓰는 version은 2이다.**<br><br>\n",
    "    - version을 1로 설정하면 위의 이론 설명때처럼 n값(소수 클래스 샘플의 수) 를 지정하는 파라미터가 하나 더 늘어난다.<br><br>\n",
    "    - **version을 2로 설정하면 모든 소수 클래스 샘플 까지의 평균 거리를 사용**한다.<br><br>\n",
    "    - 즉, 어차피 보편적으로 사용하는 방식은 `n = 소수 클래스 샘플의 수` 이므로 파라미터를 늘릴 필요없이 version 2를 사용하는 것이 효율적인 코딩이 될 것이다.<br><br>\n",
    "\n",
    "**주요 메서드**\n",
    "- .fit_sample(X,Y) : X와 Y에 대해서 NearMiss를 적용한 결과를 ndarray 형태로 return\n",
    "    - 일반적인 sklearn의 함수처럼  fit과 sample이 따로 있지 않고 하나의 메서드로 적용된다.\n",
    "    - Test data에는 적용하면 안되고, 할 필요도 없기 때문 (메서드 하나로 바로 fit하여 sample을 return)"
   ]
  },
  {
   "cell_type": "code",
   "execution_count": 1,
   "metadata": {
    "ExecuteTime": {
     "end_time": "2021-09-24T06:56:38.150257Z",
     "start_time": "2021-09-24T06:56:37.398789Z"
    }
   },
   "outputs": [],
   "source": [
    "import os\n",
    "import pandas as pd\n",
    "\n",
    "# 불필요한 경고 표시 생략\n",
    "import warnings\n",
    "warnings.filterwarnings(action = 'ignore')\n",
    "\n",
    "a=%pwd # 현재 경로 a에 할당\n",
    "os.chdir(a) # 파일 로드 경로 설정"
   ]
  },
  {
   "cell_type": "markdown",
   "metadata": {},
   "source": [
    "웹페이지의 특정 부분이 text인지 image인지를 정리한 언더샘플링 실습용 데이터"
   ]
  },
  {
   "cell_type": "code",
   "execution_count": 2,
   "metadata": {
    "ExecuteTime": {
     "end_time": "2021-09-24T06:56:38.210097Z",
     "start_time": "2021-09-24T06:56:38.153250Z"
    }
   },
   "outputs": [
    {
     "data": {
      "text/html": [
       "<div>\n",
       "<style scoped>\n",
       "    .dataframe tbody tr th:only-of-type {\n",
       "        vertical-align: middle;\n",
       "    }\n",
       "\n",
       "    .dataframe tbody tr th {\n",
       "        vertical-align: top;\n",
       "    }\n",
       "\n",
       "    .dataframe thead th {\n",
       "        text-align: right;\n",
       "    }\n",
       "</style>\n",
       "<table border=\"1\" class=\"dataframe\">\n",
       "  <thead>\n",
       "    <tr style=\"text-align: right;\">\n",
       "      <th></th>\n",
       "      <th>Height</th>\n",
       "      <th>Lenght</th>\n",
       "      <th>Area</th>\n",
       "      <th>Eccen</th>\n",
       "      <th>P_black</th>\n",
       "      <th>P_and</th>\n",
       "      <th>Mean_tr</th>\n",
       "      <th>Blackpix</th>\n",
       "      <th>Blackand</th>\n",
       "      <th>Wb_trans</th>\n",
       "      <th>Class</th>\n",
       "    </tr>\n",
       "  </thead>\n",
       "  <tbody>\n",
       "    <tr>\n",
       "      <th>0</th>\n",
       "      <td>5</td>\n",
       "      <td>7</td>\n",
       "      <td>35</td>\n",
       "      <td>1.400</td>\n",
       "      <td>0.400</td>\n",
       "      <td>0.657</td>\n",
       "      <td>2.33</td>\n",
       "      <td>14</td>\n",
       "      <td>23</td>\n",
       "      <td>6</td>\n",
       "      <td>negative</td>\n",
       "    </tr>\n",
       "    <tr>\n",
       "      <th>1</th>\n",
       "      <td>6</td>\n",
       "      <td>7</td>\n",
       "      <td>42</td>\n",
       "      <td>1.167</td>\n",
       "      <td>0.429</td>\n",
       "      <td>0.881</td>\n",
       "      <td>3.60</td>\n",
       "      <td>18</td>\n",
       "      <td>37</td>\n",
       "      <td>5</td>\n",
       "      <td>negative</td>\n",
       "    </tr>\n",
       "    <tr>\n",
       "      <th>2</th>\n",
       "      <td>6</td>\n",
       "      <td>18</td>\n",
       "      <td>108</td>\n",
       "      <td>3.000</td>\n",
       "      <td>0.287</td>\n",
       "      <td>0.741</td>\n",
       "      <td>4.43</td>\n",
       "      <td>31</td>\n",
       "      <td>80</td>\n",
       "      <td>7</td>\n",
       "      <td>negative</td>\n",
       "    </tr>\n",
       "    <tr>\n",
       "      <th>3</th>\n",
       "      <td>5</td>\n",
       "      <td>7</td>\n",
       "      <td>35</td>\n",
       "      <td>1.400</td>\n",
       "      <td>0.371</td>\n",
       "      <td>0.743</td>\n",
       "      <td>4.33</td>\n",
       "      <td>13</td>\n",
       "      <td>26</td>\n",
       "      <td>3</td>\n",
       "      <td>negative</td>\n",
       "    </tr>\n",
       "    <tr>\n",
       "      <th>4</th>\n",
       "      <td>6</td>\n",
       "      <td>3</td>\n",
       "      <td>18</td>\n",
       "      <td>500.000</td>\n",
       "      <td>0.500</td>\n",
       "      <td>0.944</td>\n",
       "      <td>2.25</td>\n",
       "      <td>9</td>\n",
       "      <td>17</td>\n",
       "      <td>4</td>\n",
       "      <td>negative</td>\n",
       "    </tr>\n",
       "  </tbody>\n",
       "</table>\n",
       "</div>"
      ],
      "text/plain": [
       "   Height  Lenght  Area    Eccen  P_black  P_and  Mean_tr  Blackpix  Blackand  \\\n",
       "0       5       7    35    1.400    0.400  0.657     2.33        14        23   \n",
       "1       6       7    42    1.167    0.429  0.881     3.60        18        37   \n",
       "2       6      18   108    3.000    0.287  0.741     4.43        31        80   \n",
       "3       5       7    35    1.400    0.371  0.743     4.33        13        26   \n",
       "4       6       3    18  500.000    0.500  0.944     2.25         9        17   \n",
       "\n",
       "   Wb_trans     Class  \n",
       "0         6  negative  \n",
       "1         5  negative  \n",
       "2         7  negative  \n",
       "3         3  negative  \n",
       "4         4  negative  "
      ]
     },
     "execution_count": 2,
     "metadata": {},
     "output_type": "execute_result"
    }
   ],
   "source": [
    "df = pd.read_csv(\"page-blocks0.csv\")\n",
    "df.head()"
   ]
  },
  {
   "cell_type": "code",
   "execution_count": 3,
   "metadata": {
    "ExecuteTime": {
     "end_time": "2021-09-24T06:56:38.225057Z",
     "start_time": "2021-09-24T06:56:38.214087Z"
    },
    "scrolled": true
   },
   "outputs": [],
   "source": [
    "# 특징과 라벨 분리\n",
    "X = df.drop('Class', axis = 1)\n",
    "Y = df['Class']"
   ]
  },
  {
   "cell_type": "code",
   "execution_count": 4,
   "metadata": {
    "ExecuteTime": {
     "end_time": "2021-09-24T06:56:38.850422Z",
     "start_time": "2021-09-24T06:56:38.229047Z"
    }
   },
   "outputs": [],
   "source": [
    "# 학습 데이터와 평가 데이터 분할\n",
    "from sklearn.model_selection import train_test_split\n",
    "Train_X, Test_X, Train_Y, Test_Y = train_test_split(X, Y)"
   ]
  },
  {
   "cell_type": "code",
   "execution_count": 5,
   "metadata": {
    "ExecuteTime": {
     "end_time": "2021-09-24T06:56:38.865481Z",
     "start_time": "2021-09-24T06:56:38.852388Z"
    }
   },
   "outputs": [
    {
     "data": {
      "text/plain": [
       "(4104, 10)"
      ]
     },
     "execution_count": 5,
     "metadata": {},
     "output_type": "execute_result"
    }
   ],
   "source": [
    "# 특징개수 확인 -> 10개정도 밖에 되지 않음\n",
    "Train_X.shape"
   ]
  },
  {
   "cell_type": "code",
   "execution_count": 6,
   "metadata": {
    "ExecuteTime": {
     "end_time": "2021-09-24T06:56:38.880450Z",
     "start_time": "2021-09-24T06:56:38.866380Z"
    },
    "scrolled": true
   },
   "outputs": [
    {
     "data": {
      "text/plain": [
       "negative    3692\n",
       "positive     412\n",
       "Name: Class, dtype: int64"
      ]
     },
     "execution_count": 6,
     "metadata": {},
     "output_type": "execute_result"
    }
   ],
   "source": [
    "# 클래스 불균형 확인\n",
    "Train_Y.value_counts()"
   ]
  },
  {
   "cell_type": "markdown",
   "metadata": {},
   "source": [
    "- 문자형인 label을 숫자형으로 변경"
   ]
  },
  {
   "cell_type": "code",
   "execution_count": 7,
   "metadata": {
    "ExecuteTime": {
     "end_time": "2021-09-24T06:56:38.896078Z",
     "start_time": "2021-09-24T06:56:38.882420Z"
    }
   },
   "outputs": [],
   "source": [
    "Train_Y.replace({\"negative\":-1, \"positive\":1}, inplace = True)\n",
    "Test_Y.replace({\"negative\":-1, \"positive\":1}, inplace = True)"
   ]
  },
  {
   "cell_type": "markdown",
   "metadata": {},
   "source": [
    "# 클래스 불균형 탐색"
   ]
  },
  {
   "cell_type": "markdown",
   "metadata": {},
   "source": [
    "## 클래스 불균형 테스트 by 클래스 불균형 비율 측정"
   ]
  },
  {
   "cell_type": "code",
   "execution_count": 8,
   "metadata": {
    "ExecuteTime": {
     "end_time": "2021-09-24T06:56:38.911038Z",
     "start_time": "2021-09-24T06:56:38.898073Z"
    }
   },
   "outputs": [
    {
     "data": {
      "text/plain": [
       "8.96116504854369"
      ]
     },
     "execution_count": 8,
     "metadata": {},
     "output_type": "execute_result"
    }
   ],
   "source": [
    "# 클래스 불균형 비율 계산\n",
    "Train_Y.value_counts().iloc[0] / Train_Y.value_counts().iloc[-1]"
   ]
  },
  {
   "cell_type": "markdown",
   "metadata": {},
   "source": [
    "- 보편적 비율인 9보다는 낮지만, 거의 근사한 값으로 불균형이 존재할 수 있다 판단할 수 있다."
   ]
  },
  {
   "cell_type": "markdown",
   "metadata": {},
   "source": [
    "## 클래스 불균형 테스트 by KNN"
   ]
  },
  {
   "cell_type": "code",
   "execution_count": 9,
   "metadata": {
    "ExecuteTime": {
     "end_time": "2021-09-24T06:56:39.077179Z",
     "start_time": "2021-09-24T06:56:38.913065Z"
    }
   },
   "outputs": [
    {
     "name": "stdout",
     "output_type": "stream",
     "text": [
      "0.6802721088435374\n",
      "0.9539473684210527\n"
     ]
    }
   ],
   "source": [
    "# kNN을 사용한 클래스 불균형 테스트\n",
    "from sklearn.neighbors import KNeighborsClassifier as KNN\n",
    "from sklearn.metrics import *\n",
    "\n",
    "# 모델 인스턴스 생성\n",
    "kNN_model = KNN(n_neighbors = 11).fit(Train_X, Train_Y)\n",
    "\n",
    "# 예측\n",
    "pred_Y = kNN_model.predict(Test_X)\n",
    "\n",
    "# 재현율 & 정확도\n",
    "print(recall_score(Test_Y, pred_Y))\n",
    "print(accuracy_score(Test_Y, pred_Y))"
   ]
  },
  {
   "cell_type": "markdown",
   "metadata": {},
   "source": [
    "## 불균형 탐색 결론\n",
    "\n",
    "- 재현율이 60%로 불균형이 심각한 수준은 아닌 것으로 보인다. (불균형 이기는 함)\n",
    "- 특징수도 많지 않고, 불균형인 positive 클래스의 샘플도 상당하므로 언더 샘플링으로 resampling을 하는 것이 적합해 보인다."
   ]
  },
  {
   "cell_type": "markdown",
   "metadata": {},
   "source": [
    "# 언더샘플링 NearMiss (5:5)"
   ]
  },
  {
   "cell_type": "code",
   "execution_count": 10,
   "metadata": {
    "ExecuteTime": {
     "end_time": "2021-09-24T06:56:39.447309Z",
     "start_time": "2021-09-24T06:56:39.081168Z"
    }
   },
   "outputs": [],
   "source": [
    "from imblearn.under_sampling import NearMiss\n",
    "NM_model = NearMiss(version = 2) # version = 2: 모든 소수 클래스 샘플까지의 평균 거리를 활용\n",
    "\n",
    "# NearMiss 적용\n",
    "# 결과값인 ndarray를 DataFrame과 Series로 변환 \n",
    "# 남은 전처리가 없다면 하지 않아도 된다.\n",
    "u_Train_X, u_Train_Y = NM_model.fit_sample(Train_X, Train_Y)\n",
    "u_Train_X = pd.DataFrame(u_Train_X, columns = X.columns)\n",
    "u_Train_Y = pd.Series(u_Train_Y)"
   ]
  },
  {
   "cell_type": "code",
   "execution_count": 11,
   "metadata": {
    "ExecuteTime": {
     "end_time": "2021-09-24T06:56:39.462268Z",
     "start_time": "2021-09-24T06:56:39.449304Z"
    }
   },
   "outputs": [
    {
     "data": {
      "text/plain": [
       "-1    412\n",
       " 1    412\n",
       "Name: Class, dtype: int64"
      ]
     },
     "execution_count": 11,
     "metadata": {},
     "output_type": "execute_result"
    }
   ],
   "source": [
    "u_Train_Y.value_counts()"
   ]
  },
  {
   "cell_type": "code",
   "execution_count": 12,
   "metadata": {
    "ExecuteTime": {
     "end_time": "2021-09-24T06:56:39.537380Z",
     "start_time": "2021-09-24T06:56:39.464821Z"
    }
   },
   "outputs": [
    {
     "name": "stdout",
     "output_type": "stream",
     "text": [
      "0.9455782312925171\n",
      "0.22660818713450293\n"
     ]
    }
   ],
   "source": [
    "# kNN 재적용을 통한 성능 변화 확인\n",
    "from sklearn.neighbors import KNeighborsClassifier as KNN\n",
    "from sklearn.metrics import *\n",
    "kNN_model = KNN(n_neighbors = 11).fit(u_Train_X, u_Train_Y)\n",
    "pred_Y = kNN_model.predict(Test_X)\n",
    "print(recall_score(Test_Y, pred_Y))\n",
    "print(accuracy_score(Test_Y, pred_Y))\n",
    "\n",
    "# 재현율은 크게 올랐으나, 정확도가 크게 떨어짐 => 적당한 비율에 맞게 설정해야 함"
   ]
  },
  {
   "cell_type": "markdown",
   "metadata": {},
   "source": [
    "- 재현율은 93%로 크게 올랐지만, 정확도가 95% -> 20%대로 급격하게 하락했다.\n",
    "- 소수 클래스에 대한 결정공간이 너무 넓어져서 다수 클래스를 제대로 판별하지 못하게 되었다.\n",
    "\n",
    "\n",
    "- 즉, 5:5의 비율은 적절하지 못하므로 언더 샘플링 비율을 조정해줄 필요가 있어 보인다."
   ]
  },
  {
   "cell_type": "markdown",
   "metadata": {},
   "source": [
    "# 비율을 조정한 NearMiss (5:1)"
   ]
  },
  {
   "cell_type": "code",
   "execution_count": 13,
   "metadata": {
    "ExecuteTime": {
     "end_time": "2021-09-24T06:56:39.797482Z",
     "start_time": "2021-09-24T06:56:39.539375Z"
    }
   },
   "outputs": [],
   "source": [
    "from imblearn.under_sampling import NearMiss\n",
    "\n",
    "# sampling_strategy을 적용 (클래스별 비율을 사전형태로 입력)\n",
    "# 클래스 명 : 생성할 샘플 수 (생성하고 난 뒤에 남게 되는 목표 샘플 수)\n",
    "# 5:1 정도의 비율로 언더샘플링 재수행\n",
    "NM_model = NearMiss(version = 2, sampling_strategy = {1:u_Train_Y.value_counts().iloc[-1],\n",
    "                                                      -1:u_Train_Y.value_counts().iloc[-1] * 5}) \n",
    "\n",
    "\n",
    "# NearMiss 적용\n",
    "# 결과값인 ndarray를 DataFrame과 Series로 변환 \n",
    "# 남은 전처리가 없다면 하지 않아도 된다.\n",
    "u_Train_X, u_Train_Y = NM_model.fit_sample(Train_X, Train_Y)\n",
    "u_Train_X = pd.DataFrame(u_Train_X, columns = X.columns)\n",
    "u_Train_Y = pd.Series(u_Train_Y)"
   ]
  },
  {
   "cell_type": "code",
   "execution_count": 14,
   "metadata": {
    "ExecuteTime": {
     "end_time": "2021-09-24T06:56:39.812615Z",
     "start_time": "2021-09-24T06:56:39.799477Z"
    }
   },
   "outputs": [
    {
     "data": {
      "text/plain": [
       "-1    2060\n",
       " 1     412\n",
       "Name: Class, dtype: int64"
      ]
     },
     "execution_count": 14,
     "metadata": {},
     "output_type": "execute_result"
    }
   ],
   "source": [
    "u_Train_Y.value_counts()"
   ]
  },
  {
   "cell_type": "code",
   "execution_count": 15,
   "metadata": {
    "ExecuteTime": {
     "end_time": "2021-09-24T06:56:39.888036Z",
     "start_time": "2021-09-24T06:56:39.814610Z"
    }
   },
   "outputs": [
    {
     "name": "stdout",
     "output_type": "stream",
     "text": [
      "0.8707482993197279\n",
      "0.668859649122807\n"
     ]
    }
   ],
   "source": [
    "from sklearn.neighbors import KNeighborsClassifier as KNN\n",
    "from sklearn.metrics import *\n",
    "kNN_model = KNN(n_neighbors = 11).fit(u_Train_X, u_Train_Y)\n",
    "pred_Y = kNN_model.predict(Test_X)\n",
    "print(recall_score(Test_Y, pred_Y))\n",
    "print(accuracy_score(Test_Y, pred_Y))"
   ]
  },
  {
   "cell_type": "markdown",
   "metadata": {},
   "source": [
    "- 재현율이 87%, 정확도가 66%로 변경되었다.\n",
    "- 만약 정확도를 좀 더 높이고 싶다면 [-1:u_Train_Y.value_counts().iloc[-1] * 5] 부분의 비율을 더 늘리면된다.\n",
    "- 이때, 원본 데이터의 비율을 초과해서는 안된다. (resampling 하는 의미가 없음)"
   ]
  }
 ],
 "metadata": {
  "kernelspec": {
   "display_name": "Python 3 (ipykernel)",
   "language": "python",
   "name": "python3"
  },
  "language_info": {
   "codemirror_mode": {
    "name": "ipython",
    "version": 3
   },
   "file_extension": ".py",
   "mimetype": "text/x-python",
   "name": "python",
   "nbconvert_exporter": "python",
   "pygments_lexer": "ipython3",
   "version": "3.8.5"
  },
  "toc": {
   "base_numbering": 1,
   "nav_menu": {},
   "number_sections": true,
   "sideBar": true,
   "skip_h1_title": false,
   "title_cell": "Table of Contents",
   "title_sidebar": "Contents",
   "toc_cell": false,
   "toc_position": {
    "height": "calc(100% - 180px)",
    "left": "10px",
    "top": "150px",
    "width": "383.594px"
   },
   "toc_section_display": true,
   "toc_window_display": false
  },
  "varInspector": {
   "cols": {
    "lenName": 16,
    "lenType": 16,
    "lenVar": 40
   },
   "kernels_config": {
    "python": {
     "delete_cmd_postfix": "",
     "delete_cmd_prefix": "del ",
     "library": "var_list.py",
     "varRefreshCmd": "print(var_dic_list())"
    },
    "r": {
     "delete_cmd_postfix": ") ",
     "delete_cmd_prefix": "rm(",
     "library": "var_list.r",
     "varRefreshCmd": "cat(var_dic_list()) "
    }
   },
   "types_to_exclude": [
    "module",
    "function",
    "builtin_function_or_method",
    "instance",
    "_Feature"
   ],
   "window_display": false
  }
 },
 "nbformat": 4,
 "nbformat_minor": 2
}
