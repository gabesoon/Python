{
 "cells": [
  {
   "cell_type": "markdown",
   "metadata": {},
   "source": [
    "# 단순한 케이스: 모든 특징의 타입이 같은 경우\n",
    "---"
   ]
  },
  {
   "attachments": {},
   "cell_type": "markdown",
   "metadata": {},
   "source": [
    "# sklearn을 이용한 전처리 모델\n",
    "---\n",
    "\n",
    "1) 전처리 모델 (Preprocessing model)을 생성\n",
    "\n",
    "2) 생성된 모델을 train data에 대해서 fitting (각 변수의 결측을 어떻게 처리할지 계산- 방식은 세부 모델별로 상이)\n",
    "\n",
    "3) transform으로 앞서 계산한 방식으로 train data의 결측을 처리(replace)\n",
    "\n",
    "4) train data에 적용한 것과 동일한 전처리 모델을 test data에도 적용 (test 데이터에는 fitting이 되지 않은 것이 차이점)\n",
    "\n",
    "---\n",
    "![image](https://user-images.githubusercontent.com/74717033/134630230-20f18ade-2c3b-4ef8-8bd6-bcc97d895b56.png)\n",
    "\n",
    "---\n",
    "- 간혹 다른 분석 결과 코드를 보다보면, 전체 데이터를 전처리 모델에 fitting하는 경우가 있다. 이는 더 나은 성능을 기대할 수 있다.\n",
    "- 하지만 이것은 test data를 알고있는 상태에서 검증(test)를 하는 것이나 마찬가지여서 객관적인 결과라 보기 어렵다."
   ]
  },
  {
   "cell_type": "code",
   "execution_count": 1,
   "metadata": {
    "ExecuteTime": {
     "end_time": "2021-09-24T06:46:03.996031Z",
     "start_time": "2021-09-24T06:46:03.203738Z"
    }
   },
   "outputs": [],
   "source": [
    "import os\n",
    "import pandas as pd\n",
    "\n",
    "# 불필요한 경고 표시 생략\n",
    "import warnings\n",
    "warnings.filterwarnings(action = 'ignore')\n",
    "\n",
    "a=%pwd # 현재 경로 a에 할당\n",
    "os.chdir(a) # 파일 로드 경로 설정"
   ]
  },
  {
   "cell_type": "code",
   "execution_count": 2,
   "metadata": {
    "ExecuteTime": {
     "end_time": "2021-09-24T06:46:04.026948Z",
     "start_time": "2021-09-24T06:46:03.999023Z"
    }
   },
   "outputs": [],
   "source": [
    "df = pd.read_csv(\"cleveland.csv\")"
   ]
  },
  {
   "cell_type": "code",
   "execution_count": 3,
   "metadata": {
    "ExecuteTime": {
     "end_time": "2021-09-24T06:46:04.041908Z",
     "start_time": "2021-09-24T06:46:04.028943Z"
    }
   },
   "outputs": [],
   "source": [
    "# 특징과 라벨 분리\n",
    "X = df.drop('Output', axis = 1)\n",
    "Y = df['Output']"
   ]
  },
  {
   "cell_type": "code",
   "execution_count": 4,
   "metadata": {
    "ExecuteTime": {
     "end_time": "2021-09-24T06:46:04.725864Z",
     "start_time": "2021-09-24T06:46:04.044900Z"
    }
   },
   "outputs": [],
   "source": [
    "# 학습 데이터와 평가 데이터로 분리\n",
    "from sklearn.model_selection import train_test_split\n",
    "Train_X, Test_X, Train_Y, Test_Y = train_test_split(X, Y)"
   ]
  },
  {
   "cell_type": "code",
   "execution_count": 5,
   "metadata": {
    "ExecuteTime": {
     "end_time": "2021-09-24T06:46:04.741007Z",
     "start_time": "2021-09-24T06:46:04.727812Z"
    }
   },
   "outputs": [
    {
     "data": {
      "text/plain": [
       "Age         0\n",
       "Sex         0\n",
       "Cp          0\n",
       "Trestbps    0\n",
       "Chol        0\n",
       "Fbs         0\n",
       "Restecg     0\n",
       "Thalach     0\n",
       "Exang       0\n",
       "Oldpeak     0\n",
       "Slope       0\n",
       "Ca          3\n",
       "Thal        0\n",
       "dtype: int64"
      ]
     },
     "execution_count": 5,
     "metadata": {},
     "output_type": "execute_result"
    }
   ],
   "source": [
    "# 결측치 확인\n",
    "Train_X.isnull().sum()\n",
    "# 결측치가 많지 않다.\n",
    "# 지워도 무방한 수치이지만, 새로 들어온 데이터에 결측이 있을 수도 있다는 도메인 지식이 있다고 가정"
   ]
  },
  {
   "cell_type": "code",
   "execution_count": 6,
   "metadata": {
    "ExecuteTime": {
     "end_time": "2021-09-24T06:46:04.756051Z",
     "start_time": "2021-09-24T06:46:04.743000Z"
    }
   },
   "outputs": [
    {
     "data": {
      "text/plain": [
       "Age         0.159932\n",
       "Sex         0.096173\n",
       "Cp          0.097359\n",
       "Trestbps    0.121502\n",
       "Chol        0.113245\n",
       "Fbs         0.112751\n",
       "Restecg     0.145663\n",
       "Thalach    -0.080959\n",
       "Exang       0.160078\n",
       "Oldpeak     0.198416\n",
       "Slope       0.169108\n",
       "Ca          0.125165\n",
       "Thal        0.175741\n",
       "dtype: float64"
      ]
     },
     "execution_count": 6,
     "metadata": {},
     "output_type": "execute_result"
    }
   ],
   "source": [
    "# 평균 상관 계수 확인 (모든 변수가 연속형이므로 상관계수로 판단할 수 있는 것)\n",
    "# -1 혹은 1에 가까울 수록 강한 상관관계를 갖는다.\n",
    "# 좀 더 확실한 확인을 하고 싶다면 VIF 검증 등을 이용할 수 도 있다. \n",
    "\n",
    "Train_X.corr().sum() / (len(Train_X.columns) - 1)\n",
    "\n",
    "# 수치가 높지 않다고 판단 => 특징 간 관계가 크지 않음 => 대표값 대체 활용 가능 판단"
   ]
  },
  {
   "attachments": {},
   "cell_type": "markdown",
   "metadata": {},
   "source": [
    "# 대표값으로 대체 (Simpleimpute)\n",
    "---\n",
    "- 가장 일반적으로 사용되는 결측치 대체법\n",
    "- 다만, 사용하기 부적절한 경우가 2가지 있다.\n",
    "    - 1) 소수 feature에 결측이 쏠린 경우\n",
    "    - 2) 특징 간 상관성 (corr)이 큰 경우\n",
    "![image](https://user-images.githubusercontent.com/74717033/134630245-5b2070c0-3dc5-4ea0-b864-245950987b21.png)"
   ]
  },
  {
   "attachments": {},
   "cell_type": "markdown",
   "metadata": {},
   "source": [
    "## 관련 문법 : sklearn.impute.SimpleImputer\n",
    "---\n",
    "\n",
    "- 결측이 있는 변수의 `대표값 으로 결측을 대체` 하는 함수\n",
    "- 변수 타입에 따라 두 개의 대표 통계량을 같이 적용해야 할 때도 있다.\n",
    "\n",
    "파라미터\n",
    "- strategy : 대표 통계량을 지정 ('mean', 'most_frequent', 'median' 등)\n",
    "---\n",
    "![image](https://user-images.githubusercontent.com/74717033/134630263-12421b55-c349-4054-af9e-b2c21d3e30e9.png)"
   ]
  },
  {
   "cell_type": "code",
   "execution_count": 7,
   "metadata": {
    "ExecuteTime": {
     "end_time": "2021-09-24T06:46:05.000674Z",
     "start_time": "2021-09-24T06:46:04.758953Z"
    }
   },
   "outputs": [],
   "source": [
    "# 대표값을 활용한 결측치 대체\n",
    "from sklearn.impute import SimpleImputer\n",
    "\n",
    "# SimpleImputer 인스턴스화(Preprocessing model 생성)\n",
    "# 평균치(mean)을 대표값으로 활용\n",
    "SI = SimpleImputer(strategy = 'mean')\n",
    "\n",
    "# 학습\n",
    "SI.fit(Train_X)\n",
    "\n",
    "# sklearn instance의 출력은 ndarray이기 때문에 다시 DataFrame으로 바꿔줘야 한다.\n",
    "# Train / Test 모두에 동일한 모델을 적용시킨다.\n",
    "Train_X = pd.DataFrame(SI.transform(Train_X), columns = Train_X.columns)\n",
    "Test_X = pd.DataFrame(SI.transform(Test_X), columns = Test_X.columns)"
   ]
  },
  {
   "cell_type": "code",
   "execution_count": 8,
   "metadata": {
    "ExecuteTime": {
     "end_time": "2021-09-24T06:46:05.016061Z",
     "start_time": "2021-09-24T06:46:05.002670Z"
    }
   },
   "outputs": [
    {
     "data": {
      "text/plain": [
       "Age         0\n",
       "Sex         0\n",
       "Cp          0\n",
       "Trestbps    0\n",
       "Chol        0\n",
       "Fbs         0\n",
       "Restecg     0\n",
       "Thalach     0\n",
       "Exang       0\n",
       "Oldpeak     0\n",
       "Slope       0\n",
       "Ca          0\n",
       "Thal        0\n",
       "dtype: int64"
      ]
     },
     "execution_count": 8,
     "metadata": {},
     "output_type": "execute_result"
    }
   ],
   "source": [
    "Train_X.isnull().sum()"
   ]
  },
  {
   "cell_type": "markdown",
   "metadata": {},
   "source": [
    "# 복잡한 케이스: 다른 타입의 특징이 있는 경우"
   ]
  },
  {
   "cell_type": "code",
   "execution_count": 9,
   "metadata": {
    "ExecuteTime": {
     "end_time": "2021-09-24T06:46:05.031394Z",
     "start_time": "2021-09-24T06:46:05.018001Z"
    }
   },
   "outputs": [],
   "source": [
    "df = pd.read_csv(\"saheart.csv\")"
   ]
  },
  {
   "cell_type": "code",
   "execution_count": 10,
   "metadata": {
    "ExecuteTime": {
     "end_time": "2021-09-24T06:46:05.046886Z",
     "start_time": "2021-09-24T06:46:05.035383Z"
    },
    "scrolled": true
   },
   "outputs": [],
   "source": [
    "# 특징과 라벨 분리\n",
    "X = df.drop('Chd', axis = 1)\n",
    "Y = df['Chd']"
   ]
  },
  {
   "cell_type": "code",
   "execution_count": 11,
   "metadata": {
    "ExecuteTime": {
     "end_time": "2021-09-24T06:46:05.061846Z",
     "start_time": "2021-09-24T06:46:05.048880Z"
    }
   },
   "outputs": [],
   "source": [
    "# 학습 데이터와 평가 데이터로 분리\n",
    "from sklearn.model_selection import train_test_split\n",
    "Train_X, Test_X, Train_Y, Test_Y = train_test_split(X, Y)"
   ]
  },
  {
   "cell_type": "code",
   "execution_count": 12,
   "metadata": {
    "ExecuteTime": {
     "end_time": "2021-09-24T06:46:05.076806Z",
     "start_time": "2021-09-24T06:46:05.063841Z"
    }
   },
   "outputs": [
    {
     "data": {
      "text/plain": [
       "Sbp          0\n",
       "Tobacco      0\n",
       "Ldl          0\n",
       "Adiposity    0\n",
       "Typea        0\n",
       "Obesity      9\n",
       "Alcohol      3\n",
       "Age          0\n",
       "Famhist      6\n",
       "dtype: int64"
      ]
     },
     "execution_count": 12,
     "metadata": {},
     "output_type": "execute_result"
    }
   ],
   "source": [
    "# 결측치 확인\n",
    "Train_X.isnull().sum()\n",
    "# 결측치가 많지 않음\n",
    "# 지워도 무방한 수치이지만, 새로 들어온 데이터에 결측이 있을 수도 있다는 도메인 지식이 있다고 가정"
   ]
  },
  {
   "cell_type": "code",
   "execution_count": 13,
   "metadata": {
    "ExecuteTime": {
     "end_time": "2021-09-24T06:46:05.091771Z",
     "start_time": "2021-09-24T06:46:05.079798Z"
    }
   },
   "outputs": [
    {
     "data": {
      "text/plain": [
       "Sbp          0.310150\n",
       "Tobacco      0.214636\n",
       "Ldl          0.302748\n",
       "Adiposity    0.450284\n",
       "Typea        0.106360\n",
       "Obesity      0.361708\n",
       "Alcohol      0.224642\n",
       "Age          0.375915\n",
       "Famhist      0.259748\n",
       "dtype: float64"
      ]
     },
     "execution_count": 13,
     "metadata": {},
     "output_type": "execute_result"
    }
   ],
   "source": [
    "# 평균 상관 계수 확인 (주의: 모든 변수가 연속형이므로 가능한 접근)\n",
    "Train_X.corr().sum() / (len(Train_X.columns) - 1)\n",
    "\n",
    "# 수치가 높지 않다고 판단 => 특징 간 관계가 크지 않음 => 대표값 대체 활용 가능 판단\n",
    "# 실제로는 데이터가 연속형 / 범주형이 섞여 있기 때문에 corr만 가지고 판단할 수는 없다.\n",
    "# 통계분석(ANOVA검증, 피어슨 검정 등)을 통해 관계에 대한 판단을 해야 한다. \n",
    "# 하지만 실습을 위해 일단 그냥 진행"
   ]
  },
  {
   "cell_type": "markdown",
   "metadata": {},
   "source": [
    "## 두 개의 대표값을 동시에 적용하여 대체"
   ]
  },
  {
   "cell_type": "code",
   "execution_count": 14,
   "metadata": {
    "ExecuteTime": {
     "end_time": "2021-09-24T06:46:05.106686Z",
     "start_time": "2021-09-24T06:46:05.094764Z"
    }
   },
   "outputs": [],
   "source": [
    "# Famhist: 범주형 변수\n",
    "# 그 외 변수: 연속형 변수\n",
    "\n",
    "# 대표값을 평균을 사용할지, 최빈값을 사용할지 결정이 어렵다. => 둘 다 사용해야 함\n",
    "# 이를 위해 데이터를 분할해야 한다\n",
    "\n",
    "# 범주형 변수 분리\n",
    "Train_X_cate = Train_X[['Famhist']]\n",
    "Train_X_cont = Train_X.drop('Famhist', axis = 1)\n",
    "\n",
    "Test_X_cate = Test_X[['Famhist']]\n",
    "Test_X_cont = Test_X.drop('Famhist', axis = 1)"
   ]
  },
  {
   "cell_type": "code",
   "execution_count": 15,
   "metadata": {
    "ExecuteTime": {
     "end_time": "2021-09-24T06:46:05.699264Z",
     "start_time": "2021-09-24T06:46:05.108681Z"
    }
   },
   "outputs": [
    {
     "ename": "NameError",
     "evalue": "name 'pdd' is not defined",
     "output_type": "error",
     "traceback": [
      "\u001b[1;31m---------------------------------------------------------------------------\u001b[0m",
      "\u001b[1;31mNameError\u001b[0m                                 Traceback (most recent call last)",
      "\u001b[1;32m~\\AppData\\Local\\Temp/ipykernel_7784/188125893.py\u001b[0m in \u001b[0;36m<module>\u001b[1;34m\u001b[0m\n\u001b[0;32m     16\u001b[0m \u001b[1;33m\u001b[0m\u001b[0m\n\u001b[0;32m     17\u001b[0m \u001b[1;31m#최빈값 모델 적용\u001b[0m\u001b[1;33m\u001b[0m\u001b[1;33m\u001b[0m\u001b[1;33m\u001b[0m\u001b[0m\n\u001b[1;32m---> 18\u001b[1;33m Train_X_cate = pdd.DataFrame(SI_mode.transform(Train_X_cate),\n\u001b[0m\u001b[0;32m     19\u001b[0m                             columns = Train_X_cate.columns)\n\u001b[0;32m     20\u001b[0m \u001b[1;33m\u001b[0m\u001b[0m\n",
      "\u001b[1;31mNameError\u001b[0m: name 'pdd' is not defined"
     ]
    }
   ],
   "source": [
    "# 대표값을 활용한 결측치 대체\n",
    "from sklearn.impute import SimpleImputer\n",
    "\n",
    "# SimpleImputer 인스턴스화(Preprocessing model 생성)\n",
    "# 평균치와 최빈값에 대한 모델 각각 생성\n",
    "\n",
    "SI_mode = SimpleImputer(strategy = 'most_frequent')\n",
    "SI_mean = SimpleImputer(strategy = 'mean')\n",
    "\n",
    "# 학습\n",
    "SI_mode.fit(Train_X_cate)\n",
    "SI_mean.fit(Train_X_cont)\n",
    "\n",
    "# sklearn instance의 출력은 ndarray이기 때문에 다시 DataFrame으로 바꿔줘야 한다.\n",
    "# Train / Test 모두에 동일한 모델을 적용시킨다.\n",
    "\n",
    "#최빈값 모델 적용\n",
    "Train_X_cate = pdd.DataFrame(SI_mode.transform(Train_X_cate),\n",
    "                            columns = Train_X_cate.columns)\n",
    "\n",
    "Test_X_cate = pd.DataFrame(SI_mode.transform(Test_X_cate),\n",
    "                           columns = Test_X_cate.columns)\n",
    "\n",
    "#평균값 모델 적용\n",
    "Train_X_cont = pd.DataFrame(SI_mean.transform(Train_X_cont),\n",
    "                            columns = Train_X_cont.columns)\n",
    "\n",
    "Test_X_cont = pd.DataFrame(SI_mean.transform(Test_X_cont),\n",
    "                           columns = Test_X_cont.columns)"
   ]
  },
  {
   "cell_type": "code",
   "execution_count": null,
   "metadata": {
    "ExecuteTime": {
     "end_time": "2021-09-24T06:46:05.703254Z",
     "start_time": "2021-09-24T06:46:05.703254Z"
    }
   },
   "outputs": [],
   "source": [
    "# 다시 두 데이터를 concat으로 이어 붙인다.\n",
    "# '열' 로 붙이기 때문에 axis =1\n",
    "# 컬럼명이 살아 있어야 하기 때문에 ignore_index=False (default)\n",
    "\n",
    "Train_X = pd.concat([Train_X_cate, Train_X_cont], axis = 1)\n",
    "Test_X = pd.concat([Test_X_cate, Test_X_cont], axis = 1)"
   ]
  },
  {
   "cell_type": "code",
   "execution_count": null,
   "metadata": {
    "ExecuteTime": {
     "end_time": "2021-09-24T06:46:05.706247Z",
     "start_time": "2021-09-24T06:46:05.706247Z"
    }
   },
   "outputs": [],
   "source": [
    "Train_X.isnull().sum()"
   ]
  },
  {
   "cell_type": "markdown",
   "metadata": {
    "ExecuteTime": {
     "end_time": "2021-07-15T06:53:39.950790Z",
     "start_time": "2021-07-15T06:53:39.938823Z"
    }
   },
   "source": [
    "# Tip. \n",
    "---\n",
    "- 이진형 변수와 연속형 변수만 포함된 경우에는 SI_mean만 사용하여 결측치를 평균으로 대체한 뒤에, 이진형 변수에 대해서만 round 처리를 하면 하나의 전처리 모델만 사용할 수 있다.\n",
    "---\n",
    "- 이진형 변수( 0 또는 1) 의 평균 = 1의 비율 이다.\n",
    "- 만약 이진형 변수의 mean이 0.4(예시) 이면 -> \"0이 더 많다\"\n",
    "- 만약 이진형 변수의 mean이 0.7(예시) 이면 -> \"1이 더 많다\"\n",
    "- 해당 값들을 round해주면 0.5 미만이면 0이되고, 0.5 이상이면 1이 된다."
   ]
  }
 ],
 "metadata": {
  "kernelspec": {
   "display_name": "Python 3 (ipykernel)",
   "language": "python",
   "name": "python3"
  },
  "language_info": {
   "codemirror_mode": {
    "name": "ipython",
    "version": 3
   },
   "file_extension": ".py",
   "mimetype": "text/x-python",
   "name": "python",
   "nbconvert_exporter": "python",
   "pygments_lexer": "ipython3",
   "version": "3.8.5"
  },
  "toc": {
   "base_numbering": 1,
   "nav_menu": {},
   "number_sections": true,
   "sideBar": true,
   "skip_h1_title": false,
   "title_cell": "Table of Contents",
   "title_sidebar": "Contents",
   "toc_cell": false,
   "toc_position": {},
   "toc_section_display": true,
   "toc_window_display": true
  },
  "varInspector": {
   "cols": {
    "lenName": 16,
    "lenType": 16,
    "lenVar": 40
   },
   "kernels_config": {
    "python": {
     "delete_cmd_postfix": "",
     "delete_cmd_prefix": "del ",
     "library": "var_list.py",
     "varRefreshCmd": "print(var_dic_list())"
    },
    "r": {
     "delete_cmd_postfix": ") ",
     "delete_cmd_prefix": "rm(",
     "library": "var_list.r",
     "varRefreshCmd": "cat(var_dic_list()) "
    }
   },
   "types_to_exclude": [
    "module",
    "function",
    "builtin_function_or_method",
    "instance",
    "_Feature"
   ],
   "window_display": false
  }
 },
 "nbformat": 4,
 "nbformat_minor": 2
}
