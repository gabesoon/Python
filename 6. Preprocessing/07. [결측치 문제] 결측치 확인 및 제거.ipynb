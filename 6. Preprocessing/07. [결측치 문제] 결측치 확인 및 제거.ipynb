{
 "cells": [
  {
   "cell_type": "code",
   "execution_count": 1,
   "metadata": {
    "ExecuteTime": {
     "end_time": "2021-09-24T06:45:16.218156Z",
     "start_time": "2021-09-24T06:45:15.477016Z"
    }
   },
   "outputs": [],
   "source": [
    "import os\n",
    "import pandas as pd\n",
    "\n",
    "# 불필요한 경고 표시 생략\n",
    "import warnings\n",
    "warnings.filterwarnings(action = 'ignore')\n",
    "\n",
    "a=%pwd # 현재 경로 a에 할당\n",
    "os.chdir(a) # 파일 로드 경로 설정"
   ]
  },
  {
   "cell_type": "markdown",
   "metadata": {},
   "source": [
    "# 결측치 문제?\n",
    "---\n",
    "\n",
    "- 데이터에 결측치가 있어, 모델의 학습이 되지 않는 문제\n",
    "- 결측치는 보통 NaN 과 None로 구분된다.\n",
    "    - NaN : 값이 있어야 하는데 없는 결측치 -> 보통 대체, 추정, 예측 등으로 처리 한다.\n",
    "    - None : 값이 없는 것 자체가 value인 결측치 -> 보통 새로운 값으로 정의(e.g) 직업 - 백수)하는 방식으로 처리\n",
    "- 결측치를 처리하는 방법은 간단하다. 하지만 `상황에 맞는 적절한 처리` 가 결측치 문제의 포인트이다.\n",
    "---\n",
    "- 경우에 따라서는 음수값이 없는 경우 '-1' 을 입력해 해당 데이터가 포함되지 않도록 하는 방식의 전처리 법도 있다."
   ]
  },
  {
   "attachments": {},
   "cell_type": "markdown",
   "metadata": {},
   "source": [
    "# 결측 레코드\n",
    "----\n",
    "- 결측치를 포함하는 레코드(data)를 의미\n",
    "- 결측치 비율 : 결측 레코드 수 / 전체 레코드 수\n",
    "---\n",
    "![image](https://user-images.githubusercontent.com/74717033/134630126-3d27fa81-215e-4a76-877f-76b3fed59f3f.png)\n",
    "\n",
    "---"
   ]
  },
  {
   "cell_type": "markdown",
   "metadata": {},
   "source": [
    "- 결측 레코드 : #1, #3, #5, #8 \n",
    "- 결측치 비율 : 결측 레코드 수(4개) / 전체 레코드 수(10개)\n",
    "- 변수별 결측치 비율 \n",
    "    - v1 : 1 / 10 = 0.1\n",
    "    - v2 : 2 / 10 = 0.2\n",
    "    - v3 : 1 / 10 = 0.1\n",
    "    - v4 : 1 / 10 = 0.1\n",
    "    - v5 : 2 / 10 = 0.2\n",
    "---\n",
    "\n",
    "**일반적으로 결측치 비율이 30%(0.3) 이상인 경우 결측치 비율이 높다고 판단한다**\n",
    "- 단, 무조건적으로 이 비율을 맹신하지 말고, 데이터의 sample수에 따라 적절히 판단할 필요가 있다."
   ]
  },
  {
   "attachments": {},
   "cell_type": "markdown",
   "metadata": {},
   "source": [
    "# 관련 함수 1 : Series / DataFrame.isnull()\n",
    "---\n",
    "- 값이 결측이면 True, 결측이 아니면 False를 return (notnull 함수와 반대)\n",
    "- 단순히 isnull만 사용하면 정확한 개수 확인이 어려움 -> isnull.sum() 으로 결측치 분포 확인하는데 활용\n",
    "---\n",
    "![image](https://user-images.githubusercontent.com/74717033/134630152-f3cabb80-348e-4b14-8db2-544dba71d229.png)"
   ]
  },
  {
   "cell_type": "markdown",
   "metadata": {},
   "source": [
    "# 관련 함수 2 : DataFrame.dropna()\n",
    "---\n",
    "- 결측치가 포함된 행이나 열을 제거하는 함수\n",
    "\n",
    "파라미터\n",
    "- axis = 1 은 결측이 포함된 '열' 을 삭제\n",
    "- axis = 0 은 결측이 포함된 '행' 을 삭제\n",
    "- how = 'any' 는 결측이 1개라도 있으면 해당 레코드를 삭제 (일반적으로 사용)\n",
    "- how = 'all' 은 모든값이 결측인 경우에만 해당 레코드를 삭제 "
   ]
  },
  {
   "cell_type": "markdown",
   "metadata": {},
   "source": [
    "# 결측치 삭제\n",
    "---\n",
    "\n",
    "- 결측의 삭제는 항상 `Train data` 를 기준으로 하는 전처리 작업이다.\n",
    "- 따라서 sample데이터를 X(변수), Y(label)로 나누고 train 데이터와 test데이터로 나눈 후에 전처리를 한다.\n",
    "- Train data에 전처리 작업을 해주었다면, 동일 기준으로 Test data에도 전처리 작업을 해주어야 한다."
   ]
  },
  {
   "attachments": {},
   "cell_type": "markdown",
   "metadata": {},
   "source": [
    "## 행 단위 삭제\n",
    "---\n",
    "- 2가지 조건을 만족하는 경우에만 삭제를 할 수 있다.\n",
    "\n",
    "\n",
    "![image](https://user-images.githubusercontent.com/74717033/134630168-2e540d83-3734-4ea4-b4f7-69dabe1baec7.png)\n",
    "\n",
    "---"
   ]
  },
  {
   "cell_type": "code",
   "execution_count": 2,
   "metadata": {
    "ExecuteTime": {
     "end_time": "2021-09-24T06:45:16.279435Z",
     "start_time": "2021-09-24T06:45:16.224140Z"
    }
   },
   "outputs": [
    {
     "data": {
      "text/html": [
       "<div>\n",
       "<style scoped>\n",
       "    .dataframe tbody tr th:only-of-type {\n",
       "        vertical-align: middle;\n",
       "    }\n",
       "\n",
       "    .dataframe tbody tr th {\n",
       "        vertical-align: top;\n",
       "    }\n",
       "\n",
       "    .dataframe thead th {\n",
       "        text-align: right;\n",
       "    }\n",
       "</style>\n",
       "<table border=\"1\" class=\"dataframe\">\n",
       "  <thead>\n",
       "    <tr style=\"text-align: right;\">\n",
       "      <th></th>\n",
       "      <th>BI-RADS</th>\n",
       "      <th>Age</th>\n",
       "      <th>Shape</th>\n",
       "      <th>Margin</th>\n",
       "      <th>Density</th>\n",
       "      <th>Output</th>\n",
       "    </tr>\n",
       "  </thead>\n",
       "  <tbody>\n",
       "    <tr>\n",
       "      <th>0</th>\n",
       "      <td>5.0</td>\n",
       "      <td>67.0</td>\n",
       "      <td>3.0</td>\n",
       "      <td>5.0</td>\n",
       "      <td>3.0</td>\n",
       "      <td>1</td>\n",
       "    </tr>\n",
       "    <tr>\n",
       "      <th>1</th>\n",
       "      <td>4.0</td>\n",
       "      <td>43.0</td>\n",
       "      <td>1.0</td>\n",
       "      <td>1.0</td>\n",
       "      <td>NaN</td>\n",
       "      <td>1</td>\n",
       "    </tr>\n",
       "    <tr>\n",
       "      <th>2</th>\n",
       "      <td>5.0</td>\n",
       "      <td>58.0</td>\n",
       "      <td>4.0</td>\n",
       "      <td>5.0</td>\n",
       "      <td>3.0</td>\n",
       "      <td>1</td>\n",
       "    </tr>\n",
       "    <tr>\n",
       "      <th>3</th>\n",
       "      <td>4.0</td>\n",
       "      <td>28.0</td>\n",
       "      <td>1.0</td>\n",
       "      <td>1.0</td>\n",
       "      <td>3.0</td>\n",
       "      <td>0</td>\n",
       "    </tr>\n",
       "    <tr>\n",
       "      <th>4</th>\n",
       "      <td>5.0</td>\n",
       "      <td>74.0</td>\n",
       "      <td>1.0</td>\n",
       "      <td>5.0</td>\n",
       "      <td>NaN</td>\n",
       "      <td>1</td>\n",
       "    </tr>\n",
       "    <tr>\n",
       "      <th>...</th>\n",
       "      <td>...</td>\n",
       "      <td>...</td>\n",
       "      <td>...</td>\n",
       "      <td>...</td>\n",
       "      <td>...</td>\n",
       "      <td>...</td>\n",
       "    </tr>\n",
       "    <tr>\n",
       "      <th>956</th>\n",
       "      <td>4.0</td>\n",
       "      <td>47.0</td>\n",
       "      <td>2.0</td>\n",
       "      <td>1.0</td>\n",
       "      <td>3.0</td>\n",
       "      <td>0</td>\n",
       "    </tr>\n",
       "    <tr>\n",
       "      <th>957</th>\n",
       "      <td>4.0</td>\n",
       "      <td>56.0</td>\n",
       "      <td>4.0</td>\n",
       "      <td>5.0</td>\n",
       "      <td>3.0</td>\n",
       "      <td>1</td>\n",
       "    </tr>\n",
       "    <tr>\n",
       "      <th>958</th>\n",
       "      <td>4.0</td>\n",
       "      <td>64.0</td>\n",
       "      <td>4.0</td>\n",
       "      <td>5.0</td>\n",
       "      <td>3.0</td>\n",
       "      <td>0</td>\n",
       "    </tr>\n",
       "    <tr>\n",
       "      <th>959</th>\n",
       "      <td>5.0</td>\n",
       "      <td>66.0</td>\n",
       "      <td>4.0</td>\n",
       "      <td>5.0</td>\n",
       "      <td>3.0</td>\n",
       "      <td>1</td>\n",
       "    </tr>\n",
       "    <tr>\n",
       "      <th>960</th>\n",
       "      <td>4.0</td>\n",
       "      <td>62.0</td>\n",
       "      <td>3.0</td>\n",
       "      <td>3.0</td>\n",
       "      <td>3.0</td>\n",
       "      <td>0</td>\n",
       "    </tr>\n",
       "  </tbody>\n",
       "</table>\n",
       "<p>961 rows × 6 columns</p>\n",
       "</div>"
      ],
      "text/plain": [
       "     BI-RADS   Age  Shape  Margin  Density  Output\n",
       "0        5.0  67.0    3.0     5.0      3.0       1\n",
       "1        4.0  43.0    1.0     1.0      NaN       1\n",
       "2        5.0  58.0    4.0     5.0      3.0       1\n",
       "3        4.0  28.0    1.0     1.0      3.0       0\n",
       "4        5.0  74.0    1.0     5.0      NaN       1\n",
       "..       ...   ...    ...     ...      ...     ...\n",
       "956      4.0  47.0    2.0     1.0      3.0       0\n",
       "957      4.0  56.0    4.0     5.0      3.0       1\n",
       "958      4.0  64.0    4.0     5.0      3.0       0\n",
       "959      5.0  66.0    4.0     5.0      3.0       1\n",
       "960      4.0  62.0    3.0     3.0      3.0       0\n",
       "\n",
       "[961 rows x 6 columns]"
      ]
     },
     "execution_count": 2,
     "metadata": {},
     "output_type": "execute_result"
    }
   ],
   "source": [
    "# 데이터 불러오기\n",
    "df = pd.read_csv(\"mammographic.csv\")\n",
    "df"
   ]
  },
  {
   "cell_type": "code",
   "execution_count": 3,
   "metadata": {
    "ExecuteTime": {
     "end_time": "2021-09-24T06:45:16.294395Z",
     "start_time": "2021-09-24T06:45:16.281430Z"
    }
   },
   "outputs": [],
   "source": [
    "# 특징과 라벨 분리\n",
    "X = df.drop('Output', axis = 1)\n",
    "Y = df['Output']"
   ]
  },
  {
   "cell_type": "code",
   "execution_count": 4,
   "metadata": {
    "ExecuteTime": {
     "end_time": "2021-09-24T06:45:16.962129Z",
     "start_time": "2021-09-24T06:45:16.297387Z"
    }
   },
   "outputs": [],
   "source": [
    "# 학습 데이터와 평가 데이터 분할\n",
    "from sklearn.model_selection import train_test_split\n",
    "Train_X, Test_X, Train_Y, Test_Y = train_test_split(X, Y)"
   ]
  },
  {
   "cell_type": "code",
   "execution_count": 5,
   "metadata": {
    "ExecuteTime": {
     "end_time": "2021-09-24T06:45:16.977410Z",
     "start_time": "2021-09-24T06:45:16.964120Z"
    }
   },
   "outputs": [
    {
     "data": {
      "text/plain": [
       "BI-RADS     2\n",
       "Age         4\n",
       "Shape      23\n",
       "Margin     36\n",
       "Density    59\n",
       "dtype: int64"
      ]
     },
     "execution_count": 5,
     "metadata": {},
     "output_type": "execute_result"
    }
   ],
   "source": [
    "Train_X.isnull().sum(axis = 0) # 열별 결측치 개수 확인"
   ]
  },
  {
   "cell_type": "code",
   "execution_count": 6,
   "metadata": {
    "ExecuteTime": {
     "end_time": "2021-09-24T06:45:16.992340Z",
     "start_time": "2021-09-24T06:45:16.980372Z"
    }
   },
   "outputs": [
    {
     "data": {
      "text/plain": [
       "BI-RADS    0.002778\n",
       "Age        0.005556\n",
       "Shape      0.031944\n",
       "Margin     0.050000\n",
       "Density    0.081944\n",
       "dtype: float64"
      ]
     },
     "execution_count": 6,
     "metadata": {},
     "output_type": "execute_result"
    }
   ],
   "source": [
    "Train_X.isnull().sum(axis = 0) / len(Train_X) # 열별 결측치 비율 확인\n",
    "# 결측이 전체적으로 많은 편이 아니나, 모든 컬럼에 결측이 1회 이상 발생 => 열 삭제 불가\n",
    "\n",
    "# 이 경우 결측치 처리를 한다면 결측이 있는 '행' 자체를 모두 삭제하는 방법이 가장 일반적"
   ]
  },
  {
   "cell_type": "markdown",
   "metadata": {},
   "source": [
    "Train data의 결측치 제거"
   ]
  },
  {
   "cell_type": "code",
   "execution_count": 7,
   "metadata": {
    "ExecuteTime": {
     "end_time": "2021-09-24T06:45:17.008002Z",
     "start_time": "2021-09-24T06:45:16.994889Z"
    }
   },
   "outputs": [],
   "source": [
    "Train_X.dropna(inplace = True) # 결측이 포함된 레코드 제거\n",
    "# Train_X = Train_X.dropna() # inplace True가 default"
   ]
  },
  {
   "cell_type": "markdown",
   "metadata": {},
   "source": [
    "Test data의 결측치 제거"
   ]
  },
  {
   "cell_type": "code",
   "execution_count": 8,
   "metadata": {
    "ExecuteTime": {
     "end_time": "2021-09-24T06:45:17.023283Z",
     "start_time": "2021-09-24T06:45:17.009998Z"
    }
   },
   "outputs": [],
   "source": [
    "Test_X.dropna(inplace = True) # 결측이 포함된 레코드 제거 (주의: 새로 들어온 레코드의 결측이 있으면 처리하지 못함을 의미)"
   ]
  },
  {
   "cell_type": "markdown",
   "metadata": {},
   "source": [
    "## 열 단위 삭제\n",
    "---\n",
    "\n",
    "- 마찬가지로 2가지 조건을 만족하는 경우에만 삭제할 수 있다.\n",
    "\n",
    "1) 소수 변수에 결측이 많이 포함되어 있을 때 (e.g) sample이 1만개인데, 한 컬럼에만 결측치가 몇천개인 경우)\n",
    "\n",
    "2) 해당 변수들이 크게 중요하지 않을때 (도메인 지식으로 판단)"
   ]
  },
  {
   "cell_type": "code",
   "execution_count": 9,
   "metadata": {
    "ExecuteTime": {
     "end_time": "2021-09-24T06:45:17.054430Z",
     "start_time": "2021-09-24T06:45:17.025356Z"
    }
   },
   "outputs": [
    {
     "data": {
      "text/html": [
       "<div>\n",
       "<style scoped>\n",
       "    .dataframe tbody tr th:only-of-type {\n",
       "        vertical-align: middle;\n",
       "    }\n",
       "\n",
       "    .dataframe tbody tr th {\n",
       "        vertical-align: top;\n",
       "    }\n",
       "\n",
       "    .dataframe thead th {\n",
       "        text-align: right;\n",
       "    }\n",
       "</style>\n",
       "<table border=\"1\" class=\"dataframe\">\n",
       "  <thead>\n",
       "    <tr style=\"text-align: right;\">\n",
       "      <th></th>\n",
       "      <th>L-CORE</th>\n",
       "      <th>L-SURF</th>\n",
       "      <th>L-O2</th>\n",
       "      <th>L-BP</th>\n",
       "      <th>SURF-STBL</th>\n",
       "      <th>CORE-STBL</th>\n",
       "      <th>BP-STBL</th>\n",
       "      <th>COMFORT</th>\n",
       "      <th>Decision</th>\n",
       "    </tr>\n",
       "  </thead>\n",
       "  <tbody>\n",
       "    <tr>\n",
       "      <th>0</th>\n",
       "      <td>mid</td>\n",
       "      <td>low</td>\n",
       "      <td>excellent</td>\n",
       "      <td>mid</td>\n",
       "      <td>stable</td>\n",
       "      <td>stable</td>\n",
       "      <td>stable</td>\n",
       "      <td>15</td>\n",
       "      <td>A</td>\n",
       "    </tr>\n",
       "    <tr>\n",
       "      <th>1</th>\n",
       "      <td>mid</td>\n",
       "      <td>high</td>\n",
       "      <td>excellent</td>\n",
       "      <td>high</td>\n",
       "      <td>stable</td>\n",
       "      <td>stable</td>\n",
       "      <td>stable</td>\n",
       "      <td>?</td>\n",
       "      <td>S</td>\n",
       "    </tr>\n",
       "    <tr>\n",
       "      <th>2</th>\n",
       "      <td>high</td>\n",
       "      <td>low</td>\n",
       "      <td>excellent</td>\n",
       "      <td>high</td>\n",
       "      <td>stable</td>\n",
       "      <td>stable</td>\n",
       "      <td>mod-stable</td>\n",
       "      <td>?</td>\n",
       "      <td>A</td>\n",
       "    </tr>\n",
       "    <tr>\n",
       "      <th>3</th>\n",
       "      <td>mid</td>\n",
       "      <td>low</td>\n",
       "      <td>good</td>\n",
       "      <td>high</td>\n",
       "      <td>stable</td>\n",
       "      <td>unstable</td>\n",
       "      <td>mod-stable</td>\n",
       "      <td>15</td>\n",
       "      <td>A</td>\n",
       "    </tr>\n",
       "    <tr>\n",
       "      <th>4</th>\n",
       "      <td>mid</td>\n",
       "      <td>mid</td>\n",
       "      <td>excellent</td>\n",
       "      <td>high</td>\n",
       "      <td>stable</td>\n",
       "      <td>stable</td>\n",
       "      <td>stable</td>\n",
       "      <td>?</td>\n",
       "      <td>A</td>\n",
       "    </tr>\n",
       "  </tbody>\n",
       "</table>\n",
       "</div>"
      ],
      "text/plain": [
       "  L-CORE L-SURF       L-O2  L-BP SURF-STBL CORE-STBL     BP-STBL COMFORT  \\\n",
       "0    mid    low  excellent   mid    stable    stable      stable      15   \n",
       "1    mid   high  excellent  high    stable    stable      stable       ?   \n",
       "2   high    low  excellent  high    stable    stable  mod-stable       ?   \n",
       "3    mid    low       good  high    stable  unstable  mod-stable      15   \n",
       "4    mid    mid  excellent  high    stable    stable      stable       ?   \n",
       "\n",
       "  Decision  \n",
       "0        A  \n",
       "1        S  \n",
       "2        A  \n",
       "3        A  \n",
       "4        A  "
      ]
     },
     "execution_count": 9,
     "metadata": {},
     "output_type": "execute_result"
    }
   ],
   "source": [
    "# 데이터 불러오기\n",
    "df = pd.read_csv(\"post_operative.csv\")\n",
    "df.head()"
   ]
  },
  {
   "cell_type": "code",
   "execution_count": 10,
   "metadata": {
    "ExecuteTime": {
     "end_time": "2021-09-24T06:45:17.069361Z",
     "start_time": "2021-09-24T06:45:17.056396Z"
    }
   },
   "outputs": [],
   "source": [
    "# 특징과 라벨 분리\n",
    "X = df.drop('Decision', axis = 1)\n",
    "Y = df['Decision']"
   ]
  },
  {
   "cell_type": "code",
   "execution_count": 11,
   "metadata": {
    "ExecuteTime": {
     "end_time": "2021-09-24T06:45:17.085319Z",
     "start_time": "2021-09-24T06:45:17.073351Z"
    }
   },
   "outputs": [],
   "source": [
    "# 학습 데이터와 평가 데이터 분할\n",
    "from sklearn.model_selection import train_test_split\n",
    "Train_X, Test_X, Train_Y, Test_Y = train_test_split(X, Y)"
   ]
  },
  {
   "cell_type": "code",
   "execution_count": 12,
   "metadata": {
    "ExecuteTime": {
     "end_time": "2021-09-24T06:45:17.100278Z",
     "start_time": "2021-09-24T06:45:17.087313Z"
    }
   },
   "outputs": [
    {
     "data": {
      "text/html": [
       "<div>\n",
       "<style scoped>\n",
       "    .dataframe tbody tr th:only-of-type {\n",
       "        vertical-align: middle;\n",
       "    }\n",
       "\n",
       "    .dataframe tbody tr th {\n",
       "        vertical-align: top;\n",
       "    }\n",
       "\n",
       "    .dataframe thead th {\n",
       "        text-align: right;\n",
       "    }\n",
       "</style>\n",
       "<table border=\"1\" class=\"dataframe\">\n",
       "  <thead>\n",
       "    <tr style=\"text-align: right;\">\n",
       "      <th></th>\n",
       "      <th>L-CORE</th>\n",
       "      <th>L-SURF</th>\n",
       "      <th>L-O2</th>\n",
       "      <th>L-BP</th>\n",
       "      <th>SURF-STBL</th>\n",
       "      <th>CORE-STBL</th>\n",
       "      <th>BP-STBL</th>\n",
       "      <th>COMFORT</th>\n",
       "    </tr>\n",
       "  </thead>\n",
       "  <tbody>\n",
       "    <tr>\n",
       "      <th>15</th>\n",
       "      <td>high</td>\n",
       "      <td>high</td>\n",
       "      <td>excellent</td>\n",
       "      <td>high</td>\n",
       "      <td>unstable</td>\n",
       "      <td>stable</td>\n",
       "      <td>unstable</td>\n",
       "      <td>10</td>\n",
       "    </tr>\n",
       "    <tr>\n",
       "      <th>22</th>\n",
       "      <td>mid</td>\n",
       "      <td>mid</td>\n",
       "      <td>good</td>\n",
       "      <td>mid</td>\n",
       "      <td>unstable</td>\n",
       "      <td>stable</td>\n",
       "      <td>unstable</td>\n",
       "      <td>15</td>\n",
       "    </tr>\n",
       "    <tr>\n",
       "      <th>3</th>\n",
       "      <td>mid</td>\n",
       "      <td>low</td>\n",
       "      <td>good</td>\n",
       "      <td>high</td>\n",
       "      <td>stable</td>\n",
       "      <td>unstable</td>\n",
       "      <td>mod-stable</td>\n",
       "      <td>15</td>\n",
       "    </tr>\n",
       "    <tr>\n",
       "      <th>52</th>\n",
       "      <td>mid</td>\n",
       "      <td>low</td>\n",
       "      <td>excellent</td>\n",
       "      <td>high</td>\n",
       "      <td>unstable</td>\n",
       "      <td>stable</td>\n",
       "      <td>unstable</td>\n",
       "      <td>10</td>\n",
       "    </tr>\n",
       "    <tr>\n",
       "      <th>83</th>\n",
       "      <td>high</td>\n",
       "      <td>mid</td>\n",
       "      <td>excellent</td>\n",
       "      <td>mid</td>\n",
       "      <td>unstable</td>\n",
       "      <td>stable</td>\n",
       "      <td>unstable</td>\n",
       "      <td>5</td>\n",
       "    </tr>\n",
       "  </tbody>\n",
       "</table>\n",
       "</div>"
      ],
      "text/plain": [
       "   L-CORE L-SURF       L-O2  L-BP SURF-STBL CORE-STBL     BP-STBL COMFORT\n",
       "15   high   high  excellent  high  unstable    stable    unstable      10\n",
       "22    mid    mid       good   mid  unstable    stable    unstable      15\n",
       "3     mid    low       good  high    stable  unstable  mod-stable      15\n",
       "52    mid    low  excellent  high  unstable    stable    unstable      10\n",
       "83   high    mid  excellent   mid  unstable    stable    unstable       5"
      ]
     },
     "execution_count": 12,
     "metadata": {},
     "output_type": "execute_result"
    }
   ],
   "source": [
    "Train_X.head() # COMFORT 변수에 '?'로 결측이 표시되어 있음을 확인\n",
    "\n",
    "# 결측치 인데 별도의 문자로 표현을 한 경우 => 삭제"
   ]
  },
  {
   "cell_type": "markdown",
   "metadata": {},
   "source": [
    "운이 좋게 head()로 ?를 발견했지만, 그렇지 않을 경우도 있으므로 항상 unique() 함수를 통해 각 컬럼의 값들을 확인해 보는 것이 좋다."
   ]
  },
  {
   "cell_type": "code",
   "execution_count": 13,
   "metadata": {
    "ExecuteTime": {
     "end_time": "2021-09-24T06:45:17.115779Z",
     "start_time": "2021-09-24T06:45:17.104267Z"
    }
   },
   "outputs": [
    {
     "data": {
      "text/plain": [
       "array(['10', '15', '5', '?'], dtype=object)"
      ]
     },
     "execution_count": 13,
     "metadata": {},
     "output_type": "execute_result"
    }
   ],
   "source": [
    "Train_X['COMFORT'].unique()"
   ]
  },
  {
   "cell_type": "code",
   "execution_count": 14,
   "metadata": {
    "ExecuteTime": {
     "end_time": "2021-09-24T06:45:17.146576Z",
     "start_time": "2021-09-24T06:45:17.118651Z"
    }
   },
   "outputs": [
    {
     "data": {
      "text/plain": [
       "L-CORE       0.000000\n",
       "L-SURF       0.000000\n",
       "L-O2         0.000000\n",
       "L-BP         0.000000\n",
       "SURF-STBL    0.000000\n",
       "CORE-STBL    0.000000\n",
       "BP-STBL      0.000000\n",
       "COMFORT      0.283582\n",
       "dtype: float64"
      ]
     },
     "execution_count": 14,
     "metadata": {},
     "output_type": "execute_result"
    }
   ],
   "source": [
    "# 결측치 비율 확인\n",
    "\n",
    "import numpy as np\n",
    "# 결측이 '?'로 표시되어 있음 => 데이터에 대한 이해가 없으면 적절히 처리가 안될 수 있음\n",
    "Train_X.replace('?', np.nan).isnull().sum() / len(Train_X)"
   ]
  },
  {
   "cell_type": "code",
   "execution_count": 15,
   "metadata": {
    "ExecuteTime": {
     "end_time": "2021-09-24T06:45:17.162534Z",
     "start_time": "2021-09-24T06:45:17.151563Z"
    }
   },
   "outputs": [],
   "source": [
    "# 모든 결측이 COMFORT에 쏠렸으며(거의 0.3에 근접), 해당 변수가 중요하지 않다는 도메인 지식 기반 하에(가정) 삭제\n",
    "Train_X.dropna(axis = 1, inplace = True)\n",
    "\n",
    "\n",
    "\n",
    "\n",
    "# Test_X의 COMFORT에는 결측이 없을 수도 있으므로(이 경우 컬럼 삭제가 되지 않음), drop을 이용하여 삭제\n",
    "Test_X.drop('COMFORT', axis = 1, inplace = True) \n",
    "\n",
    "# 방법 2\n",
    "# Test_X = Test_X[Train_X.columns]\n",
    "# 이미 Train_X 는 drop이 진행된 상태이기 때문에, Train_X의 컬럼과 동일한 컬럼인 Test_X의 값만을 입력하도록 update할 수도 있다."
   ]
  },
  {
   "cell_type": "code",
   "execution_count": 16,
   "metadata": {
    "ExecuteTime": {
     "end_time": "2021-09-24T06:45:17.193452Z",
     "start_time": "2021-09-24T06:45:17.168518Z"
    }
   },
   "outputs": [
    {
     "data": {
      "text/plain": [
       "L-CORE       0\n",
       "L-SURF       0\n",
       "L-O2         0\n",
       "L-BP         0\n",
       "SURF-STBL    0\n",
       "CORE-STBL    0\n",
       "BP-STBL      0\n",
       "COMFORT      0\n",
       "dtype: int64"
      ]
     },
     "execution_count": 16,
     "metadata": {},
     "output_type": "execute_result"
    }
   ],
   "source": [
    "# 결과 확인\n",
    "Train_X.isnull().sum(axis = 0)"
   ]
  }
 ],
 "metadata": {
  "kernelspec": {
   "display_name": "Python 3 (ipykernel)",
   "language": "python",
   "name": "python3"
  },
  "language_info": {
   "codemirror_mode": {
    "name": "ipython",
    "version": 3
   },
   "file_extension": ".py",
   "mimetype": "text/x-python",
   "name": "python",
   "nbconvert_exporter": "python",
   "pygments_lexer": "ipython3",
   "version": "3.8.5"
  },
  "toc": {
   "base_numbering": 1,
   "nav_menu": {},
   "number_sections": true,
   "sideBar": true,
   "skip_h1_title": false,
   "title_cell": "Table of Contents",
   "title_sidebar": "Contents",
   "toc_cell": false,
   "toc_position": {},
   "toc_section_display": true,
   "toc_window_display": true
  },
  "varInspector": {
   "cols": {
    "lenName": 16,
    "lenType": 16,
    "lenVar": 40
   },
   "kernels_config": {
    "python": {
     "delete_cmd_postfix": "",
     "delete_cmd_prefix": "del ",
     "library": "var_list.py",
     "varRefreshCmd": "print(var_dic_list())"
    },
    "r": {
     "delete_cmd_postfix": ") ",
     "delete_cmd_prefix": "rm(",
     "library": "var_list.r",
     "varRefreshCmd": "cat(var_dic_list()) "
    }
   },
   "types_to_exclude": [
    "module",
    "function",
    "builtin_function_or_method",
    "instance",
    "_Feature"
   ],
   "window_display": false
  }
 },
 "nbformat": 4,
 "nbformat_minor": 2
}
