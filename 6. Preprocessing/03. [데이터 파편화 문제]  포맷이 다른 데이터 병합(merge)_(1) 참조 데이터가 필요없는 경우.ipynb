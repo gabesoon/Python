{
 "cells": [
  {
   "cell_type": "code",
   "execution_count": 1,
   "metadata": {
    "ExecuteTime": {
     "end_time": "2021-09-24T06:41:48.351318Z",
     "start_time": "2021-09-24T06:41:47.477125Z"
    }
   },
   "outputs": [],
   "source": [
    "import os\n",
    "import pandas as pd\n",
    "\n",
    "# 불필요한 경고 표시 생략\n",
    "import warnings\n",
    "warnings.filterwarnings(action = 'ignore')\n",
    "\n",
    "a=%pwd # 현재 경로 a에 할당\n",
    "os.chdir(a) # 파일 로드 경로 설정"
   ]
  },
  {
   "cell_type": "markdown",
   "metadata": {},
   "source": [
    " - 시간과 날짜 컬럼등은 데이터에 따라 포맷이 다른 경우가 많다.\n",
    " - 이때 단순하게 merge를 적용하면 결과는 나오지만, 비정상적인 병합이 될 수도 있다.\n",
    " - 따라서, `하나의 날짜/시간 컬럼을 다른 하나의 컬럼과 동일한 포맷으로 변경`해주어야 한다."
   ]
  },
  {
   "attachments": {},
   "cell_type": "markdown",
   "metadata": {},
   "source": [
    "![image](https://user-images.githubusercontent.com/74717033/134629783-fa416a66-9001-4ff8-b53b-2f8116ed1c38.png)"
   ]
  },
  {
   "attachments": {},
   "cell_type": "markdown",
   "metadata": {},
   "source": [
    "# 관련 문법 : Series.apply\n",
    "---\n",
    "- Series에 있는 모든 요소에 func를 `일괄 적용` 하는 함수 (map 함수와 유사하다)\n",
    "- apply함수는 `머신러닝 코드의 효율성 증가`에 매우 유용한 함수이다.\n",
    "\n",
    "\n",
    "주요 파라미터\n",
    "- func : Series의 한 요소를 처리하는 함수\n",
    "\n",
    "![image](https://user-images.githubusercontent.com/74717033/134629801-6cb4ccd5-963f-4452-b932-40223b292a33.png)"
   ]
  },
  {
   "cell_type": "code",
   "execution_count": 2,
   "metadata": {
    "ExecuteTime": {
     "end_time": "2021-09-24T06:41:48.381764Z",
     "start_time": "2021-09-24T06:41:48.354841Z"
    }
   },
   "outputs": [],
   "source": [
    "df1 = pd.read_csv(\"날짜포맷이다른데이터1.csv\") #YYYY-MM-DD 형태\n",
    "df2 = pd.read_csv(\"날짜포맷이다른데이터2.csv\") #YYYY년 MM월 DD일 형태"
   ]
  },
  {
   "cell_type": "code",
   "execution_count": 3,
   "metadata": {
    "ExecuteTime": {
     "end_time": "2021-09-24T06:41:48.411651Z",
     "start_time": "2021-09-24T06:41:48.383758Z"
    }
   },
   "outputs": [
    {
     "data": {
      "text/html": [
       "<div>\n",
       "<style scoped>\n",
       "    .dataframe tbody tr th:only-of-type {\n",
       "        vertical-align: middle;\n",
       "    }\n",
       "\n",
       "    .dataframe tbody tr th {\n",
       "        vertical-align: top;\n",
       "    }\n",
       "\n",
       "    .dataframe thead th {\n",
       "        text-align: right;\n",
       "    }\n",
       "</style>\n",
       "<table border=\"1\" class=\"dataframe\">\n",
       "  <thead>\n",
       "    <tr style=\"text-align: right;\">\n",
       "      <th></th>\n",
       "      <th>날짜</th>\n",
       "      <th>V1</th>\n",
       "    </tr>\n",
       "  </thead>\n",
       "  <tbody>\n",
       "    <tr>\n",
       "      <th>0</th>\n",
       "      <td>2018-01-01</td>\n",
       "      <td>0.330646</td>\n",
       "    </tr>\n",
       "    <tr>\n",
       "      <th>1</th>\n",
       "      <td>2018-01-02</td>\n",
       "      <td>0.418242</td>\n",
       "    </tr>\n",
       "    <tr>\n",
       "      <th>2</th>\n",
       "      <td>2018-01-03</td>\n",
       "      <td>0.307254</td>\n",
       "    </tr>\n",
       "    <tr>\n",
       "      <th>3</th>\n",
       "      <td>2018-01-04</td>\n",
       "      <td>0.441689</td>\n",
       "    </tr>\n",
       "    <tr>\n",
       "      <th>4</th>\n",
       "      <td>2018-01-05</td>\n",
       "      <td>0.402440</td>\n",
       "    </tr>\n",
       "  </tbody>\n",
       "</table>\n",
       "</div>"
      ],
      "text/plain": [
       "           날짜        V1\n",
       "0  2018-01-01  0.330646\n",
       "1  2018-01-02  0.418242\n",
       "2  2018-01-03  0.307254\n",
       "3  2018-01-04  0.441689\n",
       "4  2018-01-05  0.402440"
      ]
     },
     "execution_count": 3,
     "metadata": {},
     "output_type": "execute_result"
    }
   ],
   "source": [
    "df1.head()"
   ]
  },
  {
   "cell_type": "code",
   "execution_count": 4,
   "metadata": {
    "ExecuteTime": {
     "end_time": "2021-09-24T06:41:48.426612Z",
     "start_time": "2021-09-24T06:41:48.414644Z"
    }
   },
   "outputs": [
    {
     "data": {
      "text/html": [
       "<div>\n",
       "<style scoped>\n",
       "    .dataframe tbody tr th:only-of-type {\n",
       "        vertical-align: middle;\n",
       "    }\n",
       "\n",
       "    .dataframe tbody tr th {\n",
       "        vertical-align: top;\n",
       "    }\n",
       "\n",
       "    .dataframe thead th {\n",
       "        text-align: right;\n",
       "    }\n",
       "</style>\n",
       "<table border=\"1\" class=\"dataframe\">\n",
       "  <thead>\n",
       "    <tr style=\"text-align: right;\">\n",
       "      <th></th>\n",
       "      <th>날짜</th>\n",
       "      <th>V2</th>\n",
       "    </tr>\n",
       "  </thead>\n",
       "  <tbody>\n",
       "    <tr>\n",
       "      <th>0</th>\n",
       "      <td>2018년 1월 1일</td>\n",
       "      <td>0.936350</td>\n",
       "    </tr>\n",
       "    <tr>\n",
       "      <th>1</th>\n",
       "      <td>2018년 1월 2일</td>\n",
       "      <td>0.658967</td>\n",
       "    </tr>\n",
       "    <tr>\n",
       "      <th>2</th>\n",
       "      <td>2018년 1월 3일</td>\n",
       "      <td>0.895686</td>\n",
       "    </tr>\n",
       "    <tr>\n",
       "      <th>3</th>\n",
       "      <td>2018년 1월 4일</td>\n",
       "      <td>0.047194</td>\n",
       "    </tr>\n",
       "    <tr>\n",
       "      <th>4</th>\n",
       "      <td>2018년 1월 5일</td>\n",
       "      <td>0.520925</td>\n",
       "    </tr>\n",
       "  </tbody>\n",
       "</table>\n",
       "</div>"
      ],
      "text/plain": [
       "            날짜        V2\n",
       "0  2018년 1월 1일  0.936350\n",
       "1  2018년 1월 2일  0.658967\n",
       "2  2018년 1월 3일  0.895686\n",
       "3  2018년 1월 4일  0.047194\n",
       "4  2018년 1월 5일  0.520925"
      ]
     },
     "execution_count": 4,
     "metadata": {},
     "output_type": "execute_result"
    }
   ],
   "source": [
    "df2.head()"
   ]
  },
  {
   "cell_type": "markdown",
   "metadata": {},
   "source": [
    "서로 다른 포멧의 데이터여서 merge를 해도 빈칸으로 결합이 되기는 한다."
   ]
  },
  {
   "cell_type": "code",
   "execution_count": 5,
   "metadata": {
    "ExecuteTime": {
     "end_time": "2021-09-24T06:41:48.441571Z",
     "start_time": "2021-09-24T06:41:48.429604Z"
    }
   },
   "outputs": [],
   "source": [
    "# 아래의 2가지 방법으로 모두 가능\n",
    "\n",
    "merged_df1 = pd.merge(df1, df2, on='날짜')"
   ]
  },
  {
   "cell_type": "code",
   "execution_count": 6,
   "metadata": {
    "ExecuteTime": {
     "end_time": "2021-09-24T06:41:48.456466Z",
     "start_time": "2021-09-24T06:41:48.444564Z"
    }
   },
   "outputs": [],
   "source": [
    "merged_df2 = df1.merge(df2, on='날짜')"
   ]
  },
  {
   "cell_type": "code",
   "execution_count": 7,
   "metadata": {
    "ExecuteTime": {
     "end_time": "2021-09-24T06:41:48.471246Z",
     "start_time": "2021-09-24T06:41:48.459458Z"
    }
   },
   "outputs": [
    {
     "data": {
      "text/html": [
       "<div>\n",
       "<style scoped>\n",
       "    .dataframe tbody tr th:only-of-type {\n",
       "        vertical-align: middle;\n",
       "    }\n",
       "\n",
       "    .dataframe tbody tr th {\n",
       "        vertical-align: top;\n",
       "    }\n",
       "\n",
       "    .dataframe thead th {\n",
       "        text-align: right;\n",
       "    }\n",
       "</style>\n",
       "<table border=\"1\" class=\"dataframe\">\n",
       "  <thead>\n",
       "    <tr style=\"text-align: right;\">\n",
       "      <th></th>\n",
       "      <th>날짜</th>\n",
       "      <th>V1</th>\n",
       "      <th>V2</th>\n",
       "    </tr>\n",
       "  </thead>\n",
       "  <tbody>\n",
       "  </tbody>\n",
       "</table>\n",
       "</div>"
      ],
      "text/plain": [
       "Empty DataFrame\n",
       "Columns: [날짜, V1, V2]\n",
       "Index: []"
      ]
     },
     "execution_count": 7,
     "metadata": {},
     "output_type": "execute_result"
    }
   ],
   "source": [
    "merged_df1"
   ]
  },
  {
   "cell_type": "code",
   "execution_count": 8,
   "metadata": {
    "ExecuteTime": {
     "end_time": "2021-09-24T06:41:48.486206Z",
     "start_time": "2021-09-24T06:41:48.473240Z"
    }
   },
   "outputs": [
    {
     "data": {
      "text/html": [
       "<div>\n",
       "<style scoped>\n",
       "    .dataframe tbody tr th:only-of-type {\n",
       "        vertical-align: middle;\n",
       "    }\n",
       "\n",
       "    .dataframe tbody tr th {\n",
       "        vertical-align: top;\n",
       "    }\n",
       "\n",
       "    .dataframe thead th {\n",
       "        text-align: right;\n",
       "    }\n",
       "</style>\n",
       "<table border=\"1\" class=\"dataframe\">\n",
       "  <thead>\n",
       "    <tr style=\"text-align: right;\">\n",
       "      <th></th>\n",
       "      <th>날짜</th>\n",
       "      <th>V1</th>\n",
       "      <th>V2</th>\n",
       "    </tr>\n",
       "  </thead>\n",
       "  <tbody>\n",
       "  </tbody>\n",
       "</table>\n",
       "</div>"
      ],
      "text/plain": [
       "Empty DataFrame\n",
       "Columns: [날짜, V1, V2]\n",
       "Index: []"
      ]
     },
     "execution_count": 8,
     "metadata": {},
     "output_type": "execute_result"
    }
   ],
   "source": [
    "merged_df2"
   ]
  },
  {
   "cell_type": "markdown",
   "metadata": {},
   "source": [
    "하지만 제대로된 병합이 되지 않는다.\n",
    "\n",
    "따라서, 둘중 하나의 형식으로 날짜데이터의 포멧을 바꿔줄 필요가 있다.(포맷 통일)\n",
    "\n",
    "- df1의 날짜에서 '-'를 기준으로 분할(split)한 뒤에 각각의 분할된 데이터에 '년' ,'월' , '일' 을 붙여주는 방식으로 포맷 통일을 진행"
   ]
  },
  {
   "cell_type": "markdown",
   "metadata": {},
   "source": [
    "## 날짜 format 변경 함수 생성\n",
    "---\n",
    "- df1의 날짜 타입을 df2의 날짜 타입으로 변경하는 함수 작성 및 적용\n",
    "-  apply() 함수에 적용시킬 것이기 때문에 각 요소에 모두 적용이 가능하도록 작성되어야 한다.\n",
    "-  value : -으로 연결된 날짜 포멧의 값들\n",
    "----\n",
    "- MM에만 str(int(MM))를 두른 이유 : \n",
    "    - df1의 MM부분은 1자리수의 month의 경우 앞에 0이 붙어 있다. (01, 02, 03 등)\n",
    "    - 이를 df2의 형식과 일치 시키기 위해 int형으로 먼저 변경해서 0을 제거한 뒤 문자형(str)로 변경해서 '월' 과 붙여주는 것\n",
    "\n",
    "\n",
    "- 주의 사항 : 2018년 뒤에 공백이 1칸 있다. 그래서 \"년\"이 아니고 \"년 \" 이다. (월도 마찬가지)"
   ]
  },
  {
   "cell_type": "code",
   "execution_count": 9,
   "metadata": {
    "ExecuteTime": {
     "end_time": "2021-09-24T06:41:48.501685Z",
     "start_time": "2021-09-24T06:41:48.488200Z"
    }
   },
   "outputs": [],
   "source": [
    "def date_type_converter(value):\n",
    "    YYYY, MM, DD = value.split('-')\n",
    "    return YYYY + \"년 \" + str(int(MM)) + \"월 \" + str(int(DD)) + \"일\""
   ]
  },
  {
   "cell_type": "markdown",
   "metadata": {},
   "source": [
    "## 함수 적용"
   ]
  },
  {
   "cell_type": "code",
   "execution_count": 10,
   "metadata": {
    "ExecuteTime": {
     "end_time": "2021-09-24T06:41:48.517351Z",
     "start_time": "2021-09-24T06:41:48.504390Z"
    }
   },
   "outputs": [],
   "source": [
    "#함수 적용\n",
    "df1['날짜'] = df1['날짜'].apply(date_type_converter)"
   ]
  },
  {
   "cell_type": "markdown",
   "metadata": {},
   "source": [
    "## 데이터 병합"
   ]
  },
  {
   "cell_type": "code",
   "execution_count": 11,
   "metadata": {
    "ExecuteTime": {
     "end_time": "2021-09-24T06:41:48.532243Z",
     "start_time": "2021-09-24T06:41:48.519346Z"
    }
   },
   "outputs": [],
   "source": [
    "# 데이터 병합\n",
    "merged_df = pd.merge(df1, df2, on = '날짜')"
   ]
  },
  {
   "cell_type": "code",
   "execution_count": 12,
   "metadata": {
    "ExecuteTime": {
     "end_time": "2021-09-24T06:41:48.547203Z",
     "start_time": "2021-09-24T06:41:48.534238Z"
    }
   },
   "outputs": [
    {
     "data": {
      "text/html": [
       "<div>\n",
       "<style scoped>\n",
       "    .dataframe tbody tr th:only-of-type {\n",
       "        vertical-align: middle;\n",
       "    }\n",
       "\n",
       "    .dataframe tbody tr th {\n",
       "        vertical-align: top;\n",
       "    }\n",
       "\n",
       "    .dataframe thead th {\n",
       "        text-align: right;\n",
       "    }\n",
       "</style>\n",
       "<table border=\"1\" class=\"dataframe\">\n",
       "  <thead>\n",
       "    <tr style=\"text-align: right;\">\n",
       "      <th></th>\n",
       "      <th>날짜</th>\n",
       "      <th>V1</th>\n",
       "      <th>V2</th>\n",
       "    </tr>\n",
       "  </thead>\n",
       "  <tbody>\n",
       "    <tr>\n",
       "      <th>0</th>\n",
       "      <td>2018년 1월 1일</td>\n",
       "      <td>0.330646</td>\n",
       "      <td>0.936350</td>\n",
       "    </tr>\n",
       "    <tr>\n",
       "      <th>1</th>\n",
       "      <td>2018년 1월 2일</td>\n",
       "      <td>0.418242</td>\n",
       "      <td>0.658967</td>\n",
       "    </tr>\n",
       "    <tr>\n",
       "      <th>2</th>\n",
       "      <td>2018년 1월 3일</td>\n",
       "      <td>0.307254</td>\n",
       "      <td>0.895686</td>\n",
       "    </tr>\n",
       "    <tr>\n",
       "      <th>3</th>\n",
       "      <td>2018년 1월 4일</td>\n",
       "      <td>0.441689</td>\n",
       "      <td>0.047194</td>\n",
       "    </tr>\n",
       "    <tr>\n",
       "      <th>4</th>\n",
       "      <td>2018년 1월 5일</td>\n",
       "      <td>0.402440</td>\n",
       "      <td>0.520925</td>\n",
       "    </tr>\n",
       "  </tbody>\n",
       "</table>\n",
       "</div>"
      ],
      "text/plain": [
       "            날짜        V1        V2\n",
       "0  2018년 1월 1일  0.330646  0.936350\n",
       "1  2018년 1월 2일  0.418242  0.658967\n",
       "2  2018년 1월 3일  0.307254  0.895686\n",
       "3  2018년 1월 4일  0.441689  0.047194\n",
       "4  2018년 1월 5일  0.402440  0.520925"
      ]
     },
     "execution_count": 12,
     "metadata": {},
     "output_type": "execute_result"
    }
   ],
   "source": [
    "merged_df.head()"
   ]
  }
 ],
 "metadata": {
  "kernelspec": {
   "display_name": "Python 3 (ipykernel)",
   "language": "python",
   "name": "python3"
  },
  "language_info": {
   "codemirror_mode": {
    "name": "ipython",
    "version": 3
   },
   "file_extension": ".py",
   "mimetype": "text/x-python",
   "name": "python",
   "nbconvert_exporter": "python",
   "pygments_lexer": "ipython3",
   "version": "3.8.5"
  },
  "toc": {
   "base_numbering": 1,
   "nav_menu": {},
   "number_sections": true,
   "sideBar": true,
   "skip_h1_title": false,
   "title_cell": "Table of Contents",
   "title_sidebar": "Contents",
   "toc_cell": false,
   "toc_position": {
    "height": "calc(100% - 180px)",
    "left": "10px",
    "top": "150px",
    "width": "383.594px"
   },
   "toc_section_display": true,
   "toc_window_display": false
  },
  "varInspector": {
   "cols": {
    "lenName": 16,
    "lenType": 16,
    "lenVar": 40
   },
   "kernels_config": {
    "python": {
     "delete_cmd_postfix": "",
     "delete_cmd_prefix": "del ",
     "library": "var_list.py",
     "varRefreshCmd": "print(var_dic_list())"
    },
    "r": {
     "delete_cmd_postfix": ") ",
     "delete_cmd_prefix": "rm(",
     "library": "var_list.r",
     "varRefreshCmd": "cat(var_dic_list()) "
    }
   },
   "types_to_exclude": [
    "module",
    "function",
    "builtin_function_or_method",
    "instance",
    "_Feature"
   ],
   "window_display": false
  }
 },
 "nbformat": 4,
 "nbformat_minor": 2
}
