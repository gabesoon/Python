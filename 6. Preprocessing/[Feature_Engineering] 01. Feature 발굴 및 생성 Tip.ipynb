{
 "cells": [
  {
   "cell_type": "markdown",
   "metadata": {},
   "source": [
    "# Feature 란 무엇인가?\n",
    "---\n",
    "\n",
    "- 인공지능 모델로 문제를 풀고자 할때 모델에 전달하는 문제 해결의 재료(열쇠)<br><br>\n",
    "\n",
    "- 풀고자 하는 문제에 대해 이해도가 높을 수록 좋은 feature를 선정할 가능성이 높다.<br>\n",
    "    - 즉, 문제에 대한 도메인 지식도 매우 중요.<br><br>\n",
    "\n",
    "- 도메인 지식이 높을수록, 수많은 feature중에 불필요한 것들을 쉽게 골라낼 수 있다.\n"
   ]
  },
  {
   "cell_type": "markdown",
   "metadata": {},
   "source": [
    "# Feature 발굴\n",
    "---\n",
    "\n",
    "- Feature를 발굴한다? : 데이터의 도메인 지식을 활용해 feature를 만드는 과정\n",
    "\n",
    "\n",
    "- 실무적으로는 도메인 전문가 팀과 분석가 간의 협업을 통해 해결 가능<br>\n",
    "    - 이 부분에서 협업이 잘 이뤄져야 최종 모델의 성을을 높일 수 있다.\n",
    "\n",
    "\n",
    "- 기본 적으로는 목표 결과 (Output)과 관련이 있는 or 있을 것 같은 feature는 모두 선택 & 발굴 해내는 것이 좋다."
   ]
  },
  {
   "cell_type": "markdown",
   "metadata": {},
   "source": [
    "## Log Transform을 활용하자.\n",
    "---\n",
    "\n",
    "- 값의 물리적 의미를 고려해서 선택해야 한다.\n",
    "\n",
    "\n",
    "- e.g) 소리의 크기는 db단위로 측정된다. (log값으로 사용)\n",
    "\n",
    "\n",
    "- 데이터의 어떤 값이 log, linear-scale, 제곱 등 다양한 scale이 존재한다.\n",
    "\n",
    "\n",
    "- 이때 feature의 값을 어떤 scale로 해서 사용할 것인가도 중요한 요소이다.\n",
    "\n",
    "- 이는 Case by Case이다.\n",
    "\n",
    "\n",
    "- 때로는, Negative값 밖에 없는 데이터지만 이를 Positive로 변형했을 때 의미가 더 있을 수도 있다 .이럴 때는 과감히 값의 scale을 shift하는 것도 하나의 방식이다.(by.절대값처리 등)"
   ]
  },
  {
   "cell_type": "markdown",
   "metadata": {},
   "source": [
    "## Binning을 고려하자\n",
    "---\n",
    "\n",
    "- 분포 데이터의 경우 고려해볼 문제.\n",
    "\n",
    "![image](https://user-images.githubusercontent.com/74717033/135272536-be8dbcd0-57a9-43e5-83c2-ae5f468e8341.png)\n",
    "\n",
    "- 위와 같이 데이터가 분포해 있다고 할때, 이 값을 x축의 값 별로 데이터를 모두 넣기 보다는 binning하여 구간별로 사용하는 방법을 고려해볼 필요가 있다.<br><br>\n",
    "    - 이 방법은 특정 대역이 유의미한 데이터를 가질때, 이를 모델이 더 잘 전달받아 활용할 수 있게 된다.\n",
    "\n",
    "\n",
    "- 혹은 광범위한 데이터를 요약해서 사용하는 경우도 생각해볼 수 있다.<br>\n",
    "    - 분포 데이터에서 가장 쉽게 적용 가능한 방법은 평균 , 분산 등을 활용 하는 것이다.\n",
    "    \n"
   ]
  },
  {
   "cell_type": "markdown",
   "metadata": {},
   "source": [
    "## One-Hot Encoding\n",
    "---\n",
    "\n",
    "- 범주형 데이터에 가장 많이 적용하는 방법\n",
    "\n",
    "![image](https://user-images.githubusercontent.com/74717033/135273261-26e655cc-21e8-4202-a129-3977665e6509.png)\n",
    "\n",
    "- 위와 같은 데이터가 있다고 할때, 'Product_ID' 를 그대로 사용 하는 것은 문제가 있다. (문자형 이라면 괜찮지만 숫자형이라면 문제가 된다.)<br>\n",
    "    -  이를 판단하는 가장 쉬운 방법은 숫자간의 관계가 숫자간의 배수만큼 의미가 있는가를 따져 보면 된다.<br>\n",
    "    - e.g) Product_ID의 3이라는 데이터는 1이라는 데이터보다 3배 더 가치가 있는가? 혹은 3배더 큰가? 를 따져봐야 함.<br>\n",
    "    - 이 경우는 One-Hot Encoding을 사용하는 것이 좋다.<br><br>\n",
    "\n",
    "- 다만, Product_ID 의 값이 너무 많으면 과도한 학습시간이 소요될 수 있으니 주의해야 한다. (차원이 늘어났기 때문 = 차원의 저주 위험성!)"
   ]
  },
  {
   "cell_type": "markdown",
   "metadata": {},
   "source": [
    "## 데이터를 의미에 따라 split하자\n",
    "---\n",
    "\n",
    "![image](https://user-images.githubusercontent.com/74717033/135274028-5f765980-e0a6-4c7b-afb7-87e089411c0f.png)\n",
    "\n",
    "- 위와 같은 데이터가 있을 때, 각 숫자별로 의미를 가진 데이터일 수 있다.<br><br>\n",
    "\n",
    "- 이 경우에는 데이터를 새로운 컬럼으로 split해서 사용하는 것이 좋다.<br><br>\n",
    "\n",
    "- e.g) '시-군-구' , '연-월-일' 형태로 이뤄진 데이터도 비슷한 케이스"
   ]
  },
  {
   "cell_type": "markdown",
   "metadata": {},
   "source": [
    "# Feature 생성 & 합성\n",
    "---\n",
    "\n",
    "- 발굴한 feature를 가공해서 새로운 feature를 만드는 과정<br><br>\n",
    "\n",
    "- 실질적인 feature engineering <br><br>\n",
    "\n",
    "- e.g) 데이터가 부족한 고차원 set : feature는 매우 많지만 데이터는 매우 적은 경우 -> PCA로 차원 축소 시도해보기(무조건적인 것은 아님)<br><br>\n",
    "\n",
    "- 데이터 생성의 예시<br>\n",
    "    - 주행거리 & 연료 소비량 데이터 => 주행거리 / 연료 소비량 = '연비'<br>\n",
    "    - 신장 & 체중 -> 체질량 계수<br>\n",
    "    - 시가 & 종가 -> 등락률<br>\n",
    "    - 시가 총액 & 등락률 -> 코스피 지수의 지수 기여도<br>\n",
    "    - 결국, 보유한 feature들을 갖고, 연산하여 새로운 의미를 만들어 내는 과정"
   ]
  },
  {
   "cell_type": "markdown",
   "metadata": {},
   "source": [
    "## Mean Encoding (feature 생성)\n",
    "---\n",
    "\n",
    "- 범주형 데이터는 mean encoding으로 category-traget간의 관계성을 부여할 수 있다.\n",
    "\n",
    "![image](https://user-images.githubusercontent.com/74717033/135275199-7cf9b088-3a80-4e14-ad93-4f729f081817.png)\n",
    "\n",
    "- 자동차 모델명(feature)들을 One-Hot Encoding을 해서 Feature_label을 만들었다.<br><br>\n",
    "- 이 경우 각 숫자는 feature인 자동차 회사명을 대신하는 자료밖에 되지 않는다.<br><br>\n",
    "- 이를 시각화 해보면 우측의 label encoding한 그래프와 같다.<br><br>\n",
    "- 이것은 target과는 상관성이 전혀 없는 임의의 숫자 or 코드 일 뿐이다.<br><br>\n",
    "- mean encoding은 이를 극복할 수 있게 도와 준다.<br><br>\n",
    "\n",
    "- feature 혹은 feature_label에 대한 traget 수치를 평균을 내서 (feature_mean) 하나의 새로운 feature로 사용하는 것이다. (우측 하단 그래프)"
   ]
  },
  {
   "cell_type": "markdown",
   "metadata": {},
   "source": [
    "## Feature 합성에 많이 사용되는 Modules\n",
    "\n",
    "- 'Featuretools'는 feature 합성에 많이 사용된다.<br>\n",
    "    - 여러 feature를 조합해서 feature를 만들어 주는 모듈<br><br>\n",
    "    \n",
    "- 시계열 데이터의 경우 'tsfresh'를 많이 사용한다.<br>\n",
    "    - 시계열 데이터의 feak point, bottom point, seasonal 한 주기등을 자동으로 찾아서 feature로 만들어 주는 tool<br><br>\n",
    "    \n",
    "- 이 모듈들은 feature 생성 & 합성에 도움을 주는 모듈이지만 절대적이진 않으므로 검증이 반드시 필요하다. "
   ]
  }
 ],
 "metadata": {
  "kernelspec": {
   "display_name": "Python 3 (ipykernel)",
   "language": "python",
   "name": "python3"
  },
  "language_info": {
   "codemirror_mode": {
    "name": "ipython",
    "version": 3
   },
   "file_extension": ".py",
   "mimetype": "text/x-python",
   "name": "python",
   "nbconvert_exporter": "python",
   "pygments_lexer": "ipython3",
   "version": "3.8.5"
  },
  "toc": {
   "base_numbering": 1,
   "nav_menu": {},
   "number_sections": true,
   "sideBar": true,
   "skip_h1_title": false,
   "title_cell": "Table of Contents",
   "title_sidebar": "Contents",
   "toc_cell": false,
   "toc_position": {},
   "toc_section_display": true,
   "toc_window_display": false
  },
  "varInspector": {
   "cols": {
    "lenName": 16,
    "lenType": 16,
    "lenVar": 40
   },
   "kernels_config": {
    "python": {
     "delete_cmd_postfix": "",
     "delete_cmd_prefix": "del ",
     "library": "var_list.py",
     "varRefreshCmd": "print(var_dic_list())"
    },
    "r": {
     "delete_cmd_postfix": ") ",
     "delete_cmd_prefix": "rm(",
     "library": "var_list.r",
     "varRefreshCmd": "cat(var_dic_list()) "
    }
   },
   "types_to_exclude": [
    "module",
    "function",
    "builtin_function_or_method",
    "instance",
    "_Feature"
   ],
   "window_display": false
  }
 },
 "nbformat": 4,
 "nbformat_minor": 4
}
