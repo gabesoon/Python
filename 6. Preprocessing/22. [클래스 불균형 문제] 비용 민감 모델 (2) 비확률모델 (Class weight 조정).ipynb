{
 "cells": [
  {
   "attachments": {},
   "cell_type": "markdown",
   "metadata": {},
   "source": [
    "# 비확률 모델\n",
    "---\n",
    "- 비확률 모델은 2가지 종류가 있다. (1) SVM을 응용한 모델, (2) Decision Tree를 이용한 모델\n",
    "---\n",
    "\n",
    "# 서포트 벡터 머신\n",
    "---\n",
    "\n",
    "![image](https://user-images.githubusercontent.com/74717033/134631731-aea585ed-3579-415c-8335-4cdecbd23064.png)\n",
    "\n",
    "---\n",
    "\n",
    "- 기본적인 SVM 모델은 샘플 i가 위음성비용인지, 위양성 비용인지 구분이 되어 있지 않다.\n",
    "- 반대로 비용 민감 SVM은 위음성비용과 위양성 비용을 고려하고 있다.\n",
    "- 위음성비용(긍정을 부정으로 오해한 비용)이 관심있는 분류값이므로 C1값을 더 크게 두는 것이다."
   ]
  },
  {
   "attachments": {},
   "cell_type": "markdown",
   "metadata": {},
   "source": [
    "# Decision Tree \n",
    "---\n",
    "- 일반적인 의사결정 나무 모델 뿐만이 아니라, Tree기반의 모델(KNN, RandomForest, XGBoost, LightGBM 등의 모델에도 적용가능한 이론)\n",
    "- 소수 클래스에 대한 가중치를 부여해서 가급적이면 소수치로 분류되도록 조정하는 것이 핵심이다.\n",
    "---\n",
    "\n",
    "![image](https://user-images.githubusercontent.com/74717033/134631745-4c2cb51b-cc1d-4de8-b698-f8f3a0374317.png)\n",
    "\n",
    "---\n",
    "- 1) 위의 그림처럼 동그라미는 다수 클래스, 세모는 소수 클래스라 가정\n",
    "- 2) [각 클래스별 샘플의 개수 x 가중치] 한 값을 비교해서 클래스를 판별한다.\n",
    "- 2) w1을 1로두고 다수 클래스에 곱해주고, w2는 소수 클래스에 두고 `긍정이 부정보다 중요한 정도` 를 값으로 설정한다.\n",
    "    - 일반적으로 w1을 1로 두고, w2를 클래스의 불균형 비율로 설정한다."
   ]
  },
  {
   "cell_type": "markdown",
   "metadata": {},
   "source": [
    "# 관련 문법 : class_weight\n",
    "---\n",
    "\n",
    "- DecisionTreeClassifier, SVC, RandomForestClassifier 등에있는 파라미터\n",
    "- 사전 형태로 값을 입력한다.\n",
    "    - key : class이름 (e.g : C1, C2)\n",
    "    - value : class weight\n",
    "\n",
    "- SVC로 예시를 든다면 아래와 같이 입력하게 된다.\n",
    "```python\n",
    "SVC(class_weight = {1:10, -1:1}) #클래스 1에 클래스-1의 10배만큼 가중치를 부여\n",
    "```"
   ]
  },
  {
   "cell_type": "code",
   "execution_count": 1,
   "metadata": {
    "ExecuteTime": {
     "end_time": "2021-09-24T06:58:28.998898Z",
     "start_time": "2021-09-24T06:58:28.215688Z"
    }
   },
   "outputs": [],
   "source": [
    "import os\n",
    "import pandas as pd\n",
    "\n",
    "# 불필요한 경고 표시 생략\n",
    "import warnings\n",
    "warnings.filterwarnings(action = 'ignore')\n",
    "\n",
    "a=%pwd # 현재 경로 a에 할당\n",
    "os.chdir(a) # 파일 로드 경로 설정"
   ]
  },
  {
   "cell_type": "markdown",
   "metadata": {},
   "source": [
    "웹페이지의 특정 부분이 text인지 image인지를 정리한 언더샘플링 실습용 데이터"
   ]
  },
  {
   "cell_type": "code",
   "execution_count": 2,
   "metadata": {
    "ExecuteTime": {
     "end_time": "2021-09-24T06:58:29.044299Z",
     "start_time": "2021-09-24T06:58:29.001891Z"
    }
   },
   "outputs": [
    {
     "data": {
      "text/html": [
       "<div>\n",
       "<style scoped>\n",
       "    .dataframe tbody tr th:only-of-type {\n",
       "        vertical-align: middle;\n",
       "    }\n",
       "\n",
       "    .dataframe tbody tr th {\n",
       "        vertical-align: top;\n",
       "    }\n",
       "\n",
       "    .dataframe thead th {\n",
       "        text-align: right;\n",
       "    }\n",
       "</style>\n",
       "<table border=\"1\" class=\"dataframe\">\n",
       "  <thead>\n",
       "    <tr style=\"text-align: right;\">\n",
       "      <th></th>\n",
       "      <th>Height</th>\n",
       "      <th>Lenght</th>\n",
       "      <th>Area</th>\n",
       "      <th>Eccen</th>\n",
       "      <th>P_black</th>\n",
       "      <th>P_and</th>\n",
       "      <th>Mean_tr</th>\n",
       "      <th>Blackpix</th>\n",
       "      <th>Blackand</th>\n",
       "      <th>Wb_trans</th>\n",
       "      <th>Class</th>\n",
       "    </tr>\n",
       "  </thead>\n",
       "  <tbody>\n",
       "    <tr>\n",
       "      <th>0</th>\n",
       "      <td>5</td>\n",
       "      <td>7</td>\n",
       "      <td>35</td>\n",
       "      <td>1.400</td>\n",
       "      <td>0.400</td>\n",
       "      <td>0.657</td>\n",
       "      <td>2.33</td>\n",
       "      <td>14</td>\n",
       "      <td>23</td>\n",
       "      <td>6</td>\n",
       "      <td>negative</td>\n",
       "    </tr>\n",
       "    <tr>\n",
       "      <th>1</th>\n",
       "      <td>6</td>\n",
       "      <td>7</td>\n",
       "      <td>42</td>\n",
       "      <td>1.167</td>\n",
       "      <td>0.429</td>\n",
       "      <td>0.881</td>\n",
       "      <td>3.60</td>\n",
       "      <td>18</td>\n",
       "      <td>37</td>\n",
       "      <td>5</td>\n",
       "      <td>negative</td>\n",
       "    </tr>\n",
       "    <tr>\n",
       "      <th>2</th>\n",
       "      <td>6</td>\n",
       "      <td>18</td>\n",
       "      <td>108</td>\n",
       "      <td>3.000</td>\n",
       "      <td>0.287</td>\n",
       "      <td>0.741</td>\n",
       "      <td>4.43</td>\n",
       "      <td>31</td>\n",
       "      <td>80</td>\n",
       "      <td>7</td>\n",
       "      <td>negative</td>\n",
       "    </tr>\n",
       "    <tr>\n",
       "      <th>3</th>\n",
       "      <td>5</td>\n",
       "      <td>7</td>\n",
       "      <td>35</td>\n",
       "      <td>1.400</td>\n",
       "      <td>0.371</td>\n",
       "      <td>0.743</td>\n",
       "      <td>4.33</td>\n",
       "      <td>13</td>\n",
       "      <td>26</td>\n",
       "      <td>3</td>\n",
       "      <td>negative</td>\n",
       "    </tr>\n",
       "    <tr>\n",
       "      <th>4</th>\n",
       "      <td>6</td>\n",
       "      <td>3</td>\n",
       "      <td>18</td>\n",
       "      <td>500.000</td>\n",
       "      <td>0.500</td>\n",
       "      <td>0.944</td>\n",
       "      <td>2.25</td>\n",
       "      <td>9</td>\n",
       "      <td>17</td>\n",
       "      <td>4</td>\n",
       "      <td>negative</td>\n",
       "    </tr>\n",
       "  </tbody>\n",
       "</table>\n",
       "</div>"
      ],
      "text/plain": [
       "   Height  Lenght  Area    Eccen  P_black  P_and  Mean_tr  Blackpix  Blackand  \\\n",
       "0       5       7    35    1.400    0.400  0.657     2.33        14        23   \n",
       "1       6       7    42    1.167    0.429  0.881     3.60        18        37   \n",
       "2       6      18   108    3.000    0.287  0.741     4.43        31        80   \n",
       "3       5       7    35    1.400    0.371  0.743     4.33        13        26   \n",
       "4       6       3    18  500.000    0.500  0.944     2.25         9        17   \n",
       "\n",
       "   Wb_trans     Class  \n",
       "0         6  negative  \n",
       "1         5  negative  \n",
       "2         7  negative  \n",
       "3         3  negative  \n",
       "4         4  negative  "
      ]
     },
     "execution_count": 2,
     "metadata": {},
     "output_type": "execute_result"
    }
   ],
   "source": [
    "df = pd.read_csv(\"page-blocks0.csv\")\n",
    "df.head()"
   ]
  },
  {
   "cell_type": "code",
   "execution_count": 3,
   "metadata": {
    "ExecuteTime": {
     "end_time": "2021-09-24T06:58:29.060257Z",
     "start_time": "2021-09-24T06:58:29.046317Z"
    },
    "scrolled": true
   },
   "outputs": [],
   "source": [
    "# 특징과 라벨 분리\n",
    "X = df.drop('Class', axis = 1)\n",
    "Y = df['Class']"
   ]
  },
  {
   "cell_type": "code",
   "execution_count": 4,
   "metadata": {
    "ExecuteTime": {
     "end_time": "2021-09-24T06:58:29.816897Z",
     "start_time": "2021-09-24T06:58:29.065243Z"
    }
   },
   "outputs": [],
   "source": [
    "# 학습 데이터와 평가 데이터 분할\n",
    "from sklearn.model_selection import train_test_split\n",
    "Train_X, Test_X, Train_Y, Test_Y = train_test_split(X, Y)"
   ]
  },
  {
   "cell_type": "code",
   "execution_count": 5,
   "metadata": {
    "ExecuteTime": {
     "end_time": "2021-09-24T06:58:29.832545Z",
     "start_time": "2021-09-24T06:58:29.819889Z"
    },
    "scrolled": true
   },
   "outputs": [
    {
     "data": {
      "text/plain": [
       "negative    3690\n",
       "positive     414\n",
       "Name: Class, dtype: int64"
      ]
     },
     "execution_count": 5,
     "metadata": {},
     "output_type": "execute_result"
    }
   ],
   "source": [
    "# 클래스 불균형 확인 => 오버/언더샘플링을 적용하기에는 부적절 \n",
    "Train_Y.value_counts()"
   ]
  },
  {
   "cell_type": "markdown",
   "metadata": {},
   "source": [
    "클래스명을 1과 -1로 변경"
   ]
  },
  {
   "cell_type": "code",
   "execution_count": 6,
   "metadata": {
    "ExecuteTime": {
     "end_time": "2021-09-24T06:58:29.847302Z",
     "start_time": "2021-09-24T06:58:29.835588Z"
    }
   },
   "outputs": [],
   "source": [
    "Train_Y.replace({\"negative\":-1, \"positive\":1}, inplace = True)\n",
    "Test_Y.replace({\"negative\":-1, \"positive\":1}, inplace = True)"
   ]
  },
  {
   "cell_type": "code",
   "execution_count": 7,
   "metadata": {
    "ExecuteTime": {
     "end_time": "2021-09-24T06:58:29.863259Z",
     "start_time": "2021-09-24T06:58:29.850294Z"
    }
   },
   "outputs": [
    {
     "data": {
      "text/plain": [
       "8.91304347826087"
      ]
     },
     "execution_count": 7,
     "metadata": {},
     "output_type": "execute_result"
    }
   ],
   "source": [
    "# 클래스 불균형 비율 계산\n",
    "Train_Y.value_counts().iloc[0] / Train_Y.value_counts().iloc[-1]"
   ]
  },
  {
   "cell_type": "code",
   "execution_count": 8,
   "metadata": {
    "ExecuteTime": {
     "end_time": "2021-09-24T06:58:30.043826Z",
     "start_time": "2021-09-24T06:58:29.866286Z"
    }
   },
   "outputs": [
    {
     "name": "stdout",
     "output_type": "stream",
     "text": [
      "0.6620689655172414\n",
      "0.9539473684210527\n"
     ]
    }
   ],
   "source": [
    "# kNN을 사용한 클래스 불균형 테스트\n",
    "from sklearn.neighbors import KNeighborsClassifier as KNN\n",
    "from sklearn.metrics import *\n",
    "\n",
    "# 모델 인스턴스 생성\n",
    "kNN_model = KNN(n_neighbors = 11).fit(Train_X, Train_Y)\n",
    "\n",
    "# 예측\n",
    "pred_Y = kNN_model.predict(Test_X)\n",
    "\n",
    "# 재현율 & 정확도\n",
    "print(recall_score(Test_Y, pred_Y))\n",
    "print(accuracy_score(Test_Y, pred_Y))"
   ]
  },
  {
   "cell_type": "markdown",
   "metadata": {},
   "source": [
    "- 재현율이 66%로 불균형이 심각한 수준은 아닌 것으로 판단 된다."
   ]
  },
  {
   "cell_type": "markdown",
   "metadata": {},
   "source": [
    "# SVM을 통한 비용민감 모델 구현"
   ]
  },
  {
   "cell_type": "code",
   "execution_count": 9,
   "metadata": {
    "ExecuteTime": {
     "end_time": "2021-09-24T06:58:30.058531Z",
     "start_time": "2021-09-24T06:58:30.045990Z"
    }
   },
   "outputs": [],
   "source": [
    "from sklearn.svm import SVC"
   ]
  },
  {
   "cell_type": "code",
   "execution_count": 10,
   "metadata": {
    "ExecuteTime": {
     "end_time": "2021-09-24T06:58:30.270389Z",
     "start_time": "2021-09-24T06:58:30.066510Z"
    }
   },
   "outputs": [
    {
     "name": "stdout",
     "output_type": "stream",
     "text": [
      "0.07586206896551724\n",
      "0.8998538011695907\n"
     ]
    }
   ],
   "source": [
    "# 모델 인스턴스화 & fitting\n",
    "model = SVC().fit(Train_X, Train_Y)\n",
    "\n",
    "# 예측\n",
    "pred_Y = model.predict(Test_X)\n",
    "\n",
    "# 재현율 & 정확도 출력\n",
    "print(recall_score(Test_Y, pred_Y))\n",
    "print(accuracy_score(Test_Y, pred_Y))"
   ]
  },
  {
   "cell_type": "markdown",
   "metadata": {},
   "source": [
    "- KNN과 비교했을때, 재현율이 급격하게 하락했다.(성능하락) \n",
    "- 이때문에 SVM이 클래스 분류에 있어 KNN보다 민감하다고 오해할 수 있다.\n",
    "- 하지만 SVM 은 파라미터 수정을 전혀 하지 않은 것 (비용 민감 모델 실습위해 별도 지정하지 않음)\n",
    "- 보편적으로 볼때는 되려 KNN보다 SVM이 클래스 분류 문제에 더 둔감하다(=강건하다)\n",
    "    -FYI : `클래스 모델에 둔감하다/강건하다 (<-> 민감하다)` 라는 표현이 더 성능이 좋은 모델이다 라는 뜻"
   ]
  },
  {
   "cell_type": "markdown",
   "metadata": {},
   "source": [
    "# SVM class_weight 조정"
   ]
  },
  {
   "cell_type": "code",
   "execution_count": 11,
   "metadata": {
    "ExecuteTime": {
     "end_time": "2021-09-24T06:58:30.862374Z",
     "start_time": "2021-09-24T06:58:30.273380Z"
    }
   },
   "outputs": [
    {
     "name": "stdout",
     "output_type": "stream",
     "text": [
      "0.9379310344827586\n",
      "0.6440058479532164\n"
     ]
    }
   ],
   "source": [
    "# 클래스 웨이트 조정\n",
    "# 클래스 -1 대비 8배 큰 가중치를 클래스 1에 부여\n",
    "model = SVC(class_weight = {1:8, -1:1}).fit(Train_X, Train_Y)\n",
    "pred_Y = model.predict(Test_X)\n",
    "\n",
    "# 재현율 & 정확도 출력\n",
    "print(recall_score(Test_Y, pred_Y))\n",
    "print(accuracy_score(Test_Y, pred_Y))"
   ]
  },
  {
   "cell_type": "markdown",
   "metadata": {},
   "source": [
    "- 재현율은 급격하게 상승했지만, 정확도가 60%대로 급격하게 하락했다.\n",
    "- 여기서 부터는 분석가의 주관적 판단이 중요하다.\n",
    "- 긍정클래스에 집중을 했기 때문에 위와 같은 가중치 조절이 이루어진 것이다.\n",
    "- 하지만 부정 클래스에 대한 중요도를 좀더 고려(정확도 향상)을 원한다면 클래스 1에 대한 가중치 비율을 줄이는 식으로 조정이 가능할 것이다."
   ]
  }
 ],
 "metadata": {
  "kernelspec": {
   "display_name": "Python 3 (ipykernel)",
   "language": "python",
   "name": "python3"
  },
  "language_info": {
   "codemirror_mode": {
    "name": "ipython",
    "version": 3
   },
   "file_extension": ".py",
   "mimetype": "text/x-python",
   "name": "python",
   "nbconvert_exporter": "python",
   "pygments_lexer": "ipython3",
   "version": "3.8.5"
  },
  "toc": {
   "base_numbering": 1,
   "nav_menu": {},
   "number_sections": true,
   "sideBar": true,
   "skip_h1_title": false,
   "title_cell": "Table of Contents",
   "title_sidebar": "Contents",
   "toc_cell": false,
   "toc_position": {},
   "toc_section_display": true,
   "toc_window_display": true
  },
  "varInspector": {
   "cols": {
    "lenName": 16,
    "lenType": 16,
    "lenVar": 40
   },
   "kernels_config": {
    "python": {
     "delete_cmd_postfix": "",
     "delete_cmd_prefix": "del ",
     "library": "var_list.py",
     "varRefreshCmd": "print(var_dic_list())"
    },
    "r": {
     "delete_cmd_postfix": ") ",
     "delete_cmd_prefix": "rm(",
     "library": "var_list.r",
     "varRefreshCmd": "cat(var_dic_list()) "
    }
   },
   "types_to_exclude": [
    "module",
    "function",
    "builtin_function_or_method",
    "instance",
    "_Feature"
   ],
   "window_display": false
  }
 },
 "nbformat": 4,
 "nbformat_minor": 2
}
