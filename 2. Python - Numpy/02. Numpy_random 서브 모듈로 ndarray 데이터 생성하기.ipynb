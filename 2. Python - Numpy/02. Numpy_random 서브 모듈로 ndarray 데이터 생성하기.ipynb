{
 "cells": [
  {
   "cell_type": "markdown",
   "metadata": {},
   "source": [
    "# random 서브모듈 함수를 통해 ndarray 생성하기"
   ]
  },
  {
   "cell_type": "code",
   "execution_count": 1,
   "metadata": {
    "ExecuteTime": {
     "end_time": "2021-07-14T05:35:54.568837Z",
     "start_time": "2021-07-14T05:35:54.374359Z"
    }
   },
   "outputs": [],
   "source": [
    "import numpy as np"
   ]
  },
  {
   "cell_type": "markdown",
   "metadata": {},
   "source": [
    "## random 서브모듈"
   ]
  },
  {
   "cell_type": "markdown",
   "metadata": {},
   "source": [
    "### random 함수\n",
    "- 0 ~ 1 **보다 작은** 값의 범주에서 랜덤한 ndarray 생성\n",
    "- tuple 형식으로 입력해줘야 한다."
   ]
  },
  {
   "cell_type": "code",
   "execution_count": 2,
   "metadata": {
    "ExecuteTime": {
     "end_time": "2021-07-14T05:35:54.599754Z",
     "start_time": "2021-07-14T05:35:54.571830Z"
    }
   },
   "outputs": [
    {
     "data": {
      "text/plain": [
       "array([[0.47703558, 0.80144711, 0.74040119],\n",
       "       [0.31862146, 0.690049  , 0.82771048]])"
      ]
     },
     "execution_count": 2,
     "metadata": {},
     "output_type": "execute_result"
    }
   ],
   "source": [
    "np.random.random((2,3))"
   ]
  },
  {
   "cell_type": "markdown",
   "metadata": {},
   "source": [
    "### rand 함수\n",
    " - 0, 1사이의 분포로 랜덤한 ndarray 생성"
   ]
  },
  {
   "cell_type": "code",
   "execution_count": 3,
   "metadata": {
    "ExecuteTime": {
     "end_time": "2021-07-14T05:35:54.614715Z",
     "start_time": "2021-07-14T05:35:54.604741Z"
    }
   },
   "outputs": [
    {
     "data": {
      "text/plain": [
       "array([0.4431507 , 0.46957526])"
      ]
     },
     "execution_count": 3,
     "metadata": {},
     "output_type": "execute_result"
    }
   ],
   "source": [
    "# 1차원\n",
    "np.random.rand(2)"
   ]
  },
  {
   "cell_type": "code",
   "execution_count": 4,
   "metadata": {
    "ExecuteTime": {
     "end_time": "2021-07-14T05:35:54.630672Z",
     "start_time": "2021-07-14T05:35:54.617707Z"
    }
   },
   "outputs": [
    {
     "data": {
      "text/plain": [
       "array([[0.70933344, 0.25348086, 0.63018799],\n",
       "       [0.3784231 , 0.84538854, 0.59128912]])"
      ]
     },
     "execution_count": 4,
     "metadata": {},
     "output_type": "execute_result"
    }
   ],
   "source": [
    "# 2행 3열 의 ndarray생성\n",
    "np.random.rand(2,3)"
   ]
  },
  {
   "cell_type": "code",
   "execution_count": 5,
   "metadata": {
    "ExecuteTime": {
     "end_time": "2021-07-14T05:35:54.677547Z",
     "start_time": "2021-07-14T05:35:54.633664Z"
    }
   },
   "outputs": [
    {
     "data": {
      "text/plain": [
       "array([[0.90562321, 0.7034081 , 0.43548124],\n",
       "       [0.31597773, 0.68466077, 0.68904796]])"
      ]
     },
     "execution_count": 5,
     "metadata": {},
     "output_type": "execute_result"
    }
   ],
   "source": [
    "np.random.random((2,3))"
   ]
  },
  {
   "cell_type": "code",
   "execution_count": 6,
   "metadata": {
    "ExecuteTime": {
     "end_time": "2021-07-14T05:35:54.709462Z",
     "start_time": "2021-07-14T05:35:54.686523Z"
    }
   },
   "outputs": [
    {
     "data": {
      "text/plain": [
       "array([[[0.43037496, 0.45892116, 0.43941642],\n",
       "        [0.30684635, 0.40820547, 0.32082638],\n",
       "        [0.7299209 , 0.44457403, 0.76065168],\n",
       "        [0.71211036, 0.12228115, 0.98060708],\n",
       "        [0.47309384, 0.55434374, 0.21288774]],\n",
       "\n",
       "       [[0.7030427 , 0.24030721, 0.89636842],\n",
       "        [0.72449829, 0.94790877, 0.45735653],\n",
       "        [0.31077326, 0.49873703, 0.65385706],\n",
       "        [0.7214069 , 0.57174121, 0.65875851],\n",
       "        [0.87494319, 0.04364989, 0.37346273]],\n",
       "\n",
       "       [[0.83665403, 0.47537478, 0.24707776],\n",
       "        [0.42113453, 0.68517459, 0.77690977],\n",
       "        [0.31956091, 0.38027256, 0.57287284],\n",
       "        [0.48671635, 0.47045021, 0.89825168],\n",
       "        [0.59415424, 0.37183253, 0.6928423 ]],\n",
       "\n",
       "       [[0.0917947 , 0.24222904, 0.35560574],\n",
       "        [0.76962856, 0.17512692, 0.74138208],\n",
       "        [0.08833711, 0.28558716, 0.45292481],\n",
       "        [0.37076011, 0.14093546, 0.77660625],\n",
       "        [0.21051989, 0.36251472, 0.81577139]]])"
      ]
     },
     "execution_count": 6,
     "metadata": {},
     "output_type": "execute_result"
    }
   ],
   "source": [
    "# 5행 3열의 행렬이 4개 생성 ->3차원 ndarray\n",
    "np.random.rand(4, 5, 3)"
   ]
  },
  {
   "cell_type": "markdown",
   "metadata": {},
   "source": [
    "### randn함수\n",
    " - n: normal distribution(정규분포)\n",
    " - 정규분포로 샘플링된 랜덤 ndarray 생성"
   ]
  },
  {
   "cell_type": "code",
   "execution_count": 7,
   "metadata": {
    "ExecuteTime": {
     "end_time": "2021-07-14T05:35:54.725418Z",
     "start_time": "2021-07-14T05:35:54.714449Z"
    }
   },
   "outputs": [
    {
     "data": {
      "text/plain": [
       "array([-1.51052048, -0.27519631, -0.8666378 , -1.63978589, -0.8215562 ])"
      ]
     },
     "execution_count": 7,
     "metadata": {},
     "output_type": "execute_result"
    }
   ],
   "source": [
    "# 1차원 벡터 \n",
    "np.random.randn(5)"
   ]
  },
  {
   "cell_type": "code",
   "execution_count": 8,
   "metadata": {
    "ExecuteTime": {
     "end_time": "2021-07-14T05:35:54.740379Z",
     "start_time": "2021-07-14T05:35:54.730405Z"
    }
   },
   "outputs": [
    {
     "data": {
      "text/plain": [
       "array([[-0.72880075, -1.51866859,  1.59485183,  0.12828884],\n",
       "       [-0.34870788, -0.94093072, -0.65373912, -0.34454653],\n",
       "       [ 0.34429117, -0.67213369, -0.09330556, -0.19039838]])"
      ]
     },
     "execution_count": 8,
     "metadata": {},
     "output_type": "execute_result"
    }
   ],
   "source": [
    "# 3행 4열 짜리 정규분포에서 sampling한 값 생성\n",
    "np.random.randn(3, 4)"
   ]
  },
  {
   "cell_type": "code",
   "execution_count": 9,
   "metadata": {
    "ExecuteTime": {
     "end_time": "2021-07-14T05:35:54.776282Z",
     "start_time": "2021-07-14T05:35:54.743370Z"
    }
   },
   "outputs": [
    {
     "data": {
      "text/plain": [
       "array([[[-1.37911421,  0.39138757],\n",
       "        [ 0.72435775, -0.32727131],\n",
       "        [-1.17817337,  0.70851049],\n",
       "        [ 0.47210005, -0.17513222]],\n",
       "\n",
       "       [[-0.59636136,  0.30423486],\n",
       "        [-0.28650705,  0.20916995],\n",
       "        [ 1.74434258, -2.11632065],\n",
       "        [-0.98421197, -1.38944896]],\n",
       "\n",
       "       [[ 0.24653031, -1.44258126],\n",
       "        [ 0.29318149, -0.2206329 ],\n",
       "        [ 0.93137456, -0.87487388],\n",
       "        [-0.55208743,  0.37306698]]])"
      ]
     },
     "execution_count": 9,
     "metadata": {},
     "output_type": "execute_result"
    }
   ],
   "source": [
    "# 4행 2열짜리 행렬을 3개 -> 3차원\n",
    "np.random.randn(3, 4, 2)"
   ]
  },
  {
   "cell_type": "markdown",
   "metadata": {},
   "source": [
    "### randint 함수\n",
    " - 특정 정수 사이에서 랜덤하게 샘플링"
   ]
  },
  {
   "cell_type": "code",
   "execution_count": 10,
   "metadata": {
    "ExecuteTime": {
     "end_time": "2021-07-14T05:35:54.802213Z",
     "start_time": "2021-07-14T05:35:54.781269Z"
    }
   },
   "outputs": [
    {
     "data": {
      "text/plain": [
       "array([35, 58, 84, 11, 11])"
      ]
     },
     "execution_count": 10,
     "metadata": {},
     "output_type": "execute_result"
    }
   ],
   "source": [
    "# 1부터 100사이의 수에서 5행짜리 1차원 벡터를 생성\n",
    "np.random.randint(1, 100, size=(5,))"
   ]
  },
  {
   "cell_type": "code",
   "execution_count": 11,
   "metadata": {
    "ExecuteTime": {
     "end_time": "2021-07-14T05:35:54.818171Z",
     "start_time": "2021-07-14T05:35:54.808197Z"
    }
   },
   "outputs": [
    {
     "data": {
      "text/plain": [
       "array([[ 5, 39, 71],\n",
       "       [84, 23, 22],\n",
       "       [99, 37, 47],\n",
       "       [ 7, 11, 46],\n",
       "       [42, 26, 44]])"
      ]
     },
     "execution_count": 11,
     "metadata": {},
     "output_type": "execute_result"
    }
   ],
   "source": [
    "# 1부터 100사이의 수에서 5행 3열짜리 2차원 벡터를 생성\n",
    "np.random.randint(1, 100, size=(5,3))"
   ]
  },
  {
   "cell_type": "markdown",
   "metadata": {},
   "source": [
    "## seed 함수\n",
    " - 위에서 실습한 random함수는 실행할때마다 매번 값이 바뀌게 된다.\n",
    " - 랜덤한 값을 동일하게 다시 생성하고자 할때 사용"
   ]
  },
  {
   "cell_type": "code",
   "execution_count": 12,
   "metadata": {
    "ExecuteTime": {
     "end_time": "2021-07-14T05:35:54.833130Z",
     "start_time": "2021-07-14T05:35:54.822160Z"
    }
   },
   "outputs": [
    {
     "data": {
      "text/plain": [
       "array([[ 0.44477548, -0.37859929, -1.04881793,  1.05633961],\n",
       "       [ 1.23118506,  0.47478283,  1.72586718, -0.01090185],\n",
       "       [ 0.35476691, -1.16995451,  0.15202883, -0.27486997]])"
      ]
     },
     "execution_count": 12,
     "metadata": {},
     "output_type": "execute_result"
    }
   ],
   "source": [
    "np.random.randn(3, 4)"
   ]
  },
  {
   "cell_type": "code",
   "execution_count": 13,
   "metadata": {
    "ExecuteTime": {
     "end_time": "2021-07-14T05:35:54.849088Z",
     "start_time": "2021-07-14T05:35:54.835125Z"
    }
   },
   "outputs": [
    {
     "data": {
      "text/plain": [
       "array([[-0.3978982 , -1.01173682,  0.40429942, -1.42901326],\n",
       "       [-0.1511208 ,  0.15430208, -0.32847991, -0.64725463],\n",
       "       [-1.69742934, -0.16331764,  0.10646885,  1.03418604]])"
      ]
     },
     "execution_count": 13,
     "metadata": {},
     "output_type": "execute_result"
    }
   ],
   "source": [
    "np.random.randn(3, 4)"
   ]
  },
  {
   "cell_type": "markdown",
   "metadata": {},
   "source": [
    "동일한 범위지만 호출할때마다 값이 바뀐다."
   ]
  },
  {
   "cell_type": "code",
   "execution_count": 14,
   "metadata": {
    "ExecuteTime": {
     "end_time": "2021-07-14T05:35:54.865044Z",
     "start_time": "2021-07-14T05:35:54.852080Z"
    }
   },
   "outputs": [
    {
     "data": {
      "text/plain": [
       "array([[ 0.66698806,  0.02581308, -0.77761941,  0.94863382],\n",
       "       [ 0.70167179, -1.05108156, -0.36754812, -1.13745969],\n",
       "       [-1.32214752,  1.77225828, -0.34745899,  0.67014016]])"
      ]
     },
     "execution_count": 14,
     "metadata": {},
     "output_type": "execute_result"
    }
   ],
   "source": [
    "np.random.seed(23) #seed는 임의의 수 사용\n",
    "np.random.randn(3, 4)"
   ]
  },
  {
   "cell_type": "code",
   "execution_count": 15,
   "metadata": {
    "ExecuteTime": {
     "end_time": "2021-07-14T05:35:54.881002Z",
     "start_time": "2021-07-14T05:35:54.869035Z"
    }
   },
   "outputs": [
    {
     "data": {
      "text/plain": [
       "array([[ 0.66698806,  0.02581308, -0.77761941,  0.94863382],\n",
       "       [ 0.70167179, -1.05108156, -0.36754812, -1.13745969],\n",
       "       [-1.32214752,  1.77225828, -0.34745899,  0.67014016]])"
      ]
     },
     "execution_count": 15,
     "metadata": {},
     "output_type": "execute_result"
    }
   ],
   "source": [
    "np.random.seed(23)\n",
    "np.random.randn(3, 4)"
   ]
  },
  {
   "cell_type": "markdown",
   "metadata": {},
   "source": [
    "- seed를 선정했을 경우 동일 seed일때는 동일한 random값이 출력된다.\n",
    "- 실험할때나 쉐도잉을 할때 사용하면 유용하다."
   ]
  },
  {
   "cell_type": "markdown",
   "metadata": {},
   "source": [
    "## choice\n",
    " - 주어진 1차원 ndarray로 부터 랜덤으로 샘플링\n",
    " - 정수가 주어진 경우, np.arange(해당숫자)로 간주"
   ]
  },
  {
   "cell_type": "code",
   "execution_count": 16,
   "metadata": {
    "ExecuteTime": {
     "end_time": "2021-07-14T05:35:54.896960Z",
     "start_time": "2021-07-14T05:35:54.883994Z"
    }
   },
   "outputs": [
    {
     "data": {
      "text/plain": [
       "array([[79, 90, 62, 57],\n",
       "       [19, 33, 59, 39],\n",
       "       [15, 36, 65,  1]])"
      ]
     },
     "execution_count": 16,
     "metadata": {},
     "output_type": "execute_result"
    }
   ],
   "source": [
    "# 1부터 100사이의 수\n",
    "# 3행 4열 ndarray생성\n",
    "np.random.choice(100, size=(3, 4))"
   ]
  },
  {
   "cell_type": "code",
   "execution_count": 17,
   "metadata": {
    "ExecuteTime": {
     "end_time": "2021-07-14T05:35:54.912917Z",
     "start_time": "2021-07-14T05:35:54.900950Z"
    }
   },
   "outputs": [
    {
     "data": {
      "text/plain": [
       "array([[2.6, 1.5],\n",
       "       [1.5, 2.6]])"
      ]
     },
     "execution_count": 17,
     "metadata": {},
     "output_type": "execute_result"
    }
   ],
   "source": [
    "x = np.array([1, 2, 3, 1.5, 2.6, 4.9])\n",
    "\n",
    "# 주어진 x에서 2행 2열 형태로 ndarray 생성\n",
    "# replace = True가  default값 -> 중복 추출 허용\n",
    "np.random.choice(x, size=(2, 2) )"
   ]
  },
  {
   "cell_type": "code",
   "execution_count": 18,
   "metadata": {
    "ExecuteTime": {
     "end_time": "2021-07-14T05:35:54.928874Z",
     "start_time": "2021-07-14T05:35:54.915909Z"
    }
   },
   "outputs": [
    {
     "data": {
      "text/plain": [
       "array([[2.6, 1. ],\n",
       "       [1.5, 4.9]])"
      ]
     },
     "execution_count": 18,
     "metadata": {},
     "output_type": "execute_result"
    }
   ],
   "source": [
    "# 중복 추출 금지\n",
    "np.random.choice(x, size=(2, 2), replace=False)"
   ]
  },
  {
   "cell_type": "markdown",
   "metadata": {},
   "source": [
    "## 확률분포에 따른 ndarray 생성\n",
    " - uniform\n",
    " - normal 등등"
   ]
  },
  {
   "cell_type": "markdown",
   "metadata": {},
   "source": [
    "### uniform 함수"
   ]
  },
  {
   "cell_type": "code",
   "execution_count": 19,
   "metadata": {
    "ExecuteTime": {
     "end_time": "2021-07-14T05:35:54.943834Z",
     "start_time": "2021-07-14T05:35:54.933861Z"
    }
   },
   "outputs": [
    {
     "data": {
      "text/plain": [
       "array([[2.74942904, 1.8654592 , 2.75215591, 1.94121243, 1.60485579],\n",
       "       [2.53464481, 1.02068753, 2.35248663, 1.94336175, 2.26833065],\n",
       "       [2.84085397, 1.26336399, 2.67879335, 2.40971945, 2.93578399],\n",
       "       [2.80844986, 1.58561196, 1.29487279, 1.28251   , 2.9085976 ]])"
      ]
     },
     "execution_count": 19,
     "metadata": {},
     "output_type": "execute_result"
    }
   ],
   "source": [
    "# uniform -> low ~ high 사이의 값을 가져 오는 것\n",
    "# 4행 5열 \n",
    "np.random.uniform(1.0, 3.0, size=(4, 5))"
   ]
  },
  {
   "cell_type": "markdown",
   "metadata": {},
   "source": [
    "### normal\n",
    "- 지정한 평균, 표준편차의 정규분포를 따르는 값으로만 ndarray생성"
   ]
  },
  {
   "cell_type": "code",
   "execution_count": 20,
   "metadata": {
    "ExecuteTime": {
     "end_time": "2021-07-14T05:35:54.959791Z",
     "start_time": "2021-07-14T05:35:54.946826Z"
    }
   },
   "outputs": [
    {
     "data": {
      "text/plain": [
       "array([[-0.49566853, -0.01184144,  0.57898537],\n",
       "       [-0.66227358,  1.33292115, -0.39404436],\n",
       "       [-2.50408469, -1.37373969,  1.13563154]])"
      ]
     },
     "execution_count": 20,
     "metadata": {},
     "output_type": "execute_result"
    }
   ],
   "source": [
    "# 평균 0, 표준 편차 1의 정규 분포를 따르는 3*3 ndarray\n",
    "np.random.normal(0, 1, (3, 3))"
   ]
  }
 ],
 "metadata": {
  "kernelspec": {
   "display_name": "Python 3",
   "language": "python",
   "name": "python3"
  },
  "language_info": {
   "codemirror_mode": {
    "name": "ipython",
    "version": 3
   },
   "file_extension": ".py",
   "mimetype": "text/x-python",
   "name": "python",
   "nbconvert_exporter": "python",
   "pygments_lexer": "ipython3",
   "version": "3.8.5"
  },
  "toc": {
   "base_numbering": 1,
   "nav_menu": {},
   "number_sections": true,
   "sideBar": true,
   "skip_h1_title": false,
   "title_cell": "Table of Contents",
   "title_sidebar": "Contents",
   "toc_cell": false,
   "toc_position": {},
   "toc_section_display": true,
   "toc_window_display": true
  },
  "varInspector": {
   "cols": {
    "lenName": 16,
    "lenType": 16,
    "lenVar": 40
   },
   "kernels_config": {
    "python": {
     "delete_cmd_postfix": "",
     "delete_cmd_prefix": "del ",
     "library": "var_list.py",
     "varRefreshCmd": "print(var_dic_list())"
    },
    "r": {
     "delete_cmd_postfix": ") ",
     "delete_cmd_prefix": "rm(",
     "library": "var_list.r",
     "varRefreshCmd": "cat(var_dic_list()) "
    }
   },
   "types_to_exclude": [
    "module",
    "function",
    "builtin_function_or_method",
    "instance",
    "_Feature"
   ],
   "window_display": false
  }
 },
 "nbformat": 4,
 "nbformat_minor": 2
}
