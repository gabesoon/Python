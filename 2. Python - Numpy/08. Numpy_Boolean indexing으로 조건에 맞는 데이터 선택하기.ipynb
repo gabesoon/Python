{
 "cells": [
  {
   "cell_type": "markdown",
   "metadata": {},
   "source": [
    "# Boolean indexing\n",
    "  - ndarray 인덱싱 시, bool 리스트를 전달하여 True인 경우만 필터링하는 것\n",
    "  - ndarray 에서 굉장히 자주 사용되는 기능"
   ]
  },
  {
   "cell_type": "markdown",
   "metadata": {},
   "source": [
    "* 브로드캐스팅을 활용하여 ndarray로 부터 bool list 얻기\n",
    " - e.g) 짝수인 경우만 찾아보기"
   ]
  },
  {
   "cell_type": "code",
   "execution_count": 1,
   "metadata": {
    "ExecuteTime": {
     "end_time": "2021-07-14T11:31:35.314186Z",
     "start_time": "2021-07-14T11:31:35.119335Z"
    }
   },
   "outputs": [],
   "source": [
    "import numpy as np"
   ]
  },
  {
   "cell_type": "code",
   "execution_count": 2,
   "metadata": {
    "ExecuteTime": {
     "end_time": "2021-07-14T11:31:35.329147Z",
     "start_time": "2021-07-14T11:31:35.316182Z"
    }
   },
   "outputs": [
    {
     "name": "stdout",
     "output_type": "stream",
     "text": [
      "x: [25 95 44  3 23 41 81 58 33 18]\n"
     ]
    }
   ],
   "source": [
    "# 1과 100사이 10개의 간격씩으로 해서 int값들로 무작위 생성\n",
    "x = np.random.randint(1, 100, size=10)\n",
    "print(\"x:\",x)"
   ]
  },
  {
   "cell_type": "code",
   "execution_count": 3,
   "metadata": {
    "ExecuteTime": {
     "end_time": "2021-07-14T11:31:35.359067Z",
     "start_time": "2021-07-14T11:31:35.335131Z"
    }
   },
   "outputs": [
    {
     "data": {
      "text/plain": [
       "array([False, False,  True, False, False, False, False,  True, False,\n",
       "        True])"
      ]
     },
     "execution_count": 3,
     "metadata": {},
     "output_type": "execute_result"
    }
   ],
   "source": [
    "# 2는 scalar(상수) 이기 때문에 브로드 캐스팅이 가능하다.\n",
    "x % 2 == 0"
   ]
  },
  {
   "cell_type": "markdown",
   "metadata": {},
   "source": [
    "- 필터 조건을 설정하여 변수 선언\n",
    "\n",
    "- 통상적으로 어떤 필터값을 만들어 적용할때 mask를 씌운다 라고 한다.\n",
    "- 그래서 boolean의 변수를 만들면 주로 mask를 많이 붙인다. "
   ]
  },
  {
   "cell_type": "markdown",
   "metadata": {},
   "source": [
    "## bool list로 boolean indexing 적용하기"
   ]
  },
  {
   "cell_type": "code",
   "execution_count": 4,
   "metadata": {
    "ExecuteTime": {
     "end_time": "2021-07-14T11:31:35.374027Z",
     "start_time": "2021-07-14T11:31:35.361061Z"
    }
   },
   "outputs": [
    {
     "name": "stdout",
     "output_type": "stream",
     "text": [
      "[False False  True False False False False  True False  True]\n"
     ]
    }
   ],
   "source": [
    "# even number : 짝수\n",
    "# array에서 even number만을 필터링 해주는 mask생성\n",
    "even_mask = x % 2 == 0\n",
    "print(even_mask)"
   ]
  },
  {
   "cell_type": "code",
   "execution_count": 5,
   "metadata": {
    "ExecuteTime": {
     "end_time": "2021-07-14T11:31:35.388987Z",
     "start_time": "2021-07-14T11:31:35.377020Z"
    }
   },
   "outputs": [
    {
     "name": "stdout",
     "output_type": "stream",
     "text": [
      "x: [25 95 44  3 23 41 81 58 33 18] \n",
      "\n",
      "The even number among the array x is : [44 58 18]\n"
     ]
    }
   ],
   "source": [
    "# even_mask에서 True인 경우의 값들만 필터링이 되었다.\n",
    "print(\"x:\",x,\"\\n\")\n",
    "print(\"The even number among the array x is :\", x[even_mask])"
   ]
  },
  {
   "cell_type": "markdown",
   "metadata": {},
   "source": [
    "numpy의 boolean indexing을 사용하면 기존의 loop을 사용하는 방식을 하지 않고도 값을 필터링 할 수 있다."
   ]
  },
  {
   "cell_type": "code",
   "execution_count": 6,
   "metadata": {
    "ExecuteTime": {
     "end_time": "2021-07-14T11:31:35.404944Z",
     "start_time": "2021-07-14T11:31:35.393973Z"
    }
   },
   "outputs": [
    {
     "name": "stdout",
     "output_type": "stream",
     "text": [
      "The even number among the array x is : [44, 58, 18]\n"
     ]
    }
   ],
   "source": [
    "a = x.tolist()\n",
    "even_number=[]\n",
    "\n",
    "for i in a:\n",
    "    if i % 2 == 0:\n",
    "        even_number.append(i)\n",
    "\n",
    "print(\"The even number among the array x is :\",even_number)"
   ]
  },
  {
   "cell_type": "markdown",
   "metadata": {},
   "source": [
    "## 한번에 boolean indexing 적용하기"
   ]
  },
  {
   "cell_type": "code",
   "execution_count": 7,
   "metadata": {
    "ExecuteTime": {
     "end_time": "2021-07-14T11:31:35.420901Z",
     "start_time": "2021-07-14T11:31:35.407937Z"
    }
   },
   "outputs": [
    {
     "data": {
      "text/plain": [
       "array([44, 58, 18])"
      ]
     },
     "execution_count": 7,
     "metadata": {},
     "output_type": "execute_result"
    }
   ],
   "source": [
    "x[x % 2 == 0]"
   ]
  },
  {
   "cell_type": "code",
   "execution_count": 8,
   "metadata": {
    "ExecuteTime": {
     "end_time": "2021-07-14T11:31:35.436858Z",
     "start_time": "2021-07-14T11:31:35.422896Z"
    }
   },
   "outputs": [
    {
     "data": {
      "text/plain": [
       "array([95, 44, 41, 81, 58, 33])"
      ]
     },
     "execution_count": 8,
     "metadata": {},
     "output_type": "execute_result"
    }
   ],
   "source": [
    "# 30보다 큰 x값만 추려내기\n",
    "x[x > 30]"
   ]
  },
  {
   "cell_type": "markdown",
   "metadata": {},
   "source": [
    "#  다중조건 사용하기\n",
    " - 파이썬 논리 연산지인 and, or, not 키워드 사용 불가\n",
    " - & - AND \n",
    " - | - OR "
   ]
  },
  {
   "cell_type": "markdown",
   "metadata": {},
   "source": [
    "## AND 조건"
   ]
  },
  {
   "cell_type": "code",
   "execution_count": 9,
   "metadata": {
    "ExecuteTime": {
     "end_time": "2021-07-14T11:31:35.452816Z",
     "start_time": "2021-07-14T11:31:35.439851Z"
    }
   },
   "outputs": [
    {
     "data": {
      "text/plain": [
       "array([False, False,  True, False, False, False, False,  True, False,\n",
       "        True])"
      ]
     },
     "execution_count": 9,
     "metadata": {},
     "output_type": "execute_result"
    }
   ],
   "source": [
    "# 조건 1 : 짝수\n",
    "x % 2 == 0"
   ]
  },
  {
   "cell_type": "code",
   "execution_count": 10,
   "metadata": {
    "ExecuteTime": {
     "end_time": "2021-07-14T11:31:35.468773Z",
     "start_time": "2021-07-14T11:31:35.455809Z"
    }
   },
   "outputs": [
    {
     "data": {
      "text/plain": [
       "array([ True, False, False,  True,  True, False, False, False, False,\n",
       "        True])"
      ]
     },
     "execution_count": 10,
     "metadata": {},
     "output_type": "execute_result"
    }
   ],
   "source": [
    "# 조건 2 : 30 이상인 수\n",
    "x < 30"
   ]
  },
  {
   "cell_type": "code",
   "execution_count": 11,
   "metadata": {
    "ExecuteTime": {
     "end_time": "2021-07-14T11:31:35.483733Z",
     "start_time": "2021-07-14T11:31:35.471766Z"
    }
   },
   "outputs": [
    {
     "data": {
      "text/plain": [
       "array([18])"
      ]
     },
     "execution_count": 11,
     "metadata": {},
     "output_type": "execute_result"
    }
   ],
   "source": [
    "# AND 조건 적용 : 짝수이면서 30이상인 수만 출력하기\n",
    "x[(x % 2 == 0) & (x < 30)]"
   ]
  },
  {
   "cell_type": "markdown",
   "metadata": {},
   "source": [
    "## OR 조건"
   ]
  },
  {
   "cell_type": "code",
   "execution_count": 12,
   "metadata": {
    "ExecuteTime": {
     "end_time": "2021-07-14T11:31:35.498694Z",
     "start_time": "2021-07-14T11:31:35.487723Z"
    }
   },
   "outputs": [
    {
     "data": {
      "text/plain": [
       "array([ True, False, False,  True,  True, False, False, False, False,\n",
       "        True])"
      ]
     },
     "execution_count": 12,
     "metadata": {},
     "output_type": "execute_result"
    }
   ],
   "source": [
    "# 조건 1 : 30보다 작은 값\n",
    "x < 30"
   ]
  },
  {
   "cell_type": "code",
   "execution_count": 13,
   "metadata": {
    "ExecuteTime": {
     "end_time": "2021-07-14T11:31:35.513654Z",
     "start_time": "2021-07-14T11:31:35.501686Z"
    }
   },
   "outputs": [
    {
     "data": {
      "text/plain": [
       "array([False,  True, False, False, False, False,  True,  True, False,\n",
       "       False])"
      ]
     },
     "execution_count": 13,
     "metadata": {},
     "output_type": "execute_result"
    }
   ],
   "source": [
    "# 조건 2 : 50보다 큰 값\n",
    "x > 50"
   ]
  },
  {
   "cell_type": "code",
   "execution_count": 14,
   "metadata": {
    "ExecuteTime": {
     "end_time": "2021-07-14T11:31:35.529610Z",
     "start_time": "2021-07-14T11:31:35.516647Z"
    }
   },
   "outputs": [
    {
     "data": {
      "text/plain": [
       "array([25, 95,  3, 23, 81, 58, 18])"
      ]
     },
     "execution_count": 14,
     "metadata": {},
     "output_type": "execute_result"
    }
   ],
   "source": [
    "# OR 조건 적용 :  30보다 작거나, 50보다 큰 값들만 출력\n",
    "x[(x < 30) | (x > 50)]"
   ]
  },
  {
   "cell_type": "markdown",
   "metadata": {},
   "source": [
    "# 예제) 2019년 7월 서울 평균기온 데이터\n",
    " - 평균기온이 25도를 넘는 날수는?\n",
    " - 평균기온이 25를 넘는 날의 평균 기온은?"
   ]
  },
  {
   "cell_type": "code",
   "execution_count": 15,
   "metadata": {
    "ExecuteTime": {
     "end_time": "2021-07-14T11:31:35.545568Z",
     "start_time": "2021-07-14T11:31:35.531606Z"
    }
   },
   "outputs": [],
   "source": [
    "temp = np.array(\n",
    "        [23.9, 24.4, 24.1, 25.4, 27.6, 29.7,\n",
    "         26.7, 25.1, 25.0, 22.7, 21.9, 23.6, \n",
    "         24.9, 25.9, 23.8, 24.7, 25.6, 26.9, \n",
    "         28.6, 28.0, 25.1, 26.7, 28.1, 26.5, \n",
    "         26.3, 25.9, 28.4, 26.1, 27.5, 28.1, 25.8])"
   ]
  },
  {
   "cell_type": "code",
   "execution_count": 16,
   "metadata": {
    "ExecuteTime": {
     "end_time": "2021-07-14T11:31:35.560527Z",
     "start_time": "2021-07-14T11:31:35.547563Z"
    }
   },
   "outputs": [
    {
     "data": {
      "text/plain": [
       "31"
      ]
     },
     "execution_count": 16,
     "metadata": {},
     "output_type": "execute_result"
    }
   ],
   "source": [
    "len(temp)"
   ]
  },
  {
   "cell_type": "markdown",
   "metadata": {},
   "source": [
    "## 평균기온이 25도를 넘는 날수?"
   ]
  },
  {
   "cell_type": "code",
   "execution_count": 17,
   "metadata": {
    "ExecuteTime": {
     "end_time": "2021-07-14T11:31:35.575489Z",
     "start_time": "2021-07-14T11:31:35.564517Z"
    }
   },
   "outputs": [
    {
     "name": "stdout",
     "output_type": "stream",
     "text": [
      "평균기온이 25도를 넘는 날의 수는 21 입니다.\n"
     ]
    }
   ],
   "source": [
    "# len(temp[temp > 25.0])\n",
    "\n",
    "print(\"평균기온이 25도를 넘는 날의 수는\",len(temp[temp > 25.0]),\"입니다.\")"
   ]
  },
  {
   "cell_type": "code",
   "execution_count": 18,
   "metadata": {
    "ExecuteTime": {
     "end_time": "2021-07-14T11:31:35.590447Z",
     "start_time": "2021-07-14T11:31:35.578480Z"
    }
   },
   "outputs": [
    {
     "name": "stdout",
     "output_type": "stream",
     "text": [
      "평균기온이 25도를 넘는 날의 수는 21 입니다.\n"
     ]
    }
   ],
   "source": [
    "# True는 기본적으로 정수연산에서 1임을 활용\n",
    "# temp가 25이상이면 True -> 인 값들만 sum\n",
    "print(\"평균기온이 25도를 넘는 날의 수는\",np.sum(temp > 25.0),\"입니다.\")"
   ]
  },
  {
   "cell_type": "markdown",
   "metadata": {},
   "source": [
    "## 평균기온이 25를 넘는 날의 평균 기온은?"
   ]
  },
  {
   "cell_type": "code",
   "execution_count": 19,
   "metadata": {
    "ExecuteTime": {
     "end_time": "2021-07-14T11:31:35.605408Z",
     "start_time": "2021-07-14T11:31:35.594438Z"
    }
   },
   "outputs": [
    {
     "name": "stdout",
     "output_type": "stream",
     "text": [
      "평균기온이 25도를 넘는 날의 평균 기온은 26.857142857142858 도 입니다.\n"
     ]
    }
   ],
   "source": [
    "# np.mean(temp[temp > 25.0])\n",
    "print(\"평균기온이 25도를 넘는 날의 평균 기온은\",np.mean(temp[temp > 25.0]),\"도 입니다.\")"
   ]
  }
 ],
 "metadata": {
  "kernelspec": {
   "display_name": "Python 3",
   "language": "python",
   "name": "python3"
  },
  "language_info": {
   "codemirror_mode": {
    "name": "ipython",
    "version": 3
   },
   "file_extension": ".py",
   "mimetype": "text/x-python",
   "name": "python",
   "nbconvert_exporter": "python",
   "pygments_lexer": "ipython3",
   "version": "3.8.5"
  },
  "toc": {
   "base_numbering": 1,
   "nav_menu": {},
   "number_sections": true,
   "sideBar": true,
   "skip_h1_title": false,
   "title_cell": "Table of Contents",
   "title_sidebar": "Contents",
   "toc_cell": false,
   "toc_position": {},
   "toc_section_display": true,
   "toc_window_display": true
  },
  "varInspector": {
   "cols": {
    "lenName": 16,
    "lenType": 16,
    "lenVar": 40
   },
   "kernels_config": {
    "python": {
     "delete_cmd_postfix": "",
     "delete_cmd_prefix": "del ",
     "library": "var_list.py",
     "varRefreshCmd": "print(var_dic_list())"
    },
    "r": {
     "delete_cmd_postfix": ") ",
     "delete_cmd_prefix": "rm(",
     "library": "var_list.r",
     "varRefreshCmd": "cat(var_dic_list()) "
    }
   },
   "types_to_exclude": [
    "module",
    "function",
    "builtin_function_or_method",
    "instance",
    "_Feature"
   ],
   "window_display": false
  }
 },
 "nbformat": 4,
 "nbformat_minor": 1
}
