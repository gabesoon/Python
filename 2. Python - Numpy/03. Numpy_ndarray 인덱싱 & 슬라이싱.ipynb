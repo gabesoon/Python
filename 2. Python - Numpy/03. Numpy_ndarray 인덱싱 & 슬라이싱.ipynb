{
 "cells": [
  {
   "cell_type": "code",
   "execution_count": 1,
   "metadata": {
    "ExecuteTime": {
     "end_time": "2021-07-14T06:31:27.923948Z",
     "start_time": "2021-07-14T06:31:27.747219Z"
    }
   },
   "outputs": [],
   "source": [
    "import numpy as np"
   ]
  },
  {
   "cell_type": "markdown",
   "metadata": {},
   "source": [
    "# 인덱싱\n",
    " - 파이썬 리스트와 동일한 개념으로 사용\n",
    " - ,를 사용하여 각 차원의 인덱스에 접근 가능"
   ]
  },
  {
   "cell_type": "markdown",
   "metadata": {},
   "source": [
    "## 1차원 벡터 인덱싱"
   ]
  },
  {
   "cell_type": "code",
   "execution_count": 2,
   "metadata": {
    "ExecuteTime": {
     "end_time": "2021-07-14T06:31:27.938885Z",
     "start_time": "2021-07-14T06:31:27.925947Z"
    }
   },
   "outputs": [
    {
     "name": "stdout",
     "output_type": "stream",
     "text": [
      "array1: [1 2 3 4 5 6 7 8 9]\n"
     ]
    }
   ],
   "source": [
    "# 1에서 부터 9 까지의 1차원 ndarray 생성 \n",
    "array1 = np.arange(start=1, stop=10)\n",
    "print(\"array1:\",array1)"
   ]
  },
  {
   "cell_type": "code",
   "execution_count": 3,
   "metadata": {
    "ExecuteTime": {
     "end_time": "2021-07-14T06:31:27.953847Z",
     "start_time": "2021-07-14T06:31:27.941878Z"
    }
   },
   "outputs": [
    {
     "name": "stdout",
     "output_type": "stream",
     "text": [
      "value: 3\n",
      "<class 'numpy.int32'>\n"
     ]
    }
   ],
   "source": [
    "# index는 0 부터 시작하므로 array1[2]는 3번째 index 위치의 데이터 값을 의미\n",
    "value = array1[2]\n",
    "print('value:',value)\n",
    "print(type(value))"
   ]
  },
  {
   "cell_type": "code",
   "execution_count": 4,
   "metadata": {
    "ExecuteTime": {
     "end_time": "2021-07-14T06:31:27.968807Z",
     "start_time": "2021-07-14T06:31:27.956838Z"
    }
   },
   "outputs": [
    {
     "name": "stdout",
     "output_type": "stream",
     "text": [
      "맨 앞의 값: 1\n"
     ]
    }
   ],
   "source": [
    "print(\"맨 앞의 값:\", array1[0]) # 양수 인덱스 (맨 앞 요소)"
   ]
  },
  {
   "cell_type": "code",
   "execution_count": 5,
   "metadata": {
    "ExecuteTime": {
     "end_time": "2021-07-14T06:31:27.983795Z",
     "start_time": "2021-07-14T06:31:27.971799Z"
    }
   },
   "outputs": [
    {
     "name": "stdout",
     "output_type": "stream",
     "text": [
      "앞에서 세번째 값: 4\n"
     ]
    }
   ],
   "source": [
    "print('앞에서 세번째 값:',array1[3])"
   ]
  },
  {
   "cell_type": "code",
   "execution_count": 6,
   "metadata": {
    "ExecuteTime": {
     "end_time": "2021-07-14T06:31:27.998726Z",
     "start_time": "2021-07-14T06:31:27.986759Z"
    }
   },
   "outputs": [
    {
     "name": "stdout",
     "output_type": "stream",
     "text": [
      "맨 뒤의 값: 9 , 맨 뒤에서 두번째 값: 8\n"
     ]
    }
   ],
   "source": [
    "print('맨 뒤의 값:',array1[-1], ', 맨 뒤에서 두번째 값:',array1[-2])"
   ]
  },
  {
   "cell_type": "markdown",
   "metadata": {},
   "source": [
    "### index로 특정 위치값 출력하기"
   ]
  },
  {
   "cell_type": "code",
   "execution_count": 7,
   "metadata": {
    "ExecuteTime": {
     "end_time": "2021-07-14T06:31:28.013686Z",
     "start_time": "2021-07-14T06:31:28.001718Z"
    }
   },
   "outputs": [
    {
     "data": {
      "text/plain": [
       "1"
      ]
     },
     "execution_count": 7,
     "metadata": {},
     "output_type": "execute_result"
    }
   ],
   "source": [
    "array1[0]"
   ]
  },
  {
   "cell_type": "code",
   "execution_count": 8,
   "metadata": {
    "ExecuteTime": {
     "end_time": "2021-07-14T06:31:28.028677Z",
     "start_time": "2021-07-14T06:31:28.017676Z"
    }
   },
   "outputs": [
    {
     "data": {
      "text/plain": [
       "9"
      ]
     },
     "execution_count": 8,
     "metadata": {},
     "output_type": "execute_result"
    }
   ],
   "source": [
    "array1[-1]"
   ]
  },
  {
   "cell_type": "markdown",
   "metadata": {},
   "source": [
    "### index의 값 바꾸기"
   ]
  },
  {
   "cell_type": "code",
   "execution_count": 9,
   "metadata": {
    "ExecuteTime": {
     "end_time": "2021-07-14T06:31:28.044602Z",
     "start_time": "2021-07-14T06:31:28.031639Z"
    }
   },
   "outputs": [
    {
     "name": "stdout",
     "output_type": "stream",
     "text": [
      "[  1   2   3 100   5   6   7   8   9]\n"
     ]
    }
   ],
   "source": [
    "array1[3] = 100\n",
    "print(array1)"
   ]
  },
  {
   "cell_type": "markdown",
   "metadata": {},
   "source": [
    "## 2차원 행렬 인덱싱\n",
    "\n",
    "- 인덱싱을 하면 결과물은 차원수가 줄어들거나 변형되어 출력된다."
   ]
  },
  {
   "cell_type": "code",
   "execution_count": 10,
   "metadata": {
    "ExecuteTime": {
     "end_time": "2021-07-14T06:31:28.059564Z",
     "start_time": "2021-07-14T06:31:28.047629Z"
    }
   },
   "outputs": [
    {
     "name": "stdout",
     "output_type": "stream",
     "text": [
      "[[ 0  1  2  3  4]\n",
      " [ 5  6  7  8  9]\n",
      " [10 11 12 13 14]]\n"
     ]
    }
   ],
   "source": [
    "array2 = np.arange(15).reshape(3, 5) #5행 2열로 reshape\n",
    "print(array2)"
   ]
  },
  {
   "cell_type": "code",
   "execution_count": 11,
   "metadata": {
    "ExecuteTime": {
     "end_time": "2021-07-14T06:31:28.075520Z",
     "start_time": "2021-07-14T06:31:28.061558Z"
    }
   },
   "outputs": [
    {
     "name": "stdout",
     "output_type": "stream",
     "text": [
      "array2[0]: [0 1 2 3 4]\n"
     ]
    }
   ],
   "source": [
    "# x의 0번째 행\n",
    "print(\"array2[0]:\", array2[0]) # 양수 인덱스 (맨 앞 요소)\n",
    "\n",
    "# 기존은 2차원 행렬이지만 1차원으로 변경되어 출력"
   ]
  },
  {
   "cell_type": "code",
   "execution_count": 12,
   "metadata": {
    "ExecuteTime": {
     "end_time": "2021-07-14T06:31:28.091478Z",
     "start_time": "2021-07-14T06:31:28.078513Z"
    }
   },
   "outputs": [
    {
     "name": "stdout",
     "output_type": "stream",
     "text": [
      "(row=1,col=-1) index 가리키는 값: 9\n"
     ]
    }
   ],
   "source": [
    "# x의 1번째 행, -1번째(마지막) 열\n",
    "print(\"(row=1,col=-1) index 가리키는 값:\", array2[1,-1])"
   ]
  },
  {
   "cell_type": "code",
   "execution_count": 13,
   "metadata": {
    "ExecuteTime": {
     "end_time": "2021-07-14T06:31:28.106438Z",
     "start_time": "2021-07-14T06:31:28.094470Z"
    }
   },
   "outputs": [
    {
     "name": "stdout",
     "output_type": "stream",
     "text": [
      "(row=0,col=1) index 가리키는 값: 1\n"
     ]
    }
   ],
   "source": [
    "print('(row=0,col=1) index 가리키는 값:', array2[0,1] )"
   ]
  },
  {
   "cell_type": "code",
   "execution_count": 14,
   "metadata": {
    "ExecuteTime": {
     "end_time": "2021-07-14T06:31:28.122396Z",
     "start_time": "2021-07-14T06:31:28.109431Z"
    },
    "scrolled": true
   },
   "outputs": [
    {
     "name": "stdout",
     "output_type": "stream",
     "text": [
      "(row=1,col=0) index 가리키는 값: 5\n"
     ]
    }
   ],
   "source": [
    "print('(row=1,col=0) index 가리키는 값:', array2[1,0] )"
   ]
  },
  {
   "cell_type": "code",
   "execution_count": 15,
   "metadata": {
    "ExecuteTime": {
     "end_time": "2021-07-14T06:31:28.138352Z",
     "start_time": "2021-07-14T06:31:28.125388Z"
    }
   },
   "outputs": [
    {
     "name": "stdout",
     "output_type": "stream",
     "text": [
      "(row=2,col=2) index 가리키는 값: 12\n"
     ]
    }
   ],
   "source": [
    "print('(row=2,col=2) index 가리키는 값:', array2[2,2] )"
   ]
  },
  {
   "cell_type": "markdown",
   "metadata": {},
   "source": [
    "## 3차원 텐서 인덱싱"
   ]
  },
  {
   "cell_type": "code",
   "execution_count": 16,
   "metadata": {
    "ExecuteTime": {
     "end_time": "2021-07-14T06:31:28.153312Z",
     "start_time": "2021-07-14T06:31:28.140347Z"
    }
   },
   "outputs": [
    {
     "name": "stdout",
     "output_type": "stream",
     "text": [
      "[[[ 0  1  2]\n",
      "  [ 3  4  5]\n",
      "  [ 6  7  8]\n",
      "  [ 9 10 11]]\n",
      "\n",
      " [[12 13 14]\n",
      "  [15 16 17]\n",
      "  [18 19 20]\n",
      "  [21 22 23]]\n",
      "\n",
      " [[24 25 26]\n",
      "  [27 28 29]\n",
      "  [30 31 32]\n",
      "  [33 34 35]]]\n"
     ]
    }
   ],
   "source": [
    "# 4행 3열 array를 3차원(3개)으로 생성\n",
    "array3 = np.arange(36).reshape(3, 4, 3)\n",
    "print(array3)"
   ]
  },
  {
   "cell_type": "code",
   "execution_count": 17,
   "metadata": {
    "ExecuteTime": {
     "end_time": "2021-07-14T06:31:28.168272Z",
     "start_time": "2021-07-14T06:31:28.158300Z"
    }
   },
   "outputs": [
    {
     "name": "stdout",
     "output_type": "stream",
     "text": [
      "array3[0]:\n",
      " [[ 0  1  2]\n",
      " [ 3  4  5]\n",
      " [ 6  7  8]\n",
      " [ 9 10 11]]\n"
     ]
    }
   ],
   "source": [
    "# 0번째 index위치의 4행 3열의 array를 출력\n",
    "print(\"array3[0]:\\n\",array3[0])"
   ]
  },
  {
   "cell_type": "code",
   "execution_count": 18,
   "metadata": {
    "ExecuteTime": {
     "end_time": "2021-07-14T06:31:28.183232Z",
     "start_time": "2021-07-14T06:31:28.170267Z"
    }
   },
   "outputs": [
    {
     "name": "stdout",
     "output_type": "stream",
     "text": [
      "array3[1]:\n",
      " [[12 13 14]\n",
      " [15 16 17]\n",
      " [18 19 20]\n",
      " [21 22 23]]\n"
     ]
    }
   ],
   "source": [
    "# 1번째 index위치의 4행 3열의 array를 출력\n",
    "print(\"array3[1]:\\n\",array3[1])"
   ]
  },
  {
   "cell_type": "code",
   "execution_count": 19,
   "metadata": {
    "ExecuteTime": {
     "end_time": "2021-07-14T06:31:28.198192Z",
     "start_time": "2021-07-14T06:31:28.186225Z"
    }
   },
   "outputs": [
    {
     "name": "stdout",
     "output_type": "stream",
     "text": [
      "(array=1, rows=2) index 가리키는 값: [3 4 5]\n"
     ]
    }
   ],
   "source": [
    "# 4행 3열의 array에서 0번째 array에서 1번째 행에 있는 값 출력\n",
    "print('(array=1, rows=2) index 가리키는 값:', array3[0,1] )"
   ]
  },
  {
   "cell_type": "code",
   "execution_count": 20,
   "metadata": {
    "ExecuteTime": {
     "end_time": "2021-07-14T06:31:28.214150Z",
     "start_time": "2021-07-14T06:31:28.200187Z"
    }
   },
   "outputs": [
    {
     "name": "stdout",
     "output_type": "stream",
     "text": [
      "(array=1,rows=2) index 가리키는 값: [18 19 20]\n"
     ]
    }
   ],
   "source": [
    "# 4행 3열의 array에서 1번째 array에서 2번째 행에 있는 값 출력\n",
    "print('(array=1,rows=2) index 가리키는 값:', array3[1,2] )"
   ]
  },
  {
   "cell_type": "code",
   "execution_count": 21,
   "metadata": {
    "ExecuteTime": {
     "end_time": "2021-07-14T06:31:28.229110Z",
     "start_time": "2021-07-14T06:31:28.216145Z"
    }
   },
   "outputs": [
    {
     "name": "stdout",
     "output_type": "stream",
     "text": [
      "(array=1, row=2, col=1의 ) index 가리키는 값: 19\n"
     ]
    }
   ],
   "source": [
    "#4행 3열의 1번째 array에서 2번째 행에서 1번째 값을 출력\n",
    "print('(array=1, row=2, col=1의 ) index 가리키는 값:', array3[1,2,1] )"
   ]
  },
  {
   "cell_type": "markdown",
   "metadata": {},
   "source": [
    "# 슬라이싱\n",
    " - 리스트, 문자열 slicing과 동일한 개념으로 사용\n",
    " - ,를 사용하여 각 차원 별로 슬라이싱 가능\n",
    " - indexing과 달리 slicing을 해도 차원이 바뀌지는 않는다."
   ]
  },
  {
   "cell_type": "markdown",
   "metadata": {},
   "source": [
    "## 1차원 벡터 슬라이싱"
   ]
  },
  {
   "cell_type": "code",
   "execution_count": 22,
   "metadata": {
    "ExecuteTime": {
     "end_time": "2021-07-14T06:31:28.245066Z",
     "start_time": "2021-07-14T06:31:28.234096Z"
    }
   },
   "outputs": [
    {
     "name": "stdout",
     "output_type": "stream",
     "text": [
      "[0 1 2 3 4 5 6 7 8 9]\n"
     ]
    }
   ],
   "source": [
    "array1 = np.arange(10)\n",
    "print(array1)"
   ]
  },
  {
   "cell_type": "code",
   "execution_count": 23,
   "metadata": {
    "ExecuteTime": {
     "end_time": "2021-07-14T06:31:28.260027Z",
     "start_time": "2021-07-14T06:31:28.253045Z"
    }
   },
   "outputs": [
    {
     "name": "stdout",
     "output_type": "stream",
     "text": [
      "array1[1:]: [1 2 3 4 5 6 7 8 9]\n"
     ]
    }
   ],
   "source": [
    "print(\"array1[1:]:\",array1[1:])"
   ]
  },
  {
   "cell_type": "markdown",
   "metadata": {},
   "source": [
    "## 2차원 행렬 슬라이싱"
   ]
  },
  {
   "cell_type": "code",
   "execution_count": 24,
   "metadata": {
    "ExecuteTime": {
     "end_time": "2021-07-14T06:31:28.274988Z",
     "start_time": "2021-07-14T06:31:28.264016Z"
    }
   },
   "outputs": [
    {
     "name": "stdout",
     "output_type": "stream",
     "text": [
      "[[0 1 2 3 4]\n",
      " [5 6 7 8 9]]\n"
     ]
    }
   ],
   "source": [
    "array2 = np.arange(10).reshape(2, 5)\n",
    "print(array2)"
   ]
  },
  {
   "cell_type": "code",
   "execution_count": 25,
   "metadata": {
    "ExecuteTime": {
     "end_time": "2021-07-14T06:31:28.289947Z",
     "start_time": "2021-07-14T06:31:28.277980Z"
    }
   },
   "outputs": [
    {
     "name": "stdout",
     "output_type": "stream",
     "text": [
      "array2[0, :2]: [0 1]\n"
     ]
    }
   ],
   "source": [
    "print(\"array2[0, :2]:\",array2[0, :2])"
   ]
  },
  {
   "cell_type": "code",
   "execution_count": 26,
   "metadata": {
    "ExecuteTime": {
     "end_time": "2021-07-14T06:31:28.304907Z",
     "start_time": "2021-07-14T06:31:28.291942Z"
    }
   },
   "outputs": [
    {
     "name": "stdout",
     "output_type": "stream",
     "text": [
      "array2[:1, :2]: [[0 1]]\n"
     ]
    }
   ],
   "source": [
    "print(\"array2[:1, :2]:\",array2[:1, :2])"
   ]
  },
  {
   "cell_type": "code",
   "execution_count": 27,
   "metadata": {
    "ExecuteTime": {
     "end_time": "2021-07-14T06:31:28.319867Z",
     "start_time": "2021-07-14T06:31:28.307899Z"
    }
   },
   "outputs": [
    {
     "name": "stdout",
     "output_type": "stream",
     "text": [
      "array2[:, :2]:\n",
      " [[0 1]\n",
      " [5 6]]\n"
     ]
    }
   ],
   "source": [
    "print(\"array2[:, :2]:\\n\",array2[:, :2])"
   ]
  },
  {
   "cell_type": "markdown",
   "metadata": {},
   "source": [
    "출력값은 동일한 2차원으로 indexing처럼 차원값이 변하지는 않는다."
   ]
  },
  {
   "cell_type": "code",
   "execution_count": 28,
   "metadata": {
    "ExecuteTime": {
     "end_time": "2021-07-14T06:31:28.334827Z",
     "start_time": "2021-07-14T06:31:28.321862Z"
    }
   },
   "outputs": [
    {
     "name": "stdout",
     "output_type": "stream",
     "text": [
      "array2[0, :2]: [0 1]\n"
     ]
    }
   ],
   "source": [
    "# indexing을 하게 되면 당연히 차원값도 변경이 될 수 있다.\n",
    "print(\"array2[0, :2]:\",array2[0, :2])"
   ]
  },
  {
   "cell_type": "code",
   "execution_count": 29,
   "metadata": {
    "ExecuteTime": {
     "end_time": "2021-07-14T06:31:28.349786Z",
     "start_time": "2021-07-14T06:31:28.336821Z"
    }
   },
   "outputs": [
    {
     "name": "stdout",
     "output_type": "stream",
     "text": [
      "array2[:1, :2]: [[0 1]]\n"
     ]
    }
   ],
   "source": [
    "# indexing이 없이 출력한다면 차원값은 변하지 않으면서 동일한 값을 출력할 수 있다.\n",
    "print(\"array2[:1, :2]:\",array2[:1, :2])"
   ]
  },
  {
   "cell_type": "markdown",
   "metadata": {},
   "source": [
    "## 3차원 텐서 슬라이싱"
   ]
  },
  {
   "cell_type": "code",
   "execution_count": 30,
   "metadata": {
    "ExecuteTime": {
     "end_time": "2021-07-14T06:31:28.364747Z",
     "start_time": "2021-07-14T06:31:28.352779Z"
    }
   },
   "outputs": [
    {
     "name": "stdout",
     "output_type": "stream",
     "text": [
      "[[[ 0  1  2]\n",
      "  [ 3  4  5]\n",
      "  [ 6  7  8]\n",
      "  [ 9 10 11]\n",
      "  [12 13 14]\n",
      "  [15 16 17]\n",
      "  [18 19 20]\n",
      "  [21 22 23]\n",
      "  [24 25 26]]\n",
      "\n",
      " [[27 28 29]\n",
      "  [30 31 32]\n",
      "  [33 34 35]\n",
      "  [36 37 38]\n",
      "  [39 40 41]\n",
      "  [42 43 44]\n",
      "  [45 46 47]\n",
      "  [48 49 50]\n",
      "  [51 52 53]]]\n"
     ]
    }
   ],
   "source": [
    "array3 = np.arange(54).reshape(2, 9, 3)\n",
    "print(array3)"
   ]
  },
  {
   "cell_type": "code",
   "execution_count": 31,
   "metadata": {
    "ExecuteTime": {
     "end_time": "2021-07-14T06:31:28.379706Z",
     "start_time": "2021-07-14T06:31:28.366741Z"
    }
   },
   "outputs": [
    {
     "name": "stdout",
     "output_type": "stream",
     "text": [
      "array3[:1, :2, :]:\n",
      " [[[0 1 2]\n",
      "  [3 4 5]]]\n"
     ]
    }
   ],
   "source": [
    "print(\"array3[:1, :2, :]:\\n\",array3[:1, :2, :])"
   ]
  },
  {
   "cell_type": "code",
   "execution_count": 32,
   "metadata": {
    "ExecuteTime": {
     "end_time": "2021-07-14T06:31:28.394667Z",
     "start_time": "2021-07-14T06:31:28.381701Z"
    },
    "scrolled": true
   },
   "outputs": [
    {
     "name": "stdout",
     "output_type": "stream",
     "text": [
      "array3[:1, :2, :]:\n",
      " [[[0 1 2]\n",
      "  [3 4 5]]]\n"
     ]
    }
   ],
   "source": [
    "print(\"array3[:1, :2, :]:\\n\",array3[:1, :2, :])"
   ]
  },
  {
   "cell_type": "markdown",
   "metadata": {},
   "source": [
    "## Boolean indexing"
   ]
  },
  {
   "cell_type": "code",
   "execution_count": 33,
   "metadata": {
    "ExecuteTime": {
     "end_time": "2021-07-14T06:31:28.409627Z",
     "start_time": "2021-07-14T06:31:28.396662Z"
    }
   },
   "outputs": [
    {
     "name": "stdout",
     "output_type": "stream",
     "text": [
      "[1 2 3 4 5 6 7 8 9]\n"
     ]
    }
   ],
   "source": [
    "array1 = np.arange(start=1, stop=10)\n",
    "print(array1)"
   ]
  },
  {
   "cell_type": "code",
   "execution_count": 34,
   "metadata": {
    "ExecuteTime": {
     "end_time": "2021-07-14T06:31:28.424586Z",
     "start_time": "2021-07-14T06:31:28.411621Z"
    }
   },
   "outputs": [
    {
     "name": "stdout",
     "output_type": "stream",
     "text": [
      "var1: [False False False False False  True  True  True  True]\n",
      "<class 'numpy.ndarray'>\n"
     ]
    }
   ],
   "source": [
    "# array1의 값에서 5이상 T/F  출력\n",
    "var1 = array1 > 5\n",
    "print(\"var1:\",var1)\n",
    "print(type(var1))"
   ]
  },
  {
   "cell_type": "code",
   "execution_count": 35,
   "metadata": {
    "ExecuteTime": {
     "end_time": "2021-07-14T06:31:28.439547Z",
     "start_time": "2021-07-14T06:31:28.426582Z"
    }
   },
   "outputs": [
    {
     "name": "stdout",
     "output_type": "stream",
     "text": [
      "[1 2 3 4 5 6 7 8 9] \n",
      "\n",
      "array1 > 5 불린 인덱싱 결과 값 : [6 7 8 9]\n"
     ]
    }
   ],
   "source": [
    "# [ ] 안에 array1 > 5 Boolean indexing을 적용 \n",
    "print(array1,\"\\n\")\n",
    "array3 = array1[array1 > 5]\n",
    "print('array1 > 5 불린 인덱싱 결과 값 :', array3)"
   ]
  },
  {
   "cell_type": "code",
   "execution_count": 36,
   "metadata": {
    "ExecuteTime": {
     "end_time": "2021-07-14T06:31:28.455504Z",
     "start_time": "2021-07-14T06:31:28.442540Z"
    }
   },
   "outputs": [
    {
     "name": "stdout",
     "output_type": "stream",
     "text": [
      "불린 인덱스로 필터링 결과 : [6 7 8 9]\n"
     ]
    }
   ],
   "source": [
    "# ndarray형태로 T/F 생성\n",
    "boolean_indexes = np.array([False, False, False, False, False,  True,  True,  True,  True])\n",
    "\n",
    "# 생성된 T/F 기준과 array1 비교하여 필터링 -> True인 값만 []에 담긴다.\n",
    "array3 = array1[boolean_indexes]\n",
    "print('불린 인덱스로 필터링 결과 :', array3)"
   ]
  },
  {
   "cell_type": "code",
   "execution_count": 37,
   "metadata": {
    "ExecuteTime": {
     "end_time": "2021-07-14T06:31:28.470464Z",
     "start_time": "2021-07-14T06:31:28.457499Z"
    }
   },
   "outputs": [
    {
     "name": "stdout",
     "output_type": "stream",
     "text": [
      "일반 인덱스로 필터링 결과 : [6 7 8 9]\n"
     ]
    }
   ],
   "source": [
    "indexes = np.array([5,6,7,8])\n",
    "array4 = array1[ indexes ]\n",
    "print('일반 인덱스로 필터링 결과 :',array4)"
   ]
  },
  {
   "cell_type": "code",
   "execution_count": 38,
   "metadata": {
    "ExecuteTime": {
     "end_time": "2021-07-14T06:31:28.485424Z",
     "start_time": "2021-07-14T06:31:28.472459Z"
    }
   },
   "outputs": [
    {
     "name": "stdout",
     "output_type": "stream",
     "text": [
      "[6 7 8 9]\n"
     ]
    }
   ],
   "source": [
    "# 응용\n",
    "# for 문으로 T/F 추출하기\n",
    "array1d = np.arange(start=1, stop=10)\n",
    "target = []\n",
    "\n",
    "for i in range(0, 9):\n",
    "    if array1d[i] > 5:\n",
    "        target.append(array1d[i])\n",
    "\n",
    "array_selected = np.array(target)\n",
    "print(array_selected)"
   ]
  },
  {
   "cell_type": "code",
   "execution_count": 39,
   "metadata": {
    "ExecuteTime": {
     "end_time": "2021-07-14T06:31:28.500383Z",
     "start_time": "2021-07-14T06:31:28.487418Z"
    }
   },
   "outputs": [
    {
     "name": "stdout",
     "output_type": "stream",
     "text": [
      "[6 7 8 9]\n"
     ]
    }
   ],
   "source": [
    "print(array1d[array1 > 5])"
   ]
  }
 ],
 "metadata": {
  "kernelspec": {
   "display_name": "Python 3",
   "language": "python",
   "name": "python3"
  },
  "language_info": {
   "codemirror_mode": {
    "name": "ipython",
    "version": 3
   },
   "file_extension": ".py",
   "mimetype": "text/x-python",
   "name": "python",
   "nbconvert_exporter": "python",
   "pygments_lexer": "ipython3",
   "version": "3.8.5"
  },
  "toc": {
   "base_numbering": 1,
   "nav_menu": {},
   "number_sections": true,
   "sideBar": true,
   "skip_h1_title": false,
   "title_cell": "Table of Contents",
   "title_sidebar": "Contents",
   "toc_cell": false,
   "toc_position": {},
   "toc_section_display": true,
   "toc_window_display": true
  },
  "varInspector": {
   "cols": {
    "lenName": 16,
    "lenType": 16,
    "lenVar": 40
   },
   "kernels_config": {
    "python": {
     "delete_cmd_postfix": "",
     "delete_cmd_prefix": "del ",
     "library": "var_list.py",
     "varRefreshCmd": "print(var_dic_list())"
    },
    "r": {
     "delete_cmd_postfix": ") ",
     "delete_cmd_prefix": "rm(",
     "library": "var_list.r",
     "varRefreshCmd": "cat(var_dic_list()) "
    }
   },
   "types_to_exclude": [
    "module",
    "function",
    "builtin_function_or_method",
    "instance",
    "_Feature"
   ],
   "window_display": false
  }
 },
 "nbformat": 4,
 "nbformat_minor": 1
}
