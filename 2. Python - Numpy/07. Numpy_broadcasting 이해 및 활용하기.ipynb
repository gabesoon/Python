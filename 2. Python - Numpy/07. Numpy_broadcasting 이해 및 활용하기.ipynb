{
 "cells": [
  {
   "cell_type": "code",
   "execution_count": 1,
   "metadata": {
    "ExecuteTime": {
     "end_time": "2021-07-14T11:00:21.892116Z",
     "start_time": "2021-07-14T11:00:21.726124Z"
    }
   },
   "outputs": [],
   "source": [
    "import numpy as np"
   ]
  },
  {
   "cell_type": "markdown",
   "metadata": {},
   "source": [
    "# 브로드캐스팅\n",
    "  - 기본적으로 numpy의 연산은 Shape이 같은 두 ndarray에 대한 연산만이 가능하다.\n",
    "  - 하지만, 서로 Shape이 다른 numpy끼리도 연산이 가능한 경우가 있다. 이를 브로드 캐스팅(Shape을 맞춤)이라 한다.\n",
    "    \n",
    "    \n"
   ]
  },
  {
   "cell_type": "markdown",
   "metadata": {},
   "source": [
    "# 브로드캐스팅 Rule\n",
    " - [공식문서](https://docs.scipy.org/doc/numpy/user/basics.broadcasting.html#general-broadcasting-rules)\n",
    " - 뒷 차원에서 부터 비교하여 Shape이 같거나, 차원 중 값이 1인 것이 존재하면 가능"
   ]
  },
  {
   "attachments": {},
   "cell_type": "markdown",
   "metadata": {},
   "source": [
    "![브로드캐스팅 예](https://www.tutorialspoint.com/numpy/images/array.jpg)\n",
    "    - 출처: https://www.tutorialspoint.com/numpy/images/array.jpg \n",
    "    \n",
    "- 위의 그림에서 2번째 numpy는 사실상 (1x3)이다. => 즉, 차원 중 값이 1이 있는 경우에 해당\n",
    "- 그러므로 브로드 캐스팅 Rule을 만족하여 연산이 가능해진다."
   ]
  },
  {
   "cell_type": "markdown",
   "metadata": {},
   "source": [
    "## Shape이 같은 경우의 연산"
   ]
  },
  {
   "cell_type": "code",
   "execution_count": 2,
   "metadata": {
    "ExecuteTime": {
     "end_time": "2021-07-14T11:00:21.907047Z",
     "start_time": "2021-07-14T11:00:21.894111Z"
    }
   },
   "outputs": [
    {
     "name": "stdout",
     "output_type": "stream",
     "text": [
      "x:\n",
      " [[ 0  1  2  3  4]\n",
      " [ 5  6  7  8  9]\n",
      " [10 11 12 13 14]] \n",
      "\n",
      "y:\n",
      " [[0.09750476 0.03329158 0.4588553  0.41886341 0.88091397]\n",
      " [0.05444735 0.49626685 0.07778171 0.71429232 0.0817233 ]\n",
      " [0.6663016  0.07144051 0.39546019 0.573171   0.06219814]]\n"
     ]
    }
   ],
   "source": [
    "x = np.arange(15).reshape(3, 5)\n",
    "y = np.random.rand(15).reshape(3, 5)\n",
    "print(\"x:\\n\",x,\"\\n\")\n",
    "print(\"y:\\n\",y)"
   ]
  },
  {
   "cell_type": "code",
   "execution_count": 3,
   "metadata": {
    "ExecuteTime": {
     "end_time": "2021-07-14T11:00:21.922406Z",
     "start_time": "2021-07-14T11:00:21.909840Z"
    }
   },
   "outputs": [
    {
     "data": {
      "text/plain": [
       "array([[ 0.09750476,  1.03329158,  2.4588553 ,  3.41886341,  4.88091397],\n",
       "       [ 5.05444735,  6.49626685,  7.07778171,  8.71429232,  9.0817233 ],\n",
       "       [10.6663016 , 11.07144051, 12.39546019, 13.573171  , 14.06219814]])"
      ]
     },
     "execution_count": 3,
     "metadata": {},
     "output_type": "execute_result"
    }
   ],
   "source": [
    "# 각 index가 매칭되는 값들끼리 더해서 동일한 shape의 행렬이 나온다.\n",
    "x + y"
   ]
  },
  {
   "cell_type": "code",
   "execution_count": 4,
   "metadata": {
    "ExecuteTime": {
     "end_time": "2021-07-14T11:00:21.938364Z",
     "start_time": "2021-07-14T11:00:21.926396Z"
    }
   },
   "outputs": [
    {
     "data": {
      "text/plain": [
       "array([[0.        , 0.03329158, 0.91771061, 1.25659024, 3.52365589],\n",
       "       [0.27223674, 2.97760112, 0.544472  , 5.71433857, 0.7355097 ],\n",
       "       [6.66301595, 0.78584561, 4.74552231, 7.45122304, 0.87077392]])"
      ]
     },
     "execution_count": 4,
     "metadata": {},
     "output_type": "execute_result"
    }
   ],
   "source": [
    "x * y"
   ]
  },
  {
   "cell_type": "markdown",
   "metadata": {},
   "source": [
    "### Scalar(상수)와의 연산"
   ]
  },
  {
   "cell_type": "code",
   "execution_count": 5,
   "metadata": {
    "ExecuteTime": {
     "end_time": "2021-07-14T11:00:21.954322Z",
     "start_time": "2021-07-14T11:00:21.941356Z"
    }
   },
   "outputs": [
    {
     "data": {
      "text/plain": [
       "array([[ 2,  3,  4,  5,  6],\n",
       "       [ 7,  8,  9, 10, 11],\n",
       "       [12, 13, 14, 15, 16]])"
      ]
     },
     "execution_count": 5,
     "metadata": {},
     "output_type": "execute_result"
    }
   ],
   "source": [
    "# 상수는 어떠한 shape의 numpy라도 연산이 가능\n",
    "x + 2 "
   ]
  },
  {
   "cell_type": "code",
   "execution_count": 6,
   "metadata": {
    "ExecuteTime": {
     "end_time": "2021-07-14T11:00:21.970278Z",
     "start_time": "2021-07-14T11:00:21.956315Z"
    }
   },
   "outputs": [
    {
     "data": {
      "text/plain": [
       "array([[ 0,  2,  4,  6,  8],\n",
       "       [10, 12, 14, 16, 18],\n",
       "       [20, 22, 24, 26, 28]])"
      ]
     },
     "execution_count": 6,
     "metadata": {},
     "output_type": "execute_result"
    }
   ],
   "source": [
    "x * 2"
   ]
  },
  {
   "cell_type": "code",
   "execution_count": 7,
   "metadata": {
    "ExecuteTime": {
     "end_time": "2021-07-14T11:00:21.986235Z",
     "start_time": "2021-07-14T11:00:21.974297Z"
    }
   },
   "outputs": [
    {
     "data": {
      "text/plain": [
       "array([[  0,   1,   4,   9,  16],\n",
       "       [ 25,  36,  49,  64,  81],\n",
       "       [100, 121, 144, 169, 196]], dtype=int32)"
      ]
     },
     "execution_count": 7,
     "metadata": {},
     "output_type": "execute_result"
    }
   ],
   "source": [
    "x ** 2"
   ]
  },
  {
   "cell_type": "code",
   "execution_count": 8,
   "metadata": {
    "ExecuteTime": {
     "end_time": "2021-07-14T11:00:22.001195Z",
     "start_time": "2021-07-14T11:00:21.991222Z"
    }
   },
   "outputs": [
    {
     "data": {
      "text/plain": [
       "array([[ True, False,  True, False,  True],\n",
       "       [False,  True, False,  True, False],\n",
       "       [ True, False,  True, False,  True]])"
      ]
     },
     "execution_count": 8,
     "metadata": {},
     "output_type": "execute_result"
    }
   ],
   "source": [
    "x % 2 == 0"
   ]
  },
  {
   "cell_type": "markdown",
   "metadata": {},
   "source": [
    "# Shape이 다른 경우 연산"
   ]
  },
  {
   "cell_type": "code",
   "execution_count": 9,
   "metadata": {
    "ExecuteTime": {
     "end_time": "2021-07-14T11:00:22.017152Z",
     "start_time": "2021-07-14T11:00:22.005185Z"
    }
   },
   "outputs": [
    {
     "name": "stdout",
     "output_type": "stream",
     "text": [
      "a는\n",
      ": [[ 0  1  2]\n",
      " [ 3  4  5]\n",
      " [ 6  7  8]\n",
      " [ 9 10 11]] \n",
      "\n",
      "a의 shape는 : (4, 3) \n",
      "\n",
      "b는\n",
      ": [100 101 102] \n",
      "\n",
      "b의 shape는 : (3,) \n",
      "\n"
     ]
    }
   ],
   "source": [
    "a = np.arange(12).reshape(4, 3) # 4행 3열\n",
    "print(\"a는\\n:\",a,\"\\n\")\n",
    "print(\"a의 shape는 :\",a.shape,\"\\n\")\n",
    "\n",
    "b = np.arange(100, 103)\n",
    "print(\"b는\\n:\",b,\"\\n\")\n",
    "print(\"b의 shape는 :\",b.shape,\"\\n\")"
   ]
  },
  {
   "cell_type": "code",
   "execution_count": 10,
   "metadata": {
    "ExecuteTime": {
     "end_time": "2021-07-14T11:00:22.032113Z",
     "start_time": "2021-07-14T11:00:22.020144Z"
    }
   },
   "outputs": [
    {
     "data": {
      "text/plain": [
       "array([[100, 102, 104],\n",
       "       [103, 105, 107],\n",
       "       [106, 108, 110],\n",
       "       [109, 111, 113]])"
      ]
     },
     "execution_count": 10,
     "metadata": {},
     "output_type": "execute_result"
    }
   ],
   "source": [
    "a + b"
   ]
  },
  {
   "cell_type": "code",
   "execution_count": 11,
   "metadata": {
    "ExecuteTime": {
     "end_time": "2021-07-14T11:00:22.047073Z",
     "start_time": "2021-07-14T11:00:22.036103Z"
    }
   },
   "outputs": [
    {
     "name": "stdout",
     "output_type": "stream",
     "text": [
      "c는\n",
      ": [1000 1001 1002 1003] \n",
      "\n",
      "c의 shape는 : (4,) \n",
      "\n",
      "d는\n",
      ": [[100 101 102]] \n",
      "\n",
      "d의 shape는 : (1, 3)\n"
     ]
    }
   ],
   "source": [
    "c = np.arange(1000, 1004)\n",
    "print(\"c는\\n:\",c,\"\\n\")\n",
    "print(\"c의 shape는 :\",c.shape,\"\\n\")\n",
    "\n",
    "d = b.reshape(1, 3)\n",
    "print(\"d는\\n:\",d,\"\\n\")\n",
    "print(\"d의 shape는 :\",d.shape)"
   ]
  },
  {
   "cell_type": "code",
   "execution_count": 12,
   "metadata": {
    "ExecuteTime": {
     "end_time": "2021-07-14T11:00:22.320013Z",
     "start_time": "2021-07-14T11:00:22.052059Z"
    }
   },
   "outputs": [
    {
     "ename": "ValueError",
     "evalue": "operands could not be broadcast together with shapes (4,3) (4,) ",
     "output_type": "error",
     "traceback": [
      "\u001b[1;31m---------------------------------------------------------------------------\u001b[0m",
      "\u001b[1;31mValueError\u001b[0m                                Traceback (most recent call last)",
      "\u001b[1;32m<ipython-input-12-e81e582b6fa9>\u001b[0m in \u001b[0;36m<module>\u001b[1;34m\u001b[0m\n\u001b[1;32m----> 1\u001b[1;33m \u001b[0ma\u001b[0m \u001b[1;33m+\u001b[0m \u001b[0mc\u001b[0m\u001b[1;33m\u001b[0m\u001b[1;33m\u001b[0m\u001b[0m\n\u001b[0m",
      "\u001b[1;31mValueError\u001b[0m: operands could not be broadcast together with shapes (4,3) (4,) "
     ]
    }
   ],
   "source": [
    "a + c"
   ]
  },
  {
   "cell_type": "code",
   "execution_count": 13,
   "metadata": {
    "ExecuteTime": {
     "end_time": "2021-07-14T11:00:25.037606Z",
     "start_time": "2021-07-14T11:00:25.019858Z"
    }
   },
   "outputs": [
    {
     "name": "stdout",
     "output_type": "stream",
     "text": [
      "a의 shape는 : (4, 3) \n",
      "\n",
      "c의 shape는 : (4,) \n",
      "\n"
     ]
    }
   ],
   "source": [
    "print(\"a의 shape는 :\",a.shape,\"\\n\")\n",
    "print(\"c의 shape는 :\",c.shape,\"\\n\")"
   ]
  },
  {
   "cell_type": "markdown",
   "metadata": {},
   "source": [
    "- a와 c의 shape를 보면 둘다 앞차원이 4 배열을 갖고 있어 브로드캐스팅이 가능할 것 처럼 보인다.\n",
    "- 하지만 브로드 캐스팅은 **뒤 차원부터 비교** 를 하기 때문에 에러가 발생하는 것"
   ]
  },
  {
   "cell_type": "code",
   "execution_count": 14,
   "metadata": {
    "ExecuteTime": {
     "end_time": "2021-07-14T11:00:25.933857Z",
     "start_time": "2021-07-14T11:00:25.928847Z"
    }
   },
   "outputs": [
    {
     "data": {
      "text/plain": [
       "array([[100, 102, 104],\n",
       "       [103, 105, 107],\n",
       "       [106, 108, 110],\n",
       "       [109, 111, 113]])"
      ]
     },
     "execution_count": 14,
     "metadata": {},
     "output_type": "execute_result"
    }
   ],
   "source": [
    "a + d"
   ]
  },
  {
   "cell_type": "code",
   "execution_count": 15,
   "metadata": {
    "ExecuteTime": {
     "end_time": "2021-07-14T11:00:26.377052Z",
     "start_time": "2021-07-14T11:00:26.372066Z"
    }
   },
   "outputs": [
    {
     "name": "stdout",
     "output_type": "stream",
     "text": [
      "a의 shape는 : (4, 3) \n",
      "\n",
      "d의 shape는 : (1, 3)\n"
     ]
    }
   ],
   "source": [
    "print(\"a의 shape는 :\",a.shape,\"\\n\")\n",
    "print(\"d의 shape는 :\",d.shape)"
   ]
  },
  {
   "cell_type": "markdown",
   "metadata": {},
   "source": [
    "- 동일한 이유로 a와 d는 뒤쪽 차원이 동일한 shape이기 때문에 연산이 가능하다. (b가 연산이 가능한 이유와 동일)\n",
    "- + d의 경우 차원값이 1인 것이 들어 있으므로 가능"
   ]
  }
 ],
 "metadata": {
  "kernelspec": {
   "display_name": "Python 3",
   "language": "python",
   "name": "python3"
  },
  "language_info": {
   "codemirror_mode": {
    "name": "ipython",
    "version": 3
   },
   "file_extension": ".py",
   "mimetype": "text/x-python",
   "name": "python",
   "nbconvert_exporter": "python",
   "pygments_lexer": "ipython3",
   "version": "3.8.5"
  },
  "toc": {
   "base_numbering": 1,
   "nav_menu": {},
   "number_sections": true,
   "sideBar": true,
   "skip_h1_title": false,
   "title_cell": "Table of Contents",
   "title_sidebar": "Contents",
   "toc_cell": false,
   "toc_position": {},
   "toc_section_display": true,
   "toc_window_display": true
  },
  "varInspector": {
   "cols": {
    "lenName": 16,
    "lenType": 16,
    "lenVar": 40
   },
   "kernels_config": {
    "python": {
     "delete_cmd_postfix": "",
     "delete_cmd_prefix": "del ",
     "library": "var_list.py",
     "varRefreshCmd": "print(var_dic_list())"
    },
    "r": {
     "delete_cmd_postfix": ") ",
     "delete_cmd_prefix": "rm(",
     "library": "var_list.r",
     "varRefreshCmd": "cat(var_dic_list()) "
    }
   },
   "types_to_exclude": [
    "module",
    "function",
    "builtin_function_or_method",
    "instance",
    "_Feature"
   ],
   "window_display": false
  }
 },
 "nbformat": 4,
 "nbformat_minor": 1
}
