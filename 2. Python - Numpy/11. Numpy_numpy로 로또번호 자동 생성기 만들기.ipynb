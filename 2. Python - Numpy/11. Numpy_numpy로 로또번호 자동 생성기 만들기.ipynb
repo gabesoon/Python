{
 "cells": [
  {
   "attachments": {},
   "cell_type": "markdown",
   "metadata": {},
   "source": [
    "# 로또 번호 자동 생성기(함수로)를 만드시오\n",
    "  - 로또는 1 ~ 45 사이의 숫자에서 6개를 random으로 뽑는다. (중복 허용X)\n",
    "  - 몬테 카를로 방법을 이용하여 구현할 수 있다."
   ]
  },
  {
   "cell_type": "code",
   "execution_count": 1,
   "metadata": {
    "ExecuteTime": {
     "end_time": "2021-07-14T12:41:06.533598Z",
     "start_time": "2021-07-14T12:41:06.355106Z"
    }
   },
   "outputs": [],
   "source": [
    "import numpy as np"
   ]
  },
  {
   "cell_type": "markdown",
   "metadata": {},
   "source": [
    "```python\n",
    "np.random.choice(list, size 명시, 복원/비복원 옵션)\n",
    "````"
   ]
  },
  {
   "cell_type": "code",
   "execution_count": 2,
   "metadata": {
    "ExecuteTime": {
     "end_time": "2021-07-14T12:41:06.548587Z",
     "start_time": "2021-07-14T12:41:06.536618Z"
    }
   },
   "outputs": [],
   "source": [
    "def generate_lotto_nums():\n",
    "    return np.random.choice(np.arange(1, 46), size=6, replace=False) # 비복원 추출 (중복 X)"
   ]
  },
  {
   "cell_type": "markdown",
   "metadata": {},
   "source": [
    "그냥 함수를 반복하면 비복원이기 때문에 매번 실행할때마다 값이 바뀐다."
   ]
  },
  {
   "cell_type": "code",
   "execution_count": 3,
   "metadata": {
    "ExecuteTime": {
     "end_time": "2021-07-14T12:41:06.578539Z",
     "start_time": "2021-07-14T12:41:06.551548Z"
    }
   },
   "outputs": [
    {
     "data": {
      "text/plain": [
       "array([30, 45, 39,  4,  2, 42])"
      ]
     },
     "execution_count": 3,
     "metadata": {},
     "output_type": "execute_result"
    }
   ],
   "source": [
    "generate_lotto_nums()"
   ]
  },
  {
   "cell_type": "code",
   "execution_count": 4,
   "metadata": {
    "ExecuteTime": {
     "end_time": "2021-07-14T12:41:06.593471Z",
     "start_time": "2021-07-14T12:41:06.580505Z"
    }
   },
   "outputs": [
    {
     "data": {
      "text/plain": [
       "array([25, 35,  6,  3, 17,  5])"
      ]
     },
     "execution_count": 4,
     "metadata": {},
     "output_type": "execute_result"
    }
   ],
   "source": [
    "generate_lotto_nums()"
   ]
  },
  {
   "cell_type": "markdown",
   "metadata": {},
   "source": [
    "복원 추출도 함수 실행시 마다 값이 달라지지만, 동일한 값이 나올 수도 있다. "
   ]
  },
  {
   "cell_type": "code",
   "execution_count": 5,
   "metadata": {
    "ExecuteTime": {
     "end_time": "2021-07-14T12:41:43.412862Z",
     "start_time": "2021-07-14T12:41:43.397909Z"
    }
   },
   "outputs": [],
   "source": [
    "def generate_lotto_nums2():\n",
    "    return np.random.choice(np.arange(1, 46), size=6, replace=True) # 복원 추출 (중복 O)"
   ]
  },
  {
   "cell_type": "code",
   "execution_count": 6,
   "metadata": {
    "ExecuteTime": {
     "end_time": "2021-07-14T12:41:47.829120Z",
     "start_time": "2021-07-14T12:41:47.809174Z"
    }
   },
   "outputs": [
    {
     "data": {
      "text/plain": [
       "array([43, 40, 27, 31, 37, 32])"
      ]
     },
     "execution_count": 6,
     "metadata": {},
     "output_type": "execute_result"
    }
   ],
   "source": [
    "generate_lotto_nums2()"
   ]
  },
  {
   "cell_type": "code",
   "execution_count": 7,
   "metadata": {
    "ExecuteTime": {
     "end_time": "2021-07-14T12:41:50.941834Z",
     "start_time": "2021-07-14T12:41:50.924879Z"
    }
   },
   "outputs": [
    {
     "data": {
      "text/plain": [
       "array([29,  5, 19, 29, 24, 22])"
      ]
     },
     "execution_count": 7,
     "metadata": {},
     "output_type": "execute_result"
    }
   ],
   "source": [
    "generate_lotto_nums2()"
   ]
  }
 ],
 "metadata": {
  "kernelspec": {
   "display_name": "Python 3",
   "language": "python",
   "name": "python3"
  },
  "language_info": {
   "codemirror_mode": {
    "name": "ipython",
    "version": 3
   },
   "file_extension": ".py",
   "mimetype": "text/x-python",
   "name": "python",
   "nbconvert_exporter": "python",
   "pygments_lexer": "ipython3",
   "version": "3.8.5"
  },
  "toc": {
   "base_numbering": 1,
   "nav_menu": {},
   "number_sections": true,
   "sideBar": true,
   "skip_h1_title": false,
   "title_cell": "Table of Contents",
   "title_sidebar": "Contents",
   "toc_cell": false,
   "toc_position": {},
   "toc_section_display": true,
   "toc_window_display": false
  },
  "varInspector": {
   "cols": {
    "lenName": 16,
    "lenType": 16,
    "lenVar": 40
   },
   "kernels_config": {
    "python": {
     "delete_cmd_postfix": "",
     "delete_cmd_prefix": "del ",
     "library": "var_list.py",
     "varRefreshCmd": "print(var_dic_list())"
    },
    "r": {
     "delete_cmd_postfix": ") ",
     "delete_cmd_prefix": "rm(",
     "library": "var_list.r",
     "varRefreshCmd": "cat(var_dic_list()) "
    }
   },
   "types_to_exclude": [
    "module",
    "function",
    "builtin_function_or_method",
    "instance",
    "_Feature"
   ],
   "window_display": false
  }
 },
 "nbformat": 4,
 "nbformat_minor": 1
}
