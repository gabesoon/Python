{
 "cells": [
  {
   "cell_type": "code",
   "execution_count": 1,
   "metadata": {
    "ExecuteTime": {
     "end_time": "2021-07-14T07:32:13.601789Z",
     "start_time": "2021-07-14T07:32:13.421865Z"
    }
   },
   "outputs": [],
   "source": [
    "import numpy as np"
   ]
  },
  {
   "cell_type": "markdown",
   "metadata": {},
   "source": [
    "**numpy documentation**\n",
    " - [numpy 공식 문서 링크](https://www.numpy.org/devdocs/reference/)\n",
    " - numpy에서 제공되는 함수등에 대한 문서"
   ]
  },
  {
   "cell_type": "code",
   "execution_count": 2,
   "metadata": {
    "ExecuteTime": {
     "end_time": "2021-07-14T07:32:13.617296Z",
     "start_time": "2021-07-14T07:32:13.603784Z"
    }
   },
   "outputs": [
    {
     "name": "stdout",
     "output_type": "stream",
     "text": [
      "x:\n",
      " [[ 0  1  2  3  4]\n",
      " [ 5  6  7  8  9]\n",
      " [10 11 12 13 14]] \n",
      "\n",
      "y:\n",
      " [[0.16175123 0.3487249  0.26680599 0.60948813 0.64616021]\n",
      " [0.18404028 0.79156974 0.74045543 0.89539755 0.58879194]\n",
      " [0.83167547 0.2982453  0.98482872 0.09513154 0.7416586 ]]\n"
     ]
    }
   ],
   "source": [
    "# 0 ~ 14 사이의 vector을 3행 5열로 생성\n",
    "x = np.arange(15).reshape(3, 5)\n",
    "\n",
    "# 0 ~ 1 사이의값 15개를 random으로 샘플링해서 3행 5열로 생성\n",
    "y = np.random.rand(15).reshape(3, 5)\n",
    "print(\"x:\\n\",x,\"\\n\")\n",
    "\n",
    "print(\"y:\\n\",y)"
   ]
  },
  {
   "cell_type": "markdown",
   "metadata": {},
   "source": [
    "# 연산 함수\n",
    " - add, substract, multiply, divide"
   ]
  },
  {
   "cell_type": "markdown",
   "metadata": {},
   "source": [
    "## add"
   ]
  },
  {
   "cell_type": "code",
   "execution_count": 3,
   "metadata": {
    "ExecuteTime": {
     "end_time": "2021-07-14T07:32:13.633254Z",
     "start_time": "2021-07-14T07:32:13.619291Z"
    }
   },
   "outputs": [
    {
     "data": {
      "text/plain": [
       "array([[ 0.16175123,  1.3487249 ,  2.26680599,  3.60948813,  4.64616021],\n",
       "       [ 5.18404028,  6.79156974,  7.74045543,  8.89539755,  9.58879194],\n",
       "       [10.83167547, 11.2982453 , 12.98482872, 13.09513154, 14.7416586 ]])"
      ]
     },
     "execution_count": 3,
     "metadata": {},
     "output_type": "execute_result"
    }
   ],
   "source": [
    "# 각 요소의 위치가 동일한 것 끼리 더하기\n",
    "# shape가 다르면 실행되지 않는다.\n",
    "np.add(x, y)"
   ]
  },
  {
   "cell_type": "code",
   "execution_count": 4,
   "metadata": {
    "ExecuteTime": {
     "end_time": "2021-07-14T07:32:13.649217Z",
     "start_time": "2021-07-14T07:32:13.636247Z"
    }
   },
   "outputs": [
    {
     "name": "stdout",
     "output_type": "stream",
     "text": [
      "x의 shape: (3, 5)\n",
      "y의 shape: (3, 5)\n"
     ]
    }
   ],
   "source": [
    "print(\"x의 shape:\", x.shape)\n",
    "print(\"y의 shape:\", y.shape)"
   ]
  },
  {
   "cell_type": "code",
   "execution_count": 5,
   "metadata": {
    "ExecuteTime": {
     "end_time": "2021-07-14T07:32:13.665173Z",
     "start_time": "2021-07-14T07:32:13.651211Z"
    }
   },
   "outputs": [
    {
     "name": "stdout",
     "output_type": "stream",
     "text": [
      "y2의 shape: (4, 4)\n"
     ]
    }
   ],
   "source": [
    "# 4행 4열 배열로 y2 생성\n",
    "y2 = np.random.rand(16).reshape(4, -1)\n",
    "print(\"y2의 shape:\", y2.shape)"
   ]
  },
  {
   "cell_type": "code",
   "execution_count": 6,
   "metadata": {
    "ExecuteTime": {
     "end_time": "2021-07-14T07:32:13.926763Z",
     "start_time": "2021-07-14T07:32:13.667170Z"
    }
   },
   "outputs": [
    {
     "ename": "ValueError",
     "evalue": "operands could not be broadcast together with shapes (3,5) (4,4) ",
     "output_type": "error",
     "traceback": [
      "\u001b[1;31m---------------------------------------------------------------------------\u001b[0m",
      "\u001b[1;31mValueError\u001b[0m                                Traceback (most recent call last)",
      "\u001b[1;32m<ipython-input-6-a29274919e1a>\u001b[0m in \u001b[0;36m<module>\u001b[1;34m\u001b[0m\n\u001b[0;32m      1\u001b[0m \u001b[1;31m# shape가 다르면 실행되지 않는다.\u001b[0m\u001b[1;33m\u001b[0m\u001b[1;33m\u001b[0m\u001b[1;33m\u001b[0m\u001b[0m\n\u001b[1;32m----> 2\u001b[1;33m \u001b[0mnp\u001b[0m\u001b[1;33m.\u001b[0m\u001b[0madd\u001b[0m\u001b[1;33m(\u001b[0m\u001b[0mx\u001b[0m\u001b[1;33m,\u001b[0m \u001b[0my2\u001b[0m\u001b[1;33m)\u001b[0m\u001b[1;33m\u001b[0m\u001b[1;33m\u001b[0m\u001b[0m\n\u001b[0m",
      "\u001b[1;31mValueError\u001b[0m: operands could not be broadcast together with shapes (3,5) (4,4) "
     ]
    }
   ],
   "source": [
    "# shape가 다르면 실행되지 않는다.\n",
    "np.add(x, y2)"
   ]
  },
  {
   "cell_type": "markdown",
   "metadata": {},
   "source": [
    "## divide"
   ]
  },
  {
   "cell_type": "code",
   "execution_count": 7,
   "metadata": {
    "ExecuteTime": {
     "end_time": "2021-07-14T07:32:22.372541Z",
     "start_time": "2021-07-14T07:32:22.360573Z"
    }
   },
   "outputs": [
    {
     "data": {
      "text/plain": [
       "array([[  0.        ,   2.86758987,   7.49608367,   4.92216316,\n",
       "          6.19041522],\n",
       "       [ 27.16796518,   7.57987544,   9.45364124,   8.93457882,\n",
       "         15.28553538],\n",
       "       [ 12.0239208 ,  36.88239208,  12.18485987, 136.65289094,\n",
       "         18.87660969]])"
      ]
     },
     "execution_count": 7,
     "metadata": {},
     "output_type": "execute_result"
    }
   ],
   "source": [
    "np.divide(x, y)"
   ]
  },
  {
   "cell_type": "markdown",
   "metadata": {},
   "source": [
    "**사칙연산자를 통해서도 가능하다.**\n",
    "- 더 보편적인 방법 (굳이 함수를 사용하지 않는다.)"
   ]
  },
  {
   "cell_type": "code",
   "execution_count": 8,
   "metadata": {
    "ExecuteTime": {
     "end_time": "2021-07-14T07:32:22.388497Z",
     "start_time": "2021-07-14T07:32:22.375502Z"
    }
   },
   "outputs": [
    {
     "data": {
      "text/plain": [
       "array([[ 0.16175123,  1.3487249 ,  2.26680599,  3.60948813,  4.64616021],\n",
       "       [ 5.18404028,  6.79156974,  7.74045543,  8.89539755,  9.58879194],\n",
       "       [10.83167547, 11.2982453 , 12.98482872, 13.09513154, 14.7416586 ]])"
      ]
     },
     "execution_count": 8,
     "metadata": {},
     "output_type": "execute_result"
    }
   ],
   "source": [
    "x + y"
   ]
  },
  {
   "cell_type": "code",
   "execution_count": 9,
   "metadata": {
    "ExecuteTime": {
     "end_time": "2021-07-14T07:32:22.403425Z",
     "start_time": "2021-07-14T07:32:22.391458Z"
    }
   },
   "outputs": [
    {
     "data": {
      "text/plain": [
       "array([[  0.        ,   2.86758987,   7.49608367,   4.92216316,\n",
       "          6.19041522],\n",
       "       [ 27.16796518,   7.57987544,   9.45364124,   8.93457882,\n",
       "         15.28553538],\n",
       "       [ 12.0239208 ,  36.88239208,  12.18485987, 136.65289094,\n",
       "         18.87660969]])"
      ]
     },
     "execution_count": 9,
     "metadata": {},
     "output_type": "execute_result"
    }
   ],
   "source": [
    "x / y"
   ]
  },
  {
   "cell_type": "markdown",
   "metadata": {},
   "source": [
    "# 통계 함수\n",
    " - 평균, 분산, 중앙, 최대, 최소값 등등 통계 관련된 함수가 내장"
   ]
  },
  {
   "cell_type": "code",
   "execution_count": 10,
   "metadata": {
    "ExecuteTime": {
     "end_time": "2021-07-14T07:32:22.418384Z",
     "start_time": "2021-07-14T07:32:22.406418Z"
    }
   },
   "outputs": [
    {
     "name": "stdout",
     "output_type": "stream",
     "text": [
      "y:\n",
      " [[0.16175123 0.3487249  0.26680599 0.60948813 0.64616021]\n",
      " [0.18404028 0.79156974 0.74045543 0.89539755 0.58879194]\n",
      " [0.83167547 0.2982453  0.98482872 0.09513154 0.7416586 ]]\n"
     ]
    }
   ],
   "source": [
    "print(\"y:\\n\",y)"
   ]
  },
  {
   "cell_type": "markdown",
   "metadata": {},
   "source": [
    "## 평균"
   ]
  },
  {
   "cell_type": "code",
   "execution_count": 11,
   "metadata": {
    "ExecuteTime": {
     "end_time": "2021-07-14T07:32:22.433345Z",
     "start_time": "2021-07-14T07:32:22.421378Z"
    }
   },
   "outputs": [
    {
     "data": {
      "text/plain": [
       "0.5456483356147267"
      ]
     },
     "execution_count": 11,
     "metadata": {},
     "output_type": "execute_result"
    }
   ],
   "source": [
    "np.mean(y)"
   ]
  },
  {
   "cell_type": "code",
   "execution_count": 12,
   "metadata": {
    "ExecuteTime": {
     "end_time": "2021-07-14T07:32:22.448305Z",
     "start_time": "2021-07-14T07:32:22.436338Z"
    }
   },
   "outputs": [
    {
     "data": {
      "text/plain": [
       "0.5456483356147267"
      ]
     },
     "execution_count": 12,
     "metadata": {},
     "output_type": "execute_result"
    }
   ],
   "source": [
    "y.mean()"
   ]
  },
  {
   "cell_type": "markdown",
   "metadata": {},
   "source": [
    "## 최대값"
   ]
  },
  {
   "cell_type": "code",
   "execution_count": 13,
   "metadata": {
    "ExecuteTime": {
     "end_time": "2021-07-14T07:32:22.463444Z",
     "start_time": "2021-07-14T07:32:22.450300Z"
    }
   },
   "outputs": [
    {
     "data": {
      "text/plain": [
       "0.9848287238775228"
      ]
     },
     "execution_count": 13,
     "metadata": {},
     "output_type": "execute_result"
    }
   ],
   "source": [
    "np.max(y)"
   ]
  },
  {
   "cell_type": "markdown",
   "metadata": {},
   "source": [
    "### 최대값의 index를 가져오기\n",
    "- flatten한 상태라 가정하고 최대값이 있는 index를 가져온다."
   ]
  },
  {
   "cell_type": "code",
   "execution_count": 14,
   "metadata": {
    "ExecuteTime": {
     "end_time": "2021-07-14T07:32:22.478453Z",
     "start_time": "2021-07-14T07:32:22.468430Z"
    }
   },
   "outputs": [
    {
     "data": {
      "text/plain": [
       "12"
      ]
     },
     "execution_count": 14,
     "metadata": {},
     "output_type": "execute_result"
    }
   ],
   "source": [
    "np.argmax(y)"
   ]
  },
  {
   "cell_type": "markdown",
   "metadata": {},
   "source": [
    "## 분산"
   ]
  },
  {
   "cell_type": "code",
   "execution_count": 15,
   "metadata": {
    "ExecuteTime": {
     "end_time": "2021-07-14T07:32:22.493400Z",
     "start_time": "2021-07-14T07:32:22.481432Z"
    }
   },
   "outputs": [
    {
     "data": {
      "text/plain": [
       "0.0805830034326692"
      ]
     },
     "execution_count": 15,
     "metadata": {},
     "output_type": "execute_result"
    }
   ],
   "source": [
    "np.var(y)"
   ]
  },
  {
   "cell_type": "markdown",
   "metadata": {},
   "source": [
    "## 중앙값"
   ]
  },
  {
   "cell_type": "code",
   "execution_count": 16,
   "metadata": {
    "ExecuteTime": {
     "end_time": "2021-07-14T07:32:22.508272Z",
     "start_time": "2021-07-14T07:32:22.495395Z"
    }
   },
   "outputs": [
    {
     "data": {
      "text/plain": [
       "0.609488126035035"
      ]
     },
     "execution_count": 16,
     "metadata": {},
     "output_type": "execute_result"
    }
   ],
   "source": [
    "np.median(y)"
   ]
  },
  {
   "cell_type": "markdown",
   "metadata": {},
   "source": [
    "## 표준편차"
   ]
  },
  {
   "cell_type": "code",
   "execution_count": 17,
   "metadata": {
    "ExecuteTime": {
     "end_time": "2021-07-14T07:32:22.523204Z",
     "start_time": "2021-07-14T07:32:22.511236Z"
    }
   },
   "outputs": [
    {
     "data": {
      "text/plain": [
       "0.28387145582581774"
      ]
     },
     "execution_count": 17,
     "metadata": {},
     "output_type": "execute_result"
    }
   ],
   "source": [
    "np.std(y)"
   ]
  },
  {
   "cell_type": "markdown",
   "metadata": {},
   "source": [
    "# 집계함수\n",
    " - 합계(sum), 누적합계(cumsum) 등등 계산 가능"
   ]
  },
  {
   "cell_type": "code",
   "execution_count": 18,
   "metadata": {
    "ExecuteTime": {
     "end_time": "2021-07-14T07:32:22.538158Z",
     "start_time": "2021-07-14T07:32:22.526196Z"
    }
   },
   "outputs": [
    {
     "name": "stdout",
     "output_type": "stream",
     "text": [
      "y:\n",
      " [[0.16175123 0.3487249  0.26680599 0.60948813 0.64616021]\n",
      " [0.18404028 0.79156974 0.74045543 0.89539755 0.58879194]\n",
      " [0.83167547 0.2982453  0.98482872 0.09513154 0.7416586 ]]\n"
     ]
    }
   ],
   "source": [
    "print(\"y:\\n\",y)"
   ]
  },
  {
   "cell_type": "markdown",
   "metadata": {},
   "source": [
    "## sum"
   ]
  },
  {
   "cell_type": "code",
   "execution_count": 19,
   "metadata": {
    "ExecuteTime": {
     "end_time": "2021-07-14T07:32:22.553967Z",
     "start_time": "2021-07-14T07:32:22.540153Z"
    }
   },
   "outputs": [
    {
     "data": {
      "text/plain": [
       "array([1.17746699, 1.43853994, 1.99209014, 1.60001722, 1.97661075])"
      ]
     },
     "execution_count": 19,
     "metadata": {},
     "output_type": "execute_result"
    }
   ],
   "source": [
    "# 각 행의 동일 열끼리의 합\n",
    "# column wise\n",
    "sum(y)"
   ]
  },
  {
   "cell_type": "code",
   "execution_count": 20,
   "metadata": {
    "ExecuteTime": {
     "end_time": "2021-07-14T07:32:22.568928Z",
     "start_time": "2021-07-14T07:32:22.556960Z"
    }
   },
   "outputs": [
    {
     "data": {
      "text/plain": [
       "8.1847250342209"
      ]
     },
     "execution_count": 20,
     "metadata": {},
     "output_type": "execute_result"
    }
   ],
   "source": [
    "# 어떤 axis를 기준으로 sum할지 선택할 수 있다.\n",
    "# default 는 axis = None -> 모든 요소 전체의 합\n",
    "np.sum(y, axis=None)"
   ]
  },
  {
   "cell_type": "code",
   "execution_count": 21,
   "metadata": {
    "ExecuteTime": {
     "end_time": "2021-07-14T07:32:22.584885Z",
     "start_time": "2021-07-14T07:32:22.571920Z"
    }
   },
   "outputs": [
    {
     "data": {
      "text/plain": [
       "array([1.17746699, 1.43853994, 1.99209014, 1.60001722, 1.97661075])"
      ]
     },
     "execution_count": 21,
     "metadata": {},
     "output_type": "execute_result"
    }
   ],
   "source": [
    "# axis=0은 행\n",
    "# axis=1은 열\n",
    "np.sum(y, axis=0)"
   ]
  },
  {
   "cell_type": "code",
   "execution_count": 22,
   "metadata": {
    "ExecuteTime": {
     "end_time": "2021-07-14T07:32:22.599844Z",
     "start_time": "2021-07-14T07:32:22.587877Z"
    }
   },
   "outputs": [
    {
     "data": {
      "text/plain": [
       "array([2.03293046, 3.20025494, 2.95153964])"
      ]
     },
     "execution_count": 22,
     "metadata": {},
     "output_type": "execute_result"
    }
   ],
   "source": [
    "np.sum(y, axis=1)"
   ]
  },
  {
   "cell_type": "markdown",
   "metadata": {},
   "source": [
    "## cusum (누적 합계)\n",
    "- 0번째는 기존 y의 0번째 값, 2번째부터는 0번째 + 1번째 원소의 값, 3번째는 누적된 합계 + 3번째 원소의 값... \n",
    "- 와 같이 누적된 합이 출력된다.\n",
    "- 그래프 등을 그릴때 활용하면 유용하다."
   ]
  },
  {
   "cell_type": "code",
   "execution_count": 23,
   "metadata": {
    "ExecuteTime": {
     "end_time": "2021-07-14T07:32:22.614629Z",
     "start_time": "2021-07-14T07:32:22.602837Z"
    }
   },
   "outputs": [
    {
     "data": {
      "text/plain": [
       "array([0.16175123, 0.51047613, 0.77728212, 1.38677025, 2.03293046,\n",
       "       2.21697074, 3.00854048, 3.74899591, 4.64439346, 5.2331854 ,\n",
       "       6.06486087, 6.36310617, 7.34793489, 7.44306643, 8.18472503])"
      ]
     },
     "execution_count": 23,
     "metadata": {},
     "output_type": "execute_result"
    }
   ],
   "source": [
    "np.cumsum(y)"
   ]
  },
  {
   "cell_type": "markdown",
   "metadata": {},
   "source": [
    "# any, all 함수 (boolean)\n",
    " - any: 특정 조건을 만족하는 것이 하나라도 있으면 True, 아니면 False\n",
    " - all: 모든 원소가 특정 조건을 만족한다면 True, 아니면 False"
   ]
  },
  {
   "cell_type": "code",
   "execution_count": 24,
   "metadata": {
    "ExecuteTime": {
     "end_time": "2021-07-14T07:32:22.630242Z",
     "start_time": "2021-07-14T07:32:22.617622Z"
    }
   },
   "outputs": [
    {
     "name": "stdout",
     "output_type": "stream",
     "text": [
      "z:\n",
      " [ 1.25430066  1.21295833  0.36602086  0.17307094  0.34133644 -0.23219253\n",
      " -0.31665163 -1.89797211  0.58453488  0.79754151]\n"
     ]
    }
   ],
   "source": [
    "z = np.random.randn(10)\n",
    "print(\"z:\\n\",z)"
   ]
  },
  {
   "cell_type": "code",
   "execution_count": 25,
   "metadata": {
    "ExecuteTime": {
     "end_time": "2021-07-14T07:32:22.645201Z",
     "start_time": "2021-07-14T07:32:22.632236Z"
    }
   },
   "outputs": [
    {
     "data": {
      "text/plain": [
       "array([ True,  True,  True,  True,  True, False, False, False,  True,\n",
       "        True])"
      ]
     },
     "execution_count": 25,
     "metadata": {},
     "output_type": "execute_result"
    }
   ],
   "source": [
    "z > 0"
   ]
  },
  {
   "cell_type": "code",
   "execution_count": 26,
   "metadata": {
    "ExecuteTime": {
     "end_time": "2021-07-14T07:32:22.660160Z",
     "start_time": "2021-07-14T07:32:22.647196Z"
    }
   },
   "outputs": [
    {
     "data": {
      "text/plain": [
       "True"
      ]
     },
     "execution_count": 26,
     "metadata": {},
     "output_type": "execute_result"
    }
   ],
   "source": [
    "# 모든 z의 원소중 0이상인 값이 1개라도 있으면 True\n",
    "np.any(z > 0)"
   ]
  },
  {
   "cell_type": "code",
   "execution_count": 27,
   "metadata": {
    "ExecuteTime": {
     "end_time": "2021-07-14T07:32:22.675120Z",
     "start_time": "2021-07-14T07:32:22.662156Z"
    }
   },
   "outputs": [
    {
     "data": {
      "text/plain": [
       "True"
      ]
     },
     "execution_count": 27,
     "metadata": {},
     "output_type": "execute_result"
    }
   ],
   "source": [
    "# 모든 z의 원소가 0이 아니면 True\n",
    "np.all(z != 0)"
   ]
  },
  {
   "cell_type": "code",
   "execution_count": 28,
   "metadata": {
    "ExecuteTime": {
     "end_time": "2021-07-14T07:32:22.690086Z",
     "start_time": "2021-07-14T07:32:22.678118Z"
    }
   },
   "outputs": [
    {
     "ename": "TypeError",
     "evalue": "_all_dispatcher() got an unexpected keyword argument 'z'",
     "output_type": "error",
     "traceback": [
      "\u001b[1;31m---------------------------------------------------------------------------\u001b[0m",
      "\u001b[1;31mTypeError\u001b[0m                                 Traceback (most recent call last)",
      "\u001b[1;32m<ipython-input-28-78e238fdc382>\u001b[0m in \u001b[0;36m<module>\u001b[1;34m\u001b[0m\n\u001b[1;32m----> 1\u001b[1;33m \u001b[0mnp\u001b[0m\u001b[1;33m.\u001b[0m\u001b[0mall\u001b[0m\u001b[1;33m(\u001b[0m\u001b[0mz\u001b[0m \u001b[1;33m=\u001b[0m \u001b[1;36m0\u001b[0m\u001b[1;33m)\u001b[0m\u001b[1;33m\u001b[0m\u001b[1;33m\u001b[0m\u001b[0m\n\u001b[0m",
      "\u001b[1;32m<__array_function__ internals>\u001b[0m in \u001b[0;36mall\u001b[1;34m(*args, **kwargs)\u001b[0m\n",
      "\u001b[1;31mTypeError\u001b[0m: _all_dispatcher() got an unexpected keyword argument 'z'"
     ]
    }
   ],
   "source": [
    "np.all(z = 0)"
   ]
  },
  {
   "cell_type": "markdown",
   "metadata": {},
   "source": [
    "# where 함수\n",
    " - 조건에 따라 선별적으로 값을 선택 가능\n",
    " - e.g) 음수인경우는 0, 나머지는 그대로 값을 쓰는 경우\n",
    " ```python\n",
    "np.where(조건, True일 경우 적용될 값, False일 경우 적용될 값)\n",
    "```"
   ]
  },
  {
   "cell_type": "code",
   "execution_count": 29,
   "metadata": {
    "ExecuteTime": {
     "end_time": "2021-07-14T07:32:26.600705Z",
     "start_time": "2021-07-14T07:32:26.591871Z"
    }
   },
   "outputs": [
    {
     "name": "stdout",
     "output_type": "stream",
     "text": [
      "z:\n",
      " [-0.27439924 -0.23866981  1.08032903  0.53438082  1.12337136  0.51202734\n",
      " -0.18358531 -0.89482512  0.53332028 -0.36827687]\n"
     ]
    }
   ],
   "source": [
    "z = np.random.randn(10)\n",
    "print(\"z:\\n\",z)"
   ]
  },
  {
   "cell_type": "code",
   "execution_count": 30,
   "metadata": {
    "ExecuteTime": {
     "end_time": "2021-07-14T07:32:26.615694Z",
     "start_time": "2021-07-14T07:32:26.603728Z"
    }
   },
   "outputs": [
    {
     "data": {
      "text/plain": [
       "array([0.        , 0.        , 1.08032903, 0.53438082, 1.12337136,\n",
       "       0.51202734, 0.        , 0.        , 0.53332028, 0.        ])"
      ]
     },
     "execution_count": 30,
     "metadata": {},
     "output_type": "execute_result"
    }
   ],
   "source": [
    "# 각 원소가 0보다 크다면 생성한 z값을 그대로 사용, 아닌 경우 해당값을 0으로 변경\n",
    "np.where(z > 0, z, 0)"
   ]
  },
  {
   "cell_type": "markdown",
   "metadata": {},
   "source": [
    "**조건문이나 loop를 사용하지 않아도 효율적으로 값의 변경등이 가능하다.**"
   ]
  }
 ],
 "metadata": {
  "kernelspec": {
   "display_name": "Python 3",
   "language": "python",
   "name": "python3"
  },
  "language_info": {
   "codemirror_mode": {
    "name": "ipython",
    "version": 3
   },
   "file_extension": ".py",
   "mimetype": "text/x-python",
   "name": "python",
   "nbconvert_exporter": "python",
   "pygments_lexer": "ipython3",
   "version": "3.8.5"
  },
  "toc": {
   "base_numbering": 1,
   "nav_menu": {},
   "number_sections": true,
   "sideBar": true,
   "skip_h1_title": false,
   "title_cell": "Table of Contents",
   "title_sidebar": "Contents",
   "toc_cell": false,
   "toc_position": {},
   "toc_section_display": true,
   "toc_window_display": true
  },
  "varInspector": {
   "cols": {
    "lenName": 16,
    "lenType": 16,
    "lenVar": 40
   },
   "kernels_config": {
    "python": {
     "delete_cmd_postfix": "",
     "delete_cmd_prefix": "del ",
     "library": "var_list.py",
     "varRefreshCmd": "print(var_dic_list())"
    },
    "r": {
     "delete_cmd_postfix": ") ",
     "delete_cmd_prefix": "rm(",
     "library": "var_list.r",
     "varRefreshCmd": "cat(var_dic_list()) "
    }
   },
   "types_to_exclude": [
    "module",
    "function",
    "builtin_function_or_method",
    "instance",
    "_Feature"
   ],
   "window_display": false
  }
 },
 "nbformat": 4,
 "nbformat_minor": 1
}
